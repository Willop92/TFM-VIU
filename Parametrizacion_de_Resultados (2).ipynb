{
  "cells": [
    {
      "cell_type": "markdown",
      "metadata": {
        "id": "rOvvWAVTkMR7"
      },
      "source": [
        "# Eager Few Shot Object Detection Colab\n",
        "\n",
        "Welcome to the Eager Few Shot Object Detection Colab --- in this colab we demonstrate fine tuning of a (TF2 friendly) RetinaNet architecture on very few examples of a novel class after initializing from a pre-trained COCO checkpoint.\n",
        "Training runs in eager mode.\n",
        "\n",
        "Estimated time to run through this colab (with GPU): < 5 minutes."
      ]
    },
    {
      "cell_type": "markdown",
      "metadata": {
        "id": "vPs64QA1Zdov"
      },
      "source": [
        "## Imports"
      ]
    },
    {
      "cell_type": "code",
      "execution_count": null,
      "metadata": {
        "id": "LBZ9VWZZFUCT"
      },
      "outputs": [],
      "source": [
        "!pip install -U --pre tensorflow==\"2.2.0\""
      ]
    },
    {
      "cell_type": "code",
      "execution_count": null,
      "metadata": {
        "id": "oi28cqGGFWnY"
      },
      "outputs": [],
      "source": [
        "import os\n",
        "import pathlib\n",
        "\n",
        "# Clone the tensorflow models repository if it doesn't already exist\n",
        "if \"models\" in pathlib.Path.cwd().parts:\n",
        "  while \"models\" in pathlib.Path.cwd().parts:\n",
        "    os.chdir('..')\n",
        "elif not pathlib.Path('models').exists():\n",
        "  !git clone --depth 1 https://github.com/tensorflow/models"
      ]
    },
    {
      "cell_type": "code",
      "execution_count": null,
      "metadata": {
        "id": "JgwQ9DpXpsoq"
      },
      "outputs": [],
      "source": [
        "pip install PyYAML==\"5.1\"\n"
      ]
    },
    {
      "cell_type": "code",
      "execution_count": null,
      "metadata": {
        "id": "OX7fYGiYruMK"
      },
      "outputs": [],
      "source": [
        "pip install pillow==\"9.5\""
      ]
    },
    {
      "cell_type": "code",
      "execution_count": null,
      "metadata": {
        "id": "NwdsBdGhFanc"
      },
      "outputs": [],
      "source": [
        "# Install the Object Detection API\n",
        "%%bash\n",
        "cd models/research/\n",
        "protoc object_detection/protos/*.proto --python_out=.\n",
        "cp object_detection/packages/tf2/setup.py .\n",
        "python -m pip install ."
      ]
    },
    {
      "cell_type": "code",
      "execution_count": null,
      "metadata": {
        "id": "uZcqD4NLdnf4"
      },
      "outputs": [],
      "source": [
        "import matplotlib\n",
        "import matplotlib.pyplot as plt\n",
        "\n",
        "\n",
        "import os\n",
        "import random\n",
        "import io\n",
        "import imageio\n",
        "import glob\n",
        "import pandas as pd\n",
        "import scipy.misc\n",
        "import numpy as np\n",
        "from six import BytesIO\n",
        "from PIL import Image, ImageDraw, ImageFont\n",
        "from IPython.display import display, Javascript\n",
        "from IPython.display import Image as IPyImage\n",
        "\n",
        "import matplotlib\n",
        "import matplotlib.pyplot as plt\n",
        "\n",
        "import cv2\n",
        "import os\n",
        "import random\n",
        "import io\n",
        "import imageio\n",
        "import glob\n",
        "import scipy.misc\n",
        "import numpy as np\n",
        "from six import BytesIO\n",
        "from PIL import Image, ImageDraw, ImageFont\n",
        "from IPython.display import display, Javascript\n",
        "from IPython.display import Image as IPyImage\n",
        "import PIL.ImageOps\n",
        "import tensorflow as tf\n",
        "\n",
        "import os\n",
        "import numpy as np\n",
        "import pandas as pd\n",
        "from os import path\n",
        "import matplotlib.patches as patches\n",
        "import matplotlib.pylab as plt\n",
        "from PIL import Image\n",
        "\n",
        "\n",
        "from object_detection.utils import label_map_util\n",
        "from object_detection.utils import config_util\n",
        "from object_detection.utils import visualization_utils as viz_utils\n",
        "from object_detection.utils import colab_utils\n",
        "from object_detection.builders import model_builder\n",
        "\n",
        "%matplotlib inline"
      ]
    },
    {
      "cell_type": "markdown",
      "metadata": {
        "id": "IogyryF2lFBL"
      },
      "source": [
        "# Utilities"
      ]
    },
    {
      "cell_type": "code",
      "execution_count": null,
      "metadata": {
        "id": "-y9R0Xllefec"
      },
      "outputs": [],
      "source": [
        "def load_image_into_numpy_array(path):\n",
        "  \"\"\"Load an image from file into a numpy array.\n",
        "\n",
        "  Puts image into numpy array to feed into tensorflow graph.\n",
        "  Note that by convention we put it into a numpy array with shape\n",
        "  (height, width, channels), where channels=3 for RGB.\n",
        "\n",
        "  Args:\n",
        "    path: a file path.\n",
        "\n",
        "  Returns:\n",
        "    uint8 numpy array with shape (img_height, img_width, 3)\n",
        "  \"\"\"\n",
        "  img_data = tf.io.gfile.GFile(path, 'rb').read()\n",
        "  image = Image.open(BytesIO(img_data))\n",
        "  (im_width, im_height) = image.size\n",
        "  return np.array(image.getdata()).reshape(\n",
        "      (im_height, im_width, 3)).astype(np.uint8)\n",
        "\n",
        "def load_image_into_numpy_array(path,color=1):\n",
        "  \"\"\"Load an image from file into a numpy array.\n",
        "\n",
        "  Puts image into numpy array to feed into tensorflow graph.\n",
        "  Note that by convention we put it into a numpy array with shape\n",
        "  (height, width, channels), where channels=3 for RGB.\n",
        "\n",
        "  Args:\n",
        "    path: a file path.\n",
        "\n",
        "  Returns:\n",
        "    uint8 numpy array with shape (img_height, img_width, 3)\n",
        "  \"\"\"\n",
        "  img_data = tf.io.gfile.GFile(path, 'rb').read()\n",
        "  image = Image.open(BytesIO(img_data))\n",
        "  (im_width, im_height) = image.size\n",
        "  return np.array(image.getdata().convert('RGB')).reshape(\n",
        "      (im_height, im_width,3)).astype(np.uint8)\n",
        "\n",
        "\n",
        "def plot_detections(image_np,\n",
        "                    boxes,\n",
        "                    classes,\n",
        "                    scores,\n",
        "                    category_index,\n",
        "                    figsize=(12, 16),\n",
        "                    image_name=None,\n",
        "                    min_score_thresh=0.8):\n",
        "  \"\"\"Wrapper function to visualize detections.\n",
        "\n",
        "  Args:\n",
        "    image_np: uint8 numpy array with shape (img_height, img_width, 3)\n",
        "    boxes: a numpy array of shape [N, 4]\n",
        "    classes: a numpy array of shape [N]. Note that class indices are 1-based,\n",
        "      and match the keys in the label map.\n",
        "    scores: a numpy array of shape [N] or None.  If scores=None, then\n",
        "      this function assumes that the boxes to be plotted are groundtruth\n",
        "      boxes and plot all boxes as black with no classes or scores.\n",
        "    category_index: a dict containing category dictionaries (each holding\n",
        "      category index `id` and category name `name`) keyed by category indices.\n",
        "    figsize: size for the figure.\n",
        "    image_name: a name for the image file.\n",
        "  \"\"\"\n",
        "  image_np_with_annotations = image_np.copy()\n",
        "  viz_utils.visualize_boxes_and_labels_on_image_array(\n",
        "      image_np_with_annotations,\n",
        "      boxes,\n",
        "      classes,\n",
        "      scores,\n",
        "      category_index,\n",
        "      use_normalized_coordinates=True,\n",
        "      min_score_thresh=min_score_thresh)\n",
        "  if image_name:\n",
        "    plt.imsave(image_name, image_np_with_annotations)\n",
        "  else:\n",
        "    plt.imshow(image_np_with_annotations)\n"
      ]
    },
    {
      "cell_type": "code",
      "execution_count": null,
      "metadata": {
        "id": "lpHEdINw_cJA"
      },
      "outputs": [],
      "source": [
        "from google.colab import drive\n",
        "drive.mount('/content/drive')"
      ]
    },
    {
      "cell_type": "markdown",
      "metadata": {
        "id": "wTP9AFqecUgS"
      },
      "source": [
        "# Cargar datos para entrenamiento."
      ]
    },
    {
      "cell_type": "code",
      "execution_count": null,
      "metadata": {
        "id": "QR-n9dqhOFeQ"
      },
      "outputs": [],
      "source": []
    },
    {
      "cell_type": "code",
      "execution_count": null,
      "metadata": {
        "id": "VJrh5v55N-V8"
      },
      "outputs": [],
      "source": [
        "def Cargar_imagen(Name,Path):\n",
        "  img=cv2.imread(os.path.join(Path, Name+\".jpg\"))\n",
        "  img=cv2.cvtColor(img, cv2.COLOR_BGR2RGB)\n",
        "  return(img)"
      ]
    },
    {
      "cell_type": "code",
      "execution_count": null,
      "metadata": {
        "id": "wIAT6ZUmdHOC"
      },
      "outputs": [],
      "source": [
        "# Graficar(img,pd.DataFrame(Data,columns=[\"Xmin\",\"Ymin\",\"Xmax\",\"Ymax\"]))\n",
        "def Graficar(img,df,MODEL):\n",
        "\n",
        "  # Imagen Principal\n",
        "  plt.clf()\n",
        "  fig, ax = plt.subplots()\n",
        "  final_image = Image.fromarray(img)\n",
        "  # Impresión con escala para mejor visualizacion\n",
        "  fig.set_size_inches(10, 10, forward=True)\n",
        "  ax.imshow(final_image, cmap='gray', vmin=0, vmax=255)\n",
        "  #\n",
        "  #dibujar puntos de enfermedad\n",
        "  img_height,img_width=np.array(img).shape[0],np.array(img).shape[1]\n",
        "  # print(img_height,img_height)\n",
        "  if (MODEL==\"O\"):\n",
        "    for i in df.index:\n",
        "        # Create a Rectangle patch\n",
        "          xcenter= int((float(df[\"Xcenter\"][i])*img_width))\n",
        "          ycenter= int((float(df[\"Ycenter\"][i])*img_height))\n",
        "          Width= int((float(df[\"Width\"][i])*img_width))\n",
        "          Height= int((float(df[\"Height\"][i])*img_height))\n",
        "          xmin = int(xcenter - (Width/2))\n",
        "          ymin = int(ycenter - (Height/2))\n",
        "  #     Ver Imagen con Restricciones\n",
        "          rect = patches.Rectangle((xmin,ymin), int(Width), int(Height), linewidth=2, edgecolor='r', facecolor='none')\n",
        "          plt.text(xmin, ymin,str(i))\n",
        "          ax.add_patch(rect)\n",
        "    plt.savefig('O.png')\n",
        "\n",
        "  if (MODEL==\"Y\"):\n",
        "    for i in df.index:#\"Class\",\"Xcenter\",\"Ycenter\",\"Width\",\"Height\",\"Score\"\n",
        "          # Create a Rectangle patch\n",
        "          xcenter= int((float(df[\"Xcenter\"][i])*img_width))\n",
        "          ycenter= int((float(df[\"Ycenter\"][i])*img_height))\n",
        "          Width= int((float(df[\"Width\"][i])*img_width))\n",
        "          Height= int((float(df[\"Height\"][i])*img_height))\n",
        "          xmin = int(xcenter - (Width/2))\n",
        "          ymin = int(ycenter - (Height/2))\n",
        "          print(xmin,ymin,Width,Height)\n",
        "    #     Ver Imagen con Restricciones\n",
        "          rect = patches.Rectangle((xmin,ymin), int(Width), int(Height), linewidth=2, edgecolor='r', facecolor='none')\n",
        "          plt.text(xmin, ymin,str(i))\n",
        "          ax.add_patch(rect)\n",
        "    plt.savefig('Y.png')\n",
        "\n",
        "  if (MODEL==\"R\"):\n",
        "    for i in df.index:\n",
        "        # Create a Rectangle patch\n",
        "        xmin= int((float(df[\"Xmin\"][i])*img_width))\n",
        "        ymin= int((float(df[\"Ymin\"][i])*img_height))\n",
        "        xmax= int((float(df[\"Xmax\"][i])*img_width))\n",
        "        ymax= int((float(df[\"Ymax\"][i])*img_height))\n",
        "        Width = xmax-xmin\n",
        "        Height= ymax-ymin\n",
        "        print(xmin,ymin,Width,Height)\n",
        "  #     Ver Imagen con Restricciones\n",
        "        rect = patches.Rectangle((xmin,ymin), int(Width), int(Height), linewidth=2, edgecolor='r', facecolor='none')\n",
        "        plt.text(xmin, ymin,str(i))\n",
        "        ax.add_patch(rect)\n",
        "    plt.savefig('R.png')\n",
        "  plt.show()"
      ]
    },
    {
      "cell_type": "code",
      "execution_count": null,
      "metadata": {
        "id": "jubJwfuhDJqR"
      },
      "outputs": [],
      "source": [
        "def Generador_data(Name,path,MODEL):\n",
        "  DF=[]\n",
        "\n",
        "  with open(path+Name+\".txt\", 'r') as txt_file:\n",
        "    df=txt_file.read()\n",
        "  # print(df)\n",
        "  df2=df.split(\"\\n\")\n",
        "  # print(df2)\n",
        "  for i in range(len(df2)):\n",
        "    df3 = df2[i].split(\" \")\n",
        "    if (df3!=[]):\n",
        "      DF.append(df3)\n",
        "  DF.pop(-1)\n",
        "  # print(DF)\n",
        "  # print(len(DF))\n",
        "  if MODEL==\"O\":\n",
        "    Data=pd.DataFrame(DF,columns=[\"Class\",\"Xcenter\",\"Ycenter\",\"Width\",\"Height\"])\n",
        "  if MODEL==\"Y\":\n",
        "    Data=pd.DataFrame(DF,columns=[\"Class\",\"Xcenter\",\"Ycenter\",\"Width\",\"Height\",\"Score\"])\n",
        "  if MODEL==\"R\":\n",
        "    Data=pd.DataFrame(DF,columns=[\"Class\",\"Ymin\",\"Xmin\",\"Ymax\",\"Xmax\",\"Score\"])\n",
        "  Data = Data.drop([\"Class\"], axis=1)\n",
        "  return(Data)\n"
      ]
    },
    {
      "cell_type": "code",
      "execution_count": null,
      "metadata": {
        "id": "wKyZX6BoUi5X"
      },
      "outputs": [],
      "source": [
        "BASE_FOLDER=\"/content/drive/MyDrive/Trabajo_final_VIU/YOLOV8/Dataset/test/\"\n",
        "Lista_imagenes = os.listdir(BASE_FOLDER+'images/')\n",
        "Lista_imagenes.sort()\n",
        "print(len(Lista_imagenes))"
      ]
    },
    {
      "cell_type": "code",
      "execution_count": null,
      "metadata": {
        "id": "FH5Q-DwAUTLt"
      },
      "outputs": [],
      "source": [
        "#Cargar Los datos\n",
        "for i in range(0,1):#len(Lista_imagenes)):\n",
        "\n",
        "  Name = Lista_imagenes[i]\n",
        "  Name =  Name.split(\".\")\n",
        "  print(Name)\n",
        "  print(\"Original\")\n",
        "  Path=\"/content/drive/MyDrive/Trabajo_final_VIU/YOLOV8/Dataset/test/\"\n",
        "  img = Cargar_imagen(Name[0],Path+\"images\")\n",
        "  Data=Generador_data(Name[0],Path+\"labels/\",\"O\")\n",
        "  Graficar(img,Data,\"O\")\n",
        "\n",
        "\n",
        "  #cargar Datos Yolo\n",
        "  print(\"YOLO\")\n",
        "  Path=\"/content/drive/MyDrive/Trabajo_final_VIU/YOLOV8/Dataset/test/predYOLO/\"\n",
        "  Data=Generador_data(Name[0],Path,\"Y\")\n",
        "  Graficar(img,Data,\"Y\")\n",
        "\n",
        "  #Cargar DAtos Resnet\n",
        "  print(\"PresResNet50\")\n",
        "  Path=\"/content/drive/MyDrive/Trabajo_final_VIU/YOLOV8/Dataset/test/predResNet50/\"\n",
        "  Data=Generador_data(Name[0],Path,\"R\")\n",
        "  Graficar(img,Data,\"R\")\n",
        "\n"
      ]
    },
    {
      "cell_type": "markdown",
      "metadata": {
        "id": "9wPBW1KMCUjt"
      },
      "source": [
        "# **Parametrizacion de datos finales**"
      ]
    },
    {
      "cell_type": "code",
      "execution_count": null,
      "metadata": {
        "id": "VyWsHqeM8rgd"
      },
      "outputs": [],
      "source": [
        "BASE_FOLDER=\"/content/drive/MyDrive/Trabajo_final_VIU/YOLOV8/Dataset/test/\"\n",
        "Lista_imagenes = os.listdir(BASE_FOLDER+'images/')\n",
        "Lista_imagenes.sort()\n",
        "print(len(Lista_imagenes))"
      ]
    },
    {
      "cell_type": "code",
      "execution_count": null,
      "metadata": {
        "id": "a2mZ9McLCQxP"
      },
      "outputs": [],
      "source": [
        "import numpy as np\n",
        "\n",
        "def calculate_iou(box1, box2):\n",
        "    \"\"\"\n",
        "    Calcula el IoU (Intersección sobre Unión) entre dos bounding boxes.\n",
        "\n",
        "    Parameters:\n",
        "        box1 (list): [x1, y1, x2, y2] de la primera bounding box.\n",
        "        box2 (list): [x1, y1, x2, y2] de la segunda bounding box.\n",
        "\n",
        "    Returns:\n",
        "        float: El valor de IoU.\n",
        "    \"\"\"\n",
        "    x1 = max(box1[0], box2[0])\n",
        "    y1 = max(box1[1], box2[1])\n",
        "    x2 = min(box1[2], box2[2])\n",
        "    y2 = min(box1[3], box2[3])\n",
        "\n",
        "    intersection_area = max(0, x2 - x1 + 1) * max(0, y2 - y1 + 1)\n",
        "\n",
        "    box1_area = (box1[2] - box1[0] + 1) * (box1[3] - box1[1] + 1)\n",
        "    box2_area = (box2[2] - box2[0] + 1) * (box2[3] - box2[1] + 1)\n",
        "\n",
        "    iou = intersection_area / float(box1_area + box2_area - intersection_area)\n",
        "    return float(iou)\n",
        "\n",
        "def calculate_ap(precision, recall):\n",
        "    \"\"\"\n",
        "    Calcula el Average Precision (AP) a partir de las curvas de precision y recall.\n",
        "\n",
        "    Parameters:\n",
        "        precision (list): Lista de valores de precision.\n",
        "        recall (list): Lista de valores de recall.\n",
        "\n",
        "    Returns:\n",
        "        float: El valor de AP.\n",
        "    \"\"\"\n",
        "    m_recall = np.concatenate(([0.0], recall, [1.0]))\n",
        "    m_precision = np.concatenate(([0.0], precision, [0.0]))\n",
        "\n",
        "    for i in range(len(m_precision) - 1, 0, -1):\n",
        "        m_precision[i - 1] = max(m_precision[i - 1], m_precision[i])\n",
        "\n",
        "    indices = np.where(m_recall[1:] != m_recall[:-1])[0] + 1\n",
        "    ap = np.sum((m_recall[indices] - m_recall[indices - 1]) * m_precision[indices])\n",
        "    return ap\n",
        "\n",
        "def calculate_map(ground_truth, predictions, iou_threshold=0.2):\n",
        "    \"\"\"\n",
        "    Calcula el Mean Average Precision (mAP) entre bounding boxes.\n",
        "\n",
        "    Parameters:\n",
        "        ground_truth (list): Lista de bounding boxes de etiquetas verdaderas.\n",
        "        predictions (list): Lista de bounding boxes de predicciones del modelo.\n",
        "        iou_threshold (float): Umbral de IoU para considerar una detección como verdadera positiva.\n",
        "\n",
        "    Returns:\n",
        "        float: El valor de mAP.\n",
        "    \"\"\"\n",
        "    num_images = len(ground_truth)\n",
        "    ap_values = []\n",
        "    List_Mediciones=[]\n",
        "    for i in range(num_images):\n",
        "        gt_boxes = ground_truth[i]\n",
        "        pred_boxes = predictions[i]\n",
        "\n",
        "        num_gt_boxes = len(gt_boxes)\n",
        "        num_pred_boxes = len(pred_boxes)\n",
        "\n",
        "        if num_pred_boxes == 0:\n",
        "            ap_values.append(0)\n",
        "            continue\n",
        "\n",
        "        iou_matrix = np.zeros((num_pred_boxes, num_gt_boxes))\n",
        "\n",
        "        for j in range(num_pred_boxes):\n",
        "            for k in range(num_gt_boxes):\n",
        "                iou_matrix[j][k] = calculate_iou(pred_boxes[j], gt_boxes[k])\n",
        "\n",
        "        true_positive = np.zeros(num_pred_boxes)\n",
        "        false_positive = np.zeros(num_pred_boxes)\n",
        "\n",
        "        for j in range(num_pred_boxes):\n",
        "            matched_gt_box = -1\n",
        "            max_iou = -1\n",
        "\n",
        "            for k in range(num_gt_boxes):\n",
        "                if iou_matrix[j][k] > max_iou:\n",
        "                    max_iou = iou_matrix[j][k]\n",
        "                    matched_gt_box = k\n",
        "\n",
        "            if max_iou >= iou_threshold and matched_gt_box >= 0:\n",
        "                true_positive[j] = 1\n",
        "                iou_matrix[:, matched_gt_box] = -1  # Mark the matched ground truth box as used\n",
        "            else:\n",
        "                false_positive[j] = 1\n",
        "\n",
        "        cumulative_true_positive = sum(true_positive)\n",
        "        print(true_positive)\n",
        "        cumulative_false_positive = sum(false_positive)\n",
        "        print(false_positive)\n",
        "        precision = cumulative_true_positive / (cumulative_true_positive + cumulative_false_positive)\n",
        "        recall = cumulative_true_positive / num_gt_boxes\n",
        "\n",
        "        ap = calculate_ap(precision, recall)\n",
        "        List_Mediciones.append([i,sum(true_positive),sum(false_positive),num_gt_boxes,precision,recall,ap])\n",
        "        ap_values.append(ap)\n",
        "\n",
        "    mAP = np.mean(ap_values,)\n",
        "    return (mAP,List_Mediciones)\n",
        "\n"
      ]
    },
    {
      "cell_type": "code",
      "execution_count": null,
      "metadata": {
        "id": "KEeaLbc8EtjN"
      },
      "outputs": [],
      "source": [
        "def Conversor(img,df,MODEL):\n",
        "  img_height,img_width=np.array(img).shape[0],np.array(img).shape[1]\n",
        "  Aux=[]\n",
        "  if MODEL==\"O\" or MODEL==\"Y\":\n",
        "    for i in df.index:\n",
        "      # Create a Rectangle patch\n",
        "        xcenter= int((float(df[\"Xcenter\"][i])*img_width))\n",
        "        ycenter= int((float(df[\"Ycenter\"][i])*img_height))\n",
        "        Width= int((float(df[\"Width\"][i])*img_width))\n",
        "        Height= int((float(df[\"Height\"][i])*img_height))\n",
        "        xmin = int(xcenter - (Width/2))\n",
        "        ymin = int(ycenter - (Height/2))\n",
        "        xmax = int(xcenter + (Width/2))\n",
        "        ymax = int(ycenter + (Height/2))\n",
        "        Aux.append([xmin,ymin,xmax,ymax])\n",
        "  if MODEL==\"R\":\n",
        "    for i in df.index:\n",
        "      # Create a Rectangle patch\n",
        "        xmin= int((float(df[\"Xmin\"][i])*img_width))\n",
        "        ymin= int((float(df[\"Ymin\"][i])*img_height))\n",
        "        xmax= int((float(df[\"Xmax\"][i])*img_width))\n",
        "        ymax= int((float(df[\"Ymax\"][i])*img_height))\n",
        "        Aux.append([xmin,ymin,xmax,ymax])\n",
        "  return(Aux)"
      ]
    },
    {
      "cell_type": "code",
      "execution_count": null,
      "metadata": {
        "id": "9ItEeenaCFtL"
      },
      "outputs": [],
      "source": [
        "from functools import total_ordering\n",
        "# PArametrizacion final de datos\n",
        "ground_truth_boxes=[]\n",
        "predicted_boxes = []\n",
        "predicted_boxes2 = []\n",
        "\n",
        "for i in range(0,len(Lista_imagenes)):\n",
        "\n",
        "  Name = Lista_imagenes[i]\n",
        "  Name =  Name.split(\".\")\n",
        "  print(Name)\n",
        "  Path=\"/content/drive/MyDrive/Trabajo_final_VIU/YOLOV8/Dataset/test/\"\n",
        "  img = Cargar_imagen(Name[0],Path+\"images\")\n",
        "  DataO=Generador_data(Name[0],Path+\"labels/\",\"O\")\n",
        "  ground_truth_boxes.append(Conversor(img,DataO,\"O\"))\n",
        "  # display(ground_truth_boxes)\n",
        "  #cargar Datos Yolo\n",
        "  Path=\"/content/drive/MyDrive/Trabajo_final_VIU/YOLOV8/Dataset/test/predYOLO/\"\n",
        "  DataY=Generador_data(Name[0],Path,\"Y\")\n",
        "  predicted_boxes.append(Conversor(img,DataY,\"Y\"))\n",
        "  # display(predicted_boxes)\n",
        "  #Cargar DAtos Resnet\n",
        "  Path=\"/content/drive/MyDrive/Trabajo_final_VIU/YOLOV8/Dataset/test/predResNet50/\"\n",
        "  DataR=Generador_data(Name[0],Path,\"R\")\n",
        "  predicted_boxes2.append(Conversor(img,DataR,\"R\"))\n",
        "  # display(predicted_boxes2)\n",
        "mAP,List_MedicionesYOLO = calculate_map(ground_truth_boxes, predicted_boxes)\n",
        "print(\"Mean Average Precision YOLO(mAP):\", mAP)\n",
        "mAP2,List_MedicionesRN50 = calculate_map(ground_truth_boxes, predicted_boxes2)\n",
        "print(\"Mean Average Precision ResNet50(mAP):\", mAP2)"
      ]
    },
    {
      "cell_type": "code",
      "execution_count": null,
      "metadata": {
        "id": "RYwFW24VbJ1t"
      },
      "outputs": [],
      "source": [
        "display(List_MedicionesYOLO)"
      ]
    },
    {
      "cell_type": "code",
      "execution_count": null,
      "metadata": {
        "id": "3eO8qwjSlPIW"
      },
      "outputs": [],
      "source": [
        "import pandas as pd\n",
        "df_MedicionesYOLO = pd.DataFrame(List_MedicionesYOLO,columns=[\"Num_img\",\"TP\",\"FP\",\"GROUNT\",\"Prec\",\"Recall\",\"ap\"])\n",
        "save_path = path.join('/content/drive/MyDrive/Trabajo_final_VIU/Resources/Annotations','df_MedicionesYOLO.csv')\n",
        "pd.DataFrame(df_MedicionesYOLO).to_csv(save_path)"
      ]
    },
    {
      "cell_type": "code",
      "execution_count": null,
      "metadata": {
        "id": "-3tfbWFWbSKl"
      },
      "outputs": [],
      "source": [
        "display(List_MedicionesRN50)"
      ]
    },
    {
      "cell_type": "code",
      "execution_count": null,
      "metadata": {
        "id": "niPELjfJovXX"
      },
      "outputs": [],
      "source": [
        "import pandas as pd\n",
        "df_MedicionesRN50 = pd.DataFrame(List_MedicionesRN50,columns=[\"Num_img\",\"TP\",\"FP\",\"GROUNT\",\"Prec\",\"Recall\",\"ap\"])\n",
        "save_path = path.join('/content/drive/MyDrive/Trabajo_final_VIU/Resources/Annotations','df_MedicionesRN50.csv')\n",
        "pd.DataFrame(df_MedicionesRN50).to_csv(save_path)"
      ]
    },
    {
      "cell_type": "code",
      "execution_count": null,
      "metadata": {
        "id": "mjNqrMyqMBA6"
      },
      "outputs": [],
      "source": [
        "\n",
        "display(Conversor(img,DataO,\"O\"))"
      ]
    },
    {
      "cell_type": "code",
      "execution_count": null,
      "metadata": {
        "id": "YRGCiGpBRBXk"
      },
      "outputs": [],
      "source": [
        "display(ground_truth_boxes[0])\n",
        "display(predicted_boxes[0])\n",
        "calculate_iou(ground_truth_boxes[0][0], predicted_boxes[0][0])\n",
        "calculate_iou(ground_truth_boxes[0][1], predicted_boxes[0][1])"
      ]
    }
  ],
  "metadata": {
    "accelerator": "TPU",
    "colab": {
      "provenance": []
    },
    "kernelspec": {
      "display_name": "Python 3",
      "name": "python3"
    }
  },
  "nbformat": 4,
  "nbformat_minor": 0
}