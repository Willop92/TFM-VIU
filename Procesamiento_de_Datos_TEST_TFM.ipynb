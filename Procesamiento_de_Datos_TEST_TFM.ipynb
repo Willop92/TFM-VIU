{
  "cells": [
    {
      "cell_type": "code",
      "execution_count": 1,
      "metadata": {
        "id": "L6KeLc1gzOIx"
      },
      "outputs": [],
      "source": [
        "#Parte 1\n",
        "#Procesamiento de Imágenes TEST"
      ]
    },
    {
      "cell_type": "markdown",
      "metadata": {
        "id": "vPs64QA1Zdov"
      },
      "source": [
        "#Paquete inicial"
      ]
    },
    {
      "cell_type": "code",
      "execution_count": null,
      "metadata": {
        "id": "LBZ9VWZZFUCT"
      },
      "outputs": [],
      "source": [
        "!pip install -U --pre tensorflow==\"2.2.0\""
      ]
    },
    {
      "cell_type": "code",
      "execution_count": null,
      "metadata": {
        "id": "hMN2rgDSTzld"
      },
      "outputs": [],
      "source": [
        "import numpy as np\n",
        "np.__version__"
      ]
    },
    {
      "cell_type": "code",
      "execution_count": null,
      "metadata": {
        "id": "p08DV8SJOFZz"
      },
      "outputs": [],
      "source": [
        "pip install -U numpy==\"1.23.5\""
      ]
    },
    {
      "cell_type": "code",
      "execution_count": null,
      "metadata": {
        "id": "uZcqD4NLdnf4"
      },
      "outputs": [],
      "source": [
        "import matplotlib\n",
        "import matplotlib.pyplot as plt\n",
        "\n",
        "import cv2\n",
        "import os\n",
        "import random\n",
        "import io\n",
        "import imageio\n",
        "import glob\n",
        "import scipy.misc\n",
        "import numpy as np\n",
        "from six import BytesIO\n",
        "from PIL import Image, ImageDraw, ImageFont\n",
        "from IPython.display import display, Javascript\n",
        "from IPython.display import Image as IPyImage\n",
        "import PIL.ImageOps\n",
        "import tensorflow as tf\n",
        "\n",
        "\n",
        "%matplotlib inline"
      ]
    },
    {
      "cell_type": "markdown",
      "metadata": {
        "id": "PlclxsJs0fXs"
      },
      "source": [
        "# Cargar los datos CSV"
      ]
    },
    {
      "cell_type": "markdown",
      "source": [
        "## Vincular con Google Drive"
      ],
      "metadata": {
        "id": "eYELPRfFiEpp"
      }
    },
    {
      "cell_type": "code",
      "execution_count": null,
      "metadata": {
        "id": "4VP6B2uLcZQb"
      },
      "outputs": [],
      "source": [
        "from google.colab import drive\n",
        "drive.mount('/content/drive')"
      ]
    },
    {
      "cell_type": "markdown",
      "source": [
        "##Lectura y creación de un nuevo CSV de test"
      ],
      "metadata": {
        "id": "0KDh2BgRjbYH"
      }
    },
    {
      "cell_type": "code",
      "execution_count": null,
      "metadata": {
        "id": "3AXRhSfw0S_n"
      },
      "outputs": [],
      "source": [
        "# cargar csv Test\n",
        "import pandas as pd\n",
        "from os import path\n",
        "\n",
        "test_path = path.join('/content/drive/MyDrive/Trabajo_final_VIU/Resources/Annotations','test.csv')\n",
        "test_csv = pd.read_csv(test_path)\n",
        "display(test_csv)"
      ]
    },
    {
      "cell_type": "code",
      "execution_count": null,
      "metadata": {
        "id": "Uzo-6GZv18RJ"
      },
      "outputs": [],
      "source": [
        "# Edit CVS para nuestra conveniencia\n",
        "# Identificar solo osteophytos\n",
        "csv_final = test_csv.copy()\n",
        "csv_final = csv_final.loc[:,['image_id','lesion_type','xmin','ymin','xmax','ymax']]\n",
        "csv_final=csv_final[csv_final[\"lesion_type\"]==\"Osteophytes\"]\n",
        "display(csv_final)\n",
        "save_path = path.join('/content/drive/MyDrive/Trabajo_final_VIU/Resources/Annotations','TFM_test.csv')\n",
        "pd.DataFrame(csv_final).to_csv(save_path)\n",
        "print(\"Index último de las detecciones con el CSV original= \"+str(csv_final.index[-1]))\n",
        "csv_final.reset_index(drop=True, inplace=True)\n",
        "test_list=csv_final[\"image_id\"].unique()\n",
        "# display(test_list)\n",
        "print(\"Número de osteofitos detectados= \"+str(len(csv_final)))\n",
        "print(\"Número de imágenes con osteofitos detectados= \"+str(len(test_list)))\n"
      ]
    },
    {
      "cell_type": "code",
      "source": [
        "test_path = path.join('/content/drive/MyDrive/Trabajo_final_VIU/Resources/Annotations','TFM_test.csv')\n",
        "csv_final = pd.read_csv(test_path, index_col=0)\n",
        "display(csv_final)"
      ],
      "metadata": {
        "id": "o1KhS9h7an96"
      },
      "execution_count": null,
      "outputs": []
    },
    {
      "cell_type": "markdown",
      "metadata": {
        "id": "kG46vrv2g9gO"
      },
      "source": [
        "#Test dataset\n"
      ]
    },
    {
      "cell_type": "code",
      "execution_count": null,
      "metadata": {
        "id": "BmXoyspZE_os"
      },
      "outputs": [],
      "source": [
        "badlisttest=[30,31,32,33,45,52,\n",
        "70,81,80,92,188,187,193,204,224,222,249,243,248,244,240,239,247,\n",
        "267,266,274,277,283,305,312,313,449,443,465,466,468,467,\n",
        "477,478,480,479,482,483,486,487,488,489,495,497,508,\n",
        "513,521,522,523,520,517,518,519,531,535,529,528,524,\n",
        "539,540,542,600,608,614,618,764,\n",
        "794,786,787,792,813,825,839,841,844,845,\n",
        "848,852,865,871,870,928,937,936,933,938,\n",
        "946,949,950,952,953,978,976,973,982,981,989,993,\n",
        "999,997,1029,1026,1025,1024,1033,1055,1056,\n",
        "1150,1188,1181,1178,1177,1180,1187,1191,1194,1197,1196,1164,1200,1189,\n",
        "1221,1220,1239,1240,1245,1309,1310,1313,1312,1325,1335,1358,1365,1363,\n",
        "1380,1381,1407,1422,1417,1421,1420,1434,1432,1433,1443,1463,1469,1468,\n",
        "1470,1475,1476,1482,1549,1563,1573,1671,\n",
        "1681,1682,1674,1676,1690,1683,1703,1699,1705,\n",
        "1743,1751,1755,1789,1791,1794,1862,1859,\n",
        "1903,1901,1906,1947,1948,1951,\n",
        "1952,1960,1971,1968,1984,2041,2056,2058,2056,\n",
        "2073,2093,2103,2119,2127,2130,2133,2134,2183,2180,\n",
        "2186,2187,2207,2203,2253,2298,2294,2340,2338,2341,2336,\n",
        "2350,2363,2364,2391,2394,2395,2396,2419,\n",
        "2434,2556,2566,2569,2601,2602,2600,\n",
        "2624,2638,2640,2648,2656,2661,2660,2666,\n",
        "2672,26710,2678,2677,2701,2696,2733,2734,2741,2762,\n",
        "2779,2799,2807,2813,7827,2927,2938,2934,2930,2957,\n",
        "2959,2975,2977,2976,2991,3026,\n",
        "3056,3057,3062,3063,3064,3074,3088,3098,\n",
        "3106,3104,3102,3101,3108,3126,3128,\n",
        "3133,3134,3149,3147,3157,3173,3235,3258,3253,\n",
        "3263,3277,3278,3274,3275,3306,3331,3335,3334,3349,\n",
        "3353,3365,3366,3384,3383,3411,3406,3410,3408,\n",
        "3415,3425,3431,3433,3457,3454,3459,3452,3460,\n",
        "3536,3538,3539,3580,3581,3602,3643,3647,3663,3658,3660,\n",
        "3669,3686,3692,3695,3712,3724,3727,3728,3732,3733,\n",
        "3737,3766,3768,3778,3780,3788,3788,3799,3811,3812,3836,\n",
        "3873,3880,3909,3910,3911,3912,3913,3943,3942,3953,3958,3964,3957,\n",
        "3978,4005,4058,4059,4077,4080,4081,4086,4098,4153,4160,4167,4177,4188,4189,4190,\n",
        "4217,4216,4228,4235,4244,4258,4273,4276,4306,4357,4356,4367,4492,4493,4499,4525,\n",
        "4589,4586,4591,4592,4685,4699,4705,4709,4710,4712,4711,4713,4714,4718,4726,4727,4735,4740]"
      ]
    },
    {
      "cell_type": "code",
      "execution_count": null,
      "metadata": {
        "id": "hflhhl39Kk3t"
      },
      "outputs": [],
      "source": [
        "BASE_FOLDER = \"/content/drive/MyDrive/Trabajo_final_VIU/Resources/Test_Images/\"\n",
        "Lista = os.listdir(BASE_FOLDER)\n",
        "print(len(Lista))\n",
        "display( 'imagen1-1.txt' in Lista)"
      ]
    },
    {
      "cell_type": "code",
      "execution_count": null,
      "metadata": {
        "id": "-G4Qdrrek5_X"
      },
      "outputs": [],
      "source": [
        "# Creacion Data Frame\n",
        "# cortes_test = pd.DataFrame(columns=['Nom_Img', 'Nom_Test', 'Width_Img','Heigt_Img','LineH','LineV'],index=range(878))\n",
        "# cortes_test.shape\n",
        "# save_path = path.join('/content/drive/MyDrive/Trabajo_final_VIU/Resources/Annotations','TFM_test_cortes.csv')\n",
        "# pd.DataFrame(cortes_test).to_csv(save_path)"
      ]
    },
    {
      "cell_type": "code",
      "source": [
        "# Leer el Data Frame\n",
        "read_path = path.join('/content/drive/MyDrive/Trabajo_final_VIU/Resources/Annotations','TFM_test_cortes.csv')\n",
        "cortes_test = pd.read_csv(read_path, index_col=[0])\n",
        "display(cortes_test)"
      ],
      "metadata": {
        "id": "CTpkluuknA-3"
      },
      "execution_count": null,
      "outputs": []
    },
    {
      "cell_type": "code",
      "execution_count": null,
      "metadata": {
        "id": "HHQ963kuLn2u"
      },
      "outputs": [],
      "source": [
        "def Cargar_imagen(Num_img):\n",
        "  Test_image_dir = '/content/drive/MyDrive/Trabajo_final_VIU/Resources/Test_Images'\n",
        "  img=cv2.imread(os.path.join(Test_image_dir, test_list[Num_img]+'.jpg'))\n",
        "  img=cv2.cvtColor(img, cv2.COLOR_BGR2GRAY)\n",
        "  imagen_id=test_list[Num_img]\n",
        "  mask=(csv_final[\"image_id\"]==imagen_id)\n",
        "  df=csv_final[mask]\n",
        "  # display(df)\n",
        "  return(img,imagen_id,df)"
      ]
    },
    {
      "cell_type": "code",
      "execution_count": null,
      "metadata": {
        "id": "bonf4bVkLxB4"
      },
      "outputs": [],
      "source": [
        "def Graficar(img,df,LineH,LineV,opc):\n",
        "\n",
        "  # Imagen Principal\n",
        "  plt.clf()\n",
        "  fig, ax = plt.subplots()\n",
        "  final_image = Image.fromarray(img)\n",
        "  # Impresión con escala para mejor visualizacion\n",
        "  fig.set_size_inches(20, 20, forward=True)\n",
        "  ax.imshow(final_image, cmap='gray', vmin=0, vmax=255)\n",
        "  #\n",
        "  #dibujar puntos de enfermedad\n",
        "  for i in df.index:\n",
        "      # Create a Rectangle patch\n",
        "      Width= int(df[\"xmax\"][i]-df[\"xmin\"][i])\n",
        "      Height=int(df[\"ymax\"][i]-df[\"ymin\"][i])\n",
        "#     Ver Imagen con Restricciones\n",
        "      if (opc==1):\n",
        "        if not(i in badlisttest):\n",
        "          rect = patches.Rectangle((int(df[\"xmin\"][i]), int(df[\"ymin\"][i])), Width, Height, linewidth=2, edgecolor='r', facecolor='none')\n",
        "          print(i,(int(df[\"xmin\"][i]),int(df[\"ymin\"][i]),Width,Height))\n",
        "          plt.text(int(df[\"xmin\"][i]), int(df[\"ymin\"][i]),str(i))\n",
        "          ax.add_patch(rect)\n",
        "      else:\n",
        "        # Ver imagen normal sin restricciones\n",
        "        rect = patches.Rectangle((int(df[\"xmin\"][i]), int(df[\"ymin\"][i])), Width, Height, linewidth=2, edgecolor='r', facecolor='none')\n",
        "        plt.text(int(df[\"xmin\"][i]), int(df[\"ymin\"][i]),str(i))\n",
        "        ax.add_patch(rect)\n",
        "\n",
        "\n",
        "  #Lineas de Corte\n",
        "  for n in LineH:\n",
        "    plt.axhline(y=n, color=\"g\")\n",
        "  for n in LineV:\n",
        "    plt.axvline(x=n, color=\"g\")\n",
        "\n",
        "  plt.show()"
      ]
    },
    {
      "cell_type": "code",
      "execution_count": null,
      "metadata": {
        "id": "NBVFEUcFOfau"
      },
      "outputs": [],
      "source": [
        "def Creacion_Lineas(Num_img,img,df,Stdar):\n",
        "  img_height,img_width=np.array(img).shape[0],np.array(img).shape[1]\n",
        "  NLineasy=img_height//Stdar\n",
        "  Nlineasx=img_width//Stdar\n",
        "  print(NLineasy,\" \",Nlineasx)\n",
        "\n",
        "  LineH=[0]\n",
        "\n",
        "  for n in range(1,NLineasy+1):\n",
        "    LineH.append(n*640)\n",
        "  print(LineH)\n",
        "  n=0\n",
        "  while (n<(len(LineH))):\n",
        "    print(n)\n",
        "    for i in df.index:\n",
        "      if((df[\"ymin\"][i]<=LineH[n])and(LineH[n]<=df[\"ymax\"][i])) and not(i in badlisttest):\n",
        "        LineH[n]=int(df[\"ymin\"][i])-5\n",
        "        for j in range(n+1,len(LineH)):\n",
        "          LineH[j]=LineH[j-1]+640\n",
        "        n=n-1\n",
        "        print(LineH)\n",
        "      if(img_height-LineH[-1]>640):\n",
        "        LineH.append(LineH[-1]+640)\n",
        "    n+=1\n",
        "  # if(LineH[-1]!=img_height-1):\n",
        "  #   LineH.append(img_height-1)\n",
        "  print(LineH)\n",
        "\n",
        "\n",
        "  LineV=[0]\n",
        "  for n in range(1,Nlineasx+1):\n",
        "    LineV.append(n*640)\n",
        "  print(LineV)\n",
        "\n",
        "  n=0\n",
        "  while (n<(len(LineV))):\n",
        "    # print(n)\n",
        "    for i in df.index:\n",
        "      if((df[\"xmin\"][i]<=LineV[n])and(LineV[n]<=df[\"xmax\"][i]))and not(i in badlisttest):\n",
        "        LineV[n]=int(df[\"xmin\"][i])-2\n",
        "        for j in range(n+1,len(LineV)):\n",
        "          LineV[j]=LineV[j-1]+640\n",
        "        n=n-1\n",
        "        print(LineV)\n",
        "    if(img_width-LineV[-1]>640):\n",
        "      LineV.append(LineV[-1]+640)\n",
        "    n+=1\n",
        "  # if(LineV[-1]!=img_width-1):\n",
        "  #   LineV.append(img_width-1)\n",
        "  print(LineV)\n",
        "\n",
        "  # Añadir al cvs\n",
        "  cortes_test.loc[Num_img] = [test_list[Num_img],'imagen'+str(Num_img),img_width,img_height,LineH,LineV]\n",
        "  # print(cortes_train.loc[Num_img])\n",
        "  save_path = path.join('/content/drive/MyDrive/Trabajo_final_VIU/Resources/Annotations','TFM_test_cortes.csv')\n",
        "  pd.DataFrame(cortes_test).to_csv(save_path)\n",
        "  # display(cortes_train)\n",
        "  # display(cortes_train.columns)\n",
        "\n",
        "  return(LineH,LineV)"
      ]
    },
    {
      "cell_type": "code",
      "execution_count": null,
      "metadata": {
        "id": "yEz8SzzdL2yv"
      },
      "outputs": [],
      "source": [
        "# generar imagen y recortes\n",
        "import matplotlib.patches as patches\n",
        "import matplotlib.pylab as plt\n",
        "from PIL import Image\n",
        "#sacar las cajas de la imagen\n",
        "for Num_img in range(0,1):#len(test_list)):\n",
        "# Num_img=1\n",
        "  print(Num_img)\n",
        "  img,imagen_id,df = Cargar_imagen(Num_img)\n",
        "  LineH,LineV = Creacion_Lineas(Num_img,img,df,640)\n",
        "  print(LineH)\n",
        "  print(LineV)\n",
        "  # Graficar(img,df,LineH,LineV,1)"
      ]
    },
    {
      "cell_type": "markdown",
      "metadata": {
        "id": "kHV0OLn9MHhP"
      },
      "source": [
        "#Crop de imagenes TEST\n",
        "\n"
      ]
    },
    {
      "cell_type": "code",
      "source": [
        "import pandas as pd\n",
        "from os import path"
      ],
      "metadata": {
        "id": "b-PHUU8Hrpv_"
      },
      "execution_count": null,
      "outputs": []
    },
    {
      "cell_type": "code",
      "source": [
        "# Leer el Data Frame\n",
        "read_path = path.join('/content/drive/MyDrive/Trabajo_final_VIU/Resources/Annotations','TFM_test_cortes.csv')\n",
        "cortes_test = pd.read_csv(read_path, index_col=[0])\n",
        "display(cortes_test)"
      ],
      "metadata": {
        "id": "-wCg6ZsjFS_7"
      },
      "execution_count": null,
      "outputs": []
    },
    {
      "cell_type": "code",
      "execution_count": null,
      "metadata": {
        "id": "iOy0_4DFMHhQ"
      },
      "outputs": [],
      "source": [
        "# Recorte de Imagenes y Creacion de Test\n",
        "# Crop\n",
        "# #sacar las cajas de la imagen\n",
        "def Crop_img2 (Num_img,img,df,LineH,LineV):\n",
        "  # print(\"Imagen \"+str(Num_img))\n",
        "  # print(LineH)\n",
        "  # print(LineV)\n",
        "  global contar\n",
        "  h=0\n",
        "  cont=1\n",
        "  while (h<(len(LineH)-1)):\n",
        "    v=0\n",
        "    while (v<(len(LineV)-1)):\n",
        "      y1=int(LineH[h])\n",
        "      y2=int(LineH[h+1])\n",
        "      x1=int(LineV[v])\n",
        "      x2=int(LineV[v+1])\n",
        "      # print(str(y1)+\" \"+str(y2)+\" \"+str(x1)+\" \"+str(x2))\n",
        "      Imagen2=[]\n",
        "      Aux=\"\"\n",
        "\n",
        "      for i in df.index:\n",
        "        Xcenter=int((df[\"xmax\"][i]+df[\"xmin\"][i])/(2))\n",
        "        Ycenter=int((df[\"ymax\"][i]+df[\"ymin\"][i])/(2))\n",
        "        Width= int(df[\"xmax\"][i]-df[\"xmin\"][i])\n",
        "        Height=int(df[\"ymax\"][i]-df[\"ymin\"][i])\n",
        "        if(((y1<=Ycenter)and(Ycenter<=y2)) and ((x1<=Xcenter)and(Xcenter<=x2))):\n",
        "          if not(i in badlisttest):\n",
        "            Aux=Aux+str(\"0\"+\" \"+str((Xcenter-x1)/(x2-x1))+\" \"+str((Ycenter-y1)/(y2-y1))+\" \"+str(Width/(x2-x1))+\" \"+str(Height/(y2-y1))+ \"\\n\")\n",
        "      #Impresión en TXT\n",
        "    # if not(Aux==\"\"):\n",
        "      path=\"/content/drive/MyDrive/Trabajo_final_VIU/YOLOV8/Dataset/testC/\"+\"/labels/\"\n",
        "      isExist = os.path.exists(path)\n",
        "      if not isExist:\n",
        "        os.makedirs(path)\n",
        "      # print(str(h)+\" \"+str(v))\n",
        "      # print(Aux)\n",
        "      with open(path+\"imagen\"+str(Num_img)+\"-\"+str(cont)+\".txt\", 'w') as txt_file:\n",
        "        txt_file.write(str(Aux))\n",
        "\n",
        "      Imagen2 = img[y1:y2,x1:x2]\n",
        "      # display(Imagen2)\n",
        "      path=\"/content/drive/MyDrive/Trabajo_final_VIU/YOLOV8/Dataset/testC/\"+\"/images/\"\n",
        "      isExist = os.path.exists(path)\n",
        "      if not isExist:\n",
        "        os.makedirs(path)\n",
        "      destination= path +\"imagen\"+str(Num_img)+\"-\"+str(cont)+'.jpg'\n",
        "      # print(contar)\n",
        "      cv2.imwrite(destination, Imagen2)\n",
        "      contar+=1\n",
        "      #if\n",
        "      cont+=1\n",
        "      v+=1\n",
        "    h+=1"
      ]
    },
    {
      "cell_type": "code",
      "execution_count": null,
      "metadata": {
        "id": "KksyzBmEMHhQ"
      },
      "outputs": [],
      "source": [
        "#Crop de las imagenes\n",
        "LineHcsv=np.array(cortes_test[\"LineH\"])\n",
        "LineVcsv=np.array(cortes_test[\"LineV\"])\n",
        "contar=0\n",
        "\n",
        "for Num_img in range(0,len(test_list)):\n",
        "  print(Num_img)\n",
        "  img,imagen_id,df = Cargar_imagen(Num_img)\n",
        "  # Graficar(img,df,LineH,LineV,1)  #df son los puntos que nos entrega el Csv original: 0 para ver todos los puntos; 1 para ver solo los puntos correctos\n",
        "  LineH=LineHcsv[Num_img][1:-1].split(\", \")\n",
        "  LineV=LineVcsv[Num_img][1:-1].split(\", \")\n",
        "  Crop_img2(Num_img,img,df,LineH,LineV)\n"
      ]
    },
    {
      "cell_type": "code",
      "execution_count": null,
      "metadata": {
        "id": "QilKyAUYMHhQ"
      },
      "outputs": [],
      "source": [
        "import os\n",
        "import numpy as np\n",
        "BASE_FOLDER=\"/content/drive/MyDrive/Trabajo_final_VIU/YOLOV8/Dataset/testC/\"\n",
        "Lista_imagenes = os.listdir(BASE_FOLDER+'images/')\n",
        "Lista_imagenes.sort()\n",
        "print(\"Números de imágenes con osteofitos y sin osteofitos detectados= \"+str(len(Lista_imagenes)))\n"
      ]
    }
  ],
  "metadata": {
    "colab": {
      "collapsed_sections": [
        "0KDh2BgRjbYH"
      ],
      "provenance": []
    },
    "kernelspec": {
      "display_name": "Python 3",
      "name": "python3"
    },
    "language_info": {
      "name": "python"
    }
  },
  "nbformat": 4,
  "nbformat_minor": 0
}