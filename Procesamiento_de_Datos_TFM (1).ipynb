{
  "cells": [
    {
      "cell_type": "code",
      "execution_count": 1,
      "metadata": {
        "id": "L6KeLc1gzOIx"
      },
      "outputs": [],
      "source": [
        "#Parte 1\n",
        "#Procesamiento de Imágenes"
      ]
    },
    {
      "cell_type": "markdown",
      "metadata": {
        "id": "vPs64QA1Zdov"
      },
      "source": [
        "#Paquete inicial"
      ]
    },
    {
      "cell_type": "code",
      "execution_count": null,
      "metadata": {
        "id": "LBZ9VWZZFUCT"
      },
      "outputs": [],
      "source": [
        "!pip install -U --pre tensorflow==\"2.2.0\""
      ]
    },
    {
      "cell_type": "code",
      "execution_count": null,
      "metadata": {
        "id": "hMN2rgDSTzld"
      },
      "outputs": [],
      "source": [
        "import numpy as np\n",
        "np.__version__"
      ]
    },
    {
      "cell_type": "code",
      "execution_count": null,
      "metadata": {
        "id": "p08DV8SJOFZz"
      },
      "outputs": [],
      "source": [
        "pip install -U numpy==\"1.23.5\""
      ]
    },
    {
      "cell_type": "code",
      "execution_count": 5,
      "metadata": {
        "id": "uZcqD4NLdnf4"
      },
      "outputs": [],
      "source": [
        "import matplotlib\n",
        "import matplotlib.pyplot as plt\n",
        "\n",
        "import cv2\n",
        "import os\n",
        "import random\n",
        "import io\n",
        "import imageio\n",
        "import glob\n",
        "import scipy.misc\n",
        "import numpy as np\n",
        "from six import BytesIO\n",
        "from PIL import Image, ImageDraw, ImageFont\n",
        "from IPython.display import display, Javascript\n",
        "from IPython.display import Image as IPyImage\n",
        "import PIL.ImageOps\n",
        "import tensorflow as tf\n",
        "\n",
        "\n",
        "%matplotlib inline"
      ]
    },
    {
      "cell_type": "markdown",
      "metadata": {
        "id": "PlclxsJs0fXs"
      },
      "source": [
        "# Cargar los datos CSV"
      ]
    },
    {
      "cell_type": "markdown",
      "source": [
        "## Vincular con Google Drive"
      ],
      "metadata": {
        "id": "eYELPRfFiEpp"
      }
    },
    {
      "cell_type": "code",
      "execution_count": 6,
      "metadata": {
        "colab": {
          "base_uri": "https://localhost:8080/",
          "height": 338
        },
        "id": "4VP6B2uLcZQb",
        "outputId": "d0a496af-8db0-49ef-e8e6-1260df88c99c"
      },
      "outputs": [
        {
          "output_type": "error",
          "ename": "MessageError",
          "evalue": "ignored",
          "traceback": [
            "\u001b[0;31m---------------------------------------------------------------------------\u001b[0m",
            "\u001b[0;31mMessageError\u001b[0m                              Traceback (most recent call last)",
            "\u001b[0;32m<ipython-input-6-d5df0069828e>\u001b[0m in \u001b[0;36m<cell line: 2>\u001b[0;34m()\u001b[0m\n\u001b[1;32m      1\u001b[0m \u001b[0;32mfrom\u001b[0m \u001b[0mgoogle\u001b[0m\u001b[0;34m.\u001b[0m\u001b[0mcolab\u001b[0m \u001b[0;32mimport\u001b[0m \u001b[0mdrive\u001b[0m\u001b[0;34m\u001b[0m\u001b[0;34m\u001b[0m\u001b[0m\n\u001b[0;32m----> 2\u001b[0;31m \u001b[0mdrive\u001b[0m\u001b[0;34m.\u001b[0m\u001b[0mmount\u001b[0m\u001b[0;34m(\u001b[0m\u001b[0;34m'/content/drive'\u001b[0m\u001b[0;34m)\u001b[0m\u001b[0;34m\u001b[0m\u001b[0;34m\u001b[0m\u001b[0m\n\u001b[0m",
            "\u001b[0;32m/usr/local/lib/python3.10/dist-packages/google/colab/drive.py\u001b[0m in \u001b[0;36mmount\u001b[0;34m(mountpoint, force_remount, timeout_ms, readonly)\u001b[0m\n\u001b[1;32m    101\u001b[0m \u001b[0;32mdef\u001b[0m \u001b[0mmount\u001b[0m\u001b[0;34m(\u001b[0m\u001b[0mmountpoint\u001b[0m\u001b[0;34m,\u001b[0m \u001b[0mforce_remount\u001b[0m\u001b[0;34m=\u001b[0m\u001b[0;32mFalse\u001b[0m\u001b[0;34m,\u001b[0m \u001b[0mtimeout_ms\u001b[0m\u001b[0;34m=\u001b[0m\u001b[0;36m120000\u001b[0m\u001b[0;34m,\u001b[0m \u001b[0mreadonly\u001b[0m\u001b[0;34m=\u001b[0m\u001b[0;32mFalse\u001b[0m\u001b[0;34m)\u001b[0m\u001b[0;34m:\u001b[0m\u001b[0;34m\u001b[0m\u001b[0;34m\u001b[0m\u001b[0m\n\u001b[1;32m    102\u001b[0m   \u001b[0;34m\"\"\"Mount your Google Drive at the specified mountpoint path.\"\"\"\u001b[0m\u001b[0;34m\u001b[0m\u001b[0;34m\u001b[0m\u001b[0m\n\u001b[0;32m--> 103\u001b[0;31m   return _mount(\n\u001b[0m\u001b[1;32m    104\u001b[0m       \u001b[0mmountpoint\u001b[0m\u001b[0;34m,\u001b[0m\u001b[0;34m\u001b[0m\u001b[0;34m\u001b[0m\u001b[0m\n\u001b[1;32m    105\u001b[0m       \u001b[0mforce_remount\u001b[0m\u001b[0;34m=\u001b[0m\u001b[0mforce_remount\u001b[0m\u001b[0;34m,\u001b[0m\u001b[0;34m\u001b[0m\u001b[0;34m\u001b[0m\u001b[0m\n",
            "\u001b[0;32m/usr/local/lib/python3.10/dist-packages/google/colab/drive.py\u001b[0m in \u001b[0;36m_mount\u001b[0;34m(mountpoint, force_remount, timeout_ms, ephemeral, readonly)\u001b[0m\n\u001b[1;32m    130\u001b[0m   )\n\u001b[1;32m    131\u001b[0m   \u001b[0;32mif\u001b[0m \u001b[0mephemeral\u001b[0m\u001b[0;34m:\u001b[0m\u001b[0;34m\u001b[0m\u001b[0;34m\u001b[0m\u001b[0m\n\u001b[0;32m--> 132\u001b[0;31m     _message.blocking_request(\n\u001b[0m\u001b[1;32m    133\u001b[0m         \u001b[0;34m'request_auth'\u001b[0m\u001b[0;34m,\u001b[0m \u001b[0mrequest\u001b[0m\u001b[0;34m=\u001b[0m\u001b[0;34m{\u001b[0m\u001b[0;34m'authType'\u001b[0m\u001b[0;34m:\u001b[0m \u001b[0;34m'dfs_ephemeral'\u001b[0m\u001b[0;34m}\u001b[0m\u001b[0;34m,\u001b[0m \u001b[0mtimeout_sec\u001b[0m\u001b[0;34m=\u001b[0m\u001b[0;32mNone\u001b[0m\u001b[0;34m\u001b[0m\u001b[0;34m\u001b[0m\u001b[0m\n\u001b[1;32m    134\u001b[0m     )\n",
            "\u001b[0;32m/usr/local/lib/python3.10/dist-packages/google/colab/_message.py\u001b[0m in \u001b[0;36mblocking_request\u001b[0;34m(request_type, request, timeout_sec, parent)\u001b[0m\n\u001b[1;32m    174\u001b[0m       \u001b[0mrequest_type\u001b[0m\u001b[0;34m,\u001b[0m \u001b[0mrequest\u001b[0m\u001b[0;34m,\u001b[0m \u001b[0mparent\u001b[0m\u001b[0;34m=\u001b[0m\u001b[0mparent\u001b[0m\u001b[0;34m,\u001b[0m \u001b[0mexpect_reply\u001b[0m\u001b[0;34m=\u001b[0m\u001b[0;32mTrue\u001b[0m\u001b[0;34m\u001b[0m\u001b[0;34m\u001b[0m\u001b[0m\n\u001b[1;32m    175\u001b[0m   )\n\u001b[0;32m--> 176\u001b[0;31m   \u001b[0;32mreturn\u001b[0m \u001b[0mread_reply_from_input\u001b[0m\u001b[0;34m(\u001b[0m\u001b[0mrequest_id\u001b[0m\u001b[0;34m,\u001b[0m \u001b[0mtimeout_sec\u001b[0m\u001b[0;34m)\u001b[0m\u001b[0;34m\u001b[0m\u001b[0;34m\u001b[0m\u001b[0m\n\u001b[0m",
            "\u001b[0;32m/usr/local/lib/python3.10/dist-packages/google/colab/_message.py\u001b[0m in \u001b[0;36mread_reply_from_input\u001b[0;34m(message_id, timeout_sec)\u001b[0m\n\u001b[1;32m    101\u001b[0m     ):\n\u001b[1;32m    102\u001b[0m       \u001b[0;32mif\u001b[0m \u001b[0;34m'error'\u001b[0m \u001b[0;32min\u001b[0m \u001b[0mreply\u001b[0m\u001b[0;34m:\u001b[0m\u001b[0;34m\u001b[0m\u001b[0;34m\u001b[0m\u001b[0m\n\u001b[0;32m--> 103\u001b[0;31m         \u001b[0;32mraise\u001b[0m \u001b[0mMessageError\u001b[0m\u001b[0;34m(\u001b[0m\u001b[0mreply\u001b[0m\u001b[0;34m[\u001b[0m\u001b[0;34m'error'\u001b[0m\u001b[0;34m]\u001b[0m\u001b[0;34m)\u001b[0m\u001b[0;34m\u001b[0m\u001b[0;34m\u001b[0m\u001b[0m\n\u001b[0m\u001b[1;32m    104\u001b[0m       \u001b[0;32mreturn\u001b[0m \u001b[0mreply\u001b[0m\u001b[0;34m.\u001b[0m\u001b[0mget\u001b[0m\u001b[0;34m(\u001b[0m\u001b[0;34m'data'\u001b[0m\u001b[0;34m,\u001b[0m \u001b[0;32mNone\u001b[0m\u001b[0;34m)\u001b[0m\u001b[0;34m\u001b[0m\u001b[0;34m\u001b[0m\u001b[0m\n\u001b[1;32m    105\u001b[0m \u001b[0;34m\u001b[0m\u001b[0m\n",
            "\u001b[0;31mMessageError\u001b[0m: Error: credential propagation was unsuccessful"
          ]
        }
      ],
      "source": [
        "from google.colab import drive\n",
        "drive.mount('/content/drive')"
      ]
    },
    {
      "cell_type": "markdown",
      "source": [
        "## Lectura y creación de un nuevo CSV de train\n"
      ],
      "metadata": {
        "id": "kUuc18D9jR_m"
      }
    },
    {
      "cell_type": "code",
      "execution_count": null,
      "metadata": {
        "id": "atI-0LA9wZnj"
      },
      "outputs": [],
      "source": [
        "# cargar csv Original\n",
        "import pandas as pd\n",
        "from os import path\n",
        "\n",
        "train_path = path.join('/content/drive/MyDrive/Trabajo_final_VIU/Resources/Annotations','train.csv')\n",
        "train_csv = pd.read_csv(train_path)\n",
        "# print(train_csv)"
      ]
    },
    {
      "cell_type": "code",
      "execution_count": null,
      "metadata": {
        "id": "2za-M5rBhRvv"
      },
      "outputs": [],
      "source": [
        "# Edit CVS para nuestra conveniencia\n",
        "# Identificar solo osteophytos\n",
        "csv_final = train_csv.copy()\n",
        "csv_final = csv_final.loc[:,['image_id','lesion_type','xmin','ymin','xmax','ymax']]\n",
        "csv_final=csv_final[csv_final[\"lesion_type\"]==\"Osteophytes\"]\n",
        "train_list=csv_final[\"image_id\"].unique()\n",
        "csv_final.reset_index(drop=True, inplace=True)\n",
        "display(len(train_list))\n",
        "#display(train_list)\n",
        "save_path = path.join('/content/drive/MyDrive/Trabajo_final_VIU/Resources/Annotations','TFM_train.csv')\n",
        "pd.DataFrame(csv_final).to_csv(save_path)"
      ]
    },
    {
      "cell_type": "markdown",
      "source": [
        "## ## Lectura y creación de un nuevo CSV de test"
      ],
      "metadata": {
        "id": "0KDh2BgRjbYH"
      }
    },
    {
      "cell_type": "code",
      "execution_count": null,
      "metadata": {
        "id": "3AXRhSfw0S_n"
      },
      "outputs": [],
      "source": [
        "# cargar csv Test\n",
        "import pandas as pd\n",
        "from os import path\n",
        "\n",
        "test_path = path.join('/content/drive/MyDrive/Trabajo_final_VIU/Resources/Annotations','test.csv')\n",
        "test_csv = pd.read_csv(test_path)\n",
        "# print(test_csv)"
      ]
    },
    {
      "cell_type": "code",
      "execution_count": null,
      "metadata": {
        "id": "Uzo-6GZv18RJ"
      },
      "outputs": [],
      "source": [
        "# Edit CVS para nuestra conveniencia\n",
        "# Identificar solo osteophytos\n",
        "csv_final = test_csv.copy()\n",
        "csv_final = csv_final.loc[:,['image_id','lesion_type','xmin','ymin','xmax','ymax']]\n",
        "csv_final=csv_final[csv_final[\"lesion_type\"]==\"Osteophytes\"]\n",
        "csv_final.reset_index(drop=True, inplace=True)\n",
        "test_list=csv_final[\"image_id\"].unique()\n",
        "# display(csv_final)\n",
        "# display(csv_final)\n",
        "display(len(test_list))\n",
        "save_path = path.join('/content/drive/MyDrive/Trabajo_final_VIU/Resources/Annotations','TFM_test.csv')\n",
        "pd.DataFrame(csv_final).to_csv(save_path)"
      ]
    },
    {
      "cell_type": "markdown",
      "metadata": {
        "id": "KeBrCgHPEp8l"
      },
      "source": [
        "# Cargar Imagen"
      ]
    },
    {
      "cell_type": "code",
      "execution_count": null,
      "metadata": {
        "id": "GybL9y_kmbyJ"
      },
      "outputs": [],
      "source": [
        "BadList=[51,53,54,150,170,181,186,228,232,250,268,270,274,284,\n",
        "         535,533,522,493,475,467,424,423,411,311,319,\n",
        "         1144,1111,1117,1102,1092,1093,1072,1071,1067,1068,1039,\n",
        "         1027,1011,982,978,960,934,927,924,925,\n",
        "         910,912,911,915,913,914,896,876,875,867,\n",
        "         858,864,847,827,815,814,816,812,811,809,\n",
        "         805,806,801,770,771,768,769,767,766,\n",
        "         761,762,764,765,760,759,733,734,735,\n",
        "         678,682,684,671,608,607,602,585,586,560,1234,1240,1242,1291,1289,1285,\n",
        "         1297,1302,1305,1301,1303,1304,1314,1311,1315,1317,1312,1320,1318,1319,1322\n",
        "         ,1323,1347,1348,1351,1363,1352,1361,1370,1372,1366,1404,1413,1424,1429,1444\n",
        "         ,1442,1464,1488,1487,1494,1512,1513,1514,1515,1518,1520,1555,1598,1599,1601\n",
        "         ,1618,1630,1632,1635,1641,1639,1640,1650,1646,1648,1658,1657,1672,1670,1668,\n",
        "         1710,1784,1815,1868,1883,1902,1919,1929,1941,1950,1983,1989,1993,1991,1994,1997\n",
        "         ,1999,2000,2004,2008,2006,2013,2012,2014,2041,2173,2244,2251,2280,2275,2278,2301\n",
        "         ,2307,2305,2315,2348,2347,2343,2391,2488,2487,2486,2491,2493,2490,2503,2505,2519\n",
        "         ,2523,2522,2540,2577,2594,2600,2622,2654,2653,2655,2652,2669,2666,2657,2665,2662,2680\n",
        "         ,2681,2679,2683,2684,2682,2686,2724,2729,2725,2732,2736,2734,2735,2737,2757,2770,2765\n",
        "         ,2766,2810,2809,2813,2817,2815,2842,2840,2844,2879,2890,2889,2894,2955,2963,2964,2970,\n",
        "         2978,2972,2969,2983,2991,2993,2996,3000,3008,3030,3091,3084,3083,3086,3087,3130,3164,\n",
        "         3167,3163,3169,3171,3168,3173,3170,3175,3181,3183,3200,3202,3212,3260,3266,3277,3280,\n",
        "         3282,3288,3284,3291,3290,3324,3330,3381,3395,3455,3463,3472,3494,3583,3603,3605,3655,\n",
        "         3654,3663,3692,3694,3695,3758,3762,3757,3763,3760,3764,3765,3784,3783,3780,3787,3788,\n",
        "         3790,3797,3798,3805,3804,3824,3892,3921,3925,3927,3928,3963,3979,4011,4002,4005,4008,\n",
        "         4022,4046,4054,4066,4064,4062,4063,4059,4061,4067,4104,4117,4122,4135,4131,4130,4137,4188,\n",
        "         4189,4190,4194,4262,4284,4292,4291,4294,4297,4308,4299,4296,4363,4364,4378,4387,4402,4398,\n",
        "         4400,4401,4449,4444,4443,4522,4524,4527,4525,4532,4529,4537,4546,4547,4570,4613,4632,4627,\n",
        "         4625,4626,4664,4659,4671,4695,4698,4693,4715,4720,4725,4733,4743,4749,4742,4771,4775,4779,4867,\n",
        "         4917,4943,4942,4949,4951,4991,4996,4995,5022,5041,5043,5032,5038,5053,5057,5059,5086,5088,5089,\n",
        "         5090,5093,5096,5092,5177,5193,5198,5201,5264,5270,5275,5283,5304,5305,5303,5306,5309,5311,5312,\n",
        "         5310,5317,5314,5315,5313,5318,5320,5325,5338,5343,5341,5342,5358,5364,5397,5409,5416,5415,5420,\n",
        "         5425,5427,5422,5471,5494,5495,5498,5499,5508,5510,5516,5525,5528,5565,5573,5600,5601,5609,5636,\n",
        "         5635,5639,5643,5640,5648,5646,5656,5657,5658,5654,5665,5676,5671,5667,5686,5682,5710,5711,5707,\n",
        "         5712,5713,5714,5724,5720,5721,5742,5756,5759,5784,5782,5783,5804,5835,5847,5878,5886,5887,5971,5966,5994,6000]"
      ]
    },
    {
      "cell_type": "code",
      "execution_count": null,
      "metadata": {
        "id": "Z-EjNOoFITRY"
      },
      "outputs": [],
      "source": [
        "# Creacion Data Frame\n",
        "cortes_train = pd.DataFrame(columns=['Nom_Img', 'Nom_Train', 'Width_Img','Heigt_Img','LineH','LineV'],index=range(1020))\n",
        "cortes_train.shape"
      ]
    },
    {
      "cell_type": "code",
      "execution_count": null,
      "metadata": {
        "id": "inCgj1Q7JRSi"
      },
      "outputs": [],
      "source": [
        "# Leer el Data Frame\n",
        "from os import path\n",
        "read_path = path.join('/content/drive/MyDrive/Trabajo_final_VIU/Resources/Annotations','TFM_cortes.csv')\n",
        "cortes_train = pd.read_csv(read_path, index_col=[0])"
      ]
    },
    {
      "cell_type": "code",
      "execution_count": null,
      "metadata": {
        "id": "E-z1QEELk0dP"
      },
      "outputs": [],
      "source": [
        "def Cargar_imagen(Num_img):\n",
        "  Train_image_dir = '/content/drive/MyDrive/Trabajo_final_VIU/Resources/Train_Images'\n",
        "  print(\"Imagen de nombre: \"+train_list[Num_img])\n",
        "  img=cv2.imread(os.path.join(Train_image_dir, train_list[Num_img]+'.jpg'))\n",
        "  img=cv2.cvtColor(img, cv2.COLOR_BGR2GRAY)\n",
        "  imagen_id=train_list[Num_img]\n",
        "  mask=(train_csv[\"image_id\"]==imagen_id)\n",
        "  df=train_csv[mask]\n",
        "  return(img,imagen_id,df)"
      ]
    },
    {
      "cell_type": "code",
      "execution_count": null,
      "metadata": {
        "id": "V5NZB3z70Mbk"
      },
      "outputs": [],
      "source": [
        "def Graficar(img,df,LineH,LineV,opc):\n",
        "\n",
        "  # Imagen Principal\n",
        "  plt.clf()\n",
        "  fig, ax = plt.subplots()\n",
        "  final_image = Image.fromarray(img)\n",
        "  # Impresión con escala para mejor visualizacion\n",
        "  fig.set_size_inches(20, 20, forward=True)\n",
        "  ax.imshow(final_image, cmap='gray', vmin=0, vmax=255)\n",
        "  #\n",
        "  #dibujar puntos de enfermedad\n",
        "  for i in df.index:\n",
        "      # Create a Rectangle patch\n",
        "      Width= int(df[\"xmax\"][i]-df[\"xmin\"][i])\n",
        "      Height=int(df[\"ymax\"][i]-df[\"ymin\"][i])\n",
        "#     Ver Imagen con Restricciones\n",
        "      if (opc==1):\n",
        "        if not(i in BadList):\n",
        "          rect = patches.Rectangle((int(df[\"xmin\"][i]), int(df[\"ymin\"][i])), Width, Height, linewidth=2, edgecolor='r', facecolor='none')\n",
        "          plt.text(int(df[\"xmin\"][i]), int(df[\"ymin\"][i]),str(i))\n",
        "          ax.add_patch(rect)\n",
        "      else:\n",
        "        # Ver imagen normal sin restricciones\n",
        "        rect = patches.Rectangle((int(df[\"xmin\"][i]), int(df[\"ymin\"][i])), Width, Height, linewidth=2, edgecolor='r', facecolor='none')\n",
        "        plt.text(int(df[\"xmin\"][i]), int(df[\"ymin\"][i]),str(i))\n",
        "        ax.add_patch(rect)\n",
        "\n",
        "  if (opc!=2):\n",
        "    #Lineas de Corte\n",
        "    for n in LineH:\n",
        "      plt.axhline(y=n, color=\"g\")\n",
        "    for n in LineV:\n",
        "      plt.axvline(x=n, color=\"g\")\n",
        "\n",
        "  plt.show()"
      ]
    },
    {
      "cell_type": "code",
      "execution_count": null,
      "metadata": {
        "id": "ys2xcqfe1_NP"
      },
      "outputs": [],
      "source": [
        "def Creacion_Lineas(Num_img,img,df,Stdar):\n",
        "  img_height,img_width=np.array(img).shape[0],np.array(img).shape[1]\n",
        "  NLineasy=img_height//Stdar\n",
        "  Nlineasx=img_width//Stdar\n",
        "  LineH=[0]\n",
        "\n",
        "  for n in range(1,NLineasy+1):\n",
        "    LineH.append(n*640)\n",
        "  n=0\n",
        "  while (n<(len(LineH))):\n",
        "    for i in df.index:\n",
        "      if((df[\"ymin\"][i]<=LineH[n])and(LineH[n]<=df[\"ymax\"][i])) and not(i in BadList):\n",
        "        LineH[n]=int(df[\"ymin\"][i])-5\n",
        "        for j in range(n+1,len(LineH)):\n",
        "          LineH[j]=LineH[j-1]+640\n",
        "        n=n-1\n",
        "      if(img_height-LineH[-1]>640):\n",
        "        LineH.append(LineH[-1]+640)\n",
        "    n+=1\n",
        "  if(LineH[-1]!=img_height-1):\n",
        "    LineH.append(img_height-1)\n",
        "\n",
        "\n",
        "\n",
        "  LineV=[0]\n",
        "  for n in range(1,Nlineasx+1):\n",
        "    LineV.append(n*640)\n",
        "\n",
        "  n=0\n",
        "  while (n<(len(LineV))):\n",
        "    for i in df.index:\n",
        "      if((df[\"xmin\"][i]<=LineV[n])and(LineV[n]<=df[\"xmax\"][i]))and not(i in BadList):\n",
        "        LineV[n]=int(df[\"xmin\"][i])-2\n",
        "        for j in range(n+1,len(LineV)):\n",
        "          LineV[j]=LineV[j-1]+640\n",
        "        n=n-1\n",
        "    if(img_width-LineV[-1]>640):\n",
        "      LineV.append(LineV[-1]+640)\n",
        "    n+=1\n",
        "  if(LineV[-1]!=img_width-1):\n",
        "    LineV.append(img_width-1)\n",
        "\n",
        "\n",
        "  # Añadir al cvs\n",
        "  cortes_train.loc[Num_img] = [train_list[Num_img],'imagen'+str(Num_img),img_width,img_height,LineH,LineV]\n",
        "  # print(cortes_train.loc[Num_img])\n",
        "  save_path = path.join('/content/drive/MyDrive/Trabajo_final_VIU/Resources/Annotations','TFM_cortes.csv')\n",
        "  pd.DataFrame(cortes_train).to_csv(save_path)\n",
        "  # display(cortes_train)\n",
        "  # display(cortes_train.columns)\n",
        "\n",
        "  return(LineH,LineV)"
      ]
    },
    {
      "cell_type": "code",
      "execution_count": null,
      "metadata": {
        "id": "i_LS5m3BEvoM"
      },
      "outputs": [],
      "source": [
        "# generar imagen y recortes\n",
        "import matplotlib.patches as patches\n",
        "import matplotlib.pylab as plt\n",
        "from PIL import Image\n",
        "#sacar las cajas de la imagen\n",
        "for Num_img in range(100,150):\n",
        "  img,imagen_id,df = Cargar_imagen(Num_img)\n",
        "  LineH,LineV = Creacion_Lineas(Num_img,img,df,640)\n",
        "  Graficar(img,df,LineH,LineV,0)\n",
        "  Graficar(img,df,LineH,LineV,1)  #df son los puntos que nos entrega el Csv original: 0 para ver todos los puntos; 1 para ver solo los puntos correctos(Sin errores)\n",
        "  Graficar(img,df,LineH,LineV,2)  #Solo grafica la imagenes y las detecciones."
      ]
    },
    {
      "cell_type": "code",
      "execution_count": null,
      "metadata": {
        "id": "U6-01VlIrU5Q"
      },
      "outputs": [],
      "source": [
        "# Leer el Data Frame\n",
        "read_path = path.join('/content/drive/MyDrive/Trabajo_final_VIU/Resources/Annotations','TFM_cortes.csv')\n",
        "cortes_train = pd.read_csv(read_path, index_col=[0])\n",
        "print(cortes_train.columns)"
      ]
    },
    {
      "cell_type": "code",
      "execution_count": null,
      "metadata": {
        "id": "N6qU00ylYteg"
      },
      "outputs": [],
      "source": [
        "# Recorte de Imagenes y Creacion de Train\n",
        "# Crop\n",
        "# #sacar las cajas de la imagen\n",
        "def Crop_img (Num_img,img,df,LineH,LineV):\n",
        "  global contar\n",
        "  h=0\n",
        "  cont=1\n",
        "  while (h<(len(LineH)-1)):\n",
        "    v=0\n",
        "    while (v<(len(LineV)-1)):\n",
        "      y1=int(LineH[h])\n",
        "      y2=int(LineH[h+1])\n",
        "      x1=int(LineV[v])\n",
        "      x2=int(LineV[v+1])\n",
        "      Imagen2=[]\n",
        "      Aux=\"\"\n",
        "      path = \"/content/drive/MyDrive/Trabajo_final_VIU/Resources/Train_\"+str(contar//500)+\"/\"+\"labels/\"\n",
        "      isExist = os.path.exists(path)\n",
        "      if not isExist:\n",
        "        os.makedirs(path)\n",
        "\n",
        "      for i in df.index:\n",
        "        Xcenter=int((df[\"xmax\"][i]+df[\"xmin\"][i])/(2))\n",
        "        Ycenter=int((df[\"ymax\"][i]+df[\"ymin\"][i])/(2))\n",
        "        Width= int(df[\"xmax\"][i]-df[\"xmin\"][i])\n",
        "        Height=int(df[\"ymax\"][i]-df[\"ymin\"][i])\n",
        "        if(((y1<=Ycenter)and(Ycenter<=y2)) and ((x1<=Xcenter)and(Xcenter<=x2))):\n",
        "          if not(i in BadList):\n",
        "            Aux=Aux+str(\"0\"+\" \"+str((Xcenter-x1)/(x2-x1))+\" \"+str((Ycenter-y1)/(y2-y1))+\" \"+str(Width/(x2-x1))+\" \"+str(Height/(y2-y1))+ \"\\n\")\n",
        "      #Impresión en TXT\n",
        "      path=\"/content/drive/MyDrive/Trabajo_final_VIU/Resources/Train_\"+str(contar//500)+\"/\"+\"labels/\"\n",
        "      isExist = os.path.exists(path)\n",
        "      if not isExist:\n",
        "        os.makedirs(path)\n",
        "      with open(path+\"imagen\"+str(Num_img)+\"-\"+str(cont)+\".txt\", 'w') as txt_file:\n",
        "         txt_file.write(str(Aux))\n",
        "      Imagen2 = img[y1:y2,x1:x2]\n",
        "      path=\"/content/drive/MyDrive/Trabajo_final_VIU/Resources/Train_\"+str(contar//500)+\"/\"+\"images/\"\n",
        "      isExist = os.path.exists(path)\n",
        "      if not isExist:\n",
        "        os.makedirs(path)\n",
        "      destination= path +\"imagen\"+str(Num_img)+\"-\"+str(cont)+'.jpg'\n",
        "      cv2.imwrite(destination, Imagen2)\n",
        "      contar+=1\n",
        "      cont+=1\n",
        "      v+=1\n",
        "    h+=1\n"
      ]
    },
    {
      "cell_type": "code",
      "execution_count": null,
      "metadata": {
        "id": "aWwBPR1_ewpM"
      },
      "outputs": [],
      "source": [
        "#Crop de las imagenes\n",
        "LineHcsv=np.array(cortes_train[\"LineH\"])\n",
        "LineVcsv=np.array(cortes_train[\"LineV\"])\n",
        "contar=0\n",
        "\n",
        "for Num_img in range(0,1):\n",
        "  img,imagen_id,df = Cargar_imagen(Num_img)\n",
        "  Graficar(img,df,LineH,LineV,1)  #df son los puntos que nos entrega el Csv original: 0 para ver todos los puntos; 1 para ver solo los puntos correctos\n",
        "  LineH=LineHcsv[Num_img][1:-1].split(\", \")\n",
        "  LineV=LineVcsv[Num_img][1:-1].split(\", \")\n",
        "  Crop_img(Num_img,img,df,LineH,LineV)\n"
      ]
    },
    {
      "cell_type": "markdown",
      "metadata": {
        "id": "wZiyArQgOP4U"
      },
      "source": [
        "#Crop de imagenes solo entrenamiento\n"
      ]
    },
    {
      "cell_type": "code",
      "execution_count": null,
      "metadata": {
        "id": "mQLEFxl4OPcL"
      },
      "outputs": [],
      "source": [
        "# Recorte de Imagenes y Creacion de Train\n",
        "# Crop\n",
        "# #sacar las cajas de la imagen\n",
        "def Crop_img2 (Num_img,img,df,LineH,LineV):\n",
        "  # print(\"Imagen \"+str(Num_img))\n",
        "  # print(LineH)\n",
        "  # print(LineV)\n",
        "  global contar\n",
        "  h=0\n",
        "  cont=1\n",
        "  while (h<(len(LineH)-1)):\n",
        "    v=0\n",
        "    while (v<(len(LineV)-1)):\n",
        "      y1=int(LineH[h])\n",
        "      y2=int(LineH[h+1])\n",
        "      x1=int(LineV[v])\n",
        "      x2=int(LineV[v+1])\n",
        "      # print(str(y1)+\" \"+str(y2)+\" \"+str(x1)+\" \"+str(x2))\n",
        "      Imagen2=[]\n",
        "      Aux=\"\"\n",
        "\n",
        "      for i in df.index:\n",
        "        Xcenter=int((df[\"xmax\"][i]+df[\"xmin\"][i])/(2))\n",
        "        Ycenter=int((df[\"ymax\"][i]+df[\"ymin\"][i])/(2))\n",
        "        Width= int(df[\"xmax\"][i]-df[\"xmin\"][i])\n",
        "        Height=int(df[\"ymax\"][i]-df[\"ymin\"][i])\n",
        "        if(((y1<=Ycenter)and(Ycenter<=y2)) and ((x1<=Xcenter)and(Xcenter<=x2))):\n",
        "          if not(i in BadList):\n",
        "            Aux=Aux+str(\"0\"+\" \"+str((Xcenter-x1)/(x2-x1))+\" \"+str((Ycenter-y1)/(y2-y1))+\" \"+str(Width/(x2-x1))+\" \"+str(Height/(y2-y1))+ \"\\n\")\n",
        "      #Impresión en TXT\n",
        "      if not (Aux==\"\"):\n",
        "        path=\"/content/drive/MyDrive/Trabajo_final_VIU/Resources/TrainD\"+str(contar//500)+\"/labels/\"\n",
        "        isExist = os.path.exists(path)\n",
        "        if not isExist:\n",
        "          os.makedirs(path)\n",
        "        # print(str(h)+\" \"+str(v))\n",
        "        # print(\"imagen\"+str(j)+\"-\"+str(cont))\n",
        "        # print(Aux)\n",
        "        with open(path+\"imagen\"+str(Num_img)+\"-\"+str(cont)+\".txt\", 'w') as txt_file:\n",
        "          txt_file.write(str(Aux))\n",
        "\n",
        "        Imagen2 = img[y1:y2,x1:x2]\n",
        "        # display(Imagen2)\n",
        "        path=\"/content/drive/MyDrive/Trabajo_final_VIU/Resources/TrainD\"+str(contar//500)+\"/images/\"\n",
        "        isExist = os.path.exists(path)\n",
        "        if not isExist:\n",
        "          os.makedirs(path)\n",
        "        destination= path +\"imagen\"+str(Num_img)+\"-\"+str(cont)+'.jpg'\n",
        "        # print(contar)\n",
        "        cv2.imwrite(destination, Imagen2)\n",
        "        contar+=1\n",
        "      cont+=1\n",
        "      v+=1\n",
        "    h+=1"
      ]
    },
    {
      "cell_type": "code",
      "execution_count": null,
      "metadata": {
        "id": "6A3hEvduOcwk"
      },
      "outputs": [],
      "source": [
        "#Crop de las imagenes\n",
        "LineHcsv=np.array(cortes_train[\"LineH\"])\n",
        "LineVcsv=np.array(cortes_train[\"LineV\"])\n",
        "contar=0\n",
        "\n",
        "for Num_img in range(0,1020):\n",
        "  img,imagen_id,df = Cargar_imagen(Num_img)\n",
        "  # Graficar(img,df,LineH,LineV,1)  #df son los puntos que nos entrega el Csv original: 0 para ver todos los puntos; 1 para ver solo los puntos correctos\n",
        "  LineH=LineHcsv[Num_img][1:-1].split(\", \")\n",
        "  LineV=LineVcsv[Num_img][1:-1].split(\", \")\n",
        "  Crop_img2(Num_img,img,df,LineH,LineV)\n",
        "print(contar)"
      ]
    },
    {
      "cell_type": "code",
      "execution_count": null,
      "metadata": {
        "id": "45dNrgjQTL1u"
      },
      "outputs": [],
      "source": [
        "import os\n",
        "import numpy as np\n",
        "BASE_FOLDER=\"/content/drive/MyDrive/Trabajo_final_VIU/Resources/TrainD/\"\n",
        "Lista_imagenes = os.listdir(BASE_FOLDER+'images/')\n",
        "Lista_imagenes.sort()\n",
        "print(len(Lista_imagenes))\n"
      ]
    },
    {
      "cell_type": "markdown",
      "source": [
        "# Crear carpeta YoloV8\n",
        "\n"
      ],
      "metadata": {
        "id": "qr5s8fTbWh2n"
      }
    },
    {
      "cell_type": "markdown",
      "source": [
        "##Creación de carpetas"
      ],
      "metadata": {
        "id": "tsa0SD_BeFLf"
      }
    },
    {
      "cell_type": "code",
      "source": [
        "path=\"/content/drive/MyDrive/Trabajo_final_VIU/YOLOV8/\"\n",
        "isExist = os.path.exists(path)\n",
        "if not isExist:\n",
        "  os.makedirs(path)"
      ],
      "metadata": {
        "id": "pTV2OEKiWlBw"
      },
      "execution_count": null,
      "outputs": []
    },
    {
      "cell_type": "code",
      "source": [
        "path=\"/content/drive/MyDrive/Trabajo_final_VIU/YOLOV8/Model/\"\n",
        "isExist = os.path.exists(path)\n",
        "if not isExist:\n",
        "  os.makedirs(path)"
      ],
      "metadata": {
        "id": "kc7lyASpW4Uv"
      },
      "execution_count": null,
      "outputs": []
    },
    {
      "cell_type": "code",
      "source": [
        "path=\"/content/drive/MyDrive/Trabajo_final_VIU/YOLOV8/Dataset/\"\n",
        "isExist = os.path.exists(path)\n",
        "if not isExist:\n",
        "  os.makedirs(path)"
      ],
      "metadata": {
        "id": "n15-QgiRW43P"
      },
      "execution_count": null,
      "outputs": []
    },
    {
      "cell_type": "code",
      "source": [
        "path=\"/content/drive/MyDrive/Trabajo_final_VIU/YOLOV8/Dataset/train/labels/\"\n",
        "isExist = os.path.exists(path)\n",
        "if not isExist:\n",
        "  os.makedirs(path)"
      ],
      "metadata": {
        "id": "SRLpty18XL1g"
      },
      "execution_count": null,
      "outputs": []
    },
    {
      "cell_type": "code",
      "source": [
        "path=\"/content/drive/MyDrive/Trabajo_final_VIU/YOLOV8/Dataset/val/labels/\"\n",
        "isExist = os.path.exists(path)\n",
        "if not isExist:\n",
        "  os.makedirs(path)"
      ],
      "metadata": {
        "id": "SG1c5m0bXOoY"
      },
      "execution_count": null,
      "outputs": []
    },
    {
      "cell_type": "code",
      "source": [
        "path=\"/content/drive/MyDrive/Trabajo_final_VIU/YOLOV8/Dataset/test/labels/\"\n",
        "isExist = os.path.exists(path)\n",
        "if not isExist:\n",
        "  os.makedirs(path)"
      ],
      "metadata": {
        "id": "SopjdRWMaa9A"
      },
      "execution_count": null,
      "outputs": []
    },
    {
      "cell_type": "code",
      "source": [
        "path=\"/content/drive/MyDrive/Trabajo_final_VIU/YOLOV8/Dataset/train/\"\n",
        "isExist = os.path.exists(path)\n",
        "if not isExist:\n",
        "  os.makedirs(path)"
      ],
      "metadata": {
        "id": "Y3mN4suIXWPS"
      },
      "execution_count": null,
      "outputs": []
    },
    {
      "cell_type": "code",
      "source": [
        "path=\"/content/drive/MyDrive/Trabajo_final_VIU/YOLOV8/Dataset/test/\"\n",
        "isExist = os.path.exists(path)\n",
        "if not isExist:\n",
        "  os.makedirs(path)"
      ],
      "metadata": {
        "id": "aa4aEiqtZT5U"
      },
      "execution_count": null,
      "outputs": []
    },
    {
      "cell_type": "code",
      "source": [
        "path=\"/content/drive/MyDrive/Trabajo_final_VIU/YOLOV8/Dataset/train/images/\"\n",
        "isExist = os.path.exists(path)\n",
        "if not isExist:\n",
        "  os.makedirs(path)"
      ],
      "metadata": {
        "id": "nAq6CZHeXWPX"
      },
      "execution_count": null,
      "outputs": []
    },
    {
      "cell_type": "code",
      "source": [
        "path=\"/content/drive/MyDrive/Trabajo_final_VIU/YOLOV8/Dataset/val/images/\"\n",
        "isExist = os.path.exists(path)\n",
        "if not isExist:\n",
        "  os.makedirs(path)"
      ],
      "metadata": {
        "id": "DUjOj0Y4XWPX"
      },
      "execution_count": null,
      "outputs": []
    },
    {
      "cell_type": "code",
      "source": [
        "path=\"/content/drive/MyDrive/Trabajo_final_VIU/YOLOV8/Dataset/test/images/\"\n",
        "isExist = os.path.exists(path)\n",
        "if not isExist:\n",
        "  os.makedirs(path)"
      ],
      "metadata": {
        "id": "JsFhRuBEaioo"
      },
      "execution_count": null,
      "outputs": []
    },
    {
      "cell_type": "code",
      "source": [
        "import os\n",
        "import numpy as np\n",
        "BASE_FOLDER=\"/content/drive/MyDrive/Trabajo_final_VIU/Resources/TrainDetec/\"\n",
        "Lista_imagenes = os.listdir(BASE_FOLDER+'images/')\n",
        "Lista_imagenes.sort()\n",
        "print(len(Lista_imagenes))"
      ],
      "metadata": {
        "id": "Zl6RzBTkbhcg"
      },
      "execution_count": null,
      "outputs": []
    },
    {
      "cell_type": "code",
      "source": [
        "from sklearn.model_selection import train_test_split\n",
        "train, val = train_test_split(Lista_imagenes, test_size = 0.20, random_state = 100)\n",
        "\n",
        "print(\"Ejemplos usados para entrenar: \", len(train))\n",
        "print(\"Ejemplos usados para validar: \", len(val))"
      ],
      "metadata": {
        "id": "H-SW4apycPFo"
      },
      "execution_count": null,
      "outputs": []
    },
    {
      "cell_type": "markdown",
      "source": [
        "##Mover Imágenes de carpetas"
      ],
      "metadata": {
        "id": "UBDdFOwod-wA"
      }
    },
    {
      "cell_type": "code",
      "source": [
        "train[0]:"
      ],
      "metadata": {
        "id": "pd8tCQwqh-df"
      },
      "execution_count": null,
      "outputs": []
    },
    {
      "cell_type": "code",
      "execution_count": null,
      "metadata": {
        "id": "dBTlTvsCeC_Q"
      },
      "outputs": [],
      "source": [
        "import os\n",
        "import shutil\n",
        "src_folder=\"/content/drive/MyDrive/Trabajo_final_VIU/Resources/TrainD/\"\n",
        "dst_folder=\"/content/drive/MyDrive/Trabajo_final_VIU/YOLOV8/Dataset/val/\"\n",
        "for elemento in val:\n",
        "  elementoN =  elemento.split(\".\")\n",
        "  print(str(elementoN[0]))\n",
        "  src = os.path.join(src_folder+\"images/\", str(elementoN[0])+\".jpg\") # origen\n",
        "  dst = os.path.join(dst_folder+\"images/\", str(elementoN[0])+\".jpg\") # destino\n",
        "  shutil.copy(src, dst)\n",
        "  src = os.path.join(src_folder+\"labels/\", str(elementoN[0])+\".txt\") # origen\n",
        "  dst = os.path.join(dst_folder+\"labels/\", str(elementoN[0])+\".txt\") # destino\n",
        "  shutil.copy(src, dst)"
      ]
    },
    {
      "cell_type": "markdown",
      "metadata": {
        "id": "fXhO55pJlLgN"
      },
      "source": [
        "#Cargar y graficar imagenes creadas"
      ]
    },
    {
      "cell_type": "code",
      "execution_count": null,
      "metadata": {
        "id": "-opArJaPlmr_"
      },
      "outputs": [],
      "source": [
        "def Cargar_imagen(Num_img,Path,Lista):\n",
        "  img=cv2.imread(os.path.join(Path, Lista[Num_img]))\n",
        "  img=cv2.cvtColor(img, cv2.COLOR_BGR2GRAY)\n",
        "  imagen_id=Lista[Num_img]\n",
        "  return(img,imagen_id)"
      ]
    },
    {
      "cell_type": "code",
      "execution_count": null,
      "metadata": {
        "id": "VemJa7xSELWK"
      },
      "outputs": [],
      "source": [
        "import os\n",
        "import numpy as np\n",
        "BASE_FOLDER = \"/content/drive/MyDrive/Trabajo_final_VIU/Resources/Train/\"\n",
        "Lista_imagenes = os.listdir(BASE_FOLDER+'images/')\n",
        "Lista_imagenes.sort()\n",
        "print(Lista_imagenes)\n",
        "display( 'imagen1-1.jpg' in Lista_imagenes)\n"
      ]
    },
    {
      "cell_type": "code",
      "execution_count": null,
      "metadata": {
        "id": "AnEc91hPrmm_"
      },
      "outputs": [],
      "source": [
        "import os\n",
        "import numpy as np\n",
        "BASE_FOLDER = \"/content/drive/MyDrive/Trabajo_final_VIU/Resources/Train/\"\n",
        "Lista_labels = os.listdir(BASE_FOLDER+'labels/')\n",
        "Lista_labels.sort()\n",
        "print(Lista_labels)\n",
        "display( 'imagen1-1.txt' in Lista_labels)"
      ]
    },
    {
      "cell_type": "code",
      "execution_count": null,
      "metadata": {
        "id": "C_jTLPyyrO3f"
      },
      "outputs": [],
      "source": [
        "def boxes(Num_img):\n",
        "  path=\"/content/drive/MyDrive/Trabajo_final_VIU/Resources/Train/labels/\"\n",
        "  DF=[]\n",
        "  with open(path+Lista_labels[Num_img], 'r') as txt_file:\n",
        "    df=txt_file.read()\n",
        "  # print(df)\n",
        "  df2=df.split(\"\\n\")\n",
        "  # print(df2)\n",
        "  for i in range(len(df2)):\n",
        "    df3 = df2[i].split(\" \")\n",
        "    if (df3!=[]):\n",
        "      DF.append(df3)\n",
        "  DF.pop(-1)\n",
        "  # print(DF)\n",
        "  # print(len(DF))\n",
        "  Data=pd.DataFrame(DF,columns=[\"Class\",\"Xcenter\",\"Ycenter\",\"Width\",\"Height\"])\n",
        "  # print(Data)\n",
        "  return(Data)"
      ]
    },
    {
      "cell_type": "code",
      "execution_count": null,
      "metadata": {
        "id": "6PW1XpXhS6tO"
      },
      "outputs": [],
      "source": [
        "def Graficar(img,df):\n",
        "\n",
        "  # Imagen Principal\n",
        "  #plt.clf()\n",
        "  fig, ax = plt.subplots()\n",
        "  final_image = Image.fromarray(img)\n",
        "  # Impresión con escala para mejor visualizacion\n",
        "  #fig.set_size_inches(10, 10, forward=True)\n",
        "  ax.imshow(final_image, cmap='gray', vmin=0, vmax=255)\n",
        "  #\n",
        "  #dibujar puntos de enfermedad\n",
        "  img_height,img_width=np.array(img).shape[0],np.array(img).shape[1]\n",
        "\n",
        "  for i in df.index:\n",
        "      # Create a Rectangle patch\n",
        "      Width = int(float(df[\"Width\"][i])*img_width)\n",
        "      Height= int(float(df[\"Height\"][i])*img_height)\n",
        "      xmin= int((float(df[\"Xcenter\"][i])*img_width)- Width/2)\n",
        "      ymin= int((float(df[\"Ycenter\"][i])*img_height) - Height/2)\n",
        "\n",
        "#     Ver Imagen con Restricciones\n",
        "      rect = patches.Rectangle((xmin,ymin), int(Width), int(Height), linewidth=2, edgecolor='r', facecolor='none')\n",
        "      plt.text(xmin, ymin,str(i))\n",
        "      ax.add_patch(rect)\n",
        "  plt.show()"
      ]
    },
    {
      "cell_type": "code",
      "execution_count": null,
      "metadata": {
        "id": "zPysDLWGh_U_"
      },
      "outputs": [],
      "source": [
        "# Cargar imagen y graficar las nuevas\\\n",
        "for Num_img in range(0, 10):\n",
        "  Path=\"/content/drive/MyDrive/Trabajo_final_VIU/Resources/Train/images/\"\n",
        "  img,imagen_id = Cargar_imagen(Num_img,Path,Lista_imagenes)\n",
        "  print(imagen_id)\n",
        "  Data=boxes(Num_img)\n",
        "\n",
        "  Graficar(img,Data)\n",
        "  plt.show()"
      ]
    },
    {
      "cell_type": "code",
      "execution_count": null,
      "metadata": {
        "id": "2wgcEEyqmn_P"
      },
      "outputs": [],
      "source": []
    },
    {
      "cell_type": "code",
      "execution_count": null,
      "metadata": {
        "id": "fQ9I_Pt9Hwx0"
      },
      "outputs": [],
      "source": [
        "BASE_FOLDER = \"/content/drive/MyDrive/Trabajo_final_VIU/Resources/Train/\"\n",
        "Lista = os.listdir(BASE_FOLDER+'labels/')\n",
        "print(len(Lista))\n",
        "display( 'imagen1-1.txt' in Lista)"
      ]
    },
    {
      "cell_type": "markdown",
      "metadata": {
        "id": "kG46vrv2g9gO"
      },
      "source": [
        "#Test dataset\n"
      ]
    },
    {
      "cell_type": "code",
      "execution_count": null,
      "metadata": {
        "id": "BmXoyspZE_os"
      },
      "outputs": [],
      "source": [
        "badlisttest=[30,31,32,33,45,52,\n",
        "70,81,80,92,188,187,193,204,224,222,249,243,248,244,240,239,247,\n",
        "267,266,274,277,283,305,313,449,443,465,466,468,467,\n",
        "477,478,480,479,482,483,486,487,488,489,495,497,508,\n",
        "513,521,522,523,520,517,518,519,531,535,529,528,524,\n",
        "539,540,542,600,608,618,764,\n",
        "794,786,787,792,813,825,839,841,844,845,\n",
        "848,852,865,871,870,928,937,936,933,938,\n",
        "946,952,978,976,973,982,981,989,993,\n",
        "999,997,1029,1026,1025,1024,1033,1056,\n",
        "1150,1188,1181,1178,1177,1180,1187,1191,1197,1196,1164,1200,1189,\n",
        "1221,1220,1239,1240,1245,1309,1310,1313,1312,1325,1335,1358,1365,1363,\n",
        "1380,1381,1407,1422,1417,1421,1420,1434,1432,1433,1443,1463,1469,1468,\n",
        "1470,1475,1476,1482,1549,1563,1573,1671,\n",
        "1681,1682,1674,1676,1690,1683,1703,1699,1705,\n",
        "1743,1751,1755,1789,1791,1794,1862,1859,\n",
        "1903,1901,1906,1947,1948,1951,\n",
        "1952,1960,1971,1968,1984,2041,2056,2058,2056,\n",
        "2073,2093,2103,2119,2127,2130,2133,2134,2183,2180,\n",
        "2186,2187,2207,2203,2253,2298,2294,2340,2338,2341,2336,\n",
        "2350,2363,2364,2391,2394,2395,2396,2419,\n",
        "2434,2556,2566,2569,2601,2602,2600,\n",
        "2624,2638,2640,2648,2656,2661,2660,2666,\n",
        "2672,26710,2678,2677,2701,2696,2733,2734,2741,2762,\n",
        "2779,2799,2807,2813,7827,2927,2938,2934,2930,2957,\n",
        "2959,2975,2977,2976,2991,3026,\n",
        "3056,3057,3062,3063,3064,3074,3088,3098,\n",
        "3106,3104,3102,3101,3108,3126,3128,\n",
        "3133,3134,3149,3147,3157,3173,3235,3258,3253,\n",
        "3263,3277,3278,3274,3275,3306,3331,3335,3334,3349,\n",
        "3353,3365,3366,3384,3383,3411,3406,3410,3408,\n",
        "3415,3425,3431,3433,3457,3454,3459,3452,3460,\n",
        "3536,3538,3539,3580,3581,3602,3643,3647,3663,3658,3660,\n",
        "3669,3686,3692,3695,3712,3724,3727,3728,3732,3733,\n",
        "3737,3766,3768,3778,3780,3788,3788,3799,3811,3812,3836,\n",
        "3873,3880,3909,3910,3911,3912,3913,3943,3942,3953,3958,3964,3957,\n",
        "3978,4005,4058,4059,4077,4080,4081,4086,4098,4153,4160,4167,4177,4188,4189,4190,\n",
        "4217,4216,4228,4235,4244,4258,4273,4276,4306,4357,4356,4367,4492,4493,4499,4525,\n",
        "4589,4586,4591,4592,4685,4699,4705,4709,4710,4712,4711,4713,4714,4718,4726,4727,4735,4740]"
      ]
    },
    {
      "cell_type": "code",
      "execution_count": null,
      "metadata": {
        "id": "hflhhl39Kk3t"
      },
      "outputs": [],
      "source": [
        "BASE_FOLDER = \"/content/drive/MyDrive/Trabajo_final_VIU/Resources/Test_Images/\"\n",
        "Lista = os.listdir(BASE_FOLDER)\n",
        "print(len(Lista))\n",
        "display( 'imagen1-1.txt' in Lista)"
      ]
    },
    {
      "cell_type": "code",
      "execution_count": null,
      "metadata": {
        "id": "-G4Qdrrek5_X"
      },
      "outputs": [],
      "source": [
        "# Creacion Data Frame\n",
        "cortes_test = pd.DataFrame(columns=['Nom_Img', 'Nom_Test', 'Width_Img','Heigt_Img','LineH','LineV'],index=range(878))\n",
        "cortes_test.shape"
      ]
    },
    {
      "cell_type": "code",
      "execution_count": null,
      "metadata": {
        "id": "HHQ963kuLn2u"
      },
      "outputs": [],
      "source": [
        "def Cargar_imagen(Num_img):\n",
        "  Test_image_dir = '/content/drive/MyDrive/Trabajo_final_VIU/Resources/Test_Images'\n",
        "  img=cv2.imread(os.path.join(Test_image_dir, test_list[Num_img]+'.jpg'))\n",
        "  img=cv2.cvtColor(img, cv2.COLOR_BGR2GRAY)\n",
        "  imagen_id=test_list[Num_img]\n",
        "  mask=(test_csv[\"image_id\"]==imagen_id)\n",
        "  df=test_csv[mask]\n",
        "  return(img,imagen_id,df)"
      ]
    },
    {
      "cell_type": "code",
      "execution_count": null,
      "metadata": {
        "id": "bonf4bVkLxB4"
      },
      "outputs": [],
      "source": [
        "def Graficar(img,df,LineH,LineV,opc):\n",
        "\n",
        "  # Imagen Principal\n",
        "  plt.clf()\n",
        "  fig, ax = plt.subplots()\n",
        "  final_image = Image.fromarray(img)\n",
        "  # Impresión con escala para mejor visualizacion\n",
        "  fig.set_size_inches(20, 20, forward=True)\n",
        "  ax.imshow(final_image, cmap='gray', vmin=0, vmax=255)\n",
        "  #\n",
        "  #dibujar puntos de enfermedad\n",
        "  for i in df.index:\n",
        "      # Create a Rectangle patch\n",
        "      Width= int(df[\"xmax\"][i]-df[\"xmin\"][i])\n",
        "      Height=int(df[\"ymax\"][i]-df[\"ymin\"][i])\n",
        "#     Ver Imagen con Restricciones\n",
        "      if (opc==1):\n",
        "        if not(i in badlisttest):\n",
        "          rect = patches.Rectangle((int(df[\"xmin\"][i]), int(df[\"ymin\"][i])), Width, Height, linewidth=2, edgecolor='r', facecolor='none')\n",
        "          print(i,(int(df[\"xmin\"][i]),int(df[\"ymin\"][i]),Width,Height))\n",
        "          plt.text(int(df[\"xmin\"][i]), int(df[\"ymin\"][i]),str(i))\n",
        "          ax.add_patch(rect)\n",
        "      else:\n",
        "        # Ver imagen normal sin restricciones\n",
        "        rect = patches.Rectangle((int(df[\"xmin\"][i]), int(df[\"ymin\"][i])), Width, Height, linewidth=2, edgecolor='r', facecolor='none')\n",
        "        plt.text(int(df[\"xmin\"][i]), int(df[\"ymin\"][i]),str(i))\n",
        "        ax.add_patch(rect)\n",
        "\n",
        "\n",
        "  #Lineas de Corte\n",
        "  for n in LineH:\n",
        "    plt.axhline(y=n, color=\"g\")\n",
        "  for n in LineV:\n",
        "    plt.axvline(x=n, color=\"g\")\n",
        "\n",
        "  plt.show()"
      ]
    },
    {
      "cell_type": "code",
      "execution_count": null,
      "metadata": {
        "id": "NBVFEUcFOfau"
      },
      "outputs": [],
      "source": [
        "def Creacion_Lineas(Num_img,img,df,Stdar):\n",
        "  img_height,img_width=np.array(img).shape[0],np.array(img).shape[1]\n",
        "  NLineasy=img_height//Stdar\n",
        "  Nlineasx=img_width//Stdar\n",
        "  print(NLineasy,\" \",Nlineasx)\n",
        "\n",
        "  LineH=[0]\n",
        "\n",
        "  for n in range(1,NLineasy+1):\n",
        "    LineH.append(n*640)\n",
        "  print(LineH)\n",
        "  n=0\n",
        "  while (n<(len(LineH))):\n",
        "    print(n)\n",
        "    for i in df.index:\n",
        "      if((df[\"ymin\"][i]<=LineH[n])and(LineH[n]<=df[\"ymax\"][i])) and not(i in badlisttest):\n",
        "        LineH[n]=int(df[\"ymin\"][i])-5\n",
        "        for j in range(n+1,len(LineH)):\n",
        "          LineH[j]=LineH[j-1]+640\n",
        "        n=n-1\n",
        "        print(LineH)\n",
        "      if(img_height-LineH[-1]>640):\n",
        "        LineH.append(LineH[-1]+640)\n",
        "    n+=1\n",
        "  if(LineH[-1]!=img_height-1):\n",
        "    LineH.append(img_height-1)\n",
        "  print(LineH)\n",
        "\n",
        "\n",
        "  LineV=[0]\n",
        "  for n in range(1,Nlineasx+1):\n",
        "    LineV.append(n*640)\n",
        "  print(LineV)\n",
        "\n",
        "  n=0\n",
        "  while (n<(len(LineV))):\n",
        "    print(n)\n",
        "    for i in df.index:\n",
        "      if((df[\"xmin\"][i]<=LineV[n])and(LineV[n]<=df[\"xmax\"][i]))and not(i in badlisttest):\n",
        "        LineV[n]=int(df[\"xmin\"][i])-2\n",
        "        for j in range(n+1,len(LineV)):\n",
        "          LineV[j]=LineV[j-1]+640\n",
        "        n=n-1\n",
        "        print(LineV)\n",
        "    if(img_width-LineV[-1]>640):\n",
        "      LineV.append(LineV[-1]+640)\n",
        "    n+=1\n",
        "  if(LineV[-1]!=img_width-1):\n",
        "    LineV.append(img_width-1)\n",
        "  print(LineV)\n",
        "\n",
        "  # Añadir al cvs\n",
        "  cortes_test.loc[Num_img] = [train_list[Num_img],'imagen'+str(Num_img),img_width,img_height,LineH,LineV]\n",
        "  # print(cortes_train.loc[Num_img])\n",
        "  save_path = path.join('/content/drive/MyDrive/Trabajo_final_VIU/Resources/Annotations','TFM_test_cortes.csv')\n",
        "  pd.DataFrame(cortes_test).to_csv(save_path)\n",
        "  # display(cortes_train)\n",
        "  # display(cortes_train.columns)\n",
        "\n",
        "  return(LineH,LineV)"
      ]
    },
    {
      "cell_type": "code",
      "execution_count": null,
      "metadata": {
        "id": "yEz8SzzdL2yv"
      },
      "outputs": [],
      "source": [
        "# generar imagen y recortes\n",
        "import matplotlib.patches as patches\n",
        "import matplotlib.pylab as plt\n",
        "from PIL import Image\n",
        "#sacar las cajas de la imagen\n",
        "for Num_img in range(0,len(test_list)):\n",
        "# Num_img=1\n",
        "  print(Num_img)\n",
        "  img,imagen_id,df = Cargar_imagen(Num_img)\n",
        "  LineH,LineV = Creacion_Lineas(Num_img,img,df,640)\n",
        "  # Graficar(img,df,LineH,LineV,1)"
      ]
    },
    {
      "cell_type": "markdown",
      "metadata": {
        "id": "kHV0OLn9MHhP"
      },
      "source": [
        "#Crop de imagenes solo entranamiento\n"
      ]
    },
    {
      "cell_type": "code",
      "source": [
        "import pandas as pd\n",
        "from os import path"
      ],
      "metadata": {
        "id": "b-PHUU8Hrpv_"
      },
      "execution_count": null,
      "outputs": []
    },
    {
      "cell_type": "code",
      "source": [
        "# Leer el Data Frame\n",
        "read_path = path.join('/content/drive/MyDrive/Trabajo_final_VIU/Resources/Annotations','TFM_test_cortes.csv')\n",
        "cortes_test = pd.read_csv(read_path, index_col=[0])\n",
        "print(cortes_test)"
      ],
      "metadata": {
        "id": "-wCg6ZsjFS_7"
      },
      "execution_count": null,
      "outputs": []
    },
    {
      "cell_type": "code",
      "execution_count": null,
      "metadata": {
        "id": "iOy0_4DFMHhQ"
      },
      "outputs": [],
      "source": [
        "# Recorte de Imagenes y Creacion de Test\n",
        "# Crop\n",
        "# #sacar las cajas de la imagen\n",
        "def Crop_img2 (Num_img,img,df,LineH,LineV):\n",
        "  # print(\"Imagen \"+str(Num_img))\n",
        "  # print(LineH)\n",
        "  # print(LineV)\n",
        "  global contar\n",
        "  h=0\n",
        "  cont=1\n",
        "  while (h<(len(LineH)-1)):\n",
        "    v=0\n",
        "    while (v<(len(LineV)-1)):\n",
        "      y1=int(LineH[h])\n",
        "      y2=int(LineH[h+1])\n",
        "      x1=int(LineV[v])\n",
        "      x2=int(LineV[v+1])\n",
        "      # print(str(y1)+\" \"+str(y2)+\" \"+str(x1)+\" \"+str(x2))\n",
        "      Imagen2=[]\n",
        "      Aux=\"\"\n",
        "\n",
        "      for i in df.index:\n",
        "        Xcenter=int((df[\"xmax\"][i]+df[\"xmin\"][i])/(2))\n",
        "        Ycenter=int((df[\"ymax\"][i]+df[\"ymin\"][i])/(2))\n",
        "        Width= int(df[\"xmax\"][i]-df[\"xmin\"][i])\n",
        "        Height=int(df[\"ymax\"][i]-df[\"ymin\"][i])\n",
        "        if(((y1<=Ycenter)and(Ycenter<=y2)) and ((x1<=Xcenter)and(Xcenter<=x2))):\n",
        "          if not(i in badlisttest):\n",
        "            Aux=Aux+str(\"0\"+\" \"+str((Xcenter-x1)/(x2-x1))+\" \"+str((Ycenter-y1)/(y2-y1))+\" \"+str(Width/(x2-x1))+\" \"+str(Height/(y2-y1))+ \"\\n\")\n",
        "      #Impresión en TXT\n",
        "      if not (Aux==\"\"):\n",
        "        path=\"/content/drive/MyDrive/Trabajo_final_VIU/YOLOV8/Dataset/test/\"+\"/labels/\"\n",
        "        isExist = os.path.exists(path)\n",
        "        if not isExist:\n",
        "          os.makedirs(path)\n",
        "        # print(str(h)+\" \"+str(v))\n",
        "        # print(\"imagen\"+str(j)+\"-\"+str(cont))\n",
        "        # print(Aux)\n",
        "        with open(path+\"imagen\"+str(Num_img)+\"-\"+str(cont)+\".txt\", 'w') as txt_file:\n",
        "          txt_file.write(str(Aux))\n",
        "\n",
        "        Imagen2 = img[y1:y2,x1:x2]\n",
        "        # display(Imagen2)\n",
        "        path=\"/content/drive/MyDrive/Trabajo_final_VIU/YOLOV8/Dataset/test/\"+\"/images/\"\n",
        "        isExist = os.path.exists(path)\n",
        "        if not isExist:\n",
        "          os.makedirs(path)\n",
        "        destination= path +\"imagen\"+str(Num_img)+\"-\"+str(cont)+'.jpg'\n",
        "        # print(contar)\n",
        "        cv2.imwrite(destination, Imagen2)\n",
        "        contar+=1\n",
        "      cont+=1\n",
        "      v+=1\n",
        "    h+=1"
      ]
    },
    {
      "cell_type": "code",
      "execution_count": null,
      "metadata": {
        "id": "KksyzBmEMHhQ"
      },
      "outputs": [],
      "source": [
        "#Crop de las imagenes\n",
        "LineHcsv=np.array(cortes_test[\"LineH\"])\n",
        "LineVcsv=np.array(cortes_test[\"LineV\"])\n",
        "contar=0\n",
        "\n",
        "for Num_img in range(0,len(test_list)):\n",
        "  img,imagen_id,df = Cargar_imagen(Num_img)\n",
        "  # Graficar(img,df,LineH,LineV,1)  #df son los puntos que nos entrega el Csv original: 0 para ver todos los puntos; 1 para ver solo los puntos correctos\n",
        "  LineH=LineHcsv[Num_img][1:-1].split(\", \")\n",
        "  LineV=LineVcsv[Num_img][1:-1].split(\", \")\n",
        "  Crop_img2(Num_img,img,df,LineH,LineV)\n",
        "print(contar)"
      ]
    },
    {
      "cell_type": "code",
      "execution_count": null,
      "metadata": {
        "id": "QilKyAUYMHhQ"
      },
      "outputs": [],
      "source": [
        "import os\n",
        "import numpy as np\n",
        "BASE_FOLDER=\"/content/drive/MyDrive/Trabajo_final_VIU/YOLOV8/Dataset/test/\"\n",
        "Lista_imagenes = os.listdir(BASE_FOLDER+'images/')\n",
        "Lista_imagenes.sort()\n",
        "print(len(Lista_imagenes))\n"
      ]
    }
  ],
  "metadata": {
    "colab": {
      "collapsed_sections": [
        "tsa0SD_BeFLf",
        "fXhO55pJlLgN",
        "kG46vrv2g9gO",
        "kHV0OLn9MHhP"
      ],
      "provenance": []
    },
    "kernelspec": {
      "display_name": "Python 3",
      "name": "python3"
    },
    "language_info": {
      "name": "python"
    }
  },
  "nbformat": 4,
  "nbformat_minor": 0
}