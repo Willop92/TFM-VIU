{
  "cells": [
    {
      "cell_type": "code",
      "execution_count": null,
      "metadata": {
        "colab": {
          "base_uri": "https://localhost:8080/"
        },
        "id": "wbvMlHd_QwMG",
        "outputId": "24e45003-a296-4166-8b12-424f01a6f9db"
      },
      "outputs": [
        {
          "output_type": "stream",
          "name": "stderr",
          "text": [
            "Ultralytics YOLOv8.0.180 🚀 Python-3.10.12 torch-2.0.1+cu118 CUDA:0 (Tesla T4, 15102MiB)\n",
            "Setup complete ✅ (2 CPUs, 12.7 GB RAM, 26.3/78.2 GB disk)\n"
          ]
        }
      ],
      "source": [
        "%pip install ultralytics\n",
        "import ultralytics\n",
        "ultralytics.checks()"
      ]
    },
    {
      "cell_type": "code",
      "execution_count": null,
      "metadata": {
        "id": "X_9BZELI2_F-",
        "colab": {
          "base_uri": "https://localhost:8080/"
        },
        "outputId": "bc0251f3-77f7-4158-c3dd-653ce0d8fb90"
      },
      "outputs": [
        {
          "output_type": "stream",
          "name": "stdout",
          "text": [
            "Mounted at /content/drive\n"
          ]
        }
      ],
      "source": [
        "from google.colab import drive\n",
        "drive.mount('/content/drive')"
      ]
    },
    {
      "cell_type": "code",
      "source": [
        "import os\n",
        "import numpy as np\n",
        "BASE_FOLDER=\"/content/drive/MyDrive/Trabajo_final_VIU/YOLOV8/Dataset/test/\"\n",
        "Lista_imagenes = os.listdir(BASE_FOLDER+'images/')\n",
        "Lista_imagenes.sort()\n",
        "print(\"Números de imágenes con osteofitos y sin osteofitos detectados= \"+str(len(Lista_imagenes)))\n"
      ],
      "metadata": {
        "colab": {
          "base_uri": "https://localhost:8080/"
        },
        "id": "Is-9melFeFae",
        "outputId": "0801eae9-79ea-4d88-f8de-c98ddc1d697b"
      },
      "execution_count": null,
      "outputs": [
        {
          "output_type": "stream",
          "name": "stdout",
          "text": [
            "Números de imágenes con osteofitos y sin osteofitos detectados= 1664\n"
          ]
        }
      ]
    },
    {
      "cell_type": "code",
      "source": [
        "from ultralytics import YOLO\n",
        "\n",
        "model = YOLO('yolov8n.yaml')\n",
        "model = YOLO('/content/drive/MyDrive/Trabajo_final_VIU/YOLOV8/Model/YOLOV8.pt')#cargar pesos\n",
        "\n",
        "for Num_img in range(0,len(Lista_imagenes)):\n",
        "  path = \"/content/drive/MyDrive/Trabajo_final_VIU/YOLOV8/Dataset/test/images/\"+str(Lista_imagenes[Num_img])\n",
        "  results = model(path, save=False)  # generator of Results objects\n",
        "  clase = results[0].boxes.cls.cpu().numpy().astype(int)\n",
        "  print(clase)\n",
        "  posicion = results[0].boxes.xywhn.cpu().numpy().astype(float)\n",
        "  score = results[0].boxes.conf.cpu().numpy().astype(float)\n",
        "  Aux=\"\"\n",
        "  for i in range(0,len(clase)):\n",
        "    #\n",
        "    Aux=Aux+str(str(clase[i])+\" \"+str(posicion[i][0])+\" \"+str(posicion[i][1])+\" \"+str(posicion[i][2])+\" \"+str(posicion[i][3])+\" \"+str(score[i])+ \"\\n\")\n",
        "  #Impresión en TXT\n",
        "  path=\"/content/drive/MyDrive/Trabajo_final_VIU/YOLOV8/Dataset/test/\"+\"/predYOLO/\"\n",
        "  isExist = os.path.exists(path)\n",
        "  if not isExist:\n",
        "    os.makedirs(path)\n",
        "  # print(str(h)+\" \"+str(v))\n",
        "  # print(Aux)\n",
        "  nombre=Lista_imagenes[Num_img].split(\".\")\n",
        "  with open(path+str(nombre[0])+\".txt\", 'w') as txt_file:\n",
        "    txt_file.write(str(Aux))"
      ],
      "metadata": {
        "colab": {
          "base_uri": "https://localhost:8080/"
        },
        "id": "BDd6ZkY4eTJ_",
        "outputId": "31f6061e-18fb-4780-ec28-3d051e981869"
      },
      "execution_count": null,
      "outputs": [
        {
          "output_type": "stream",
          "name": "stderr",
          "text": [
            "\n",
            "                   from  n    params  module                                       arguments                     \n",
            "  0                  -1  1       464  ultralytics.nn.modules.conv.Conv             [3, 16, 3, 2]                 \n",
            "  1                  -1  1      4672  ultralytics.nn.modules.conv.Conv             [16, 32, 3, 2]                \n",
            "  2                  -1  1      7360  ultralytics.nn.modules.block.C2f             [32, 32, 1, True]             \n",
            "  3                  -1  1     18560  ultralytics.nn.modules.conv.Conv             [32, 64, 3, 2]                \n",
            "  4                  -1  2     49664  ultralytics.nn.modules.block.C2f             [64, 64, 2, True]             \n",
            "  5                  -1  1     73984  ultralytics.nn.modules.conv.Conv             [64, 128, 3, 2]               \n",
            "  6                  -1  2    197632  ultralytics.nn.modules.block.C2f             [128, 128, 2, True]           \n",
            "  7                  -1  1    295424  ultralytics.nn.modules.conv.Conv             [128, 256, 3, 2]              \n",
            "  8                  -1  1    460288  ultralytics.nn.modules.block.C2f             [256, 256, 1, True]           \n",
            "  9                  -1  1    164608  ultralytics.nn.modules.block.SPPF            [256, 256, 5]                 \n",
            " 10                  -1  1         0  torch.nn.modules.upsampling.Upsample         [None, 2, 'nearest']          \n",
            " 11             [-1, 6]  1         0  ultralytics.nn.modules.conv.Concat           [1]                           \n",
            " 12                  -1  1    148224  ultralytics.nn.modules.block.C2f             [384, 128, 1]                 \n",
            " 13                  -1  1         0  torch.nn.modules.upsampling.Upsample         [None, 2, 'nearest']          \n",
            " 14             [-1, 4]  1         0  ultralytics.nn.modules.conv.Concat           [1]                           \n",
            " 15                  -1  1     37248  ultralytics.nn.modules.block.C2f             [192, 64, 1]                  \n",
            " 16                  -1  1     36992  ultralytics.nn.modules.conv.Conv             [64, 64, 3, 2]                \n",
            " 17            [-1, 12]  1         0  ultralytics.nn.modules.conv.Concat           [1]                           \n",
            " 18                  -1  1    123648  ultralytics.nn.modules.block.C2f             [192, 128, 1]                 \n",
            " 19                  -1  1    147712  ultralytics.nn.modules.conv.Conv             [128, 128, 3, 2]              \n",
            " 20             [-1, 9]  1         0  ultralytics.nn.modules.conv.Concat           [1]                           \n",
            " 21                  -1  1    493056  ultralytics.nn.modules.block.C2f             [384, 256, 1]                 \n",
            " 22        [15, 18, 21]  1    897664  ultralytics.nn.modules.head.Detect           [80, [64, 128, 256]]          \n",
            "YOLOv8n summary: 225 layers, 3157200 parameters, 3157184 gradients\n",
            "\n",
            "\n",
            "image 1/1 /content/drive/MyDrive/Trabajo_final_VIU/YOLOV8/Dataset/test/images/imagen0-4.jpg: 640x608 2 ['Osteophytos']s, 9.3ms\n",
            "Speed: 1.7ms preprocess, 9.3ms inference, 1.7ms postprocess per image at shape (1, 3, 640, 608)\n",
            "\n"
          ]
        },
        {
          "output_type": "stream",
          "name": "stdout",
          "text": [
            "[0 0]\n"
          ]
        },
        {
          "output_type": "stream",
          "name": "stderr",
          "text": [
            "image 1/1 /content/drive/MyDrive/Trabajo_final_VIU/YOLOV8/Dataset/test/images/imagen1-3.jpg: 640x640 3 ['Osteophytos']s, 8.1ms\n",
            "Speed: 1.6ms preprocess, 8.1ms inference, 1.3ms postprocess per image at shape (1, 3, 640, 640)\n",
            "\n"
          ]
        },
        {
          "output_type": "stream",
          "name": "stdout",
          "text": [
            "[0 0 0]\n"
          ]
        },
        {
          "output_type": "stream",
          "name": "stderr",
          "text": [
            "image 1/1 /content/drive/MyDrive/Trabajo_final_VIU/YOLOV8/Dataset/test/images/imagen10-4.jpg: 640x544 3 ['Osteophytos']s, 62.3ms\n",
            "Speed: 1.6ms preprocess, 62.3ms inference, 1.5ms postprocess per image at shape (1, 3, 640, 544)\n",
            "\n"
          ]
        },
        {
          "output_type": "stream",
          "name": "stdout",
          "text": [
            "[0 0 0]\n"
          ]
        },
        {
          "output_type": "stream",
          "name": "stderr",
          "text": [
            "image 1/1 /content/drive/MyDrive/Trabajo_final_VIU/YOLOV8/Dataset/test/images/imagen100-4.jpg: 640x640 1 ['Osteophytos'], 8.1ms\n",
            "Speed: 9.0ms preprocess, 8.1ms inference, 1.4ms postprocess per image at shape (1, 3, 640, 640)\n",
            "\n"
          ]
        },
        {
          "output_type": "stream",
          "name": "stdout",
          "text": [
            "[0]\n"
          ]
        },
        {
          "output_type": "stream",
          "name": "stderr",
          "text": [
            "image 1/1 /content/drive/MyDrive/Trabajo_final_VIU/YOLOV8/Dataset/test/images/imagen100-6.jpg: 640x640 3 ['Osteophytos']s, 8.6ms\n",
            "Speed: 2.9ms preprocess, 8.6ms inference, 1.7ms postprocess per image at shape (1, 3, 640, 640)\n",
            "\n"
          ]
        },
        {
          "output_type": "stream",
          "name": "stdout",
          "text": [
            "[0 0 0]\n"
          ]
        },
        {
          "output_type": "stream",
          "name": "stderr",
          "text": [
            "image 1/1 /content/drive/MyDrive/Trabajo_final_VIU/YOLOV8/Dataset/test/images/imagen101-11.jpg: 640x640 1 ['Osteophytos'], 7.4ms\n",
            "Speed: 1.6ms preprocess, 7.4ms inference, 1.4ms postprocess per image at shape (1, 3, 640, 640)\n",
            "\n"
          ]
        },
        {
          "output_type": "stream",
          "name": "stdout",
          "text": [
            "[0]\n"
          ]
        },
        {
          "output_type": "stream",
          "name": "stderr",
          "text": [
            "image 1/1 /content/drive/MyDrive/Trabajo_final_VIU/YOLOV8/Dataset/test/images/imagen101-4.jpg: 480x640 1 ['Osteophytos'], 57.1ms\n",
            "Speed: 1.4ms preprocess, 57.1ms inference, 1.4ms postprocess per image at shape (1, 3, 480, 640)\n",
            "\n"
          ]
        },
        {
          "output_type": "stream",
          "name": "stdout",
          "text": [
            "[0]\n"
          ]
        },
        {
          "output_type": "stream",
          "name": "stderr",
          "text": [
            "image 1/1 /content/drive/MyDrive/Trabajo_final_VIU/YOLOV8/Dataset/test/images/imagen101-5.jpg: 480x640 (no detections), 7.0ms\n",
            "Speed: 1.4ms preprocess, 7.0ms inference, 0.7ms postprocess per image at shape (1, 3, 480, 640)\n",
            "\n"
          ]
        },
        {
          "output_type": "stream",
          "name": "stdout",
          "text": [
            "[]\n"
          ]
        },
        {
          "output_type": "stream",
          "name": "stderr",
          "text": [
            "image 1/1 /content/drive/MyDrive/Trabajo_final_VIU/YOLOV8/Dataset/test/images/imagen101-7.jpg: 640x640 2 ['Osteophytos']s, 8.0ms\n",
            "Speed: 1.6ms preprocess, 8.0ms inference, 1.3ms postprocess per image at shape (1, 3, 640, 640)\n",
            "\n"
          ]
        },
        {
          "output_type": "stream",
          "name": "stdout",
          "text": [
            "[0 0]\n"
          ]
        },
        {
          "output_type": "stream",
          "name": "stderr",
          "text": [
            "image 1/1 /content/drive/MyDrive/Trabajo_final_VIU/YOLOV8/Dataset/test/images/imagen101-8.jpg: 640x640 3 ['Osteophytos']s, 8.1ms\n",
            "Speed: 2.0ms preprocess, 8.1ms inference, 1.6ms postprocess per image at shape (1, 3, 640, 640)\n",
            "\n"
          ]
        },
        {
          "output_type": "stream",
          "name": "stdout",
          "text": [
            "[0 0 0]\n"
          ]
        },
        {
          "output_type": "stream",
          "name": "stderr",
          "text": [
            "image 1/1 /content/drive/MyDrive/Trabajo_final_VIU/YOLOV8/Dataset/test/images/imagen102-4.jpg: 640x576 3 ['Osteophytos']s, 98.7ms\n",
            "Speed: 1.8ms preprocess, 98.7ms inference, 1.7ms postprocess per image at shape (1, 3, 640, 576)\n",
            "\n"
          ]
        },
        {
          "output_type": "stream",
          "name": "stdout",
          "text": [
            "[0 0 0]\n"
          ]
        },
        {
          "output_type": "stream",
          "name": "stderr",
          "text": [
            "image 1/1 /content/drive/MyDrive/Trabajo_final_VIU/YOLOV8/Dataset/test/images/imagen102-6.jpg: 640x576 5 ['Osteophytos']s, 7.8ms\n",
            "Speed: 1.5ms preprocess, 7.8ms inference, 1.4ms postprocess per image at shape (1, 3, 640, 576)\n",
            "\n"
          ]
        },
        {
          "output_type": "stream",
          "name": "stdout",
          "text": [
            "[0 0 0 0 0]\n"
          ]
        },
        {
          "output_type": "stream",
          "name": "stderr",
          "text": [
            "image 1/1 /content/drive/MyDrive/Trabajo_final_VIU/YOLOV8/Dataset/test/images/imagen102-8.jpg: 640x576 2 ['Osteophytos']s, 7.3ms\n",
            "Speed: 1.7ms preprocess, 7.3ms inference, 1.4ms postprocess per image at shape (1, 3, 640, 576)\n",
            "\n"
          ]
        },
        {
          "output_type": "stream",
          "name": "stdout",
          "text": [
            "[0 0]\n"
          ]
        },
        {
          "output_type": "stream",
          "name": "stderr",
          "text": [
            "image 1/1 /content/drive/MyDrive/Trabajo_final_VIU/YOLOV8/Dataset/test/images/imagen103-4.jpg: 512x640 2 ['Osteophytos']s, 58.0ms\n",
            "Speed: 1.5ms preprocess, 58.0ms inference, 1.4ms postprocess per image at shape (1, 3, 512, 640)\n",
            "\n"
          ]
        },
        {
          "output_type": "stream",
          "name": "stdout",
          "text": [
            "[0 0]\n"
          ]
        },
        {
          "output_type": "stream",
          "name": "stderr",
          "text": [
            "image 1/1 /content/drive/MyDrive/Trabajo_final_VIU/YOLOV8/Dataset/test/images/imagen103-5.jpg: 512x640 3 ['Osteophytos']s, 6.6ms\n",
            "Speed: 1.5ms preprocess, 6.6ms inference, 1.4ms postprocess per image at shape (1, 3, 512, 640)\n",
            "\n"
          ]
        },
        {
          "output_type": "stream",
          "name": "stdout",
          "text": [
            "[0 0 0]\n"
          ]
        },
        {
          "output_type": "stream",
          "name": "stderr",
          "text": [
            "image 1/1 /content/drive/MyDrive/Trabajo_final_VIU/YOLOV8/Dataset/test/images/imagen103-7.jpg: 640x640 4 ['Osteophytos']s, 8.8ms\n",
            "Speed: 1.8ms preprocess, 8.8ms inference, 1.4ms postprocess per image at shape (1, 3, 640, 640)\n",
            "\n"
          ]
        },
        {
          "output_type": "stream",
          "name": "stdout",
          "text": [
            "[0 0 0 0]\n"
          ]
        },
        {
          "output_type": "stream",
          "name": "stderr",
          "text": [
            "image 1/1 /content/drive/MyDrive/Trabajo_final_VIU/YOLOV8/Dataset/test/images/imagen103-8.jpg: 640x640 3 ['Osteophytos']s, 7.4ms\n",
            "Speed: 1.6ms preprocess, 7.4ms inference, 1.4ms postprocess per image at shape (1, 3, 640, 640)\n",
            "\n"
          ]
        },
        {
          "output_type": "stream",
          "name": "stdout",
          "text": [
            "[0 0 0]\n"
          ]
        },
        {
          "output_type": "stream",
          "name": "stderr",
          "text": [
            "image 1/1 /content/drive/MyDrive/Trabajo_final_VIU/YOLOV8/Dataset/test/images/imagen104-3.jpg: 640x640 4 ['Osteophytos']s, 7.4ms\n",
            "Speed: 1.7ms preprocess, 7.4ms inference, 1.4ms postprocess per image at shape (1, 3, 640, 640)\n",
            "\n"
          ]
        },
        {
          "output_type": "stream",
          "name": "stdout",
          "text": [
            "[0 0 0 0]\n"
          ]
        },
        {
          "output_type": "stream",
          "name": "stderr",
          "text": [
            "image 1/1 /content/drive/MyDrive/Trabajo_final_VIU/YOLOV8/Dataset/test/images/imagen105-2.jpg: 640x544 1 ['Osteophytos'], 7.8ms\n",
            "Speed: 2.6ms preprocess, 7.8ms inference, 1.3ms postprocess per image at shape (1, 3, 640, 544)\n",
            "\n"
          ]
        },
        {
          "output_type": "stream",
          "name": "stdout",
          "text": [
            "[0]\n"
          ]
        },
        {
          "output_type": "stream",
          "name": "stderr",
          "text": [
            "image 1/1 /content/drive/MyDrive/Trabajo_final_VIU/YOLOV8/Dataset/test/images/imagen105-4.jpg: 640x512 1 ['Osteophytos'], 56.7ms\n",
            "Speed: 1.6ms preprocess, 56.7ms inference, 1.4ms postprocess per image at shape (1, 3, 640, 512)\n",
            "\n"
          ]
        },
        {
          "output_type": "stream",
          "name": "stdout",
          "text": [
            "[0]\n"
          ]
        },
        {
          "output_type": "stream",
          "name": "stderr",
          "text": [
            "image 1/1 /content/drive/MyDrive/Trabajo_final_VIU/YOLOV8/Dataset/test/images/imagen106-5.jpg: 640x640 1 ['Osteophytos'], 8.1ms\n",
            "Speed: 1.8ms preprocess, 8.1ms inference, 1.4ms postprocess per image at shape (1, 3, 640, 640)\n",
            "\n"
          ]
        },
        {
          "output_type": "stream",
          "name": "stdout",
          "text": [
            "[0]\n"
          ]
        },
        {
          "output_type": "stream",
          "name": "stderr",
          "text": [
            "image 1/1 /content/drive/MyDrive/Trabajo_final_VIU/YOLOV8/Dataset/test/images/imagen107-5.jpg: 544x640 2 ['Osteophytos']s, 61.7ms\n",
            "Speed: 1.5ms preprocess, 61.7ms inference, 1.4ms postprocess per image at shape (1, 3, 544, 640)\n",
            "\n"
          ]
        },
        {
          "output_type": "stream",
          "name": "stdout",
          "text": [
            "[0 0]\n"
          ]
        },
        {
          "output_type": "stream",
          "name": "stderr",
          "text": [
            "image 1/1 /content/drive/MyDrive/Trabajo_final_VIU/YOLOV8/Dataset/test/images/imagen107-6.jpg: 576x640 1 ['Osteophytos'], 59.0ms\n",
            "Speed: 2.4ms preprocess, 59.0ms inference, 1.4ms postprocess per image at shape (1, 3, 576, 640)\n",
            "\n"
          ]
        },
        {
          "output_type": "stream",
          "name": "stdout",
          "text": [
            "[0]\n"
          ]
        },
        {
          "output_type": "stream",
          "name": "stderr",
          "text": [
            "image 1/1 /content/drive/MyDrive/Trabajo_final_VIU/YOLOV8/Dataset/test/images/imagen107-7.jpg: 640x640 1 ['Osteophytos'], 9.1ms\n",
            "Speed: 2.2ms preprocess, 9.1ms inference, 1.7ms postprocess per image at shape (1, 3, 640, 640)\n",
            "\n"
          ]
        },
        {
          "output_type": "stream",
          "name": "stdout",
          "text": [
            "[0]\n"
          ]
        },
        {
          "output_type": "stream",
          "name": "stderr",
          "text": [
            "image 1/1 /content/drive/MyDrive/Trabajo_final_VIU/YOLOV8/Dataset/test/images/imagen107-8.jpg: 640x608 1 ['Osteophytos'], 10.0ms\n",
            "Speed: 2.0ms preprocess, 10.0ms inference, 1.8ms postprocess per image at shape (1, 3, 640, 608)\n",
            "\n"
          ]
        },
        {
          "output_type": "stream",
          "name": "stdout",
          "text": [
            "[0]\n"
          ]
        },
        {
          "output_type": "stream",
          "name": "stderr",
          "text": [
            "image 1/1 /content/drive/MyDrive/Trabajo_final_VIU/YOLOV8/Dataset/test/images/imagen108-6.jpg: 640x640 4 ['Osteophytos']s, 8.1ms\n",
            "Speed: 2.8ms preprocess, 8.1ms inference, 1.3ms postprocess per image at shape (1, 3, 640, 640)\n",
            "\n"
          ]
        },
        {
          "output_type": "stream",
          "name": "stdout",
          "text": [
            "[0 0 0 0]\n"
          ]
        },
        {
          "output_type": "stream",
          "name": "stderr",
          "text": [
            "image 1/1 /content/drive/MyDrive/Trabajo_final_VIU/YOLOV8/Dataset/test/images/imagen108-8.jpg: 640x608 1 ['Osteophytos'], 8.0ms\n",
            "Speed: 1.7ms preprocess, 8.0ms inference, 1.3ms postprocess per image at shape (1, 3, 640, 608)\n",
            "\n"
          ]
        },
        {
          "output_type": "stream",
          "name": "stdout",
          "text": [
            "[0]\n"
          ]
        },
        {
          "output_type": "stream",
          "name": "stderr",
          "text": [
            "image 1/1 /content/drive/MyDrive/Trabajo_final_VIU/YOLOV8/Dataset/test/images/imagen109-5.jpg: 640x640 1 ['Osteophytos'], 8.3ms\n",
            "Speed: 1.6ms preprocess, 8.3ms inference, 1.4ms postprocess per image at shape (1, 3, 640, 640)\n",
            "\n"
          ]
        },
        {
          "output_type": "stream",
          "name": "stdout",
          "text": [
            "[0]\n"
          ]
        },
        {
          "output_type": "stream",
          "name": "stderr",
          "text": [
            "image 1/1 /content/drive/MyDrive/Trabajo_final_VIU/YOLOV8/Dataset/test/images/imagen11-5.jpg: 576x640 (no detections), 8.1ms\n",
            "Speed: 1.6ms preprocess, 8.1ms inference, 0.8ms postprocess per image at shape (1, 3, 576, 640)\n",
            "\n"
          ]
        },
        {
          "output_type": "stream",
          "name": "stdout",
          "text": [
            "[]\n"
          ]
        },
        {
          "output_type": "stream",
          "name": "stderr",
          "text": [
            "image 1/1 /content/drive/MyDrive/Trabajo_final_VIU/YOLOV8/Dataset/test/images/imagen11-8.jpg: 640x640 4 ['Osteophytos']s, 8.1ms\n",
            "Speed: 1.7ms preprocess, 8.1ms inference, 1.4ms postprocess per image at shape (1, 3, 640, 640)\n",
            "\n"
          ]
        },
        {
          "output_type": "stream",
          "name": "stdout",
          "text": [
            "[0 0 0 0]\n"
          ]
        },
        {
          "output_type": "stream",
          "name": "stderr",
          "text": [
            "image 1/1 /content/drive/MyDrive/Trabajo_final_VIU/YOLOV8/Dataset/test/images/imagen110-6.jpg: 640x544 3 ['Osteophytos']s, 7.8ms\n",
            "Speed: 1.6ms preprocess, 7.8ms inference, 1.4ms postprocess per image at shape (1, 3, 640, 544)\n",
            "\n"
          ]
        },
        {
          "output_type": "stream",
          "name": "stdout",
          "text": [
            "[0 0 0]\n"
          ]
        },
        {
          "output_type": "stream",
          "name": "stderr",
          "text": [
            "image 1/1 /content/drive/MyDrive/Trabajo_final_VIU/YOLOV8/Dataset/test/images/imagen111-6.jpg: 640x352 2 ['Osteophytos']s, 63.1ms\n",
            "Speed: 1.1ms preprocess, 63.1ms inference, 1.4ms postprocess per image at shape (1, 3, 640, 352)\n",
            "\n"
          ]
        },
        {
          "output_type": "stream",
          "name": "stdout",
          "text": [
            "[0 0]\n"
          ]
        },
        {
          "output_type": "stream",
          "name": "stderr",
          "text": [
            "image 1/1 /content/drive/MyDrive/Trabajo_final_VIU/YOLOV8/Dataset/test/images/imagen111-8.jpg: 640x352 (no detections), 6.7ms\n",
            "Speed: 1.1ms preprocess, 6.7ms inference, 0.7ms postprocess per image at shape (1, 3, 640, 352)\n",
            "\n"
          ]
        },
        {
          "output_type": "stream",
          "name": "stdout",
          "text": [
            "[]\n"
          ]
        },
        {
          "output_type": "stream",
          "name": "stderr",
          "text": [
            "image 1/1 /content/drive/MyDrive/Trabajo_final_VIU/YOLOV8/Dataset/test/images/imagen112-3.jpg: 640x640 1 ['Osteophytos'], 8.1ms\n",
            "Speed: 1.6ms preprocess, 8.1ms inference, 1.3ms postprocess per image at shape (1, 3, 640, 640)\n",
            "\n"
          ]
        },
        {
          "output_type": "stream",
          "name": "stdout",
          "text": [
            "[0]\n"
          ]
        },
        {
          "output_type": "stream",
          "name": "stderr",
          "text": [
            "image 1/1 /content/drive/MyDrive/Trabajo_final_VIU/YOLOV8/Dataset/test/images/imagen112-4.jpg: 640x544 1 ['Osteophytos'], 7.9ms\n",
            "Speed: 1.6ms preprocess, 7.9ms inference, 1.4ms postprocess per image at shape (1, 3, 640, 544)\n",
            "\n"
          ]
        },
        {
          "output_type": "stream",
          "name": "stdout",
          "text": [
            "[0]\n"
          ]
        },
        {
          "output_type": "stream",
          "name": "stderr",
          "text": [
            "image 1/1 /content/drive/MyDrive/Trabajo_final_VIU/YOLOV8/Dataset/test/images/imagen112-5.jpg: 640x640 1 ['Osteophytos'], 8.1ms\n",
            "Speed: 1.6ms preprocess, 8.1ms inference, 1.4ms postprocess per image at shape (1, 3, 640, 640)\n",
            "\n"
          ]
        },
        {
          "output_type": "stream",
          "name": "stdout",
          "text": [
            "[0]\n"
          ]
        },
        {
          "output_type": "stream",
          "name": "stderr",
          "text": [
            "image 1/1 /content/drive/MyDrive/Trabajo_final_VIU/YOLOV8/Dataset/test/images/imagen112-6.jpg: 640x544 2 ['Osteophytos']s, 10.3ms\n",
            "Speed: 1.9ms preprocess, 10.3ms inference, 1.8ms postprocess per image at shape (1, 3, 640, 544)\n",
            "\n"
          ]
        },
        {
          "output_type": "stream",
          "name": "stdout",
          "text": [
            "[0 0]\n"
          ]
        },
        {
          "output_type": "stream",
          "name": "stderr",
          "text": [
            "image 1/1 /content/drive/MyDrive/Trabajo_final_VIU/YOLOV8/Dataset/test/images/imagen113-11.jpg: 640x640 2 ['Osteophytos']s, 10.6ms\n",
            "Speed: 2.0ms preprocess, 10.6ms inference, 1.8ms postprocess per image at shape (1, 3, 640, 640)\n",
            "\n"
          ]
        },
        {
          "output_type": "stream",
          "name": "stdout",
          "text": [
            "[0 0]\n"
          ]
        },
        {
          "output_type": "stream",
          "name": "stderr",
          "text": [
            "image 1/1 /content/drive/MyDrive/Trabajo_final_VIU/YOLOV8/Dataset/test/images/imagen114-4.jpg: 640x544 2 ['Osteophytos']s, 7.9ms\n",
            "Speed: 1.5ms preprocess, 7.9ms inference, 1.4ms postprocess per image at shape (1, 3, 640, 544)\n",
            "\n"
          ]
        },
        {
          "output_type": "stream",
          "name": "stdout",
          "text": [
            "[0 0]\n"
          ]
        },
        {
          "output_type": "stream",
          "name": "stderr",
          "text": [
            "image 1/1 /content/drive/MyDrive/Trabajo_final_VIU/YOLOV8/Dataset/test/images/imagen115-4.jpg: 640x640 2 ['Osteophytos']s, 8.1ms\n",
            "Speed: 1.7ms preprocess, 8.1ms inference, 1.3ms postprocess per image at shape (1, 3, 640, 640)\n",
            "\n"
          ]
        },
        {
          "output_type": "stream",
          "name": "stdout",
          "text": [
            "[0 0]\n"
          ]
        },
        {
          "output_type": "stream",
          "name": "stderr",
          "text": [
            "image 1/1 /content/drive/MyDrive/Trabajo_final_VIU/YOLOV8/Dataset/test/images/imagen115-5.jpg: 640x640 2 ['Osteophytos']s, 7.4ms\n",
            "Speed: 1.7ms preprocess, 7.4ms inference, 1.4ms postprocess per image at shape (1, 3, 640, 640)\n",
            "\n"
          ]
        },
        {
          "output_type": "stream",
          "name": "stdout",
          "text": [
            "[0 0]\n"
          ]
        },
        {
          "output_type": "stream",
          "name": "stderr",
          "text": [
            "image 1/1 /content/drive/MyDrive/Trabajo_final_VIU/YOLOV8/Dataset/test/images/imagen115-7.jpg: 640x640 1 ['Osteophytos'], 7.4ms\n",
            "Speed: 1.6ms preprocess, 7.4ms inference, 1.4ms postprocess per image at shape (1, 3, 640, 640)\n",
            "\n"
          ]
        },
        {
          "output_type": "stream",
          "name": "stdout",
          "text": [
            "[0]\n"
          ]
        },
        {
          "output_type": "stream",
          "name": "stderr",
          "text": [
            "image 1/1 /content/drive/MyDrive/Trabajo_final_VIU/YOLOV8/Dataset/test/images/imagen115-8.jpg: 640x640 4 ['Osteophytos']s, 7.4ms\n",
            "Speed: 1.7ms preprocess, 7.4ms inference, 1.5ms postprocess per image at shape (1, 3, 640, 640)\n",
            "\n"
          ]
        },
        {
          "output_type": "stream",
          "name": "stdout",
          "text": [
            "[0 0 0 0]\n"
          ]
        },
        {
          "output_type": "stream",
          "name": "stderr",
          "text": [
            "image 1/1 /content/drive/MyDrive/Trabajo_final_VIU/YOLOV8/Dataset/test/images/imagen116-4.jpg: 640x608 2 ['Osteophytos']s, 8.0ms\n",
            "Speed: 1.6ms preprocess, 8.0ms inference, 1.2ms postprocess per image at shape (1, 3, 640, 608)\n",
            "\n"
          ]
        },
        {
          "output_type": "stream",
          "name": "stdout",
          "text": [
            "[0 0]\n"
          ]
        },
        {
          "output_type": "stream",
          "name": "stderr",
          "text": [
            "image 1/1 /content/drive/MyDrive/Trabajo_final_VIU/YOLOV8/Dataset/test/images/imagen116-6.jpg: 640x608 (no detections), 7.6ms\n",
            "Speed: 1.7ms preprocess, 7.6ms inference, 0.7ms postprocess per image at shape (1, 3, 640, 608)\n",
            "\n"
          ]
        },
        {
          "output_type": "stream",
          "name": "stdout",
          "text": [
            "[]\n"
          ]
        },
        {
          "output_type": "stream",
          "name": "stderr",
          "text": [
            "image 1/1 /content/drive/MyDrive/Trabajo_final_VIU/YOLOV8/Dataset/test/images/imagen117-3.jpg: 640x640 2 ['Osteophytos']s, 8.2ms\n",
            "Speed: 1.7ms preprocess, 8.2ms inference, 1.4ms postprocess per image at shape (1, 3, 640, 640)\n",
            "\n"
          ]
        },
        {
          "output_type": "stream",
          "name": "stdout",
          "text": [
            "[0 0]\n"
          ]
        },
        {
          "output_type": "stream",
          "name": "stderr",
          "text": [
            "image 1/1 /content/drive/MyDrive/Trabajo_final_VIU/YOLOV8/Dataset/test/images/imagen118-13.jpg: 640x640 4 ['Osteophytos']s, 8.6ms\n",
            "Speed: 2.1ms preprocess, 8.6ms inference, 1.6ms postprocess per image at shape (1, 3, 640, 640)\n",
            "\n"
          ]
        },
        {
          "output_type": "stream",
          "name": "stdout",
          "text": [
            "[0 0 0 0]\n"
          ]
        },
        {
          "output_type": "stream",
          "name": "stderr",
          "text": [
            "image 1/1 /content/drive/MyDrive/Trabajo_final_VIU/YOLOV8/Dataset/test/images/imagen118-8.jpg: 640x640 3 ['Osteophytos']s, 7.4ms\n",
            "Speed: 1.7ms preprocess, 7.4ms inference, 1.4ms postprocess per image at shape (1, 3, 640, 640)\n",
            "\n"
          ]
        },
        {
          "output_type": "stream",
          "name": "stdout",
          "text": [
            "[0 0 0]\n"
          ]
        },
        {
          "output_type": "stream",
          "name": "stderr",
          "text": [
            "image 1/1 /content/drive/MyDrive/Trabajo_final_VIU/YOLOV8/Dataset/test/images/imagen119-11.jpg: 640x640 1 ['Osteophytos'], 10.7ms\n",
            "Speed: 1.9ms preprocess, 10.7ms inference, 1.7ms postprocess per image at shape (1, 3, 640, 640)\n",
            "\n"
          ]
        },
        {
          "output_type": "stream",
          "name": "stdout",
          "text": [
            "[0]\n"
          ]
        },
        {
          "output_type": "stream",
          "name": "stderr",
          "text": [
            "image 1/1 /content/drive/MyDrive/Trabajo_final_VIU/YOLOV8/Dataset/test/images/imagen119-7.jpg: 640x640 1 ['Osteophytos'], 8.6ms\n",
            "Speed: 2.0ms preprocess, 8.6ms inference, 1.7ms postprocess per image at shape (1, 3, 640, 640)\n",
            "\n"
          ]
        },
        {
          "output_type": "stream",
          "name": "stdout",
          "text": [
            "[0]\n"
          ]
        },
        {
          "output_type": "stream",
          "name": "stderr",
          "text": [
            "image 1/1 /content/drive/MyDrive/Trabajo_final_VIU/YOLOV8/Dataset/test/images/imagen12-7.jpg: 640x640 3 ['Osteophytos']s, 7.4ms\n",
            "Speed: 1.6ms preprocess, 7.4ms inference, 1.4ms postprocess per image at shape (1, 3, 640, 640)\n",
            "\n"
          ]
        },
        {
          "output_type": "stream",
          "name": "stdout",
          "text": [
            "[0 0 0]\n"
          ]
        },
        {
          "output_type": "stream",
          "name": "stderr",
          "text": [
            "image 1/1 /content/drive/MyDrive/Trabajo_final_VIU/YOLOV8/Dataset/test/images/imagen12-8.jpg: 640x640 3 ['Osteophytos']s, 7.4ms\n",
            "Speed: 1.9ms preprocess, 7.4ms inference, 1.4ms postprocess per image at shape (1, 3, 640, 640)\n",
            "\n"
          ]
        },
        {
          "output_type": "stream",
          "name": "stdout",
          "text": [
            "[0 0 0]\n"
          ]
        },
        {
          "output_type": "stream",
          "name": "stderr",
          "text": [
            "image 1/1 /content/drive/MyDrive/Trabajo_final_VIU/YOLOV8/Dataset/test/images/imagen120-10.jpg: 640x640 2 ['Osteophytos']s, 7.4ms\n",
            "Speed: 1.7ms preprocess, 7.4ms inference, 1.4ms postprocess per image at shape (1, 3, 640, 640)\n",
            "\n"
          ]
        },
        {
          "output_type": "stream",
          "name": "stdout",
          "text": [
            "[0 0]\n"
          ]
        },
        {
          "output_type": "stream",
          "name": "stderr",
          "text": [
            "image 1/1 /content/drive/MyDrive/Trabajo_final_VIU/YOLOV8/Dataset/test/images/imagen120-11.jpg: 640x640 2 ['Osteophytos']s, 7.4ms\n",
            "Speed: 1.8ms preprocess, 7.4ms inference, 1.4ms postprocess per image at shape (1, 3, 640, 640)\n",
            "\n"
          ]
        },
        {
          "output_type": "stream",
          "name": "stdout",
          "text": [
            "[0 0]\n"
          ]
        },
        {
          "output_type": "stream",
          "name": "stderr",
          "text": [
            "image 1/1 /content/drive/MyDrive/Trabajo_final_VIU/YOLOV8/Dataset/test/images/imagen121-15.jpg: 640x640 2 ['Osteophytos']s, 7.4ms\n",
            "Speed: 1.6ms preprocess, 7.4ms inference, 1.4ms postprocess per image at shape (1, 3, 640, 640)\n",
            "\n"
          ]
        },
        {
          "output_type": "stream",
          "name": "stdout",
          "text": [
            "[0 0]\n"
          ]
        },
        {
          "output_type": "stream",
          "name": "stderr",
          "text": [
            "image 1/1 /content/drive/MyDrive/Trabajo_final_VIU/YOLOV8/Dataset/test/images/imagen122-11.jpg: 640x640 2 ['Osteophytos']s, 7.4ms\n",
            "Speed: 1.6ms preprocess, 7.4ms inference, 1.4ms postprocess per image at shape (1, 3, 640, 640)\n",
            "\n"
          ]
        },
        {
          "output_type": "stream",
          "name": "stdout",
          "text": [
            "[0 0]\n"
          ]
        },
        {
          "output_type": "stream",
          "name": "stderr",
          "text": [
            "image 1/1 /content/drive/MyDrive/Trabajo_final_VIU/YOLOV8/Dataset/test/images/imagen123-11.jpg: 640x640 1 ['Osteophytos'], 7.4ms\n",
            "Speed: 1.6ms preprocess, 7.4ms inference, 1.4ms postprocess per image at shape (1, 3, 640, 640)\n",
            "\n"
          ]
        },
        {
          "output_type": "stream",
          "name": "stdout",
          "text": [
            "[0]\n"
          ]
        },
        {
          "output_type": "stream",
          "name": "stderr",
          "text": [
            "image 1/1 /content/drive/MyDrive/Trabajo_final_VIU/YOLOV8/Dataset/test/images/imagen124-10.jpg: 640x640 1 ['Osteophytos'], 7.4ms\n",
            "Speed: 1.7ms preprocess, 7.4ms inference, 1.4ms postprocess per image at shape (1, 3, 640, 640)\n",
            "\n"
          ]
        },
        {
          "output_type": "stream",
          "name": "stdout",
          "text": [
            "[0]\n"
          ]
        },
        {
          "output_type": "stream",
          "name": "stderr",
          "text": [
            "image 1/1 /content/drive/MyDrive/Trabajo_final_VIU/YOLOV8/Dataset/test/images/imagen124-6.jpg: 640x640 2 ['Osteophytos']s, 7.5ms\n",
            "Speed: 2.1ms preprocess, 7.5ms inference, 1.4ms postprocess per image at shape (1, 3, 640, 640)\n",
            "\n"
          ]
        },
        {
          "output_type": "stream",
          "name": "stdout",
          "text": [
            "[0 0]\n"
          ]
        },
        {
          "output_type": "stream",
          "name": "stderr",
          "text": [
            "image 1/1 /content/drive/MyDrive/Trabajo_final_VIU/YOLOV8/Dataset/test/images/imagen125-11.jpg: 640x640 5 ['Osteophytos']s, 7.4ms\n",
            "Speed: 1.6ms preprocess, 7.4ms inference, 1.4ms postprocess per image at shape (1, 3, 640, 640)\n",
            "\n"
          ]
        },
        {
          "output_type": "stream",
          "name": "stdout",
          "text": [
            "[0 0 0 0 0]\n"
          ]
        },
        {
          "output_type": "stream",
          "name": "stderr",
          "text": [
            "image 1/1 /content/drive/MyDrive/Trabajo_final_VIU/YOLOV8/Dataset/test/images/imagen126-3.jpg: 640x640 1 ['Osteophytos'], 7.4ms\n",
            "Speed: 1.7ms preprocess, 7.4ms inference, 1.4ms postprocess per image at shape (1, 3, 640, 640)\n",
            "\n"
          ]
        },
        {
          "output_type": "stream",
          "name": "stdout",
          "text": [
            "[0]\n"
          ]
        },
        {
          "output_type": "stream",
          "name": "stderr",
          "text": [
            "image 1/1 /content/drive/MyDrive/Trabajo_final_VIU/YOLOV8/Dataset/test/images/imagen127-4.jpg: 640x544 4 ['Osteophytos']s, 9.7ms\n",
            "Speed: 1.8ms preprocess, 9.7ms inference, 1.6ms postprocess per image at shape (1, 3, 640, 544)\n",
            "\n"
          ]
        },
        {
          "output_type": "stream",
          "name": "stdout",
          "text": [
            "[0 0 0 0]\n"
          ]
        },
        {
          "output_type": "stream",
          "name": "stderr",
          "text": [
            "image 1/1 /content/drive/MyDrive/Trabajo_final_VIU/YOLOV8/Dataset/test/images/imagen128-3.jpg: 640x640 2 ['Osteophytos']s, 9.6ms\n",
            "Speed: 1.9ms preprocess, 9.6ms inference, 1.6ms postprocess per image at shape (1, 3, 640, 640)\n",
            "\n"
          ]
        },
        {
          "output_type": "stream",
          "name": "stdout",
          "text": [
            "[0 0]\n"
          ]
        },
        {
          "output_type": "stream",
          "name": "stderr",
          "text": [
            "image 1/1 /content/drive/MyDrive/Trabajo_final_VIU/YOLOV8/Dataset/test/images/imagen129-13.jpg: 640x640 3 ['Osteophytos']s, 7.9ms\n",
            "Speed: 1.9ms preprocess, 7.9ms inference, 2.1ms postprocess per image at shape (1, 3, 640, 640)\n",
            "\n"
          ]
        },
        {
          "output_type": "stream",
          "name": "stdout",
          "text": [
            "[0 0 0]\n"
          ]
        },
        {
          "output_type": "stream",
          "name": "stderr",
          "text": [
            "image 1/1 /content/drive/MyDrive/Trabajo_final_VIU/YOLOV8/Dataset/test/images/imagen129-3.jpg: 608x640 (no detections), 52.1ms\n",
            "Speed: 1.8ms preprocess, 52.1ms inference, 0.6ms postprocess per image at shape (1, 3, 608, 640)\n",
            "\n"
          ]
        },
        {
          "output_type": "stream",
          "name": "stdout",
          "text": [
            "[]\n"
          ]
        },
        {
          "output_type": "stream",
          "name": "stderr",
          "text": [
            "image 1/1 /content/drive/MyDrive/Trabajo_final_VIU/YOLOV8/Dataset/test/images/imagen129-8.jpg: 448x640 3 ['Osteophytos']s, 55.7ms\n",
            "Speed: 1.4ms preprocess, 55.7ms inference, 1.3ms postprocess per image at shape (1, 3, 448, 640)\n",
            "\n"
          ]
        },
        {
          "output_type": "stream",
          "name": "stdout",
          "text": [
            "[0 0 0]\n"
          ]
        },
        {
          "output_type": "stream",
          "name": "stderr",
          "text": [
            "image 1/1 /content/drive/MyDrive/Trabajo_final_VIU/YOLOV8/Dataset/test/images/imagen13-11.jpg: 640x640 3 ['Osteophytos']s, 8.2ms\n",
            "Speed: 1.7ms preprocess, 8.2ms inference, 1.3ms postprocess per image at shape (1, 3, 640, 640)\n",
            "\n"
          ]
        },
        {
          "output_type": "stream",
          "name": "stdout",
          "text": [
            "[0 0 0]\n"
          ]
        },
        {
          "output_type": "stream",
          "name": "stderr",
          "text": [
            "image 1/1 /content/drive/MyDrive/Trabajo_final_VIU/YOLOV8/Dataset/test/images/imagen13-7.jpg: 640x640 3 ['Osteophytos']s, 7.4ms\n",
            "Speed: 1.7ms preprocess, 7.4ms inference, 1.4ms postprocess per image at shape (1, 3, 640, 640)\n",
            "\n"
          ]
        },
        {
          "output_type": "stream",
          "name": "stdout",
          "text": [
            "[0 0 0]\n"
          ]
        },
        {
          "output_type": "stream",
          "name": "stderr",
          "text": [
            "image 1/1 /content/drive/MyDrive/Trabajo_final_VIU/YOLOV8/Dataset/test/images/imagen130-16.jpg: 640x640 1 ['Osteophytos'], 7.4ms\n",
            "Speed: 1.6ms preprocess, 7.4ms inference, 1.4ms postprocess per image at shape (1, 3, 640, 640)\n",
            "\n"
          ]
        },
        {
          "output_type": "stream",
          "name": "stdout",
          "text": [
            "[0]\n"
          ]
        },
        {
          "output_type": "stream",
          "name": "stderr",
          "text": [
            "image 1/1 /content/drive/MyDrive/Trabajo_final_VIU/YOLOV8/Dataset/test/images/imagen130-22.jpg: 640x640 (no detections), 7.4ms\n",
            "Speed: 1.7ms preprocess, 7.4ms inference, 0.8ms postprocess per image at shape (1, 3, 640, 640)\n",
            "\n"
          ]
        },
        {
          "output_type": "stream",
          "name": "stdout",
          "text": [
            "[]\n"
          ]
        },
        {
          "output_type": "stream",
          "name": "stderr",
          "text": [
            "image 1/1 /content/drive/MyDrive/Trabajo_final_VIU/YOLOV8/Dataset/test/images/imagen131-11.jpg: 640x640 1 ['Osteophytos'], 7.4ms\n",
            "Speed: 1.7ms preprocess, 7.4ms inference, 1.4ms postprocess per image at shape (1, 3, 640, 640)\n",
            "\n"
          ]
        },
        {
          "output_type": "stream",
          "name": "stdout",
          "text": [
            "[0]\n"
          ]
        },
        {
          "output_type": "stream",
          "name": "stderr",
          "text": [
            "image 1/1 /content/drive/MyDrive/Trabajo_final_VIU/YOLOV8/Dataset/test/images/imagen132-11.jpg: 640x640 1 ['Osteophytos'], 7.4ms\n",
            "Speed: 1.6ms preprocess, 7.4ms inference, 1.4ms postprocess per image at shape (1, 3, 640, 640)\n",
            "\n"
          ]
        },
        {
          "output_type": "stream",
          "name": "stdout",
          "text": [
            "[0]\n"
          ]
        },
        {
          "output_type": "stream",
          "name": "stderr",
          "text": [
            "image 1/1 /content/drive/MyDrive/Trabajo_final_VIU/YOLOV8/Dataset/test/images/imagen133-7.jpg: 640x640 1 ['Osteophytos'], 8.3ms\n",
            "Speed: 2.7ms preprocess, 8.3ms inference, 1.7ms postprocess per image at shape (1, 3, 640, 640)\n",
            "\n"
          ]
        },
        {
          "output_type": "stream",
          "name": "stdout",
          "text": [
            "[0]\n"
          ]
        },
        {
          "output_type": "stream",
          "name": "stderr",
          "text": [
            "image 1/1 /content/drive/MyDrive/Trabajo_final_VIU/YOLOV8/Dataset/test/images/imagen134-8.jpg: 640x640 (no detections), 8.6ms\n",
            "Speed: 2.0ms preprocess, 8.6ms inference, 0.9ms postprocess per image at shape (1, 3, 640, 640)\n",
            "\n"
          ]
        },
        {
          "output_type": "stream",
          "name": "stdout",
          "text": [
            "[]\n"
          ]
        },
        {
          "output_type": "stream",
          "name": "stderr",
          "text": [
            "image 1/1 /content/drive/MyDrive/Trabajo_final_VIU/YOLOV8/Dataset/test/images/imagen135-8.jpg: 640x640 (no detections), 12.0ms\n",
            "Speed: 2.2ms preprocess, 12.0ms inference, 1.1ms postprocess per image at shape (1, 3, 640, 640)\n",
            "\n"
          ]
        },
        {
          "output_type": "stream",
          "name": "stdout",
          "text": [
            "[]\n"
          ]
        },
        {
          "output_type": "stream",
          "name": "stderr",
          "text": [
            "image 1/1 /content/drive/MyDrive/Trabajo_final_VIU/YOLOV8/Dataset/test/images/imagen136-5.jpg: 640x640 (no detections), 7.4ms\n",
            "Speed: 1.7ms preprocess, 7.4ms inference, 0.7ms postprocess per image at shape (1, 3, 640, 640)\n",
            "\n"
          ]
        },
        {
          "output_type": "stream",
          "name": "stdout",
          "text": [
            "[]\n"
          ]
        },
        {
          "output_type": "stream",
          "name": "stderr",
          "text": [
            "image 1/1 /content/drive/MyDrive/Trabajo_final_VIU/YOLOV8/Dataset/test/images/imagen136-6.jpg: 640x640 (no detections), 7.4ms\n",
            "Speed: 1.7ms preprocess, 7.4ms inference, 0.7ms postprocess per image at shape (1, 3, 640, 640)\n",
            "\n"
          ]
        },
        {
          "output_type": "stream",
          "name": "stdout",
          "text": [
            "[]\n"
          ]
        },
        {
          "output_type": "stream",
          "name": "stderr",
          "text": [
            "image 1/1 /content/drive/MyDrive/Trabajo_final_VIU/YOLOV8/Dataset/test/images/imagen137-6.jpg: 640x640 2 ['Osteophytos']s, 7.4ms\n",
            "Speed: 1.8ms preprocess, 7.4ms inference, 2.3ms postprocess per image at shape (1, 3, 640, 640)\n",
            "\n"
          ]
        },
        {
          "output_type": "stream",
          "name": "stdout",
          "text": [
            "[0 0]\n"
          ]
        },
        {
          "output_type": "stream",
          "name": "stderr",
          "text": [
            "image 1/1 /content/drive/MyDrive/Trabajo_final_VIU/YOLOV8/Dataset/test/images/imagen138-3.jpg: 512x640 2 ['Osteophytos']s, 9.0ms\n",
            "Speed: 1.4ms preprocess, 9.0ms inference, 1.6ms postprocess per image at shape (1, 3, 512, 640)\n",
            "\n"
          ]
        },
        {
          "output_type": "stream",
          "name": "stdout",
          "text": [
            "[0 0]\n"
          ]
        },
        {
          "output_type": "stream",
          "name": "stderr",
          "text": [
            "image 1/1 /content/drive/MyDrive/Trabajo_final_VIU/YOLOV8/Dataset/test/images/imagen138-5.jpg: 640x640 4 ['Osteophytos']s, 8.1ms\n",
            "Speed: 1.7ms preprocess, 8.1ms inference, 1.3ms postprocess per image at shape (1, 3, 640, 640)\n",
            "\n"
          ]
        },
        {
          "output_type": "stream",
          "name": "stdout",
          "text": [
            "[0 0 0 0]\n"
          ]
        },
        {
          "output_type": "stream",
          "name": "stderr",
          "text": [
            "image 1/1 /content/drive/MyDrive/Trabajo_final_VIU/YOLOV8/Dataset/test/images/imagen138-6.jpg: 640x544 3 ['Osteophytos']s, 7.8ms\n",
            "Speed: 1.5ms preprocess, 7.8ms inference, 1.4ms postprocess per image at shape (1, 3, 640, 544)\n",
            "\n"
          ]
        },
        {
          "output_type": "stream",
          "name": "stdout",
          "text": [
            "[0 0 0]\n"
          ]
        },
        {
          "output_type": "stream",
          "name": "stderr",
          "text": [
            "image 1/1 /content/drive/MyDrive/Trabajo_final_VIU/YOLOV8/Dataset/test/images/imagen139-4.jpg: 640x480 1 ['Osteophytos'], 53.1ms\n",
            "Speed: 1.5ms preprocess, 53.1ms inference, 1.4ms postprocess per image at shape (1, 3, 640, 480)\n",
            "\n"
          ]
        },
        {
          "output_type": "stream",
          "name": "stdout",
          "text": [
            "[0]\n"
          ]
        },
        {
          "output_type": "stream",
          "name": "stderr",
          "text": [
            "image 1/1 /content/drive/MyDrive/Trabajo_final_VIU/YOLOV8/Dataset/test/images/imagen139-6.jpg: 640x480 5 ['Osteophytos']s, 6.7ms\n",
            "Speed: 1.5ms preprocess, 6.7ms inference, 1.4ms postprocess per image at shape (1, 3, 640, 480)\n",
            "\n"
          ]
        },
        {
          "output_type": "stream",
          "name": "stdout",
          "text": [
            "[0 0 0 0 0]\n"
          ]
        },
        {
          "output_type": "stream",
          "name": "stderr",
          "text": [
            "image 1/1 /content/drive/MyDrive/Trabajo_final_VIU/YOLOV8/Dataset/test/images/imagen139-8.jpg: 640x480 1 ['Osteophytos'], 6.5ms\n",
            "Speed: 1.5ms preprocess, 6.5ms inference, 1.4ms postprocess per image at shape (1, 3, 640, 480)\n",
            "\n"
          ]
        },
        {
          "output_type": "stream",
          "name": "stdout",
          "text": [
            "[0]\n"
          ]
        },
        {
          "output_type": "stream",
          "name": "stderr",
          "text": [
            "image 1/1 /content/drive/MyDrive/Trabajo_final_VIU/YOLOV8/Dataset/test/images/imagen14-6.jpg: 640x640 2 ['Osteophytos']s, 8.1ms\n",
            "Speed: 1.7ms preprocess, 8.1ms inference, 1.4ms postprocess per image at shape (1, 3, 640, 640)\n",
            "\n"
          ]
        },
        {
          "output_type": "stream",
          "name": "stdout",
          "text": [
            "[0 0]\n"
          ]
        },
        {
          "output_type": "stream",
          "name": "stderr",
          "text": [
            "image 1/1 /content/drive/MyDrive/Trabajo_final_VIU/YOLOV8/Dataset/test/images/imagen14-7.jpg: 640x640 3 ['Osteophytos']s, 7.4ms\n",
            "Speed: 1.6ms preprocess, 7.4ms inference, 1.9ms postprocess per image at shape (1, 3, 640, 640)\n",
            "\n"
          ]
        },
        {
          "output_type": "stream",
          "name": "stdout",
          "text": [
            "[0 0 0]\n"
          ]
        },
        {
          "output_type": "stream",
          "name": "stderr",
          "text": [
            "image 1/1 /content/drive/MyDrive/Trabajo_final_VIU/YOLOV8/Dataset/test/images/imagen140-4.jpg: 640x544 2 ['Osteophytos']s, 9.6ms\n",
            "Speed: 1.9ms preprocess, 9.6ms inference, 1.6ms postprocess per image at shape (1, 3, 640, 544)\n",
            "\n"
          ]
        },
        {
          "output_type": "stream",
          "name": "stdout",
          "text": [
            "[0 0]\n"
          ]
        },
        {
          "output_type": "stream",
          "name": "stderr",
          "text": [
            "image 1/1 /content/drive/MyDrive/Trabajo_final_VIU/YOLOV8/Dataset/test/images/imagen141-12.jpg: 640x640 1 ['Osteophytos'], 12.7ms\n",
            "Speed: 2.1ms preprocess, 12.7ms inference, 1.9ms postprocess per image at shape (1, 3, 640, 640)\n",
            "\n"
          ]
        },
        {
          "output_type": "stream",
          "name": "stdout",
          "text": [
            "[0]\n"
          ]
        },
        {
          "output_type": "stream",
          "name": "stderr",
          "text": [
            "image 1/1 /content/drive/MyDrive/Trabajo_final_VIU/YOLOV8/Dataset/test/images/imagen141-7.jpg: 640x640 2 ['Osteophytos']s, 8.4ms\n",
            "Speed: 1.8ms preprocess, 8.4ms inference, 1.7ms postprocess per image at shape (1, 3, 640, 640)\n",
            "\n"
          ]
        },
        {
          "output_type": "stream",
          "name": "stdout",
          "text": [
            "[0 0]\n"
          ]
        },
        {
          "output_type": "stream",
          "name": "stderr",
          "text": [
            "image 1/1 /content/drive/MyDrive/Trabajo_final_VIU/YOLOV8/Dataset/test/images/imagen142-24.jpg: 640x640 2 ['Osteophytos']s, 7.4ms\n",
            "Speed: 1.6ms preprocess, 7.4ms inference, 1.4ms postprocess per image at shape (1, 3, 640, 640)\n",
            "\n"
          ]
        },
        {
          "output_type": "stream",
          "name": "stdout",
          "text": [
            "[0 0]\n"
          ]
        },
        {
          "output_type": "stream",
          "name": "stderr",
          "text": [
            "image 1/1 /content/drive/MyDrive/Trabajo_final_VIU/YOLOV8/Dataset/test/images/imagen143-10.jpg: 640x640 (no detections), 7.4ms\n",
            "Speed: 1.7ms preprocess, 7.4ms inference, 0.7ms postprocess per image at shape (1, 3, 640, 640)\n",
            "\n"
          ]
        },
        {
          "output_type": "stream",
          "name": "stdout",
          "text": [
            "[]\n"
          ]
        },
        {
          "output_type": "stream",
          "name": "stderr",
          "text": [
            "image 1/1 /content/drive/MyDrive/Trabajo_final_VIU/YOLOV8/Dataset/test/images/imagen143-6.jpg: 608x640 1 ['Osteophytos'], 8.0ms\n",
            "Speed: 1.6ms preprocess, 8.0ms inference, 1.3ms postprocess per image at shape (1, 3, 608, 640)\n",
            "\n"
          ]
        },
        {
          "output_type": "stream",
          "name": "stdout",
          "text": [
            "[0]\n"
          ]
        },
        {
          "output_type": "stream",
          "name": "stderr",
          "text": [
            "image 1/1 /content/drive/MyDrive/Trabajo_final_VIU/YOLOV8/Dataset/test/images/imagen144-3.jpg: 640x640 (no detections), 8.1ms\n",
            "Speed: 1.6ms preprocess, 8.1ms inference, 0.7ms postprocess per image at shape (1, 3, 640, 640)\n",
            "\n"
          ]
        },
        {
          "output_type": "stream",
          "name": "stdout",
          "text": [
            "[]\n"
          ]
        },
        {
          "output_type": "stream",
          "name": "stderr",
          "text": [
            "image 1/1 /content/drive/MyDrive/Trabajo_final_VIU/YOLOV8/Dataset/test/images/imagen145-3.jpg: 640x640 3 ['Osteophytos']s, 7.4ms\n",
            "Speed: 1.6ms preprocess, 7.4ms inference, 1.4ms postprocess per image at shape (1, 3, 640, 640)\n",
            "\n"
          ]
        },
        {
          "output_type": "stream",
          "name": "stdout",
          "text": [
            "[0 0 0]\n"
          ]
        },
        {
          "output_type": "stream",
          "name": "stderr",
          "text": [
            "image 1/1 /content/drive/MyDrive/Trabajo_final_VIU/YOLOV8/Dataset/test/images/imagen146-3.jpg: 640x640 3 ['Osteophytos']s, 7.4ms\n",
            "Speed: 1.6ms preprocess, 7.4ms inference, 1.4ms postprocess per image at shape (1, 3, 640, 640)\n",
            "\n"
          ]
        },
        {
          "output_type": "stream",
          "name": "stdout",
          "text": [
            "[0 0 0]\n"
          ]
        },
        {
          "output_type": "stream",
          "name": "stderr",
          "text": [
            "image 1/1 /content/drive/MyDrive/Trabajo_final_VIU/YOLOV8/Dataset/test/images/imagen147-4.jpg: 576x640 1 ['Osteophytos'], 7.9ms\n",
            "Speed: 1.6ms preprocess, 7.9ms inference, 1.3ms postprocess per image at shape (1, 3, 576, 640)\n",
            "\n"
          ]
        },
        {
          "output_type": "stream",
          "name": "stdout",
          "text": [
            "[0]\n"
          ]
        },
        {
          "output_type": "stream",
          "name": "stderr",
          "text": [
            "image 1/1 /content/drive/MyDrive/Trabajo_final_VIU/YOLOV8/Dataset/test/images/imagen147-5.jpg: 576x640 4 ['Osteophytos']s, 7.3ms\n",
            "Speed: 1.8ms preprocess, 7.3ms inference, 1.4ms postprocess per image at shape (1, 3, 576, 640)\n",
            "\n"
          ]
        },
        {
          "output_type": "stream",
          "name": "stdout",
          "text": [
            "[0 0 0 0]\n"
          ]
        },
        {
          "output_type": "stream",
          "name": "stderr",
          "text": [
            "image 1/1 /content/drive/MyDrive/Trabajo_final_VIU/YOLOV8/Dataset/test/images/imagen147-7.jpg: 640x640 2 ['Osteophytos']s, 8.1ms\n",
            "Speed: 1.6ms preprocess, 8.1ms inference, 1.3ms postprocess per image at shape (1, 3, 640, 640)\n",
            "\n"
          ]
        },
        {
          "output_type": "stream",
          "name": "stdout",
          "text": [
            "[0 0]\n"
          ]
        },
        {
          "output_type": "stream",
          "name": "stderr",
          "text": [
            "image 1/1 /content/drive/MyDrive/Trabajo_final_VIU/YOLOV8/Dataset/test/images/imagen147-8.jpg: 640x640 (no detections), 7.4ms\n",
            "Speed: 1.6ms preprocess, 7.4ms inference, 0.8ms postprocess per image at shape (1, 3, 640, 640)\n",
            "\n"
          ]
        },
        {
          "output_type": "stream",
          "name": "stdout",
          "text": [
            "[]\n"
          ]
        },
        {
          "output_type": "stream",
          "name": "stderr",
          "text": [
            "image 1/1 /content/drive/MyDrive/Trabajo_final_VIU/YOLOV8/Dataset/test/images/imagen148-2.jpg: 608x640 1 ['Osteophytos'], 8.0ms\n",
            "Speed: 1.7ms preprocess, 8.0ms inference, 1.3ms postprocess per image at shape (1, 3, 608, 640)\n",
            "\n"
          ]
        },
        {
          "output_type": "stream",
          "name": "stdout",
          "text": [
            "[0]\n"
          ]
        },
        {
          "output_type": "stream",
          "name": "stderr",
          "text": [
            "image 1/1 /content/drive/MyDrive/Trabajo_final_VIU/YOLOV8/Dataset/test/images/imagen148-5.jpg: 640x640 1 ['Osteophytos'], 8.2ms\n",
            "Speed: 1.8ms preprocess, 8.2ms inference, 1.4ms postprocess per image at shape (1, 3, 640, 640)\n",
            "\n"
          ]
        },
        {
          "output_type": "stream",
          "name": "stdout",
          "text": [
            "[0]\n"
          ]
        },
        {
          "output_type": "stream",
          "name": "stderr",
          "text": [
            "image 1/1 /content/drive/MyDrive/Trabajo_final_VIU/YOLOV8/Dataset/test/images/imagen148-8.jpg: 640x640 (no detections), 10.2ms\n",
            "Speed: 1.9ms preprocess, 10.2ms inference, 0.9ms postprocess per image at shape (1, 3, 640, 640)\n",
            "\n"
          ]
        },
        {
          "output_type": "stream",
          "name": "stdout",
          "text": [
            "[]\n"
          ]
        },
        {
          "output_type": "stream",
          "name": "stderr",
          "text": [
            "image 1/1 /content/drive/MyDrive/Trabajo_final_VIU/YOLOV8/Dataset/test/images/imagen149-4.jpg: 640x320 1 ['Osteophytos'], 89.1ms\n",
            "Speed: 1.3ms preprocess, 89.1ms inference, 1.9ms postprocess per image at shape (1, 3, 640, 320)\n",
            "\n"
          ]
        },
        {
          "output_type": "stream",
          "name": "stdout",
          "text": [
            "[0]\n"
          ]
        },
        {
          "output_type": "stream",
          "name": "stderr",
          "text": [
            "image 1/1 /content/drive/MyDrive/Trabajo_final_VIU/YOLOV8/Dataset/test/images/imagen149-6.jpg: 640x352 3 ['Osteophytos']s, 12.2ms\n",
            "Speed: 2.6ms preprocess, 12.2ms inference, 2.0ms postprocess per image at shape (1, 3, 640, 352)\n",
            "\n"
          ]
        },
        {
          "output_type": "stream",
          "name": "stdout",
          "text": [
            "[0 0 0]\n"
          ]
        },
        {
          "output_type": "stream",
          "name": "stderr",
          "text": [
            "image 1/1 /content/drive/MyDrive/Trabajo_final_VIU/YOLOV8/Dataset/test/images/imagen149-8.jpg: 640x320 (no detections), 8.3ms\n",
            "Speed: 1.3ms preprocess, 8.3ms inference, 0.7ms postprocess per image at shape (1, 3, 640, 320)\n",
            "\n"
          ]
        },
        {
          "output_type": "stream",
          "name": "stdout",
          "text": [
            "[]\n"
          ]
        },
        {
          "output_type": "stream",
          "name": "stderr",
          "text": [
            "image 1/1 /content/drive/MyDrive/Trabajo_final_VIU/YOLOV8/Dataset/test/images/imagen15-3.jpg: 640x640 3 ['Osteophytos']s, 8.1ms\n",
            "Speed: 1.8ms preprocess, 8.1ms inference, 1.4ms postprocess per image at shape (1, 3, 640, 640)\n",
            "\n"
          ]
        },
        {
          "output_type": "stream",
          "name": "stdout",
          "text": [
            "[0 0 0]\n"
          ]
        },
        {
          "output_type": "stream",
          "name": "stderr",
          "text": [
            "image 1/1 /content/drive/MyDrive/Trabajo_final_VIU/YOLOV8/Dataset/test/images/imagen150-5.jpg: 640x640 1 ['Osteophytos'], 7.4ms\n",
            "Speed: 1.7ms preprocess, 7.4ms inference, 1.4ms postprocess per image at shape (1, 3, 640, 640)\n",
            "\n"
          ]
        },
        {
          "output_type": "stream",
          "name": "stdout",
          "text": [
            "[0]\n"
          ]
        },
        {
          "output_type": "stream",
          "name": "stderr",
          "text": [
            "image 1/1 /content/drive/MyDrive/Trabajo_final_VIU/YOLOV8/Dataset/test/images/imagen150-6.jpg: 640x512 3 ['Osteophytos']s, 7.5ms\n",
            "Speed: 1.5ms preprocess, 7.5ms inference, 1.2ms postprocess per image at shape (1, 3, 640, 512)\n",
            "\n"
          ]
        },
        {
          "output_type": "stream",
          "name": "stdout",
          "text": [
            "[0 0 0]\n"
          ]
        },
        {
          "output_type": "stream",
          "name": "stderr",
          "text": [
            "image 1/1 /content/drive/MyDrive/Trabajo_final_VIU/YOLOV8/Dataset/test/images/imagen151-6.jpg: 640x640 2 ['Osteophytos']s, 8.1ms\n",
            "Speed: 1.6ms preprocess, 8.1ms inference, 1.3ms postprocess per image at shape (1, 3, 640, 640)\n",
            "\n"
          ]
        },
        {
          "output_type": "stream",
          "name": "stdout",
          "text": [
            "[0 0]\n"
          ]
        },
        {
          "output_type": "stream",
          "name": "stderr",
          "text": [
            "image 1/1 /content/drive/MyDrive/Trabajo_final_VIU/YOLOV8/Dataset/test/images/imagen152-5.jpg: 640x640 2 ['Osteophytos']s, 7.4ms\n",
            "Speed: 1.6ms preprocess, 7.4ms inference, 1.7ms postprocess per image at shape (1, 3, 640, 640)\n",
            "\n"
          ]
        },
        {
          "output_type": "stream",
          "name": "stdout",
          "text": [
            "[0 0]\n"
          ]
        },
        {
          "output_type": "stream",
          "name": "stderr",
          "text": [
            "image 1/1 /content/drive/MyDrive/Trabajo_final_VIU/YOLOV8/Dataset/test/images/imagen152-6.jpg: 640x640 1 ['Osteophytos'], 7.4ms\n",
            "Speed: 1.6ms preprocess, 7.4ms inference, 1.5ms postprocess per image at shape (1, 3, 640, 640)\n",
            "\n"
          ]
        },
        {
          "output_type": "stream",
          "name": "stdout",
          "text": [
            "[0]\n"
          ]
        },
        {
          "output_type": "stream",
          "name": "stderr",
          "text": [
            "image 1/1 /content/drive/MyDrive/Trabajo_final_VIU/YOLOV8/Dataset/test/images/imagen153-4.jpg: 640x640 (no detections), 7.4ms\n",
            "Speed: 2.6ms preprocess, 7.4ms inference, 0.7ms postprocess per image at shape (1, 3, 640, 640)\n",
            "\n"
          ]
        },
        {
          "output_type": "stream",
          "name": "stdout",
          "text": [
            "[]\n"
          ]
        },
        {
          "output_type": "stream",
          "name": "stderr",
          "text": [
            "image 1/1 /content/drive/MyDrive/Trabajo_final_VIU/YOLOV8/Dataset/test/images/imagen153-6.jpg: 640x640 3 ['Osteophytos']s, 7.4ms\n",
            "Speed: 1.7ms preprocess, 7.4ms inference, 1.5ms postprocess per image at shape (1, 3, 640, 640)\n",
            "\n"
          ]
        },
        {
          "output_type": "stream",
          "name": "stdout",
          "text": [
            "[0 0 0]\n"
          ]
        },
        {
          "output_type": "stream",
          "name": "stderr",
          "text": [
            "image 1/1 /content/drive/MyDrive/Trabajo_final_VIU/YOLOV8/Dataset/test/images/imagen153-8.jpg: 640x640 (no detections), 7.4ms\n",
            "Speed: 1.7ms preprocess, 7.4ms inference, 0.8ms postprocess per image at shape (1, 3, 640, 640)\n",
            "\n"
          ]
        },
        {
          "output_type": "stream",
          "name": "stdout",
          "text": [
            "[]\n"
          ]
        },
        {
          "output_type": "stream",
          "name": "stderr",
          "text": [
            "image 1/1 /content/drive/MyDrive/Trabajo_final_VIU/YOLOV8/Dataset/test/images/imagen154-13.jpg: 640x640 2 ['Osteophytos']s, 12.8ms\n",
            "Speed: 1.7ms preprocess, 12.8ms inference, 1.9ms postprocess per image at shape (1, 3, 640, 640)\n",
            "\n"
          ]
        },
        {
          "output_type": "stream",
          "name": "stdout",
          "text": [
            "[0 0]\n"
          ]
        },
        {
          "output_type": "stream",
          "name": "stderr",
          "text": [
            "image 1/1 /content/drive/MyDrive/Trabajo_final_VIU/YOLOV8/Dataset/test/images/imagen154-3.jpg: 640x640 1 ['Osteophytos'], 8.7ms\n",
            "Speed: 2.0ms preprocess, 8.7ms inference, 1.8ms postprocess per image at shape (1, 3, 640, 640)\n",
            "\n"
          ]
        },
        {
          "output_type": "stream",
          "name": "stdout",
          "text": [
            "[0]\n"
          ]
        },
        {
          "output_type": "stream",
          "name": "stderr",
          "text": [
            "image 1/1 /content/drive/MyDrive/Trabajo_final_VIU/YOLOV8/Dataset/test/images/imagen154-8.jpg: 640x640 3 ['Osteophytos']s, 8.4ms\n",
            "Speed: 2.0ms preprocess, 8.4ms inference, 1.6ms postprocess per image at shape (1, 3, 640, 640)\n",
            "\n"
          ]
        },
        {
          "output_type": "stream",
          "name": "stdout",
          "text": [
            "[0 0 0]\n"
          ]
        },
        {
          "output_type": "stream",
          "name": "stderr",
          "text": [
            "image 1/1 /content/drive/MyDrive/Trabajo_final_VIU/YOLOV8/Dataset/test/images/imagen155-13.jpg: 640x576 1 ['Osteophytos'], 9.5ms\n",
            "Speed: 1.8ms preprocess, 9.5ms inference, 1.7ms postprocess per image at shape (1, 3, 640, 576)\n",
            "\n"
          ]
        },
        {
          "output_type": "stream",
          "name": "stdout",
          "text": [
            "[0]\n"
          ]
        },
        {
          "output_type": "stream",
          "name": "stderr",
          "text": [
            "image 1/1 /content/drive/MyDrive/Trabajo_final_VIU/YOLOV8/Dataset/test/images/imagen155-14.jpg: 640x640 2 ['Osteophytos']s, 8.2ms\n",
            "Speed: 1.7ms preprocess, 8.2ms inference, 1.3ms postprocess per image at shape (1, 3, 640, 640)\n",
            "\n"
          ]
        },
        {
          "output_type": "stream",
          "name": "stdout",
          "text": [
            "[0 0]\n"
          ]
        },
        {
          "output_type": "stream",
          "name": "stderr",
          "text": [
            "image 1/1 /content/drive/MyDrive/Trabajo_final_VIU/YOLOV8/Dataset/test/images/imagen155-19.jpg: 640x640 1 ['Osteophytos'], 7.4ms\n",
            "Speed: 1.7ms preprocess, 7.4ms inference, 1.4ms postprocess per image at shape (1, 3, 640, 640)\n",
            "\n"
          ]
        },
        {
          "output_type": "stream",
          "name": "stdout",
          "text": [
            "[0]\n"
          ]
        },
        {
          "output_type": "stream",
          "name": "stderr",
          "text": [
            "image 1/1 /content/drive/MyDrive/Trabajo_final_VIU/YOLOV8/Dataset/test/images/imagen155-8.jpg: 640x576 1 ['Osteophytos'], 8.0ms\n",
            "Speed: 1.6ms preprocess, 8.0ms inference, 1.5ms postprocess per image at shape (1, 3, 640, 576)\n",
            "\n"
          ]
        },
        {
          "output_type": "stream",
          "name": "stdout",
          "text": [
            "[0]\n"
          ]
        },
        {
          "output_type": "stream",
          "name": "stderr",
          "text": [
            "image 1/1 /content/drive/MyDrive/Trabajo_final_VIU/YOLOV8/Dataset/test/images/imagen156-3.jpg: 640x640 1 ['Osteophytos'], 8.1ms\n",
            "Speed: 1.7ms preprocess, 8.1ms inference, 1.3ms postprocess per image at shape (1, 3, 640, 640)\n",
            "\n"
          ]
        },
        {
          "output_type": "stream",
          "name": "stdout",
          "text": [
            "[0]\n"
          ]
        },
        {
          "output_type": "stream",
          "name": "stderr",
          "text": [
            "image 1/1 /content/drive/MyDrive/Trabajo_final_VIU/YOLOV8/Dataset/test/images/imagen157-3.jpg: 640x640 1 ['Osteophytos'], 7.5ms\n",
            "Speed: 1.6ms preprocess, 7.5ms inference, 1.4ms postprocess per image at shape (1, 3, 640, 640)\n",
            "\n"
          ]
        },
        {
          "output_type": "stream",
          "name": "stdout",
          "text": [
            "[0]\n"
          ]
        },
        {
          "output_type": "stream",
          "name": "stderr",
          "text": [
            "image 1/1 /content/drive/MyDrive/Trabajo_final_VIU/YOLOV8/Dataset/test/images/imagen157-4.jpg: 640x640 1 ['Osteophytos'], 7.6ms\n",
            "Speed: 2.5ms preprocess, 7.6ms inference, 1.8ms postprocess per image at shape (1, 3, 640, 640)\n",
            "\n"
          ]
        },
        {
          "output_type": "stream",
          "name": "stdout",
          "text": [
            "[0]\n"
          ]
        },
        {
          "output_type": "stream",
          "name": "stderr",
          "text": [
            "image 1/1 /content/drive/MyDrive/Trabajo_final_VIU/YOLOV8/Dataset/test/images/imagen158-4.jpg: 640x640 1 ['Osteophytos'], 7.4ms\n",
            "Speed: 1.7ms preprocess, 7.4ms inference, 1.4ms postprocess per image at shape (1, 3, 640, 640)\n",
            "\n"
          ]
        },
        {
          "output_type": "stream",
          "name": "stdout",
          "text": [
            "[0]\n"
          ]
        },
        {
          "output_type": "stream",
          "name": "stderr",
          "text": [
            "image 1/1 /content/drive/MyDrive/Trabajo_final_VIU/YOLOV8/Dataset/test/images/imagen158-6.jpg: 640x640 2 ['Osteophytos']s, 7.4ms\n",
            "Speed: 1.6ms preprocess, 7.4ms inference, 1.4ms postprocess per image at shape (1, 3, 640, 640)\n",
            "\n"
          ]
        },
        {
          "output_type": "stream",
          "name": "stdout",
          "text": [
            "[0 0]\n"
          ]
        },
        {
          "output_type": "stream",
          "name": "stderr",
          "text": [
            "image 1/1 /content/drive/MyDrive/Trabajo_final_VIU/YOLOV8/Dataset/test/images/imagen159-11.jpg: 608x640 2 ['Osteophytos']s, 8.1ms\n",
            "Speed: 1.6ms preprocess, 8.1ms inference, 1.3ms postprocess per image at shape (1, 3, 608, 640)\n",
            "\n"
          ]
        },
        {
          "output_type": "stream",
          "name": "stdout",
          "text": [
            "[0 0]\n"
          ]
        },
        {
          "output_type": "stream",
          "name": "stderr",
          "text": [
            "image 1/1 /content/drive/MyDrive/Trabajo_final_VIU/YOLOV8/Dataset/test/images/imagen159-15.jpg: 640x640 (no detections), 8.1ms\n",
            "Speed: 1.7ms preprocess, 8.1ms inference, 0.7ms postprocess per image at shape (1, 3, 640, 640)\n",
            "\n"
          ]
        },
        {
          "output_type": "stream",
          "name": "stdout",
          "text": [
            "[]\n"
          ]
        },
        {
          "output_type": "stream",
          "name": "stderr",
          "text": [
            "image 1/1 /content/drive/MyDrive/Trabajo_final_VIU/YOLOV8/Dataset/test/images/imagen159-3.jpg: 608x640 3 ['Osteophytos']s, 7.9ms\n",
            "Speed: 1.6ms preprocess, 7.9ms inference, 1.6ms postprocess per image at shape (1, 3, 608, 640)\n",
            "\n"
          ]
        },
        {
          "output_type": "stream",
          "name": "stdout",
          "text": [
            "[0 0 0]\n"
          ]
        },
        {
          "output_type": "stream",
          "name": "stderr",
          "text": [
            "image 1/1 /content/drive/MyDrive/Trabajo_final_VIU/YOLOV8/Dataset/test/images/imagen159-7.jpg: 640x640 1 ['Osteophytos'], 8.9ms\n",
            "Speed: 1.9ms preprocess, 8.9ms inference, 1.6ms postprocess per image at shape (1, 3, 640, 640)\n",
            "\n"
          ]
        },
        {
          "output_type": "stream",
          "name": "stdout",
          "text": [
            "[0]\n"
          ]
        },
        {
          "output_type": "stream",
          "name": "stderr",
          "text": [
            "image 1/1 /content/drive/MyDrive/Trabajo_final_VIU/YOLOV8/Dataset/test/images/imagen16-13.jpg: 640x640 3 ['Osteophytos']s, 11.0ms\n",
            "Speed: 1.9ms preprocess, 11.0ms inference, 2.4ms postprocess per image at shape (1, 3, 640, 640)\n",
            "\n"
          ]
        },
        {
          "output_type": "stream",
          "name": "stdout",
          "text": [
            "[0 0 0]\n"
          ]
        },
        {
          "output_type": "stream",
          "name": "stderr",
          "text": [
            "image 1/1 /content/drive/MyDrive/Trabajo_final_VIU/YOLOV8/Dataset/test/images/imagen16-18.jpg: 640x640 (no detections), 8.1ms\n",
            "Speed: 1.8ms preprocess, 8.1ms inference, 0.9ms postprocess per image at shape (1, 3, 640, 640)\n",
            "\n"
          ]
        },
        {
          "output_type": "stream",
          "name": "stdout",
          "text": [
            "[]\n"
          ]
        },
        {
          "output_type": "stream",
          "name": "stderr",
          "text": [
            "image 1/1 /content/drive/MyDrive/Trabajo_final_VIU/YOLOV8/Dataset/test/images/imagen16-8.jpg: 640x640 2 ['Osteophytos']s, 10.6ms\n",
            "Speed: 2.0ms preprocess, 10.6ms inference, 3.0ms postprocess per image at shape (1, 3, 640, 640)\n",
            "\n"
          ]
        },
        {
          "output_type": "stream",
          "name": "stdout",
          "text": [
            "[0 0]\n"
          ]
        },
        {
          "output_type": "stream",
          "name": "stderr",
          "text": [
            "image 1/1 /content/drive/MyDrive/Trabajo_final_VIU/YOLOV8/Dataset/test/images/imagen160-7.jpg: 640x640 1 ['Osteophytos'], 7.4ms\n",
            "Speed: 1.6ms preprocess, 7.4ms inference, 1.3ms postprocess per image at shape (1, 3, 640, 640)\n",
            "\n"
          ]
        },
        {
          "output_type": "stream",
          "name": "stdout",
          "text": [
            "[0]\n"
          ]
        },
        {
          "output_type": "stream",
          "name": "stderr",
          "text": [
            "image 1/1 /content/drive/MyDrive/Trabajo_final_VIU/YOLOV8/Dataset/test/images/imagen160-8.jpg: 640x640 2 ['Osteophytos']s, 8.5ms\n",
            "Speed: 1.7ms preprocess, 8.5ms inference, 1.4ms postprocess per image at shape (1, 3, 640, 640)\n",
            "\n"
          ]
        },
        {
          "output_type": "stream",
          "name": "stdout",
          "text": [
            "[0 0]\n"
          ]
        },
        {
          "output_type": "stream",
          "name": "stderr",
          "text": [
            "image 1/1 /content/drive/MyDrive/Trabajo_final_VIU/YOLOV8/Dataset/test/images/imagen161-4.jpg: 640x320 1 ['Osteophytos'], 7.3ms\n",
            "Speed: 1.7ms preprocess, 7.3ms inference, 1.3ms postprocess per image at shape (1, 3, 640, 320)\n",
            "\n"
          ]
        },
        {
          "output_type": "stream",
          "name": "stdout",
          "text": [
            "[0]\n"
          ]
        },
        {
          "output_type": "stream",
          "name": "stderr",
          "text": [
            "image 1/1 /content/drive/MyDrive/Trabajo_final_VIU/YOLOV8/Dataset/test/images/imagen161-6.jpg: 640x288 3 ['Osteophytos']s, 55.7ms\n",
            "Speed: 1.8ms preprocess, 55.7ms inference, 1.5ms postprocess per image at shape (1, 3, 640, 288)\n",
            "\n"
          ]
        },
        {
          "output_type": "stream",
          "name": "stdout",
          "text": [
            "[0 0 0]\n"
          ]
        },
        {
          "output_type": "stream",
          "name": "stderr",
          "text": [
            "image 1/1 /content/drive/MyDrive/Trabajo_final_VIU/YOLOV8/Dataset/test/images/imagen161-8.jpg: 640x288 (no detections), 6.9ms\n",
            "Speed: 1.2ms preprocess, 6.9ms inference, 0.7ms postprocess per image at shape (1, 3, 640, 288)\n",
            "\n"
          ]
        },
        {
          "output_type": "stream",
          "name": "stdout",
          "text": [
            "[]\n"
          ]
        },
        {
          "output_type": "stream",
          "name": "stderr",
          "text": [
            "image 1/1 /content/drive/MyDrive/Trabajo_final_VIU/YOLOV8/Dataset/test/images/imagen162-11.jpg: 640x640 1 ['Osteophytos'], 8.1ms\n",
            "Speed: 1.7ms preprocess, 8.1ms inference, 1.3ms postprocess per image at shape (1, 3, 640, 640)\n",
            "\n"
          ]
        },
        {
          "output_type": "stream",
          "name": "stdout",
          "text": [
            "[0]\n"
          ]
        },
        {
          "output_type": "stream",
          "name": "stderr",
          "text": [
            "image 1/1 /content/drive/MyDrive/Trabajo_final_VIU/YOLOV8/Dataset/test/images/imagen162-7.jpg: 640x640 3 ['Osteophytos']s, 7.4ms\n",
            "Speed: 1.6ms preprocess, 7.4ms inference, 1.4ms postprocess per image at shape (1, 3, 640, 640)\n",
            "\n"
          ]
        },
        {
          "output_type": "stream",
          "name": "stdout",
          "text": [
            "[0 0 0]\n"
          ]
        },
        {
          "output_type": "stream",
          "name": "stderr",
          "text": [
            "image 1/1 /content/drive/MyDrive/Trabajo_final_VIU/YOLOV8/Dataset/test/images/imagen163-1.jpg: 640x640 (no detections), 7.4ms\n",
            "Speed: 1.6ms preprocess, 7.4ms inference, 0.8ms postprocess per image at shape (1, 3, 640, 640)\n",
            "\n"
          ]
        },
        {
          "output_type": "stream",
          "name": "stdout",
          "text": [
            "[]\n"
          ]
        },
        {
          "output_type": "stream",
          "name": "stderr",
          "text": [
            "image 1/1 /content/drive/MyDrive/Trabajo_final_VIU/YOLOV8/Dataset/test/images/imagen163-2.jpg: 640x544 (no detections), 7.8ms\n",
            "Speed: 1.5ms preprocess, 7.8ms inference, 0.7ms postprocess per image at shape (1, 3, 640, 544)\n",
            "\n"
          ]
        },
        {
          "output_type": "stream",
          "name": "stdout",
          "text": [
            "[]\n"
          ]
        },
        {
          "output_type": "stream",
          "name": "stderr",
          "text": [
            "image 1/1 /content/drive/MyDrive/Trabajo_final_VIU/YOLOV8/Dataset/test/images/imagen164-4.jpg: 640x640 5 ['Osteophytos']s, 8.0ms\n",
            "Speed: 1.7ms preprocess, 8.0ms inference, 1.4ms postprocess per image at shape (1, 3, 640, 640)\n",
            "\n"
          ]
        },
        {
          "output_type": "stream",
          "name": "stdout",
          "text": [
            "[0 0 0 0 0]\n"
          ]
        },
        {
          "output_type": "stream",
          "name": "stderr",
          "text": [
            "image 1/1 /content/drive/MyDrive/Trabajo_final_VIU/YOLOV8/Dataset/test/images/imagen165-6.jpg: 640x576 (no detections), 10.9ms\n",
            "Speed: 2.0ms preprocess, 10.9ms inference, 1.0ms postprocess per image at shape (1, 3, 640, 576)\n",
            "\n"
          ]
        },
        {
          "output_type": "stream",
          "name": "stdout",
          "text": [
            "[]\n"
          ]
        },
        {
          "output_type": "stream",
          "name": "stderr",
          "text": [
            "image 1/1 /content/drive/MyDrive/Trabajo_final_VIU/YOLOV8/Dataset/test/images/imagen165-8.jpg: 640x576 (no detections), 10.5ms\n",
            "Speed: 1.9ms preprocess, 10.5ms inference, 0.9ms postprocess per image at shape (1, 3, 640, 576)\n",
            "\n"
          ]
        },
        {
          "output_type": "stream",
          "name": "stdout",
          "text": [
            "[]\n"
          ]
        },
        {
          "output_type": "stream",
          "name": "stderr",
          "text": [
            "image 1/1 /content/drive/MyDrive/Trabajo_final_VIU/YOLOV8/Dataset/test/images/imagen166-7.jpg: 640x640 (no detections), 12.7ms\n",
            "Speed: 2.4ms preprocess, 12.7ms inference, 1.1ms postprocess per image at shape (1, 3, 640, 640)\n",
            "\n"
          ]
        },
        {
          "output_type": "stream",
          "name": "stdout",
          "text": [
            "[]\n"
          ]
        },
        {
          "output_type": "stream",
          "name": "stderr",
          "text": [
            "image 1/1 /content/drive/MyDrive/Trabajo_final_VIU/YOLOV8/Dataset/test/images/imagen166-8.jpg: 640x544 1 ['Osteophytos'], 7.8ms\n",
            "Speed: 1.6ms preprocess, 7.8ms inference, 1.2ms postprocess per image at shape (1, 3, 640, 544)\n",
            "\n"
          ]
        },
        {
          "output_type": "stream",
          "name": "stdout",
          "text": [
            "[0]\n"
          ]
        },
        {
          "output_type": "stream",
          "name": "stderr",
          "text": [
            "image 1/1 /content/drive/MyDrive/Trabajo_final_VIU/YOLOV8/Dataset/test/images/imagen167-3.jpg: 640x640 1 ['Osteophytos'], 8.1ms\n",
            "Speed: 1.8ms preprocess, 8.1ms inference, 1.3ms postprocess per image at shape (1, 3, 640, 640)\n",
            "\n"
          ]
        },
        {
          "output_type": "stream",
          "name": "stdout",
          "text": [
            "[0]\n"
          ]
        },
        {
          "output_type": "stream",
          "name": "stderr",
          "text": [
            "image 1/1 /content/drive/MyDrive/Trabajo_final_VIU/YOLOV8/Dataset/test/images/imagen167-5.jpg: 640x640 (no detections), 7.4ms\n",
            "Speed: 1.6ms preprocess, 7.4ms inference, 0.7ms postprocess per image at shape (1, 3, 640, 640)\n",
            "\n"
          ]
        },
        {
          "output_type": "stream",
          "name": "stdout",
          "text": [
            "[]\n"
          ]
        },
        {
          "output_type": "stream",
          "name": "stderr",
          "text": [
            "image 1/1 /content/drive/MyDrive/Trabajo_final_VIU/YOLOV8/Dataset/test/images/imagen168-11.jpg: 640x640 1 ['Osteophytos'], 7.5ms\n",
            "Speed: 1.6ms preprocess, 7.5ms inference, 2.4ms postprocess per image at shape (1, 3, 640, 640)\n",
            "\n"
          ]
        },
        {
          "output_type": "stream",
          "name": "stdout",
          "text": [
            "[0]\n"
          ]
        },
        {
          "output_type": "stream",
          "name": "stderr",
          "text": [
            "image 1/1 /content/drive/MyDrive/Trabajo_final_VIU/YOLOV8/Dataset/test/images/imagen168-7.jpg: 640x640 1 ['Osteophytos'], 7.4ms\n",
            "Speed: 1.6ms preprocess, 7.4ms inference, 1.4ms postprocess per image at shape (1, 3, 640, 640)\n",
            "\n"
          ]
        },
        {
          "output_type": "stream",
          "name": "stdout",
          "text": [
            "[0]\n"
          ]
        },
        {
          "output_type": "stream",
          "name": "stderr",
          "text": [
            "image 1/1 /content/drive/MyDrive/Trabajo_final_VIU/YOLOV8/Dataset/test/images/imagen169-10.jpg: 544x640 2 ['Osteophytos']s, 9.5ms\n",
            "Speed: 1.6ms preprocess, 9.5ms inference, 1.6ms postprocess per image at shape (1, 3, 544, 640)\n",
            "\n"
          ]
        },
        {
          "output_type": "stream",
          "name": "stdout",
          "text": [
            "[0 0]\n"
          ]
        },
        {
          "output_type": "stream",
          "name": "stderr",
          "text": [
            "image 1/1 /content/drive/MyDrive/Trabajo_final_VIU/YOLOV8/Dataset/test/images/imagen169-14.jpg: 640x640 1 ['Osteophytos'], 8.2ms\n",
            "Speed: 1.7ms preprocess, 8.2ms inference, 1.3ms postprocess per image at shape (1, 3, 640, 640)\n",
            "\n"
          ]
        },
        {
          "output_type": "stream",
          "name": "stdout",
          "text": [
            "[0]\n"
          ]
        },
        {
          "output_type": "stream",
          "name": "stderr",
          "text": [
            "image 1/1 /content/drive/MyDrive/Trabajo_final_VIU/YOLOV8/Dataset/test/images/imagen17-7.jpg: 640x640 3 ['Osteophytos']s, 7.4ms\n",
            "Speed: 1.7ms preprocess, 7.4ms inference, 1.5ms postprocess per image at shape (1, 3, 640, 640)\n",
            "\n"
          ]
        },
        {
          "output_type": "stream",
          "name": "stdout",
          "text": [
            "[0 0 0]\n"
          ]
        },
        {
          "output_type": "stream",
          "name": "stderr",
          "text": [
            "image 1/1 /content/drive/MyDrive/Trabajo_final_VIU/YOLOV8/Dataset/test/images/imagen170-11.jpg: 640x640 2 ['Osteophytos']s, 7.7ms\n",
            "Speed: 4.0ms preprocess, 7.7ms inference, 1.4ms postprocess per image at shape (1, 3, 640, 640)\n",
            "\n"
          ]
        },
        {
          "output_type": "stream",
          "name": "stdout",
          "text": [
            "[0 0]\n"
          ]
        },
        {
          "output_type": "stream",
          "name": "stderr",
          "text": [
            "image 1/1 /content/drive/MyDrive/Trabajo_final_VIU/YOLOV8/Dataset/test/images/imagen170-14.jpg: 640x640 (no detections), 7.4ms\n",
            "Speed: 1.7ms preprocess, 7.4ms inference, 0.8ms postprocess per image at shape (1, 3, 640, 640)\n",
            "\n"
          ]
        },
        {
          "output_type": "stream",
          "name": "stdout",
          "text": [
            "[]\n"
          ]
        },
        {
          "output_type": "stream",
          "name": "stderr",
          "text": [
            "image 1/1 /content/drive/MyDrive/Trabajo_final_VIU/YOLOV8/Dataset/test/images/imagen170-7.jpg: 608x640 3 ['Osteophytos']s, 8.1ms\n",
            "Speed: 1.6ms preprocess, 8.1ms inference, 1.3ms postprocess per image at shape (1, 3, 608, 640)\n",
            "\n"
          ]
        },
        {
          "output_type": "stream",
          "name": "stdout",
          "text": [
            "[0 0 0]\n"
          ]
        },
        {
          "output_type": "stream",
          "name": "stderr",
          "text": [
            "image 1/1 /content/drive/MyDrive/Trabajo_final_VIU/YOLOV8/Dataset/test/images/imagen171-4.jpg: 640x576 (no detections), 9.1ms\n",
            "Speed: 1.9ms preprocess, 9.1ms inference, 0.9ms postprocess per image at shape (1, 3, 640, 576)\n",
            "\n"
          ]
        },
        {
          "output_type": "stream",
          "name": "stdout",
          "text": [
            "[]\n"
          ]
        },
        {
          "output_type": "stream",
          "name": "stderr",
          "text": [
            "image 1/1 /content/drive/MyDrive/Trabajo_final_VIU/YOLOV8/Dataset/test/images/imagen171-6.jpg: 640x576 (no detections), 8.7ms\n",
            "Speed: 1.8ms preprocess, 8.7ms inference, 0.9ms postprocess per image at shape (1, 3, 640, 576)\n",
            "\n"
          ]
        },
        {
          "output_type": "stream",
          "name": "stdout",
          "text": [
            "[]\n"
          ]
        },
        {
          "output_type": "stream",
          "name": "stderr",
          "text": [
            "image 1/1 /content/drive/MyDrive/Trabajo_final_VIU/YOLOV8/Dataset/test/images/imagen172-4.jpg: 640x576 (no detections), 8.7ms\n",
            "Speed: 2.0ms preprocess, 8.7ms inference, 0.9ms postprocess per image at shape (1, 3, 640, 576)\n",
            "\n"
          ]
        },
        {
          "output_type": "stream",
          "name": "stdout",
          "text": [
            "[]\n"
          ]
        },
        {
          "output_type": "stream",
          "name": "stderr",
          "text": [
            "image 1/1 /content/drive/MyDrive/Trabajo_final_VIU/YOLOV8/Dataset/test/images/imagen172-6.jpg: 640x576 (no detections), 7.3ms\n",
            "Speed: 1.7ms preprocess, 7.3ms inference, 0.7ms postprocess per image at shape (1, 3, 640, 576)\n",
            "\n"
          ]
        },
        {
          "output_type": "stream",
          "name": "stdout",
          "text": [
            "[]\n"
          ]
        },
        {
          "output_type": "stream",
          "name": "stderr",
          "text": [
            "image 1/1 /content/drive/MyDrive/Trabajo_final_VIU/YOLOV8/Dataset/test/images/imagen173-4.jpg: 640x576 (no detections), 7.3ms\n",
            "Speed: 1.7ms preprocess, 7.3ms inference, 1.0ms postprocess per image at shape (1, 3, 640, 576)\n",
            "\n"
          ]
        },
        {
          "output_type": "stream",
          "name": "stdout",
          "text": [
            "[]\n"
          ]
        },
        {
          "output_type": "stream",
          "name": "stderr",
          "text": [
            "image 1/1 /content/drive/MyDrive/Trabajo_final_VIU/YOLOV8/Dataset/test/images/imagen173-6.jpg: 640x576 (no detections), 7.3ms\n",
            "Speed: 1.7ms preprocess, 7.3ms inference, 0.8ms postprocess per image at shape (1, 3, 640, 576)\n",
            "\n"
          ]
        },
        {
          "output_type": "stream",
          "name": "stdout",
          "text": [
            "[]\n"
          ]
        },
        {
          "output_type": "stream",
          "name": "stderr",
          "text": [
            "image 1/1 /content/drive/MyDrive/Trabajo_final_VIU/YOLOV8/Dataset/test/images/imagen174-4.jpg: 576x640 1 ['Osteophytos'], 8.0ms\n",
            "Speed: 2.6ms preprocess, 8.0ms inference, 1.6ms postprocess per image at shape (1, 3, 576, 640)\n",
            "\n"
          ]
        },
        {
          "output_type": "stream",
          "name": "stdout",
          "text": [
            "[0]\n"
          ]
        },
        {
          "output_type": "stream",
          "name": "stderr",
          "text": [
            "image 1/1 /content/drive/MyDrive/Trabajo_final_VIU/YOLOV8/Dataset/test/images/imagen174-5.jpg: 640x640 2 ['Osteophytos']s, 8.0ms\n",
            "Speed: 1.7ms preprocess, 8.0ms inference, 1.3ms postprocess per image at shape (1, 3, 640, 640)\n",
            "\n"
          ]
        },
        {
          "output_type": "stream",
          "name": "stdout",
          "text": [
            "[0 0]\n"
          ]
        },
        {
          "output_type": "stream",
          "name": "stderr",
          "text": [
            "image 1/1 /content/drive/MyDrive/Trabajo_final_VIU/YOLOV8/Dataset/test/images/imagen174-6.jpg: 640x608 1 ['Osteophytos'], 8.2ms\n",
            "Speed: 1.7ms preprocess, 8.2ms inference, 1.4ms postprocess per image at shape (1, 3, 640, 608)\n",
            "\n"
          ]
        },
        {
          "output_type": "stream",
          "name": "stdout",
          "text": [
            "[0]\n"
          ]
        },
        {
          "output_type": "stream",
          "name": "stderr",
          "text": [
            "image 1/1 /content/drive/MyDrive/Trabajo_final_VIU/YOLOV8/Dataset/test/images/imagen175-3.jpg: 640x640 3 ['Osteophytos']s, 8.1ms\n",
            "Speed: 1.6ms preprocess, 8.1ms inference, 1.4ms postprocess per image at shape (1, 3, 640, 640)\n",
            "\n"
          ]
        },
        {
          "output_type": "stream",
          "name": "stdout",
          "text": [
            "[0 0 0]\n"
          ]
        },
        {
          "output_type": "stream",
          "name": "stderr",
          "text": [
            "image 1/1 /content/drive/MyDrive/Trabajo_final_VIU/YOLOV8/Dataset/test/images/imagen176-6.jpg: 640x576 1 ['Osteophytos'], 8.0ms\n",
            "Speed: 2.0ms preprocess, 8.0ms inference, 1.3ms postprocess per image at shape (1, 3, 640, 576)\n",
            "\n"
          ]
        },
        {
          "output_type": "stream",
          "name": "stdout",
          "text": [
            "[0]\n"
          ]
        },
        {
          "output_type": "stream",
          "name": "stderr",
          "text": [
            "image 1/1 /content/drive/MyDrive/Trabajo_final_VIU/YOLOV8/Dataset/test/images/imagen177-4.jpg: 640x512 1 ['Osteophytos'], 7.3ms\n",
            "Speed: 1.5ms preprocess, 7.3ms inference, 1.4ms postprocess per image at shape (1, 3, 640, 512)\n",
            "\n"
          ]
        },
        {
          "output_type": "stream",
          "name": "stdout",
          "text": [
            "[0]\n"
          ]
        },
        {
          "output_type": "stream",
          "name": "stderr",
          "text": [
            "image 1/1 /content/drive/MyDrive/Trabajo_final_VIU/YOLOV8/Dataset/test/images/imagen177-5.jpg: 640x640 1 ['Osteophytos'], 8.2ms\n",
            "Speed: 1.7ms preprocess, 8.2ms inference, 1.3ms postprocess per image at shape (1, 3, 640, 640)\n",
            "\n"
          ]
        },
        {
          "output_type": "stream",
          "name": "stdout",
          "text": [
            "[0]\n"
          ]
        },
        {
          "output_type": "stream",
          "name": "stderr",
          "text": [
            "image 1/1 /content/drive/MyDrive/Trabajo_final_VIU/YOLOV8/Dataset/test/images/imagen177-6.jpg: 640x512 1 ['Osteophytos'], 7.0ms\n",
            "Speed: 1.4ms preprocess, 7.0ms inference, 1.3ms postprocess per image at shape (1, 3, 640, 512)\n",
            "\n"
          ]
        },
        {
          "output_type": "stream",
          "name": "stdout",
          "text": [
            "[0]\n"
          ]
        },
        {
          "output_type": "stream",
          "name": "stderr",
          "text": [
            "image 1/1 /content/drive/MyDrive/Trabajo_final_VIU/YOLOV8/Dataset/test/images/imagen178-11.jpg: 640x640 1 ['Osteophytos'], 10.5ms\n",
            "Speed: 2.0ms preprocess, 10.5ms inference, 1.7ms postprocess per image at shape (1, 3, 640, 640)\n",
            "\n"
          ]
        },
        {
          "output_type": "stream",
          "name": "stdout",
          "text": [
            "[0]\n"
          ]
        },
        {
          "output_type": "stream",
          "name": "stderr",
          "text": [
            "image 1/1 /content/drive/MyDrive/Trabajo_final_VIU/YOLOV8/Dataset/test/images/imagen179-2.jpg: 640x544 1 ['Osteophytos'], 10.7ms\n",
            "Speed: 1.9ms preprocess, 10.7ms inference, 1.9ms postprocess per image at shape (1, 3, 640, 544)\n",
            "\n"
          ]
        },
        {
          "output_type": "stream",
          "name": "stdout",
          "text": [
            "[0]\n"
          ]
        },
        {
          "output_type": "stream",
          "name": "stderr",
          "text": [
            "image 1/1 /content/drive/MyDrive/Trabajo_final_VIU/YOLOV8/Dataset/test/images/imagen179-4.jpg: 640x544 6 ['Osteophytos']s, 8.7ms\n",
            "Speed: 1.8ms preprocess, 8.7ms inference, 1.7ms postprocess per image at shape (1, 3, 640, 544)\n",
            "\n"
          ]
        },
        {
          "output_type": "stream",
          "name": "stdout",
          "text": [
            "[0 0 0 0 0 0]\n"
          ]
        },
        {
          "output_type": "stream",
          "name": "stderr",
          "text": [
            "image 1/1 /content/drive/MyDrive/Trabajo_final_VIU/YOLOV8/Dataset/test/images/imagen18-4.jpg: 640x640 (no detections), 8.2ms\n",
            "Speed: 2.2ms preprocess, 8.2ms inference, 0.7ms postprocess per image at shape (1, 3, 640, 640)\n",
            "\n"
          ]
        },
        {
          "output_type": "stream",
          "name": "stdout",
          "text": [
            "[]\n"
          ]
        },
        {
          "output_type": "stream",
          "name": "stderr",
          "text": [
            "image 1/1 /content/drive/MyDrive/Trabajo_final_VIU/YOLOV8/Dataset/test/images/imagen18-5.jpg: 640x640 (no detections), 7.4ms\n",
            "Speed: 1.7ms preprocess, 7.4ms inference, 0.7ms postprocess per image at shape (1, 3, 640, 640)\n",
            "\n"
          ]
        },
        {
          "output_type": "stream",
          "name": "stdout",
          "text": [
            "[]\n"
          ]
        },
        {
          "output_type": "stream",
          "name": "stderr",
          "text": [
            "image 1/1 /content/drive/MyDrive/Trabajo_final_VIU/YOLOV8/Dataset/test/images/imagen180-1.jpg: 640x640 1 ['Osteophytos'], 9.5ms\n",
            "Speed: 1.6ms preprocess, 9.5ms inference, 1.3ms postprocess per image at shape (1, 3, 640, 640)\n",
            "\n"
          ]
        },
        {
          "output_type": "stream",
          "name": "stdout",
          "text": [
            "[0]\n"
          ]
        },
        {
          "output_type": "stream",
          "name": "stderr",
          "text": [
            "image 1/1 /content/drive/MyDrive/Trabajo_final_VIU/YOLOV8/Dataset/test/images/imagen181-6.jpg: 640x544 2 ['Osteophytos']s, 8.0ms\n",
            "Speed: 1.7ms preprocess, 8.0ms inference, 1.4ms postprocess per image at shape (1, 3, 640, 544)\n",
            "\n"
          ]
        },
        {
          "output_type": "stream",
          "name": "stdout",
          "text": [
            "[0 0]\n"
          ]
        },
        {
          "output_type": "stream",
          "name": "stderr",
          "text": [
            "image 1/1 /content/drive/MyDrive/Trabajo_final_VIU/YOLOV8/Dataset/test/images/imagen182-10.jpg: 640x576 1 ['Osteophytos'], 8.0ms\n",
            "Speed: 1.6ms preprocess, 8.0ms inference, 1.4ms postprocess per image at shape (1, 3, 640, 576)\n",
            "\n"
          ]
        },
        {
          "output_type": "stream",
          "name": "stdout",
          "text": [
            "[0]\n"
          ]
        },
        {
          "output_type": "stream",
          "name": "stderr",
          "text": [
            "image 1/1 /content/drive/MyDrive/Trabajo_final_VIU/YOLOV8/Dataset/test/images/imagen182-11.jpg: 640x640 1 ['Osteophytos'], 8.1ms\n",
            "Speed: 1.6ms preprocess, 8.1ms inference, 1.3ms postprocess per image at shape (1, 3, 640, 640)\n",
            "\n"
          ]
        },
        {
          "output_type": "stream",
          "name": "stdout",
          "text": [
            "[0]\n"
          ]
        },
        {
          "output_type": "stream",
          "name": "stderr",
          "text": [
            "image 1/1 /content/drive/MyDrive/Trabajo_final_VIU/YOLOV8/Dataset/test/images/imagen182-6.jpg: 640x608 3 ['Osteophytos']s, 8.5ms\n",
            "Speed: 2.6ms preprocess, 8.5ms inference, 2.3ms postprocess per image at shape (1, 3, 640, 608)\n",
            "\n"
          ]
        },
        {
          "output_type": "stream",
          "name": "stdout",
          "text": [
            "[0 0 0]\n"
          ]
        },
        {
          "output_type": "stream",
          "name": "stderr",
          "text": [
            "image 1/1 /content/drive/MyDrive/Trabajo_final_VIU/YOLOV8/Dataset/test/images/imagen182-7.jpg: 640x640 5 ['Osteophytos']s, 8.1ms\n",
            "Speed: 1.8ms preprocess, 8.1ms inference, 1.5ms postprocess per image at shape (1, 3, 640, 640)\n",
            "\n"
          ]
        },
        {
          "output_type": "stream",
          "name": "stdout",
          "text": [
            "[0 0 0 0 0]\n"
          ]
        },
        {
          "output_type": "stream",
          "name": "stderr",
          "text": [
            "image 1/1 /content/drive/MyDrive/Trabajo_final_VIU/YOLOV8/Dataset/test/images/imagen183-10.jpg: 640x640 2 ['Osteophytos']s, 7.4ms\n",
            "Speed: 1.7ms preprocess, 7.4ms inference, 1.4ms postprocess per image at shape (1, 3, 640, 640)\n",
            "\n"
          ]
        },
        {
          "output_type": "stream",
          "name": "stdout",
          "text": [
            "[0 0]\n"
          ]
        },
        {
          "output_type": "stream",
          "name": "stderr",
          "text": [
            "image 1/1 /content/drive/MyDrive/Trabajo_final_VIU/YOLOV8/Dataset/test/images/imagen184-12.jpg: 640x608 1 ['Osteophytos'], 8.0ms\n",
            "Speed: 1.7ms preprocess, 8.0ms inference, 1.3ms postprocess per image at shape (1, 3, 640, 608)\n",
            "\n"
          ]
        },
        {
          "output_type": "stream",
          "name": "stdout",
          "text": [
            "[0]\n"
          ]
        },
        {
          "output_type": "stream",
          "name": "stderr",
          "text": [
            "image 1/1 /content/drive/MyDrive/Trabajo_final_VIU/YOLOV8/Dataset/test/images/imagen184-13.jpg: 640x640 (no detections), 8.1ms\n",
            "Speed: 1.7ms preprocess, 8.1ms inference, 0.7ms postprocess per image at shape (1, 3, 640, 640)\n",
            "\n"
          ]
        },
        {
          "output_type": "stream",
          "name": "stdout",
          "text": [
            "[]\n"
          ]
        },
        {
          "output_type": "stream",
          "name": "stderr",
          "text": [
            "image 1/1 /content/drive/MyDrive/Trabajo_final_VIU/YOLOV8/Dataset/test/images/imagen185-3.jpg: 640x640 3 ['Osteophytos']s, 7.7ms\n",
            "Speed: 1.6ms preprocess, 7.7ms inference, 1.5ms postprocess per image at shape (1, 3, 640, 640)\n",
            "\n"
          ]
        },
        {
          "output_type": "stream",
          "name": "stdout",
          "text": [
            "[0 0 0]\n"
          ]
        },
        {
          "output_type": "stream",
          "name": "stderr",
          "text": [
            "image 1/1 /content/drive/MyDrive/Trabajo_final_VIU/YOLOV8/Dataset/test/images/imagen186-10.jpg: 640x640 2 ['Osteophytos']s, 8.3ms\n",
            "Speed: 2.0ms preprocess, 8.3ms inference, 1.7ms postprocess per image at shape (1, 3, 640, 640)\n",
            "\n"
          ]
        },
        {
          "output_type": "stream",
          "name": "stdout",
          "text": [
            "[0 0]\n"
          ]
        },
        {
          "output_type": "stream",
          "name": "stderr",
          "text": [
            "image 1/1 /content/drive/MyDrive/Trabajo_final_VIU/YOLOV8/Dataset/test/images/imagen186-6.jpg: 608x640 1 ['Osteophytos'], 9.2ms\n",
            "Speed: 3.9ms preprocess, 9.2ms inference, 1.6ms postprocess per image at shape (1, 3, 608, 640)\n",
            "\n"
          ]
        },
        {
          "output_type": "stream",
          "name": "stdout",
          "text": [
            "[0]\n"
          ]
        },
        {
          "output_type": "stream",
          "name": "stderr",
          "text": [
            "image 1/1 /content/drive/MyDrive/Trabajo_final_VIU/YOLOV8/Dataset/test/images/imagen186-7.jpg: 608x640 3 ['Osteophytos']s, 10.0ms\n",
            "Speed: 1.9ms preprocess, 10.0ms inference, 1.8ms postprocess per image at shape (1, 3, 608, 640)\n",
            "\n"
          ]
        },
        {
          "output_type": "stream",
          "name": "stdout",
          "text": [
            "[0 0 0]\n"
          ]
        },
        {
          "output_type": "stream",
          "name": "stderr",
          "text": [
            "image 1/1 /content/drive/MyDrive/Trabajo_final_VIU/YOLOV8/Dataset/test/images/imagen187-3.jpg: 640x640 1 ['Osteophytos'], 8.1ms\n",
            "Speed: 1.6ms preprocess, 8.1ms inference, 1.3ms postprocess per image at shape (1, 3, 640, 640)\n",
            "\n"
          ]
        },
        {
          "output_type": "stream",
          "name": "stdout",
          "text": [
            "[0]\n"
          ]
        },
        {
          "output_type": "stream",
          "name": "stderr",
          "text": [
            "image 1/1 /content/drive/MyDrive/Trabajo_final_VIU/YOLOV8/Dataset/test/images/imagen187-4.jpg: 640x608 (no detections), 8.1ms\n",
            "Speed: 1.6ms preprocess, 8.1ms inference, 0.7ms postprocess per image at shape (1, 3, 640, 608)\n",
            "\n"
          ]
        },
        {
          "output_type": "stream",
          "name": "stdout",
          "text": [
            "[]\n"
          ]
        },
        {
          "output_type": "stream",
          "name": "stderr",
          "text": [
            "image 1/1 /content/drive/MyDrive/Trabajo_final_VIU/YOLOV8/Dataset/test/images/imagen187-5.jpg: 640x640 1 ['Osteophytos'], 8.1ms\n",
            "Speed: 1.6ms preprocess, 8.1ms inference, 1.4ms postprocess per image at shape (1, 3, 640, 640)\n",
            "\n"
          ]
        },
        {
          "output_type": "stream",
          "name": "stdout",
          "text": [
            "[0]\n"
          ]
        },
        {
          "output_type": "stream",
          "name": "stderr",
          "text": [
            "image 1/1 /content/drive/MyDrive/Trabajo_final_VIU/YOLOV8/Dataset/test/images/imagen187-6.jpg: 640x608 3 ['Osteophytos']s, 8.2ms\n",
            "Speed: 1.6ms preprocess, 8.2ms inference, 1.3ms postprocess per image at shape (1, 3, 640, 608)\n",
            "\n"
          ]
        },
        {
          "output_type": "stream",
          "name": "stdout",
          "text": [
            "[0 0 0]\n"
          ]
        },
        {
          "output_type": "stream",
          "name": "stderr",
          "text": [
            "image 1/1 /content/drive/MyDrive/Trabajo_final_VIU/YOLOV8/Dataset/test/images/imagen188-3.jpg: 640x640 2 ['Osteophytos']s, 8.1ms\n",
            "Speed: 1.7ms preprocess, 8.1ms inference, 1.6ms postprocess per image at shape (1, 3, 640, 640)\n",
            "\n"
          ]
        },
        {
          "output_type": "stream",
          "name": "stdout",
          "text": [
            "[0 0]\n"
          ]
        },
        {
          "output_type": "stream",
          "name": "stderr",
          "text": [
            "image 1/1 /content/drive/MyDrive/Trabajo_final_VIU/YOLOV8/Dataset/test/images/imagen189-4.jpg: 640x384 1 ['Osteophytos'], 54.1ms\n",
            "Speed: 2.0ms preprocess, 54.1ms inference, 1.4ms postprocess per image at shape (1, 3, 640, 384)\n",
            "\n"
          ]
        },
        {
          "output_type": "stream",
          "name": "stdout",
          "text": [
            "[0]\n"
          ]
        },
        {
          "output_type": "stream",
          "name": "stderr",
          "text": [
            "image 1/1 /content/drive/MyDrive/Trabajo_final_VIU/YOLOV8/Dataset/test/images/imagen189-6.jpg: 640x384 4 ['Osteophytos']s, 6.7ms\n",
            "Speed: 1.3ms preprocess, 6.7ms inference, 1.4ms postprocess per image at shape (1, 3, 640, 384)\n",
            "\n"
          ]
        },
        {
          "output_type": "stream",
          "name": "stdout",
          "text": [
            "[0 0 0 0]\n"
          ]
        },
        {
          "output_type": "stream",
          "name": "stderr",
          "text": [
            "image 1/1 /content/drive/MyDrive/Trabajo_final_VIU/YOLOV8/Dataset/test/images/imagen189-8.jpg: 640x384 2 ['Osteophytos']s, 6.7ms\n",
            "Speed: 1.3ms preprocess, 6.7ms inference, 1.3ms postprocess per image at shape (1, 3, 640, 384)\n",
            "\n"
          ]
        },
        {
          "output_type": "stream",
          "name": "stdout",
          "text": [
            "[0 0]\n"
          ]
        },
        {
          "output_type": "stream",
          "name": "stderr",
          "text": [
            "image 1/1 /content/drive/MyDrive/Trabajo_final_VIU/YOLOV8/Dataset/test/images/imagen19-6.jpg: 640x640 2 ['Osteophytos']s, 8.1ms\n",
            "Speed: 2.8ms preprocess, 8.1ms inference, 1.3ms postprocess per image at shape (1, 3, 640, 640)\n",
            "\n"
          ]
        },
        {
          "output_type": "stream",
          "name": "stdout",
          "text": [
            "[0 0]\n"
          ]
        },
        {
          "output_type": "stream",
          "name": "stderr",
          "text": [
            "image 1/1 /content/drive/MyDrive/Trabajo_final_VIU/YOLOV8/Dataset/test/images/imagen19-8.jpg: 640x640 (no detections), 7.4ms\n",
            "Speed: 1.6ms preprocess, 7.4ms inference, 0.8ms postprocess per image at shape (1, 3, 640, 640)\n",
            "\n"
          ]
        },
        {
          "output_type": "stream",
          "name": "stdout",
          "text": [
            "[]\n"
          ]
        },
        {
          "output_type": "stream",
          "name": "stderr",
          "text": [
            "image 1/1 /content/drive/MyDrive/Trabajo_final_VIU/YOLOV8/Dataset/test/images/imagen190-4.jpg: 640x640 (no detections), 7.5ms\n",
            "Speed: 1.7ms preprocess, 7.5ms inference, 0.7ms postprocess per image at shape (1, 3, 640, 640)\n",
            "\n"
          ]
        },
        {
          "output_type": "stream",
          "name": "stdout",
          "text": [
            "[]\n"
          ]
        },
        {
          "output_type": "stream",
          "name": "stderr",
          "text": [
            "image 1/1 /content/drive/MyDrive/Trabajo_final_VIU/YOLOV8/Dataset/test/images/imagen190-6.jpg: 576x640 1 ['Osteophytos'], 9.5ms\n",
            "Speed: 3.7ms preprocess, 9.5ms inference, 1.6ms postprocess per image at shape (1, 3, 576, 640)\n",
            "\n"
          ]
        },
        {
          "output_type": "stream",
          "name": "stdout",
          "text": [
            "[0]\n"
          ]
        },
        {
          "output_type": "stream",
          "name": "stderr",
          "text": [
            "image 1/1 /content/drive/MyDrive/Trabajo_final_VIU/YOLOV8/Dataset/test/images/imagen190-8.jpg: 640x640 2 ['Osteophytos']s, 16.6ms\n",
            "Speed: 3.2ms preprocess, 16.6ms inference, 1.8ms postprocess per image at shape (1, 3, 640, 640)\n",
            "\n"
          ]
        },
        {
          "output_type": "stream",
          "name": "stdout",
          "text": [
            "[0 0]\n"
          ]
        },
        {
          "output_type": "stream",
          "name": "stderr",
          "text": [
            "image 1/1 /content/drive/MyDrive/Trabajo_final_VIU/YOLOV8/Dataset/test/images/imagen191-11.jpg: 640x640 3 ['Osteophytos']s, 10.5ms\n",
            "Speed: 5.3ms preprocess, 10.5ms inference, 4.3ms postprocess per image at shape (1, 3, 640, 640)\n",
            "\n"
          ]
        },
        {
          "output_type": "stream",
          "name": "stdout",
          "text": [
            "[0 0 0]\n"
          ]
        },
        {
          "output_type": "stream",
          "name": "stderr",
          "text": [
            "image 1/1 /content/drive/MyDrive/Trabajo_final_VIU/YOLOV8/Dataset/test/images/imagen191-15.jpg: 640x640 (no detections), 9.2ms\n",
            "Speed: 1.6ms preprocess, 9.2ms inference, 0.9ms postprocess per image at shape (1, 3, 640, 640)\n",
            "\n"
          ]
        },
        {
          "output_type": "stream",
          "name": "stdout",
          "text": [
            "[]\n"
          ]
        },
        {
          "output_type": "stream",
          "name": "stderr",
          "text": [
            "image 1/1 /content/drive/MyDrive/Trabajo_final_VIU/YOLOV8/Dataset/test/images/imagen191-6.jpg: 608x640 2 ['Osteophytos']s, 11.6ms\n",
            "Speed: 1.7ms preprocess, 11.6ms inference, 1.8ms postprocess per image at shape (1, 3, 608, 640)\n",
            "\n"
          ]
        },
        {
          "output_type": "stream",
          "name": "stdout",
          "text": [
            "[0 0]\n"
          ]
        },
        {
          "output_type": "stream",
          "name": "stderr",
          "text": [
            "image 1/1 /content/drive/MyDrive/Trabajo_final_VIU/YOLOV8/Dataset/test/images/imagen191-7.jpg: 608x640 3 ['Osteophytos']s, 7.4ms\n",
            "Speed: 1.6ms preprocess, 7.4ms inference, 1.5ms postprocess per image at shape (1, 3, 608, 640)\n",
            "\n"
          ]
        },
        {
          "output_type": "stream",
          "name": "stdout",
          "text": [
            "[0 0 0]\n"
          ]
        },
        {
          "output_type": "stream",
          "name": "stderr",
          "text": [
            "image 1/1 /content/drive/MyDrive/Trabajo_final_VIU/YOLOV8/Dataset/test/images/imagen192-11.jpg: 640x640 3 ['Osteophytos']s, 8.1ms\n",
            "Speed: 1.6ms preprocess, 8.1ms inference, 1.2ms postprocess per image at shape (1, 3, 640, 640)\n",
            "\n"
          ]
        },
        {
          "output_type": "stream",
          "name": "stdout",
          "text": [
            "[0 0 0]\n"
          ]
        },
        {
          "output_type": "stream",
          "name": "stderr",
          "text": [
            "image 1/1 /content/drive/MyDrive/Trabajo_final_VIU/YOLOV8/Dataset/test/images/imagen192-7.jpg: 608x640 1 ['Osteophytos'], 8.0ms\n",
            "Speed: 1.8ms preprocess, 8.0ms inference, 1.2ms postprocess per image at shape (1, 3, 608, 640)\n",
            "\n"
          ]
        },
        {
          "output_type": "stream",
          "name": "stdout",
          "text": [
            "[0]\n"
          ]
        },
        {
          "output_type": "stream",
          "name": "stderr",
          "text": [
            "image 1/1 /content/drive/MyDrive/Trabajo_final_VIU/YOLOV8/Dataset/test/images/imagen193-13.jpg: 640x640 5 ['Osteophytos']s, 8.1ms\n",
            "Speed: 1.6ms preprocess, 8.1ms inference, 1.3ms postprocess per image at shape (1, 3, 640, 640)\n",
            "\n"
          ]
        },
        {
          "output_type": "stream",
          "name": "stdout",
          "text": [
            "[0 0 0 0 0]\n"
          ]
        },
        {
          "output_type": "stream",
          "name": "stderr",
          "text": [
            "image 1/1 /content/drive/MyDrive/Trabajo_final_VIU/YOLOV8/Dataset/test/images/imagen193-8.jpg: 608x640 3 ['Osteophytos']s, 8.0ms\n",
            "Speed: 1.7ms preprocess, 8.0ms inference, 1.2ms postprocess per image at shape (1, 3, 608, 640)\n",
            "\n"
          ]
        },
        {
          "output_type": "stream",
          "name": "stdout",
          "text": [
            "[0 0 0]\n"
          ]
        },
        {
          "output_type": "stream",
          "name": "stderr",
          "text": [
            "image 1/1 /content/drive/MyDrive/Trabajo_final_VIU/YOLOV8/Dataset/test/images/imagen194-3.jpg: 640x640 1 ['Osteophytos'], 8.2ms\n",
            "Speed: 1.6ms preprocess, 8.2ms inference, 1.3ms postprocess per image at shape (1, 3, 640, 640)\n",
            "\n"
          ]
        },
        {
          "output_type": "stream",
          "name": "stdout",
          "text": [
            "[0]\n"
          ]
        },
        {
          "output_type": "stream",
          "name": "stderr",
          "text": [
            "image 1/1 /content/drive/MyDrive/Trabajo_final_VIU/YOLOV8/Dataset/test/images/imagen195-7.jpg: 640x640 1 ['Osteophytos'], 7.4ms\n",
            "Speed: 1.6ms preprocess, 7.4ms inference, 1.5ms postprocess per image at shape (1, 3, 640, 640)\n",
            "\n"
          ]
        },
        {
          "output_type": "stream",
          "name": "stdout",
          "text": [
            "[0]\n"
          ]
        },
        {
          "output_type": "stream",
          "name": "stderr",
          "text": [
            "image 1/1 /content/drive/MyDrive/Trabajo_final_VIU/YOLOV8/Dataset/test/images/imagen196-5.jpg: 640x640 1 ['Osteophytos'], 8.0ms\n",
            "Speed: 1.7ms preprocess, 8.0ms inference, 1.5ms postprocess per image at shape (1, 3, 640, 640)\n",
            "\n"
          ]
        },
        {
          "output_type": "stream",
          "name": "stdout",
          "text": [
            "[0]\n"
          ]
        },
        {
          "output_type": "stream",
          "name": "stderr",
          "text": [
            "image 1/1 /content/drive/MyDrive/Trabajo_final_VIU/YOLOV8/Dataset/test/images/imagen196-7.jpg: 640x640 (no detections), 7.4ms\n",
            "Speed: 1.6ms preprocess, 7.4ms inference, 0.7ms postprocess per image at shape (1, 3, 640, 640)\n",
            "\n"
          ]
        },
        {
          "output_type": "stream",
          "name": "stdout",
          "text": [
            "[]\n"
          ]
        },
        {
          "output_type": "stream",
          "name": "stderr",
          "text": [
            "image 1/1 /content/drive/MyDrive/Trabajo_final_VIU/YOLOV8/Dataset/test/images/imagen197-10.jpg: 544x640 (no detections), 14.6ms\n",
            "Speed: 3.6ms preprocess, 14.6ms inference, 1.0ms postprocess per image at shape (1, 3, 544, 640)\n",
            "\n"
          ]
        },
        {
          "output_type": "stream",
          "name": "stdout",
          "text": [
            "[]\n"
          ]
        },
        {
          "output_type": "stream",
          "name": "stderr",
          "text": [
            "image 1/1 /content/drive/MyDrive/Trabajo_final_VIU/YOLOV8/Dataset/test/images/imagen197-8.jpg: 640x640 5 ['Osteophytos']s, 11.6ms\n",
            "Speed: 2.0ms preprocess, 11.6ms inference, 6.8ms postprocess per image at shape (1, 3, 640, 640)\n",
            "\n"
          ]
        },
        {
          "output_type": "stream",
          "name": "stdout",
          "text": [
            "[0 0 0 0 0]\n"
          ]
        },
        {
          "output_type": "stream",
          "name": "stderr",
          "text": [
            "image 1/1 /content/drive/MyDrive/Trabajo_final_VIU/YOLOV8/Dataset/test/images/imagen198-4.jpg: 640x544 (no detections), 11.5ms\n",
            "Speed: 3.8ms preprocess, 11.5ms inference, 0.9ms postprocess per image at shape (1, 3, 640, 544)\n",
            "\n"
          ]
        },
        {
          "output_type": "stream",
          "name": "stdout",
          "text": [
            "[]\n"
          ]
        },
        {
          "output_type": "stream",
          "name": "stderr",
          "text": [
            "image 1/1 /content/drive/MyDrive/Trabajo_final_VIU/YOLOV8/Dataset/test/images/imagen198-6.jpg: 512x640 (no detections), 7.3ms\n",
            "Speed: 2.5ms preprocess, 7.3ms inference, 0.7ms postprocess per image at shape (1, 3, 512, 640)\n",
            "\n"
          ]
        },
        {
          "output_type": "stream",
          "name": "stdout",
          "text": [
            "[]\n"
          ]
        },
        {
          "output_type": "stream",
          "name": "stderr",
          "text": [
            "image 1/1 /content/drive/MyDrive/Trabajo_final_VIU/YOLOV8/Dataset/test/images/imagen199-4.jpg: 640x512 1 ['Osteophytos'], 7.1ms\n",
            "Speed: 1.4ms preprocess, 7.1ms inference, 1.7ms postprocess per image at shape (1, 3, 640, 512)\n",
            "\n"
          ]
        },
        {
          "output_type": "stream",
          "name": "stdout",
          "text": [
            "[0]\n"
          ]
        },
        {
          "output_type": "stream",
          "name": "stderr",
          "text": [
            "image 1/1 /content/drive/MyDrive/Trabajo_final_VIU/YOLOV8/Dataset/test/images/imagen199-6.jpg: 640x512 2 ['Osteophytos']s, 8.4ms\n",
            "Speed: 2.0ms preprocess, 8.4ms inference, 1.5ms postprocess per image at shape (1, 3, 640, 512)\n",
            "\n"
          ]
        },
        {
          "output_type": "stream",
          "name": "stdout",
          "text": [
            "[0 0]\n"
          ]
        },
        {
          "output_type": "stream",
          "name": "stderr",
          "text": [
            "image 1/1 /content/drive/MyDrive/Trabajo_final_VIU/YOLOV8/Dataset/test/images/imagen199-8.jpg: 640x512 (no detections), 6.9ms\n",
            "Speed: 1.6ms preprocess, 6.9ms inference, 0.8ms postprocess per image at shape (1, 3, 640, 512)\n",
            "\n"
          ]
        },
        {
          "output_type": "stream",
          "name": "stdout",
          "text": [
            "[]\n"
          ]
        },
        {
          "output_type": "stream",
          "name": "stderr",
          "text": [
            "image 1/1 /content/drive/MyDrive/Trabajo_final_VIU/YOLOV8/Dataset/test/images/imagen2-10.jpg: 640x576 1 ['Osteophytos'], 10.0ms\n",
            "Speed: 1.7ms preprocess, 10.0ms inference, 2.1ms postprocess per image at shape (1, 3, 640, 576)\n",
            "\n"
          ]
        },
        {
          "output_type": "stream",
          "name": "stdout",
          "text": [
            "[0]\n"
          ]
        },
        {
          "output_type": "stream",
          "name": "stderr",
          "text": [
            "image 1/1 /content/drive/MyDrive/Trabajo_final_VIU/YOLOV8/Dataset/test/images/imagen2-11.jpg: 640x640 1 ['Osteophytos'], 8.0ms\n",
            "Speed: 1.6ms preprocess, 8.0ms inference, 1.4ms postprocess per image at shape (1, 3, 640, 640)\n",
            "\n"
          ]
        },
        {
          "output_type": "stream",
          "name": "stdout",
          "text": [
            "[0]\n"
          ]
        },
        {
          "output_type": "stream",
          "name": "stderr",
          "text": [
            "image 1/1 /content/drive/MyDrive/Trabajo_final_VIU/YOLOV8/Dataset/test/images/imagen2-6.jpg: 640x608 1 ['Osteophytos'], 8.1ms\n",
            "Speed: 3.4ms preprocess, 8.1ms inference, 1.3ms postprocess per image at shape (1, 3, 640, 608)\n",
            "\n"
          ]
        },
        {
          "output_type": "stream",
          "name": "stdout",
          "text": [
            "[0]\n"
          ]
        },
        {
          "output_type": "stream",
          "name": "stderr",
          "text": [
            "image 1/1 /content/drive/MyDrive/Trabajo_final_VIU/YOLOV8/Dataset/test/images/imagen2-7.jpg: 608x640 3 ['Osteophytos']s, 8.1ms\n",
            "Speed: 1.6ms preprocess, 8.1ms inference, 1.4ms postprocess per image at shape (1, 3, 608, 640)\n",
            "\n"
          ]
        },
        {
          "output_type": "stream",
          "name": "stdout",
          "text": [
            "[0 0 0]\n"
          ]
        },
        {
          "output_type": "stream",
          "name": "stderr",
          "text": [
            "image 1/1 /content/drive/MyDrive/Trabajo_final_VIU/YOLOV8/Dataset/test/images/imagen20-13.jpg: 640x640 (no detections), 8.1ms\n",
            "Speed: 1.6ms preprocess, 8.1ms inference, 0.7ms postprocess per image at shape (1, 3, 640, 640)\n",
            "\n"
          ]
        },
        {
          "output_type": "stream",
          "name": "stdout",
          "text": [
            "[]\n"
          ]
        },
        {
          "output_type": "stream",
          "name": "stderr",
          "text": [
            "image 1/1 /content/drive/MyDrive/Trabajo_final_VIU/YOLOV8/Dataset/test/images/imagen20-8.jpg: 640x640 3 ['Osteophytos']s, 7.4ms\n",
            "Speed: 1.7ms preprocess, 7.4ms inference, 1.4ms postprocess per image at shape (1, 3, 640, 640)\n",
            "\n"
          ]
        },
        {
          "output_type": "stream",
          "name": "stdout",
          "text": [
            "[0 0 0]\n"
          ]
        },
        {
          "output_type": "stream",
          "name": "stderr",
          "text": [
            "image 1/1 /content/drive/MyDrive/Trabajo_final_VIU/YOLOV8/Dataset/test/images/imagen200-4.jpg: 640x448 2 ['Osteophytos']s, 54.9ms\n",
            "Speed: 1.4ms preprocess, 54.9ms inference, 1.3ms postprocess per image at shape (1, 3, 640, 448)\n",
            "\n"
          ]
        },
        {
          "output_type": "stream",
          "name": "stdout",
          "text": [
            "[0 0]\n"
          ]
        },
        {
          "output_type": "stream",
          "name": "stderr",
          "text": [
            "image 1/1 /content/drive/MyDrive/Trabajo_final_VIU/YOLOV8/Dataset/test/images/imagen200-6.jpg: 640x512 3 ['Osteophytos']s, 7.5ms\n",
            "Speed: 3.2ms preprocess, 7.5ms inference, 1.3ms postprocess per image at shape (1, 3, 640, 512)\n",
            "\n"
          ]
        },
        {
          "output_type": "stream",
          "name": "stdout",
          "text": [
            "[0 0 0]\n"
          ]
        },
        {
          "output_type": "stream",
          "name": "stderr",
          "text": [
            "image 1/1 /content/drive/MyDrive/Trabajo_final_VIU/YOLOV8/Dataset/test/images/imagen200-8.jpg: 640x448 1 ['Osteophytos'], 9.1ms\n",
            "Speed: 1.5ms preprocess, 9.1ms inference, 1.6ms postprocess per image at shape (1, 3, 640, 448)\n",
            "\n"
          ]
        },
        {
          "output_type": "stream",
          "name": "stdout",
          "text": [
            "[0]\n"
          ]
        },
        {
          "output_type": "stream",
          "name": "stderr",
          "text": [
            "image 1/1 /content/drive/MyDrive/Trabajo_final_VIU/YOLOV8/Dataset/test/images/imagen201-12.jpg: 640x640 2 ['Osteophytos']s, 8.8ms\n",
            "Speed: 2.2ms preprocess, 8.8ms inference, 1.7ms postprocess per image at shape (1, 3, 640, 640)\n",
            "\n"
          ]
        },
        {
          "output_type": "stream",
          "name": "stdout",
          "text": [
            "[0 0]\n"
          ]
        },
        {
          "output_type": "stream",
          "name": "stderr",
          "text": [
            "image 1/1 /content/drive/MyDrive/Trabajo_final_VIU/YOLOV8/Dataset/test/images/imagen201-13.jpg: 640x640 (no detections), 8.6ms\n",
            "Speed: 2.1ms preprocess, 8.6ms inference, 1.0ms postprocess per image at shape (1, 3, 640, 640)\n",
            "\n"
          ]
        },
        {
          "output_type": "stream",
          "name": "stdout",
          "text": [
            "[]\n"
          ]
        },
        {
          "output_type": "stream",
          "name": "stderr",
          "text": [
            "image 1/1 /content/drive/MyDrive/Trabajo_final_VIU/YOLOV8/Dataset/test/images/imagen201-7.jpg: 512x640 2 ['Osteophytos']s, 7.2ms\n",
            "Speed: 1.4ms preprocess, 7.2ms inference, 1.2ms postprocess per image at shape (1, 3, 512, 640)\n",
            "\n"
          ]
        },
        {
          "output_type": "stream",
          "name": "stdout",
          "text": [
            "[0 0]\n"
          ]
        },
        {
          "output_type": "stream",
          "name": "stderr",
          "text": [
            "image 1/1 /content/drive/MyDrive/Trabajo_final_VIU/YOLOV8/Dataset/test/images/imagen201-8.jpg: 512x640 (no detections), 6.9ms\n",
            "Speed: 1.6ms preprocess, 6.9ms inference, 0.8ms postprocess per image at shape (1, 3, 512, 640)\n",
            "\n"
          ]
        },
        {
          "output_type": "stream",
          "name": "stdout",
          "text": [
            "[]\n"
          ]
        },
        {
          "output_type": "stream",
          "name": "stderr",
          "text": [
            "image 1/1 /content/drive/MyDrive/Trabajo_final_VIU/YOLOV8/Dataset/test/images/imagen202-11.jpg: 640x640 1 ['Osteophytos'], 8.1ms\n",
            "Speed: 1.9ms preprocess, 8.1ms inference, 1.3ms postprocess per image at shape (1, 3, 640, 640)\n",
            "\n"
          ]
        },
        {
          "output_type": "stream",
          "name": "stdout",
          "text": [
            "[0]\n"
          ]
        },
        {
          "output_type": "stream",
          "name": "stderr",
          "text": [
            "image 1/1 /content/drive/MyDrive/Trabajo_final_VIU/YOLOV8/Dataset/test/images/imagen202-7.jpg: 640x640 2 ['Osteophytos']s, 7.4ms\n",
            "Speed: 2.0ms preprocess, 7.4ms inference, 1.5ms postprocess per image at shape (1, 3, 640, 640)\n",
            "\n"
          ]
        },
        {
          "output_type": "stream",
          "name": "stdout",
          "text": [
            "[0 0]\n"
          ]
        },
        {
          "output_type": "stream",
          "name": "stderr",
          "text": [
            "image 1/1 /content/drive/MyDrive/Trabajo_final_VIU/YOLOV8/Dataset/test/images/imagen203-10.jpg: 640x640 2 ['Osteophytos']s, 8.8ms\n",
            "Speed: 1.7ms preprocess, 8.8ms inference, 1.6ms postprocess per image at shape (1, 3, 640, 640)\n",
            "\n"
          ]
        },
        {
          "output_type": "stream",
          "name": "stdout",
          "text": [
            "[0 0]\n"
          ]
        },
        {
          "output_type": "stream",
          "name": "stderr",
          "text": [
            "image 1/1 /content/drive/MyDrive/Trabajo_final_VIU/YOLOV8/Dataset/test/images/imagen203-11.jpg: 640x640 1 ['Osteophytos'], 7.4ms\n",
            "Speed: 1.7ms preprocess, 7.4ms inference, 1.8ms postprocess per image at shape (1, 3, 640, 640)\n",
            "\n"
          ]
        },
        {
          "output_type": "stream",
          "name": "stdout",
          "text": [
            "[0]\n"
          ]
        },
        {
          "output_type": "stream",
          "name": "stderr",
          "text": [
            "image 1/1 /content/drive/MyDrive/Trabajo_final_VIU/YOLOV8/Dataset/test/images/imagen204-5.jpg: 640x640 2 ['Osteophytos']s, 9.1ms\n",
            "Speed: 1.6ms preprocess, 9.1ms inference, 1.3ms postprocess per image at shape (1, 3, 640, 640)\n",
            "\n"
          ]
        },
        {
          "output_type": "stream",
          "name": "stdout",
          "text": [
            "[0 0]\n"
          ]
        },
        {
          "output_type": "stream",
          "name": "stderr",
          "text": [
            "image 1/1 /content/drive/MyDrive/Trabajo_final_VIU/YOLOV8/Dataset/test/images/imagen205-6.jpg: 640x512 2 ['Osteophytos']s, 7.4ms\n",
            "Speed: 1.5ms preprocess, 7.4ms inference, 1.3ms postprocess per image at shape (1, 3, 640, 512)\n",
            "\n"
          ]
        },
        {
          "output_type": "stream",
          "name": "stdout",
          "text": [
            "[0 0]\n"
          ]
        },
        {
          "output_type": "stream",
          "name": "stderr",
          "text": [
            "image 1/1 /content/drive/MyDrive/Trabajo_final_VIU/YOLOV8/Dataset/test/images/imagen206-5.jpg: 608x640 1 ['Osteophytos'], 8.0ms\n",
            "Speed: 1.6ms preprocess, 8.0ms inference, 1.3ms postprocess per image at shape (1, 3, 608, 640)\n",
            "\n"
          ]
        },
        {
          "output_type": "stream",
          "name": "stdout",
          "text": [
            "[0]\n"
          ]
        },
        {
          "output_type": "stream",
          "name": "stderr",
          "text": [
            "image 1/1 /content/drive/MyDrive/Trabajo_final_VIU/YOLOV8/Dataset/test/images/imagen206-6.jpg: 640x640 1 ['Osteophytos'], 8.1ms\n",
            "Speed: 2.6ms preprocess, 8.1ms inference, 1.3ms postprocess per image at shape (1, 3, 640, 640)\n",
            "\n"
          ]
        },
        {
          "output_type": "stream",
          "name": "stdout",
          "text": [
            "[0]\n"
          ]
        },
        {
          "output_type": "stream",
          "name": "stderr",
          "text": [
            "image 1/1 /content/drive/MyDrive/Trabajo_final_VIU/YOLOV8/Dataset/test/images/imagen206-7.jpg: 640x640 1 ['Osteophytos'], 7.4ms\n",
            "Speed: 1.7ms preprocess, 7.4ms inference, 1.3ms postprocess per image at shape (1, 3, 640, 640)\n",
            "\n"
          ]
        },
        {
          "output_type": "stream",
          "name": "stdout",
          "text": [
            "[0]\n"
          ]
        },
        {
          "output_type": "stream",
          "name": "stderr",
          "text": [
            "image 1/1 /content/drive/MyDrive/Trabajo_final_VIU/YOLOV8/Dataset/test/images/imagen206-8.jpg: 640x608 1 ['Osteophytos'], 9.4ms\n",
            "Speed: 2.1ms preprocess, 9.4ms inference, 1.6ms postprocess per image at shape (1, 3, 640, 608)\n",
            "\n"
          ]
        },
        {
          "output_type": "stream",
          "name": "stdout",
          "text": [
            "[0]\n"
          ]
        },
        {
          "output_type": "stream",
          "name": "stderr",
          "text": [
            "image 1/1 /content/drive/MyDrive/Trabajo_final_VIU/YOLOV8/Dataset/test/images/imagen207-6.jpg: 640x480 1 ['Osteophytos'], 9.1ms\n",
            "Speed: 1.6ms preprocess, 9.1ms inference, 1.7ms postprocess per image at shape (1, 3, 640, 480)\n",
            "\n"
          ]
        },
        {
          "output_type": "stream",
          "name": "stdout",
          "text": [
            "[0]\n"
          ]
        },
        {
          "output_type": "stream",
          "name": "stderr",
          "text": [
            "image 1/1 /content/drive/MyDrive/Trabajo_final_VIU/YOLOV8/Dataset/test/images/imagen208-5.jpg: 640x640 (no detections), 9.0ms\n",
            "Speed: 1.9ms preprocess, 9.0ms inference, 0.9ms postprocess per image at shape (1, 3, 640, 640)\n",
            "\n"
          ]
        },
        {
          "output_type": "stream",
          "name": "stdout",
          "text": [
            "[]\n"
          ]
        },
        {
          "output_type": "stream",
          "name": "stderr",
          "text": [
            "image 1/1 /content/drive/MyDrive/Trabajo_final_VIU/YOLOV8/Dataset/test/images/imagen208-8.jpg: 640x640 (no detections), 7.4ms\n",
            "Speed: 1.7ms preprocess, 7.4ms inference, 0.7ms postprocess per image at shape (1, 3, 640, 640)\n",
            "\n"
          ]
        },
        {
          "output_type": "stream",
          "name": "stdout",
          "text": [
            "[]\n"
          ]
        },
        {
          "output_type": "stream",
          "name": "stderr",
          "text": [
            "image 1/1 /content/drive/MyDrive/Trabajo_final_VIU/YOLOV8/Dataset/test/images/imagen209-5.jpg: 640x640 (no detections), 7.4ms\n",
            "Speed: 3.3ms preprocess, 7.4ms inference, 0.8ms postprocess per image at shape (1, 3, 640, 640)\n",
            "\n"
          ]
        },
        {
          "output_type": "stream",
          "name": "stdout",
          "text": [
            "[]\n"
          ]
        },
        {
          "output_type": "stream",
          "name": "stderr",
          "text": [
            "image 1/1 /content/drive/MyDrive/Trabajo_final_VIU/YOLOV8/Dataset/test/images/imagen209-8.jpg: 640x608 (no detections), 8.0ms\n",
            "Speed: 1.7ms preprocess, 8.0ms inference, 0.7ms postprocess per image at shape (1, 3, 640, 608)\n",
            "\n"
          ]
        },
        {
          "output_type": "stream",
          "name": "stdout",
          "text": [
            "[]\n"
          ]
        },
        {
          "output_type": "stream",
          "name": "stderr",
          "text": [
            "image 1/1 /content/drive/MyDrive/Trabajo_final_VIU/YOLOV8/Dataset/test/images/imagen209-9.jpg: 640x192 (no detections), 56.4ms\n",
            "Speed: 1.0ms preprocess, 56.4ms inference, 0.7ms postprocess per image at shape (1, 3, 640, 192)\n",
            "\n"
          ]
        },
        {
          "output_type": "stream",
          "name": "stdout",
          "text": [
            "[]\n"
          ]
        },
        {
          "output_type": "stream",
          "name": "stderr",
          "text": [
            "image 1/1 /content/drive/MyDrive/Trabajo_final_VIU/YOLOV8/Dataset/test/images/imagen21-3.jpg: 640x640 (no detections), 8.0ms\n",
            "Speed: 2.1ms preprocess, 8.0ms inference, 0.7ms postprocess per image at shape (1, 3, 640, 640)\n",
            "\n"
          ]
        },
        {
          "output_type": "stream",
          "name": "stdout",
          "text": [
            "[]\n"
          ]
        },
        {
          "output_type": "stream",
          "name": "stderr",
          "text": [
            "image 1/1 /content/drive/MyDrive/Trabajo_final_VIU/YOLOV8/Dataset/test/images/imagen210-5.jpg: 640x608 (no detections), 8.2ms\n",
            "Speed: 2.2ms preprocess, 8.2ms inference, 1.0ms postprocess per image at shape (1, 3, 640, 608)\n",
            "\n"
          ]
        },
        {
          "output_type": "stream",
          "name": "stdout",
          "text": [
            "[]\n"
          ]
        },
        {
          "output_type": "stream",
          "name": "stderr",
          "text": [
            "image 1/1 /content/drive/MyDrive/Trabajo_final_VIU/YOLOV8/Dataset/test/images/imagen210-8.jpg: 640x608 (no detections), 7.4ms\n",
            "Speed: 1.7ms preprocess, 7.4ms inference, 0.8ms postprocess per image at shape (1, 3, 640, 608)\n",
            "\n"
          ]
        },
        {
          "output_type": "stream",
          "name": "stdout",
          "text": [
            "[]\n"
          ]
        },
        {
          "output_type": "stream",
          "name": "stderr",
          "text": [
            "image 1/1 /content/drive/MyDrive/Trabajo_final_VIU/YOLOV8/Dataset/test/images/imagen210-9.jpg: 640x192 (no detections), 7.8ms\n",
            "Speed: 1.0ms preprocess, 7.8ms inference, 0.7ms postprocess per image at shape (1, 3, 640, 192)\n",
            "\n"
          ]
        },
        {
          "output_type": "stream",
          "name": "stdout",
          "text": [
            "[]\n"
          ]
        },
        {
          "output_type": "stream",
          "name": "stderr",
          "text": [
            "image 1/1 /content/drive/MyDrive/Trabajo_final_VIU/YOLOV8/Dataset/test/images/imagen211-5.jpg: 640x640 5 ['Osteophytos']s, 8.1ms\n",
            "Speed: 1.7ms preprocess, 8.1ms inference, 1.4ms postprocess per image at shape (1, 3, 640, 640)\n",
            "\n"
          ]
        },
        {
          "output_type": "stream",
          "name": "stdout",
          "text": [
            "[0 0 0 0 0]\n"
          ]
        },
        {
          "output_type": "stream",
          "name": "stderr",
          "text": [
            "image 1/1 /content/drive/MyDrive/Trabajo_final_VIU/YOLOV8/Dataset/test/images/imagen211-6.jpg: 640x608 4 ['Osteophytos']s, 8.6ms\n",
            "Speed: 2.1ms preprocess, 8.6ms inference, 1.2ms postprocess per image at shape (1, 3, 640, 608)\n",
            "\n"
          ]
        },
        {
          "output_type": "stream",
          "name": "stdout",
          "text": [
            "[0 0 0 0]\n"
          ]
        },
        {
          "output_type": "stream",
          "name": "stderr",
          "text": [
            "image 1/1 /content/drive/MyDrive/Trabajo_final_VIU/YOLOV8/Dataset/test/images/imagen212-6.jpg: 640x608 (no detections), 7.3ms\n",
            "Speed: 2.2ms preprocess, 7.3ms inference, 0.8ms postprocess per image at shape (1, 3, 640, 608)\n",
            "\n"
          ]
        },
        {
          "output_type": "stream",
          "name": "stdout",
          "text": [
            "[]\n"
          ]
        },
        {
          "output_type": "stream",
          "name": "stderr",
          "text": [
            "image 1/1 /content/drive/MyDrive/Trabajo_final_VIU/YOLOV8/Dataset/test/images/imagen213-3.jpg: 448x640 (no detections), 7.6ms\n",
            "Speed: 1.4ms preprocess, 7.6ms inference, 0.7ms postprocess per image at shape (1, 3, 448, 640)\n",
            "\n"
          ]
        },
        {
          "output_type": "stream",
          "name": "stdout",
          "text": [
            "[]\n"
          ]
        },
        {
          "output_type": "stream",
          "name": "stderr",
          "text": [
            "image 1/1 /content/drive/MyDrive/Trabajo_final_VIU/YOLOV8/Dataset/test/images/imagen214-1.jpg: 640x640 1 ['Osteophytos'], 9.0ms\n",
            "Speed: 1.9ms preprocess, 9.0ms inference, 1.6ms postprocess per image at shape (1, 3, 640, 640)\n",
            "\n"
          ]
        },
        {
          "output_type": "stream",
          "name": "stdout",
          "text": [
            "[0]\n"
          ]
        },
        {
          "output_type": "stream",
          "name": "stderr",
          "text": [
            "image 1/1 /content/drive/MyDrive/Trabajo_final_VIU/YOLOV8/Dataset/test/images/imagen215-7.jpg: 640x640 1 ['Osteophytos'], 12.6ms\n",
            "Speed: 1.9ms preprocess, 12.6ms inference, 1.9ms postprocess per image at shape (1, 3, 640, 640)\n",
            "\n"
          ]
        },
        {
          "output_type": "stream",
          "name": "stdout",
          "text": [
            "[0]\n"
          ]
        },
        {
          "output_type": "stream",
          "name": "stderr",
          "text": [
            "image 1/1 /content/drive/MyDrive/Trabajo_final_VIU/YOLOV8/Dataset/test/images/imagen216-4.jpg: 640x512 (no detections), 11.9ms\n",
            "Speed: 1.8ms preprocess, 11.9ms inference, 3.4ms postprocess per image at shape (1, 3, 640, 512)\n",
            "\n"
          ]
        },
        {
          "output_type": "stream",
          "name": "stdout",
          "text": [
            "[]\n"
          ]
        },
        {
          "output_type": "stream",
          "name": "stderr",
          "text": [
            "image 1/1 /content/drive/MyDrive/Trabajo_final_VIU/YOLOV8/Dataset/test/images/imagen217-10.jpg: 640x640 2 ['Osteophytos']s, 8.2ms\n",
            "Speed: 1.7ms preprocess, 8.2ms inference, 1.4ms postprocess per image at shape (1, 3, 640, 640)\n",
            "\n"
          ]
        },
        {
          "output_type": "stream",
          "name": "stdout",
          "text": [
            "[0 0]\n"
          ]
        },
        {
          "output_type": "stream",
          "name": "stderr",
          "text": [
            "image 1/1 /content/drive/MyDrive/Trabajo_final_VIU/YOLOV8/Dataset/test/images/imagen217-11.jpg: 640x640 2 ['Osteophytos']s, 7.4ms\n",
            "Speed: 1.6ms preprocess, 7.4ms inference, 1.4ms postprocess per image at shape (1, 3, 640, 640)\n",
            "\n"
          ]
        },
        {
          "output_type": "stream",
          "name": "stdout",
          "text": [
            "[0 0]\n"
          ]
        },
        {
          "output_type": "stream",
          "name": "stderr",
          "text": [
            "image 1/1 /content/drive/MyDrive/Trabajo_final_VIU/YOLOV8/Dataset/test/images/imagen217-6.jpg: 608x640 4 ['Osteophytos']s, 8.1ms\n",
            "Speed: 1.9ms preprocess, 8.1ms inference, 1.9ms postprocess per image at shape (1, 3, 608, 640)\n",
            "\n"
          ]
        },
        {
          "output_type": "stream",
          "name": "stdout",
          "text": [
            "[0 0 0 0]\n"
          ]
        },
        {
          "output_type": "stream",
          "name": "stderr",
          "text": [
            "image 1/1 /content/drive/MyDrive/Trabajo_final_VIU/YOLOV8/Dataset/test/images/imagen217-7.jpg: 608x640 4 ['Osteophytos']s, 7.4ms\n",
            "Speed: 1.6ms preprocess, 7.4ms inference, 1.4ms postprocess per image at shape (1, 3, 608, 640)\n",
            "\n"
          ]
        },
        {
          "output_type": "stream",
          "name": "stdout",
          "text": [
            "[0 0 0 0]\n"
          ]
        },
        {
          "output_type": "stream",
          "name": "stderr",
          "text": [
            "image 1/1 /content/drive/MyDrive/Trabajo_final_VIU/YOLOV8/Dataset/test/images/imagen218-7.jpg: 640x640 (no detections), 8.1ms\n",
            "Speed: 2.2ms preprocess, 8.1ms inference, 0.7ms postprocess per image at shape (1, 3, 640, 640)\n",
            "\n"
          ]
        },
        {
          "output_type": "stream",
          "name": "stdout",
          "text": [
            "[]\n"
          ]
        },
        {
          "output_type": "stream",
          "name": "stderr",
          "text": [
            "image 1/1 /content/drive/MyDrive/Trabajo_final_VIU/YOLOV8/Dataset/test/images/imagen219-10.jpg: 640x640 (no detections), 7.4ms\n",
            "Speed: 1.6ms preprocess, 7.4ms inference, 0.8ms postprocess per image at shape (1, 3, 640, 640)\n",
            "\n"
          ]
        },
        {
          "output_type": "stream",
          "name": "stdout",
          "text": [
            "[]\n"
          ]
        },
        {
          "output_type": "stream",
          "name": "stderr",
          "text": [
            "image 1/1 /content/drive/MyDrive/Trabajo_final_VIU/YOLOV8/Dataset/test/images/imagen22-3.jpg: 640x640 2 ['Osteophytos']s, 7.4ms\n",
            "Speed: 1.7ms preprocess, 7.4ms inference, 1.3ms postprocess per image at shape (1, 3, 640, 640)\n",
            "\n"
          ]
        },
        {
          "output_type": "stream",
          "name": "stdout",
          "text": [
            "[0 0]\n"
          ]
        },
        {
          "output_type": "stream",
          "name": "stderr",
          "text": [
            "image 1/1 /content/drive/MyDrive/Trabajo_final_VIU/YOLOV8/Dataset/test/images/imagen220-10.jpg: 640x640 5 ['Osteophytos']s, 7.4ms\n",
            "Speed: 1.6ms preprocess, 7.4ms inference, 1.4ms postprocess per image at shape (1, 3, 640, 640)\n",
            "\n"
          ]
        },
        {
          "output_type": "stream",
          "name": "stdout",
          "text": [
            "[0 0 0 0 0]\n"
          ]
        },
        {
          "output_type": "stream",
          "name": "stderr",
          "text": [
            "image 1/1 /content/drive/MyDrive/Trabajo_final_VIU/YOLOV8/Dataset/test/images/imagen221-10.jpg: 640x640 1 ['Osteophytos'], 9.9ms\n",
            "Speed: 1.7ms preprocess, 9.9ms inference, 2.4ms postprocess per image at shape (1, 3, 640, 640)\n",
            "\n"
          ]
        },
        {
          "output_type": "stream",
          "name": "stdout",
          "text": [
            "[0]\n"
          ]
        },
        {
          "output_type": "stream",
          "name": "stderr",
          "text": [
            "image 1/1 /content/drive/MyDrive/Trabajo_final_VIU/YOLOV8/Dataset/test/images/imagen221-11.jpg: 640x640 2 ['Osteophytos']s, 7.4ms\n",
            "Speed: 1.8ms preprocess, 7.4ms inference, 1.4ms postprocess per image at shape (1, 3, 640, 640)\n",
            "\n"
          ]
        },
        {
          "output_type": "stream",
          "name": "stdout",
          "text": [
            "[0 0]\n"
          ]
        },
        {
          "output_type": "stream",
          "name": "stderr",
          "text": [
            "image 1/1 /content/drive/MyDrive/Trabajo_final_VIU/YOLOV8/Dataset/test/images/imagen222-11.jpg: 640x640 5 ['Osteophytos']s, 7.4ms\n",
            "Speed: 1.7ms preprocess, 7.4ms inference, 1.4ms postprocess per image at shape (1, 3, 640, 640)\n",
            "\n"
          ]
        },
        {
          "output_type": "stream",
          "name": "stdout",
          "text": [
            "[0 0 0 0 0]\n"
          ]
        },
        {
          "output_type": "stream",
          "name": "stderr",
          "text": [
            "image 1/1 /content/drive/MyDrive/Trabajo_final_VIU/YOLOV8/Dataset/test/images/imagen223-11.jpg: 640x640 3 ['Osteophytos']s, 9.1ms\n",
            "Speed: 2.0ms preprocess, 9.1ms inference, 1.8ms postprocess per image at shape (1, 3, 640, 640)\n",
            "\n"
          ]
        },
        {
          "output_type": "stream",
          "name": "stdout",
          "text": [
            "[0 0 0]\n"
          ]
        },
        {
          "output_type": "stream",
          "name": "stderr",
          "text": [
            "image 1/1 /content/drive/MyDrive/Trabajo_final_VIU/YOLOV8/Dataset/test/images/imagen223-7.jpg: 608x640 (no detections), 11.6ms\n",
            "Speed: 2.0ms preprocess, 11.6ms inference, 0.9ms postprocess per image at shape (1, 3, 608, 640)\n",
            "\n"
          ]
        },
        {
          "output_type": "stream",
          "name": "stdout",
          "text": [
            "[]\n"
          ]
        },
        {
          "output_type": "stream",
          "name": "stderr",
          "text": [
            "image 1/1 /content/drive/MyDrive/Trabajo_final_VIU/YOLOV8/Dataset/test/images/imagen224-4.jpg: 576x640 1 ['Osteophytos'], 8.9ms\n",
            "Speed: 3.3ms preprocess, 8.9ms inference, 1.6ms postprocess per image at shape (1, 3, 576, 640)\n",
            "\n"
          ]
        },
        {
          "output_type": "stream",
          "name": "stdout",
          "text": [
            "[0]\n"
          ]
        },
        {
          "output_type": "stream",
          "name": "stderr",
          "text": [
            "image 1/1 /content/drive/MyDrive/Trabajo_final_VIU/YOLOV8/Dataset/test/images/imagen224-6.jpg: 576x640 1 ['Osteophytos'], 7.3ms\n",
            "Speed: 2.5ms preprocess, 7.3ms inference, 1.4ms postprocess per image at shape (1, 3, 576, 640)\n",
            "\n"
          ]
        },
        {
          "output_type": "stream",
          "name": "stdout",
          "text": [
            "[0]\n"
          ]
        },
        {
          "output_type": "stream",
          "name": "stderr",
          "text": [
            "image 1/1 /content/drive/MyDrive/Trabajo_final_VIU/YOLOV8/Dataset/test/images/imagen224-8.jpg: 640x640 (no detections), 8.1ms\n",
            "Speed: 1.9ms preprocess, 8.1ms inference, 0.8ms postprocess per image at shape (1, 3, 640, 640)\n",
            "\n"
          ]
        },
        {
          "output_type": "stream",
          "name": "stdout",
          "text": [
            "[]\n"
          ]
        },
        {
          "output_type": "stream",
          "name": "stderr",
          "text": [
            "image 1/1 /content/drive/MyDrive/Trabajo_final_VIU/YOLOV8/Dataset/test/images/imagen225-3.jpg: 640x640 3 ['Osteophytos']s, 7.4ms\n",
            "Speed: 1.9ms preprocess, 7.4ms inference, 1.5ms postprocess per image at shape (1, 3, 640, 640)\n",
            "\n"
          ]
        },
        {
          "output_type": "stream",
          "name": "stdout",
          "text": [
            "[0 0 0]\n"
          ]
        },
        {
          "output_type": "stream",
          "name": "stderr",
          "text": [
            "image 1/1 /content/drive/MyDrive/Trabajo_final_VIU/YOLOV8/Dataset/test/images/imagen226-5.jpg: 640x640 1 ['Osteophytos'], 7.4ms\n",
            "Speed: 1.6ms preprocess, 7.4ms inference, 1.4ms postprocess per image at shape (1, 3, 640, 640)\n",
            "\n"
          ]
        },
        {
          "output_type": "stream",
          "name": "stdout",
          "text": [
            "[0]\n"
          ]
        },
        {
          "output_type": "stream",
          "name": "stderr",
          "text": [
            "image 1/1 /content/drive/MyDrive/Trabajo_final_VIU/YOLOV8/Dataset/test/images/imagen226-6.jpg: 640x640 1 ['Osteophytos'], 7.4ms\n",
            "Speed: 1.7ms preprocess, 7.4ms inference, 1.3ms postprocess per image at shape (1, 3, 640, 640)\n",
            "\n"
          ]
        },
        {
          "output_type": "stream",
          "name": "stdout",
          "text": [
            "[0]\n"
          ]
        },
        {
          "output_type": "stream",
          "name": "stderr",
          "text": [
            "image 1/1 /content/drive/MyDrive/Trabajo_final_VIU/YOLOV8/Dataset/test/images/imagen227-6.jpg: 640x640 1 ['Osteophytos'], 7.4ms\n",
            "Speed: 1.6ms preprocess, 7.4ms inference, 1.5ms postprocess per image at shape (1, 3, 640, 640)\n",
            "\n"
          ]
        },
        {
          "output_type": "stream",
          "name": "stdout",
          "text": [
            "[0]\n"
          ]
        },
        {
          "output_type": "stream",
          "name": "stderr",
          "text": [
            "image 1/1 /content/drive/MyDrive/Trabajo_final_VIU/YOLOV8/Dataset/test/images/imagen228-4.jpg: 640x320 2 ['Osteophytos']s, 7.4ms\n",
            "Speed: 1.3ms preprocess, 7.4ms inference, 1.3ms postprocess per image at shape (1, 3, 640, 320)\n",
            "\n"
          ]
        },
        {
          "output_type": "stream",
          "name": "stdout",
          "text": [
            "[0 0]\n"
          ]
        },
        {
          "output_type": "stream",
          "name": "stderr",
          "text": [
            "image 1/1 /content/drive/MyDrive/Trabajo_final_VIU/YOLOV8/Dataset/test/images/imagen229-11.jpg: 640x640 2 ['Osteophytos']s, 8.2ms\n",
            "Speed: 1.7ms preprocess, 8.2ms inference, 1.4ms postprocess per image at shape (1, 3, 640, 640)\n",
            "\n"
          ]
        },
        {
          "output_type": "stream",
          "name": "stdout",
          "text": [
            "[0 0]\n"
          ]
        },
        {
          "output_type": "stream",
          "name": "stderr",
          "text": [
            "image 1/1 /content/drive/MyDrive/Trabajo_final_VIU/YOLOV8/Dataset/test/images/imagen229-15.jpg: 640x640 1 ['Osteophytos'], 7.7ms\n",
            "Speed: 1.9ms preprocess, 7.7ms inference, 1.4ms postprocess per image at shape (1, 3, 640, 640)\n",
            "\n"
          ]
        },
        {
          "output_type": "stream",
          "name": "stdout",
          "text": [
            "[0]\n"
          ]
        },
        {
          "output_type": "stream",
          "name": "stderr",
          "text": [
            "image 1/1 /content/drive/MyDrive/Trabajo_final_VIU/YOLOV8/Dataset/test/images/imagen23-4.jpg: 640x544 (no detections), 7.9ms\n",
            "Speed: 1.6ms preprocess, 7.9ms inference, 0.6ms postprocess per image at shape (1, 3, 640, 544)\n",
            "\n"
          ]
        },
        {
          "output_type": "stream",
          "name": "stdout",
          "text": [
            "[]\n"
          ]
        },
        {
          "output_type": "stream",
          "name": "stderr",
          "text": [
            "image 1/1 /content/drive/MyDrive/Trabajo_final_VIU/YOLOV8/Dataset/test/images/imagen230-10.jpg: 512x640 1 ['Osteophytos'], 13.3ms\n",
            "Speed: 1.6ms preprocess, 13.3ms inference, 1.5ms postprocess per image at shape (1, 3, 512, 640)\n",
            "\n"
          ]
        },
        {
          "output_type": "stream",
          "name": "stdout",
          "text": [
            "[0]\n"
          ]
        },
        {
          "output_type": "stream",
          "name": "stderr",
          "text": [
            "image 1/1 /content/drive/MyDrive/Trabajo_final_VIU/YOLOV8/Dataset/test/images/imagen230-11.jpg: 512x640 1 ['Osteophytos'], 6.5ms\n",
            "Speed: 1.5ms preprocess, 6.5ms inference, 1.4ms postprocess per image at shape (1, 3, 512, 640)\n",
            "\n"
          ]
        },
        {
          "output_type": "stream",
          "name": "stdout",
          "text": [
            "[0]\n"
          ]
        },
        {
          "output_type": "stream",
          "name": "stderr",
          "text": [
            "image 1/1 /content/drive/MyDrive/Trabajo_final_VIU/YOLOV8/Dataset/test/images/imagen230-14.jpg: 640x640 1 ['Osteophytos'], 9.0ms\n",
            "Speed: 1.8ms preprocess, 9.0ms inference, 2.4ms postprocess per image at shape (1, 3, 640, 640)\n",
            "\n"
          ]
        },
        {
          "output_type": "stream",
          "name": "stdout",
          "text": [
            "[0]\n"
          ]
        },
        {
          "output_type": "stream",
          "name": "stderr",
          "text": [
            "image 1/1 /content/drive/MyDrive/Trabajo_final_VIU/YOLOV8/Dataset/test/images/imagen230-15.jpg: 640x640 1 ['Osteophytos'], 9.3ms\n",
            "Speed: 1.9ms preprocess, 9.3ms inference, 1.7ms postprocess per image at shape (1, 3, 640, 640)\n",
            "\n"
          ]
        },
        {
          "output_type": "stream",
          "name": "stdout",
          "text": [
            "[0]\n"
          ]
        },
        {
          "output_type": "stream",
          "name": "stderr",
          "text": [
            "image 1/1 /content/drive/MyDrive/Trabajo_final_VIU/YOLOV8/Dataset/test/images/imagen231-4.jpg: 640x288 1 ['Osteophytos'], 9.0ms\n",
            "Speed: 2.3ms preprocess, 9.0ms inference, 1.7ms postprocess per image at shape (1, 3, 640, 288)\n",
            "\n"
          ]
        },
        {
          "output_type": "stream",
          "name": "stdout",
          "text": [
            "[0]\n"
          ]
        },
        {
          "output_type": "stream",
          "name": "stderr",
          "text": [
            "image 1/1 /content/drive/MyDrive/Trabajo_final_VIU/YOLOV8/Dataset/test/images/imagen231-6.jpg: 640x416 1 ['Osteophytos'], 55.9ms\n",
            "Speed: 2.4ms preprocess, 55.9ms inference, 1.5ms postprocess per image at shape (1, 3, 640, 416)\n",
            "\n"
          ]
        },
        {
          "output_type": "stream",
          "name": "stdout",
          "text": [
            "[0]\n"
          ]
        },
        {
          "output_type": "stream",
          "name": "stderr",
          "text": [
            "image 1/1 /content/drive/MyDrive/Trabajo_final_VIU/YOLOV8/Dataset/test/images/imagen232-3.jpg: 640x640 2 ['Osteophytos']s, 8.0ms\n",
            "Speed: 2.1ms preprocess, 8.0ms inference, 1.3ms postprocess per image at shape (1, 3, 640, 640)\n",
            "\n"
          ]
        },
        {
          "output_type": "stream",
          "name": "stdout",
          "text": [
            "[0 0]\n"
          ]
        },
        {
          "output_type": "stream",
          "name": "stderr",
          "text": [
            "image 1/1 /content/drive/MyDrive/Trabajo_final_VIU/YOLOV8/Dataset/test/images/imagen233-10.jpg: 640x640 3 ['Osteophytos']s, 7.4ms\n",
            "Speed: 2.2ms preprocess, 7.4ms inference, 1.4ms postprocess per image at shape (1, 3, 640, 640)\n",
            "\n"
          ]
        },
        {
          "output_type": "stream",
          "name": "stdout",
          "text": [
            "[0 0 0]\n"
          ]
        },
        {
          "output_type": "stream",
          "name": "stderr",
          "text": [
            "image 1/1 /content/drive/MyDrive/Trabajo_final_VIU/YOLOV8/Dataset/test/images/imagen234-4.jpg: 640x640 (no detections), 7.4ms\n",
            "Speed: 3.8ms preprocess, 7.4ms inference, 0.8ms postprocess per image at shape (1, 3, 640, 640)\n",
            "\n"
          ]
        },
        {
          "output_type": "stream",
          "name": "stdout",
          "text": [
            "[]\n"
          ]
        },
        {
          "output_type": "stream",
          "name": "stderr",
          "text": [
            "image 1/1 /content/drive/MyDrive/Trabajo_final_VIU/YOLOV8/Dataset/test/images/imagen234-6.jpg: 640x608 1 ['Osteophytos'], 8.9ms\n",
            "Speed: 1.7ms preprocess, 8.9ms inference, 1.3ms postprocess per image at shape (1, 3, 640, 608)\n",
            "\n"
          ]
        },
        {
          "output_type": "stream",
          "name": "stdout",
          "text": [
            "[0]\n"
          ]
        },
        {
          "output_type": "stream",
          "name": "stderr",
          "text": [
            "image 1/1 /content/drive/MyDrive/Trabajo_final_VIU/YOLOV8/Dataset/test/images/imagen235-3.jpg: 640x640 1 ['Osteophytos'], 8.0ms\n",
            "Speed: 1.7ms preprocess, 8.0ms inference, 1.4ms postprocess per image at shape (1, 3, 640, 640)\n",
            "\n"
          ]
        },
        {
          "output_type": "stream",
          "name": "stdout",
          "text": [
            "[0]\n"
          ]
        },
        {
          "output_type": "stream",
          "name": "stderr",
          "text": [
            "image 1/1 /content/drive/MyDrive/Trabajo_final_VIU/YOLOV8/Dataset/test/images/imagen235-4.jpg: 640x640 (no detections), 7.4ms\n",
            "Speed: 1.7ms preprocess, 7.4ms inference, 0.7ms postprocess per image at shape (1, 3, 640, 640)\n",
            "\n"
          ]
        },
        {
          "output_type": "stream",
          "name": "stdout",
          "text": [
            "[]\n"
          ]
        },
        {
          "output_type": "stream",
          "name": "stderr",
          "text": [
            "image 1/1 /content/drive/MyDrive/Trabajo_final_VIU/YOLOV8/Dataset/test/images/imagen235-5.jpg: 640x640 2 ['Osteophytos']s, 7.4ms\n",
            "Speed: 1.6ms preprocess, 7.4ms inference, 1.5ms postprocess per image at shape (1, 3, 640, 640)\n",
            "\n"
          ]
        },
        {
          "output_type": "stream",
          "name": "stdout",
          "text": [
            "[0 0]\n"
          ]
        },
        {
          "output_type": "stream",
          "name": "stderr",
          "text": [
            "image 1/1 /content/drive/MyDrive/Trabajo_final_VIU/YOLOV8/Dataset/test/images/imagen235-6.jpg: 640x640 3 ['Osteophytos']s, 7.4ms\n",
            "Speed: 1.6ms preprocess, 7.4ms inference, 1.4ms postprocess per image at shape (1, 3, 640, 640)\n",
            "\n"
          ]
        },
        {
          "output_type": "stream",
          "name": "stdout",
          "text": [
            "[0 0 0]\n"
          ]
        },
        {
          "output_type": "stream",
          "name": "stderr",
          "text": [
            "image 1/1 /content/drive/MyDrive/Trabajo_final_VIU/YOLOV8/Dataset/test/images/imagen236-6.jpg: 640x256 3 ['Osteophytos']s, 70.5ms\n",
            "Speed: 1.1ms preprocess, 70.5ms inference, 1.3ms postprocess per image at shape (1, 3, 640, 256)\n",
            "\n"
          ]
        },
        {
          "output_type": "stream",
          "name": "stdout",
          "text": [
            "[0 0 0]\n"
          ]
        },
        {
          "output_type": "stream",
          "name": "stderr",
          "text": [
            "image 1/1 /content/drive/MyDrive/Trabajo_final_VIU/YOLOV8/Dataset/test/images/imagen236-7.jpg: 640x640 (no detections), 9.0ms\n",
            "Speed: 2.5ms preprocess, 9.0ms inference, 0.9ms postprocess per image at shape (1, 3, 640, 640)\n",
            "\n"
          ]
        },
        {
          "output_type": "stream",
          "name": "stdout",
          "text": [
            "[]\n"
          ]
        },
        {
          "output_type": "stream",
          "name": "stderr",
          "text": [
            "image 1/1 /content/drive/MyDrive/Trabajo_final_VIU/YOLOV8/Dataset/test/images/imagen237-3.jpg: 640x640 1 ['Osteophytos'], 8.9ms\n",
            "Speed: 2.6ms preprocess, 8.9ms inference, 1.8ms postprocess per image at shape (1, 3, 640, 640)\n",
            "\n"
          ]
        },
        {
          "output_type": "stream",
          "name": "stdout",
          "text": [
            "[0]\n"
          ]
        },
        {
          "output_type": "stream",
          "name": "stderr",
          "text": [
            "image 1/1 /content/drive/MyDrive/Trabajo_final_VIU/YOLOV8/Dataset/test/images/imagen237-5.jpg: 640x640 2 ['Osteophytos']s, 11.5ms\n",
            "Speed: 2.1ms preprocess, 11.5ms inference, 1.8ms postprocess per image at shape (1, 3, 640, 640)\n",
            "\n"
          ]
        },
        {
          "output_type": "stream",
          "name": "stdout",
          "text": [
            "[0 0]\n"
          ]
        },
        {
          "output_type": "stream",
          "name": "stderr",
          "text": [
            "image 1/1 /content/drive/MyDrive/Trabajo_final_VIU/YOLOV8/Dataset/test/images/imagen238-11.jpg: 640x640 (no detections), 7.4ms\n",
            "Speed: 1.7ms preprocess, 7.4ms inference, 0.7ms postprocess per image at shape (1, 3, 640, 640)\n",
            "\n"
          ]
        },
        {
          "output_type": "stream",
          "name": "stdout",
          "text": [
            "[]\n"
          ]
        },
        {
          "output_type": "stream",
          "name": "stderr",
          "text": [
            "image 1/1 /content/drive/MyDrive/Trabajo_final_VIU/YOLOV8/Dataset/test/images/imagen238-15.jpg: 640x640 (no detections), 7.4ms\n",
            "Speed: 1.6ms preprocess, 7.4ms inference, 0.7ms postprocess per image at shape (1, 3, 640, 640)\n",
            "\n"
          ]
        },
        {
          "output_type": "stream",
          "name": "stdout",
          "text": [
            "[]\n"
          ]
        },
        {
          "output_type": "stream",
          "name": "stderr",
          "text": [
            "image 1/1 /content/drive/MyDrive/Trabajo_final_VIU/YOLOV8/Dataset/test/images/imagen238-7.jpg: 640x640 (no detections), 7.4ms\n",
            "Speed: 1.7ms preprocess, 7.4ms inference, 0.7ms postprocess per image at shape (1, 3, 640, 640)\n",
            "\n"
          ]
        },
        {
          "output_type": "stream",
          "name": "stdout",
          "text": [
            "[]\n"
          ]
        },
        {
          "output_type": "stream",
          "name": "stderr",
          "text": [
            "image 1/1 /content/drive/MyDrive/Trabajo_final_VIU/YOLOV8/Dataset/test/images/imagen239-10.jpg: 640x640 3 ['Osteophytos']s, 7.8ms\n",
            "Speed: 1.7ms preprocess, 7.8ms inference, 1.4ms postprocess per image at shape (1, 3, 640, 640)\n",
            "\n"
          ]
        },
        {
          "output_type": "stream",
          "name": "stdout",
          "text": [
            "[0 0 0]\n"
          ]
        },
        {
          "output_type": "stream",
          "name": "stderr",
          "text": [
            "image 1/1 /content/drive/MyDrive/Trabajo_final_VIU/YOLOV8/Dataset/test/images/imagen239-11.jpg: 640x640 1 ['Osteophytos'], 7.4ms\n",
            "Speed: 1.7ms preprocess, 7.4ms inference, 1.4ms postprocess per image at shape (1, 3, 640, 640)\n",
            "\n"
          ]
        },
        {
          "output_type": "stream",
          "name": "stdout",
          "text": [
            "[0]\n"
          ]
        },
        {
          "output_type": "stream",
          "name": "stderr",
          "text": [
            "image 1/1 /content/drive/MyDrive/Trabajo_final_VIU/YOLOV8/Dataset/test/images/imagen24-11.jpg: 640x640 1 ['Osteophytos'], 7.4ms\n",
            "Speed: 1.7ms preprocess, 7.4ms inference, 1.5ms postprocess per image at shape (1, 3, 640, 640)\n",
            "\n"
          ]
        },
        {
          "output_type": "stream",
          "name": "stdout",
          "text": [
            "[0]\n"
          ]
        },
        {
          "output_type": "stream",
          "name": "stderr",
          "text": [
            "image 1/1 /content/drive/MyDrive/Trabajo_final_VIU/YOLOV8/Dataset/test/images/imagen24-8.jpg: 640x640 2 ['Osteophytos']s, 7.4ms\n",
            "Speed: 1.6ms preprocess, 7.4ms inference, 1.4ms postprocess per image at shape (1, 3, 640, 640)\n",
            "\n"
          ]
        },
        {
          "output_type": "stream",
          "name": "stdout",
          "text": [
            "[0 0]\n"
          ]
        },
        {
          "output_type": "stream",
          "name": "stderr",
          "text": [
            "image 1/1 /content/drive/MyDrive/Trabajo_final_VIU/YOLOV8/Dataset/test/images/imagen240-13.jpg: 640x640 (no detections), 7.4ms\n",
            "Speed: 1.6ms preprocess, 7.4ms inference, 0.7ms postprocess per image at shape (1, 3, 640, 640)\n",
            "\n"
          ]
        },
        {
          "output_type": "stream",
          "name": "stdout",
          "text": [
            "[]\n"
          ]
        },
        {
          "output_type": "stream",
          "name": "stderr",
          "text": [
            "image 1/1 /content/drive/MyDrive/Trabajo_final_VIU/YOLOV8/Dataset/test/images/imagen241-3.jpg: 640x640 2 ['Osteophytos']s, 7.4ms\n",
            "Speed: 1.7ms preprocess, 7.4ms inference, 1.4ms postprocess per image at shape (1, 3, 640, 640)\n",
            "\n"
          ]
        },
        {
          "output_type": "stream",
          "name": "stdout",
          "text": [
            "[0 0]\n"
          ]
        },
        {
          "output_type": "stream",
          "name": "stderr",
          "text": [
            "image 1/1 /content/drive/MyDrive/Trabajo_final_VIU/YOLOV8/Dataset/test/images/imagen241-5.jpg: 640x640 (no detections), 7.4ms\n",
            "Speed: 1.8ms preprocess, 7.4ms inference, 0.7ms postprocess per image at shape (1, 3, 640, 640)\n",
            "\n"
          ]
        },
        {
          "output_type": "stream",
          "name": "stdout",
          "text": [
            "[]\n"
          ]
        },
        {
          "output_type": "stream",
          "name": "stderr",
          "text": [
            "image 1/1 /content/drive/MyDrive/Trabajo_final_VIU/YOLOV8/Dataset/test/images/imagen241-6.jpg: 640x640 1 ['Osteophytos'], 7.4ms\n",
            "Speed: 1.8ms preprocess, 7.4ms inference, 1.4ms postprocess per image at shape (1, 3, 640, 640)\n",
            "\n"
          ]
        },
        {
          "output_type": "stream",
          "name": "stdout",
          "text": [
            "[0]\n"
          ]
        },
        {
          "output_type": "stream",
          "name": "stderr",
          "text": [
            "image 1/1 /content/drive/MyDrive/Trabajo_final_VIU/YOLOV8/Dataset/test/images/imagen242-4.jpg: 640x640 2 ['Osteophytos']s, 9.0ms\n",
            "Speed: 2.0ms preprocess, 9.0ms inference, 1.7ms postprocess per image at shape (1, 3, 640, 640)\n",
            "\n"
          ]
        },
        {
          "output_type": "stream",
          "name": "stdout",
          "text": [
            "[0 0]\n"
          ]
        },
        {
          "output_type": "stream",
          "name": "stderr",
          "text": [
            "image 1/1 /content/drive/MyDrive/Trabajo_final_VIU/YOLOV8/Dataset/test/images/imagen242-6.jpg: 640x640 1 ['Osteophytos'], 8.1ms\n",
            "Speed: 4.2ms preprocess, 8.1ms inference, 1.7ms postprocess per image at shape (1, 3, 640, 640)\n",
            "\n"
          ]
        },
        {
          "output_type": "stream",
          "name": "stdout",
          "text": [
            "[0]\n"
          ]
        },
        {
          "output_type": "stream",
          "name": "stderr",
          "text": [
            "image 1/1 /content/drive/MyDrive/Trabajo_final_VIU/YOLOV8/Dataset/test/images/imagen242-8.jpg: 640x640 (no detections), 12.4ms\n",
            "Speed: 3.8ms preprocess, 12.4ms inference, 0.9ms postprocess per image at shape (1, 3, 640, 640)\n",
            "\n"
          ]
        },
        {
          "output_type": "stream",
          "name": "stdout",
          "text": [
            "[]\n"
          ]
        },
        {
          "output_type": "stream",
          "name": "stderr",
          "text": [
            "image 1/1 /content/drive/MyDrive/Trabajo_final_VIU/YOLOV8/Dataset/test/images/imagen243-10.jpg: 640x640 3 ['Osteophytos']s, 7.4ms\n",
            "Speed: 1.7ms preprocess, 7.4ms inference, 1.5ms postprocess per image at shape (1, 3, 640, 640)\n",
            "\n"
          ]
        },
        {
          "output_type": "stream",
          "name": "stdout",
          "text": [
            "[0 0 0]\n"
          ]
        },
        {
          "output_type": "stream",
          "name": "stderr",
          "text": [
            "image 1/1 /content/drive/MyDrive/Trabajo_final_VIU/YOLOV8/Dataset/test/images/imagen243-11.jpg: 640x640 1 ['Osteophytos'], 7.4ms\n",
            "Speed: 1.6ms preprocess, 7.4ms inference, 1.4ms postprocess per image at shape (1, 3, 640, 640)\n",
            "\n"
          ]
        },
        {
          "output_type": "stream",
          "name": "stdout",
          "text": [
            "[0]\n"
          ]
        },
        {
          "output_type": "stream",
          "name": "stderr",
          "text": [
            "image 1/1 /content/drive/MyDrive/Trabajo_final_VIU/YOLOV8/Dataset/test/images/imagen243-2.jpg: 640x640 1 ['Osteophytos'], 7.4ms\n",
            "Speed: 1.7ms preprocess, 7.4ms inference, 1.4ms postprocess per image at shape (1, 3, 640, 640)\n",
            "\n"
          ]
        },
        {
          "output_type": "stream",
          "name": "stdout",
          "text": [
            "[0]\n"
          ]
        },
        {
          "output_type": "stream",
          "name": "stderr",
          "text": [
            "image 1/1 /content/drive/MyDrive/Trabajo_final_VIU/YOLOV8/Dataset/test/images/imagen243-6.jpg: 512x640 1 ['Osteophytos'], 7.3ms\n",
            "Speed: 1.5ms preprocess, 7.3ms inference, 1.3ms postprocess per image at shape (1, 3, 512, 640)\n",
            "\n"
          ]
        },
        {
          "output_type": "stream",
          "name": "stdout",
          "text": [
            "[0]\n"
          ]
        },
        {
          "output_type": "stream",
          "name": "stderr",
          "text": [
            "image 1/1 /content/drive/MyDrive/Trabajo_final_VIU/YOLOV8/Dataset/test/images/imagen243-7.jpg: 512x640 1 ['Osteophytos'], 6.5ms\n",
            "Speed: 1.4ms preprocess, 6.5ms inference, 1.3ms postprocess per image at shape (1, 3, 512, 640)\n",
            "\n"
          ]
        },
        {
          "output_type": "stream",
          "name": "stdout",
          "text": [
            "[0]\n"
          ]
        },
        {
          "output_type": "stream",
          "name": "stderr",
          "text": [
            "image 1/1 /content/drive/MyDrive/Trabajo_final_VIU/YOLOV8/Dataset/test/images/imagen244-4.jpg: 640x416 1 ['Osteophytos'], 7.1ms\n",
            "Speed: 1.3ms preprocess, 7.1ms inference, 1.2ms postprocess per image at shape (1, 3, 640, 416)\n",
            "\n"
          ]
        },
        {
          "output_type": "stream",
          "name": "stdout",
          "text": [
            "[0]\n"
          ]
        },
        {
          "output_type": "stream",
          "name": "stderr",
          "text": [
            "image 1/1 /content/drive/MyDrive/Trabajo_final_VIU/YOLOV8/Dataset/test/images/imagen244-6.jpg: 640x416 3 ['Osteophytos']s, 6.5ms\n",
            "Speed: 1.3ms preprocess, 6.5ms inference, 1.3ms postprocess per image at shape (1, 3, 640, 416)\n",
            "\n"
          ]
        },
        {
          "output_type": "stream",
          "name": "stdout",
          "text": [
            "[0 0 0]\n"
          ]
        },
        {
          "output_type": "stream",
          "name": "stderr",
          "text": [
            "image 1/1 /content/drive/MyDrive/Trabajo_final_VIU/YOLOV8/Dataset/test/images/imagen244-8.jpg: 640x416 (no detections), 6.4ms\n",
            "Speed: 1.4ms preprocess, 6.4ms inference, 0.7ms postprocess per image at shape (1, 3, 640, 416)\n",
            "\n"
          ]
        },
        {
          "output_type": "stream",
          "name": "stdout",
          "text": [
            "[]\n"
          ]
        },
        {
          "output_type": "stream",
          "name": "stderr",
          "text": [
            "image 1/1 /content/drive/MyDrive/Trabajo_final_VIU/YOLOV8/Dataset/test/images/imagen245-3.jpg: 608x640 (no detections), 7.9ms\n",
            "Speed: 2.7ms preprocess, 7.9ms inference, 0.6ms postprocess per image at shape (1, 3, 608, 640)\n",
            "\n"
          ]
        },
        {
          "output_type": "stream",
          "name": "stdout",
          "text": [
            "[]\n"
          ]
        },
        {
          "output_type": "stream",
          "name": "stderr",
          "text": [
            "image 1/1 /content/drive/MyDrive/Trabajo_final_VIU/YOLOV8/Dataset/test/images/imagen245-6.jpg: 640x608 3 ['Osteophytos']s, 8.3ms\n",
            "Speed: 1.9ms preprocess, 8.3ms inference, 1.3ms postprocess per image at shape (1, 3, 640, 608)\n",
            "\n"
          ]
        },
        {
          "output_type": "stream",
          "name": "stdout",
          "text": [
            "[0 0 0]\n"
          ]
        },
        {
          "output_type": "stream",
          "name": "stderr",
          "text": [
            "image 1/1 /content/drive/MyDrive/Trabajo_final_VIU/YOLOV8/Dataset/test/images/imagen245-9.jpg: 640x608 4 ['Osteophytos']s, 7.3ms\n",
            "Speed: 1.6ms preprocess, 7.3ms inference, 1.4ms postprocess per image at shape (1, 3, 640, 608)\n",
            "\n"
          ]
        },
        {
          "output_type": "stream",
          "name": "stdout",
          "text": [
            "[0 0 0 0]\n"
          ]
        },
        {
          "output_type": "stream",
          "name": "stderr",
          "text": [
            "image 1/1 /content/drive/MyDrive/Trabajo_final_VIU/YOLOV8/Dataset/test/images/imagen246-10.jpg: 640x608 1 ['Osteophytos'], 8.8ms\n",
            "Speed: 1.9ms preprocess, 8.8ms inference, 1.7ms postprocess per image at shape (1, 3, 640, 608)\n",
            "\n"
          ]
        },
        {
          "output_type": "stream",
          "name": "stdout",
          "text": [
            "[0]\n"
          ]
        },
        {
          "output_type": "stream",
          "name": "stderr",
          "text": [
            "image 1/1 /content/drive/MyDrive/Trabajo_final_VIU/YOLOV8/Dataset/test/images/imagen246-11.jpg: 640x640 1 ['Osteophytos'], 9.2ms\n",
            "Speed: 2.0ms preprocess, 9.2ms inference, 2.5ms postprocess per image at shape (1, 3, 640, 640)\n",
            "\n"
          ]
        },
        {
          "output_type": "stream",
          "name": "stdout",
          "text": [
            "[0]\n"
          ]
        },
        {
          "output_type": "stream",
          "name": "stderr",
          "text": [
            "image 1/1 /content/drive/MyDrive/Trabajo_final_VIU/YOLOV8/Dataset/test/images/imagen246-6.jpg: 608x640 (no detections), 18.4ms\n",
            "Speed: 4.4ms preprocess, 18.4ms inference, 0.9ms postprocess per image at shape (1, 3, 608, 640)\n",
            "\n"
          ]
        },
        {
          "output_type": "stream",
          "name": "stdout",
          "text": [
            "[]\n"
          ]
        },
        {
          "output_type": "stream",
          "name": "stderr",
          "text": [
            "image 1/1 /content/drive/MyDrive/Trabajo_final_VIU/YOLOV8/Dataset/test/images/imagen246-7.jpg: 544x640 (no detections), 7.8ms\n",
            "Speed: 1.5ms preprocess, 7.8ms inference, 0.7ms postprocess per image at shape (1, 3, 544, 640)\n",
            "\n"
          ]
        },
        {
          "output_type": "stream",
          "name": "stdout",
          "text": [
            "[]\n"
          ]
        },
        {
          "output_type": "stream",
          "name": "stderr",
          "text": [
            "image 1/1 /content/drive/MyDrive/Trabajo_final_VIU/YOLOV8/Dataset/test/images/imagen247-13.jpg: 640x640 4 ['Osteophytos']s, 9.7ms\n",
            "Speed: 2.0ms preprocess, 9.7ms inference, 1.6ms postprocess per image at shape (1, 3, 640, 640)\n",
            "\n"
          ]
        },
        {
          "output_type": "stream",
          "name": "stdout",
          "text": [
            "[0 0 0 0]\n"
          ]
        },
        {
          "output_type": "stream",
          "name": "stderr",
          "text": [
            "image 1/1 /content/drive/MyDrive/Trabajo_final_VIU/YOLOV8/Dataset/test/images/imagen247-18.jpg: 640x640 (no detections), 7.4ms\n",
            "Speed: 1.6ms preprocess, 7.4ms inference, 0.7ms postprocess per image at shape (1, 3, 640, 640)\n",
            "\n"
          ]
        },
        {
          "output_type": "stream",
          "name": "stdout",
          "text": [
            "[]\n"
          ]
        },
        {
          "output_type": "stream",
          "name": "stderr",
          "text": [
            "image 1/1 /content/drive/MyDrive/Trabajo_final_VIU/YOLOV8/Dataset/test/images/imagen247-8.jpg: 640x640 2 ['Osteophytos']s, 7.4ms\n",
            "Speed: 1.8ms preprocess, 7.4ms inference, 1.5ms postprocess per image at shape (1, 3, 640, 640)\n",
            "\n"
          ]
        },
        {
          "output_type": "stream",
          "name": "stdout",
          "text": [
            "[0 0]\n"
          ]
        },
        {
          "output_type": "stream",
          "name": "stderr",
          "text": [
            "image 1/1 /content/drive/MyDrive/Trabajo_final_VIU/YOLOV8/Dataset/test/images/imagen248-10.jpg: 544x640 1 ['Osteophytos'], 11.3ms\n",
            "Speed: 3.2ms preprocess, 11.3ms inference, 1.9ms postprocess per image at shape (1, 3, 544, 640)\n",
            "\n"
          ]
        },
        {
          "output_type": "stream",
          "name": "stdout",
          "text": [
            "[0]\n"
          ]
        },
        {
          "output_type": "stream",
          "name": "stderr",
          "text": [
            "image 1/1 /content/drive/MyDrive/Trabajo_final_VIU/YOLOV8/Dataset/test/images/imagen248-11.jpg: 480x640 1 ['Osteophytos'], 12.6ms\n",
            "Speed: 2.1ms preprocess, 12.6ms inference, 1.5ms postprocess per image at shape (1, 3, 480, 640)\n",
            "\n"
          ]
        },
        {
          "output_type": "stream",
          "name": "stdout",
          "text": [
            "[0]\n"
          ]
        },
        {
          "output_type": "stream",
          "name": "stderr",
          "text": [
            "image 1/1 /content/drive/MyDrive/Trabajo_final_VIU/YOLOV8/Dataset/test/images/imagen248-14.jpg: 640x608 1 ['Osteophytos'], 8.7ms\n",
            "Speed: 1.8ms preprocess, 8.7ms inference, 1.3ms postprocess per image at shape (1, 3, 640, 608)\n",
            "\n"
          ]
        },
        {
          "output_type": "stream",
          "name": "stdout",
          "text": [
            "[0]\n"
          ]
        },
        {
          "output_type": "stream",
          "name": "stderr",
          "text": [
            "image 1/1 /content/drive/MyDrive/Trabajo_final_VIU/YOLOV8/Dataset/test/images/imagen248-15.jpg: 640x640 (no detections), 8.2ms\n",
            "Speed: 1.7ms preprocess, 8.2ms inference, 0.7ms postprocess per image at shape (1, 3, 640, 640)\n",
            "\n"
          ]
        },
        {
          "output_type": "stream",
          "name": "stdout",
          "text": [
            "[]\n"
          ]
        },
        {
          "output_type": "stream",
          "name": "stderr",
          "text": [
            "image 1/1 /content/drive/MyDrive/Trabajo_final_VIU/YOLOV8/Dataset/test/images/imagen249-1.jpg: 640x640 (no detections), 7.5ms\n",
            "Speed: 1.8ms preprocess, 7.5ms inference, 0.8ms postprocess per image at shape (1, 3, 640, 640)\n",
            "\n"
          ]
        },
        {
          "output_type": "stream",
          "name": "stdout",
          "text": [
            "[]\n"
          ]
        },
        {
          "output_type": "stream",
          "name": "stderr",
          "text": [
            "image 1/1 /content/drive/MyDrive/Trabajo_final_VIU/YOLOV8/Dataset/test/images/imagen249-5.jpg: 640x640 (no detections), 7.4ms\n",
            "Speed: 1.6ms preprocess, 7.4ms inference, 0.7ms postprocess per image at shape (1, 3, 640, 640)\n",
            "\n"
          ]
        },
        {
          "output_type": "stream",
          "name": "stdout",
          "text": [
            "[]\n"
          ]
        },
        {
          "output_type": "stream",
          "name": "stderr",
          "text": [
            "image 1/1 /content/drive/MyDrive/Trabajo_final_VIU/YOLOV8/Dataset/test/images/imagen25-6.jpg: 640x608 1 ['Osteophytos'], 8.0ms\n",
            "Speed: 1.6ms preprocess, 8.0ms inference, 1.2ms postprocess per image at shape (1, 3, 640, 608)\n",
            "\n"
          ]
        },
        {
          "output_type": "stream",
          "name": "stdout",
          "text": [
            "[0]\n"
          ]
        },
        {
          "output_type": "stream",
          "name": "stderr",
          "text": [
            "image 1/1 /content/drive/MyDrive/Trabajo_final_VIU/YOLOV8/Dataset/test/images/imagen250-11.jpg: 640x640 3 ['Osteophytos']s, 9.4ms\n",
            "Speed: 1.9ms preprocess, 9.4ms inference, 1.7ms postprocess per image at shape (1, 3, 640, 640)\n",
            "\n"
          ]
        },
        {
          "output_type": "stream",
          "name": "stdout",
          "text": [
            "[0 0 0]\n"
          ]
        },
        {
          "output_type": "stream",
          "name": "stderr",
          "text": [
            "image 1/1 /content/drive/MyDrive/Trabajo_final_VIU/YOLOV8/Dataset/test/images/imagen251-10.jpg: 640x640 2 ['Osteophytos']s, 9.2ms\n",
            "Speed: 2.2ms preprocess, 9.2ms inference, 1.8ms postprocess per image at shape (1, 3, 640, 640)\n",
            "\n"
          ]
        },
        {
          "output_type": "stream",
          "name": "stdout",
          "text": [
            "[0 0]\n"
          ]
        },
        {
          "output_type": "stream",
          "name": "stderr",
          "text": [
            "image 1/1 /content/drive/MyDrive/Trabajo_final_VIU/YOLOV8/Dataset/test/images/imagen251-11.jpg: 640x640 2 ['Osteophytos']s, 11.0ms\n",
            "Speed: 1.9ms preprocess, 11.0ms inference, 2.8ms postprocess per image at shape (1, 3, 640, 640)\n",
            "\n"
          ]
        },
        {
          "output_type": "stream",
          "name": "stdout",
          "text": [
            "[0 0]\n"
          ]
        },
        {
          "output_type": "stream",
          "name": "stderr",
          "text": [
            "image 1/1 /content/drive/MyDrive/Trabajo_final_VIU/YOLOV8/Dataset/test/images/imagen252-6.jpg: 640x640 2 ['Osteophytos']s, 7.4ms\n",
            "Speed: 1.7ms preprocess, 7.4ms inference, 1.3ms postprocess per image at shape (1, 3, 640, 640)\n",
            "\n"
          ]
        },
        {
          "output_type": "stream",
          "name": "stdout",
          "text": [
            "[0 0]\n"
          ]
        },
        {
          "output_type": "stream",
          "name": "stderr",
          "text": [
            "image 1/1 /content/drive/MyDrive/Trabajo_final_VIU/YOLOV8/Dataset/test/images/imagen252-7.jpg: 640x640 1 ['Osteophytos'], 7.4ms\n",
            "Speed: 1.7ms preprocess, 7.4ms inference, 1.3ms postprocess per image at shape (1, 3, 640, 640)\n",
            "\n"
          ]
        },
        {
          "output_type": "stream",
          "name": "stdout",
          "text": [
            "[0]\n"
          ]
        },
        {
          "output_type": "stream",
          "name": "stderr",
          "text": [
            "image 1/1 /content/drive/MyDrive/Trabajo_final_VIU/YOLOV8/Dataset/test/images/imagen253-13.jpg: 640x640 1 ['Osteophytos'], 7.4ms\n",
            "Speed: 1.7ms preprocess, 7.4ms inference, 1.5ms postprocess per image at shape (1, 3, 640, 640)\n",
            "\n"
          ]
        },
        {
          "output_type": "stream",
          "name": "stdout",
          "text": [
            "[0]\n"
          ]
        },
        {
          "output_type": "stream",
          "name": "stderr",
          "text": [
            "image 1/1 /content/drive/MyDrive/Trabajo_final_VIU/YOLOV8/Dataset/test/images/imagen253-8.jpg: 640x640 2 ['Osteophytos']s, 7.4ms\n",
            "Speed: 1.7ms preprocess, 7.4ms inference, 1.3ms postprocess per image at shape (1, 3, 640, 640)\n",
            "\n"
          ]
        },
        {
          "output_type": "stream",
          "name": "stdout",
          "text": [
            "[0 0]\n"
          ]
        },
        {
          "output_type": "stream",
          "name": "stderr",
          "text": [
            "image 1/1 /content/drive/MyDrive/Trabajo_final_VIU/YOLOV8/Dataset/test/images/imagen254-10.jpg: 640x640 1 ['Osteophytos'], 7.4ms\n",
            "Speed: 1.8ms preprocess, 7.4ms inference, 1.5ms postprocess per image at shape (1, 3, 640, 640)\n",
            "\n"
          ]
        },
        {
          "output_type": "stream",
          "name": "stdout",
          "text": [
            "[0]\n"
          ]
        },
        {
          "output_type": "stream",
          "name": "stderr",
          "text": [
            "image 1/1 /content/drive/MyDrive/Trabajo_final_VIU/YOLOV8/Dataset/test/images/imagen255-11.jpg: 640x640 2 ['Osteophytos']s, 7.4ms\n",
            "Speed: 1.6ms preprocess, 7.4ms inference, 1.4ms postprocess per image at shape (1, 3, 640, 640)\n",
            "\n"
          ]
        },
        {
          "output_type": "stream",
          "name": "stdout",
          "text": [
            "[0 0]\n"
          ]
        },
        {
          "output_type": "stream",
          "name": "stderr",
          "text": [
            "image 1/1 /content/drive/MyDrive/Trabajo_final_VIU/YOLOV8/Dataset/test/images/imagen255-6.jpg: 640x640 (no detections), 7.4ms\n",
            "Speed: 1.7ms preprocess, 7.4ms inference, 0.8ms postprocess per image at shape (1, 3, 640, 640)\n",
            "\n"
          ]
        },
        {
          "output_type": "stream",
          "name": "stdout",
          "text": [
            "[]\n"
          ]
        },
        {
          "output_type": "stream",
          "name": "stderr",
          "text": [
            "image 1/1 /content/drive/MyDrive/Trabajo_final_VIU/YOLOV8/Dataset/test/images/imagen256-11.jpg: 640x640 2 ['Osteophytos']s, 10.0ms\n",
            "Speed: 2.1ms preprocess, 10.0ms inference, 1.4ms postprocess per image at shape (1, 3, 640, 640)\n",
            "\n"
          ]
        },
        {
          "output_type": "stream",
          "name": "stdout",
          "text": [
            "[0 0]\n"
          ]
        },
        {
          "output_type": "stream",
          "name": "stderr",
          "text": [
            "image 1/1 /content/drive/MyDrive/Trabajo_final_VIU/YOLOV8/Dataset/test/images/imagen257-5.jpg: 640x640 (no detections), 7.4ms\n",
            "Speed: 1.7ms preprocess, 7.4ms inference, 0.7ms postprocess per image at shape (1, 3, 640, 640)\n",
            "\n"
          ]
        },
        {
          "output_type": "stream",
          "name": "stdout",
          "text": [
            "[]\n"
          ]
        },
        {
          "output_type": "stream",
          "name": "stderr",
          "text": [
            "image 1/1 /content/drive/MyDrive/Trabajo_final_VIU/YOLOV8/Dataset/test/images/imagen257-6.jpg: 640x608 1 ['Osteophytos'], 8.1ms\n",
            "Speed: 1.6ms preprocess, 8.1ms inference, 1.3ms postprocess per image at shape (1, 3, 640, 608)\n",
            "\n"
          ]
        },
        {
          "output_type": "stream",
          "name": "stdout",
          "text": [
            "[0]\n"
          ]
        },
        {
          "output_type": "stream",
          "name": "stderr",
          "text": [
            "image 1/1 /content/drive/MyDrive/Trabajo_final_VIU/YOLOV8/Dataset/test/images/imagen257-7.jpg: 640x640 (no detections), 8.5ms\n",
            "Speed: 1.6ms preprocess, 8.5ms inference, 1.0ms postprocess per image at shape (1, 3, 640, 640)\n",
            "\n"
          ]
        },
        {
          "output_type": "stream",
          "name": "stdout",
          "text": [
            "[]\n"
          ]
        },
        {
          "output_type": "stream",
          "name": "stderr",
          "text": [
            "image 1/1 /content/drive/MyDrive/Trabajo_final_VIU/YOLOV8/Dataset/test/images/imagen257-8.jpg: 640x608 (no detections), 9.1ms\n",
            "Speed: 1.9ms preprocess, 9.1ms inference, 1.4ms postprocess per image at shape (1, 3, 640, 608)\n",
            "\n"
          ]
        },
        {
          "output_type": "stream",
          "name": "stdout",
          "text": [
            "[]\n"
          ]
        },
        {
          "output_type": "stream",
          "name": "stderr",
          "text": [
            "image 1/1 /content/drive/MyDrive/Trabajo_final_VIU/YOLOV8/Dataset/test/images/imagen258-6.jpg: 640x608 2 ['Osteophytos']s, 8.1ms\n",
            "Speed: 1.8ms preprocess, 8.1ms inference, 1.8ms postprocess per image at shape (1, 3, 640, 608)\n",
            "\n"
          ]
        },
        {
          "output_type": "stream",
          "name": "stdout",
          "text": [
            "[0 0]\n"
          ]
        },
        {
          "output_type": "stream",
          "name": "stderr",
          "text": [
            "image 1/1 /content/drive/MyDrive/Trabajo_final_VIU/YOLOV8/Dataset/test/images/imagen258-8.jpg: 640x608 2 ['Osteophytos']s, 14.0ms\n",
            "Speed: 2.1ms preprocess, 14.0ms inference, 2.1ms postprocess per image at shape (1, 3, 640, 608)\n",
            "\n"
          ]
        },
        {
          "output_type": "stream",
          "name": "stdout",
          "text": [
            "[0 0]\n"
          ]
        },
        {
          "output_type": "stream",
          "name": "stderr",
          "text": [
            "image 1/1 /content/drive/MyDrive/Trabajo_final_VIU/YOLOV8/Dataset/test/images/imagen259-3.jpg: 640x640 (no detections), 8.3ms\n",
            "Speed: 1.7ms preprocess, 8.3ms inference, 0.7ms postprocess per image at shape (1, 3, 640, 640)\n",
            "\n"
          ]
        },
        {
          "output_type": "stream",
          "name": "stdout",
          "text": [
            "[]\n"
          ]
        },
        {
          "output_type": "stream",
          "name": "stderr",
          "text": [
            "image 1/1 /content/drive/MyDrive/Trabajo_final_VIU/YOLOV8/Dataset/test/images/imagen26-13.jpg: 640x640 1 ['Osteophytos'], 7.4ms\n",
            "Speed: 1.6ms preprocess, 7.4ms inference, 1.4ms postprocess per image at shape (1, 3, 640, 640)\n",
            "\n"
          ]
        },
        {
          "output_type": "stream",
          "name": "stdout",
          "text": [
            "[0]\n"
          ]
        },
        {
          "output_type": "stream",
          "name": "stderr",
          "text": [
            "image 1/1 /content/drive/MyDrive/Trabajo_final_VIU/YOLOV8/Dataset/test/images/imagen260-3.jpg: 640x640 3 ['Osteophytos']s, 7.9ms\n",
            "Speed: 1.7ms preprocess, 7.9ms inference, 1.5ms postprocess per image at shape (1, 3, 640, 640)\n",
            "\n"
          ]
        },
        {
          "output_type": "stream",
          "name": "stdout",
          "text": [
            "[0 0 0]\n"
          ]
        },
        {
          "output_type": "stream",
          "name": "stderr",
          "text": [
            "image 1/1 /content/drive/MyDrive/Trabajo_final_VIU/YOLOV8/Dataset/test/images/imagen261-6.jpg: 640x640 3 ['Osteophytos']s, 9.0ms\n",
            "Speed: 3.4ms preprocess, 9.0ms inference, 1.4ms postprocess per image at shape (1, 3, 640, 640)\n",
            "\n"
          ]
        },
        {
          "output_type": "stream",
          "name": "stdout",
          "text": [
            "[0 0 0]\n"
          ]
        },
        {
          "output_type": "stream",
          "name": "stderr",
          "text": [
            "image 1/1 /content/drive/MyDrive/Trabajo_final_VIU/YOLOV8/Dataset/test/images/imagen261-8.jpg: 640x576 1 ['Osteophytos'], 7.9ms\n",
            "Speed: 1.6ms preprocess, 7.9ms inference, 1.4ms postprocess per image at shape (1, 3, 640, 576)\n",
            "\n"
          ]
        },
        {
          "output_type": "stream",
          "name": "stdout",
          "text": [
            "[0]\n"
          ]
        },
        {
          "output_type": "stream",
          "name": "stderr",
          "text": [
            "image 1/1 /content/drive/MyDrive/Trabajo_final_VIU/YOLOV8/Dataset/test/images/imagen262-6.jpg: 640x608 1 ['Osteophytos'], 8.0ms\n",
            "Speed: 2.5ms preprocess, 8.0ms inference, 1.3ms postprocess per image at shape (1, 3, 640, 608)\n",
            "\n"
          ]
        },
        {
          "output_type": "stream",
          "name": "stdout",
          "text": [
            "[0]\n"
          ]
        },
        {
          "output_type": "stream",
          "name": "stderr",
          "text": [
            "image 1/1 /content/drive/MyDrive/Trabajo_final_VIU/YOLOV8/Dataset/test/images/imagen262-8.jpg: 640x544 1 ['Osteophytos'], 7.8ms\n",
            "Speed: 1.6ms preprocess, 7.8ms inference, 1.3ms postprocess per image at shape (1, 3, 640, 544)\n",
            "\n"
          ]
        },
        {
          "output_type": "stream",
          "name": "stdout",
          "text": [
            "[0]\n"
          ]
        },
        {
          "output_type": "stream",
          "name": "stderr",
          "text": [
            "image 1/1 /content/drive/MyDrive/Trabajo_final_VIU/YOLOV8/Dataset/test/images/imagen263-6.jpg: 640x576 2 ['Osteophytos']s, 7.9ms\n",
            "Speed: 1.6ms preprocess, 7.9ms inference, 1.4ms postprocess per image at shape (1, 3, 640, 576)\n",
            "\n"
          ]
        },
        {
          "output_type": "stream",
          "name": "stdout",
          "text": [
            "[0 0]\n"
          ]
        },
        {
          "output_type": "stream",
          "name": "stderr",
          "text": [
            "image 1/1 /content/drive/MyDrive/Trabajo_final_VIU/YOLOV8/Dataset/test/images/imagen264-10.jpg: 640x640 (no detections), 8.1ms\n",
            "Speed: 1.8ms preprocess, 8.1ms inference, 0.7ms postprocess per image at shape (1, 3, 640, 640)\n",
            "\n"
          ]
        },
        {
          "output_type": "stream",
          "name": "stdout",
          "text": [
            "[]\n"
          ]
        },
        {
          "output_type": "stream",
          "name": "stderr",
          "text": [
            "image 1/1 /content/drive/MyDrive/Trabajo_final_VIU/YOLOV8/Dataset/test/images/imagen264-11.jpg: 640x640 1 ['Osteophytos'], 7.4ms\n",
            "Speed: 1.6ms preprocess, 7.4ms inference, 1.4ms postprocess per image at shape (1, 3, 640, 640)\n",
            "\n"
          ]
        },
        {
          "output_type": "stream",
          "name": "stdout",
          "text": [
            "[0]\n"
          ]
        },
        {
          "output_type": "stream",
          "name": "stderr",
          "text": [
            "image 1/1 /content/drive/MyDrive/Trabajo_final_VIU/YOLOV8/Dataset/test/images/imagen264-15.jpg: 640x640 1 ['Osteophytos'], 7.4ms\n",
            "Speed: 1.6ms preprocess, 7.4ms inference, 1.4ms postprocess per image at shape (1, 3, 640, 640)\n",
            "\n"
          ]
        },
        {
          "output_type": "stream",
          "name": "stdout",
          "text": [
            "[0]\n"
          ]
        },
        {
          "output_type": "stream",
          "name": "stderr",
          "text": [
            "image 1/1 /content/drive/MyDrive/Trabajo_final_VIU/YOLOV8/Dataset/test/images/imagen264-2.jpg: 640x640 1 ['Osteophytos'], 8.3ms\n",
            "Speed: 2.0ms preprocess, 8.3ms inference, 1.7ms postprocess per image at shape (1, 3, 640, 640)\n",
            "\n"
          ]
        },
        {
          "output_type": "stream",
          "name": "stdout",
          "text": [
            "[0]\n"
          ]
        },
        {
          "output_type": "stream",
          "name": "stderr",
          "text": [
            "image 1/1 /content/drive/MyDrive/Trabajo_final_VIU/YOLOV8/Dataset/test/images/imagen264-6.jpg: 544x640 (no detections), 9.8ms\n",
            "Speed: 3.4ms preprocess, 9.8ms inference, 0.9ms postprocess per image at shape (1, 3, 544, 640)\n",
            "\n"
          ]
        },
        {
          "output_type": "stream",
          "name": "stdout",
          "text": [
            "[]\n"
          ]
        },
        {
          "output_type": "stream",
          "name": "stderr",
          "text": [
            "image 1/1 /content/drive/MyDrive/Trabajo_final_VIU/YOLOV8/Dataset/test/images/imagen265-10.jpg: 640x640 2 ['Osteophytos']s, 14.7ms\n",
            "Speed: 3.3ms preprocess, 14.7ms inference, 1.7ms postprocess per image at shape (1, 3, 640, 640)\n",
            "\n"
          ]
        },
        {
          "output_type": "stream",
          "name": "stdout",
          "text": [
            "[0 0]\n"
          ]
        },
        {
          "output_type": "stream",
          "name": "stderr",
          "text": [
            "image 1/1 /content/drive/MyDrive/Trabajo_final_VIU/YOLOV8/Dataset/test/images/imagen265-11.jpg: 640x640 (no detections), 8.0ms\n",
            "Speed: 1.9ms preprocess, 8.0ms inference, 0.7ms postprocess per image at shape (1, 3, 640, 640)\n",
            "\n"
          ]
        },
        {
          "output_type": "stream",
          "name": "stdout",
          "text": [
            "[]\n"
          ]
        },
        {
          "output_type": "stream",
          "name": "stderr",
          "text": [
            "image 1/1 /content/drive/MyDrive/Trabajo_final_VIU/YOLOV8/Dataset/test/images/imagen265-2.jpg: 640x640 1 ['Osteophytos'], 7.4ms\n",
            "Speed: 1.8ms preprocess, 7.4ms inference, 1.4ms postprocess per image at shape (1, 3, 640, 640)\n",
            "\n"
          ]
        },
        {
          "output_type": "stream",
          "name": "stdout",
          "text": [
            "[0]\n"
          ]
        },
        {
          "output_type": "stream",
          "name": "stderr",
          "text": [
            "image 1/1 /content/drive/MyDrive/Trabajo_final_VIU/YOLOV8/Dataset/test/images/imagen265-3.jpg: 640x640 (no detections), 7.4ms\n",
            "Speed: 1.7ms preprocess, 7.4ms inference, 0.8ms postprocess per image at shape (1, 3, 640, 640)\n",
            "\n"
          ]
        },
        {
          "output_type": "stream",
          "name": "stdout",
          "text": [
            "[]\n"
          ]
        },
        {
          "output_type": "stream",
          "name": "stderr",
          "text": [
            "image 1/1 /content/drive/MyDrive/Trabajo_final_VIU/YOLOV8/Dataset/test/images/imagen265-7.jpg: 640x640 1 ['Osteophytos'], 7.4ms\n",
            "Speed: 1.7ms preprocess, 7.4ms inference, 1.5ms postprocess per image at shape (1, 3, 640, 640)\n",
            "\n"
          ]
        },
        {
          "output_type": "stream",
          "name": "stdout",
          "text": [
            "[0]\n"
          ]
        },
        {
          "output_type": "stream",
          "name": "stderr",
          "text": [
            "image 1/1 /content/drive/MyDrive/Trabajo_final_VIU/YOLOV8/Dataset/test/images/imagen266-4.jpg: 640x320 2 ['Osteophytos']s, 7.3ms\n",
            "Speed: 1.1ms preprocess, 7.3ms inference, 1.3ms postprocess per image at shape (1, 3, 640, 320)\n",
            "\n"
          ]
        },
        {
          "output_type": "stream",
          "name": "stdout",
          "text": [
            "[0 0]\n"
          ]
        },
        {
          "output_type": "stream",
          "name": "stderr",
          "text": [
            "image 1/1 /content/drive/MyDrive/Trabajo_final_VIU/YOLOV8/Dataset/test/images/imagen267-4.jpg: 640x544 (no detections), 7.8ms\n",
            "Speed: 1.5ms preprocess, 7.8ms inference, 0.6ms postprocess per image at shape (1, 3, 640, 544)\n",
            "\n"
          ]
        },
        {
          "output_type": "stream",
          "name": "stdout",
          "text": [
            "[]\n"
          ]
        },
        {
          "output_type": "stream",
          "name": "stderr",
          "text": [
            "image 1/1 /content/drive/MyDrive/Trabajo_final_VIU/YOLOV8/Dataset/test/images/imagen268-4.jpg: 640x480 (no detections), 7.1ms\n",
            "Speed: 1.4ms preprocess, 7.1ms inference, 0.7ms postprocess per image at shape (1, 3, 640, 480)\n",
            "\n"
          ]
        },
        {
          "output_type": "stream",
          "name": "stdout",
          "text": [
            "[]\n"
          ]
        },
        {
          "output_type": "stream",
          "name": "stderr",
          "text": [
            "image 1/1 /content/drive/MyDrive/Trabajo_final_VIU/YOLOV8/Dataset/test/images/imagen269-3.jpg: 640x640 3 ['Osteophytos']s, 8.1ms\n",
            "Speed: 1.6ms preprocess, 8.1ms inference, 1.4ms postprocess per image at shape (1, 3, 640, 640)\n",
            "\n"
          ]
        },
        {
          "output_type": "stream",
          "name": "stdout",
          "text": [
            "[0 0 0]\n"
          ]
        },
        {
          "output_type": "stream",
          "name": "stderr",
          "text": [
            "image 1/1 /content/drive/MyDrive/Trabajo_final_VIU/YOLOV8/Dataset/test/images/imagen269-4.jpg: 640x544 2 ['Osteophytos']s, 7.8ms\n",
            "Speed: 1.5ms preprocess, 7.8ms inference, 1.4ms postprocess per image at shape (1, 3, 640, 544)\n",
            "\n"
          ]
        },
        {
          "output_type": "stream",
          "name": "stdout",
          "text": [
            "[0 0]\n"
          ]
        },
        {
          "output_type": "stream",
          "name": "stderr",
          "text": [
            "image 1/1 /content/drive/MyDrive/Trabajo_final_VIU/YOLOV8/Dataset/test/images/imagen269-7.jpg: 640x640 (no detections), 8.0ms\n",
            "Speed: 1.6ms preprocess, 8.0ms inference, 0.7ms postprocess per image at shape (1, 3, 640, 640)\n",
            "\n"
          ]
        },
        {
          "output_type": "stream",
          "name": "stdout",
          "text": [
            "[]\n"
          ]
        },
        {
          "output_type": "stream",
          "name": "stderr",
          "text": [
            "image 1/1 /content/drive/MyDrive/Trabajo_final_VIU/YOLOV8/Dataset/test/images/imagen27-6.jpg: 640x640 3 ['Osteophytos']s, 7.4ms\n",
            "Speed: 1.7ms preprocess, 7.4ms inference, 1.4ms postprocess per image at shape (1, 3, 640, 640)\n",
            "\n"
          ]
        },
        {
          "output_type": "stream",
          "name": "stdout",
          "text": [
            "[0 0 0]\n"
          ]
        },
        {
          "output_type": "stream",
          "name": "stderr",
          "text": [
            "image 1/1 /content/drive/MyDrive/Trabajo_final_VIU/YOLOV8/Dataset/test/images/imagen27-7.jpg: 640x640 3 ['Osteophytos']s, 7.4ms\n",
            "Speed: 1.6ms preprocess, 7.4ms inference, 1.5ms postprocess per image at shape (1, 3, 640, 640)\n",
            "\n"
          ]
        },
        {
          "output_type": "stream",
          "name": "stdout",
          "text": [
            "[0 0 0]\n"
          ]
        },
        {
          "output_type": "stream",
          "name": "stderr",
          "text": [
            "image 1/1 /content/drive/MyDrive/Trabajo_final_VIU/YOLOV8/Dataset/test/images/imagen270-6.jpg: 640x416 (no detections), 10.1ms\n",
            "Speed: 1.5ms preprocess, 10.1ms inference, 0.9ms postprocess per image at shape (1, 3, 640, 416)\n",
            "\n"
          ]
        },
        {
          "output_type": "stream",
          "name": "stdout",
          "text": [
            "[]\n"
          ]
        },
        {
          "output_type": "stream",
          "name": "stderr",
          "text": [
            "image 1/1 /content/drive/MyDrive/Trabajo_final_VIU/YOLOV8/Dataset/test/images/imagen271-3.jpg: 640x640 1 ['Osteophytos'], 15.0ms\n",
            "Speed: 2.0ms preprocess, 15.0ms inference, 1.9ms postprocess per image at shape (1, 3, 640, 640)\n",
            "\n"
          ]
        },
        {
          "output_type": "stream",
          "name": "stdout",
          "text": [
            "[0]\n"
          ]
        },
        {
          "output_type": "stream",
          "name": "stderr",
          "text": [
            "image 1/1 /content/drive/MyDrive/Trabajo_final_VIU/YOLOV8/Dataset/test/images/imagen272-2.jpg: 640x512 2 ['Osteophytos']s, 16.8ms\n",
            "Speed: 1.7ms preprocess, 16.8ms inference, 1.9ms postprocess per image at shape (1, 3, 640, 512)\n",
            "\n"
          ]
        },
        {
          "output_type": "stream",
          "name": "stdout",
          "text": [
            "[0 0]\n"
          ]
        },
        {
          "output_type": "stream",
          "name": "stderr",
          "text": [
            "image 1/1 /content/drive/MyDrive/Trabajo_final_VIU/YOLOV8/Dataset/test/images/imagen272-4.jpg: 640x512 3 ['Osteophytos']s, 6.5ms\n",
            "Speed: 1.5ms preprocess, 6.5ms inference, 1.3ms postprocess per image at shape (1, 3, 640, 512)\n",
            "\n"
          ]
        },
        {
          "output_type": "stream",
          "name": "stdout",
          "text": [
            "[0 0 0]\n"
          ]
        },
        {
          "output_type": "stream",
          "name": "stderr",
          "text": [
            "image 1/1 /content/drive/MyDrive/Trabajo_final_VIU/YOLOV8/Dataset/test/images/imagen273-11.jpg: 640x640 (no detections), 8.0ms\n",
            "Speed: 1.6ms preprocess, 8.0ms inference, 0.7ms postprocess per image at shape (1, 3, 640, 640)\n",
            "\n"
          ]
        },
        {
          "output_type": "stream",
          "name": "stdout",
          "text": [
            "[]\n"
          ]
        },
        {
          "output_type": "stream",
          "name": "stderr",
          "text": [
            "image 1/1 /content/drive/MyDrive/Trabajo_final_VIU/YOLOV8/Dataset/test/images/imagen274-10.jpg: 640x640 3 ['Osteophytos']s, 7.4ms\n",
            "Speed: 1.6ms preprocess, 7.4ms inference, 1.4ms postprocess per image at shape (1, 3, 640, 640)\n",
            "\n"
          ]
        },
        {
          "output_type": "stream",
          "name": "stdout",
          "text": [
            "[0 0 0]\n"
          ]
        },
        {
          "output_type": "stream",
          "name": "stderr",
          "text": [
            "image 1/1 /content/drive/MyDrive/Trabajo_final_VIU/YOLOV8/Dataset/test/images/imagen275-3.jpg: 640x640 4 ['Osteophytos']s, 7.4ms\n",
            "Speed: 1.6ms preprocess, 7.4ms inference, 1.4ms postprocess per image at shape (1, 3, 640, 640)\n",
            "\n"
          ]
        },
        {
          "output_type": "stream",
          "name": "stdout",
          "text": [
            "[0 0 0 0]\n"
          ]
        },
        {
          "output_type": "stream",
          "name": "stderr",
          "text": [
            "image 1/1 /content/drive/MyDrive/Trabajo_final_VIU/YOLOV8/Dataset/test/images/imagen276-6.jpg: 640x576 1 ['Osteophytos'], 8.0ms\n",
            "Speed: 1.6ms preprocess, 8.0ms inference, 1.3ms postprocess per image at shape (1, 3, 640, 576)\n",
            "\n"
          ]
        },
        {
          "output_type": "stream",
          "name": "stdout",
          "text": [
            "[0]\n"
          ]
        },
        {
          "output_type": "stream",
          "name": "stderr",
          "text": [
            "image 1/1 /content/drive/MyDrive/Trabajo_final_VIU/YOLOV8/Dataset/test/images/imagen277-4.jpg: 640x544 7 ['Osteophytos']s, 9.7ms\n",
            "Speed: 1.8ms preprocess, 9.7ms inference, 1.6ms postprocess per image at shape (1, 3, 640, 544)\n",
            "\n"
          ]
        },
        {
          "output_type": "stream",
          "name": "stdout",
          "text": [
            "[0 0 0 0 0 0 0]\n"
          ]
        },
        {
          "output_type": "stream",
          "name": "stderr",
          "text": [
            "image 1/1 /content/drive/MyDrive/Trabajo_final_VIU/YOLOV8/Dataset/test/images/imagen278-13.jpg: 512x640 3 ['Osteophytos']s, 7.0ms\n",
            "Speed: 1.5ms preprocess, 7.0ms inference, 1.3ms postprocess per image at shape (1, 3, 512, 640)\n",
            "\n"
          ]
        },
        {
          "output_type": "stream",
          "name": "stdout",
          "text": [
            "[0 0 0]\n"
          ]
        },
        {
          "output_type": "stream",
          "name": "stderr",
          "text": [
            "image 1/1 /content/drive/MyDrive/Trabajo_final_VIU/YOLOV8/Dataset/test/images/imagen278-18.jpg: 640x640 3 ['Osteophytos']s, 8.1ms\n",
            "Speed: 1.7ms preprocess, 8.1ms inference, 1.3ms postprocess per image at shape (1, 3, 640, 640)\n",
            "\n"
          ]
        },
        {
          "output_type": "stream",
          "name": "stdout",
          "text": [
            "[0 0 0]\n"
          ]
        },
        {
          "output_type": "stream",
          "name": "stderr",
          "text": [
            "image 1/1 /content/drive/MyDrive/Trabajo_final_VIU/YOLOV8/Dataset/test/images/imagen278-2.jpg: 640x576 3 ['Osteophytos']s, 8.0ms\n",
            "Speed: 1.5ms preprocess, 8.0ms inference, 1.3ms postprocess per image at shape (1, 3, 640, 576)\n",
            "\n"
          ]
        },
        {
          "output_type": "stream",
          "name": "stdout",
          "text": [
            "[0 0 0]\n"
          ]
        },
        {
          "output_type": "stream",
          "name": "stderr",
          "text": [
            "image 1/1 /content/drive/MyDrive/Trabajo_final_VIU/YOLOV8/Dataset/test/images/imagen278-8.jpg: 608x640 2 ['Osteophytos']s, 8.0ms\n",
            "Speed: 1.6ms preprocess, 8.0ms inference, 1.3ms postprocess per image at shape (1, 3, 608, 640)\n",
            "\n"
          ]
        },
        {
          "output_type": "stream",
          "name": "stdout",
          "text": [
            "[0 0]\n"
          ]
        },
        {
          "output_type": "stream",
          "name": "stderr",
          "text": [
            "image 1/1 /content/drive/MyDrive/Trabajo_final_VIU/YOLOV8/Dataset/test/images/imagen279-10.jpg: 640x640 2 ['Osteophytos']s, 8.0ms\n",
            "Speed: 2.1ms preprocess, 8.0ms inference, 1.3ms postprocess per image at shape (1, 3, 640, 640)\n",
            "\n"
          ]
        },
        {
          "output_type": "stream",
          "name": "stdout",
          "text": [
            "[0 0]\n"
          ]
        },
        {
          "output_type": "stream",
          "name": "stderr",
          "text": [
            "image 1/1 /content/drive/MyDrive/Trabajo_final_VIU/YOLOV8/Dataset/test/images/imagen279-11.jpg: 640x640 2 ['Osteophytos']s, 7.4ms\n",
            "Speed: 1.7ms preprocess, 7.4ms inference, 1.5ms postprocess per image at shape (1, 3, 640, 640)\n",
            "\n"
          ]
        },
        {
          "output_type": "stream",
          "name": "stdout",
          "text": [
            "[0 0]\n"
          ]
        },
        {
          "output_type": "stream",
          "name": "stderr",
          "text": [
            "image 1/1 /content/drive/MyDrive/Trabajo_final_VIU/YOLOV8/Dataset/test/images/imagen28-6.jpg: 640x640 1 ['Osteophytos'], 8.5ms\n",
            "Speed: 1.9ms preprocess, 8.5ms inference, 1.7ms postprocess per image at shape (1, 3, 640, 640)\n",
            "\n"
          ]
        },
        {
          "output_type": "stream",
          "name": "stdout",
          "text": [
            "[0]\n"
          ]
        },
        {
          "output_type": "stream",
          "name": "stderr",
          "text": [
            "image 1/1 /content/drive/MyDrive/Trabajo_final_VIU/YOLOV8/Dataset/test/images/imagen28-8.jpg: 640x640 (no detections), 8.6ms\n",
            "Speed: 2.0ms preprocess, 8.6ms inference, 1.0ms postprocess per image at shape (1, 3, 640, 640)\n",
            "\n"
          ]
        },
        {
          "output_type": "stream",
          "name": "stdout",
          "text": [
            "[]\n"
          ]
        },
        {
          "output_type": "stream",
          "name": "stderr",
          "text": [
            "image 1/1 /content/drive/MyDrive/Trabajo_final_VIU/YOLOV8/Dataset/test/images/imagen280-10.jpg: 512x640 1 ['Osteophytos'], 7.2ms\n",
            "Speed: 2.5ms preprocess, 7.2ms inference, 1.2ms postprocess per image at shape (1, 3, 512, 640)\n",
            "\n"
          ]
        },
        {
          "output_type": "stream",
          "name": "stdout",
          "text": [
            "[0]\n"
          ]
        },
        {
          "output_type": "stream",
          "name": "stderr",
          "text": [
            "image 1/1 /content/drive/MyDrive/Trabajo_final_VIU/YOLOV8/Dataset/test/images/imagen280-5.jpg: 640x640 1 ['Osteophytos'], 8.1ms\n",
            "Speed: 1.9ms preprocess, 8.1ms inference, 1.4ms postprocess per image at shape (1, 3, 640, 640)\n",
            "\n"
          ]
        },
        {
          "output_type": "stream",
          "name": "stdout",
          "text": [
            "[0]\n"
          ]
        },
        {
          "output_type": "stream",
          "name": "stderr",
          "text": [
            "image 1/1 /content/drive/MyDrive/Trabajo_final_VIU/YOLOV8/Dataset/test/images/imagen280-6.jpg: 640x416 (no detections), 7.4ms\n",
            "Speed: 1.3ms preprocess, 7.4ms inference, 0.7ms postprocess per image at shape (1, 3, 640, 416)\n",
            "\n"
          ]
        },
        {
          "output_type": "stream",
          "name": "stdout",
          "text": [
            "[]\n"
          ]
        },
        {
          "output_type": "stream",
          "name": "stderr",
          "text": [
            "image 1/1 /content/drive/MyDrive/Trabajo_final_VIU/YOLOV8/Dataset/test/images/imagen280-7.jpg: 640x640 (no detections), 8.0ms\n",
            "Speed: 1.8ms preprocess, 8.0ms inference, 0.7ms postprocess per image at shape (1, 3, 640, 640)\n",
            "\n"
          ]
        },
        {
          "output_type": "stream",
          "name": "stdout",
          "text": [
            "[]\n"
          ]
        },
        {
          "output_type": "stream",
          "name": "stderr",
          "text": [
            "image 1/1 /content/drive/MyDrive/Trabajo_final_VIU/YOLOV8/Dataset/test/images/imagen280-8.jpg: 640x416 (no detections), 7.2ms\n",
            "Speed: 1.3ms preprocess, 7.2ms inference, 0.7ms postprocess per image at shape (1, 3, 640, 416)\n",
            "\n"
          ]
        },
        {
          "output_type": "stream",
          "name": "stdout",
          "text": [
            "[]\n"
          ]
        },
        {
          "output_type": "stream",
          "name": "stderr",
          "text": [
            "image 1/1 /content/drive/MyDrive/Trabajo_final_VIU/YOLOV8/Dataset/test/images/imagen280-9.jpg: 320x640 2 ['Osteophytos']s, 65.0ms\n",
            "Speed: 2.2ms preprocess, 65.0ms inference, 1.5ms postprocess per image at shape (1, 3, 320, 640)\n",
            "\n"
          ]
        },
        {
          "output_type": "stream",
          "name": "stdout",
          "text": [
            "[0 0]\n"
          ]
        },
        {
          "output_type": "stream",
          "name": "stderr",
          "text": [
            "image 1/1 /content/drive/MyDrive/Trabajo_final_VIU/YOLOV8/Dataset/test/images/imagen281-4.jpg: 640x640 1 ['Osteophytos'], 8.1ms\n",
            "Speed: 2.4ms preprocess, 8.1ms inference, 1.3ms postprocess per image at shape (1, 3, 640, 640)\n",
            "\n"
          ]
        },
        {
          "output_type": "stream",
          "name": "stdout",
          "text": [
            "[0]\n"
          ]
        },
        {
          "output_type": "stream",
          "name": "stderr",
          "text": [
            "image 1/1 /content/drive/MyDrive/Trabajo_final_VIU/YOLOV8/Dataset/test/images/imagen281-6.jpg: 608x640 5 ['Osteophytos']s, 11.2ms\n",
            "Speed: 2.6ms preprocess, 11.2ms inference, 2.0ms postprocess per image at shape (1, 3, 608, 640)\n",
            "\n"
          ]
        },
        {
          "output_type": "stream",
          "name": "stdout",
          "text": [
            "[0 0 0 0 0]\n"
          ]
        },
        {
          "output_type": "stream",
          "name": "stderr",
          "text": [
            "image 1/1 /content/drive/MyDrive/Trabajo_final_VIU/YOLOV8/Dataset/test/images/imagen281-8.jpg: 640x640 1 ['Osteophytos'], 8.1ms\n",
            "Speed: 2.2ms preprocess, 8.1ms inference, 1.3ms postprocess per image at shape (1, 3, 640, 640)\n",
            "\n"
          ]
        },
        {
          "output_type": "stream",
          "name": "stdout",
          "text": [
            "[0]\n"
          ]
        },
        {
          "output_type": "stream",
          "name": "stderr",
          "text": [
            "image 1/1 /content/drive/MyDrive/Trabajo_final_VIU/YOLOV8/Dataset/test/images/imagen282-8.jpg: 640x640 2 ['Osteophytos']s, 7.4ms\n",
            "Speed: 1.7ms preprocess, 7.4ms inference, 1.4ms postprocess per image at shape (1, 3, 640, 640)\n",
            "\n"
          ]
        },
        {
          "output_type": "stream",
          "name": "stdout",
          "text": [
            "[0 0]\n"
          ]
        },
        {
          "output_type": "stream",
          "name": "stderr",
          "text": [
            "image 1/1 /content/drive/MyDrive/Trabajo_final_VIU/YOLOV8/Dataset/test/images/imagen283-6.jpg: 640x640 1 ['Osteophytos'], 7.4ms\n",
            "Speed: 1.6ms preprocess, 7.4ms inference, 1.4ms postprocess per image at shape (1, 3, 640, 640)\n",
            "\n"
          ]
        },
        {
          "output_type": "stream",
          "name": "stdout",
          "text": [
            "[0]\n"
          ]
        },
        {
          "output_type": "stream",
          "name": "stderr",
          "text": [
            "image 1/1 /content/drive/MyDrive/Trabajo_final_VIU/YOLOV8/Dataset/test/images/imagen283-7.jpg: 640x640 1 ['Osteophytos'], 8.6ms\n",
            "Speed: 2.0ms preprocess, 8.6ms inference, 1.7ms postprocess per image at shape (1, 3, 640, 640)\n",
            "\n"
          ]
        },
        {
          "output_type": "stream",
          "name": "stdout",
          "text": [
            "[0]\n"
          ]
        },
        {
          "output_type": "stream",
          "name": "stderr",
          "text": [
            "image 1/1 /content/drive/MyDrive/Trabajo_final_VIU/YOLOV8/Dataset/test/images/imagen284-10.jpg: 640x640 1 ['Osteophytos'], 10.3ms\n",
            "Speed: 2.1ms preprocess, 10.3ms inference, 2.1ms postprocess per image at shape (1, 3, 640, 640)\n",
            "\n"
          ]
        },
        {
          "output_type": "stream",
          "name": "stdout",
          "text": [
            "[0]\n"
          ]
        },
        {
          "output_type": "stream",
          "name": "stderr",
          "text": [
            "image 1/1 /content/drive/MyDrive/Trabajo_final_VIU/YOLOV8/Dataset/test/images/imagen284-11.jpg: 640x640 (no detections), 11.5ms\n",
            "Speed: 2.0ms preprocess, 11.5ms inference, 1.1ms postprocess per image at shape (1, 3, 640, 640)\n",
            "\n"
          ]
        },
        {
          "output_type": "stream",
          "name": "stdout",
          "text": [
            "[]\n"
          ]
        },
        {
          "output_type": "stream",
          "name": "stderr",
          "text": [
            "image 1/1 /content/drive/MyDrive/Trabajo_final_VIU/YOLOV8/Dataset/test/images/imagen285-11.jpg: 640x640 3 ['Osteophytos']s, 7.4ms\n",
            "Speed: 1.7ms preprocess, 7.4ms inference, 1.4ms postprocess per image at shape (1, 3, 640, 640)\n",
            "\n"
          ]
        },
        {
          "output_type": "stream",
          "name": "stdout",
          "text": [
            "[0 0 0]\n"
          ]
        },
        {
          "output_type": "stream",
          "name": "stderr",
          "text": [
            "image 1/1 /content/drive/MyDrive/Trabajo_final_VIU/YOLOV8/Dataset/test/images/imagen286-11.jpg: 640x640 3 ['Osteophytos']s, 7.4ms\n",
            "Speed: 1.7ms preprocess, 7.4ms inference, 1.4ms postprocess per image at shape (1, 3, 640, 640)\n",
            "\n"
          ]
        },
        {
          "output_type": "stream",
          "name": "stdout",
          "text": [
            "[0 0 0]\n"
          ]
        },
        {
          "output_type": "stream",
          "name": "stderr",
          "text": [
            "image 1/1 /content/drive/MyDrive/Trabajo_final_VIU/YOLOV8/Dataset/test/images/imagen286-7.jpg: 640x640 3 ['Osteophytos']s, 7.6ms\n",
            "Speed: 1.8ms preprocess, 7.6ms inference, 1.3ms postprocess per image at shape (1, 3, 640, 640)\n",
            "\n"
          ]
        },
        {
          "output_type": "stream",
          "name": "stdout",
          "text": [
            "[0 0 0]\n"
          ]
        },
        {
          "output_type": "stream",
          "name": "stderr",
          "text": [
            "image 1/1 /content/drive/MyDrive/Trabajo_final_VIU/YOLOV8/Dataset/test/images/imagen287-10.jpg: 640x640 (no detections), 8.5ms\n",
            "Speed: 2.0ms preprocess, 8.5ms inference, 0.7ms postprocess per image at shape (1, 3, 640, 640)\n",
            "\n"
          ]
        },
        {
          "output_type": "stream",
          "name": "stdout",
          "text": [
            "[]\n"
          ]
        },
        {
          "output_type": "stream",
          "name": "stderr",
          "text": [
            "image 1/1 /content/drive/MyDrive/Trabajo_final_VIU/YOLOV8/Dataset/test/images/imagen287-3.jpg: 640x640 1 ['Osteophytos'], 10.6ms\n",
            "Speed: 1.7ms preprocess, 10.6ms inference, 2.1ms postprocess per image at shape (1, 3, 640, 640)\n",
            "\n"
          ]
        },
        {
          "output_type": "stream",
          "name": "stdout",
          "text": [
            "[0]\n"
          ]
        },
        {
          "output_type": "stream",
          "name": "stderr",
          "text": [
            "image 1/1 /content/drive/MyDrive/Trabajo_final_VIU/YOLOV8/Dataset/test/images/imagen287-6.jpg: 608x640 (no detections), 7.9ms\n",
            "Speed: 1.5ms preprocess, 7.9ms inference, 0.7ms postprocess per image at shape (1, 3, 608, 640)\n",
            "\n"
          ]
        },
        {
          "output_type": "stream",
          "name": "stdout",
          "text": [
            "[]\n"
          ]
        },
        {
          "output_type": "stream",
          "name": "stderr",
          "text": [
            "image 1/1 /content/drive/MyDrive/Trabajo_final_VIU/YOLOV8/Dataset/test/images/imagen287-7.jpg: 608x640 (no detections), 7.3ms\n",
            "Speed: 1.7ms preprocess, 7.3ms inference, 0.7ms postprocess per image at shape (1, 3, 608, 640)\n",
            "\n"
          ]
        },
        {
          "output_type": "stream",
          "name": "stdout",
          "text": [
            "[]\n"
          ]
        },
        {
          "output_type": "stream",
          "name": "stderr",
          "text": [
            "image 1/1 /content/drive/MyDrive/Trabajo_final_VIU/YOLOV8/Dataset/test/images/imagen288-6.jpg: 640x640 1 ['Osteophytos'], 9.8ms\n",
            "Speed: 3.1ms preprocess, 9.8ms inference, 1.3ms postprocess per image at shape (1, 3, 640, 640)\n",
            "\n"
          ]
        },
        {
          "output_type": "stream",
          "name": "stdout",
          "text": [
            "[0]\n"
          ]
        },
        {
          "output_type": "stream",
          "name": "stderr",
          "text": [
            "image 1/1 /content/drive/MyDrive/Trabajo_final_VIU/YOLOV8/Dataset/test/images/imagen288-8.jpg: 640x608 (no detections), 8.0ms\n",
            "Speed: 1.7ms preprocess, 8.0ms inference, 0.7ms postprocess per image at shape (1, 3, 640, 608)\n",
            "\n"
          ]
        },
        {
          "output_type": "stream",
          "name": "stdout",
          "text": [
            "[]\n"
          ]
        },
        {
          "output_type": "stream",
          "name": "stderr",
          "text": [
            "image 1/1 /content/drive/MyDrive/Trabajo_final_VIU/YOLOV8/Dataset/test/images/imagen289-4.jpg: 640x640 2 ['Osteophytos']s, 8.1ms\n",
            "Speed: 2.6ms preprocess, 8.1ms inference, 1.3ms postprocess per image at shape (1, 3, 640, 640)\n",
            "\n"
          ]
        },
        {
          "output_type": "stream",
          "name": "stdout",
          "text": [
            "[0 0]\n"
          ]
        },
        {
          "output_type": "stream",
          "name": "stderr",
          "text": [
            "image 1/1 /content/drive/MyDrive/Trabajo_final_VIU/YOLOV8/Dataset/test/images/imagen289-5.jpg: 640x640 (no detections), 7.4ms\n",
            "Speed: 1.6ms preprocess, 7.4ms inference, 0.8ms postprocess per image at shape (1, 3, 640, 640)\n",
            "\n"
          ]
        },
        {
          "output_type": "stream",
          "name": "stdout",
          "text": [
            "[]\n"
          ]
        },
        {
          "output_type": "stream",
          "name": "stderr",
          "text": [
            "image 1/1 /content/drive/MyDrive/Trabajo_final_VIU/YOLOV8/Dataset/test/images/imagen289-6.jpg: 640x576 1 ['Osteophytos'], 9.7ms\n",
            "Speed: 1.8ms preprocess, 9.7ms inference, 1.7ms postprocess per image at shape (1, 3, 640, 576)\n",
            "\n"
          ]
        },
        {
          "output_type": "stream",
          "name": "stdout",
          "text": [
            "[0]\n"
          ]
        },
        {
          "output_type": "stream",
          "name": "stderr",
          "text": [
            "image 1/1 /content/drive/MyDrive/Trabajo_final_VIU/YOLOV8/Dataset/test/images/imagen29-7.jpg: 640x640 2 ['Osteophytos']s, 8.7ms\n",
            "Speed: 1.8ms preprocess, 8.7ms inference, 1.6ms postprocess per image at shape (1, 3, 640, 640)\n",
            "\n"
          ]
        },
        {
          "output_type": "stream",
          "name": "stdout",
          "text": [
            "[0 0]\n"
          ]
        },
        {
          "output_type": "stream",
          "name": "stderr",
          "text": [
            "image 1/1 /content/drive/MyDrive/Trabajo_final_VIU/YOLOV8/Dataset/test/images/imagen29-8.jpg: 640x640 2 ['Osteophytos']s, 9.2ms\n",
            "Speed: 4.6ms preprocess, 9.2ms inference, 1.8ms postprocess per image at shape (1, 3, 640, 640)\n",
            "\n"
          ]
        },
        {
          "output_type": "stream",
          "name": "stdout",
          "text": [
            "[0 0]\n"
          ]
        },
        {
          "output_type": "stream",
          "name": "stderr",
          "text": [
            "image 1/1 /content/drive/MyDrive/Trabajo_final_VIU/YOLOV8/Dataset/test/images/imagen290-14.jpg: 576x640 3 ['Osteophytos']s, 7.9ms\n",
            "Speed: 1.5ms preprocess, 7.9ms inference, 1.3ms postprocess per image at shape (1, 3, 576, 640)\n",
            "\n"
          ]
        },
        {
          "output_type": "stream",
          "name": "stdout",
          "text": [
            "[0 0 0]\n"
          ]
        },
        {
          "output_type": "stream",
          "name": "stderr",
          "text": [
            "image 1/1 /content/drive/MyDrive/Trabajo_final_VIU/YOLOV8/Dataset/test/images/imagen290-19.jpg: 640x640 1 ['Osteophytos'], 8.2ms\n",
            "Speed: 1.7ms preprocess, 8.2ms inference, 1.4ms postprocess per image at shape (1, 3, 640, 640)\n",
            "\n"
          ]
        },
        {
          "output_type": "stream",
          "name": "stdout",
          "text": [
            "[0]\n"
          ]
        },
        {
          "output_type": "stream",
          "name": "stderr",
          "text": [
            "image 1/1 /content/drive/MyDrive/Trabajo_final_VIU/YOLOV8/Dataset/test/images/imagen291-13.jpg: 640x640 (no detections), 7.4ms\n",
            "Speed: 1.6ms preprocess, 7.4ms inference, 0.7ms postprocess per image at shape (1, 3, 640, 640)\n",
            "\n"
          ]
        },
        {
          "output_type": "stream",
          "name": "stdout",
          "text": [
            "[]\n"
          ]
        },
        {
          "output_type": "stream",
          "name": "stderr",
          "text": [
            "image 1/1 /content/drive/MyDrive/Trabajo_final_VIU/YOLOV8/Dataset/test/images/imagen291-8.jpg: 640x640 3 ['Osteophytos']s, 7.4ms\n",
            "Speed: 1.7ms preprocess, 7.4ms inference, 1.5ms postprocess per image at shape (1, 3, 640, 640)\n",
            "\n"
          ]
        },
        {
          "output_type": "stream",
          "name": "stdout",
          "text": [
            "[0 0 0]\n"
          ]
        },
        {
          "output_type": "stream",
          "name": "stderr",
          "text": [
            "image 1/1 /content/drive/MyDrive/Trabajo_final_VIU/YOLOV8/Dataset/test/images/imagen292-11.jpg: 608x640 (no detections), 8.2ms\n",
            "Speed: 1.6ms preprocess, 8.2ms inference, 0.7ms postprocess per image at shape (1, 3, 608, 640)\n",
            "\n"
          ]
        },
        {
          "output_type": "stream",
          "name": "stdout",
          "text": [
            "[]\n"
          ]
        },
        {
          "output_type": "stream",
          "name": "stderr",
          "text": [
            "image 1/1 /content/drive/MyDrive/Trabajo_final_VIU/YOLOV8/Dataset/test/images/imagen292-15.jpg: 640x640 (no detections), 8.1ms\n",
            "Speed: 1.7ms preprocess, 8.1ms inference, 0.7ms postprocess per image at shape (1, 3, 640, 640)\n",
            "\n"
          ]
        },
        {
          "output_type": "stream",
          "name": "stdout",
          "text": [
            "[]\n"
          ]
        },
        {
          "output_type": "stream",
          "name": "stderr",
          "text": [
            "image 1/1 /content/drive/MyDrive/Trabajo_final_VIU/YOLOV8/Dataset/test/images/imagen293-11.jpg: 640x640 1 ['Osteophytos'], 7.4ms\n",
            "Speed: 1.6ms preprocess, 7.4ms inference, 2.0ms postprocess per image at shape (1, 3, 640, 640)\n",
            "\n"
          ]
        },
        {
          "output_type": "stream",
          "name": "stdout",
          "text": [
            "[0]\n"
          ]
        },
        {
          "output_type": "stream",
          "name": "stderr",
          "text": [
            "image 1/1 /content/drive/MyDrive/Trabajo_final_VIU/YOLOV8/Dataset/test/images/imagen294-6.jpg: 640x608 4 ['Osteophytos']s, 8.0ms\n",
            "Speed: 1.7ms preprocess, 8.0ms inference, 1.3ms postprocess per image at shape (1, 3, 640, 608)\n",
            "\n"
          ]
        },
        {
          "output_type": "stream",
          "name": "stdout",
          "text": [
            "[0 0 0 0]\n"
          ]
        },
        {
          "output_type": "stream",
          "name": "stderr",
          "text": [
            "image 1/1 /content/drive/MyDrive/Trabajo_final_VIU/YOLOV8/Dataset/test/images/imagen295-4.jpg: 640x608 (no detections), 7.4ms\n",
            "Speed: 1.9ms preprocess, 7.4ms inference, 0.7ms postprocess per image at shape (1, 3, 640, 608)\n",
            "\n"
          ]
        },
        {
          "output_type": "stream",
          "name": "stdout",
          "text": [
            "[]\n"
          ]
        },
        {
          "output_type": "stream",
          "name": "stderr",
          "text": [
            "image 1/1 /content/drive/MyDrive/Trabajo_final_VIU/YOLOV8/Dataset/test/images/imagen295-6.jpg: 640x608 (no detections), 7.3ms\n",
            "Speed: 1.7ms preprocess, 7.3ms inference, 0.7ms postprocess per image at shape (1, 3, 640, 608)\n",
            "\n"
          ]
        },
        {
          "output_type": "stream",
          "name": "stdout",
          "text": [
            "[]\n"
          ]
        },
        {
          "output_type": "stream",
          "name": "stderr",
          "text": [
            "image 1/1 /content/drive/MyDrive/Trabajo_final_VIU/YOLOV8/Dataset/test/images/imagen296-4.jpg: 640x512 2 ['Osteophytos']s, 7.3ms\n",
            "Speed: 1.6ms preprocess, 7.3ms inference, 1.3ms postprocess per image at shape (1, 3, 640, 512)\n",
            "\n"
          ]
        },
        {
          "output_type": "stream",
          "name": "stdout",
          "text": [
            "[0 0]\n"
          ]
        },
        {
          "output_type": "stream",
          "name": "stderr",
          "text": [
            "image 1/1 /content/drive/MyDrive/Trabajo_final_VIU/YOLOV8/Dataset/test/images/imagen297-3.jpg: 640x640 1 ['Osteophytos'], 8.3ms\n",
            "Speed: 1.7ms preprocess, 8.3ms inference, 1.3ms postprocess per image at shape (1, 3, 640, 640)\n",
            "\n"
          ]
        },
        {
          "output_type": "stream",
          "name": "stdout",
          "text": [
            "[0]\n"
          ]
        },
        {
          "output_type": "stream",
          "name": "stderr",
          "text": [
            "image 1/1 /content/drive/MyDrive/Trabajo_final_VIU/YOLOV8/Dataset/test/images/imagen298-13.jpg: 640x640 1 ['Osteophytos'], 8.9ms\n",
            "Speed: 2.1ms preprocess, 8.9ms inference, 1.7ms postprocess per image at shape (1, 3, 640, 640)\n",
            "\n"
          ]
        },
        {
          "output_type": "stream",
          "name": "stdout",
          "text": [
            "[0]\n"
          ]
        },
        {
          "output_type": "stream",
          "name": "stderr",
          "text": [
            "image 1/1 /content/drive/MyDrive/Trabajo_final_VIU/YOLOV8/Dataset/test/images/imagen298-18.jpg: 640x640 3 ['Osteophytos']s, 8.6ms\n",
            "Speed: 1.8ms preprocess, 8.6ms inference, 1.7ms postprocess per image at shape (1, 3, 640, 640)\n",
            "\n"
          ]
        },
        {
          "output_type": "stream",
          "name": "stdout",
          "text": [
            "[0 0 0]\n"
          ]
        },
        {
          "output_type": "stream",
          "name": "stderr",
          "text": [
            "image 1/1 /content/drive/MyDrive/Trabajo_final_VIU/YOLOV8/Dataset/test/images/imagen299-3.jpg: 640x640 (no detections), 9.3ms\n",
            "Speed: 2.0ms preprocess, 9.3ms inference, 1.0ms postprocess per image at shape (1, 3, 640, 640)\n",
            "\n"
          ]
        },
        {
          "output_type": "stream",
          "name": "stdout",
          "text": [
            "[]\n"
          ]
        },
        {
          "output_type": "stream",
          "name": "stderr",
          "text": [
            "image 1/1 /content/drive/MyDrive/Trabajo_final_VIU/YOLOV8/Dataset/test/images/imagen3-4.jpg: 640x576 1 ['Osteophytos'], 8.0ms\n",
            "Speed: 1.6ms preprocess, 8.0ms inference, 1.3ms postprocess per image at shape (1, 3, 640, 576)\n",
            "\n"
          ]
        },
        {
          "output_type": "stream",
          "name": "stdout",
          "text": [
            "[0]\n"
          ]
        },
        {
          "output_type": "stream",
          "name": "stderr",
          "text": [
            "image 1/1 /content/drive/MyDrive/Trabajo_final_VIU/YOLOV8/Dataset/test/images/imagen3-6.jpg: 640x576 1 ['Osteophytos'], 7.3ms\n",
            "Speed: 1.7ms preprocess, 7.3ms inference, 1.4ms postprocess per image at shape (1, 3, 640, 576)\n",
            "\n"
          ]
        },
        {
          "output_type": "stream",
          "name": "stdout",
          "text": [
            "[0]\n"
          ]
        },
        {
          "output_type": "stream",
          "name": "stderr",
          "text": [
            "image 1/1 /content/drive/MyDrive/Trabajo_final_VIU/YOLOV8/Dataset/test/images/imagen30-3.jpg: 640x640 2 ['Osteophytos']s, 11.2ms\n",
            "Speed: 2.0ms preprocess, 11.2ms inference, 1.3ms postprocess per image at shape (1, 3, 640, 640)\n",
            "\n"
          ]
        },
        {
          "output_type": "stream",
          "name": "stdout",
          "text": [
            "[0 0]\n"
          ]
        },
        {
          "output_type": "stream",
          "name": "stderr",
          "text": [
            "image 1/1 /content/drive/MyDrive/Trabajo_final_VIU/YOLOV8/Dataset/test/images/imagen300-3.jpg: 640x640 2 ['Osteophytos']s, 7.4ms\n",
            "Speed: 1.8ms preprocess, 7.4ms inference, 1.4ms postprocess per image at shape (1, 3, 640, 640)\n",
            "\n"
          ]
        },
        {
          "output_type": "stream",
          "name": "stdout",
          "text": [
            "[0 0]\n"
          ]
        },
        {
          "output_type": "stream",
          "name": "stderr",
          "text": [
            "image 1/1 /content/drive/MyDrive/Trabajo_final_VIU/YOLOV8/Dataset/test/images/imagen300-5.jpg: 640x640 1 ['Osteophytos'], 7.9ms\n",
            "Speed: 1.8ms preprocess, 7.9ms inference, 1.5ms postprocess per image at shape (1, 3, 640, 640)\n",
            "\n"
          ]
        },
        {
          "output_type": "stream",
          "name": "stdout",
          "text": [
            "[0]\n"
          ]
        },
        {
          "output_type": "stream",
          "name": "stderr",
          "text": [
            "image 1/1 /content/drive/MyDrive/Trabajo_final_VIU/YOLOV8/Dataset/test/images/imagen301-13.jpg: 640x640 (no detections), 7.4ms\n",
            "Speed: 1.6ms preprocess, 7.4ms inference, 0.8ms postprocess per image at shape (1, 3, 640, 640)\n",
            "\n"
          ]
        },
        {
          "output_type": "stream",
          "name": "stdout",
          "text": [
            "[]\n"
          ]
        },
        {
          "output_type": "stream",
          "name": "stderr",
          "text": [
            "image 1/1 /content/drive/MyDrive/Trabajo_final_VIU/YOLOV8/Dataset/test/images/imagen302-12.jpg: 640x640 1 ['Osteophytos'], 7.4ms\n",
            "Speed: 1.6ms preprocess, 7.4ms inference, 1.3ms postprocess per image at shape (1, 3, 640, 640)\n",
            "\n"
          ]
        },
        {
          "output_type": "stream",
          "name": "stdout",
          "text": [
            "[0]\n"
          ]
        },
        {
          "output_type": "stream",
          "name": "stderr",
          "text": [
            "image 1/1 /content/drive/MyDrive/Trabajo_final_VIU/YOLOV8/Dataset/test/images/imagen303-12.jpg: 640x640 1 ['Osteophytos'], 7.4ms\n",
            "Speed: 1.6ms preprocess, 7.4ms inference, 1.5ms postprocess per image at shape (1, 3, 640, 640)\n",
            "\n"
          ]
        },
        {
          "output_type": "stream",
          "name": "stdout",
          "text": [
            "[0]\n"
          ]
        },
        {
          "output_type": "stream",
          "name": "stderr",
          "text": [
            "image 1/1 /content/drive/MyDrive/Trabajo_final_VIU/YOLOV8/Dataset/test/images/imagen303-17.jpg: 640x640 (no detections), 7.4ms\n",
            "Speed: 1.6ms preprocess, 7.4ms inference, 0.8ms postprocess per image at shape (1, 3, 640, 640)\n",
            "\n"
          ]
        },
        {
          "output_type": "stream",
          "name": "stdout",
          "text": [
            "[]\n"
          ]
        },
        {
          "output_type": "stream",
          "name": "stderr",
          "text": [
            "image 1/1 /content/drive/MyDrive/Trabajo_final_VIU/YOLOV8/Dataset/test/images/imagen304-4.jpg: 640x544 1 ['Osteophytos'], 7.9ms\n",
            "Speed: 1.6ms preprocess, 7.9ms inference, 1.2ms postprocess per image at shape (1, 3, 640, 544)\n",
            "\n"
          ]
        },
        {
          "output_type": "stream",
          "name": "stdout",
          "text": [
            "[0]\n"
          ]
        },
        {
          "output_type": "stream",
          "name": "stderr",
          "text": [
            "image 1/1 /content/drive/MyDrive/Trabajo_final_VIU/YOLOV8/Dataset/test/images/imagen305-13.jpg: 640x640 (no detections), 8.1ms\n",
            "Speed: 1.5ms preprocess, 8.1ms inference, 0.6ms postprocess per image at shape (1, 3, 640, 640)\n",
            "\n"
          ]
        },
        {
          "output_type": "stream",
          "name": "stdout",
          "text": [
            "[]\n"
          ]
        },
        {
          "output_type": "stream",
          "name": "stderr",
          "text": [
            "image 1/1 /content/drive/MyDrive/Trabajo_final_VIU/YOLOV8/Dataset/test/images/imagen305-3.jpg: 640x640 (no detections), 7.4ms\n",
            "Speed: 1.6ms preprocess, 7.4ms inference, 0.8ms postprocess per image at shape (1, 3, 640, 640)\n",
            "\n"
          ]
        },
        {
          "output_type": "stream",
          "name": "stdout",
          "text": [
            "[]\n"
          ]
        },
        {
          "output_type": "stream",
          "name": "stderr",
          "text": [
            "image 1/1 /content/drive/MyDrive/Trabajo_final_VIU/YOLOV8/Dataset/test/images/imagen305-8.jpg: 640x640 4 ['Osteophytos']s, 8.4ms\n",
            "Speed: 1.9ms preprocess, 8.4ms inference, 1.7ms postprocess per image at shape (1, 3, 640, 640)\n",
            "\n"
          ]
        },
        {
          "output_type": "stream",
          "name": "stdout",
          "text": [
            "[0 0 0 0]\n"
          ]
        },
        {
          "output_type": "stream",
          "name": "stderr",
          "text": [
            "image 1/1 /content/drive/MyDrive/Trabajo_final_VIU/YOLOV8/Dataset/test/images/imagen306-4.jpg: 640x576 2 ['Osteophytos']s, 9.4ms\n",
            "Speed: 3.6ms preprocess, 9.4ms inference, 3.3ms postprocess per image at shape (1, 3, 640, 576)\n",
            "\n"
          ]
        },
        {
          "output_type": "stream",
          "name": "stdout",
          "text": [
            "[0 0]\n"
          ]
        },
        {
          "output_type": "stream",
          "name": "stderr",
          "text": [
            "image 1/1 /content/drive/MyDrive/Trabajo_final_VIU/YOLOV8/Dataset/test/images/imagen306-5.jpg: 512x640 2 ['Osteophytos']s, 11.5ms\n",
            "Speed: 1.7ms preprocess, 11.5ms inference, 1.9ms postprocess per image at shape (1, 3, 512, 640)\n",
            "\n"
          ]
        },
        {
          "output_type": "stream",
          "name": "stdout",
          "text": [
            "[0 0]\n"
          ]
        },
        {
          "output_type": "stream",
          "name": "stderr",
          "text": [
            "image 1/1 /content/drive/MyDrive/Trabajo_final_VIU/YOLOV8/Dataset/test/images/imagen306-6.jpg: 608x640 3 ['Osteophytos']s, 8.0ms\n",
            "Speed: 2.6ms preprocess, 8.0ms inference, 1.3ms postprocess per image at shape (1, 3, 608, 640)\n",
            "\n"
          ]
        },
        {
          "output_type": "stream",
          "name": "stdout",
          "text": [
            "[0 0 0]\n"
          ]
        },
        {
          "output_type": "stream",
          "name": "stderr",
          "text": [
            "image 1/1 /content/drive/MyDrive/Trabajo_final_VIU/YOLOV8/Dataset/test/images/imagen306-7.jpg: 640x640 (no detections), 8.1ms\n",
            "Speed: 1.8ms preprocess, 8.1ms inference, 0.7ms postprocess per image at shape (1, 3, 640, 640)\n",
            "\n"
          ]
        },
        {
          "output_type": "stream",
          "name": "stdout",
          "text": [
            "[]\n"
          ]
        },
        {
          "output_type": "stream",
          "name": "stderr",
          "text": [
            "image 1/1 /content/drive/MyDrive/Trabajo_final_VIU/YOLOV8/Dataset/test/images/imagen306-8.jpg: 640x576 1 ['Osteophytos'], 7.9ms\n",
            "Speed: 1.7ms preprocess, 7.9ms inference, 1.2ms postprocess per image at shape (1, 3, 640, 576)\n",
            "\n"
          ]
        },
        {
          "output_type": "stream",
          "name": "stdout",
          "text": [
            "[0]\n"
          ]
        },
        {
          "output_type": "stream",
          "name": "stderr",
          "text": [
            "image 1/1 /content/drive/MyDrive/Trabajo_final_VIU/YOLOV8/Dataset/test/images/imagen307-12.jpg: 640x352 (no detections), 9.8ms\n",
            "Speed: 3.1ms preprocess, 9.8ms inference, 0.7ms postprocess per image at shape (1, 3, 640, 352)\n",
            "\n"
          ]
        },
        {
          "output_type": "stream",
          "name": "stdout",
          "text": [
            "[]\n"
          ]
        },
        {
          "output_type": "stream",
          "name": "stderr",
          "text": [
            "image 1/1 /content/drive/MyDrive/Trabajo_final_VIU/YOLOV8/Dataset/test/images/imagen307-4.jpg: 640x640 (no detections), 8.0ms\n",
            "Speed: 1.7ms preprocess, 8.0ms inference, 0.7ms postprocess per image at shape (1, 3, 640, 640)\n",
            "\n"
          ]
        },
        {
          "output_type": "stream",
          "name": "stdout",
          "text": [
            "[]\n"
          ]
        },
        {
          "output_type": "stream",
          "name": "stderr",
          "text": [
            "image 1/1 /content/drive/MyDrive/Trabajo_final_VIU/YOLOV8/Dataset/test/images/imagen307-5.jpg: 640x512 (no detections), 7.4ms\n",
            "Speed: 1.5ms preprocess, 7.4ms inference, 0.7ms postprocess per image at shape (1, 3, 640, 512)\n",
            "\n"
          ]
        },
        {
          "output_type": "stream",
          "name": "stdout",
          "text": [
            "[]\n"
          ]
        },
        {
          "output_type": "stream",
          "name": "stderr",
          "text": [
            "image 1/1 /content/drive/MyDrive/Trabajo_final_VIU/YOLOV8/Dataset/test/images/imagen307-8.jpg: 640x512 (no detections), 6.5ms\n",
            "Speed: 1.5ms preprocess, 6.5ms inference, 0.7ms postprocess per image at shape (1, 3, 640, 512)\n",
            "\n"
          ]
        },
        {
          "output_type": "stream",
          "name": "stdout",
          "text": [
            "[]\n"
          ]
        },
        {
          "output_type": "stream",
          "name": "stderr",
          "text": [
            "image 1/1 /content/drive/MyDrive/Trabajo_final_VIU/YOLOV8/Dataset/test/images/imagen307-9.jpg: 640x352 1 ['Osteophytos'], 7.1ms\n",
            "Speed: 1.3ms preprocess, 7.1ms inference, 1.3ms postprocess per image at shape (1, 3, 640, 352)\n",
            "\n"
          ]
        },
        {
          "output_type": "stream",
          "name": "stdout",
          "text": [
            "[0]\n"
          ]
        },
        {
          "output_type": "stream",
          "name": "stderr",
          "text": [
            "image 1/1 /content/drive/MyDrive/Trabajo_final_VIU/YOLOV8/Dataset/test/images/imagen308-11.jpg: 640x640 1 ['Osteophytos'], 8.1ms\n",
            "Speed: 1.6ms preprocess, 8.1ms inference, 1.3ms postprocess per image at shape (1, 3, 640, 640)\n",
            "\n"
          ]
        },
        {
          "output_type": "stream",
          "name": "stdout",
          "text": [
            "[0]\n"
          ]
        },
        {
          "output_type": "stream",
          "name": "stderr",
          "text": [
            "image 1/1 /content/drive/MyDrive/Trabajo_final_VIU/YOLOV8/Dataset/test/images/imagen308-2.jpg: 640x640 (no detections), 7.4ms\n",
            "Speed: 1.6ms preprocess, 7.4ms inference, 0.8ms postprocess per image at shape (1, 3, 640, 640)\n",
            "\n"
          ]
        },
        {
          "output_type": "stream",
          "name": "stdout",
          "text": [
            "[]\n"
          ]
        },
        {
          "output_type": "stream",
          "name": "stderr",
          "text": [
            "image 1/1 /content/drive/MyDrive/Trabajo_final_VIU/YOLOV8/Dataset/test/images/imagen308-3.jpg: 640x640 2 ['Osteophytos']s, 9.1ms\n",
            "Speed: 1.9ms preprocess, 9.1ms inference, 1.7ms postprocess per image at shape (1, 3, 640, 640)\n",
            "\n"
          ]
        },
        {
          "output_type": "stream",
          "name": "stdout",
          "text": [
            "[0 0]\n"
          ]
        },
        {
          "output_type": "stream",
          "name": "stderr",
          "text": [
            "image 1/1 /content/drive/MyDrive/Trabajo_final_VIU/YOLOV8/Dataset/test/images/imagen308-6.jpg: 576x640 1 ['Osteophytos'], 11.1ms\n",
            "Speed: 1.8ms preprocess, 11.1ms inference, 1.7ms postprocess per image at shape (1, 3, 576, 640)\n",
            "\n"
          ]
        },
        {
          "output_type": "stream",
          "name": "stdout",
          "text": [
            "[0]\n"
          ]
        },
        {
          "output_type": "stream",
          "name": "stderr",
          "text": [
            "image 1/1 /content/drive/MyDrive/Trabajo_final_VIU/YOLOV8/Dataset/test/images/imagen308-7.jpg: 576x640 2 ['Osteophytos']s, 10.8ms\n",
            "Speed: 1.8ms preprocess, 10.8ms inference, 1.8ms postprocess per image at shape (1, 3, 576, 640)\n",
            "\n"
          ]
        },
        {
          "output_type": "stream",
          "name": "stdout",
          "text": [
            "[0 0]\n"
          ]
        },
        {
          "output_type": "stream",
          "name": "stderr",
          "text": [
            "image 1/1 /content/drive/MyDrive/Trabajo_final_VIU/YOLOV8/Dataset/test/images/imagen309-11.jpg: 640x640 (no detections), 8.1ms\n",
            "Speed: 1.6ms preprocess, 8.1ms inference, 0.7ms postprocess per image at shape (1, 3, 640, 640)\n",
            "\n"
          ]
        },
        {
          "output_type": "stream",
          "name": "stdout",
          "text": [
            "[]\n"
          ]
        },
        {
          "output_type": "stream",
          "name": "stderr",
          "text": [
            "image 1/1 /content/drive/MyDrive/Trabajo_final_VIU/YOLOV8/Dataset/test/images/imagen31-5.jpg: 640x640 1 ['Osteophytos'], 7.4ms\n",
            "Speed: 1.5ms preprocess, 7.4ms inference, 1.5ms postprocess per image at shape (1, 3, 640, 640)\n",
            "\n"
          ]
        },
        {
          "output_type": "stream",
          "name": "stdout",
          "text": [
            "[0]\n"
          ]
        },
        {
          "output_type": "stream",
          "name": "stderr",
          "text": [
            "image 1/1 /content/drive/MyDrive/Trabajo_final_VIU/YOLOV8/Dataset/test/images/imagen31-7.jpg: 640x640 (no detections), 12.2ms\n",
            "Speed: 1.7ms preprocess, 12.2ms inference, 0.7ms postprocess per image at shape (1, 3, 640, 640)\n",
            "\n"
          ]
        },
        {
          "output_type": "stream",
          "name": "stdout",
          "text": [
            "[]\n"
          ]
        },
        {
          "output_type": "stream",
          "name": "stderr",
          "text": [
            "image 1/1 /content/drive/MyDrive/Trabajo_final_VIU/YOLOV8/Dataset/test/images/imagen310-10.jpg: 640x640 3 ['Osteophytos']s, 7.4ms\n",
            "Speed: 1.7ms preprocess, 7.4ms inference, 1.4ms postprocess per image at shape (1, 3, 640, 640)\n",
            "\n"
          ]
        },
        {
          "output_type": "stream",
          "name": "stdout",
          "text": [
            "[0 0 0]\n"
          ]
        },
        {
          "output_type": "stream",
          "name": "stderr",
          "text": [
            "image 1/1 /content/drive/MyDrive/Trabajo_final_VIU/YOLOV8/Dataset/test/images/imagen311-10.jpg: 640x640 4 ['Osteophytos']s, 7.4ms\n",
            "Speed: 1.7ms preprocess, 7.4ms inference, 1.4ms postprocess per image at shape (1, 3, 640, 640)\n",
            "\n"
          ]
        },
        {
          "output_type": "stream",
          "name": "stdout",
          "text": [
            "[0 0 0 0]\n"
          ]
        },
        {
          "output_type": "stream",
          "name": "stderr",
          "text": [
            "image 1/1 /content/drive/MyDrive/Trabajo_final_VIU/YOLOV8/Dataset/test/images/imagen312-3.jpg: 640x640 (no detections), 7.4ms\n",
            "Speed: 1.6ms preprocess, 7.4ms inference, 0.8ms postprocess per image at shape (1, 3, 640, 640)\n",
            "\n"
          ]
        },
        {
          "output_type": "stream",
          "name": "stdout",
          "text": [
            "[]\n"
          ]
        },
        {
          "output_type": "stream",
          "name": "stderr",
          "text": [
            "image 1/1 /content/drive/MyDrive/Trabajo_final_VIU/YOLOV8/Dataset/test/images/imagen313-8.jpg: 640x640 (no detections), 7.4ms\n",
            "Speed: 1.8ms preprocess, 7.4ms inference, 0.8ms postprocess per image at shape (1, 3, 640, 640)\n",
            "\n"
          ]
        },
        {
          "output_type": "stream",
          "name": "stdout",
          "text": [
            "[]\n"
          ]
        },
        {
          "output_type": "stream",
          "name": "stderr",
          "text": [
            "image 1/1 /content/drive/MyDrive/Trabajo_final_VIU/YOLOV8/Dataset/test/images/imagen314-6.jpg: 640x544 3 ['Osteophytos']s, 7.9ms\n",
            "Speed: 1.6ms preprocess, 7.9ms inference, 1.3ms postprocess per image at shape (1, 3, 640, 544)\n",
            "\n"
          ]
        },
        {
          "output_type": "stream",
          "name": "stdout",
          "text": [
            "[0 0 0]\n"
          ]
        },
        {
          "output_type": "stream",
          "name": "stderr",
          "text": [
            "image 1/1 /content/drive/MyDrive/Trabajo_final_VIU/YOLOV8/Dataset/test/images/imagen315-5.jpg: 640x640 1 ['Osteophytos'], 8.2ms\n",
            "Speed: 1.8ms preprocess, 8.2ms inference, 1.3ms postprocess per image at shape (1, 3, 640, 640)\n",
            "\n"
          ]
        },
        {
          "output_type": "stream",
          "name": "stdout",
          "text": [
            "[0]\n"
          ]
        },
        {
          "output_type": "stream",
          "name": "stderr",
          "text": [
            "image 1/1 /content/drive/MyDrive/Trabajo_final_VIU/YOLOV8/Dataset/test/images/imagen315-6.jpg: 640x640 1 ['Osteophytos'], 7.4ms\n",
            "Speed: 1.8ms preprocess, 7.4ms inference, 1.5ms postprocess per image at shape (1, 3, 640, 640)\n",
            "\n"
          ]
        },
        {
          "output_type": "stream",
          "name": "stdout",
          "text": [
            "[0]\n"
          ]
        },
        {
          "output_type": "stream",
          "name": "stderr",
          "text": [
            "image 1/1 /content/drive/MyDrive/Trabajo_final_VIU/YOLOV8/Dataset/test/images/imagen316-7.jpg: 640x640 1 ['Osteophytos'], 8.6ms\n",
            "Speed: 1.9ms preprocess, 8.6ms inference, 1.7ms postprocess per image at shape (1, 3, 640, 640)\n",
            "\n"
          ]
        },
        {
          "output_type": "stream",
          "name": "stdout",
          "text": [
            "[0]\n"
          ]
        },
        {
          "output_type": "stream",
          "name": "stderr",
          "text": [
            "image 1/1 /content/drive/MyDrive/Trabajo_final_VIU/YOLOV8/Dataset/test/images/imagen317-3.jpg: 640x640 3 ['Osteophytos']s, 8.4ms\n",
            "Speed: 1.9ms preprocess, 8.4ms inference, 1.6ms postprocess per image at shape (1, 3, 640, 640)\n",
            "\n"
          ]
        },
        {
          "output_type": "stream",
          "name": "stdout",
          "text": [
            "[0 0 0]\n"
          ]
        },
        {
          "output_type": "stream",
          "name": "stderr",
          "text": [
            "image 1/1 /content/drive/MyDrive/Trabajo_final_VIU/YOLOV8/Dataset/test/images/imagen318-3.jpg: 640x640 (no detections), 8.4ms\n",
            "Speed: 2.0ms preprocess, 8.4ms inference, 1.0ms postprocess per image at shape (1, 3, 640, 640)\n",
            "\n"
          ]
        },
        {
          "output_type": "stream",
          "name": "stdout",
          "text": [
            "[]\n"
          ]
        },
        {
          "output_type": "stream",
          "name": "stderr",
          "text": [
            "image 1/1 /content/drive/MyDrive/Trabajo_final_VIU/YOLOV8/Dataset/test/images/imagen318-4.jpg: 640x640 (no detections), 7.4ms\n",
            "Speed: 2.7ms preprocess, 7.4ms inference, 1.0ms postprocess per image at shape (1, 3, 640, 640)\n",
            "\n"
          ]
        },
        {
          "output_type": "stream",
          "name": "stdout",
          "text": [
            "[]\n"
          ]
        },
        {
          "output_type": "stream",
          "name": "stderr",
          "text": [
            "image 1/1 /content/drive/MyDrive/Trabajo_final_VIU/YOLOV8/Dataset/test/images/imagen318-5.jpg: 640x640 1 ['Osteophytos'], 7.4ms\n",
            "Speed: 1.7ms preprocess, 7.4ms inference, 1.5ms postprocess per image at shape (1, 3, 640, 640)\n",
            "\n"
          ]
        },
        {
          "output_type": "stream",
          "name": "stdout",
          "text": [
            "[0]\n"
          ]
        },
        {
          "output_type": "stream",
          "name": "stderr",
          "text": [
            "image 1/1 /content/drive/MyDrive/Trabajo_final_VIU/YOLOV8/Dataset/test/images/imagen318-6.jpg: 640x608 (no detections), 8.0ms\n",
            "Speed: 1.8ms preprocess, 8.0ms inference, 0.7ms postprocess per image at shape (1, 3, 640, 608)\n",
            "\n"
          ]
        },
        {
          "output_type": "stream",
          "name": "stdout",
          "text": [
            "[]\n"
          ]
        },
        {
          "output_type": "stream",
          "name": "stderr",
          "text": [
            "image 1/1 /content/drive/MyDrive/Trabajo_final_VIU/YOLOV8/Dataset/test/images/imagen319-4.jpg: 640x608 1 ['Osteophytos'], 7.3ms\n",
            "Speed: 1.7ms preprocess, 7.3ms inference, 1.3ms postprocess per image at shape (1, 3, 640, 608)\n",
            "\n"
          ]
        },
        {
          "output_type": "stream",
          "name": "stdout",
          "text": [
            "[0]\n"
          ]
        },
        {
          "output_type": "stream",
          "name": "stderr",
          "text": [
            "image 1/1 /content/drive/MyDrive/Trabajo_final_VIU/YOLOV8/Dataset/test/images/imagen319-6.jpg: 640x608 (no detections), 7.3ms\n",
            "Speed: 1.7ms preprocess, 7.3ms inference, 0.7ms postprocess per image at shape (1, 3, 640, 608)\n",
            "\n"
          ]
        },
        {
          "output_type": "stream",
          "name": "stdout",
          "text": [
            "[]\n"
          ]
        },
        {
          "output_type": "stream",
          "name": "stderr",
          "text": [
            "image 1/1 /content/drive/MyDrive/Trabajo_final_VIU/YOLOV8/Dataset/test/images/imagen32-4.jpg: 640x544 1 ['Osteophytos'], 7.8ms\n",
            "Speed: 1.5ms preprocess, 7.8ms inference, 1.4ms postprocess per image at shape (1, 3, 640, 544)\n",
            "\n"
          ]
        },
        {
          "output_type": "stream",
          "name": "stdout",
          "text": [
            "[0]\n"
          ]
        },
        {
          "output_type": "stream",
          "name": "stderr",
          "text": [
            "image 1/1 /content/drive/MyDrive/Trabajo_final_VIU/YOLOV8/Dataset/test/images/imagen320-11.jpg: 640x640 (no detections), 8.1ms\n",
            "Speed: 1.6ms preprocess, 8.1ms inference, 0.7ms postprocess per image at shape (1, 3, 640, 640)\n",
            "\n"
          ]
        },
        {
          "output_type": "stream",
          "name": "stdout",
          "text": [
            "[]\n"
          ]
        },
        {
          "output_type": "stream",
          "name": "stderr",
          "text": [
            "image 1/1 /content/drive/MyDrive/Trabajo_final_VIU/YOLOV8/Dataset/test/images/imagen320-5.jpg: 608x640 1 ['Osteophytos'], 8.1ms\n",
            "Speed: 1.7ms preprocess, 8.1ms inference, 1.3ms postprocess per image at shape (1, 3, 608, 640)\n",
            "\n"
          ]
        },
        {
          "output_type": "stream",
          "name": "stdout",
          "text": [
            "[0]\n"
          ]
        },
        {
          "output_type": "stream",
          "name": "stderr",
          "text": [
            "image 1/1 /content/drive/MyDrive/Trabajo_final_VIU/YOLOV8/Dataset/test/images/imagen320-8.jpg: 576x640 1 ['Osteophytos'], 7.9ms\n",
            "Speed: 1.5ms preprocess, 7.9ms inference, 1.4ms postprocess per image at shape (1, 3, 576, 640)\n",
            "\n"
          ]
        },
        {
          "output_type": "stream",
          "name": "stdout",
          "text": [
            "[0]\n"
          ]
        },
        {
          "output_type": "stream",
          "name": "stderr",
          "text": [
            "image 1/1 /content/drive/MyDrive/Trabajo_final_VIU/YOLOV8/Dataset/test/images/imagen321-4.jpg: 640x608 (no detections), 8.0ms\n",
            "Speed: 1.7ms preprocess, 8.0ms inference, 0.7ms postprocess per image at shape (1, 3, 640, 608)\n",
            "\n"
          ]
        },
        {
          "output_type": "stream",
          "name": "stdout",
          "text": [
            "[]\n"
          ]
        },
        {
          "output_type": "stream",
          "name": "stderr",
          "text": [
            "image 1/1 /content/drive/MyDrive/Trabajo_final_VIU/YOLOV8/Dataset/test/images/imagen321-6.jpg: 640x608 (no detections), 7.3ms\n",
            "Speed: 1.7ms preprocess, 7.3ms inference, 0.7ms postprocess per image at shape (1, 3, 640, 608)\n",
            "\n"
          ]
        },
        {
          "output_type": "stream",
          "name": "stdout",
          "text": [
            "[]\n"
          ]
        },
        {
          "output_type": "stream",
          "name": "stderr",
          "text": [
            "image 1/1 /content/drive/MyDrive/Trabajo_final_VIU/YOLOV8/Dataset/test/images/imagen322-3.jpg: 640x640 (no detections), 12.0ms\n",
            "Speed: 2.0ms preprocess, 12.0ms inference, 1.1ms postprocess per image at shape (1, 3, 640, 640)\n",
            "\n"
          ]
        },
        {
          "output_type": "stream",
          "name": "stdout",
          "text": [
            "[]\n"
          ]
        },
        {
          "output_type": "stream",
          "name": "stderr",
          "text": [
            "image 1/1 /content/drive/MyDrive/Trabajo_final_VIU/YOLOV8/Dataset/test/images/imagen322-5.jpg: 640x640 3 ['Osteophytos']s, 9.2ms\n",
            "Speed: 2.5ms preprocess, 9.2ms inference, 2.5ms postprocess per image at shape (1, 3, 640, 640)\n",
            "\n"
          ]
        },
        {
          "output_type": "stream",
          "name": "stdout",
          "text": [
            "[0 0 0]\n"
          ]
        },
        {
          "output_type": "stream",
          "name": "stderr",
          "text": [
            "image 1/1 /content/drive/MyDrive/Trabajo_final_VIU/YOLOV8/Dataset/test/images/imagen322-7.jpg: 640x640 1 ['Osteophytos'], 8.4ms\n",
            "Speed: 2.0ms preprocess, 8.4ms inference, 1.7ms postprocess per image at shape (1, 3, 640, 640)\n",
            "\n"
          ]
        },
        {
          "output_type": "stream",
          "name": "stdout",
          "text": [
            "[0]\n"
          ]
        },
        {
          "output_type": "stream",
          "name": "stderr",
          "text": [
            "image 1/1 /content/drive/MyDrive/Trabajo_final_VIU/YOLOV8/Dataset/test/images/imagen323-7.jpg: 640x640 1 ['Osteophytos'], 7.4ms\n",
            "Speed: 1.7ms preprocess, 7.4ms inference, 1.3ms postprocess per image at shape (1, 3, 640, 640)\n",
            "\n"
          ]
        },
        {
          "output_type": "stream",
          "name": "stdout",
          "text": [
            "[0]\n"
          ]
        },
        {
          "output_type": "stream",
          "name": "stderr",
          "text": [
            "image 1/1 /content/drive/MyDrive/Trabajo_final_VIU/YOLOV8/Dataset/test/images/imagen324-7.jpg: 640x640 (no detections), 7.4ms\n",
            "Speed: 1.7ms preprocess, 7.4ms inference, 0.9ms postprocess per image at shape (1, 3, 640, 640)\n",
            "\n"
          ]
        },
        {
          "output_type": "stream",
          "name": "stdout",
          "text": [
            "[]\n"
          ]
        },
        {
          "output_type": "stream",
          "name": "stderr",
          "text": [
            "image 1/1 /content/drive/MyDrive/Trabajo_final_VIU/YOLOV8/Dataset/test/images/imagen325-7.jpg: 640x640 (no detections), 7.4ms\n",
            "Speed: 1.6ms preprocess, 7.4ms inference, 1.2ms postprocess per image at shape (1, 3, 640, 640)\n",
            "\n"
          ]
        },
        {
          "output_type": "stream",
          "name": "stdout",
          "text": [
            "[]\n"
          ]
        },
        {
          "output_type": "stream",
          "name": "stderr",
          "text": [
            "image 1/1 /content/drive/MyDrive/Trabajo_final_VIU/YOLOV8/Dataset/test/images/imagen326-7.jpg: 640x640 (no detections), 7.4ms\n",
            "Speed: 1.8ms preprocess, 7.4ms inference, 0.8ms postprocess per image at shape (1, 3, 640, 640)\n",
            "\n"
          ]
        },
        {
          "output_type": "stream",
          "name": "stdout",
          "text": [
            "[]\n"
          ]
        },
        {
          "output_type": "stream",
          "name": "stderr",
          "text": [
            "image 1/1 /content/drive/MyDrive/Trabajo_final_VIU/YOLOV8/Dataset/test/images/imagen327-4.jpg: 640x576 1 ['Osteophytos'], 8.1ms\n",
            "Speed: 2.6ms preprocess, 8.1ms inference, 1.4ms postprocess per image at shape (1, 3, 640, 576)\n",
            "\n"
          ]
        },
        {
          "output_type": "stream",
          "name": "stdout",
          "text": [
            "[0]\n"
          ]
        },
        {
          "output_type": "stream",
          "name": "stderr",
          "text": [
            "image 1/1 /content/drive/MyDrive/Trabajo_final_VIU/YOLOV8/Dataset/test/images/imagen327-6.jpg: 640x544 1 ['Osteophytos'], 7.9ms\n",
            "Speed: 2.6ms preprocess, 7.9ms inference, 1.3ms postprocess per image at shape (1, 3, 640, 544)\n",
            "\n"
          ]
        },
        {
          "output_type": "stream",
          "name": "stdout",
          "text": [
            "[0]\n"
          ]
        },
        {
          "output_type": "stream",
          "name": "stderr",
          "text": [
            "image 1/1 /content/drive/MyDrive/Trabajo_final_VIU/YOLOV8/Dataset/test/images/imagen327-8.jpg: 640x480 1 ['Osteophytos'], 7.4ms\n",
            "Speed: 1.5ms preprocess, 7.4ms inference, 1.4ms postprocess per image at shape (1, 3, 640, 480)\n",
            "\n"
          ]
        },
        {
          "output_type": "stream",
          "name": "stdout",
          "text": [
            "[0]\n"
          ]
        },
        {
          "output_type": "stream",
          "name": "stderr",
          "text": [
            "image 1/1 /content/drive/MyDrive/Trabajo_final_VIU/YOLOV8/Dataset/test/images/imagen328-5.jpg: 640x640 1 ['Osteophytos'], 8.3ms\n",
            "Speed: 1.6ms preprocess, 8.3ms inference, 1.4ms postprocess per image at shape (1, 3, 640, 640)\n",
            "\n"
          ]
        },
        {
          "output_type": "stream",
          "name": "stdout",
          "text": [
            "[0]\n"
          ]
        },
        {
          "output_type": "stream",
          "name": "stderr",
          "text": [
            "image 1/1 /content/drive/MyDrive/Trabajo_final_VIU/YOLOV8/Dataset/test/images/imagen328-6.jpg: 640x448 3 ['Osteophytos']s, 7.3ms\n",
            "Speed: 1.6ms preprocess, 7.3ms inference, 1.3ms postprocess per image at shape (1, 3, 640, 448)\n",
            "\n"
          ]
        },
        {
          "output_type": "stream",
          "name": "stdout",
          "text": [
            "[0 0 0]\n"
          ]
        },
        {
          "output_type": "stream",
          "name": "stderr",
          "text": [
            "image 1/1 /content/drive/MyDrive/Trabajo_final_VIU/YOLOV8/Dataset/test/images/imagen329-13.jpg: 640x640 2 ['Osteophytos']s, 8.1ms\n",
            "Speed: 1.7ms preprocess, 8.1ms inference, 1.4ms postprocess per image at shape (1, 3, 640, 640)\n",
            "\n"
          ]
        },
        {
          "output_type": "stream",
          "name": "stdout",
          "text": [
            "[0 0]\n"
          ]
        },
        {
          "output_type": "stream",
          "name": "stderr",
          "text": [
            "image 1/1 /content/drive/MyDrive/Trabajo_final_VIU/YOLOV8/Dataset/test/images/imagen33-12.jpg: 640x640 1 ['Osteophytos'], 7.4ms\n",
            "Speed: 1.6ms preprocess, 7.4ms inference, 1.4ms postprocess per image at shape (1, 3, 640, 640)\n",
            "\n"
          ]
        },
        {
          "output_type": "stream",
          "name": "stdout",
          "text": [
            "[0]\n"
          ]
        },
        {
          "output_type": "stream",
          "name": "stderr",
          "text": [
            "image 1/1 /content/drive/MyDrive/Trabajo_final_VIU/YOLOV8/Dataset/test/images/imagen330-12.jpg: 640x640 1 ['Osteophytos'], 7.9ms\n",
            "Speed: 1.7ms preprocess, 7.9ms inference, 1.5ms postprocess per image at shape (1, 3, 640, 640)\n",
            "\n"
          ]
        },
        {
          "output_type": "stream",
          "name": "stdout",
          "text": [
            "[0]\n"
          ]
        },
        {
          "output_type": "stream",
          "name": "stderr",
          "text": [
            "image 1/1 /content/drive/MyDrive/Trabajo_final_VIU/YOLOV8/Dataset/test/images/imagen331-13.jpg: 640x640 (no detections), 10.9ms\n",
            "Speed: 2.1ms preprocess, 10.9ms inference, 0.9ms postprocess per image at shape (1, 3, 640, 640)\n",
            "\n"
          ]
        },
        {
          "output_type": "stream",
          "name": "stdout",
          "text": [
            "[]\n"
          ]
        },
        {
          "output_type": "stream",
          "name": "stderr",
          "text": [
            "image 1/1 /content/drive/MyDrive/Trabajo_final_VIU/YOLOV8/Dataset/test/images/imagen332-6.jpg: 640x480 (no detections), 10.1ms\n",
            "Speed: 1.6ms preprocess, 10.1ms inference, 0.9ms postprocess per image at shape (1, 3, 640, 480)\n",
            "\n"
          ]
        },
        {
          "output_type": "stream",
          "name": "stdout",
          "text": [
            "[]\n"
          ]
        },
        {
          "output_type": "stream",
          "name": "stderr",
          "text": [
            "image 1/1 /content/drive/MyDrive/Trabajo_final_VIU/YOLOV8/Dataset/test/images/imagen333-7.jpg: 640x640 (no detections), 10.3ms\n",
            "Speed: 2.1ms preprocess, 10.3ms inference, 1.0ms postprocess per image at shape (1, 3, 640, 640)\n",
            "\n"
          ]
        },
        {
          "output_type": "stream",
          "name": "stdout",
          "text": [
            "[]\n"
          ]
        },
        {
          "output_type": "stream",
          "name": "stderr",
          "text": [
            "image 1/1 /content/drive/MyDrive/Trabajo_final_VIU/YOLOV8/Dataset/test/images/imagen333-8.jpg: 640x640 2 ['Osteophytos']s, 7.6ms\n",
            "Speed: 1.7ms preprocess, 7.6ms inference, 1.4ms postprocess per image at shape (1, 3, 640, 640)\n",
            "\n"
          ]
        },
        {
          "output_type": "stream",
          "name": "stdout",
          "text": [
            "[0 0]\n"
          ]
        },
        {
          "output_type": "stream",
          "name": "stderr",
          "text": [
            "image 1/1 /content/drive/MyDrive/Trabajo_final_VIU/YOLOV8/Dataset/test/images/imagen334-11.jpg: 640x640 1 ['Osteophytos'], 7.4ms\n",
            "Speed: 1.7ms preprocess, 7.4ms inference, 1.5ms postprocess per image at shape (1, 3, 640, 640)\n",
            "\n"
          ]
        },
        {
          "output_type": "stream",
          "name": "stdout",
          "text": [
            "[0]\n"
          ]
        },
        {
          "output_type": "stream",
          "name": "stderr",
          "text": [
            "image 1/1 /content/drive/MyDrive/Trabajo_final_VIU/YOLOV8/Dataset/test/images/imagen335-4.jpg: 640x640 2 ['Osteophytos']s, 8.7ms\n",
            "Speed: 1.8ms preprocess, 8.7ms inference, 1.6ms postprocess per image at shape (1, 3, 640, 640)\n",
            "\n"
          ]
        },
        {
          "output_type": "stream",
          "name": "stdout",
          "text": [
            "[0 0]\n"
          ]
        },
        {
          "output_type": "stream",
          "name": "stderr",
          "text": [
            "image 1/1 /content/drive/MyDrive/Trabajo_final_VIU/YOLOV8/Dataset/test/images/imagen335-6.jpg: 640x640 2 ['Osteophytos']s, 7.4ms\n",
            "Speed: 1.8ms preprocess, 7.4ms inference, 1.5ms postprocess per image at shape (1, 3, 640, 640)\n",
            "\n"
          ]
        },
        {
          "output_type": "stream",
          "name": "stdout",
          "text": [
            "[0 0]\n"
          ]
        },
        {
          "output_type": "stream",
          "name": "stderr",
          "text": [
            "image 1/1 /content/drive/MyDrive/Trabajo_final_VIU/YOLOV8/Dataset/test/images/imagen335-8.jpg: 640x640 (no detections), 10.3ms\n",
            "Speed: 1.7ms preprocess, 10.3ms inference, 0.8ms postprocess per image at shape (1, 3, 640, 640)\n",
            "\n"
          ]
        },
        {
          "output_type": "stream",
          "name": "stdout",
          "text": [
            "[]\n"
          ]
        },
        {
          "output_type": "stream",
          "name": "stderr",
          "text": [
            "image 1/1 /content/drive/MyDrive/Trabajo_final_VIU/YOLOV8/Dataset/test/images/imagen336-3.jpg: 640x640 2 ['Osteophytos']s, 7.9ms\n",
            "Speed: 1.6ms preprocess, 7.9ms inference, 1.4ms postprocess per image at shape (1, 3, 640, 640)\n",
            "\n"
          ]
        },
        {
          "output_type": "stream",
          "name": "stdout",
          "text": [
            "[0 0]\n"
          ]
        },
        {
          "output_type": "stream",
          "name": "stderr",
          "text": [
            "image 1/1 /content/drive/MyDrive/Trabajo_final_VIU/YOLOV8/Dataset/test/images/imagen336-4.jpg: 640x640 2 ['Osteophytos']s, 7.4ms\n",
            "Speed: 1.9ms preprocess, 7.4ms inference, 1.5ms postprocess per image at shape (1, 3, 640, 640)\n",
            "\n"
          ]
        },
        {
          "output_type": "stream",
          "name": "stdout",
          "text": [
            "[0 0]\n"
          ]
        },
        {
          "output_type": "stream",
          "name": "stderr",
          "text": [
            "image 1/1 /content/drive/MyDrive/Trabajo_final_VIU/YOLOV8/Dataset/test/images/imagen337-6.jpg: 640x576 1 ['Osteophytos'], 8.0ms\n",
            "Speed: 2.5ms preprocess, 8.0ms inference, 1.3ms postprocess per image at shape (1, 3, 640, 576)\n",
            "\n"
          ]
        },
        {
          "output_type": "stream",
          "name": "stdout",
          "text": [
            "[0]\n"
          ]
        },
        {
          "output_type": "stream",
          "name": "stderr",
          "text": [
            "image 1/1 /content/drive/MyDrive/Trabajo_final_VIU/YOLOV8/Dataset/test/images/imagen337-8.jpg: 640x480 (no detections), 8.0ms\n",
            "Speed: 1.5ms preprocess, 8.0ms inference, 0.9ms postprocess per image at shape (1, 3, 640, 480)\n",
            "\n"
          ]
        },
        {
          "output_type": "stream",
          "name": "stdout",
          "text": [
            "[]\n"
          ]
        },
        {
          "output_type": "stream",
          "name": "stderr",
          "text": [
            "image 1/1 /content/drive/MyDrive/Trabajo_final_VIU/YOLOV8/Dataset/test/images/imagen338-3.jpg: 576x640 2 ['Osteophytos']s, 8.8ms\n",
            "Speed: 1.6ms preprocess, 8.8ms inference, 1.4ms postprocess per image at shape (1, 3, 576, 640)\n",
            "\n"
          ]
        },
        {
          "output_type": "stream",
          "name": "stdout",
          "text": [
            "[0 0]\n"
          ]
        },
        {
          "output_type": "stream",
          "name": "stderr",
          "text": [
            "image 1/1 /content/drive/MyDrive/Trabajo_final_VIU/YOLOV8/Dataset/test/images/imagen338-4.jpg: 640x640 1 ['Osteophytos'], 9.1ms\n",
            "Speed: 2.7ms preprocess, 9.1ms inference, 1.8ms postprocess per image at shape (1, 3, 640, 640)\n",
            "\n"
          ]
        },
        {
          "output_type": "stream",
          "name": "stdout",
          "text": [
            "[0]\n"
          ]
        },
        {
          "output_type": "stream",
          "name": "stderr",
          "text": [
            "image 1/1 /content/drive/MyDrive/Trabajo_final_VIU/YOLOV8/Dataset/test/images/imagen338-5.jpg: 640x640 (no detections), 7.4ms\n",
            "Speed: 1.8ms preprocess, 7.4ms inference, 0.8ms postprocess per image at shape (1, 3, 640, 640)\n",
            "\n"
          ]
        },
        {
          "output_type": "stream",
          "name": "stdout",
          "text": [
            "[]\n"
          ]
        },
        {
          "output_type": "stream",
          "name": "stderr",
          "text": [
            "image 1/1 /content/drive/MyDrive/Trabajo_final_VIU/YOLOV8/Dataset/test/images/imagen338-6.jpg: 640x608 2 ['Osteophytos']s, 9.3ms\n",
            "Speed: 2.1ms preprocess, 9.3ms inference, 1.7ms postprocess per image at shape (1, 3, 640, 608)\n",
            "\n"
          ]
        },
        {
          "output_type": "stream",
          "name": "stdout",
          "text": [
            "[0 0]\n"
          ]
        },
        {
          "output_type": "stream",
          "name": "stderr",
          "text": [
            "image 1/1 /content/drive/MyDrive/Trabajo_final_VIU/YOLOV8/Dataset/test/images/imagen339-1.jpg: 640x640 1 ['Osteophytos'], 11.8ms\n",
            "Speed: 3.6ms preprocess, 11.8ms inference, 1.7ms postprocess per image at shape (1, 3, 640, 640)\n",
            "\n"
          ]
        },
        {
          "output_type": "stream",
          "name": "stdout",
          "text": [
            "[0]\n"
          ]
        },
        {
          "output_type": "stream",
          "name": "stderr",
          "text": [
            "image 1/1 /content/drive/MyDrive/Trabajo_final_VIU/YOLOV8/Dataset/test/images/imagen339-3.jpg: 640x640 2 ['Osteophytos']s, 10.6ms\n",
            "Speed: 2.0ms preprocess, 10.6ms inference, 1.7ms postprocess per image at shape (1, 3, 640, 640)\n",
            "\n"
          ]
        },
        {
          "output_type": "stream",
          "name": "stdout",
          "text": [
            "[0 0]\n"
          ]
        },
        {
          "output_type": "stream",
          "name": "stderr",
          "text": [
            "image 1/1 /content/drive/MyDrive/Trabajo_final_VIU/YOLOV8/Dataset/test/images/imagen34-13.jpg: 640x640 7 ['Osteophytos']s, 7.4ms\n",
            "Speed: 1.9ms preprocess, 7.4ms inference, 1.4ms postprocess per image at shape (1, 3, 640, 640)\n",
            "\n"
          ]
        },
        {
          "output_type": "stream",
          "name": "stdout",
          "text": [
            "[0 0 0 0 0 0 0]\n"
          ]
        },
        {
          "output_type": "stream",
          "name": "stderr",
          "text": [
            "image 1/1 /content/drive/MyDrive/Trabajo_final_VIU/YOLOV8/Dataset/test/images/imagen34-18.jpg: 640x640 2 ['Osteophytos']s, 7.4ms\n",
            "Speed: 1.8ms preprocess, 7.4ms inference, 1.4ms postprocess per image at shape (1, 3, 640, 640)\n",
            "\n"
          ]
        },
        {
          "output_type": "stream",
          "name": "stdout",
          "text": [
            "[0 0]\n"
          ]
        },
        {
          "output_type": "stream",
          "name": "stderr",
          "text": [
            "image 1/1 /content/drive/MyDrive/Trabajo_final_VIU/YOLOV8/Dataset/test/images/imagen34-8.jpg: 576x640 1 ['Osteophytos'], 7.9ms\n",
            "Speed: 1.5ms preprocess, 7.9ms inference, 1.4ms postprocess per image at shape (1, 3, 576, 640)\n",
            "\n"
          ]
        },
        {
          "output_type": "stream",
          "name": "stdout",
          "text": [
            "[0]\n"
          ]
        },
        {
          "output_type": "stream",
          "name": "stderr",
          "text": [
            "image 1/1 /content/drive/MyDrive/Trabajo_final_VIU/YOLOV8/Dataset/test/images/imagen340-13.jpg: 640x640 (no detections), 8.2ms\n",
            "Speed: 1.6ms preprocess, 8.2ms inference, 0.7ms postprocess per image at shape (1, 3, 640, 640)\n",
            "\n"
          ]
        },
        {
          "output_type": "stream",
          "name": "stdout",
          "text": [
            "[]\n"
          ]
        },
        {
          "output_type": "stream",
          "name": "stderr",
          "text": [
            "image 1/1 /content/drive/MyDrive/Trabajo_final_VIU/YOLOV8/Dataset/test/images/imagen341-10.jpg: 640x640 3 ['Osteophytos']s, 7.5ms\n",
            "Speed: 1.6ms preprocess, 7.5ms inference, 1.3ms postprocess per image at shape (1, 3, 640, 640)\n",
            "\n"
          ]
        },
        {
          "output_type": "stream",
          "name": "stdout",
          "text": [
            "[0 0 0]\n"
          ]
        },
        {
          "output_type": "stream",
          "name": "stderr",
          "text": [
            "image 1/1 /content/drive/MyDrive/Trabajo_final_VIU/YOLOV8/Dataset/test/images/imagen341-11.jpg: 640x640 3 ['Osteophytos']s, 7.4ms\n",
            "Speed: 1.6ms preprocess, 7.4ms inference, 1.4ms postprocess per image at shape (1, 3, 640, 640)\n",
            "\n"
          ]
        },
        {
          "output_type": "stream",
          "name": "stdout",
          "text": [
            "[0 0 0]\n"
          ]
        },
        {
          "output_type": "stream",
          "name": "stderr",
          "text": [
            "image 1/1 /content/drive/MyDrive/Trabajo_final_VIU/YOLOV8/Dataset/test/images/imagen341-6.jpg: 608x640 2 ['Osteophytos']s, 10.8ms\n",
            "Speed: 1.6ms preprocess, 10.8ms inference, 1.4ms postprocess per image at shape (1, 3, 608, 640)\n",
            "\n"
          ]
        },
        {
          "output_type": "stream",
          "name": "stdout",
          "text": [
            "[0 0]\n"
          ]
        },
        {
          "output_type": "stream",
          "name": "stderr",
          "text": [
            "image 1/1 /content/drive/MyDrive/Trabajo_final_VIU/YOLOV8/Dataset/test/images/imagen341-7.jpg: 608x640 2 ['Osteophytos']s, 7.3ms\n",
            "Speed: 1.7ms preprocess, 7.3ms inference, 1.4ms postprocess per image at shape (1, 3, 608, 640)\n",
            "\n"
          ]
        },
        {
          "output_type": "stream",
          "name": "stdout",
          "text": [
            "[0 0]\n"
          ]
        },
        {
          "output_type": "stream",
          "name": "stderr",
          "text": [
            "image 1/1 /content/drive/MyDrive/Trabajo_final_VIU/YOLOV8/Dataset/test/images/imagen342-13.jpg: 544x640 3 ['Osteophytos']s, 7.9ms\n",
            "Speed: 1.6ms preprocess, 7.9ms inference, 1.3ms postprocess per image at shape (1, 3, 544, 640)\n",
            "\n"
          ]
        },
        {
          "output_type": "stream",
          "name": "stdout",
          "text": [
            "[0 0 0]\n"
          ]
        },
        {
          "output_type": "stream",
          "name": "stderr",
          "text": [
            "image 1/1 /content/drive/MyDrive/Trabajo_final_VIU/YOLOV8/Dataset/test/images/imagen342-18.jpg: 640x640 3 ['Osteophytos']s, 8.3ms\n",
            "Speed: 1.6ms preprocess, 8.3ms inference, 1.3ms postprocess per image at shape (1, 3, 640, 640)\n",
            "\n"
          ]
        },
        {
          "output_type": "stream",
          "name": "stdout",
          "text": [
            "[0 0 0]\n"
          ]
        },
        {
          "output_type": "stream",
          "name": "stderr",
          "text": [
            "image 1/1 /content/drive/MyDrive/Trabajo_final_VIU/YOLOV8/Dataset/test/images/imagen342-23.jpg: 640x640 (no detections), 8.4ms\n",
            "Speed: 2.1ms preprocess, 8.4ms inference, 0.9ms postprocess per image at shape (1, 3, 640, 640)\n",
            "\n"
          ]
        },
        {
          "output_type": "stream",
          "name": "stdout",
          "text": [
            "[]\n"
          ]
        },
        {
          "output_type": "stream",
          "name": "stderr",
          "text": [
            "image 1/1 /content/drive/MyDrive/Trabajo_final_VIU/YOLOV8/Dataset/test/images/imagen343-5.jpg: 640x640 2 ['Osteophytos']s, 8.7ms\n",
            "Speed: 1.8ms preprocess, 8.7ms inference, 1.7ms postprocess per image at shape (1, 3, 640, 640)\n",
            "\n"
          ]
        },
        {
          "output_type": "stream",
          "name": "stdout",
          "text": [
            "[0 0]\n"
          ]
        },
        {
          "output_type": "stream",
          "name": "stderr",
          "text": [
            "image 1/1 /content/drive/MyDrive/Trabajo_final_VIU/YOLOV8/Dataset/test/images/imagen344-6.jpg: 640x576 1 ['Osteophytos'], 9.6ms\n",
            "Speed: 2.2ms preprocess, 9.6ms inference, 1.6ms postprocess per image at shape (1, 3, 640, 576)\n",
            "\n"
          ]
        },
        {
          "output_type": "stream",
          "name": "stdout",
          "text": [
            "[0]\n"
          ]
        },
        {
          "output_type": "stream",
          "name": "stderr",
          "text": [
            "image 1/1 /content/drive/MyDrive/Trabajo_final_VIU/YOLOV8/Dataset/test/images/imagen345-5.jpg: 640x640 (no detections), 9.7ms\n",
            "Speed: 1.9ms preprocess, 9.7ms inference, 1.0ms postprocess per image at shape (1, 3, 640, 640)\n",
            "\n"
          ]
        },
        {
          "output_type": "stream",
          "name": "stdout",
          "text": [
            "[]\n"
          ]
        },
        {
          "output_type": "stream",
          "name": "stderr",
          "text": [
            "image 1/1 /content/drive/MyDrive/Trabajo_final_VIU/YOLOV8/Dataset/test/images/imagen345-6.jpg: 640x640 (no detections), 7.4ms\n",
            "Speed: 1.8ms preprocess, 7.4ms inference, 1.1ms postprocess per image at shape (1, 3, 640, 640)\n",
            "\n"
          ]
        },
        {
          "output_type": "stream",
          "name": "stdout",
          "text": [
            "[]\n"
          ]
        },
        {
          "output_type": "stream",
          "name": "stderr",
          "text": [
            "image 1/1 /content/drive/MyDrive/Trabajo_final_VIU/YOLOV8/Dataset/test/images/imagen346-4.jpg: 640x640 2 ['Osteophytos']s, 7.4ms\n",
            "Speed: 1.8ms preprocess, 7.4ms inference, 1.4ms postprocess per image at shape (1, 3, 640, 640)\n",
            "\n"
          ]
        },
        {
          "output_type": "stream",
          "name": "stdout",
          "text": [
            "[0 0]\n"
          ]
        },
        {
          "output_type": "stream",
          "name": "stderr",
          "text": [
            "image 1/1 /content/drive/MyDrive/Trabajo_final_VIU/YOLOV8/Dataset/test/images/imagen346-6.jpg: 640x640 1 ['Osteophytos'], 7.4ms\n",
            "Speed: 1.7ms preprocess, 7.4ms inference, 1.4ms postprocess per image at shape (1, 3, 640, 640)\n",
            "\n"
          ]
        },
        {
          "output_type": "stream",
          "name": "stdout",
          "text": [
            "[0]\n"
          ]
        },
        {
          "output_type": "stream",
          "name": "stderr",
          "text": [
            "image 1/1 /content/drive/MyDrive/Trabajo_final_VIU/YOLOV8/Dataset/test/images/imagen347-12.jpg: 576x640 (no detections), 8.0ms\n",
            "Speed: 1.7ms preprocess, 8.0ms inference, 0.7ms postprocess per image at shape (1, 3, 576, 640)\n",
            "\n"
          ]
        },
        {
          "output_type": "stream",
          "name": "stdout",
          "text": [
            "[]\n"
          ]
        },
        {
          "output_type": "stream",
          "name": "stderr",
          "text": [
            "image 1/1 /content/drive/MyDrive/Trabajo_final_VIU/YOLOV8/Dataset/test/images/imagen347-17.jpg: 640x640 (no detections), 8.1ms\n",
            "Speed: 1.5ms preprocess, 8.1ms inference, 0.7ms postprocess per image at shape (1, 3, 640, 640)\n",
            "\n"
          ]
        },
        {
          "output_type": "stream",
          "name": "stdout",
          "text": [
            "[]\n"
          ]
        },
        {
          "output_type": "stream",
          "name": "stderr",
          "text": [
            "image 1/1 /content/drive/MyDrive/Trabajo_final_VIU/YOLOV8/Dataset/test/images/imagen348-4.jpg: 640x640 2 ['Osteophytos']s, 7.4ms\n",
            "Speed: 1.7ms preprocess, 7.4ms inference, 1.4ms postprocess per image at shape (1, 3, 640, 640)\n",
            "\n"
          ]
        },
        {
          "output_type": "stream",
          "name": "stdout",
          "text": [
            "[0 0]\n"
          ]
        },
        {
          "output_type": "stream",
          "name": "stderr",
          "text": [
            "image 1/1 /content/drive/MyDrive/Trabajo_final_VIU/YOLOV8/Dataset/test/images/imagen348-5.jpg: 640x640 4 ['Osteophytos']s, 7.4ms\n",
            "Speed: 1.6ms preprocess, 7.4ms inference, 1.4ms postprocess per image at shape (1, 3, 640, 640)\n",
            "\n"
          ]
        },
        {
          "output_type": "stream",
          "name": "stdout",
          "text": [
            "[0 0 0 0]\n"
          ]
        },
        {
          "output_type": "stream",
          "name": "stderr",
          "text": [
            "image 1/1 /content/drive/MyDrive/Trabajo_final_VIU/YOLOV8/Dataset/test/images/imagen348-6.jpg: 640x640 3 ['Osteophytos']s, 7.4ms\n",
            "Speed: 1.7ms preprocess, 7.4ms inference, 1.5ms postprocess per image at shape (1, 3, 640, 640)\n",
            "\n"
          ]
        },
        {
          "output_type": "stream",
          "name": "stdout",
          "text": [
            "[0 0 0]\n"
          ]
        },
        {
          "output_type": "stream",
          "name": "stderr",
          "text": [
            "image 1/1 /content/drive/MyDrive/Trabajo_final_VIU/YOLOV8/Dataset/test/images/imagen349-4.jpg: 640x640 2 ['Osteophytos']s, 8.4ms\n",
            "Speed: 1.7ms preprocess, 8.4ms inference, 1.4ms postprocess per image at shape (1, 3, 640, 640)\n",
            "\n"
          ]
        },
        {
          "output_type": "stream",
          "name": "stdout",
          "text": [
            "[0 0]\n"
          ]
        },
        {
          "output_type": "stream",
          "name": "stderr",
          "text": [
            "image 1/1 /content/drive/MyDrive/Trabajo_final_VIU/YOLOV8/Dataset/test/images/imagen349-6.jpg: 608x640 1 ['Osteophytos'], 8.1ms\n",
            "Speed: 2.8ms preprocess, 8.1ms inference, 1.3ms postprocess per image at shape (1, 3, 608, 640)\n",
            "\n"
          ]
        },
        {
          "output_type": "stream",
          "name": "stdout",
          "text": [
            "[0]\n"
          ]
        },
        {
          "output_type": "stream",
          "name": "stderr",
          "text": [
            "image 1/1 /content/drive/MyDrive/Trabajo_final_VIU/YOLOV8/Dataset/test/images/imagen349-8.jpg: 640x640 (no detections), 8.1ms\n",
            "Speed: 1.7ms preprocess, 8.1ms inference, 0.7ms postprocess per image at shape (1, 3, 640, 640)\n",
            "\n"
          ]
        },
        {
          "output_type": "stream",
          "name": "stdout",
          "text": [
            "[]\n"
          ]
        },
        {
          "output_type": "stream",
          "name": "stderr",
          "text": [
            "image 1/1 /content/drive/MyDrive/Trabajo_final_VIU/YOLOV8/Dataset/test/images/imagen35-11.jpg: 480x640 2 ['Osteophytos']s, 11.5ms\n",
            "Speed: 1.6ms preprocess, 11.5ms inference, 1.9ms postprocess per image at shape (1, 3, 480, 640)\n",
            "\n"
          ]
        },
        {
          "output_type": "stream",
          "name": "stdout",
          "text": [
            "[0 0]\n"
          ]
        },
        {
          "output_type": "stream",
          "name": "stderr",
          "text": [
            "image 1/1 /content/drive/MyDrive/Trabajo_final_VIU/YOLOV8/Dataset/test/images/imagen35-15.jpg: 608x640 3 ['Osteophytos']s, 9.3ms\n",
            "Speed: 2.1ms preprocess, 9.3ms inference, 1.7ms postprocess per image at shape (1, 3, 608, 640)\n",
            "\n"
          ]
        },
        {
          "output_type": "stream",
          "name": "stdout",
          "text": [
            "[0 0 0]\n"
          ]
        },
        {
          "output_type": "stream",
          "name": "stderr",
          "text": [
            "image 1/1 /content/drive/MyDrive/Trabajo_final_VIU/YOLOV8/Dataset/test/images/imagen35-19.jpg: 640x640 (no detections), 13.1ms\n",
            "Speed: 1.8ms preprocess, 13.1ms inference, 0.8ms postprocess per image at shape (1, 3, 640, 640)\n",
            "\n"
          ]
        },
        {
          "output_type": "stream",
          "name": "stdout",
          "text": [
            "[]\n"
          ]
        },
        {
          "output_type": "stream",
          "name": "stderr",
          "text": [
            "image 1/1 /content/drive/MyDrive/Trabajo_final_VIU/YOLOV8/Dataset/test/images/imagen350-13.jpg: 640x640 1 ['Osteophytos'], 7.4ms\n",
            "Speed: 1.6ms preprocess, 7.4ms inference, 1.4ms postprocess per image at shape (1, 3, 640, 640)\n",
            "\n"
          ]
        },
        {
          "output_type": "stream",
          "name": "stdout",
          "text": [
            "[0]\n"
          ]
        },
        {
          "output_type": "stream",
          "name": "stderr",
          "text": [
            "image 1/1 /content/drive/MyDrive/Trabajo_final_VIU/YOLOV8/Dataset/test/images/imagen350-8.jpg: 640x640 3 ['Osteophytos']s, 7.4ms\n",
            "Speed: 1.8ms preprocess, 7.4ms inference, 1.6ms postprocess per image at shape (1, 3, 640, 640)\n",
            "\n"
          ]
        },
        {
          "output_type": "stream",
          "name": "stdout",
          "text": [
            "[0 0 0]\n"
          ]
        },
        {
          "output_type": "stream",
          "name": "stderr",
          "text": [
            "image 1/1 /content/drive/MyDrive/Trabajo_final_VIU/YOLOV8/Dataset/test/images/imagen351-10.jpg: 640x608 2 ['Osteophytos']s, 8.0ms\n",
            "Speed: 1.6ms preprocess, 8.0ms inference, 1.3ms postprocess per image at shape (1, 3, 640, 608)\n",
            "\n"
          ]
        },
        {
          "output_type": "stream",
          "name": "stdout",
          "text": [
            "[0 0]\n"
          ]
        },
        {
          "output_type": "stream",
          "name": "stderr",
          "text": [
            "image 1/1 /content/drive/MyDrive/Trabajo_final_VIU/YOLOV8/Dataset/test/images/imagen351-11.jpg: 640x640 1 ['Osteophytos'], 8.1ms\n",
            "Speed: 1.6ms preprocess, 8.1ms inference, 1.3ms postprocess per image at shape (1, 3, 640, 640)\n",
            "\n"
          ]
        },
        {
          "output_type": "stream",
          "name": "stdout",
          "text": [
            "[0]\n"
          ]
        },
        {
          "output_type": "stream",
          "name": "stderr",
          "text": [
            "image 1/1 /content/drive/MyDrive/Trabajo_final_VIU/YOLOV8/Dataset/test/images/imagen351-6.jpg: 640x640 2 ['Osteophytos']s, 10.7ms\n",
            "Speed: 3.5ms preprocess, 10.7ms inference, 1.5ms postprocess per image at shape (1, 3, 640, 640)\n",
            "\n"
          ]
        },
        {
          "output_type": "stream",
          "name": "stdout",
          "text": [
            "[0 0]\n"
          ]
        },
        {
          "output_type": "stream",
          "name": "stderr",
          "text": [
            "image 1/1 /content/drive/MyDrive/Trabajo_final_VIU/YOLOV8/Dataset/test/images/imagen351-7.jpg: 640x640 3 ['Osteophytos']s, 7.4ms\n",
            "Speed: 1.8ms preprocess, 7.4ms inference, 1.5ms postprocess per image at shape (1, 3, 640, 640)\n",
            "\n"
          ]
        },
        {
          "output_type": "stream",
          "name": "stdout",
          "text": [
            "[0 0 0]\n"
          ]
        },
        {
          "output_type": "stream",
          "name": "stderr",
          "text": [
            "image 1/1 /content/drive/MyDrive/Trabajo_final_VIU/YOLOV8/Dataset/test/images/imagen352-3.jpg: 640x640 3 ['Osteophytos']s, 7.4ms\n",
            "Speed: 1.6ms preprocess, 7.4ms inference, 1.4ms postprocess per image at shape (1, 3, 640, 640)\n",
            "\n"
          ]
        },
        {
          "output_type": "stream",
          "name": "stdout",
          "text": [
            "[0 0 0]\n"
          ]
        },
        {
          "output_type": "stream",
          "name": "stderr",
          "text": [
            "image 1/1 /content/drive/MyDrive/Trabajo_final_VIU/YOLOV8/Dataset/test/images/imagen353-3.jpg: 640x640 (no detections), 7.4ms\n",
            "Speed: 1.7ms preprocess, 7.4ms inference, 0.8ms postprocess per image at shape (1, 3, 640, 640)\n",
            "\n"
          ]
        },
        {
          "output_type": "stream",
          "name": "stdout",
          "text": [
            "[]\n"
          ]
        },
        {
          "output_type": "stream",
          "name": "stderr",
          "text": [
            "image 1/1 /content/drive/MyDrive/Trabajo_final_VIU/YOLOV8/Dataset/test/images/imagen353-4.jpg: 640x320 2 ['Osteophytos']s, 7.5ms\n",
            "Speed: 1.2ms preprocess, 7.5ms inference, 1.3ms postprocess per image at shape (1, 3, 640, 320)\n",
            "\n"
          ]
        },
        {
          "output_type": "stream",
          "name": "stdout",
          "text": [
            "[0 0]\n"
          ]
        },
        {
          "output_type": "stream",
          "name": "stderr",
          "text": [
            "image 1/1 /content/drive/MyDrive/Trabajo_final_VIU/YOLOV8/Dataset/test/images/imagen354-4.jpg: 640x320 1 ['Osteophytos'], 8.0ms\n",
            "Speed: 1.2ms preprocess, 8.0ms inference, 1.6ms postprocess per image at shape (1, 3, 640, 320)\n",
            "\n"
          ]
        },
        {
          "output_type": "stream",
          "name": "stdout",
          "text": [
            "[0]\n"
          ]
        },
        {
          "output_type": "stream",
          "name": "stderr",
          "text": [
            "image 1/1 /content/drive/MyDrive/Trabajo_final_VIU/YOLOV8/Dataset/test/images/imagen355-10.jpg: 640x640 1 ['Osteophytos'], 10.6ms\n",
            "Speed: 1.7ms preprocess, 10.6ms inference, 1.3ms postprocess per image at shape (1, 3, 640, 640)\n",
            "\n"
          ]
        },
        {
          "output_type": "stream",
          "name": "stdout",
          "text": [
            "[0]\n"
          ]
        },
        {
          "output_type": "stream",
          "name": "stderr",
          "text": [
            "image 1/1 /content/drive/MyDrive/Trabajo_final_VIU/YOLOV8/Dataset/test/images/imagen355-11.jpg: 640x640 1 ['Osteophytos'], 11.4ms\n",
            "Speed: 2.0ms preprocess, 11.4ms inference, 2.0ms postprocess per image at shape (1, 3, 640, 640)\n",
            "\n"
          ]
        },
        {
          "output_type": "stream",
          "name": "stdout",
          "text": [
            "[0]\n"
          ]
        },
        {
          "output_type": "stream",
          "name": "stderr",
          "text": [
            "image 1/1 /content/drive/MyDrive/Trabajo_final_VIU/YOLOV8/Dataset/test/images/imagen355-6.jpg: 640x640 2 ['Osteophytos']s, 8.4ms\n",
            "Speed: 1.9ms preprocess, 8.4ms inference, 2.1ms postprocess per image at shape (1, 3, 640, 640)\n",
            "\n"
          ]
        },
        {
          "output_type": "stream",
          "name": "stdout",
          "text": [
            "[0 0]\n"
          ]
        },
        {
          "output_type": "stream",
          "name": "stderr",
          "text": [
            "image 1/1 /content/drive/MyDrive/Trabajo_final_VIU/YOLOV8/Dataset/test/images/imagen355-7.jpg: 640x640 1 ['Osteophytos'], 10.7ms\n",
            "Speed: 1.9ms preprocess, 10.7ms inference, 2.0ms postprocess per image at shape (1, 3, 640, 640)\n",
            "\n"
          ]
        },
        {
          "output_type": "stream",
          "name": "stdout",
          "text": [
            "[0]\n"
          ]
        },
        {
          "output_type": "stream",
          "name": "stderr",
          "text": [
            "image 1/1 /content/drive/MyDrive/Trabajo_final_VIU/YOLOV8/Dataset/test/images/imagen356-10.jpg: 640x640 1 ['Osteophytos'], 7.4ms\n",
            "Speed: 1.8ms preprocess, 7.4ms inference, 1.4ms postprocess per image at shape (1, 3, 640, 640)\n",
            "\n"
          ]
        },
        {
          "output_type": "stream",
          "name": "stdout",
          "text": [
            "[0]\n"
          ]
        },
        {
          "output_type": "stream",
          "name": "stderr",
          "text": [
            "image 1/1 /content/drive/MyDrive/Trabajo_final_VIU/YOLOV8/Dataset/test/images/imagen356-11.jpg: 640x640 1 ['Osteophytos'], 21.1ms\n",
            "Speed: 2.0ms preprocess, 21.1ms inference, 1.5ms postprocess per image at shape (1, 3, 640, 640)\n",
            "\n"
          ]
        },
        {
          "output_type": "stream",
          "name": "stdout",
          "text": [
            "[0]\n"
          ]
        },
        {
          "output_type": "stream",
          "name": "stderr",
          "text": [
            "image 1/1 /content/drive/MyDrive/Trabajo_final_VIU/YOLOV8/Dataset/test/images/imagen356-6.jpg: 640x640 2 ['Osteophytos']s, 7.4ms\n",
            "Speed: 1.8ms preprocess, 7.4ms inference, 1.4ms postprocess per image at shape (1, 3, 640, 640)\n",
            "\n"
          ]
        },
        {
          "output_type": "stream",
          "name": "stdout",
          "text": [
            "[0 0]\n"
          ]
        },
        {
          "output_type": "stream",
          "name": "stderr",
          "text": [
            "image 1/1 /content/drive/MyDrive/Trabajo_final_VIU/YOLOV8/Dataset/test/images/imagen356-7.jpg: 640x640 1 ['Osteophytos'], 7.4ms\n",
            "Speed: 1.6ms preprocess, 7.4ms inference, 1.4ms postprocess per image at shape (1, 3, 640, 640)\n",
            "\n"
          ]
        },
        {
          "output_type": "stream",
          "name": "stdout",
          "text": [
            "[0]\n"
          ]
        },
        {
          "output_type": "stream",
          "name": "stderr",
          "text": [
            "image 1/1 /content/drive/MyDrive/Trabajo_final_VIU/YOLOV8/Dataset/test/images/imagen357-5.jpg: 640x640 2 ['Osteophytos']s, 7.4ms\n",
            "Speed: 1.7ms preprocess, 7.4ms inference, 2.1ms postprocess per image at shape (1, 3, 640, 640)\n",
            "\n"
          ]
        },
        {
          "output_type": "stream",
          "name": "stdout",
          "text": [
            "[0 0]\n"
          ]
        },
        {
          "output_type": "stream",
          "name": "stderr",
          "text": [
            "image 1/1 /content/drive/MyDrive/Trabajo_final_VIU/YOLOV8/Dataset/test/images/imagen357-6.jpg: 640x480 3 ['Osteophytos']s, 7.3ms\n",
            "Speed: 1.4ms preprocess, 7.3ms inference, 1.3ms postprocess per image at shape (1, 3, 640, 480)\n",
            "\n"
          ]
        },
        {
          "output_type": "stream",
          "name": "stdout",
          "text": [
            "[0 0 0]\n"
          ]
        },
        {
          "output_type": "stream",
          "name": "stderr",
          "text": [
            "image 1/1 /content/drive/MyDrive/Trabajo_final_VIU/YOLOV8/Dataset/test/images/imagen358-5.jpg: 640x640 2 ['Osteophytos']s, 8.1ms\n",
            "Speed: 1.7ms preprocess, 8.1ms inference, 1.3ms postprocess per image at shape (1, 3, 640, 640)\n",
            "\n"
          ]
        },
        {
          "output_type": "stream",
          "name": "stdout",
          "text": [
            "[0 0]\n"
          ]
        },
        {
          "output_type": "stream",
          "name": "stderr",
          "text": [
            "image 1/1 /content/drive/MyDrive/Trabajo_final_VIU/YOLOV8/Dataset/test/images/imagen358-6.jpg: 640x480 3 ['Osteophytos']s, 7.1ms\n",
            "Speed: 1.4ms preprocess, 7.1ms inference, 1.4ms postprocess per image at shape (1, 3, 640, 480)\n",
            "\n"
          ]
        },
        {
          "output_type": "stream",
          "name": "stdout",
          "text": [
            "[0 0 0]\n"
          ]
        },
        {
          "output_type": "stream",
          "name": "stderr",
          "text": [
            "image 1/1 /content/drive/MyDrive/Trabajo_final_VIU/YOLOV8/Dataset/test/images/imagen359-8.jpg: 640x352 1 ['Osteophytos'], 7.3ms\n",
            "Speed: 1.2ms preprocess, 7.3ms inference, 1.3ms postprocess per image at shape (1, 3, 640, 352)\n",
            "\n"
          ]
        },
        {
          "output_type": "stream",
          "name": "stdout",
          "text": [
            "[0]\n"
          ]
        },
        {
          "output_type": "stream",
          "name": "stderr",
          "text": [
            "image 1/1 /content/drive/MyDrive/Trabajo_final_VIU/YOLOV8/Dataset/test/images/imagen36-11.jpg: 640x640 2 ['Osteophytos']s, 8.5ms\n",
            "Speed: 1.6ms preprocess, 8.5ms inference, 2.0ms postprocess per image at shape (1, 3, 640, 640)\n",
            "\n"
          ]
        },
        {
          "output_type": "stream",
          "name": "stdout",
          "text": [
            "[0 0]\n"
          ]
        },
        {
          "output_type": "stream",
          "name": "stderr",
          "text": [
            "image 1/1 /content/drive/MyDrive/Trabajo_final_VIU/YOLOV8/Dataset/test/images/imagen360-8.jpg: 640x352 1 ['Osteophytos'], 10.3ms\n",
            "Speed: 1.3ms preprocess, 10.3ms inference, 1.3ms postprocess per image at shape (1, 3, 640, 352)\n",
            "\n"
          ]
        },
        {
          "output_type": "stream",
          "name": "stdout",
          "text": [
            "[0]\n"
          ]
        },
        {
          "output_type": "stream",
          "name": "stderr",
          "text": [
            "image 1/1 /content/drive/MyDrive/Trabajo_final_VIU/YOLOV8/Dataset/test/images/imagen361-10.jpg: 640x640 (no detections), 9.7ms\n",
            "Speed: 2.1ms preprocess, 9.7ms inference, 0.9ms postprocess per image at shape (1, 3, 640, 640)\n",
            "\n"
          ]
        },
        {
          "output_type": "stream",
          "name": "stdout",
          "text": [
            "[]\n"
          ]
        },
        {
          "output_type": "stream",
          "name": "stderr",
          "text": [
            "image 1/1 /content/drive/MyDrive/Trabajo_final_VIU/YOLOV8/Dataset/test/images/imagen361-14.jpg: 640x640 (no detections), 8.2ms\n",
            "Speed: 4.7ms preprocess, 8.2ms inference, 0.9ms postprocess per image at shape (1, 3, 640, 640)\n",
            "\n"
          ]
        },
        {
          "output_type": "stream",
          "name": "stdout",
          "text": [
            "[]\n"
          ]
        },
        {
          "output_type": "stream",
          "name": "stderr",
          "text": [
            "image 1/1 /content/drive/MyDrive/Trabajo_final_VIU/YOLOV8/Dataset/test/images/imagen361-6.jpg: 640x640 (no detections), 8.2ms\n",
            "Speed: 1.8ms preprocess, 8.2ms inference, 1.0ms postprocess per image at shape (1, 3, 640, 640)\n",
            "\n"
          ]
        },
        {
          "output_type": "stream",
          "name": "stdout",
          "text": [
            "[]\n"
          ]
        },
        {
          "output_type": "stream",
          "name": "stderr",
          "text": [
            "image 1/1 /content/drive/MyDrive/Trabajo_final_VIU/YOLOV8/Dataset/test/images/imagen362-4.jpg: 640x544 5 ['Osteophytos']s, 7.8ms\n",
            "Speed: 1.5ms preprocess, 7.8ms inference, 1.3ms postprocess per image at shape (1, 3, 640, 544)\n",
            "\n"
          ]
        },
        {
          "output_type": "stream",
          "name": "stdout",
          "text": [
            "[0 0 0 0 0]\n"
          ]
        },
        {
          "output_type": "stream",
          "name": "stderr",
          "text": [
            "image 1/1 /content/drive/MyDrive/Trabajo_final_VIU/YOLOV8/Dataset/test/images/imagen363-4.jpg: 640x544 2 ['Osteophytos']s, 7.2ms\n",
            "Speed: 1.7ms preprocess, 7.2ms inference, 1.7ms postprocess per image at shape (1, 3, 640, 544)\n",
            "\n"
          ]
        },
        {
          "output_type": "stream",
          "name": "stdout",
          "text": [
            "[0 0]\n"
          ]
        },
        {
          "output_type": "stream",
          "name": "stderr",
          "text": [
            "image 1/1 /content/drive/MyDrive/Trabajo_final_VIU/YOLOV8/Dataset/test/images/imagen364-6.jpg: 640x640 3 ['Osteophytos']s, 8.1ms\n",
            "Speed: 1.8ms preprocess, 8.1ms inference, 1.3ms postprocess per image at shape (1, 3, 640, 640)\n",
            "\n"
          ]
        },
        {
          "output_type": "stream",
          "name": "stdout",
          "text": [
            "[0 0 0]\n"
          ]
        },
        {
          "output_type": "stream",
          "name": "stderr",
          "text": [
            "image 1/1 /content/drive/MyDrive/Trabajo_final_VIU/YOLOV8/Dataset/test/images/imagen364-8.jpg: 640x640 1 ['Osteophytos'], 7.4ms\n",
            "Speed: 1.7ms preprocess, 7.4ms inference, 1.5ms postprocess per image at shape (1, 3, 640, 640)\n",
            "\n"
          ]
        },
        {
          "output_type": "stream",
          "name": "stdout",
          "text": [
            "[0]\n"
          ]
        },
        {
          "output_type": "stream",
          "name": "stderr",
          "text": [
            "image 1/1 /content/drive/MyDrive/Trabajo_final_VIU/YOLOV8/Dataset/test/images/imagen365-4.jpg: 640x608 1 ['Osteophytos'], 8.4ms\n",
            "Speed: 1.6ms preprocess, 8.4ms inference, 1.9ms postprocess per image at shape (1, 3, 640, 608)\n",
            "\n"
          ]
        },
        {
          "output_type": "stream",
          "name": "stdout",
          "text": [
            "[0]\n"
          ]
        },
        {
          "output_type": "stream",
          "name": "stderr",
          "text": [
            "image 1/1 /content/drive/MyDrive/Trabajo_final_VIU/YOLOV8/Dataset/test/images/imagen365-6.jpg: 640x608 3 ['Osteophytos']s, 8.3ms\n",
            "Speed: 1.7ms preprocess, 8.3ms inference, 1.4ms postprocess per image at shape (1, 3, 640, 608)\n",
            "\n"
          ]
        },
        {
          "output_type": "stream",
          "name": "stdout",
          "text": [
            "[0 0 0]\n"
          ]
        },
        {
          "output_type": "stream",
          "name": "stderr",
          "text": [
            "image 1/1 /content/drive/MyDrive/Trabajo_final_VIU/YOLOV8/Dataset/test/images/imagen365-8.jpg: 640x608 (no detections), 7.7ms\n",
            "Speed: 1.8ms preprocess, 7.7ms inference, 0.7ms postprocess per image at shape (1, 3, 640, 608)\n",
            "\n"
          ]
        },
        {
          "output_type": "stream",
          "name": "stdout",
          "text": [
            "[]\n"
          ]
        },
        {
          "output_type": "stream",
          "name": "stderr",
          "text": [
            "image 1/1 /content/drive/MyDrive/Trabajo_final_VIU/YOLOV8/Dataset/test/images/imagen366-4.jpg: 576x640 1 ['Osteophytos'], 8.1ms\n",
            "Speed: 2.7ms preprocess, 8.1ms inference, 1.4ms postprocess per image at shape (1, 3, 576, 640)\n",
            "\n"
          ]
        },
        {
          "output_type": "stream",
          "name": "stdout",
          "text": [
            "[0]\n"
          ]
        },
        {
          "output_type": "stream",
          "name": "stderr",
          "text": [
            "image 1/1 /content/drive/MyDrive/Trabajo_final_VIU/YOLOV8/Dataset/test/images/imagen366-6.jpg: 640x640 4 ['Osteophytos']s, 8.1ms\n",
            "Speed: 1.7ms preprocess, 8.1ms inference, 1.3ms postprocess per image at shape (1, 3, 640, 640)\n",
            "\n"
          ]
        },
        {
          "output_type": "stream",
          "name": "stdout",
          "text": [
            "[0 0 0 0]\n"
          ]
        },
        {
          "output_type": "stream",
          "name": "stderr",
          "text": [
            "image 1/1 /content/drive/MyDrive/Trabajo_final_VIU/YOLOV8/Dataset/test/images/imagen367-5.jpg: 608x640 4 ['Osteophytos']s, 13.2ms\n",
            "Speed: 2.0ms preprocess, 13.2ms inference, 1.8ms postprocess per image at shape (1, 3, 608, 640)\n",
            "\n"
          ]
        },
        {
          "output_type": "stream",
          "name": "stdout",
          "text": [
            "[0 0 0 0]\n"
          ]
        },
        {
          "output_type": "stream",
          "name": "stderr",
          "text": [
            "image 1/1 /content/drive/MyDrive/Trabajo_final_VIU/YOLOV8/Dataset/test/images/imagen367-8.jpg: 640x640 3 ['Osteophytos']s, 12.6ms\n",
            "Speed: 2.5ms preprocess, 12.6ms inference, 1.8ms postprocess per image at shape (1, 3, 640, 640)\n",
            "\n"
          ]
        },
        {
          "output_type": "stream",
          "name": "stdout",
          "text": [
            "[0 0 0]\n"
          ]
        },
        {
          "output_type": "stream",
          "name": "stderr",
          "text": [
            "image 1/1 /content/drive/MyDrive/Trabajo_final_VIU/YOLOV8/Dataset/test/images/imagen368-2.jpg: 608x640 (no detections), 13.5ms\n",
            "Speed: 3.5ms preprocess, 13.5ms inference, 0.9ms postprocess per image at shape (1, 3, 608, 640)\n",
            "\n"
          ]
        },
        {
          "output_type": "stream",
          "name": "stdout",
          "text": [
            "[]\n"
          ]
        },
        {
          "output_type": "stream",
          "name": "stderr",
          "text": [
            "image 1/1 /content/drive/MyDrive/Trabajo_final_VIU/YOLOV8/Dataset/test/images/imagen368-4.jpg: 640x640 2 ['Osteophytos']s, 8.1ms\n",
            "Speed: 3.0ms preprocess, 8.1ms inference, 1.3ms postprocess per image at shape (1, 3, 640, 640)\n",
            "\n"
          ]
        },
        {
          "output_type": "stream",
          "name": "stdout",
          "text": [
            "[0 0]\n"
          ]
        },
        {
          "output_type": "stream",
          "name": "stderr",
          "text": [
            "image 1/1 /content/drive/MyDrive/Trabajo_final_VIU/YOLOV8/Dataset/test/images/imagen368-6.jpg: 640x640 1 ['Osteophytos'], 7.4ms\n",
            "Speed: 1.8ms preprocess, 7.4ms inference, 1.4ms postprocess per image at shape (1, 3, 640, 640)\n",
            "\n"
          ]
        },
        {
          "output_type": "stream",
          "name": "stdout",
          "text": [
            "[0]\n"
          ]
        },
        {
          "output_type": "stream",
          "name": "stderr",
          "text": [
            "image 1/1 /content/drive/MyDrive/Trabajo_final_VIU/YOLOV8/Dataset/test/images/imagen368-8.jpg: 640x640 (no detections), 7.4ms\n",
            "Speed: 1.7ms preprocess, 7.4ms inference, 0.9ms postprocess per image at shape (1, 3, 640, 640)\n",
            "\n"
          ]
        },
        {
          "output_type": "stream",
          "name": "stdout",
          "text": [
            "[]\n"
          ]
        },
        {
          "output_type": "stream",
          "name": "stderr",
          "text": [
            "image 1/1 /content/drive/MyDrive/Trabajo_final_VIU/YOLOV8/Dataset/test/images/imagen369-4.jpg: 640x640 1 ['Osteophytos'], 7.4ms\n",
            "Speed: 1.7ms preprocess, 7.4ms inference, 1.6ms postprocess per image at shape (1, 3, 640, 640)\n",
            "\n"
          ]
        },
        {
          "output_type": "stream",
          "name": "stdout",
          "text": [
            "[0]\n"
          ]
        },
        {
          "output_type": "stream",
          "name": "stderr",
          "text": [
            "image 1/1 /content/drive/MyDrive/Trabajo_final_VIU/YOLOV8/Dataset/test/images/imagen369-5.jpg: 640x640 1 ['Osteophytos'], 7.4ms\n",
            "Speed: 1.6ms preprocess, 7.4ms inference, 1.4ms postprocess per image at shape (1, 3, 640, 640)\n",
            "\n"
          ]
        },
        {
          "output_type": "stream",
          "name": "stdout",
          "text": [
            "[0]\n"
          ]
        },
        {
          "output_type": "stream",
          "name": "stderr",
          "text": [
            "image 1/1 /content/drive/MyDrive/Trabajo_final_VIU/YOLOV8/Dataset/test/images/imagen37-1.jpg: 640x640 1 ['Osteophytos'], 7.4ms\n",
            "Speed: 1.7ms preprocess, 7.4ms inference, 1.4ms postprocess per image at shape (1, 3, 640, 640)\n",
            "\n"
          ]
        },
        {
          "output_type": "stream",
          "name": "stdout",
          "text": [
            "[0]\n"
          ]
        },
        {
          "output_type": "stream",
          "name": "stderr",
          "text": [
            "image 1/1 /content/drive/MyDrive/Trabajo_final_VIU/YOLOV8/Dataset/test/images/imagen37-3.jpg: 640x640 5 ['Osteophytos']s, 7.4ms\n",
            "Speed: 1.6ms preprocess, 7.4ms inference, 1.5ms postprocess per image at shape (1, 3, 640, 640)\n",
            "\n"
          ]
        },
        {
          "output_type": "stream",
          "name": "stdout",
          "text": [
            "[0 0 0 0 0]\n"
          ]
        },
        {
          "output_type": "stream",
          "name": "stderr",
          "text": [
            "image 1/1 /content/drive/MyDrive/Trabajo_final_VIU/YOLOV8/Dataset/test/images/imagen370-6.jpg: 640x640 1 ['Osteophytos'], 7.4ms\n",
            "Speed: 1.8ms preprocess, 7.4ms inference, 1.3ms postprocess per image at shape (1, 3, 640, 640)\n",
            "\n"
          ]
        },
        {
          "output_type": "stream",
          "name": "stdout",
          "text": [
            "[0]\n"
          ]
        },
        {
          "output_type": "stream",
          "name": "stderr",
          "text": [
            "image 1/1 /content/drive/MyDrive/Trabajo_final_VIU/YOLOV8/Dataset/test/images/imagen370-8.jpg: 640x640 (no detections), 7.4ms\n",
            "Speed: 1.9ms preprocess, 7.4ms inference, 0.7ms postprocess per image at shape (1, 3, 640, 640)\n",
            "\n"
          ]
        },
        {
          "output_type": "stream",
          "name": "stdout",
          "text": [
            "[]\n"
          ]
        },
        {
          "output_type": "stream",
          "name": "stderr",
          "text": [
            "image 1/1 /content/drive/MyDrive/Trabajo_final_VIU/YOLOV8/Dataset/test/images/imagen371-13.jpg: 640x640 8 ['Osteophytos']s, 8.8ms\n",
            "Speed: 1.8ms preprocess, 8.8ms inference, 1.4ms postprocess per image at shape (1, 3, 640, 640)\n",
            "\n"
          ]
        },
        {
          "output_type": "stream",
          "name": "stdout",
          "text": [
            "[0 0 0 0 0 0 0 0]\n"
          ]
        },
        {
          "output_type": "stream",
          "name": "stderr",
          "text": [
            "image 1/1 /content/drive/MyDrive/Trabajo_final_VIU/YOLOV8/Dataset/test/images/imagen371-8.jpg: 640x640 (no detections), 7.4ms\n",
            "Speed: 1.6ms preprocess, 7.4ms inference, 0.7ms postprocess per image at shape (1, 3, 640, 640)\n",
            "\n"
          ]
        },
        {
          "output_type": "stream",
          "name": "stdout",
          "text": [
            "[]\n"
          ]
        },
        {
          "output_type": "stream",
          "name": "stderr",
          "text": [
            "image 1/1 /content/drive/MyDrive/Trabajo_final_VIU/YOLOV8/Dataset/test/images/imagen372-11.jpg: 640x640 (no detections), 7.6ms\n",
            "Speed: 1.6ms preprocess, 7.6ms inference, 1.0ms postprocess per image at shape (1, 3, 640, 640)\n",
            "\n"
          ]
        },
        {
          "output_type": "stream",
          "name": "stdout",
          "text": [
            "[]\n"
          ]
        },
        {
          "output_type": "stream",
          "name": "stderr",
          "text": [
            "image 1/1 /content/drive/MyDrive/Trabajo_final_VIU/YOLOV8/Dataset/test/images/imagen372-7.jpg: 640x640 (no detections), 10.5ms\n",
            "Speed: 2.0ms preprocess, 10.5ms inference, 1.0ms postprocess per image at shape (1, 3, 640, 640)\n",
            "\n"
          ]
        },
        {
          "output_type": "stream",
          "name": "stdout",
          "text": [
            "[]\n"
          ]
        },
        {
          "output_type": "stream",
          "name": "stderr",
          "text": [
            "image 1/1 /content/drive/MyDrive/Trabajo_final_VIU/YOLOV8/Dataset/test/images/imagen373-3.jpg: 640x640 1 ['Osteophytos'], 8.5ms\n",
            "Speed: 1.9ms preprocess, 8.5ms inference, 1.7ms postprocess per image at shape (1, 3, 640, 640)\n",
            "\n"
          ]
        },
        {
          "output_type": "stream",
          "name": "stdout",
          "text": [
            "[0]\n"
          ]
        },
        {
          "output_type": "stream",
          "name": "stderr",
          "text": [
            "image 1/1 /content/drive/MyDrive/Trabajo_final_VIU/YOLOV8/Dataset/test/images/imagen374-3.jpg: 640x640 2 ['Osteophytos']s, 10.8ms\n",
            "Speed: 1.9ms preprocess, 10.8ms inference, 2.0ms postprocess per image at shape (1, 3, 640, 640)\n",
            "\n"
          ]
        },
        {
          "output_type": "stream",
          "name": "stdout",
          "text": [
            "[0 0]\n"
          ]
        },
        {
          "output_type": "stream",
          "name": "stderr",
          "text": [
            "image 1/1 /content/drive/MyDrive/Trabajo_final_VIU/YOLOV8/Dataset/test/images/imagen375-14.jpg: 640x640 (no detections), 7.4ms\n",
            "Speed: 1.6ms preprocess, 7.4ms inference, 0.8ms postprocess per image at shape (1, 3, 640, 640)\n",
            "\n"
          ]
        },
        {
          "output_type": "stream",
          "name": "stdout",
          "text": [
            "[]\n"
          ]
        },
        {
          "output_type": "stream",
          "name": "stderr",
          "text": [
            "image 1/1 /content/drive/MyDrive/Trabajo_final_VIU/YOLOV8/Dataset/test/images/imagen376-11.jpg: 640x640 1 ['Osteophytos'], 7.5ms\n",
            "Speed: 1.6ms preprocess, 7.5ms inference, 1.3ms postprocess per image at shape (1, 3, 640, 640)\n",
            "\n"
          ]
        },
        {
          "output_type": "stream",
          "name": "stdout",
          "text": [
            "[0]\n"
          ]
        },
        {
          "output_type": "stream",
          "name": "stderr",
          "text": [
            "image 1/1 /content/drive/MyDrive/Trabajo_final_VIU/YOLOV8/Dataset/test/images/imagen376-15.jpg: 640x640 1 ['Osteophytos'], 7.4ms\n",
            "Speed: 1.8ms preprocess, 7.4ms inference, 1.4ms postprocess per image at shape (1, 3, 640, 640)\n",
            "\n"
          ]
        },
        {
          "output_type": "stream",
          "name": "stdout",
          "text": [
            "[0]\n"
          ]
        },
        {
          "output_type": "stream",
          "name": "stderr",
          "text": [
            "image 1/1 /content/drive/MyDrive/Trabajo_final_VIU/YOLOV8/Dataset/test/images/imagen377-10.jpg: 640x640 1 ['Osteophytos'], 7.4ms\n",
            "Speed: 1.6ms preprocess, 7.4ms inference, 1.5ms postprocess per image at shape (1, 3, 640, 640)\n",
            "\n"
          ]
        },
        {
          "output_type": "stream",
          "name": "stdout",
          "text": [
            "[0]\n"
          ]
        },
        {
          "output_type": "stream",
          "name": "stderr",
          "text": [
            "image 1/1 /content/drive/MyDrive/Trabajo_final_VIU/YOLOV8/Dataset/test/images/imagen377-11.jpg: 640x640 1 ['Osteophytos'], 7.4ms\n",
            "Speed: 1.6ms preprocess, 7.4ms inference, 1.4ms postprocess per image at shape (1, 3, 640, 640)\n",
            "\n"
          ]
        },
        {
          "output_type": "stream",
          "name": "stdout",
          "text": [
            "[0]\n"
          ]
        },
        {
          "output_type": "stream",
          "name": "stderr",
          "text": [
            "image 1/1 /content/drive/MyDrive/Trabajo_final_VIU/YOLOV8/Dataset/test/images/imagen378-6.jpg: 640x640 1 ['Osteophytos'], 7.4ms\n",
            "Speed: 2.9ms preprocess, 7.4ms inference, 1.4ms postprocess per image at shape (1, 3, 640, 640)\n",
            "\n"
          ]
        },
        {
          "output_type": "stream",
          "name": "stdout",
          "text": [
            "[0]\n"
          ]
        },
        {
          "output_type": "stream",
          "name": "stderr",
          "text": [
            "image 1/1 /content/drive/MyDrive/Trabajo_final_VIU/YOLOV8/Dataset/test/images/imagen378-8.jpg: 640x640 (no detections), 8.5ms\n",
            "Speed: 1.7ms preprocess, 8.5ms inference, 0.9ms postprocess per image at shape (1, 3, 640, 640)\n",
            "\n"
          ]
        },
        {
          "output_type": "stream",
          "name": "stdout",
          "text": [
            "[]\n"
          ]
        },
        {
          "output_type": "stream",
          "name": "stderr",
          "text": [
            "image 1/1 /content/drive/MyDrive/Trabajo_final_VIU/YOLOV8/Dataset/test/images/imagen379-3.jpg: 640x640 1 ['Osteophytos'], 7.5ms\n",
            "Speed: 1.7ms preprocess, 7.5ms inference, 1.4ms postprocess per image at shape (1, 3, 640, 640)\n",
            "\n"
          ]
        },
        {
          "output_type": "stream",
          "name": "stdout",
          "text": [
            "[0]\n"
          ]
        },
        {
          "output_type": "stream",
          "name": "stderr",
          "text": [
            "image 1/1 /content/drive/MyDrive/Trabajo_final_VIU/YOLOV8/Dataset/test/images/imagen379-4.jpg: 640x640 1 ['Osteophytos'], 7.4ms\n",
            "Speed: 1.6ms preprocess, 7.4ms inference, 1.4ms postprocess per image at shape (1, 3, 640, 640)\n",
            "\n"
          ]
        },
        {
          "output_type": "stream",
          "name": "stdout",
          "text": [
            "[0]\n"
          ]
        },
        {
          "output_type": "stream",
          "name": "stderr",
          "text": [
            "image 1/1 /content/drive/MyDrive/Trabajo_final_VIU/YOLOV8/Dataset/test/images/imagen38-3.jpg: 640x640 2 ['Osteophytos']s, 7.4ms\n",
            "Speed: 1.6ms preprocess, 7.4ms inference, 1.5ms postprocess per image at shape (1, 3, 640, 640)\n",
            "\n"
          ]
        },
        {
          "output_type": "stream",
          "name": "stdout",
          "text": [
            "[0 0]\n"
          ]
        },
        {
          "output_type": "stream",
          "name": "stderr",
          "text": [
            "image 1/1 /content/drive/MyDrive/Trabajo_final_VIU/YOLOV8/Dataset/test/images/imagen380-3.jpg: 640x640 2 ['Osteophytos']s, 7.4ms\n",
            "Speed: 1.6ms preprocess, 7.4ms inference, 1.4ms postprocess per image at shape (1, 3, 640, 640)\n",
            "\n"
          ]
        },
        {
          "output_type": "stream",
          "name": "stdout",
          "text": [
            "[0 0]\n"
          ]
        },
        {
          "output_type": "stream",
          "name": "stderr",
          "text": [
            "image 1/1 /content/drive/MyDrive/Trabajo_final_VIU/YOLOV8/Dataset/test/images/imagen381-4.jpg: 640x640 3 ['Osteophytos']s, 13.4ms\n",
            "Speed: 2.2ms preprocess, 13.4ms inference, 2.1ms postprocess per image at shape (1, 3, 640, 640)\n",
            "\n"
          ]
        },
        {
          "output_type": "stream",
          "name": "stdout",
          "text": [
            "[0 0 0]\n"
          ]
        },
        {
          "output_type": "stream",
          "name": "stderr",
          "text": [
            "image 1/1 /content/drive/MyDrive/Trabajo_final_VIU/YOLOV8/Dataset/test/images/imagen381-6.jpg: 640x640 1 ['Osteophytos'], 9.1ms\n",
            "Speed: 2.0ms preprocess, 9.1ms inference, 1.9ms postprocess per image at shape (1, 3, 640, 640)\n",
            "\n"
          ]
        },
        {
          "output_type": "stream",
          "name": "stdout",
          "text": [
            "[0]\n"
          ]
        },
        {
          "output_type": "stream",
          "name": "stderr",
          "text": [
            "image 1/1 /content/drive/MyDrive/Trabajo_final_VIU/YOLOV8/Dataset/test/images/imagen382-5.jpg: 640x640 1 ['Osteophytos'], 9.6ms\n",
            "Speed: 1.9ms preprocess, 9.6ms inference, 4.3ms postprocess per image at shape (1, 3, 640, 640)\n",
            "\n"
          ]
        },
        {
          "output_type": "stream",
          "name": "stdout",
          "text": [
            "[0]\n"
          ]
        },
        {
          "output_type": "stream",
          "name": "stderr",
          "text": [
            "image 1/1 /content/drive/MyDrive/Trabajo_final_VIU/YOLOV8/Dataset/test/images/imagen382-6.jpg: 640x640 1 ['Osteophytos'], 7.4ms\n",
            "Speed: 1.7ms preprocess, 7.4ms inference, 1.4ms postprocess per image at shape (1, 3, 640, 640)\n",
            "\n"
          ]
        },
        {
          "output_type": "stream",
          "name": "stdout",
          "text": [
            "[0]\n"
          ]
        },
        {
          "output_type": "stream",
          "name": "stderr",
          "text": [
            "image 1/1 /content/drive/MyDrive/Trabajo_final_VIU/YOLOV8/Dataset/test/images/imagen383-4.jpg: 512x640 1 ['Osteophytos'], 7.6ms\n",
            "Speed: 1.5ms preprocess, 7.6ms inference, 1.4ms postprocess per image at shape (1, 3, 512, 640)\n",
            "\n"
          ]
        },
        {
          "output_type": "stream",
          "name": "stdout",
          "text": [
            "[0]\n"
          ]
        },
        {
          "output_type": "stream",
          "name": "stderr",
          "text": [
            "image 1/1 /content/drive/MyDrive/Trabajo_final_VIU/YOLOV8/Dataset/test/images/imagen383-7.jpg: 640x640 1 ['Osteophytos'], 8.1ms\n",
            "Speed: 1.6ms preprocess, 8.1ms inference, 1.3ms postprocess per image at shape (1, 3, 640, 640)\n",
            "\n"
          ]
        },
        {
          "output_type": "stream",
          "name": "stdout",
          "text": [
            "[0]\n"
          ]
        },
        {
          "output_type": "stream",
          "name": "stderr",
          "text": [
            "image 1/1 /content/drive/MyDrive/Trabajo_final_VIU/YOLOV8/Dataset/test/images/imagen383-8.jpg: 640x640 1 ['Osteophytos'], 9.2ms\n",
            "Speed: 1.7ms preprocess, 9.2ms inference, 1.7ms postprocess per image at shape (1, 3, 640, 640)\n",
            "\n"
          ]
        },
        {
          "output_type": "stream",
          "name": "stdout",
          "text": [
            "[0]\n"
          ]
        },
        {
          "output_type": "stream",
          "name": "stderr",
          "text": [
            "image 1/1 /content/drive/MyDrive/Trabajo_final_VIU/YOLOV8/Dataset/test/images/imagen384-6.jpg: 640x416 1 ['Osteophytos'], 7.2ms\n",
            "Speed: 1.3ms preprocess, 7.2ms inference, 1.3ms postprocess per image at shape (1, 3, 640, 416)\n",
            "\n"
          ]
        },
        {
          "output_type": "stream",
          "name": "stdout",
          "text": [
            "[0]\n"
          ]
        },
        {
          "output_type": "stream",
          "name": "stderr",
          "text": [
            "image 1/1 /content/drive/MyDrive/Trabajo_final_VIU/YOLOV8/Dataset/test/images/imagen385-3.jpg: 640x640 1 ['Osteophytos'], 8.0ms\n",
            "Speed: 1.6ms preprocess, 8.0ms inference, 1.4ms postprocess per image at shape (1, 3, 640, 640)\n",
            "\n"
          ]
        },
        {
          "output_type": "stream",
          "name": "stdout",
          "text": [
            "[0]\n"
          ]
        },
        {
          "output_type": "stream",
          "name": "stderr",
          "text": [
            "image 1/1 /content/drive/MyDrive/Trabajo_final_VIU/YOLOV8/Dataset/test/images/imagen386-10.jpg: 640x640 1 ['Osteophytos'], 7.5ms\n",
            "Speed: 1.6ms preprocess, 7.5ms inference, 1.5ms postprocess per image at shape (1, 3, 640, 640)\n",
            "\n"
          ]
        },
        {
          "output_type": "stream",
          "name": "stdout",
          "text": [
            "[0]\n"
          ]
        },
        {
          "output_type": "stream",
          "name": "stderr",
          "text": [
            "image 1/1 /content/drive/MyDrive/Trabajo_final_VIU/YOLOV8/Dataset/test/images/imagen386-11.jpg: 640x640 2 ['Osteophytos']s, 7.4ms\n",
            "Speed: 1.6ms preprocess, 7.4ms inference, 1.4ms postprocess per image at shape (1, 3, 640, 640)\n",
            "\n"
          ]
        },
        {
          "output_type": "stream",
          "name": "stdout",
          "text": [
            "[0 0]\n"
          ]
        },
        {
          "output_type": "stream",
          "name": "stderr",
          "text": [
            "image 1/1 /content/drive/MyDrive/Trabajo_final_VIU/YOLOV8/Dataset/test/images/imagen386-6.jpg: 608x640 2 ['Osteophytos']s, 8.0ms\n",
            "Speed: 1.6ms preprocess, 8.0ms inference, 1.5ms postprocess per image at shape (1, 3, 608, 640)\n",
            "\n"
          ]
        },
        {
          "output_type": "stream",
          "name": "stdout",
          "text": [
            "[0 0]\n"
          ]
        },
        {
          "output_type": "stream",
          "name": "stderr",
          "text": [
            "image 1/1 /content/drive/MyDrive/Trabajo_final_VIU/YOLOV8/Dataset/test/images/imagen386-7.jpg: 608x640 1 ['Osteophytos'], 7.4ms\n",
            "Speed: 1.7ms preprocess, 7.4ms inference, 1.4ms postprocess per image at shape (1, 3, 608, 640)\n",
            "\n"
          ]
        },
        {
          "output_type": "stream",
          "name": "stdout",
          "text": [
            "[0]\n"
          ]
        },
        {
          "output_type": "stream",
          "name": "stderr",
          "text": [
            "image 1/1 /content/drive/MyDrive/Trabajo_final_VIU/YOLOV8/Dataset/test/images/imagen387-11.jpg: 640x640 2 ['Osteophytos']s, 8.2ms\n",
            "Speed: 1.6ms preprocess, 8.2ms inference, 1.3ms postprocess per image at shape (1, 3, 640, 640)\n",
            "\n"
          ]
        },
        {
          "output_type": "stream",
          "name": "stdout",
          "text": [
            "[0 0]\n"
          ]
        },
        {
          "output_type": "stream",
          "name": "stderr",
          "text": [
            "image 1/1 /content/drive/MyDrive/Trabajo_final_VIU/YOLOV8/Dataset/test/images/imagen387-7.jpg: 640x640 4 ['Osteophytos']s, 7.4ms\n",
            "Speed: 1.6ms preprocess, 7.4ms inference, 2.4ms postprocess per image at shape (1, 3, 640, 640)\n",
            "\n"
          ]
        },
        {
          "output_type": "stream",
          "name": "stdout",
          "text": [
            "[0 0 0 0]\n"
          ]
        },
        {
          "output_type": "stream",
          "name": "stderr",
          "text": [
            "image 1/1 /content/drive/MyDrive/Trabajo_final_VIU/YOLOV8/Dataset/test/images/imagen388-3.jpg: 544x640 3 ['Osteophytos']s, 9.1ms\n",
            "Speed: 1.8ms preprocess, 9.1ms inference, 1.6ms postprocess per image at shape (1, 3, 544, 640)\n",
            "\n"
          ]
        },
        {
          "output_type": "stream",
          "name": "stdout",
          "text": [
            "[0 0 0]\n"
          ]
        },
        {
          "output_type": "stream",
          "name": "stderr",
          "text": [
            "image 1/1 /content/drive/MyDrive/Trabajo_final_VIU/YOLOV8/Dataset/test/images/imagen388-8.jpg: 640x640 2 ['Osteophytos']s, 9.2ms\n",
            "Speed: 1.9ms preprocess, 9.2ms inference, 1.6ms postprocess per image at shape (1, 3, 640, 640)\n",
            "\n"
          ]
        },
        {
          "output_type": "stream",
          "name": "stdout",
          "text": [
            "[0 0]\n"
          ]
        },
        {
          "output_type": "stream",
          "name": "stderr",
          "text": [
            "image 1/1 /content/drive/MyDrive/Trabajo_final_VIU/YOLOV8/Dataset/test/images/imagen39-5.jpg: 576x640 (no detections), 7.9ms\n",
            "Speed: 1.5ms preprocess, 7.9ms inference, 0.7ms postprocess per image at shape (1, 3, 576, 640)\n",
            "\n"
          ]
        },
        {
          "output_type": "stream",
          "name": "stdout",
          "text": [
            "[]\n"
          ]
        },
        {
          "output_type": "stream",
          "name": "stderr",
          "text": [
            "image 1/1 /content/drive/MyDrive/Trabajo_final_VIU/YOLOV8/Dataset/test/images/imagen39-6.jpg: 640x608 (no detections), 8.1ms\n",
            "Speed: 2.7ms preprocess, 8.1ms inference, 0.7ms postprocess per image at shape (1, 3, 640, 608)\n",
            "\n"
          ]
        },
        {
          "output_type": "stream",
          "name": "stdout",
          "text": [
            "[]\n"
          ]
        },
        {
          "output_type": "stream",
          "name": "stderr",
          "text": [
            "image 1/1 /content/drive/MyDrive/Trabajo_final_VIU/YOLOV8/Dataset/test/images/imagen39-7.jpg: 640x640 1 ['Osteophytos'], 8.1ms\n",
            "Speed: 1.6ms preprocess, 8.1ms inference, 1.3ms postprocess per image at shape (1, 3, 640, 640)\n",
            "\n"
          ]
        },
        {
          "output_type": "stream",
          "name": "stdout",
          "text": [
            "[0]\n"
          ]
        },
        {
          "output_type": "stream",
          "name": "stderr",
          "text": [
            "image 1/1 /content/drive/MyDrive/Trabajo_final_VIU/YOLOV8/Dataset/test/images/imagen390-3.jpg: 640x640 1 ['Osteophytos'], 7.4ms\n",
            "Speed: 1.6ms preprocess, 7.4ms inference, 1.3ms postprocess per image at shape (1, 3, 640, 640)\n",
            "\n"
          ]
        },
        {
          "output_type": "stream",
          "name": "stdout",
          "text": [
            "[0]\n"
          ]
        },
        {
          "output_type": "stream",
          "name": "stderr",
          "text": [
            "image 1/1 /content/drive/MyDrive/Trabajo_final_VIU/YOLOV8/Dataset/test/images/imagen391-3.jpg: 640x640 6 ['Osteophytos']s, 7.4ms\n",
            "Speed: 1.6ms preprocess, 7.4ms inference, 1.4ms postprocess per image at shape (1, 3, 640, 640)\n",
            "\n"
          ]
        },
        {
          "output_type": "stream",
          "name": "stdout",
          "text": [
            "[0 0 0 0 0 0]\n"
          ]
        },
        {
          "output_type": "stream",
          "name": "stderr",
          "text": [
            "image 1/1 /content/drive/MyDrive/Trabajo_final_VIU/YOLOV8/Dataset/test/images/imagen392-4.jpg: 608x640 2 ['Osteophytos']s, 12.9ms\n",
            "Speed: 3.8ms preprocess, 12.9ms inference, 1.4ms postprocess per image at shape (1, 3, 608, 640)\n",
            "\n"
          ]
        },
        {
          "output_type": "stream",
          "name": "stdout",
          "text": [
            "[0 0]\n"
          ]
        },
        {
          "output_type": "stream",
          "name": "stderr",
          "text": [
            "image 1/1 /content/drive/MyDrive/Trabajo_final_VIU/YOLOV8/Dataset/test/images/imagen392-5.jpg: 608x640 2 ['Osteophytos']s, 7.3ms\n",
            "Speed: 1.7ms preprocess, 7.3ms inference, 1.4ms postprocess per image at shape (1, 3, 608, 640)\n",
            "\n"
          ]
        },
        {
          "output_type": "stream",
          "name": "stdout",
          "text": [
            "[0 0]\n"
          ]
        },
        {
          "output_type": "stream",
          "name": "stderr",
          "text": [
            "image 1/1 /content/drive/MyDrive/Trabajo_final_VIU/YOLOV8/Dataset/test/images/imagen392-7.jpg: 640x640 1 ['Osteophytos'], 8.3ms\n",
            "Speed: 1.6ms preprocess, 8.3ms inference, 1.3ms postprocess per image at shape (1, 3, 640, 640)\n",
            "\n"
          ]
        },
        {
          "output_type": "stream",
          "name": "stdout",
          "text": [
            "[0]\n"
          ]
        },
        {
          "output_type": "stream",
          "name": "stderr",
          "text": [
            "image 1/1 /content/drive/MyDrive/Trabajo_final_VIU/YOLOV8/Dataset/test/images/imagen392-8.jpg: 640x640 4 ['Osteophytos']s, 7.5ms\n",
            "Speed: 2.7ms preprocess, 7.5ms inference, 1.4ms postprocess per image at shape (1, 3, 640, 640)\n",
            "\n"
          ]
        },
        {
          "output_type": "stream",
          "name": "stdout",
          "text": [
            "[0 0 0 0]\n"
          ]
        },
        {
          "output_type": "stream",
          "name": "stderr",
          "text": [
            "image 1/1 /content/drive/MyDrive/Trabajo_final_VIU/YOLOV8/Dataset/test/images/imagen393-4.jpg: 640x544 2 ['Osteophytos']s, 7.8ms\n",
            "Speed: 1.6ms preprocess, 7.8ms inference, 1.3ms postprocess per image at shape (1, 3, 640, 544)\n",
            "\n"
          ]
        },
        {
          "output_type": "stream",
          "name": "stdout",
          "text": [
            "[0 0]\n"
          ]
        },
        {
          "output_type": "stream",
          "name": "stderr",
          "text": [
            "image 1/1 /content/drive/MyDrive/Trabajo_final_VIU/YOLOV8/Dataset/test/images/imagen393-5.jpg: 640x640 (no detections), 8.1ms\n",
            "Speed: 1.6ms preprocess, 8.1ms inference, 0.7ms postprocess per image at shape (1, 3, 640, 640)\n",
            "\n"
          ]
        },
        {
          "output_type": "stream",
          "name": "stdout",
          "text": [
            "[]\n"
          ]
        },
        {
          "output_type": "stream",
          "name": "stderr",
          "text": [
            "image 1/1 /content/drive/MyDrive/Trabajo_final_VIU/YOLOV8/Dataset/test/images/imagen393-7.jpg: 640x544 3 ['Osteophytos']s, 9.2ms\n",
            "Speed: 1.7ms preprocess, 9.2ms inference, 1.6ms postprocess per image at shape (1, 3, 640, 544)\n",
            "\n"
          ]
        },
        {
          "output_type": "stream",
          "name": "stdout",
          "text": [
            "[0 0 0]\n"
          ]
        },
        {
          "output_type": "stream",
          "name": "stderr",
          "text": [
            "image 1/1 /content/drive/MyDrive/Trabajo_final_VIU/YOLOV8/Dataset/test/images/imagen394-4.jpg: 640x544 4 ['Osteophytos']s, 8.2ms\n",
            "Speed: 1.8ms preprocess, 8.2ms inference, 1.7ms postprocess per image at shape (1, 3, 640, 544)\n",
            "\n"
          ]
        },
        {
          "output_type": "stream",
          "name": "stdout",
          "text": [
            "[0 0 0 0]\n"
          ]
        },
        {
          "output_type": "stream",
          "name": "stderr",
          "text": [
            "image 1/1 /content/drive/MyDrive/Trabajo_final_VIU/YOLOV8/Dataset/test/images/imagen395-4.jpg: 640x288 (no detections), 10.7ms\n",
            "Speed: 1.1ms preprocess, 10.7ms inference, 0.9ms postprocess per image at shape (1, 3, 640, 288)\n",
            "\n"
          ]
        },
        {
          "output_type": "stream",
          "name": "stdout",
          "text": [
            "[]\n"
          ]
        },
        {
          "output_type": "stream",
          "name": "stderr",
          "text": [
            "image 1/1 /content/drive/MyDrive/Trabajo_final_VIU/YOLOV8/Dataset/test/images/imagen396-10.jpg: 640x640 (no detections), 8.1ms\n",
            "Speed: 1.6ms preprocess, 8.1ms inference, 0.7ms postprocess per image at shape (1, 3, 640, 640)\n",
            "\n"
          ]
        },
        {
          "output_type": "stream",
          "name": "stdout",
          "text": [
            "[]\n"
          ]
        },
        {
          "output_type": "stream",
          "name": "stderr",
          "text": [
            "image 1/1 /content/drive/MyDrive/Trabajo_final_VIU/YOLOV8/Dataset/test/images/imagen397-5.jpg: 640x640 1 ['Osteophytos'], 7.4ms\n",
            "Speed: 1.7ms preprocess, 7.4ms inference, 1.4ms postprocess per image at shape (1, 3, 640, 640)\n",
            "\n"
          ]
        },
        {
          "output_type": "stream",
          "name": "stdout",
          "text": [
            "[0]\n"
          ]
        },
        {
          "output_type": "stream",
          "name": "stderr",
          "text": [
            "image 1/1 /content/drive/MyDrive/Trabajo_final_VIU/YOLOV8/Dataset/test/images/imagen397-6.jpg: 640x608 1 ['Osteophytos'], 8.0ms\n",
            "Speed: 1.8ms preprocess, 8.0ms inference, 1.4ms postprocess per image at shape (1, 3, 640, 608)\n",
            "\n"
          ]
        },
        {
          "output_type": "stream",
          "name": "stdout",
          "text": [
            "[0]\n"
          ]
        },
        {
          "output_type": "stream",
          "name": "stderr",
          "text": [
            "image 1/1 /content/drive/MyDrive/Trabajo_final_VIU/YOLOV8/Dataset/test/images/imagen398-5.jpg: 640x640 (no detections), 11.0ms\n",
            "Speed: 3.5ms preprocess, 11.0ms inference, 0.8ms postprocess per image at shape (1, 3, 640, 640)\n",
            "\n"
          ]
        },
        {
          "output_type": "stream",
          "name": "stdout",
          "text": [
            "[]\n"
          ]
        },
        {
          "output_type": "stream",
          "name": "stderr",
          "text": [
            "image 1/1 /content/drive/MyDrive/Trabajo_final_VIU/YOLOV8/Dataset/test/images/imagen399-3.jpg: 640x640 1 ['Osteophytos'], 7.4ms\n",
            "Speed: 1.7ms preprocess, 7.4ms inference, 1.4ms postprocess per image at shape (1, 3, 640, 640)\n",
            "\n"
          ]
        },
        {
          "output_type": "stream",
          "name": "stdout",
          "text": [
            "[0]\n"
          ]
        },
        {
          "output_type": "stream",
          "name": "stderr",
          "text": [
            "image 1/1 /content/drive/MyDrive/Trabajo_final_VIU/YOLOV8/Dataset/test/images/imagen4-4.jpg: 640x608 1 ['Osteophytos'], 7.9ms\n",
            "Speed: 1.6ms preprocess, 7.9ms inference, 1.3ms postprocess per image at shape (1, 3, 640, 608)\n",
            "\n"
          ]
        },
        {
          "output_type": "stream",
          "name": "stdout",
          "text": [
            "[0]\n"
          ]
        },
        {
          "output_type": "stream",
          "name": "stderr",
          "text": [
            "image 1/1 /content/drive/MyDrive/Trabajo_final_VIU/YOLOV8/Dataset/test/images/imagen4-6.jpg: 640x608 1 ['Osteophytos'], 7.4ms\n",
            "Speed: 1.7ms preprocess, 7.4ms inference, 1.5ms postprocess per image at shape (1, 3, 640, 608)\n",
            "\n"
          ]
        },
        {
          "output_type": "stream",
          "name": "stdout",
          "text": [
            "[0]\n"
          ]
        },
        {
          "output_type": "stream",
          "name": "stderr",
          "text": [
            "image 1/1 /content/drive/MyDrive/Trabajo_final_VIU/YOLOV8/Dataset/test/images/imagen40-4.jpg: 640x544 2 ['Osteophytos']s, 7.9ms\n",
            "Speed: 1.5ms preprocess, 7.9ms inference, 1.4ms postprocess per image at shape (1, 3, 640, 544)\n",
            "\n"
          ]
        },
        {
          "output_type": "stream",
          "name": "stdout",
          "text": [
            "[0 0]\n"
          ]
        },
        {
          "output_type": "stream",
          "name": "stderr",
          "text": [
            "image 1/1 /content/drive/MyDrive/Trabajo_final_VIU/YOLOV8/Dataset/test/images/imagen400-4.jpg: 640x576 1 ['Osteophytos'], 7.9ms\n",
            "Speed: 1.6ms preprocess, 7.9ms inference, 1.3ms postprocess per image at shape (1, 3, 640, 576)\n",
            "\n"
          ]
        },
        {
          "output_type": "stream",
          "name": "stdout",
          "text": [
            "[0]\n"
          ]
        },
        {
          "output_type": "stream",
          "name": "stderr",
          "text": [
            "image 1/1 /content/drive/MyDrive/Trabajo_final_VIU/YOLOV8/Dataset/test/images/imagen400-6.jpg: 640x576 2 ['Osteophytos']s, 7.8ms\n",
            "Speed: 2.4ms preprocess, 7.8ms inference, 1.3ms postprocess per image at shape (1, 3, 640, 576)\n",
            "\n"
          ]
        },
        {
          "output_type": "stream",
          "name": "stdout",
          "text": [
            "[0 0]\n"
          ]
        },
        {
          "output_type": "stream",
          "name": "stderr",
          "text": [
            "image 1/1 /content/drive/MyDrive/Trabajo_final_VIU/YOLOV8/Dataset/test/images/imagen401-3.jpg: 640x640 (no detections), 8.0ms\n",
            "Speed: 1.7ms preprocess, 8.0ms inference, 0.7ms postprocess per image at shape (1, 3, 640, 640)\n",
            "\n"
          ]
        },
        {
          "output_type": "stream",
          "name": "stdout",
          "text": [
            "[]\n"
          ]
        },
        {
          "output_type": "stream",
          "name": "stderr",
          "text": [
            "image 1/1 /content/drive/MyDrive/Trabajo_final_VIU/YOLOV8/Dataset/test/images/imagen402-4.jpg: 640x544 3 ['Osteophytos']s, 7.8ms\n",
            "Speed: 1.6ms preprocess, 7.8ms inference, 1.3ms postprocess per image at shape (1, 3, 640, 544)\n",
            "\n"
          ]
        },
        {
          "output_type": "stream",
          "name": "stdout",
          "text": [
            "[0 0 0]\n"
          ]
        },
        {
          "output_type": "stream",
          "name": "stderr",
          "text": [
            "image 1/1 /content/drive/MyDrive/Trabajo_final_VIU/YOLOV8/Dataset/test/images/imagen403-10.jpg: 512x640 3 ['Osteophytos']s, 9.6ms\n",
            "Speed: 2.0ms preprocess, 9.6ms inference, 1.7ms postprocess per image at shape (1, 3, 512, 640)\n",
            "\n"
          ]
        },
        {
          "output_type": "stream",
          "name": "stdout",
          "text": [
            "[0 0 0]\n"
          ]
        },
        {
          "output_type": "stream",
          "name": "stderr",
          "text": [
            "image 1/1 /content/drive/MyDrive/Trabajo_final_VIU/YOLOV8/Dataset/test/images/imagen403-11.jpg: 512x640 1 ['Osteophytos'], 10.4ms\n",
            "Speed: 1.5ms preprocess, 10.4ms inference, 2.0ms postprocess per image at shape (1, 3, 512, 640)\n",
            "\n"
          ]
        },
        {
          "output_type": "stream",
          "name": "stdout",
          "text": [
            "[0]\n"
          ]
        },
        {
          "output_type": "stream",
          "name": "stderr",
          "text": [
            "image 1/1 /content/drive/MyDrive/Trabajo_final_VIU/YOLOV8/Dataset/test/images/imagen403-14.jpg: 640x640 (no detections), 11.0ms\n",
            "Speed: 2.0ms preprocess, 11.0ms inference, 1.0ms postprocess per image at shape (1, 3, 640, 640)\n",
            "\n"
          ]
        },
        {
          "output_type": "stream",
          "name": "stdout",
          "text": [
            "[]\n"
          ]
        },
        {
          "output_type": "stream",
          "name": "stderr",
          "text": [
            "image 1/1 /content/drive/MyDrive/Trabajo_final_VIU/YOLOV8/Dataset/test/images/imagen403-15.jpg: 640x640 (no detections), 7.4ms\n",
            "Speed: 2.0ms preprocess, 7.4ms inference, 0.8ms postprocess per image at shape (1, 3, 640, 640)\n",
            "\n"
          ]
        },
        {
          "output_type": "stream",
          "name": "stdout",
          "text": [
            "[]\n"
          ]
        },
        {
          "output_type": "stream",
          "name": "stderr",
          "text": [
            "image 1/1 /content/drive/MyDrive/Trabajo_final_VIU/YOLOV8/Dataset/test/images/imagen404-5.jpg: 640x640 3 ['Osteophytos']s, 7.4ms\n",
            "Speed: 1.7ms preprocess, 7.4ms inference, 1.4ms postprocess per image at shape (1, 3, 640, 640)\n",
            "\n"
          ]
        },
        {
          "output_type": "stream",
          "name": "stdout",
          "text": [
            "[0 0 0]\n"
          ]
        },
        {
          "output_type": "stream",
          "name": "stderr",
          "text": [
            "image 1/1 /content/drive/MyDrive/Trabajo_final_VIU/YOLOV8/Dataset/test/images/imagen404-6.jpg: 640x640 3 ['Osteophytos']s, 7.4ms\n",
            "Speed: 1.7ms preprocess, 7.4ms inference, 1.5ms postprocess per image at shape (1, 3, 640, 640)\n",
            "\n"
          ]
        },
        {
          "output_type": "stream",
          "name": "stdout",
          "text": [
            "[0 0 0]\n"
          ]
        },
        {
          "output_type": "stream",
          "name": "stderr",
          "text": [
            "image 1/1 /content/drive/MyDrive/Trabajo_final_VIU/YOLOV8/Dataset/test/images/imagen405-6.jpg: 640x640 1 ['Osteophytos'], 7.4ms\n",
            "Speed: 1.8ms preprocess, 7.4ms inference, 1.4ms postprocess per image at shape (1, 3, 640, 640)\n",
            "\n"
          ]
        },
        {
          "output_type": "stream",
          "name": "stdout",
          "text": [
            "[0]\n"
          ]
        },
        {
          "output_type": "stream",
          "name": "stderr",
          "text": [
            "image 1/1 /content/drive/MyDrive/Trabajo_final_VIU/YOLOV8/Dataset/test/images/imagen406-4.jpg: 640x320 4 ['Osteophytos']s, 7.3ms\n",
            "Speed: 1.2ms preprocess, 7.3ms inference, 1.3ms postprocess per image at shape (1, 3, 640, 320)\n",
            "\n"
          ]
        },
        {
          "output_type": "stream",
          "name": "stdout",
          "text": [
            "[0 0 0 0]\n"
          ]
        },
        {
          "output_type": "stream",
          "name": "stderr",
          "text": [
            "image 1/1 /content/drive/MyDrive/Trabajo_final_VIU/YOLOV8/Dataset/test/images/imagen407-5.jpg: 640x640 1 ['Osteophytos'], 8.1ms\n",
            "Speed: 1.6ms preprocess, 8.1ms inference, 1.3ms postprocess per image at shape (1, 3, 640, 640)\n",
            "\n"
          ]
        },
        {
          "output_type": "stream",
          "name": "stdout",
          "text": [
            "[0]\n"
          ]
        },
        {
          "output_type": "stream",
          "name": "stderr",
          "text": [
            "image 1/1 /content/drive/MyDrive/Trabajo_final_VIU/YOLOV8/Dataset/test/images/imagen408-3.jpg: 640x640 6 ['Osteophytos']s, 7.4ms\n",
            "Speed: 1.8ms preprocess, 7.4ms inference, 1.5ms postprocess per image at shape (1, 3, 640, 640)\n",
            "\n"
          ]
        },
        {
          "output_type": "stream",
          "name": "stdout",
          "text": [
            "[0 0 0 0 0 0]\n"
          ]
        },
        {
          "output_type": "stream",
          "name": "stderr",
          "text": [
            "image 1/1 /content/drive/MyDrive/Trabajo_final_VIU/YOLOV8/Dataset/test/images/imagen409-3.jpg: 640x640 1 ['Osteophytos'], 7.6ms\n",
            "Speed: 1.8ms preprocess, 7.6ms inference, 1.4ms postprocess per image at shape (1, 3, 640, 640)\n",
            "\n"
          ]
        },
        {
          "output_type": "stream",
          "name": "stdout",
          "text": [
            "[0]\n"
          ]
        },
        {
          "output_type": "stream",
          "name": "stderr",
          "text": [
            "image 1/1 /content/drive/MyDrive/Trabajo_final_VIU/YOLOV8/Dataset/test/images/imagen409-4.jpg: 640x640 2 ['Osteophytos']s, 7.4ms\n",
            "Speed: 2.8ms preprocess, 7.4ms inference, 1.3ms postprocess per image at shape (1, 3, 640, 640)\n",
            "\n"
          ]
        },
        {
          "output_type": "stream",
          "name": "stdout",
          "text": [
            "[0 0]\n"
          ]
        },
        {
          "output_type": "stream",
          "name": "stderr",
          "text": [
            "image 1/1 /content/drive/MyDrive/Trabajo_final_VIU/YOLOV8/Dataset/test/images/imagen409-5.jpg: 640x640 2 ['Osteophytos']s, 7.4ms\n",
            "Speed: 1.6ms preprocess, 7.4ms inference, 1.4ms postprocess per image at shape (1, 3, 640, 640)\n",
            "\n"
          ]
        },
        {
          "output_type": "stream",
          "name": "stdout",
          "text": [
            "[0 0]\n"
          ]
        },
        {
          "output_type": "stream",
          "name": "stderr",
          "text": [
            "image 1/1 /content/drive/MyDrive/Trabajo_final_VIU/YOLOV8/Dataset/test/images/imagen409-6.jpg: 640x608 1 ['Osteophytos'], 8.0ms\n",
            "Speed: 1.7ms preprocess, 8.0ms inference, 1.3ms postprocess per image at shape (1, 3, 640, 608)\n",
            "\n"
          ]
        },
        {
          "output_type": "stream",
          "name": "stdout",
          "text": [
            "[0]\n"
          ]
        },
        {
          "output_type": "stream",
          "name": "stderr",
          "text": [
            "image 1/1 /content/drive/MyDrive/Trabajo_final_VIU/YOLOV8/Dataset/test/images/imagen41-4.jpg: 640x576 (no detections), 9.3ms\n",
            "Speed: 3.3ms preprocess, 9.3ms inference, 0.9ms postprocess per image at shape (1, 3, 640, 576)\n",
            "\n"
          ]
        },
        {
          "output_type": "stream",
          "name": "stdout",
          "text": [
            "[]\n"
          ]
        },
        {
          "output_type": "stream",
          "name": "stderr",
          "text": [
            "image 1/1 /content/drive/MyDrive/Trabajo_final_VIU/YOLOV8/Dataset/test/images/imagen41-6.jpg: 640x608 3 ['Osteophytos']s, 9.0ms\n",
            "Speed: 3.6ms preprocess, 9.0ms inference, 1.6ms postprocess per image at shape (1, 3, 640, 608)\n",
            "\n"
          ]
        },
        {
          "output_type": "stream",
          "name": "stdout",
          "text": [
            "[0 0 0]\n"
          ]
        },
        {
          "output_type": "stream",
          "name": "stderr",
          "text": [
            "image 1/1 /content/drive/MyDrive/Trabajo_final_VIU/YOLOV8/Dataset/test/images/imagen41-8.jpg: 640x544 (no detections), 9.1ms\n",
            "Speed: 1.9ms preprocess, 9.1ms inference, 0.9ms postprocess per image at shape (1, 3, 640, 544)\n",
            "\n"
          ]
        },
        {
          "output_type": "stream",
          "name": "stdout",
          "text": [
            "[]\n"
          ]
        },
        {
          "output_type": "stream",
          "name": "stderr",
          "text": [
            "image 1/1 /content/drive/MyDrive/Trabajo_final_VIU/YOLOV8/Dataset/test/images/imagen410-3.jpg: 640x640 (no detections), 8.2ms\n",
            "Speed: 1.9ms preprocess, 8.2ms inference, 0.7ms postprocess per image at shape (1, 3, 640, 640)\n",
            "\n"
          ]
        },
        {
          "output_type": "stream",
          "name": "stdout",
          "text": [
            "[]\n"
          ]
        },
        {
          "output_type": "stream",
          "name": "stderr",
          "text": [
            "image 1/1 /content/drive/MyDrive/Trabajo_final_VIU/YOLOV8/Dataset/test/images/imagen411-13.jpg: 640x640 1 ['Osteophytos'], 7.4ms\n",
            "Speed: 1.6ms preprocess, 7.4ms inference, 1.3ms postprocess per image at shape (1, 3, 640, 640)\n",
            "\n"
          ]
        },
        {
          "output_type": "stream",
          "name": "stdout",
          "text": [
            "[0]\n"
          ]
        },
        {
          "output_type": "stream",
          "name": "stderr",
          "text": [
            "image 1/1 /content/drive/MyDrive/Trabajo_final_VIU/YOLOV8/Dataset/test/images/imagen411-18.jpg: 640x640 (no detections), 9.4ms\n",
            "Speed: 1.7ms preprocess, 9.4ms inference, 0.7ms postprocess per image at shape (1, 3, 640, 640)\n",
            "\n"
          ]
        },
        {
          "output_type": "stream",
          "name": "stdout",
          "text": [
            "[]\n"
          ]
        },
        {
          "output_type": "stream",
          "name": "stderr",
          "text": [
            "image 1/1 /content/drive/MyDrive/Trabajo_final_VIU/YOLOV8/Dataset/test/images/imagen411-8.jpg: 608x640 2 ['Osteophytos']s, 8.0ms\n",
            "Speed: 1.6ms preprocess, 8.0ms inference, 1.4ms postprocess per image at shape (1, 3, 608, 640)\n",
            "\n"
          ]
        },
        {
          "output_type": "stream",
          "name": "stdout",
          "text": [
            "[0 0]\n"
          ]
        },
        {
          "output_type": "stream",
          "name": "stderr",
          "text": [
            "image 1/1 /content/drive/MyDrive/Trabajo_final_VIU/YOLOV8/Dataset/test/images/imagen412-6.jpg: 608x640 2 ['Osteophytos']s, 7.3ms\n",
            "Speed: 2.6ms preprocess, 7.3ms inference, 1.4ms postprocess per image at shape (1, 3, 608, 640)\n",
            "\n"
          ]
        },
        {
          "output_type": "stream",
          "name": "stdout",
          "text": [
            "[0 0]\n"
          ]
        },
        {
          "output_type": "stream",
          "name": "stderr",
          "text": [
            "image 1/1 /content/drive/MyDrive/Trabajo_final_VIU/YOLOV8/Dataset/test/images/imagen412-8.jpg: 640x576 2 ['Osteophytos']s, 8.0ms\n",
            "Speed: 1.5ms preprocess, 8.0ms inference, 1.5ms postprocess per image at shape (1, 3, 640, 576)\n",
            "\n"
          ]
        },
        {
          "output_type": "stream",
          "name": "stdout",
          "text": [
            "[0 0]\n"
          ]
        },
        {
          "output_type": "stream",
          "name": "stderr",
          "text": [
            "image 1/1 /content/drive/MyDrive/Trabajo_final_VIU/YOLOV8/Dataset/test/images/imagen413-4.jpg: 640x640 1 ['Osteophytos'], 8.1ms\n",
            "Speed: 1.6ms preprocess, 8.1ms inference, 1.3ms postprocess per image at shape (1, 3, 640, 640)\n",
            "\n"
          ]
        },
        {
          "output_type": "stream",
          "name": "stdout",
          "text": [
            "[0]\n"
          ]
        },
        {
          "output_type": "stream",
          "name": "stderr",
          "text": [
            "image 1/1 /content/drive/MyDrive/Trabajo_final_VIU/YOLOV8/Dataset/test/images/imagen413-5.jpg: 640x640 5 ['Osteophytos']s, 7.4ms\n",
            "Speed: 1.6ms preprocess, 7.4ms inference, 1.4ms postprocess per image at shape (1, 3, 640, 640)\n",
            "\n"
          ]
        },
        {
          "output_type": "stream",
          "name": "stdout",
          "text": [
            "[0 0 0 0 0]\n"
          ]
        },
        {
          "output_type": "stream",
          "name": "stderr",
          "text": [
            "image 1/1 /content/drive/MyDrive/Trabajo_final_VIU/YOLOV8/Dataset/test/images/imagen413-7.jpg: 640x640 (no detections), 7.4ms\n",
            "Speed: 1.6ms preprocess, 7.4ms inference, 0.8ms postprocess per image at shape (1, 3, 640, 640)\n",
            "\n"
          ]
        },
        {
          "output_type": "stream",
          "name": "stdout",
          "text": [
            "[]\n"
          ]
        },
        {
          "output_type": "stream",
          "name": "stderr",
          "text": [
            "image 1/1 /content/drive/MyDrive/Trabajo_final_VIU/YOLOV8/Dataset/test/images/imagen413-8.jpg: 640x640 1 ['Osteophytos'], 7.4ms\n",
            "Speed: 1.7ms preprocess, 7.4ms inference, 1.4ms postprocess per image at shape (1, 3, 640, 640)\n",
            "\n"
          ]
        },
        {
          "output_type": "stream",
          "name": "stdout",
          "text": [
            "[0]\n"
          ]
        },
        {
          "output_type": "stream",
          "name": "stderr",
          "text": [
            "image 1/1 /content/drive/MyDrive/Trabajo_final_VIU/YOLOV8/Dataset/test/images/imagen414-3.jpg: 640x640 (no detections), 7.4ms\n",
            "Speed: 1.6ms preprocess, 7.4ms inference, 0.8ms postprocess per image at shape (1, 3, 640, 640)\n",
            "\n"
          ]
        },
        {
          "output_type": "stream",
          "name": "stdout",
          "text": [
            "[]\n"
          ]
        },
        {
          "output_type": "stream",
          "name": "stderr",
          "text": [
            "image 1/1 /content/drive/MyDrive/Trabajo_final_VIU/YOLOV8/Dataset/test/images/imagen414-4.jpg: 640x512 1 ['Osteophytos'], 9.9ms\n",
            "Speed: 1.8ms preprocess, 9.9ms inference, 1.9ms postprocess per image at shape (1, 3, 640, 512)\n",
            "\n"
          ]
        },
        {
          "output_type": "stream",
          "name": "stdout",
          "text": [
            "[0]\n"
          ]
        },
        {
          "output_type": "stream",
          "name": "stderr",
          "text": [
            "image 1/1 /content/drive/MyDrive/Trabajo_final_VIU/YOLOV8/Dataset/test/images/imagen415-4.jpg: 640x576 (no detections), 11.8ms\n",
            "Speed: 2.0ms preprocess, 11.8ms inference, 0.9ms postprocess per image at shape (1, 3, 640, 576)\n",
            "\n"
          ]
        },
        {
          "output_type": "stream",
          "name": "stdout",
          "text": [
            "[]\n"
          ]
        },
        {
          "output_type": "stream",
          "name": "stderr",
          "text": [
            "image 1/1 /content/drive/MyDrive/Trabajo_final_VIU/YOLOV8/Dataset/test/images/imagen415-6.jpg: 640x576 4 ['Osteophytos']s, 8.5ms\n",
            "Speed: 1.9ms preprocess, 8.5ms inference, 1.7ms postprocess per image at shape (1, 3, 640, 576)\n",
            "\n"
          ]
        },
        {
          "output_type": "stream",
          "name": "stdout",
          "text": [
            "[0 0 0 0]\n"
          ]
        },
        {
          "output_type": "stream",
          "name": "stderr",
          "text": [
            "image 1/1 /content/drive/MyDrive/Trabajo_final_VIU/YOLOV8/Dataset/test/images/imagen416-6.jpg: 640x576 (no detections), 7.3ms\n",
            "Speed: 1.7ms preprocess, 7.3ms inference, 0.7ms postprocess per image at shape (1, 3, 640, 576)\n",
            "\n"
          ]
        },
        {
          "output_type": "stream",
          "name": "stdout",
          "text": [
            "[]\n"
          ]
        },
        {
          "output_type": "stream",
          "name": "stderr",
          "text": [
            "image 1/1 /content/drive/MyDrive/Trabajo_final_VIU/YOLOV8/Dataset/test/images/imagen417-10.jpg: 640x640 (no detections), 8.1ms\n",
            "Speed: 1.6ms preprocess, 8.1ms inference, 0.7ms postprocess per image at shape (1, 3, 640, 640)\n",
            "\n"
          ]
        },
        {
          "output_type": "stream",
          "name": "stdout",
          "text": [
            "[]\n"
          ]
        },
        {
          "output_type": "stream",
          "name": "stderr",
          "text": [
            "image 1/1 /content/drive/MyDrive/Trabajo_final_VIU/YOLOV8/Dataset/test/images/imagen417-4.jpg: 512x640 (no detections), 7.2ms\n",
            "Speed: 1.6ms preprocess, 7.2ms inference, 0.7ms postprocess per image at shape (1, 3, 512, 640)\n",
            "\n"
          ]
        },
        {
          "output_type": "stream",
          "name": "stdout",
          "text": [
            "[]\n"
          ]
        },
        {
          "output_type": "stream",
          "name": "stderr",
          "text": [
            "image 1/1 /content/drive/MyDrive/Trabajo_final_VIU/YOLOV8/Dataset/test/images/imagen417-7.jpg: 608x640 (no detections), 11.5ms\n",
            "Speed: 1.7ms preprocess, 11.5ms inference, 1.0ms postprocess per image at shape (1, 3, 608, 640)\n",
            "\n"
          ]
        },
        {
          "output_type": "stream",
          "name": "stdout",
          "text": [
            "[]\n"
          ]
        },
        {
          "output_type": "stream",
          "name": "stderr",
          "text": [
            "image 1/1 /content/drive/MyDrive/Trabajo_final_VIU/YOLOV8/Dataset/test/images/imagen418-5.jpg: 448x640 (no detections), 7.8ms\n",
            "Speed: 1.7ms preprocess, 7.8ms inference, 0.7ms postprocess per image at shape (1, 3, 448, 640)\n",
            "\n"
          ]
        },
        {
          "output_type": "stream",
          "name": "stdout",
          "text": [
            "[]\n"
          ]
        },
        {
          "output_type": "stream",
          "name": "stderr",
          "text": [
            "image 1/1 /content/drive/MyDrive/Trabajo_final_VIU/YOLOV8/Dataset/test/images/imagen418-6.jpg: 448x640 1 ['Osteophytos'], 7.0ms\n",
            "Speed: 2.8ms preprocess, 7.0ms inference, 1.8ms postprocess per image at shape (1, 3, 448, 640)\n",
            "\n"
          ]
        },
        {
          "output_type": "stream",
          "name": "stdout",
          "text": [
            "[0]\n"
          ]
        },
        {
          "output_type": "stream",
          "name": "stderr",
          "text": [
            "image 1/1 /content/drive/MyDrive/Trabajo_final_VIU/YOLOV8/Dataset/test/images/imagen418-7.jpg: 640x640 (no detections), 8.1ms\n",
            "Speed: 1.6ms preprocess, 8.1ms inference, 0.7ms postprocess per image at shape (1, 3, 640, 640)\n",
            "\n"
          ]
        },
        {
          "output_type": "stream",
          "name": "stdout",
          "text": [
            "[]\n"
          ]
        },
        {
          "output_type": "stream",
          "name": "stderr",
          "text": [
            "image 1/1 /content/drive/MyDrive/Trabajo_final_VIU/YOLOV8/Dataset/test/images/imagen418-8.jpg: 640x640 1 ['Osteophytos'], 7.4ms\n",
            "Speed: 1.8ms preprocess, 7.4ms inference, 1.4ms postprocess per image at shape (1, 3, 640, 640)\n",
            "\n"
          ]
        },
        {
          "output_type": "stream",
          "name": "stdout",
          "text": [
            "[0]\n"
          ]
        },
        {
          "output_type": "stream",
          "name": "stderr",
          "text": [
            "image 1/1 /content/drive/MyDrive/Trabajo_final_VIU/YOLOV8/Dataset/test/images/imagen419-4.jpg: 640x640 1 ['Osteophytos'], 7.4ms\n",
            "Speed: 1.7ms preprocess, 7.4ms inference, 1.4ms postprocess per image at shape (1, 3, 640, 640)\n",
            "\n"
          ]
        },
        {
          "output_type": "stream",
          "name": "stdout",
          "text": [
            "[0]\n"
          ]
        },
        {
          "output_type": "stream",
          "name": "stderr",
          "text": [
            "image 1/1 /content/drive/MyDrive/Trabajo_final_VIU/YOLOV8/Dataset/test/images/imagen42-4.jpg: 640x480 1 ['Osteophytos'], 7.2ms\n",
            "Speed: 1.4ms preprocess, 7.2ms inference, 1.2ms postprocess per image at shape (1, 3, 640, 480)\n",
            "\n"
          ]
        },
        {
          "output_type": "stream",
          "name": "stdout",
          "text": [
            "[0]\n"
          ]
        },
        {
          "output_type": "stream",
          "name": "stderr",
          "text": [
            "image 1/1 /content/drive/MyDrive/Trabajo_final_VIU/YOLOV8/Dataset/test/images/imagen420-8.jpg: 640x512 1 ['Osteophytos'], 8.0ms\n",
            "Speed: 1.6ms preprocess, 8.0ms inference, 2.2ms postprocess per image at shape (1, 3, 640, 512)\n",
            "\n"
          ]
        },
        {
          "output_type": "stream",
          "name": "stdout",
          "text": [
            "[0]\n"
          ]
        },
        {
          "output_type": "stream",
          "name": "stderr",
          "text": [
            "image 1/1 /content/drive/MyDrive/Trabajo_final_VIU/YOLOV8/Dataset/test/images/imagen421-4.jpg: 640x640 (no detections), 8.1ms\n",
            "Speed: 1.7ms preprocess, 8.1ms inference, 0.7ms postprocess per image at shape (1, 3, 640, 640)\n",
            "\n"
          ]
        },
        {
          "output_type": "stream",
          "name": "stdout",
          "text": [
            "[]\n"
          ]
        },
        {
          "output_type": "stream",
          "name": "stderr",
          "text": [
            "image 1/1 /content/drive/MyDrive/Trabajo_final_VIU/YOLOV8/Dataset/test/images/imagen422-4.jpg: 640x608 3 ['Osteophytos']s, 9.7ms\n",
            "Speed: 1.9ms preprocess, 9.7ms inference, 1.7ms postprocess per image at shape (1, 3, 640, 608)\n",
            "\n"
          ]
        },
        {
          "output_type": "stream",
          "name": "stdout",
          "text": [
            "[0 0 0]\n"
          ]
        },
        {
          "output_type": "stream",
          "name": "stderr",
          "text": [
            "image 1/1 /content/drive/MyDrive/Trabajo_final_VIU/YOLOV8/Dataset/test/images/imagen423-10.jpg: 640x640 (no detections), 14.0ms\n",
            "Speed: 2.0ms preprocess, 14.0ms inference, 1.0ms postprocess per image at shape (1, 3, 640, 640)\n",
            "\n"
          ]
        },
        {
          "output_type": "stream",
          "name": "stdout",
          "text": [
            "[]\n"
          ]
        },
        {
          "output_type": "stream",
          "name": "stderr",
          "text": [
            "image 1/1 /content/drive/MyDrive/Trabajo_final_VIU/YOLOV8/Dataset/test/images/imagen423-4.jpg: 640x640 (no detections), 8.5ms\n",
            "Speed: 1.9ms preprocess, 8.5ms inference, 0.9ms postprocess per image at shape (1, 3, 640, 640)\n",
            "\n"
          ]
        },
        {
          "output_type": "stream",
          "name": "stdout",
          "text": [
            "[]\n"
          ]
        },
        {
          "output_type": "stream",
          "name": "stderr",
          "text": [
            "image 1/1 /content/drive/MyDrive/Trabajo_final_VIU/YOLOV8/Dataset/test/images/imagen423-7.jpg: 576x640 (no detections), 7.9ms\n",
            "Speed: 1.5ms preprocess, 7.9ms inference, 0.7ms postprocess per image at shape (1, 3, 576, 640)\n",
            "\n"
          ]
        },
        {
          "output_type": "stream",
          "name": "stdout",
          "text": [
            "[]\n"
          ]
        },
        {
          "output_type": "stream",
          "name": "stderr",
          "text": [
            "image 1/1 /content/drive/MyDrive/Trabajo_final_VIU/YOLOV8/Dataset/test/images/imagen424-14.jpg: 512x640 (no detections), 7.0ms\n",
            "Speed: 1.5ms preprocess, 7.0ms inference, 0.7ms postprocess per image at shape (1, 3, 512, 640)\n",
            "\n"
          ]
        },
        {
          "output_type": "stream",
          "name": "stdout",
          "text": [
            "[]\n"
          ]
        },
        {
          "output_type": "stream",
          "name": "stderr",
          "text": [
            "image 1/1 /content/drive/MyDrive/Trabajo_final_VIU/YOLOV8/Dataset/test/images/imagen424-19.jpg: 640x640 (no detections), 8.1ms\n",
            "Speed: 1.8ms preprocess, 8.1ms inference, 0.7ms postprocess per image at shape (1, 3, 640, 640)\n",
            "\n"
          ]
        },
        {
          "output_type": "stream",
          "name": "stdout",
          "text": [
            "[]\n"
          ]
        },
        {
          "output_type": "stream",
          "name": "stderr",
          "text": [
            "image 1/1 /content/drive/MyDrive/Trabajo_final_VIU/YOLOV8/Dataset/test/images/imagen424-9.jpg: 640x640 (no detections), 7.4ms\n",
            "Speed: 1.6ms preprocess, 7.4ms inference, 0.8ms postprocess per image at shape (1, 3, 640, 640)\n",
            "\n"
          ]
        },
        {
          "output_type": "stream",
          "name": "stdout",
          "text": [
            "[]\n"
          ]
        },
        {
          "output_type": "stream",
          "name": "stderr",
          "text": [
            "image 1/1 /content/drive/MyDrive/Trabajo_final_VIU/YOLOV8/Dataset/test/images/imagen425-13.jpg: 576x640 1 ['Osteophytos'], 7.9ms\n",
            "Speed: 1.6ms preprocess, 7.9ms inference, 1.5ms postprocess per image at shape (1, 3, 576, 640)\n",
            "\n"
          ]
        },
        {
          "output_type": "stream",
          "name": "stdout",
          "text": [
            "[0]\n"
          ]
        },
        {
          "output_type": "stream",
          "name": "stderr",
          "text": [
            "image 1/1 /content/drive/MyDrive/Trabajo_final_VIU/YOLOV8/Dataset/test/images/imagen425-18.jpg: 640x640 1 ['Osteophytos'], 8.0ms\n",
            "Speed: 1.7ms preprocess, 8.0ms inference, 1.4ms postprocess per image at shape (1, 3, 640, 640)\n",
            "\n"
          ]
        },
        {
          "output_type": "stream",
          "name": "stdout",
          "text": [
            "[0]\n"
          ]
        },
        {
          "output_type": "stream",
          "name": "stderr",
          "text": [
            "image 1/1 /content/drive/MyDrive/Trabajo_final_VIU/YOLOV8/Dataset/test/images/imagen426-11.jpg: 640x640 2 ['Osteophytos']s, 7.4ms\n",
            "Speed: 1.6ms preprocess, 7.4ms inference, 1.4ms postprocess per image at shape (1, 3, 640, 640)\n",
            "\n"
          ]
        },
        {
          "output_type": "stream",
          "name": "stdout",
          "text": [
            "[0 0]\n"
          ]
        },
        {
          "output_type": "stream",
          "name": "stderr",
          "text": [
            "image 1/1 /content/drive/MyDrive/Trabajo_final_VIU/YOLOV8/Dataset/test/images/imagen427-4.jpg: 640x576 1 ['Osteophytos'], 7.9ms\n",
            "Speed: 1.7ms preprocess, 7.9ms inference, 1.3ms postprocess per image at shape (1, 3, 640, 576)\n",
            "\n"
          ]
        },
        {
          "output_type": "stream",
          "name": "stdout",
          "text": [
            "[0]\n"
          ]
        },
        {
          "output_type": "stream",
          "name": "stderr",
          "text": [
            "image 1/1 /content/drive/MyDrive/Trabajo_final_VIU/YOLOV8/Dataset/test/images/imagen428-4.jpg: 640x640 (no detections), 8.1ms\n",
            "Speed: 1.8ms preprocess, 8.1ms inference, 1.1ms postprocess per image at shape (1, 3, 640, 640)\n",
            "\n"
          ]
        },
        {
          "output_type": "stream",
          "name": "stdout",
          "text": [
            "[]\n"
          ]
        },
        {
          "output_type": "stream",
          "name": "stderr",
          "text": [
            "image 1/1 /content/drive/MyDrive/Trabajo_final_VIU/YOLOV8/Dataset/test/images/imagen429-5.jpg: 640x640 5 ['Osteophytos']s, 7.4ms\n",
            "Speed: 1.6ms preprocess, 7.4ms inference, 1.4ms postprocess per image at shape (1, 3, 640, 640)\n",
            "\n"
          ]
        },
        {
          "output_type": "stream",
          "name": "stdout",
          "text": [
            "[0 0 0 0 0]\n"
          ]
        },
        {
          "output_type": "stream",
          "name": "stderr",
          "text": [
            "image 1/1 /content/drive/MyDrive/Trabajo_final_VIU/YOLOV8/Dataset/test/images/imagen429-6.jpg: 640x640 2 ['Osteophytos']s, 7.4ms\n",
            "Speed: 1.7ms preprocess, 7.4ms inference, 1.4ms postprocess per image at shape (1, 3, 640, 640)\n",
            "\n"
          ]
        },
        {
          "output_type": "stream",
          "name": "stdout",
          "text": [
            "[0 0]\n"
          ]
        },
        {
          "output_type": "stream",
          "name": "stderr",
          "text": [
            "image 1/1 /content/drive/MyDrive/Trabajo_final_VIU/YOLOV8/Dataset/test/images/imagen43-3.jpg: 640x640 1 ['Osteophytos'], 8.1ms\n",
            "Speed: 1.8ms preprocess, 8.1ms inference, 1.6ms postprocess per image at shape (1, 3, 640, 640)\n",
            "\n"
          ]
        },
        {
          "output_type": "stream",
          "name": "stdout",
          "text": [
            "[0]\n"
          ]
        },
        {
          "output_type": "stream",
          "name": "stderr",
          "text": [
            "image 1/1 /content/drive/MyDrive/Trabajo_final_VIU/YOLOV8/Dataset/test/images/imagen43-6.jpg: 640x352 2 ['Osteophytos']s, 9.3ms\n",
            "Speed: 1.3ms preprocess, 9.3ms inference, 1.7ms postprocess per image at shape (1, 3, 640, 352)\n",
            "\n"
          ]
        },
        {
          "output_type": "stream",
          "name": "stdout",
          "text": [
            "[0 0]\n"
          ]
        },
        {
          "output_type": "stream",
          "name": "stderr",
          "text": [
            "image 1/1 /content/drive/MyDrive/Trabajo_final_VIU/YOLOV8/Dataset/test/images/imagen430-6.jpg: 640x608 3 ['Osteophytos']s, 11.2ms\n",
            "Speed: 2.0ms preprocess, 11.2ms inference, 1.9ms postprocess per image at shape (1, 3, 640, 608)\n",
            "\n"
          ]
        },
        {
          "output_type": "stream",
          "name": "stdout",
          "text": [
            "[0 0 0]\n"
          ]
        },
        {
          "output_type": "stream",
          "name": "stderr",
          "text": [
            "image 1/1 /content/drive/MyDrive/Trabajo_final_VIU/YOLOV8/Dataset/test/images/imagen431-13.jpg: 640x640 (no detections), 8.1ms\n",
            "Speed: 1.7ms preprocess, 8.1ms inference, 0.9ms postprocess per image at shape (1, 3, 640, 640)\n",
            "\n"
          ]
        },
        {
          "output_type": "stream",
          "name": "stdout",
          "text": [
            "[]\n"
          ]
        },
        {
          "output_type": "stream",
          "name": "stderr",
          "text": [
            "image 1/1 /content/drive/MyDrive/Trabajo_final_VIU/YOLOV8/Dataset/test/images/imagen432-13.jpg: 640x640 (no detections), 7.5ms\n",
            "Speed: 1.6ms preprocess, 7.5ms inference, 1.0ms postprocess per image at shape (1, 3, 640, 640)\n",
            "\n"
          ]
        },
        {
          "output_type": "stream",
          "name": "stdout",
          "text": [
            "[]\n"
          ]
        },
        {
          "output_type": "stream",
          "name": "stderr",
          "text": [
            "image 1/1 /content/drive/MyDrive/Trabajo_final_VIU/YOLOV8/Dataset/test/images/imagen433-11.jpg: 640x640 1 ['Osteophytos'], 7.4ms\n",
            "Speed: 1.6ms preprocess, 7.4ms inference, 1.4ms postprocess per image at shape (1, 3, 640, 640)\n",
            "\n"
          ]
        },
        {
          "output_type": "stream",
          "name": "stdout",
          "text": [
            "[0]\n"
          ]
        },
        {
          "output_type": "stream",
          "name": "stderr",
          "text": [
            "image 1/1 /content/drive/MyDrive/Trabajo_final_VIU/YOLOV8/Dataset/test/images/imagen433-5.jpg: 608x640 (no detections), 8.2ms\n",
            "Speed: 1.8ms preprocess, 8.2ms inference, 0.7ms postprocess per image at shape (1, 3, 608, 640)\n",
            "\n"
          ]
        },
        {
          "output_type": "stream",
          "name": "stdout",
          "text": [
            "[]\n"
          ]
        },
        {
          "output_type": "stream",
          "name": "stderr",
          "text": [
            "image 1/1 /content/drive/MyDrive/Trabajo_final_VIU/YOLOV8/Dataset/test/images/imagen433-8.jpg: 640x640 (no detections), 8.0ms\n",
            "Speed: 1.6ms preprocess, 8.0ms inference, 0.7ms postprocess per image at shape (1, 3, 640, 640)\n",
            "\n"
          ]
        },
        {
          "output_type": "stream",
          "name": "stdout",
          "text": [
            "[]\n"
          ]
        },
        {
          "output_type": "stream",
          "name": "stderr",
          "text": [
            "image 1/1 /content/drive/MyDrive/Trabajo_final_VIU/YOLOV8/Dataset/test/images/imagen434-5.jpg: 640x640 (no detections), 7.4ms\n",
            "Speed: 1.7ms preprocess, 7.4ms inference, 0.7ms postprocess per image at shape (1, 3, 640, 640)\n",
            "\n"
          ]
        },
        {
          "output_type": "stream",
          "name": "stdout",
          "text": [
            "[]\n"
          ]
        },
        {
          "output_type": "stream",
          "name": "stderr",
          "text": [
            "image 1/1 /content/drive/MyDrive/Trabajo_final_VIU/YOLOV8/Dataset/test/images/imagen435-6.jpg: 640x608 1 ['Osteophytos'], 8.1ms\n",
            "Speed: 1.6ms preprocess, 8.1ms inference, 1.3ms postprocess per image at shape (1, 3, 640, 608)\n",
            "\n"
          ]
        },
        {
          "output_type": "stream",
          "name": "stdout",
          "text": [
            "[0]\n"
          ]
        },
        {
          "output_type": "stream",
          "name": "stderr",
          "text": [
            "image 1/1 /content/drive/MyDrive/Trabajo_final_VIU/YOLOV8/Dataset/test/images/imagen436-5.jpg: 640x640 2 ['Osteophytos']s, 8.0ms\n",
            "Speed: 1.6ms preprocess, 8.0ms inference, 1.3ms postprocess per image at shape (1, 3, 640, 640)\n",
            "\n"
          ]
        },
        {
          "output_type": "stream",
          "name": "stdout",
          "text": [
            "[0 0]\n"
          ]
        },
        {
          "output_type": "stream",
          "name": "stderr",
          "text": [
            "image 1/1 /content/drive/MyDrive/Trabajo_final_VIU/YOLOV8/Dataset/test/images/imagen437-4.jpg: 640x512 (no detections), 9.9ms\n",
            "Speed: 1.5ms preprocess, 9.9ms inference, 0.7ms postprocess per image at shape (1, 3, 640, 512)\n",
            "\n"
          ]
        },
        {
          "output_type": "stream",
          "name": "stdout",
          "text": [
            "[]\n"
          ]
        },
        {
          "output_type": "stream",
          "name": "stderr",
          "text": [
            "image 1/1 /content/drive/MyDrive/Trabajo_final_VIU/YOLOV8/Dataset/test/images/imagen438-4.jpg: 640x608 1 ['Osteophytos'], 8.1ms\n",
            "Speed: 1.6ms preprocess, 8.1ms inference, 1.3ms postprocess per image at shape (1, 3, 640, 608)\n",
            "\n"
          ]
        },
        {
          "output_type": "stream",
          "name": "stdout",
          "text": [
            "[0]\n"
          ]
        },
        {
          "output_type": "stream",
          "name": "stderr",
          "text": [
            "image 1/1 /content/drive/MyDrive/Trabajo_final_VIU/YOLOV8/Dataset/test/images/imagen439-4.jpg: 576x640 (no detections), 12.9ms\n",
            "Speed: 5.9ms preprocess, 12.9ms inference, 0.8ms postprocess per image at shape (1, 3, 576, 640)\n",
            "\n"
          ]
        },
        {
          "output_type": "stream",
          "name": "stdout",
          "text": [
            "[]\n"
          ]
        },
        {
          "output_type": "stream",
          "name": "stderr",
          "text": [
            "image 1/1 /content/drive/MyDrive/Trabajo_final_VIU/YOLOV8/Dataset/test/images/imagen439-6.jpg: 640x608 (no detections), 9.5ms\n",
            "Speed: 1.9ms preprocess, 9.5ms inference, 0.9ms postprocess per image at shape (1, 3, 640, 608)\n",
            "\n"
          ]
        },
        {
          "output_type": "stream",
          "name": "stdout",
          "text": [
            "[]\n"
          ]
        },
        {
          "output_type": "stream",
          "name": "stderr",
          "text": [
            "image 1/1 /content/drive/MyDrive/Trabajo_final_VIU/YOLOV8/Dataset/test/images/imagen44-4.jpg: 640x480 2 ['Osteophytos']s, 13.0ms\n",
            "Speed: 1.6ms preprocess, 13.0ms inference, 1.7ms postprocess per image at shape (1, 3, 640, 480)\n",
            "\n"
          ]
        },
        {
          "output_type": "stream",
          "name": "stdout",
          "text": [
            "[0 0]\n"
          ]
        },
        {
          "output_type": "stream",
          "name": "stderr",
          "text": [
            "image 1/1 /content/drive/MyDrive/Trabajo_final_VIU/YOLOV8/Dataset/test/images/imagen44-6.jpg: 640x480 2 ['Osteophytos']s, 7.1ms\n",
            "Speed: 3.1ms preprocess, 7.1ms inference, 1.4ms postprocess per image at shape (1, 3, 640, 480)\n",
            "\n"
          ]
        },
        {
          "output_type": "stream",
          "name": "stdout",
          "text": [
            "[0 0]\n"
          ]
        },
        {
          "output_type": "stream",
          "name": "stderr",
          "text": [
            "image 1/1 /content/drive/MyDrive/Trabajo_final_VIU/YOLOV8/Dataset/test/images/imagen44-8.jpg: 640x480 1 ['Osteophytos'], 6.7ms\n",
            "Speed: 1.5ms preprocess, 6.7ms inference, 1.4ms postprocess per image at shape (1, 3, 640, 480)\n",
            "\n"
          ]
        },
        {
          "output_type": "stream",
          "name": "stdout",
          "text": [
            "[0]\n"
          ]
        },
        {
          "output_type": "stream",
          "name": "stderr",
          "text": [
            "image 1/1 /content/drive/MyDrive/Trabajo_final_VIU/YOLOV8/Dataset/test/images/imagen440-4.jpg: 480x640 (no detections), 7.2ms\n",
            "Speed: 2.2ms preprocess, 7.2ms inference, 0.7ms postprocess per image at shape (1, 3, 480, 640)\n",
            "\n"
          ]
        },
        {
          "output_type": "stream",
          "name": "stdout",
          "text": [
            "[]\n"
          ]
        },
        {
          "output_type": "stream",
          "name": "stderr",
          "text": [
            "image 1/1 /content/drive/MyDrive/Trabajo_final_VIU/YOLOV8/Dataset/test/images/imagen440-5.jpg: 640x640 (no detections), 8.1ms\n",
            "Speed: 2.0ms preprocess, 8.1ms inference, 0.7ms postprocess per image at shape (1, 3, 640, 640)\n",
            "\n"
          ]
        },
        {
          "output_type": "stream",
          "name": "stdout",
          "text": [
            "[]\n"
          ]
        },
        {
          "output_type": "stream",
          "name": "stderr",
          "text": [
            "image 1/1 /content/drive/MyDrive/Trabajo_final_VIU/YOLOV8/Dataset/test/images/imagen440-6.jpg: 640x608 (no detections), 8.0ms\n",
            "Speed: 1.7ms preprocess, 8.0ms inference, 0.7ms postprocess per image at shape (1, 3, 640, 608)\n",
            "\n"
          ]
        },
        {
          "output_type": "stream",
          "name": "stdout",
          "text": [
            "[]\n"
          ]
        },
        {
          "output_type": "stream",
          "name": "stderr",
          "text": [
            "image 1/1 /content/drive/MyDrive/Trabajo_final_VIU/YOLOV8/Dataset/test/images/imagen441-5.jpg: 640x640 (no detections), 8.1ms\n",
            "Speed: 2.0ms preprocess, 8.1ms inference, 0.7ms postprocess per image at shape (1, 3, 640, 640)\n",
            "\n"
          ]
        },
        {
          "output_type": "stream",
          "name": "stdout",
          "text": [
            "[]\n"
          ]
        },
        {
          "output_type": "stream",
          "name": "stderr",
          "text": [
            "image 1/1 /content/drive/MyDrive/Trabajo_final_VIU/YOLOV8/Dataset/test/images/imagen442-10.jpg: 640x640 (no detections), 7.4ms\n",
            "Speed: 1.7ms preprocess, 7.4ms inference, 0.8ms postprocess per image at shape (1, 3, 640, 640)\n",
            "\n"
          ]
        },
        {
          "output_type": "stream",
          "name": "stdout",
          "text": [
            "[]\n"
          ]
        },
        {
          "output_type": "stream",
          "name": "stderr",
          "text": [
            "image 1/1 /content/drive/MyDrive/Trabajo_final_VIU/YOLOV8/Dataset/test/images/imagen442-11.jpg: 640x640 1 ['Osteophytos'], 7.4ms\n",
            "Speed: 1.7ms preprocess, 7.4ms inference, 1.4ms postprocess per image at shape (1, 3, 640, 640)\n",
            "\n"
          ]
        },
        {
          "output_type": "stream",
          "name": "stdout",
          "text": [
            "[0]\n"
          ]
        },
        {
          "output_type": "stream",
          "name": "stderr",
          "text": [
            "image 1/1 /content/drive/MyDrive/Trabajo_final_VIU/YOLOV8/Dataset/test/images/imagen443-7.jpg: 640x640 2 ['Osteophytos']s, 7.4ms\n",
            "Speed: 1.7ms preprocess, 7.4ms inference, 1.4ms postprocess per image at shape (1, 3, 640, 640)\n",
            "\n"
          ]
        },
        {
          "output_type": "stream",
          "name": "stdout",
          "text": [
            "[0 0]\n"
          ]
        },
        {
          "output_type": "stream",
          "name": "stderr",
          "text": [
            "image 1/1 /content/drive/MyDrive/Trabajo_final_VIU/YOLOV8/Dataset/test/images/imagen444-10.jpg: 608x640 (no detections), 8.2ms\n",
            "Speed: 1.5ms preprocess, 8.2ms inference, 0.7ms postprocess per image at shape (1, 3, 608, 640)\n",
            "\n"
          ]
        },
        {
          "output_type": "stream",
          "name": "stdout",
          "text": [
            "[]\n"
          ]
        },
        {
          "output_type": "stream",
          "name": "stderr",
          "text": [
            "image 1/1 /content/drive/MyDrive/Trabajo_final_VIU/YOLOV8/Dataset/test/images/imagen444-14.jpg: 640x640 (no detections), 9.7ms\n",
            "Speed: 2.0ms preprocess, 9.7ms inference, 0.9ms postprocess per image at shape (1, 3, 640, 640)\n",
            "\n"
          ]
        },
        {
          "output_type": "stream",
          "name": "stdout",
          "text": [
            "[]\n"
          ]
        },
        {
          "output_type": "stream",
          "name": "stderr",
          "text": [
            "image 1/1 /content/drive/MyDrive/Trabajo_final_VIU/YOLOV8/Dataset/test/images/imagen444-6.jpg: 608x640 (no detections), 9.3ms\n",
            "Speed: 1.8ms preprocess, 9.3ms inference, 1.0ms postprocess per image at shape (1, 3, 608, 640)\n",
            "\n"
          ]
        },
        {
          "output_type": "stream",
          "name": "stdout",
          "text": [
            "[]\n"
          ]
        },
        {
          "output_type": "stream",
          "name": "stderr",
          "text": [
            "image 1/1 /content/drive/MyDrive/Trabajo_final_VIU/YOLOV8/Dataset/test/images/imagen445-8.jpg: 640x640 (no detections), 8.1ms\n",
            "Speed: 1.6ms preprocess, 8.1ms inference, 0.7ms postprocess per image at shape (1, 3, 640, 640)\n",
            "\n"
          ]
        },
        {
          "output_type": "stream",
          "name": "stdout",
          "text": [
            "[]\n"
          ]
        },
        {
          "output_type": "stream",
          "name": "stderr",
          "text": [
            "image 1/1 /content/drive/MyDrive/Trabajo_final_VIU/YOLOV8/Dataset/test/images/imagen446-14.jpg: 640x640 (no detections), 7.4ms\n",
            "Speed: 1.9ms preprocess, 7.4ms inference, 0.7ms postprocess per image at shape (1, 3, 640, 640)\n",
            "\n"
          ]
        },
        {
          "output_type": "stream",
          "name": "stdout",
          "text": [
            "[]\n"
          ]
        },
        {
          "output_type": "stream",
          "name": "stderr",
          "text": [
            "image 1/1 /content/drive/MyDrive/Trabajo_final_VIU/YOLOV8/Dataset/test/images/imagen446-9.jpg: 640x640 1 ['Osteophytos'], 7.9ms\n",
            "Speed: 2.1ms preprocess, 7.9ms inference, 1.4ms postprocess per image at shape (1, 3, 640, 640)\n",
            "\n"
          ]
        },
        {
          "output_type": "stream",
          "name": "stdout",
          "text": [
            "[0]\n"
          ]
        },
        {
          "output_type": "stream",
          "name": "stderr",
          "text": [
            "image 1/1 /content/drive/MyDrive/Trabajo_final_VIU/YOLOV8/Dataset/test/images/imagen447-5.jpg: 640x640 1 ['Osteophytos'], 7.4ms\n",
            "Speed: 1.8ms preprocess, 7.4ms inference, 1.3ms postprocess per image at shape (1, 3, 640, 640)\n",
            "\n"
          ]
        },
        {
          "output_type": "stream",
          "name": "stdout",
          "text": [
            "[0]\n"
          ]
        },
        {
          "output_type": "stream",
          "name": "stderr",
          "text": [
            "image 1/1 /content/drive/MyDrive/Trabajo_final_VIU/YOLOV8/Dataset/test/images/imagen447-6.jpg: 640x640 1 ['Osteophytos'], 7.4ms\n",
            "Speed: 1.8ms preprocess, 7.4ms inference, 2.0ms postprocess per image at shape (1, 3, 640, 640)\n",
            "\n"
          ]
        },
        {
          "output_type": "stream",
          "name": "stdout",
          "text": [
            "[0]\n"
          ]
        },
        {
          "output_type": "stream",
          "name": "stderr",
          "text": [
            "image 1/1 /content/drive/MyDrive/Trabajo_final_VIU/YOLOV8/Dataset/test/images/imagen448-6.jpg: 640x576 1 ['Osteophytos'], 7.9ms\n",
            "Speed: 1.6ms preprocess, 7.9ms inference, 1.4ms postprocess per image at shape (1, 3, 640, 576)\n",
            "\n"
          ]
        },
        {
          "output_type": "stream",
          "name": "stdout",
          "text": [
            "[0]\n"
          ]
        },
        {
          "output_type": "stream",
          "name": "stderr",
          "text": [
            "image 1/1 /content/drive/MyDrive/Trabajo_final_VIU/YOLOV8/Dataset/test/images/imagen449-11.jpg: 608x640 1 ['Osteophytos'], 8.1ms\n",
            "Speed: 1.8ms preprocess, 8.1ms inference, 1.3ms postprocess per image at shape (1, 3, 608, 640)\n",
            "\n"
          ]
        },
        {
          "output_type": "stream",
          "name": "stdout",
          "text": [
            "[0]\n"
          ]
        },
        {
          "output_type": "stream",
          "name": "stderr",
          "text": [
            "image 1/1 /content/drive/MyDrive/Trabajo_final_VIU/YOLOV8/Dataset/test/images/imagen449-15.jpg: 640x640 1 ['Osteophytos'], 9.8ms\n",
            "Speed: 1.6ms preprocess, 9.8ms inference, 1.8ms postprocess per image at shape (1, 3, 640, 640)\n",
            "\n"
          ]
        },
        {
          "output_type": "stream",
          "name": "stdout",
          "text": [
            "[0]\n"
          ]
        },
        {
          "output_type": "stream",
          "name": "stderr",
          "text": [
            "image 1/1 /content/drive/MyDrive/Trabajo_final_VIU/YOLOV8/Dataset/test/images/imagen449-7.jpg: 576x640 (no detections), 8.0ms\n",
            "Speed: 1.7ms preprocess, 8.0ms inference, 0.8ms postprocess per image at shape (1, 3, 576, 640)\n",
            "\n"
          ]
        },
        {
          "output_type": "stream",
          "name": "stdout",
          "text": [
            "[]\n"
          ]
        },
        {
          "output_type": "stream",
          "name": "stderr",
          "text": [
            "image 1/1 /content/drive/MyDrive/Trabajo_final_VIU/YOLOV8/Dataset/test/images/imagen45-5.jpg: 640x640 2 ['Osteophytos']s, 8.2ms\n",
            "Speed: 1.6ms preprocess, 8.2ms inference, 1.4ms postprocess per image at shape (1, 3, 640, 640)\n",
            "\n"
          ]
        },
        {
          "output_type": "stream",
          "name": "stdout",
          "text": [
            "[0 0]\n"
          ]
        },
        {
          "output_type": "stream",
          "name": "stderr",
          "text": [
            "image 1/1 /content/drive/MyDrive/Trabajo_final_VIU/YOLOV8/Dataset/test/images/imagen45-8.jpg: 640x640 2 ['Osteophytos']s, 7.4ms\n",
            "Speed: 1.6ms preprocess, 7.4ms inference, 1.4ms postprocess per image at shape (1, 3, 640, 640)\n",
            "\n"
          ]
        },
        {
          "output_type": "stream",
          "name": "stdout",
          "text": [
            "[0 0]\n"
          ]
        },
        {
          "output_type": "stream",
          "name": "stderr",
          "text": [
            "image 1/1 /content/drive/MyDrive/Trabajo_final_VIU/YOLOV8/Dataset/test/images/imagen450-5.jpg: 640x640 (no detections), 11.2ms\n",
            "Speed: 2.1ms preprocess, 11.2ms inference, 1.1ms postprocess per image at shape (1, 3, 640, 640)\n",
            "\n"
          ]
        },
        {
          "output_type": "stream",
          "name": "stdout",
          "text": [
            "[]\n"
          ]
        },
        {
          "output_type": "stream",
          "name": "stderr",
          "text": [
            "image 1/1 /content/drive/MyDrive/Trabajo_final_VIU/YOLOV8/Dataset/test/images/imagen451-1.jpg: 640x640 1 ['Osteophytos'], 10.3ms\n",
            "Speed: 1.9ms preprocess, 10.3ms inference, 2.0ms postprocess per image at shape (1, 3, 640, 640)\n",
            "\n"
          ]
        },
        {
          "output_type": "stream",
          "name": "stdout",
          "text": [
            "[0]\n"
          ]
        },
        {
          "output_type": "stream",
          "name": "stderr",
          "text": [
            "image 1/1 /content/drive/MyDrive/Trabajo_final_VIU/YOLOV8/Dataset/test/images/imagen451-3.jpg: 640x640 3 ['Osteophytos']s, 16.0ms\n",
            "Speed: 1.9ms preprocess, 16.0ms inference, 2.0ms postprocess per image at shape (1, 3, 640, 640)\n",
            "\n"
          ]
        },
        {
          "output_type": "stream",
          "name": "stdout",
          "text": [
            "[0 0 0]\n"
          ]
        },
        {
          "output_type": "stream",
          "name": "stderr",
          "text": [
            "image 1/1 /content/drive/MyDrive/Trabajo_final_VIU/YOLOV8/Dataset/test/images/imagen452-3.jpg: 640x640 2 ['Osteophytos']s, 7.4ms\n",
            "Speed: 1.7ms preprocess, 7.4ms inference, 1.5ms postprocess per image at shape (1, 3, 640, 640)\n",
            "\n"
          ]
        },
        {
          "output_type": "stream",
          "name": "stdout",
          "text": [
            "[0 0]\n"
          ]
        },
        {
          "output_type": "stream",
          "name": "stderr",
          "text": [
            "image 1/1 /content/drive/MyDrive/Trabajo_final_VIU/YOLOV8/Dataset/test/images/imagen452-4.jpg: 640x640 2 ['Osteophytos']s, 7.4ms\n",
            "Speed: 1.6ms preprocess, 7.4ms inference, 1.4ms postprocess per image at shape (1, 3, 640, 640)\n",
            "\n"
          ]
        },
        {
          "output_type": "stream",
          "name": "stdout",
          "text": [
            "[0 0]\n"
          ]
        },
        {
          "output_type": "stream",
          "name": "stderr",
          "text": [
            "image 1/1 /content/drive/MyDrive/Trabajo_final_VIU/YOLOV8/Dataset/test/images/imagen452-5.jpg: 640x640 1 ['Osteophytos'], 7.4ms\n",
            "Speed: 1.6ms preprocess, 7.4ms inference, 1.5ms postprocess per image at shape (1, 3, 640, 640)\n",
            "\n"
          ]
        },
        {
          "output_type": "stream",
          "name": "stdout",
          "text": [
            "[0]\n"
          ]
        },
        {
          "output_type": "stream",
          "name": "stderr",
          "text": [
            "image 1/1 /content/drive/MyDrive/Trabajo_final_VIU/YOLOV8/Dataset/test/images/imagen452-6.jpg: 640x640 2 ['Osteophytos']s, 7.4ms\n",
            "Speed: 1.8ms preprocess, 7.4ms inference, 1.5ms postprocess per image at shape (1, 3, 640, 640)\n",
            "\n"
          ]
        },
        {
          "output_type": "stream",
          "name": "stdout",
          "text": [
            "[0 0]\n"
          ]
        },
        {
          "output_type": "stream",
          "name": "stderr",
          "text": [
            "image 1/1 /content/drive/MyDrive/Trabajo_final_VIU/YOLOV8/Dataset/test/images/imagen453-6.jpg: 544x640 2 ['Osteophytos']s, 8.1ms\n",
            "Speed: 2.6ms preprocess, 8.1ms inference, 1.3ms postprocess per image at shape (1, 3, 544, 640)\n",
            "\n"
          ]
        },
        {
          "output_type": "stream",
          "name": "stdout",
          "text": [
            "[0 0]\n"
          ]
        },
        {
          "output_type": "stream",
          "name": "stderr",
          "text": [
            "image 1/1 /content/drive/MyDrive/Trabajo_final_VIU/YOLOV8/Dataset/test/images/imagen453-8.jpg: 640x640 (no detections), 8.2ms\n",
            "Speed: 1.7ms preprocess, 8.2ms inference, 0.7ms postprocess per image at shape (1, 3, 640, 640)\n",
            "\n"
          ]
        },
        {
          "output_type": "stream",
          "name": "stdout",
          "text": [
            "[]\n"
          ]
        },
        {
          "output_type": "stream",
          "name": "stderr",
          "text": [
            "image 1/1 /content/drive/MyDrive/Trabajo_final_VIU/YOLOV8/Dataset/test/images/imagen454-3.jpg: 640x640 (no detections), 7.4ms\n",
            "Speed: 1.6ms preprocess, 7.4ms inference, 1.1ms postprocess per image at shape (1, 3, 640, 640)\n",
            "\n"
          ]
        },
        {
          "output_type": "stream",
          "name": "stdout",
          "text": [
            "[]\n"
          ]
        },
        {
          "output_type": "stream",
          "name": "stderr",
          "text": [
            "image 1/1 /content/drive/MyDrive/Trabajo_final_VIU/YOLOV8/Dataset/test/images/imagen455-4.jpg: 640x640 (no detections), 7.6ms\n",
            "Speed: 2.5ms preprocess, 7.6ms inference, 1.1ms postprocess per image at shape (1, 3, 640, 640)\n",
            "\n"
          ]
        },
        {
          "output_type": "stream",
          "name": "stdout",
          "text": [
            "[]\n"
          ]
        },
        {
          "output_type": "stream",
          "name": "stderr",
          "text": [
            "image 1/1 /content/drive/MyDrive/Trabajo_final_VIU/YOLOV8/Dataset/test/images/imagen455-5.jpg: 640x640 (no detections), 7.4ms\n",
            "Speed: 1.7ms preprocess, 7.4ms inference, 0.7ms postprocess per image at shape (1, 3, 640, 640)\n",
            "\n"
          ]
        },
        {
          "output_type": "stream",
          "name": "stdout",
          "text": [
            "[]\n"
          ]
        },
        {
          "output_type": "stream",
          "name": "stderr",
          "text": [
            "image 1/1 /content/drive/MyDrive/Trabajo_final_VIU/YOLOV8/Dataset/test/images/imagen455-6.jpg: 640x640 (no detections), 7.4ms\n",
            "Speed: 1.8ms preprocess, 7.4ms inference, 0.7ms postprocess per image at shape (1, 3, 640, 640)\n",
            "\n"
          ]
        },
        {
          "output_type": "stream",
          "name": "stdout",
          "text": [
            "[]\n"
          ]
        },
        {
          "output_type": "stream",
          "name": "stderr",
          "text": [
            "image 1/1 /content/drive/MyDrive/Trabajo_final_VIU/YOLOV8/Dataset/test/images/imagen456-4.jpg: 640x640 (no detections), 8.8ms\n",
            "Speed: 2.2ms preprocess, 8.8ms inference, 0.9ms postprocess per image at shape (1, 3, 640, 640)\n",
            "\n"
          ]
        },
        {
          "output_type": "stream",
          "name": "stdout",
          "text": [
            "[]\n"
          ]
        },
        {
          "output_type": "stream",
          "name": "stderr",
          "text": [
            "image 1/1 /content/drive/MyDrive/Trabajo_final_VIU/YOLOV8/Dataset/test/images/imagen457-5.jpg: 640x640 1 ['Osteophytos'], 8.2ms\n",
            "Speed: 1.8ms preprocess, 8.2ms inference, 1.7ms postprocess per image at shape (1, 3, 640, 640)\n",
            "\n"
          ]
        },
        {
          "output_type": "stream",
          "name": "stdout",
          "text": [
            "[0]\n"
          ]
        },
        {
          "output_type": "stream",
          "name": "stderr",
          "text": [
            "image 1/1 /content/drive/MyDrive/Trabajo_final_VIU/YOLOV8/Dataset/test/images/imagen457-6.jpg: 640x544 2 ['Osteophytos']s, 12.9ms\n",
            "Speed: 1.9ms preprocess, 12.9ms inference, 2.1ms postprocess per image at shape (1, 3, 640, 544)\n",
            "\n"
          ]
        },
        {
          "output_type": "stream",
          "name": "stdout",
          "text": [
            "[0 0]\n"
          ]
        },
        {
          "output_type": "stream",
          "name": "stderr",
          "text": [
            "image 1/1 /content/drive/MyDrive/Trabajo_final_VIU/YOLOV8/Dataset/test/images/imagen458-4.jpg: 640x384 (no detections), 7.5ms\n",
            "Speed: 1.4ms preprocess, 7.5ms inference, 0.7ms postprocess per image at shape (1, 3, 640, 384)\n",
            "\n"
          ]
        },
        {
          "output_type": "stream",
          "name": "stdout",
          "text": [
            "[]\n"
          ]
        },
        {
          "output_type": "stream",
          "name": "stderr",
          "text": [
            "image 1/1 /content/drive/MyDrive/Trabajo_final_VIU/YOLOV8/Dataset/test/images/imagen458-6.jpg: 640x384 1 ['Osteophytos'], 6.7ms\n",
            "Speed: 1.4ms preprocess, 6.7ms inference, 1.4ms postprocess per image at shape (1, 3, 640, 384)\n",
            "\n"
          ]
        },
        {
          "output_type": "stream",
          "name": "stdout",
          "text": [
            "[0]\n"
          ]
        },
        {
          "output_type": "stream",
          "name": "stderr",
          "text": [
            "image 1/1 /content/drive/MyDrive/Trabajo_final_VIU/YOLOV8/Dataset/test/images/imagen459-6.jpg: 640x608 1 ['Osteophytos'], 8.1ms\n",
            "Speed: 1.7ms preprocess, 8.1ms inference, 1.3ms postprocess per image at shape (1, 3, 640, 608)\n",
            "\n"
          ]
        },
        {
          "output_type": "stream",
          "name": "stdout",
          "text": [
            "[0]\n"
          ]
        },
        {
          "output_type": "stream",
          "name": "stderr",
          "text": [
            "image 1/1 /content/drive/MyDrive/Trabajo_final_VIU/YOLOV8/Dataset/test/images/imagen46-11.jpg: 640x640 3 ['Osteophytos']s, 8.1ms\n",
            "Speed: 1.7ms preprocess, 8.1ms inference, 1.3ms postprocess per image at shape (1, 3, 640, 640)\n",
            "\n"
          ]
        },
        {
          "output_type": "stream",
          "name": "stdout",
          "text": [
            "[0 0 0]\n"
          ]
        },
        {
          "output_type": "stream",
          "name": "stderr",
          "text": [
            "image 1/1 /content/drive/MyDrive/Trabajo_final_VIU/YOLOV8/Dataset/test/images/imagen46-15.jpg: 640x640 1 ['Osteophytos'], 7.5ms\n",
            "Speed: 2.0ms preprocess, 7.5ms inference, 1.4ms postprocess per image at shape (1, 3, 640, 640)\n",
            "\n"
          ]
        },
        {
          "output_type": "stream",
          "name": "stdout",
          "text": [
            "[0]\n"
          ]
        },
        {
          "output_type": "stream",
          "name": "stderr",
          "text": [
            "image 1/1 /content/drive/MyDrive/Trabajo_final_VIU/YOLOV8/Dataset/test/images/imagen460-6.jpg: 640x608 3 ['Osteophytos']s, 8.0ms\n",
            "Speed: 1.7ms preprocess, 8.0ms inference, 1.4ms postprocess per image at shape (1, 3, 640, 608)\n",
            "\n"
          ]
        },
        {
          "output_type": "stream",
          "name": "stdout",
          "text": [
            "[0 0 0]\n"
          ]
        },
        {
          "output_type": "stream",
          "name": "stderr",
          "text": [
            "image 1/1 /content/drive/MyDrive/Trabajo_final_VIU/YOLOV8/Dataset/test/images/imagen461-4.jpg: 640x608 1 ['Osteophytos'], 7.3ms\n",
            "Speed: 2.8ms preprocess, 7.3ms inference, 1.5ms postprocess per image at shape (1, 3, 640, 608)\n",
            "\n"
          ]
        },
        {
          "output_type": "stream",
          "name": "stdout",
          "text": [
            "[0]\n"
          ]
        },
        {
          "output_type": "stream",
          "name": "stderr",
          "text": [
            "image 1/1 /content/drive/MyDrive/Trabajo_final_VIU/YOLOV8/Dataset/test/images/imagen461-6.jpg: 384x640 1 ['Osteophytos'], 62.9ms\n",
            "Speed: 2.4ms preprocess, 62.9ms inference, 1.4ms postprocess per image at shape (1, 3, 384, 640)\n",
            "\n"
          ]
        },
        {
          "output_type": "stream",
          "name": "stdout",
          "text": [
            "[0]\n"
          ]
        },
        {
          "output_type": "stream",
          "name": "stderr",
          "text": [
            "image 1/1 /content/drive/MyDrive/Trabajo_final_VIU/YOLOV8/Dataset/test/images/imagen462-6.jpg: 640x640 1 ['Osteophytos'], 8.1ms\n",
            "Speed: 1.6ms preprocess, 8.1ms inference, 1.5ms postprocess per image at shape (1, 3, 640, 640)\n",
            "\n"
          ]
        },
        {
          "output_type": "stream",
          "name": "stdout",
          "text": [
            "[0]\n"
          ]
        },
        {
          "output_type": "stream",
          "name": "stderr",
          "text": [
            "image 1/1 /content/drive/MyDrive/Trabajo_final_VIU/YOLOV8/Dataset/test/images/imagen463-11.jpg: 640x640 (no detections), 7.5ms\n",
            "Speed: 1.9ms preprocess, 7.5ms inference, 0.8ms postprocess per image at shape (1, 3, 640, 640)\n",
            "\n"
          ]
        },
        {
          "output_type": "stream",
          "name": "stdout",
          "text": [
            "[]\n"
          ]
        },
        {
          "output_type": "stream",
          "name": "stderr",
          "text": [
            "image 1/1 /content/drive/MyDrive/Trabajo_final_VIU/YOLOV8/Dataset/test/images/imagen463-8.jpg: 448x640 (no detections), 7.3ms\n",
            "Speed: 1.5ms preprocess, 7.3ms inference, 0.7ms postprocess per image at shape (1, 3, 448, 640)\n",
            "\n"
          ]
        },
        {
          "output_type": "stream",
          "name": "stdout",
          "text": [
            "[]\n"
          ]
        },
        {
          "output_type": "stream",
          "name": "stderr",
          "text": [
            "image 1/1 /content/drive/MyDrive/Trabajo_final_VIU/YOLOV8/Dataset/test/images/imagen464-10.jpg: 640x640 (no detections), 14.6ms\n",
            "Speed: 1.8ms preprocess, 14.6ms inference, 1.0ms postprocess per image at shape (1, 3, 640, 640)\n",
            "\n"
          ]
        },
        {
          "output_type": "stream",
          "name": "stdout",
          "text": [
            "[]\n"
          ]
        },
        {
          "output_type": "stream",
          "name": "stderr",
          "text": [
            "image 1/1 /content/drive/MyDrive/Trabajo_final_VIU/YOLOV8/Dataset/test/images/imagen465-10.jpg: 640x640 2 ['Osteophytos']s, 13.1ms\n",
            "Speed: 2.2ms preprocess, 13.1ms inference, 1.7ms postprocess per image at shape (1, 3, 640, 640)\n",
            "\n"
          ]
        },
        {
          "output_type": "stream",
          "name": "stdout",
          "text": [
            "[0 0]\n"
          ]
        },
        {
          "output_type": "stream",
          "name": "stderr",
          "text": [
            "image 1/1 /content/drive/MyDrive/Trabajo_final_VIU/YOLOV8/Dataset/test/images/imagen466-13.jpg: 640x640 3 ['Osteophytos']s, 7.4ms\n",
            "Speed: 1.6ms preprocess, 7.4ms inference, 1.3ms postprocess per image at shape (1, 3, 640, 640)\n",
            "\n"
          ]
        },
        {
          "output_type": "stream",
          "name": "stdout",
          "text": [
            "[0 0 0]\n"
          ]
        },
        {
          "output_type": "stream",
          "name": "stderr",
          "text": [
            "image 1/1 /content/drive/MyDrive/Trabajo_final_VIU/YOLOV8/Dataset/test/images/imagen467-11.jpg: 640x640 3 ['Osteophytos']s, 12.1ms\n",
            "Speed: 2.9ms preprocess, 12.1ms inference, 1.3ms postprocess per image at shape (1, 3, 640, 640)\n",
            "\n"
          ]
        },
        {
          "output_type": "stream",
          "name": "stdout",
          "text": [
            "[0 0 0]\n"
          ]
        },
        {
          "output_type": "stream",
          "name": "stderr",
          "text": [
            "image 1/1 /content/drive/MyDrive/Trabajo_final_VIU/YOLOV8/Dataset/test/images/imagen467-15.jpg: 640x640 1 ['Osteophytos'], 7.4ms\n",
            "Speed: 1.7ms preprocess, 7.4ms inference, 1.5ms postprocess per image at shape (1, 3, 640, 640)\n",
            "\n"
          ]
        },
        {
          "output_type": "stream",
          "name": "stdout",
          "text": [
            "[0]\n"
          ]
        },
        {
          "output_type": "stream",
          "name": "stderr",
          "text": [
            "image 1/1 /content/drive/MyDrive/Trabajo_final_VIU/YOLOV8/Dataset/test/images/imagen468-6.jpg: 640x576 4 ['Osteophytos']s, 8.1ms\n",
            "Speed: 1.6ms preprocess, 8.1ms inference, 1.4ms postprocess per image at shape (1, 3, 640, 576)\n",
            "\n"
          ]
        },
        {
          "output_type": "stream",
          "name": "stdout",
          "text": [
            "[0 0 0 0]\n"
          ]
        },
        {
          "output_type": "stream",
          "name": "stderr",
          "text": [
            "image 1/1 /content/drive/MyDrive/Trabajo_final_VIU/YOLOV8/Dataset/test/images/imagen469-5.jpg: 640x640 (no detections), 8.1ms\n",
            "Speed: 1.6ms preprocess, 8.1ms inference, 0.7ms postprocess per image at shape (1, 3, 640, 640)\n",
            "\n"
          ]
        },
        {
          "output_type": "stream",
          "name": "stdout",
          "text": [
            "[]\n"
          ]
        },
        {
          "output_type": "stream",
          "name": "stderr",
          "text": [
            "image 1/1 /content/drive/MyDrive/Trabajo_final_VIU/YOLOV8/Dataset/test/images/imagen47-11.jpg: 640x640 4 ['Osteophytos']s, 7.4ms\n",
            "Speed: 1.7ms preprocess, 7.4ms inference, 1.4ms postprocess per image at shape (1, 3, 640, 640)\n",
            "\n"
          ]
        },
        {
          "output_type": "stream",
          "name": "stdout",
          "text": [
            "[0 0 0 0]\n"
          ]
        },
        {
          "output_type": "stream",
          "name": "stderr",
          "text": [
            "image 1/1 /content/drive/MyDrive/Trabajo_final_VIU/YOLOV8/Dataset/test/images/imagen470-5.jpg: 640x640 (no detections), 7.4ms\n",
            "Speed: 1.6ms preprocess, 7.4ms inference, 0.7ms postprocess per image at shape (1, 3, 640, 640)\n",
            "\n"
          ]
        },
        {
          "output_type": "stream",
          "name": "stdout",
          "text": [
            "[]\n"
          ]
        },
        {
          "output_type": "stream",
          "name": "stderr",
          "text": [
            "image 1/1 /content/drive/MyDrive/Trabajo_final_VIU/YOLOV8/Dataset/test/images/imagen471-7.jpg: 640x640 1 ['Osteophytos'], 7.6ms\n",
            "Speed: 1.7ms preprocess, 7.6ms inference, 1.6ms postprocess per image at shape (1, 3, 640, 640)\n",
            "\n"
          ]
        },
        {
          "output_type": "stream",
          "name": "stdout",
          "text": [
            "[0]\n"
          ]
        },
        {
          "output_type": "stream",
          "name": "stderr",
          "text": [
            "image 1/1 /content/drive/MyDrive/Trabajo_final_VIU/YOLOV8/Dataset/test/images/imagen472-3.jpg: 640x640 1 ['Osteophytos'], 7.4ms\n",
            "Speed: 1.6ms preprocess, 7.4ms inference, 1.4ms postprocess per image at shape (1, 3, 640, 640)\n",
            "\n"
          ]
        },
        {
          "output_type": "stream",
          "name": "stdout",
          "text": [
            "[0]\n"
          ]
        },
        {
          "output_type": "stream",
          "name": "stderr",
          "text": [
            "image 1/1 /content/drive/MyDrive/Trabajo_final_VIU/YOLOV8/Dataset/test/images/imagen472-6.jpg: 640x640 3 ['Osteophytos']s, 7.4ms\n",
            "Speed: 1.7ms preprocess, 7.4ms inference, 1.4ms postprocess per image at shape (1, 3, 640, 640)\n",
            "\n"
          ]
        },
        {
          "output_type": "stream",
          "name": "stdout",
          "text": [
            "[0 0 0]\n"
          ]
        },
        {
          "output_type": "stream",
          "name": "stderr",
          "text": [
            "image 1/1 /content/drive/MyDrive/Trabajo_final_VIU/YOLOV8/Dataset/test/images/imagen473-3.jpg: 640x640 5 ['Osteophytos']s, 7.9ms\n",
            "Speed: 1.6ms preprocess, 7.9ms inference, 1.8ms postprocess per image at shape (1, 3, 640, 640)\n",
            "\n"
          ]
        },
        {
          "output_type": "stream",
          "name": "stdout",
          "text": [
            "[0 0 0 0 0]\n"
          ]
        },
        {
          "output_type": "stream",
          "name": "stderr",
          "text": [
            "image 1/1 /content/drive/MyDrive/Trabajo_final_VIU/YOLOV8/Dataset/test/images/imagen474-3.jpg: 640x640 (no detections), 14.7ms\n",
            "Speed: 1.9ms preprocess, 14.7ms inference, 0.9ms postprocess per image at shape (1, 3, 640, 640)\n",
            "\n"
          ]
        },
        {
          "output_type": "stream",
          "name": "stdout",
          "text": [
            "[]\n"
          ]
        },
        {
          "output_type": "stream",
          "name": "stderr",
          "text": [
            "image 1/1 /content/drive/MyDrive/Trabajo_final_VIU/YOLOV8/Dataset/test/images/imagen475-4.jpg: 640x640 (no detections), 8.5ms\n",
            "Speed: 2.3ms preprocess, 8.5ms inference, 0.9ms postprocess per image at shape (1, 3, 640, 640)\n",
            "\n"
          ]
        },
        {
          "output_type": "stream",
          "name": "stdout",
          "text": [
            "[]\n"
          ]
        },
        {
          "output_type": "stream",
          "name": "stderr",
          "text": [
            "image 1/1 /content/drive/MyDrive/Trabajo_final_VIU/YOLOV8/Dataset/test/images/imagen476-13.jpg: 640x640 1 ['Osteophytos'], 11.8ms\n",
            "Speed: 2.0ms preprocess, 11.8ms inference, 2.8ms postprocess per image at shape (1, 3, 640, 640)\n",
            "\n"
          ]
        },
        {
          "output_type": "stream",
          "name": "stdout",
          "text": [
            "[0]\n"
          ]
        },
        {
          "output_type": "stream",
          "name": "stderr",
          "text": [
            "image 1/1 /content/drive/MyDrive/Trabajo_final_VIU/YOLOV8/Dataset/test/images/imagen477-10.jpg: 640x576 (no detections), 7.9ms\n",
            "Speed: 1.6ms preprocess, 7.9ms inference, 0.7ms postprocess per image at shape (1, 3, 640, 576)\n",
            "\n"
          ]
        },
        {
          "output_type": "stream",
          "name": "stdout",
          "text": [
            "[]\n"
          ]
        },
        {
          "output_type": "stream",
          "name": "stderr",
          "text": [
            "image 1/1 /content/drive/MyDrive/Trabajo_final_VIU/YOLOV8/Dataset/test/images/imagen477-11.jpg: 640x640 (no detections), 8.1ms\n",
            "Speed: 1.7ms preprocess, 8.1ms inference, 0.7ms postprocess per image at shape (1, 3, 640, 640)\n",
            "\n"
          ]
        },
        {
          "output_type": "stream",
          "name": "stdout",
          "text": [
            "[]\n"
          ]
        },
        {
          "output_type": "stream",
          "name": "stderr",
          "text": [
            "image 1/1 /content/drive/MyDrive/Trabajo_final_VIU/YOLOV8/Dataset/test/images/imagen477-6.jpg: 608x640 (no detections), 8.0ms\n",
            "Speed: 2.7ms preprocess, 8.0ms inference, 0.7ms postprocess per image at shape (1, 3, 608, 640)\n",
            "\n"
          ]
        },
        {
          "output_type": "stream",
          "name": "stdout",
          "text": [
            "[]\n"
          ]
        },
        {
          "output_type": "stream",
          "name": "stderr",
          "text": [
            "image 1/1 /content/drive/MyDrive/Trabajo_final_VIU/YOLOV8/Dataset/test/images/imagen477-7.jpg: 544x640 2 ['Osteophytos']s, 7.9ms\n",
            "Speed: 1.6ms preprocess, 7.9ms inference, 1.4ms postprocess per image at shape (1, 3, 544, 640)\n",
            "\n"
          ]
        },
        {
          "output_type": "stream",
          "name": "stdout",
          "text": [
            "[0 0]\n"
          ]
        },
        {
          "output_type": "stream",
          "name": "stderr",
          "text": [
            "image 1/1 /content/drive/MyDrive/Trabajo_final_VIU/YOLOV8/Dataset/test/images/imagen478-4.jpg: 640x608 1 ['Osteophytos'], 8.0ms\n",
            "Speed: 1.9ms preprocess, 8.0ms inference, 1.3ms postprocess per image at shape (1, 3, 640, 608)\n",
            "\n"
          ]
        },
        {
          "output_type": "stream",
          "name": "stdout",
          "text": [
            "[0]\n"
          ]
        },
        {
          "output_type": "stream",
          "name": "stderr",
          "text": [
            "image 1/1 /content/drive/MyDrive/Trabajo_final_VIU/YOLOV8/Dataset/test/images/imagen478-6.jpg: 640x608 1 ['Osteophytos'], 7.3ms\n",
            "Speed: 1.8ms preprocess, 7.3ms inference, 1.3ms postprocess per image at shape (1, 3, 640, 608)\n",
            "\n"
          ]
        },
        {
          "output_type": "stream",
          "name": "stdout",
          "text": [
            "[0]\n"
          ]
        },
        {
          "output_type": "stream",
          "name": "stderr",
          "text": [
            "image 1/1 /content/drive/MyDrive/Trabajo_final_VIU/YOLOV8/Dataset/test/images/imagen479-13.jpg: 576x640 2 ['Osteophytos']s, 15.8ms\n",
            "Speed: 2.0ms preprocess, 15.8ms inference, 2.1ms postprocess per image at shape (1, 3, 576, 640)\n",
            "\n"
          ]
        },
        {
          "output_type": "stream",
          "name": "stdout",
          "text": [
            "[0 0]\n"
          ]
        },
        {
          "output_type": "stream",
          "name": "stderr",
          "text": [
            "image 1/1 /content/drive/MyDrive/Trabajo_final_VIU/YOLOV8/Dataset/test/images/imagen479-18.jpg: 640x640 4 ['Osteophytos']s, 8.1ms\n",
            "Speed: 1.6ms preprocess, 8.1ms inference, 1.4ms postprocess per image at shape (1, 3, 640, 640)\n",
            "\n"
          ]
        },
        {
          "output_type": "stream",
          "name": "stdout",
          "text": [
            "[0 0 0 0]\n"
          ]
        },
        {
          "output_type": "stream",
          "name": "stderr",
          "text": [
            "image 1/1 /content/drive/MyDrive/Trabajo_final_VIU/YOLOV8/Dataset/test/images/imagen48-6.jpg: 640x608 2 ['Osteophytos']s, 8.0ms\n",
            "Speed: 1.9ms preprocess, 8.0ms inference, 1.3ms postprocess per image at shape (1, 3, 640, 608)\n",
            "\n"
          ]
        },
        {
          "output_type": "stream",
          "name": "stdout",
          "text": [
            "[0 0]\n"
          ]
        },
        {
          "output_type": "stream",
          "name": "stderr",
          "text": [
            "image 1/1 /content/drive/MyDrive/Trabajo_final_VIU/YOLOV8/Dataset/test/images/imagen480-10.jpg: 640x640 2 ['Osteophytos']s, 8.1ms\n",
            "Speed: 1.7ms preprocess, 8.1ms inference, 1.3ms postprocess per image at shape (1, 3, 640, 640)\n",
            "\n"
          ]
        },
        {
          "output_type": "stream",
          "name": "stdout",
          "text": [
            "[0 0]\n"
          ]
        },
        {
          "output_type": "stream",
          "name": "stderr",
          "text": [
            "image 1/1 /content/drive/MyDrive/Trabajo_final_VIU/YOLOV8/Dataset/test/images/imagen480-7.jpg: 640x640 1 ['Osteophytos'], 8.3ms\n",
            "Speed: 2.2ms preprocess, 8.3ms inference, 1.8ms postprocess per image at shape (1, 3, 640, 640)\n",
            "\n"
          ]
        },
        {
          "output_type": "stream",
          "name": "stdout",
          "text": [
            "[0]\n"
          ]
        },
        {
          "output_type": "stream",
          "name": "stderr",
          "text": [
            "image 1/1 /content/drive/MyDrive/Trabajo_final_VIU/YOLOV8/Dataset/test/images/imagen481-10.jpg: 640x640 3 ['Osteophytos']s, 8.9ms\n",
            "Speed: 1.9ms preprocess, 8.9ms inference, 1.7ms postprocess per image at shape (1, 3, 640, 640)\n",
            "\n"
          ]
        },
        {
          "output_type": "stream",
          "name": "stdout",
          "text": [
            "[0 0 0]\n"
          ]
        },
        {
          "output_type": "stream",
          "name": "stderr",
          "text": [
            "image 1/1 /content/drive/MyDrive/Trabajo_final_VIU/YOLOV8/Dataset/test/images/imagen482-5.jpg: 640x640 (no detections), 8.8ms\n",
            "Speed: 1.9ms preprocess, 8.8ms inference, 0.9ms postprocess per image at shape (1, 3, 640, 640)\n",
            "\n"
          ]
        },
        {
          "output_type": "stream",
          "name": "stdout",
          "text": [
            "[]\n"
          ]
        },
        {
          "output_type": "stream",
          "name": "stderr",
          "text": [
            "image 1/1 /content/drive/MyDrive/Trabajo_final_VIU/YOLOV8/Dataset/test/images/imagen483-5.jpg: 640x640 (no detections), 7.4ms\n",
            "Speed: 1.6ms preprocess, 7.4ms inference, 0.8ms postprocess per image at shape (1, 3, 640, 640)\n",
            "\n"
          ]
        },
        {
          "output_type": "stream",
          "name": "stdout",
          "text": [
            "[]\n"
          ]
        },
        {
          "output_type": "stream",
          "name": "stderr",
          "text": [
            "image 1/1 /content/drive/MyDrive/Trabajo_final_VIU/YOLOV8/Dataset/test/images/imagen484-10.jpg: 640x640 (no detections), 7.4ms\n",
            "Speed: 1.6ms preprocess, 7.4ms inference, 0.7ms postprocess per image at shape (1, 3, 640, 640)\n",
            "\n"
          ]
        },
        {
          "output_type": "stream",
          "name": "stdout",
          "text": [
            "[]\n"
          ]
        },
        {
          "output_type": "stream",
          "name": "stderr",
          "text": [
            "image 1/1 /content/drive/MyDrive/Trabajo_final_VIU/YOLOV8/Dataset/test/images/imagen484-11.jpg: 640x640 (no detections), 7.4ms\n",
            "Speed: 1.6ms preprocess, 7.4ms inference, 0.7ms postprocess per image at shape (1, 3, 640, 640)\n",
            "\n"
          ]
        },
        {
          "output_type": "stream",
          "name": "stdout",
          "text": [
            "[]\n"
          ]
        },
        {
          "output_type": "stream",
          "name": "stderr",
          "text": [
            "image 1/1 /content/drive/MyDrive/Trabajo_final_VIU/YOLOV8/Dataset/test/images/imagen485-5.jpg: 640x640 (no detections), 7.4ms\n",
            "Speed: 1.7ms preprocess, 7.4ms inference, 0.8ms postprocess per image at shape (1, 3, 640, 640)\n",
            "\n"
          ]
        },
        {
          "output_type": "stream",
          "name": "stdout",
          "text": [
            "[]\n"
          ]
        },
        {
          "output_type": "stream",
          "name": "stderr",
          "text": [
            "image 1/1 /content/drive/MyDrive/Trabajo_final_VIU/YOLOV8/Dataset/test/images/imagen485-8.jpg: 512x640 (no detections), 7.4ms\n",
            "Speed: 1.5ms preprocess, 7.4ms inference, 0.7ms postprocess per image at shape (1, 3, 512, 640)\n",
            "\n"
          ]
        },
        {
          "output_type": "stream",
          "name": "stdout",
          "text": [
            "[]\n"
          ]
        },
        {
          "output_type": "stream",
          "name": "stderr",
          "text": [
            "image 1/1 /content/drive/MyDrive/Trabajo_final_VIU/YOLOV8/Dataset/test/images/imagen486-5.jpg: 640x640 (no detections), 10.4ms\n",
            "Speed: 1.9ms preprocess, 10.4ms inference, 0.7ms postprocess per image at shape (1, 3, 640, 640)\n",
            "\n"
          ]
        },
        {
          "output_type": "stream",
          "name": "stdout",
          "text": [
            "[]\n"
          ]
        },
        {
          "output_type": "stream",
          "name": "stderr",
          "text": [
            "image 1/1 /content/drive/MyDrive/Trabajo_final_VIU/YOLOV8/Dataset/test/images/imagen487-2.jpg: 576x640 (no detections), 7.9ms\n",
            "Speed: 1.5ms preprocess, 7.9ms inference, 0.7ms postprocess per image at shape (1, 3, 576, 640)\n",
            "\n"
          ]
        },
        {
          "output_type": "stream",
          "name": "stdout",
          "text": [
            "[]\n"
          ]
        },
        {
          "output_type": "stream",
          "name": "stderr",
          "text": [
            "image 1/1 /content/drive/MyDrive/Trabajo_final_VIU/YOLOV8/Dataset/test/images/imagen487-4.jpg: 640x576 (no detections), 8.0ms\n",
            "Speed: 2.6ms preprocess, 8.0ms inference, 0.7ms postprocess per image at shape (1, 3, 640, 576)\n",
            "\n"
          ]
        },
        {
          "output_type": "stream",
          "name": "stdout",
          "text": [
            "[]\n"
          ]
        },
        {
          "output_type": "stream",
          "name": "stderr",
          "text": [
            "image 1/1 /content/drive/MyDrive/Trabajo_final_VIU/YOLOV8/Dataset/test/images/imagen487-7.jpg: 640x544 (no detections), 7.9ms\n",
            "Speed: 1.7ms preprocess, 7.9ms inference, 0.7ms postprocess per image at shape (1, 3, 640, 544)\n",
            "\n"
          ]
        },
        {
          "output_type": "stream",
          "name": "stdout",
          "text": [
            "[]\n"
          ]
        },
        {
          "output_type": "stream",
          "name": "stderr",
          "text": [
            "image 1/1 /content/drive/MyDrive/Trabajo_final_VIU/YOLOV8/Dataset/test/images/imagen488-13.jpg: 640x640 3 ['Osteophytos']s, 8.2ms\n",
            "Speed: 1.7ms preprocess, 8.2ms inference, 1.4ms postprocess per image at shape (1, 3, 640, 640)\n",
            "\n"
          ]
        },
        {
          "output_type": "stream",
          "name": "stdout",
          "text": [
            "[0 0 0]\n"
          ]
        },
        {
          "output_type": "stream",
          "name": "stderr",
          "text": [
            "image 1/1 /content/drive/MyDrive/Trabajo_final_VIU/YOLOV8/Dataset/test/images/imagen489-4.jpg: 480x640 1 ['Osteophytos'], 9.9ms\n",
            "Speed: 2.6ms preprocess, 9.9ms inference, 1.3ms postprocess per image at shape (1, 3, 480, 640)\n",
            "\n"
          ]
        },
        {
          "output_type": "stream",
          "name": "stdout",
          "text": [
            "[0]\n"
          ]
        },
        {
          "output_type": "stream",
          "name": "stderr",
          "text": [
            "image 1/1 /content/drive/MyDrive/Trabajo_final_VIU/YOLOV8/Dataset/test/images/imagen489-6.jpg: 640x640 (no detections), 8.1ms\n",
            "Speed: 1.7ms preprocess, 8.1ms inference, 0.7ms postprocess per image at shape (1, 3, 640, 640)\n",
            "\n"
          ]
        },
        {
          "output_type": "stream",
          "name": "stdout",
          "text": [
            "[]\n"
          ]
        },
        {
          "output_type": "stream",
          "name": "stderr",
          "text": [
            "image 1/1 /content/drive/MyDrive/Trabajo_final_VIU/YOLOV8/Dataset/test/images/imagen49-3.jpg: 640x640 2 ['Osteophytos']s, 9.2ms\n",
            "Speed: 4.7ms preprocess, 9.2ms inference, 1.8ms postprocess per image at shape (1, 3, 640, 640)\n",
            "\n"
          ]
        },
        {
          "output_type": "stream",
          "name": "stdout",
          "text": [
            "[0 0]\n"
          ]
        },
        {
          "output_type": "stream",
          "name": "stderr",
          "text": [
            "image 1/1 /content/drive/MyDrive/Trabajo_final_VIU/YOLOV8/Dataset/test/images/imagen490-3.jpg: 640x640 2 ['Osteophytos']s, 8.7ms\n",
            "Speed: 1.9ms preprocess, 8.7ms inference, 4.9ms postprocess per image at shape (1, 3, 640, 640)\n",
            "\n"
          ]
        },
        {
          "output_type": "stream",
          "name": "stdout",
          "text": [
            "[0 0]\n"
          ]
        },
        {
          "output_type": "stream",
          "name": "stderr",
          "text": [
            "image 1/1 /content/drive/MyDrive/Trabajo_final_VIU/YOLOV8/Dataset/test/images/imagen490-4.jpg: 640x640 1 ['Osteophytos'], 11.8ms\n",
            "Speed: 1.7ms preprocess, 11.8ms inference, 5.5ms postprocess per image at shape (1, 3, 640, 640)\n",
            "\n"
          ]
        },
        {
          "output_type": "stream",
          "name": "stdout",
          "text": [
            "[0]\n"
          ]
        },
        {
          "output_type": "stream",
          "name": "stderr",
          "text": [
            "image 1/1 /content/drive/MyDrive/Trabajo_final_VIU/YOLOV8/Dataset/test/images/imagen490-5.jpg: 640x640 2 ['Osteophytos']s, 7.4ms\n",
            "Speed: 1.7ms preprocess, 7.4ms inference, 1.4ms postprocess per image at shape (1, 3, 640, 640)\n",
            "\n"
          ]
        },
        {
          "output_type": "stream",
          "name": "stdout",
          "text": [
            "[0 0]\n"
          ]
        },
        {
          "output_type": "stream",
          "name": "stderr",
          "text": [
            "image 1/1 /content/drive/MyDrive/Trabajo_final_VIU/YOLOV8/Dataset/test/images/imagen490-6.jpg: 640x640 (no detections), 7.4ms\n",
            "Speed: 1.7ms preprocess, 7.4ms inference, 0.7ms postprocess per image at shape (1, 3, 640, 640)\n",
            "\n"
          ]
        },
        {
          "output_type": "stream",
          "name": "stdout",
          "text": [
            "[]\n"
          ]
        },
        {
          "output_type": "stream",
          "name": "stderr",
          "text": [
            "image 1/1 /content/drive/MyDrive/Trabajo_final_VIU/YOLOV8/Dataset/test/images/imagen491-5.jpg: 640x640 (no detections), 7.4ms\n",
            "Speed: 1.6ms preprocess, 7.4ms inference, 0.9ms postprocess per image at shape (1, 3, 640, 640)\n",
            "\n"
          ]
        },
        {
          "output_type": "stream",
          "name": "stdout",
          "text": [
            "[]\n"
          ]
        },
        {
          "output_type": "stream",
          "name": "stderr",
          "text": [
            "image 1/1 /content/drive/MyDrive/Trabajo_final_VIU/YOLOV8/Dataset/test/images/imagen491-6.jpg: 640x608 (no detections), 8.1ms\n",
            "Speed: 1.6ms preprocess, 8.1ms inference, 0.7ms postprocess per image at shape (1, 3, 640, 608)\n",
            "\n"
          ]
        },
        {
          "output_type": "stream",
          "name": "stdout",
          "text": [
            "[]\n"
          ]
        },
        {
          "output_type": "stream",
          "name": "stderr",
          "text": [
            "image 1/1 /content/drive/MyDrive/Trabajo_final_VIU/YOLOV8/Dataset/test/images/imagen491-7.jpg: 640x640 1 ['Osteophytos'], 8.1ms\n",
            "Speed: 1.9ms preprocess, 8.1ms inference, 1.3ms postprocess per image at shape (1, 3, 640, 640)\n",
            "\n"
          ]
        },
        {
          "output_type": "stream",
          "name": "stdout",
          "text": [
            "[0]\n"
          ]
        },
        {
          "output_type": "stream",
          "name": "stderr",
          "text": [
            "image 1/1 /content/drive/MyDrive/Trabajo_final_VIU/YOLOV8/Dataset/test/images/imagen491-8.jpg: 640x608 (no detections), 8.0ms\n",
            "Speed: 1.6ms preprocess, 8.0ms inference, 0.7ms postprocess per image at shape (1, 3, 640, 608)\n",
            "\n"
          ]
        },
        {
          "output_type": "stream",
          "name": "stdout",
          "text": [
            "[]\n"
          ]
        },
        {
          "output_type": "stream",
          "name": "stderr",
          "text": [
            "image 1/1 /content/drive/MyDrive/Trabajo_final_VIU/YOLOV8/Dataset/test/images/imagen492-8.jpg: 640x608 (no detections), 7.3ms\n",
            "Speed: 1.7ms preprocess, 7.3ms inference, 0.7ms postprocess per image at shape (1, 3, 640, 608)\n",
            "\n"
          ]
        },
        {
          "output_type": "stream",
          "name": "stdout",
          "text": [
            "[]\n"
          ]
        },
        {
          "output_type": "stream",
          "name": "stderr",
          "text": [
            "image 1/1 /content/drive/MyDrive/Trabajo_final_VIU/YOLOV8/Dataset/test/images/imagen493-8.jpg: 640x608 (no detections), 7.3ms\n",
            "Speed: 1.6ms preprocess, 7.3ms inference, 0.7ms postprocess per image at shape (1, 3, 640, 608)\n",
            "\n"
          ]
        },
        {
          "output_type": "stream",
          "name": "stdout",
          "text": [
            "[]\n"
          ]
        },
        {
          "output_type": "stream",
          "name": "stderr",
          "text": [
            "image 1/1 /content/drive/MyDrive/Trabajo_final_VIU/YOLOV8/Dataset/test/images/imagen494-5.jpg: 608x640 2 ['Osteophytos']s, 9.1ms\n",
            "Speed: 1.8ms preprocess, 9.1ms inference, 1.3ms postprocess per image at shape (1, 3, 608, 640)\n",
            "\n"
          ]
        },
        {
          "output_type": "stream",
          "name": "stdout",
          "text": [
            "[0 0]\n"
          ]
        },
        {
          "output_type": "stream",
          "name": "stderr",
          "text": [
            "image 1/1 /content/drive/MyDrive/Trabajo_final_VIU/YOLOV8/Dataset/test/images/imagen495-11.jpg: 640x640 4 ['Osteophytos']s, 8.1ms\n",
            "Speed: 1.6ms preprocess, 8.1ms inference, 1.4ms postprocess per image at shape (1, 3, 640, 640)\n",
            "\n"
          ]
        },
        {
          "output_type": "stream",
          "name": "stdout",
          "text": [
            "[0 0 0 0]\n"
          ]
        },
        {
          "output_type": "stream",
          "name": "stderr",
          "text": [
            "image 1/1 /content/drive/MyDrive/Trabajo_final_VIU/YOLOV8/Dataset/test/images/imagen495-15.jpg: 640x640 3 ['Osteophytos']s, 10.8ms\n",
            "Speed: 1.6ms preprocess, 10.8ms inference, 2.1ms postprocess per image at shape (1, 3, 640, 640)\n",
            "\n"
          ]
        },
        {
          "output_type": "stream",
          "name": "stdout",
          "text": [
            "[0 0 0]\n"
          ]
        },
        {
          "output_type": "stream",
          "name": "stderr",
          "text": [
            "image 1/1 /content/drive/MyDrive/Trabajo_final_VIU/YOLOV8/Dataset/test/images/imagen495-3.jpg: 480x640 4 ['Osteophytos']s, 11.3ms\n",
            "Speed: 1.6ms preprocess, 11.3ms inference, 1.8ms postprocess per image at shape (1, 3, 480, 640)\n",
            "\n"
          ]
        },
        {
          "output_type": "stream",
          "name": "stdout",
          "text": [
            "[0 0 0 0]\n"
          ]
        },
        {
          "output_type": "stream",
          "name": "stderr",
          "text": [
            "image 1/1 /content/drive/MyDrive/Trabajo_final_VIU/YOLOV8/Dataset/test/images/imagen495-7.jpg: 576x640 2 ['Osteophytos']s, 9.3ms\n",
            "Speed: 1.8ms preprocess, 9.3ms inference, 1.7ms postprocess per image at shape (1, 3, 576, 640)\n",
            "\n"
          ]
        },
        {
          "output_type": "stream",
          "name": "stdout",
          "text": [
            "[0 0]\n"
          ]
        },
        {
          "output_type": "stream",
          "name": "stderr",
          "text": [
            "image 1/1 /content/drive/MyDrive/Trabajo_final_VIU/YOLOV8/Dataset/test/images/imagen496-16.jpg: 608x640 1 ['Osteophytos'], 9.6ms\n",
            "Speed: 1.8ms preprocess, 9.6ms inference, 1.6ms postprocess per image at shape (1, 3, 608, 640)\n",
            "\n"
          ]
        },
        {
          "output_type": "stream",
          "name": "stdout",
          "text": [
            "[0]\n"
          ]
        },
        {
          "output_type": "stream",
          "name": "stderr",
          "text": [
            "image 1/1 /content/drive/MyDrive/Trabajo_final_VIU/YOLOV8/Dataset/test/images/imagen496-22.jpg: 640x640 (no detections), 8.1ms\n",
            "Speed: 1.7ms preprocess, 8.1ms inference, 0.8ms postprocess per image at shape (1, 3, 640, 640)\n",
            "\n"
          ]
        },
        {
          "output_type": "stream",
          "name": "stdout",
          "text": [
            "[]\n"
          ]
        },
        {
          "output_type": "stream",
          "name": "stderr",
          "text": [
            "image 1/1 /content/drive/MyDrive/Trabajo_final_VIU/YOLOV8/Dataset/test/images/imagen497-3.jpg: 640x640 (no detections), 7.4ms\n",
            "Speed: 1.7ms preprocess, 7.4ms inference, 0.8ms postprocess per image at shape (1, 3, 640, 640)\n",
            "\n"
          ]
        },
        {
          "output_type": "stream",
          "name": "stdout",
          "text": [
            "[]\n"
          ]
        },
        {
          "output_type": "stream",
          "name": "stderr",
          "text": [
            "image 1/1 /content/drive/MyDrive/Trabajo_final_VIU/YOLOV8/Dataset/test/images/imagen498-10.jpg: 640x640 1 ['Osteophytos'], 7.4ms\n",
            "Speed: 1.7ms preprocess, 7.4ms inference, 1.3ms postprocess per image at shape (1, 3, 640, 640)\n",
            "\n"
          ]
        },
        {
          "output_type": "stream",
          "name": "stdout",
          "text": [
            "[0]\n"
          ]
        },
        {
          "output_type": "stream",
          "name": "stderr",
          "text": [
            "image 1/1 /content/drive/MyDrive/Trabajo_final_VIU/YOLOV8/Dataset/test/images/imagen498-4.jpg: 608x640 (no detections), 8.0ms\n",
            "Speed: 1.7ms preprocess, 8.0ms inference, 0.7ms postprocess per image at shape (1, 3, 608, 640)\n",
            "\n"
          ]
        },
        {
          "output_type": "stream",
          "name": "stdout",
          "text": [
            "[]\n"
          ]
        },
        {
          "output_type": "stream",
          "name": "stderr",
          "text": [
            "image 1/1 /content/drive/MyDrive/Trabajo_final_VIU/YOLOV8/Dataset/test/images/imagen498-7.jpg: 608x640 (no detections), 7.3ms\n",
            "Speed: 1.7ms preprocess, 7.3ms inference, 0.7ms postprocess per image at shape (1, 3, 608, 640)\n",
            "\n"
          ]
        },
        {
          "output_type": "stream",
          "name": "stdout",
          "text": [
            "[]\n"
          ]
        },
        {
          "output_type": "stream",
          "name": "stderr",
          "text": [
            "image 1/1 /content/drive/MyDrive/Trabajo_final_VIU/YOLOV8/Dataset/test/images/imagen499-10.jpg: 640x640 6 ['Osteophytos']s, 8.2ms\n",
            "Speed: 1.7ms preprocess, 8.2ms inference, 1.3ms postprocess per image at shape (1, 3, 640, 640)\n",
            "\n"
          ]
        },
        {
          "output_type": "stream",
          "name": "stdout",
          "text": [
            "[0 0 0 0 0 0]\n"
          ]
        },
        {
          "output_type": "stream",
          "name": "stderr",
          "text": [
            "image 1/1 /content/drive/MyDrive/Trabajo_final_VIU/YOLOV8/Dataset/test/images/imagen499-11.jpg: 640x640 2 ['Osteophytos']s, 7.4ms\n",
            "Speed: 1.7ms preprocess, 7.4ms inference, 1.4ms postprocess per image at shape (1, 3, 640, 640)\n",
            "\n"
          ]
        },
        {
          "output_type": "stream",
          "name": "stdout",
          "text": [
            "[0 0]\n"
          ]
        },
        {
          "output_type": "stream",
          "name": "stderr",
          "text": [
            "image 1/1 /content/drive/MyDrive/Trabajo_final_VIU/YOLOV8/Dataset/test/images/imagen499-7.jpg: 640x640 1 ['Osteophytos'], 7.4ms\n",
            "Speed: 1.7ms preprocess, 7.4ms inference, 1.6ms postprocess per image at shape (1, 3, 640, 640)\n",
            "\n"
          ]
        },
        {
          "output_type": "stream",
          "name": "stdout",
          "text": [
            "[0]\n"
          ]
        },
        {
          "output_type": "stream",
          "name": "stderr",
          "text": [
            "image 1/1 /content/drive/MyDrive/Trabajo_final_VIU/YOLOV8/Dataset/test/images/imagen5-10.jpg: 640x640 1 ['Osteophytos'], 7.4ms\n",
            "Speed: 1.6ms preprocess, 7.4ms inference, 1.3ms postprocess per image at shape (1, 3, 640, 640)\n",
            "\n"
          ]
        },
        {
          "output_type": "stream",
          "name": "stdout",
          "text": [
            "[0]\n"
          ]
        },
        {
          "output_type": "stream",
          "name": "stderr",
          "text": [
            "image 1/1 /content/drive/MyDrive/Trabajo_final_VIU/YOLOV8/Dataset/test/images/imagen50-11.jpg: 640x640 (no detections), 7.5ms\n",
            "Speed: 1.6ms preprocess, 7.5ms inference, 0.8ms postprocess per image at shape (1, 3, 640, 640)\n",
            "\n"
          ]
        },
        {
          "output_type": "stream",
          "name": "stdout",
          "text": [
            "[]\n"
          ]
        },
        {
          "output_type": "stream",
          "name": "stderr",
          "text": [
            "image 1/1 /content/drive/MyDrive/Trabajo_final_VIU/YOLOV8/Dataset/test/images/imagen50-5.jpg: 640x640 3 ['Osteophytos']s, 7.4ms\n",
            "Speed: 1.6ms preprocess, 7.4ms inference, 1.4ms postprocess per image at shape (1, 3, 640, 640)\n",
            "\n"
          ]
        },
        {
          "output_type": "stream",
          "name": "stdout",
          "text": [
            "[0 0 0]\n"
          ]
        },
        {
          "output_type": "stream",
          "name": "stderr",
          "text": [
            "image 1/1 /content/drive/MyDrive/Trabajo_final_VIU/YOLOV8/Dataset/test/images/imagen50-8.jpg: 640x640 3 ['Osteophytos']s, 9.2ms\n",
            "Speed: 2.0ms preprocess, 9.2ms inference, 1.8ms postprocess per image at shape (1, 3, 640, 640)\n",
            "\n"
          ]
        },
        {
          "output_type": "stream",
          "name": "stdout",
          "text": [
            "[0 0 0]\n"
          ]
        },
        {
          "output_type": "stream",
          "name": "stderr",
          "text": [
            "image 1/1 /content/drive/MyDrive/Trabajo_final_VIU/YOLOV8/Dataset/test/images/imagen500-10.jpg: 608x640 4 ['Osteophytos']s, 9.9ms\n",
            "Speed: 2.0ms preprocess, 9.9ms inference, 1.7ms postprocess per image at shape (1, 3, 608, 640)\n",
            "\n"
          ]
        },
        {
          "output_type": "stream",
          "name": "stdout",
          "text": [
            "[0 0 0 0]\n"
          ]
        },
        {
          "output_type": "stream",
          "name": "stderr",
          "text": [
            "image 1/1 /content/drive/MyDrive/Trabajo_final_VIU/YOLOV8/Dataset/test/images/imagen500-14.jpg: 640x640 1 ['Osteophytos'], 8.9ms\n",
            "Speed: 1.9ms preprocess, 8.9ms inference, 1.6ms postprocess per image at shape (1, 3, 640, 640)\n",
            "\n"
          ]
        },
        {
          "output_type": "stream",
          "name": "stdout",
          "text": [
            "[0]\n"
          ]
        },
        {
          "output_type": "stream",
          "name": "stderr",
          "text": [
            "image 1/1 /content/drive/MyDrive/Trabajo_final_VIU/YOLOV8/Dataset/test/images/imagen501-10.jpg: 640x640 1 ['Osteophytos'], 7.4ms\n",
            "Speed: 1.7ms preprocess, 7.4ms inference, 1.4ms postprocess per image at shape (1, 3, 640, 640)\n",
            "\n"
          ]
        },
        {
          "output_type": "stream",
          "name": "stdout",
          "text": [
            "[0]\n"
          ]
        },
        {
          "output_type": "stream",
          "name": "stderr",
          "text": [
            "image 1/1 /content/drive/MyDrive/Trabajo_final_VIU/YOLOV8/Dataset/test/images/imagen501-11.jpg: 640x640 4 ['Osteophytos']s, 7.4ms\n",
            "Speed: 1.6ms preprocess, 7.4ms inference, 1.5ms postprocess per image at shape (1, 3, 640, 640)\n",
            "\n"
          ]
        },
        {
          "output_type": "stream",
          "name": "stdout",
          "text": [
            "[0 0 0 0]\n"
          ]
        },
        {
          "output_type": "stream",
          "name": "stderr",
          "text": [
            "image 1/1 /content/drive/MyDrive/Trabajo_final_VIU/YOLOV8/Dataset/test/images/imagen501-6.jpg: 544x640 1 ['Osteophytos'], 8.3ms\n",
            "Speed: 1.7ms preprocess, 8.3ms inference, 1.4ms postprocess per image at shape (1, 3, 544, 640)\n",
            "\n"
          ]
        },
        {
          "output_type": "stream",
          "name": "stdout",
          "text": [
            "[0]\n"
          ]
        },
        {
          "output_type": "stream",
          "name": "stderr",
          "text": [
            "image 1/1 /content/drive/MyDrive/Trabajo_final_VIU/YOLOV8/Dataset/test/images/imagen501-7.jpg: 544x640 1 ['Osteophytos'], 7.2ms\n",
            "Speed: 1.6ms preprocess, 7.2ms inference, 1.5ms postprocess per image at shape (1, 3, 544, 640)\n",
            "\n"
          ]
        },
        {
          "output_type": "stream",
          "name": "stdout",
          "text": [
            "[0]\n"
          ]
        },
        {
          "output_type": "stream",
          "name": "stderr",
          "text": [
            "image 1/1 /content/drive/MyDrive/Trabajo_final_VIU/YOLOV8/Dataset/test/images/imagen502-11.jpg: 640x640 4 ['Osteophytos']s, 8.2ms\n",
            "Speed: 1.7ms preprocess, 8.2ms inference, 1.3ms postprocess per image at shape (1, 3, 640, 640)\n",
            "\n"
          ]
        },
        {
          "output_type": "stream",
          "name": "stdout",
          "text": [
            "[0 0 0 0]\n"
          ]
        },
        {
          "output_type": "stream",
          "name": "stderr",
          "text": [
            "image 1/1 /content/drive/MyDrive/Trabajo_final_VIU/YOLOV8/Dataset/test/images/imagen502-7.jpg: 608x640 2 ['Osteophytos']s, 8.1ms\n",
            "Speed: 1.7ms preprocess, 8.1ms inference, 1.3ms postprocess per image at shape (1, 3, 608, 640)\n",
            "\n"
          ]
        },
        {
          "output_type": "stream",
          "name": "stdout",
          "text": [
            "[0 0]\n"
          ]
        },
        {
          "output_type": "stream",
          "name": "stderr",
          "text": [
            "image 1/1 /content/drive/MyDrive/Trabajo_final_VIU/YOLOV8/Dataset/test/images/imagen503-5.jpg: 640x640 (no detections), 8.1ms\n",
            "Speed: 1.7ms preprocess, 8.1ms inference, 0.7ms postprocess per image at shape (1, 3, 640, 640)\n",
            "\n"
          ]
        },
        {
          "output_type": "stream",
          "name": "stdout",
          "text": [
            "[]\n"
          ]
        },
        {
          "output_type": "stream",
          "name": "stderr",
          "text": [
            "image 1/1 /content/drive/MyDrive/Trabajo_final_VIU/YOLOV8/Dataset/test/images/imagen504-6.jpg: 640x576 (no detections), 8.0ms\n",
            "Speed: 1.6ms preprocess, 8.0ms inference, 0.7ms postprocess per image at shape (1, 3, 640, 576)\n",
            "\n"
          ]
        },
        {
          "output_type": "stream",
          "name": "stdout",
          "text": [
            "[]\n"
          ]
        },
        {
          "output_type": "stream",
          "name": "stderr",
          "text": [
            "image 1/1 /content/drive/MyDrive/Trabajo_final_VIU/YOLOV8/Dataset/test/images/imagen505-13.jpg: 640x640 1 ['Osteophytos'], 8.2ms\n",
            "Speed: 1.7ms preprocess, 8.2ms inference, 1.3ms postprocess per image at shape (1, 3, 640, 640)\n",
            "\n"
          ]
        },
        {
          "output_type": "stream",
          "name": "stdout",
          "text": [
            "[0]\n"
          ]
        },
        {
          "output_type": "stream",
          "name": "stderr",
          "text": [
            "image 1/1 /content/drive/MyDrive/Trabajo_final_VIU/YOLOV8/Dataset/test/images/imagen505-17.jpg: 640x640 (no detections), 7.4ms\n",
            "Speed: 1.8ms preprocess, 7.4ms inference, 0.8ms postprocess per image at shape (1, 3, 640, 640)\n",
            "\n"
          ]
        },
        {
          "output_type": "stream",
          "name": "stdout",
          "text": [
            "[]\n"
          ]
        },
        {
          "output_type": "stream",
          "name": "stderr",
          "text": [
            "image 1/1 /content/drive/MyDrive/Trabajo_final_VIU/YOLOV8/Dataset/test/images/imagen506-13.jpg: 640x640 (no detections), 7.4ms\n",
            "Speed: 1.7ms preprocess, 7.4ms inference, 0.8ms postprocess per image at shape (1, 3, 640, 640)\n",
            "\n"
          ]
        },
        {
          "output_type": "stream",
          "name": "stdout",
          "text": [
            "[]\n"
          ]
        },
        {
          "output_type": "stream",
          "name": "stderr",
          "text": [
            "image 1/1 /content/drive/MyDrive/Trabajo_final_VIU/YOLOV8/Dataset/test/images/imagen507-4.jpg: 640x544 2 ['Osteophytos']s, 7.9ms\n",
            "Speed: 1.6ms preprocess, 7.9ms inference, 1.5ms postprocess per image at shape (1, 3, 640, 544)\n",
            "\n"
          ]
        },
        {
          "output_type": "stream",
          "name": "stdout",
          "text": [
            "[0 0]\n"
          ]
        },
        {
          "output_type": "stream",
          "name": "stderr",
          "text": [
            "image 1/1 /content/drive/MyDrive/Trabajo_final_VIU/YOLOV8/Dataset/test/images/imagen508-12.jpg: 640x640 1 ['Osteophytos'], 9.0ms\n",
            "Speed: 1.9ms preprocess, 9.0ms inference, 1.6ms postprocess per image at shape (1, 3, 640, 640)\n",
            "\n"
          ]
        },
        {
          "output_type": "stream",
          "name": "stdout",
          "text": [
            "[0]\n"
          ]
        },
        {
          "output_type": "stream",
          "name": "stderr",
          "text": [
            "image 1/1 /content/drive/MyDrive/Trabajo_final_VIU/YOLOV8/Dataset/test/images/imagen508-17.jpg: 640x640 2 ['Osteophytos']s, 15.8ms\n",
            "Speed: 1.8ms preprocess, 15.8ms inference, 1.8ms postprocess per image at shape (1, 3, 640, 640)\n",
            "\n"
          ]
        },
        {
          "output_type": "stream",
          "name": "stdout",
          "text": [
            "[0 0]\n"
          ]
        },
        {
          "output_type": "stream",
          "name": "stderr",
          "text": [
            "image 1/1 /content/drive/MyDrive/Trabajo_final_VIU/YOLOV8/Dataset/test/images/imagen509-3.jpg: 640x640 4 ['Osteophytos']s, 7.4ms\n",
            "Speed: 1.6ms preprocess, 7.4ms inference, 1.4ms postprocess per image at shape (1, 3, 640, 640)\n",
            "\n"
          ]
        },
        {
          "output_type": "stream",
          "name": "stdout",
          "text": [
            "[0 0 0 0]\n"
          ]
        },
        {
          "output_type": "stream",
          "name": "stderr",
          "text": [
            "image 1/1 /content/drive/MyDrive/Trabajo_final_VIU/YOLOV8/Dataset/test/images/imagen51-7.jpg: 640x640 (no detections), 7.4ms\n",
            "Speed: 1.7ms preprocess, 7.4ms inference, 0.7ms postprocess per image at shape (1, 3, 640, 640)\n",
            "\n"
          ]
        },
        {
          "output_type": "stream",
          "name": "stdout",
          "text": [
            "[]\n"
          ]
        },
        {
          "output_type": "stream",
          "name": "stderr",
          "text": [
            "image 1/1 /content/drive/MyDrive/Trabajo_final_VIU/YOLOV8/Dataset/test/images/imagen510-3.jpg: 640x640 1 ['Osteophytos'], 9.8ms\n",
            "Speed: 4.0ms preprocess, 9.8ms inference, 1.5ms postprocess per image at shape (1, 3, 640, 640)\n",
            "\n"
          ]
        },
        {
          "output_type": "stream",
          "name": "stdout",
          "text": [
            "[0]\n"
          ]
        },
        {
          "output_type": "stream",
          "name": "stderr",
          "text": [
            "image 1/1 /content/drive/MyDrive/Trabajo_final_VIU/YOLOV8/Dataset/test/images/imagen512-13.jpg: 640x640 2 ['Osteophytos']s, 7.4ms\n",
            "Speed: 1.6ms preprocess, 7.4ms inference, 1.5ms postprocess per image at shape (1, 3, 640, 640)\n",
            "\n"
          ]
        },
        {
          "output_type": "stream",
          "name": "stdout",
          "text": [
            "[0 0]\n"
          ]
        },
        {
          "output_type": "stream",
          "name": "stderr",
          "text": [
            "image 1/1 /content/drive/MyDrive/Trabajo_final_VIU/YOLOV8/Dataset/test/images/imagen513-8.jpg: 640x640 (no detections), 7.6ms\n",
            "Speed: 1.7ms preprocess, 7.6ms inference, 0.8ms postprocess per image at shape (1, 3, 640, 640)\n",
            "\n"
          ]
        },
        {
          "output_type": "stream",
          "name": "stdout",
          "text": [
            "[]\n"
          ]
        },
        {
          "output_type": "stream",
          "name": "stderr",
          "text": [
            "image 1/1 /content/drive/MyDrive/Trabajo_final_VIU/YOLOV8/Dataset/test/images/imagen514-4.jpg: 576x640 (no detections), 7.9ms\n",
            "Speed: 1.6ms preprocess, 7.9ms inference, 0.8ms postprocess per image at shape (1, 3, 576, 640)\n",
            "\n"
          ]
        },
        {
          "output_type": "stream",
          "name": "stdout",
          "text": [
            "[]\n"
          ]
        },
        {
          "output_type": "stream",
          "name": "stderr",
          "text": [
            "image 1/1 /content/drive/MyDrive/Trabajo_final_VIU/YOLOV8/Dataset/test/images/imagen514-7.jpg: 640x640 (no detections), 8.1ms\n",
            "Speed: 1.8ms preprocess, 8.1ms inference, 0.7ms postprocess per image at shape (1, 3, 640, 640)\n",
            "\n"
          ]
        },
        {
          "output_type": "stream",
          "name": "stdout",
          "text": [
            "[]\n"
          ]
        },
        {
          "output_type": "stream",
          "name": "stderr",
          "text": [
            "image 1/1 /content/drive/MyDrive/Trabajo_final_VIU/YOLOV8/Dataset/test/images/imagen514-8.jpg: 640x640 (no detections), 7.4ms\n",
            "Speed: 1.6ms preprocess, 7.4ms inference, 0.8ms postprocess per image at shape (1, 3, 640, 640)\n",
            "\n"
          ]
        },
        {
          "output_type": "stream",
          "name": "stdout",
          "text": [
            "[]\n"
          ]
        },
        {
          "output_type": "stream",
          "name": "stderr",
          "text": [
            "image 1/1 /content/drive/MyDrive/Trabajo_final_VIU/YOLOV8/Dataset/test/images/imagen515-5.jpg: 640x640 (no detections), 7.4ms\n",
            "Speed: 1.7ms preprocess, 7.4ms inference, 0.8ms postprocess per image at shape (1, 3, 640, 640)\n",
            "\n"
          ]
        },
        {
          "output_type": "stream",
          "name": "stdout",
          "text": [
            "[]\n"
          ]
        },
        {
          "output_type": "stream",
          "name": "stderr",
          "text": [
            "image 1/1 /content/drive/MyDrive/Trabajo_final_VIU/YOLOV8/Dataset/test/images/imagen516-3.jpg: 640x640 (no detections), 7.4ms\n",
            "Speed: 1.7ms preprocess, 7.4ms inference, 0.8ms postprocess per image at shape (1, 3, 640, 640)\n",
            "\n"
          ]
        },
        {
          "output_type": "stream",
          "name": "stdout",
          "text": [
            "[]\n"
          ]
        },
        {
          "output_type": "stream",
          "name": "stderr",
          "text": [
            "image 1/1 /content/drive/MyDrive/Trabajo_final_VIU/YOLOV8/Dataset/test/images/imagen516-4.jpg: 640x544 (no detections), 7.8ms\n",
            "Speed: 1.5ms preprocess, 7.8ms inference, 0.7ms postprocess per image at shape (1, 3, 640, 544)\n",
            "\n"
          ]
        },
        {
          "output_type": "stream",
          "name": "stdout",
          "text": [
            "[]\n"
          ]
        },
        {
          "output_type": "stream",
          "name": "stderr",
          "text": [
            "image 1/1 /content/drive/MyDrive/Trabajo_final_VIU/YOLOV8/Dataset/test/images/imagen516-5.jpg: 640x640 (no detections), 8.2ms\n",
            "Speed: 1.7ms preprocess, 8.2ms inference, 0.7ms postprocess per image at shape (1, 3, 640, 640)\n",
            "\n"
          ]
        },
        {
          "output_type": "stream",
          "name": "stdout",
          "text": [
            "[]\n"
          ]
        },
        {
          "output_type": "stream",
          "name": "stderr",
          "text": [
            "image 1/1 /content/drive/MyDrive/Trabajo_final_VIU/YOLOV8/Dataset/test/images/imagen516-6.jpg: 640x544 (no detections), 14.3ms\n",
            "Speed: 2.6ms preprocess, 14.3ms inference, 0.9ms postprocess per image at shape (1, 3, 640, 544)\n",
            "\n"
          ]
        },
        {
          "output_type": "stream",
          "name": "stdout",
          "text": [
            "[]\n"
          ]
        },
        {
          "output_type": "stream",
          "name": "stderr",
          "text": [
            "image 1/1 /content/drive/MyDrive/Trabajo_final_VIU/YOLOV8/Dataset/test/images/imagen517-5.jpg: 640x640 (no detections), 8.8ms\n",
            "Speed: 1.8ms preprocess, 8.8ms inference, 0.9ms postprocess per image at shape (1, 3, 640, 640)\n",
            "\n"
          ]
        },
        {
          "output_type": "stream",
          "name": "stdout",
          "text": [
            "[]\n"
          ]
        },
        {
          "output_type": "stream",
          "name": "stderr",
          "text": [
            "image 1/1 /content/drive/MyDrive/Trabajo_final_VIU/YOLOV8/Dataset/test/images/imagen518-4.jpg: 640x640 (no detections), 7.5ms\n",
            "Speed: 1.6ms preprocess, 7.5ms inference, 0.8ms postprocess per image at shape (1, 3, 640, 640)\n",
            "\n"
          ]
        },
        {
          "output_type": "stream",
          "name": "stdout",
          "text": [
            "[]\n"
          ]
        },
        {
          "output_type": "stream",
          "name": "stderr",
          "text": [
            "image 1/1 /content/drive/MyDrive/Trabajo_final_VIU/YOLOV8/Dataset/test/images/imagen519-7.jpg: 640x640 (no detections), 7.4ms\n",
            "Speed: 1.6ms preprocess, 7.4ms inference, 0.7ms postprocess per image at shape (1, 3, 640, 640)\n",
            "\n"
          ]
        },
        {
          "output_type": "stream",
          "name": "stdout",
          "text": [
            "[]\n"
          ]
        },
        {
          "output_type": "stream",
          "name": "stderr",
          "text": [
            "image 1/1 /content/drive/MyDrive/Trabajo_final_VIU/YOLOV8/Dataset/test/images/imagen52-4.jpg: 640x544 (no detections), 7.9ms\n",
            "Speed: 1.5ms preprocess, 7.9ms inference, 0.8ms postprocess per image at shape (1, 3, 640, 544)\n",
            "\n"
          ]
        },
        {
          "output_type": "stream",
          "name": "stdout",
          "text": [
            "[]\n"
          ]
        },
        {
          "output_type": "stream",
          "name": "stderr",
          "text": [
            "image 1/1 /content/drive/MyDrive/Trabajo_final_VIU/YOLOV8/Dataset/test/images/imagen52-6.jpg: 640x544 2 ['Osteophytos']s, 11.1ms\n",
            "Speed: 1.6ms preprocess, 11.1ms inference, 1.7ms postprocess per image at shape (1, 3, 640, 544)\n",
            "\n"
          ]
        },
        {
          "output_type": "stream",
          "name": "stdout",
          "text": [
            "[0 0]\n"
          ]
        },
        {
          "output_type": "stream",
          "name": "stderr",
          "text": [
            "image 1/1 /content/drive/MyDrive/Trabajo_final_VIU/YOLOV8/Dataset/test/images/imagen520-10.jpg: 512x640 1 ['Osteophytos'], 8.8ms\n",
            "Speed: 1.5ms preprocess, 8.8ms inference, 1.4ms postprocess per image at shape (1, 3, 512, 640)\n",
            "\n"
          ]
        },
        {
          "output_type": "stream",
          "name": "stdout",
          "text": [
            "[0]\n"
          ]
        },
        {
          "output_type": "stream",
          "name": "stderr",
          "text": [
            "image 1/1 /content/drive/MyDrive/Trabajo_final_VIU/YOLOV8/Dataset/test/images/imagen520-11.jpg: 512x640 2 ['Osteophytos']s, 6.5ms\n",
            "Speed: 1.5ms preprocess, 6.5ms inference, 1.4ms postprocess per image at shape (1, 3, 512, 640)\n",
            "\n"
          ]
        },
        {
          "output_type": "stream",
          "name": "stdout",
          "text": [
            "[0 0]\n"
          ]
        },
        {
          "output_type": "stream",
          "name": "stderr",
          "text": [
            "image 1/1 /content/drive/MyDrive/Trabajo_final_VIU/YOLOV8/Dataset/test/images/imagen520-14.jpg: 640x640 1 ['Osteophytos'], 8.2ms\n",
            "Speed: 1.7ms preprocess, 8.2ms inference, 1.4ms postprocess per image at shape (1, 3, 640, 640)\n",
            "\n"
          ]
        },
        {
          "output_type": "stream",
          "name": "stdout",
          "text": [
            "[0]\n"
          ]
        },
        {
          "output_type": "stream",
          "name": "stderr",
          "text": [
            "image 1/1 /content/drive/MyDrive/Trabajo_final_VIU/YOLOV8/Dataset/test/images/imagen520-15.jpg: 640x640 (no detections), 7.4ms\n",
            "Speed: 1.9ms preprocess, 7.4ms inference, 0.8ms postprocess per image at shape (1, 3, 640, 640)\n",
            "\n"
          ]
        },
        {
          "output_type": "stream",
          "name": "stdout",
          "text": [
            "[]\n"
          ]
        },
        {
          "output_type": "stream",
          "name": "stderr",
          "text": [
            "image 1/1 /content/drive/MyDrive/Trabajo_final_VIU/YOLOV8/Dataset/test/images/imagen520-7.jpg: 544x640 1 ['Osteophytos'], 7.8ms\n",
            "Speed: 1.6ms preprocess, 7.8ms inference, 1.3ms postprocess per image at shape (1, 3, 544, 640)\n",
            "\n"
          ]
        },
        {
          "output_type": "stream",
          "name": "stdout",
          "text": [
            "[0]\n"
          ]
        },
        {
          "output_type": "stream",
          "name": "stderr",
          "text": [
            "image 1/1 /content/drive/MyDrive/Trabajo_final_VIU/YOLOV8/Dataset/test/images/imagen521-10.jpg: 640x640 4 ['Osteophytos']s, 8.2ms\n",
            "Speed: 1.7ms preprocess, 8.2ms inference, 1.4ms postprocess per image at shape (1, 3, 640, 640)\n",
            "\n"
          ]
        },
        {
          "output_type": "stream",
          "name": "stdout",
          "text": [
            "[0 0 0 0]\n"
          ]
        },
        {
          "output_type": "stream",
          "name": "stderr",
          "text": [
            "image 1/1 /content/drive/MyDrive/Trabajo_final_VIU/YOLOV8/Dataset/test/images/imagen522-13.jpg: 640x640 3 ['Osteophytos']s, 7.5ms\n",
            "Speed: 1.7ms preprocess, 7.5ms inference, 1.4ms postprocess per image at shape (1, 3, 640, 640)\n",
            "\n"
          ]
        },
        {
          "output_type": "stream",
          "name": "stdout",
          "text": [
            "[0 0 0]\n"
          ]
        },
        {
          "output_type": "stream",
          "name": "stderr",
          "text": [
            "image 1/1 /content/drive/MyDrive/Trabajo_final_VIU/YOLOV8/Dataset/test/images/imagen522-18.jpg: 640x640 1 ['Osteophytos'], 7.5ms\n",
            "Speed: 1.6ms preprocess, 7.5ms inference, 2.2ms postprocess per image at shape (1, 3, 640, 640)\n",
            "\n"
          ]
        },
        {
          "output_type": "stream",
          "name": "stdout",
          "text": [
            "[0]\n"
          ]
        },
        {
          "output_type": "stream",
          "name": "stderr",
          "text": [
            "image 1/1 /content/drive/MyDrive/Trabajo_final_VIU/YOLOV8/Dataset/test/images/imagen522-8.jpg: 640x640 3 ['Osteophytos']s, 10.6ms\n",
            "Speed: 2.7ms preprocess, 10.6ms inference, 4.7ms postprocess per image at shape (1, 3, 640, 640)\n",
            "\n"
          ]
        },
        {
          "output_type": "stream",
          "name": "stdout",
          "text": [
            "[0 0 0]\n"
          ]
        },
        {
          "output_type": "stream",
          "name": "stderr",
          "text": [
            "image 1/1 /content/drive/MyDrive/Trabajo_final_VIU/YOLOV8/Dataset/test/images/imagen523-8.jpg: 640x640 3 ['Osteophytos']s, 8.4ms\n",
            "Speed: 1.9ms preprocess, 8.4ms inference, 1.6ms postprocess per image at shape (1, 3, 640, 640)\n",
            "\n"
          ]
        },
        {
          "output_type": "stream",
          "name": "stdout",
          "text": [
            "[0 0 0]\n"
          ]
        },
        {
          "output_type": "stream",
          "name": "stderr",
          "text": [
            "image 1/1 /content/drive/MyDrive/Trabajo_final_VIU/YOLOV8/Dataset/test/images/imagen524-13.jpg: 640x640 (no detections), 8.3ms\n",
            "Speed: 1.9ms preprocess, 8.3ms inference, 1.0ms postprocess per image at shape (1, 3, 640, 640)\n",
            "\n"
          ]
        },
        {
          "output_type": "stream",
          "name": "stdout",
          "text": [
            "[]\n"
          ]
        },
        {
          "output_type": "stream",
          "name": "stderr",
          "text": [
            "image 1/1 /content/drive/MyDrive/Trabajo_final_VIU/YOLOV8/Dataset/test/images/imagen524-18.jpg: 640x640 (no detections), 8.0ms\n",
            "Speed: 2.0ms preprocess, 8.0ms inference, 0.8ms postprocess per image at shape (1, 3, 640, 640)\n",
            "\n"
          ]
        },
        {
          "output_type": "stream",
          "name": "stdout",
          "text": [
            "[]\n"
          ]
        },
        {
          "output_type": "stream",
          "name": "stderr",
          "text": [
            "image 1/1 /content/drive/MyDrive/Trabajo_final_VIU/YOLOV8/Dataset/test/images/imagen524-8.jpg: 608x640 (no detections), 8.1ms\n",
            "Speed: 1.6ms preprocess, 8.1ms inference, 0.8ms postprocess per image at shape (1, 3, 608, 640)\n",
            "\n"
          ]
        },
        {
          "output_type": "stream",
          "name": "stdout",
          "text": [
            "[]\n"
          ]
        },
        {
          "output_type": "stream",
          "name": "stderr",
          "text": [
            "image 1/1 /content/drive/MyDrive/Trabajo_final_VIU/YOLOV8/Dataset/test/images/imagen525-5.jpg: 640x640 (no detections), 8.1ms\n",
            "Speed: 1.6ms preprocess, 8.1ms inference, 0.9ms postprocess per image at shape (1, 3, 640, 640)\n",
            "\n"
          ]
        },
        {
          "output_type": "stream",
          "name": "stdout",
          "text": [
            "[]\n"
          ]
        },
        {
          "output_type": "stream",
          "name": "stderr",
          "text": [
            "image 1/1 /content/drive/MyDrive/Trabajo_final_VIU/YOLOV8/Dataset/test/images/imagen525-6.jpg: 640x544 (no detections), 7.8ms\n",
            "Speed: 1.6ms preprocess, 7.8ms inference, 0.7ms postprocess per image at shape (1, 3, 640, 544)\n",
            "\n"
          ]
        },
        {
          "output_type": "stream",
          "name": "stdout",
          "text": [
            "[]\n"
          ]
        },
        {
          "output_type": "stream",
          "name": "stderr",
          "text": [
            "image 1/1 /content/drive/MyDrive/Trabajo_final_VIU/YOLOV8/Dataset/test/images/imagen526-6.jpg: 640x640 1 ['Osteophytos'], 8.3ms\n",
            "Speed: 2.6ms preprocess, 8.3ms inference, 1.3ms postprocess per image at shape (1, 3, 640, 640)\n",
            "\n"
          ]
        },
        {
          "output_type": "stream",
          "name": "stdout",
          "text": [
            "[0]\n"
          ]
        },
        {
          "output_type": "stream",
          "name": "stderr",
          "text": [
            "image 1/1 /content/drive/MyDrive/Trabajo_final_VIU/YOLOV8/Dataset/test/images/imagen526-8.jpg: 640x576 (no detections), 8.0ms\n",
            "Speed: 1.7ms preprocess, 8.0ms inference, 0.8ms postprocess per image at shape (1, 3, 640, 576)\n",
            "\n"
          ]
        },
        {
          "output_type": "stream",
          "name": "stdout",
          "text": [
            "[]\n"
          ]
        },
        {
          "output_type": "stream",
          "name": "stderr",
          "text": [
            "image 1/1 /content/drive/MyDrive/Trabajo_final_VIU/YOLOV8/Dataset/test/images/imagen527-5.jpg: 640x640 (no detections), 8.3ms\n",
            "Speed: 1.9ms preprocess, 8.3ms inference, 0.8ms postprocess per image at shape (1, 3, 640, 640)\n",
            "\n"
          ]
        },
        {
          "output_type": "stream",
          "name": "stdout",
          "text": [
            "[]\n"
          ]
        },
        {
          "output_type": "stream",
          "name": "stderr",
          "text": [
            "image 1/1 /content/drive/MyDrive/Trabajo_final_VIU/YOLOV8/Dataset/test/images/imagen528-1.jpg: 512x640 (no detections), 7.6ms\n",
            "Speed: 2.5ms preprocess, 7.6ms inference, 0.7ms postprocess per image at shape (1, 3, 512, 640)\n",
            "\n"
          ]
        },
        {
          "output_type": "stream",
          "name": "stdout",
          "text": [
            "[]\n"
          ]
        },
        {
          "output_type": "stream",
          "name": "stderr",
          "text": [
            "image 1/1 /content/drive/MyDrive/Trabajo_final_VIU/YOLOV8/Dataset/test/images/imagen528-2.jpg: 640x576 (no detections), 8.1ms\n",
            "Speed: 2.8ms preprocess, 8.1ms inference, 0.7ms postprocess per image at shape (1, 3, 640, 576)\n",
            "\n"
          ]
        },
        {
          "output_type": "stream",
          "name": "stdout",
          "text": [
            "[]\n"
          ]
        },
        {
          "output_type": "stream",
          "name": "stderr",
          "text": [
            "image 1/1 /content/drive/MyDrive/Trabajo_final_VIU/YOLOV8/Dataset/test/images/imagen528-3.jpg: 512x640 (no detections), 7.2ms\n",
            "Speed: 2.4ms preprocess, 7.2ms inference, 0.8ms postprocess per image at shape (1, 3, 512, 640)\n",
            "\n"
          ]
        },
        {
          "output_type": "stream",
          "name": "stdout",
          "text": [
            "[]\n"
          ]
        },
        {
          "output_type": "stream",
          "name": "stderr",
          "text": [
            "image 1/1 /content/drive/MyDrive/Trabajo_final_VIU/YOLOV8/Dataset/test/images/imagen528-4.jpg: 640x576 (no detections), 8.0ms\n",
            "Speed: 2.6ms preprocess, 8.0ms inference, 0.7ms postprocess per image at shape (1, 3, 640, 576)\n",
            "\n"
          ]
        },
        {
          "output_type": "stream",
          "name": "stdout",
          "text": [
            "[]\n"
          ]
        },
        {
          "output_type": "stream",
          "name": "stderr",
          "text": [
            "image 1/1 /content/drive/MyDrive/Trabajo_final_VIU/YOLOV8/Dataset/test/images/imagen528-5.jpg: 544x640 1 ['Osteophytos'], 8.0ms\n",
            "Speed: 2.5ms preprocess, 8.0ms inference, 1.4ms postprocess per image at shape (1, 3, 544, 640)\n",
            "\n"
          ]
        },
        {
          "output_type": "stream",
          "name": "stdout",
          "text": [
            "[0]\n"
          ]
        },
        {
          "output_type": "stream",
          "name": "stderr",
          "text": [
            "image 1/1 /content/drive/MyDrive/Trabajo_final_VIU/YOLOV8/Dataset/test/images/imagen528-6.jpg: 640x544 (no detections), 10.7ms\n",
            "Speed: 3.2ms preprocess, 10.7ms inference, 0.9ms postprocess per image at shape (1, 3, 640, 544)\n",
            "\n"
          ]
        },
        {
          "output_type": "stream",
          "name": "stdout",
          "text": [
            "[]\n"
          ]
        },
        {
          "output_type": "stream",
          "name": "stderr",
          "text": [
            "image 1/1 /content/drive/MyDrive/Trabajo_final_VIU/YOLOV8/Dataset/test/images/imagen528-7.jpg: 640x640 1 ['Osteophytos'], 9.0ms\n",
            "Speed: 2.0ms preprocess, 9.0ms inference, 1.6ms postprocess per image at shape (1, 3, 640, 640)\n",
            "\n"
          ]
        },
        {
          "output_type": "stream",
          "name": "stdout",
          "text": [
            "[0]\n"
          ]
        },
        {
          "output_type": "stream",
          "name": "stderr",
          "text": [
            "image 1/1 /content/drive/MyDrive/Trabajo_final_VIU/YOLOV8/Dataset/test/images/imagen528-8.jpg: 640x448 (no detections), 10.0ms\n",
            "Speed: 2.0ms preprocess, 10.0ms inference, 0.9ms postprocess per image at shape (1, 3, 640, 448)\n",
            "\n"
          ]
        },
        {
          "output_type": "stream",
          "name": "stdout",
          "text": [
            "[]\n"
          ]
        },
        {
          "output_type": "stream",
          "name": "stderr",
          "text": [
            "image 1/1 /content/drive/MyDrive/Trabajo_final_VIU/YOLOV8/Dataset/test/images/imagen529-6.jpg: 640x352 1 ['Osteophytos'], 7.4ms\n",
            "Speed: 1.2ms preprocess, 7.4ms inference, 1.4ms postprocess per image at shape (1, 3, 640, 352)\n",
            "\n"
          ]
        },
        {
          "output_type": "stream",
          "name": "stdout",
          "text": [
            "[0]\n"
          ]
        },
        {
          "output_type": "stream",
          "name": "stderr",
          "text": [
            "image 1/1 /content/drive/MyDrive/Trabajo_final_VIU/YOLOV8/Dataset/test/images/imagen53-11.jpg: 640x640 3 ['Osteophytos']s, 8.1ms\n",
            "Speed: 1.6ms preprocess, 8.1ms inference, 1.4ms postprocess per image at shape (1, 3, 640, 640)\n",
            "\n"
          ]
        },
        {
          "output_type": "stream",
          "name": "stdout",
          "text": [
            "[0 0 0]\n"
          ]
        },
        {
          "output_type": "stream",
          "name": "stderr",
          "text": [
            "image 1/1 /content/drive/MyDrive/Trabajo_final_VIU/YOLOV8/Dataset/test/images/imagen53-15.jpg: 640x640 1 ['Osteophytos'], 7.4ms\n",
            "Speed: 1.8ms preprocess, 7.4ms inference, 1.4ms postprocess per image at shape (1, 3, 640, 640)\n",
            "\n"
          ]
        },
        {
          "output_type": "stream",
          "name": "stdout",
          "text": [
            "[0]\n"
          ]
        },
        {
          "output_type": "stream",
          "name": "stderr",
          "text": [
            "image 1/1 /content/drive/MyDrive/Trabajo_final_VIU/YOLOV8/Dataset/test/images/imagen53-7.jpg: 608x640 1 ['Osteophytos'], 8.0ms\n",
            "Speed: 1.6ms preprocess, 8.0ms inference, 1.3ms postprocess per image at shape (1, 3, 608, 640)\n",
            "\n"
          ]
        },
        {
          "output_type": "stream",
          "name": "stdout",
          "text": [
            "[0]\n"
          ]
        },
        {
          "output_type": "stream",
          "name": "stderr",
          "text": [
            "image 1/1 /content/drive/MyDrive/Trabajo_final_VIU/YOLOV8/Dataset/test/images/imagen530-5.jpg: 640x640 (no detections), 8.2ms\n",
            "Speed: 1.6ms preprocess, 8.2ms inference, 0.8ms postprocess per image at shape (1, 3, 640, 640)\n",
            "\n"
          ]
        },
        {
          "output_type": "stream",
          "name": "stdout",
          "text": [
            "[]\n"
          ]
        },
        {
          "output_type": "stream",
          "name": "stderr",
          "text": [
            "image 1/1 /content/drive/MyDrive/Trabajo_final_VIU/YOLOV8/Dataset/test/images/imagen531-3.jpg: 608x640 (no detections), 8.2ms\n",
            "Speed: 1.8ms preprocess, 8.2ms inference, 0.9ms postprocess per image at shape (1, 3, 608, 640)\n",
            "\n"
          ]
        },
        {
          "output_type": "stream",
          "name": "stdout",
          "text": [
            "[]\n"
          ]
        },
        {
          "output_type": "stream",
          "name": "stderr",
          "text": [
            "image 1/1 /content/drive/MyDrive/Trabajo_final_VIU/YOLOV8/Dataset/test/images/imagen532-3.jpg: 640x640 2 ['Osteophytos']s, 8.1ms\n",
            "Speed: 1.7ms preprocess, 8.1ms inference, 1.4ms postprocess per image at shape (1, 3, 640, 640)\n",
            "\n"
          ]
        },
        {
          "output_type": "stream",
          "name": "stdout",
          "text": [
            "[0 0]\n"
          ]
        },
        {
          "output_type": "stream",
          "name": "stderr",
          "text": [
            "image 1/1 /content/drive/MyDrive/Trabajo_final_VIU/YOLOV8/Dataset/test/images/imagen532-5.jpg: 576x640 (no detections), 8.3ms\n",
            "Speed: 1.6ms preprocess, 8.3ms inference, 1.0ms postprocess per image at shape (1, 3, 576, 640)\n",
            "\n"
          ]
        },
        {
          "output_type": "stream",
          "name": "stdout",
          "text": [
            "[]\n"
          ]
        },
        {
          "output_type": "stream",
          "name": "stderr",
          "text": [
            "image 1/1 /content/drive/MyDrive/Trabajo_final_VIU/YOLOV8/Dataset/test/images/imagen533-5.jpg: 640x640 1 ['Osteophytos'], 8.1ms\n",
            "Speed: 1.6ms preprocess, 8.1ms inference, 1.4ms postprocess per image at shape (1, 3, 640, 640)\n",
            "\n"
          ]
        },
        {
          "output_type": "stream",
          "name": "stdout",
          "text": [
            "[0]\n"
          ]
        },
        {
          "output_type": "stream",
          "name": "stderr",
          "text": [
            "image 1/1 /content/drive/MyDrive/Trabajo_final_VIU/YOLOV8/Dataset/test/images/imagen534-6.jpg: 640x640 (no detections), 7.4ms\n",
            "Speed: 1.9ms preprocess, 7.4ms inference, 0.7ms postprocess per image at shape (1, 3, 640, 640)\n",
            "\n"
          ]
        },
        {
          "output_type": "stream",
          "name": "stdout",
          "text": [
            "[]\n"
          ]
        },
        {
          "output_type": "stream",
          "name": "stderr",
          "text": [
            "image 1/1 /content/drive/MyDrive/Trabajo_final_VIU/YOLOV8/Dataset/test/images/imagen535-3.jpg: 640x640 1 ['Osteophytos'], 7.4ms\n",
            "Speed: 1.6ms preprocess, 7.4ms inference, 1.4ms postprocess per image at shape (1, 3, 640, 640)\n",
            "\n"
          ]
        },
        {
          "output_type": "stream",
          "name": "stdout",
          "text": [
            "[0]\n"
          ]
        },
        {
          "output_type": "stream",
          "name": "stderr",
          "text": [
            "image 1/1 /content/drive/MyDrive/Trabajo_final_VIU/YOLOV8/Dataset/test/images/imagen536-13.jpg: 640x480 3 ['Osteophytos']s, 10.9ms\n",
            "Speed: 1.8ms preprocess, 10.9ms inference, 4.7ms postprocess per image at shape (1, 3, 640, 480)\n",
            "\n"
          ]
        },
        {
          "output_type": "stream",
          "name": "stdout",
          "text": [
            "[0 0 0]\n"
          ]
        },
        {
          "output_type": "stream",
          "name": "stderr",
          "text": [
            "image 1/1 /content/drive/MyDrive/Trabajo_final_VIU/YOLOV8/Dataset/test/images/imagen536-14.jpg: 640x640 1 ['Osteophytos'], 10.9ms\n",
            "Speed: 1.9ms preprocess, 10.9ms inference, 1.7ms postprocess per image at shape (1, 3, 640, 640)\n",
            "\n"
          ]
        },
        {
          "output_type": "stream",
          "name": "stdout",
          "text": [
            "[0]\n"
          ]
        },
        {
          "output_type": "stream",
          "name": "stderr",
          "text": [
            "image 1/1 /content/drive/MyDrive/Trabajo_final_VIU/YOLOV8/Dataset/test/images/imagen536-8.jpg: 320x640 1 ['Osteophytos'], 10.2ms\n",
            "Speed: 2.0ms preprocess, 10.2ms inference, 1.6ms postprocess per image at shape (1, 3, 320, 640)\n",
            "\n"
          ]
        },
        {
          "output_type": "stream",
          "name": "stdout",
          "text": [
            "[0]\n"
          ]
        },
        {
          "output_type": "stream",
          "name": "stderr",
          "text": [
            "image 1/1 /content/drive/MyDrive/Trabajo_final_VIU/YOLOV8/Dataset/test/images/imagen536-9.jpg: 256x640 1 ['Osteophytos'], 57.3ms\n",
            "Speed: 1.2ms preprocess, 57.3ms inference, 1.4ms postprocess per image at shape (1, 3, 256, 640)\n",
            "\n"
          ]
        },
        {
          "output_type": "stream",
          "name": "stdout",
          "text": [
            "[0]\n"
          ]
        },
        {
          "output_type": "stream",
          "name": "stderr",
          "text": [
            "image 1/1 /content/drive/MyDrive/Trabajo_final_VIU/YOLOV8/Dataset/test/images/imagen537-11.jpg: 640x640 (no detections), 8.1ms\n",
            "Speed: 1.8ms preprocess, 8.1ms inference, 0.7ms postprocess per image at shape (1, 3, 640, 640)\n",
            "\n"
          ]
        },
        {
          "output_type": "stream",
          "name": "stdout",
          "text": [
            "[]\n"
          ]
        },
        {
          "output_type": "stream",
          "name": "stderr",
          "text": [
            "image 1/1 /content/drive/MyDrive/Trabajo_final_VIU/YOLOV8/Dataset/test/images/imagen537-7.jpg: 544x640 1 ['Osteophytos'], 7.9ms\n",
            "Speed: 1.5ms preprocess, 7.9ms inference, 1.8ms postprocess per image at shape (1, 3, 544, 640)\n",
            "\n"
          ]
        },
        {
          "output_type": "stream",
          "name": "stdout",
          "text": [
            "[0]\n"
          ]
        },
        {
          "output_type": "stream",
          "name": "stderr",
          "text": [
            "image 1/1 /content/drive/MyDrive/Trabajo_final_VIU/YOLOV8/Dataset/test/images/imagen538-3.jpg: 640x640 1 ['Osteophytos'], 8.1ms\n",
            "Speed: 1.7ms preprocess, 8.1ms inference, 1.4ms postprocess per image at shape (1, 3, 640, 640)\n",
            "\n"
          ]
        },
        {
          "output_type": "stream",
          "name": "stdout",
          "text": [
            "[0]\n"
          ]
        },
        {
          "output_type": "stream",
          "name": "stderr",
          "text": [
            "image 1/1 /content/drive/MyDrive/Trabajo_final_VIU/YOLOV8/Dataset/test/images/imagen539-4.jpg: 640x320 (no detections), 7.8ms\n",
            "Speed: 1.3ms preprocess, 7.8ms inference, 0.7ms postprocess per image at shape (1, 3, 640, 320)\n",
            "\n"
          ]
        },
        {
          "output_type": "stream",
          "name": "stdout",
          "text": [
            "[]\n"
          ]
        },
        {
          "output_type": "stream",
          "name": "stderr",
          "text": [
            "image 1/1 /content/drive/MyDrive/Trabajo_final_VIU/YOLOV8/Dataset/test/images/imagen539-6.jpg: 640x320 3 ['Osteophytos']s, 7.5ms\n",
            "Speed: 1.4ms preprocess, 7.5ms inference, 1.4ms postprocess per image at shape (1, 3, 640, 320)\n",
            "\n"
          ]
        },
        {
          "output_type": "stream",
          "name": "stdout",
          "text": [
            "[0 0 0]\n"
          ]
        },
        {
          "output_type": "stream",
          "name": "stderr",
          "text": [
            "image 1/1 /content/drive/MyDrive/Trabajo_final_VIU/YOLOV8/Dataset/test/images/imagen54-11.jpg: 640x640 6 ['Osteophytos']s, 8.1ms\n",
            "Speed: 1.9ms preprocess, 8.1ms inference, 1.5ms postprocess per image at shape (1, 3, 640, 640)\n",
            "\n"
          ]
        },
        {
          "output_type": "stream",
          "name": "stdout",
          "text": [
            "[0 0 0 0 0 0]\n"
          ]
        },
        {
          "output_type": "stream",
          "name": "stderr",
          "text": [
            "image 1/1 /content/drive/MyDrive/Trabajo_final_VIU/YOLOV8/Dataset/test/images/imagen540-4.jpg: 640x448 (no detections), 7.3ms\n",
            "Speed: 2.2ms preprocess, 7.3ms inference, 0.7ms postprocess per image at shape (1, 3, 640, 448)\n",
            "\n"
          ]
        },
        {
          "output_type": "stream",
          "name": "stdout",
          "text": [
            "[]\n"
          ]
        },
        {
          "output_type": "stream",
          "name": "stderr",
          "text": [
            "image 1/1 /content/drive/MyDrive/Trabajo_final_VIU/YOLOV8/Dataset/test/images/imagen540-6.jpg: 640x416 2 ['Osteophytos']s, 7.3ms\n",
            "Speed: 1.4ms preprocess, 7.3ms inference, 1.3ms postprocess per image at shape (1, 3, 640, 416)\n",
            "\n"
          ]
        },
        {
          "output_type": "stream",
          "name": "stdout",
          "text": [
            "[0 0]\n"
          ]
        },
        {
          "output_type": "stream",
          "name": "stderr",
          "text": [
            "image 1/1 /content/drive/MyDrive/Trabajo_final_VIU/YOLOV8/Dataset/test/images/imagen541-3.jpg: 640x640 2 ['Osteophytos']s, 8.3ms\n",
            "Speed: 1.8ms preprocess, 8.3ms inference, 1.4ms postprocess per image at shape (1, 3, 640, 640)\n",
            "\n"
          ]
        },
        {
          "output_type": "stream",
          "name": "stdout",
          "text": [
            "[0 0]\n"
          ]
        },
        {
          "output_type": "stream",
          "name": "stderr",
          "text": [
            "image 1/1 /content/drive/MyDrive/Trabajo_final_VIU/YOLOV8/Dataset/test/images/imagen541-4.jpg: 640x544 1 ['Osteophytos'], 9.8ms\n",
            "Speed: 2.0ms preprocess, 9.8ms inference, 2.0ms postprocess per image at shape (1, 3, 640, 544)\n",
            "\n"
          ]
        },
        {
          "output_type": "stream",
          "name": "stdout",
          "text": [
            "[0]\n"
          ]
        },
        {
          "output_type": "stream",
          "name": "stderr",
          "text": [
            "image 1/1 /content/drive/MyDrive/Trabajo_final_VIU/YOLOV8/Dataset/test/images/imagen542-4.jpg: 640x544 1 ['Osteophytos'], 10.7ms\n",
            "Speed: 3.4ms preprocess, 10.7ms inference, 1.7ms postprocess per image at shape (1, 3, 640, 544)\n",
            "\n"
          ]
        },
        {
          "output_type": "stream",
          "name": "stdout",
          "text": [
            "[0]\n"
          ]
        },
        {
          "output_type": "stream",
          "name": "stderr",
          "text": [
            "image 1/1 /content/drive/MyDrive/Trabajo_final_VIU/YOLOV8/Dataset/test/images/imagen542-6.jpg: 640x448 3 ['Osteophytos']s, 9.6ms\n",
            "Speed: 1.8ms preprocess, 9.6ms inference, 1.6ms postprocess per image at shape (1, 3, 640, 448)\n",
            "\n"
          ]
        },
        {
          "output_type": "stream",
          "name": "stdout",
          "text": [
            "[0 0 0]\n"
          ]
        },
        {
          "output_type": "stream",
          "name": "stderr",
          "text": [
            "image 1/1 /content/drive/MyDrive/Trabajo_final_VIU/YOLOV8/Dataset/test/images/imagen543-11.jpg: 640x640 (no detections), 8.0ms\n",
            "Speed: 1.7ms preprocess, 8.0ms inference, 0.7ms postprocess per image at shape (1, 3, 640, 640)\n",
            "\n"
          ]
        },
        {
          "output_type": "stream",
          "name": "stdout",
          "text": [
            "[]\n"
          ]
        },
        {
          "output_type": "stream",
          "name": "stderr",
          "text": [
            "image 1/1 /content/drive/MyDrive/Trabajo_final_VIU/YOLOV8/Dataset/test/images/imagen544-3.jpg: 640x640 (no detections), 7.4ms\n",
            "Speed: 1.6ms preprocess, 7.4ms inference, 0.8ms postprocess per image at shape (1, 3, 640, 640)\n",
            "\n"
          ]
        },
        {
          "output_type": "stream",
          "name": "stdout",
          "text": [
            "[]\n"
          ]
        },
        {
          "output_type": "stream",
          "name": "stderr",
          "text": [
            "image 1/1 /content/drive/MyDrive/Trabajo_final_VIU/YOLOV8/Dataset/test/images/imagen544-4.jpg: 640x448 2 ['Osteophytos']s, 7.2ms\n",
            "Speed: 1.5ms preprocess, 7.2ms inference, 1.4ms postprocess per image at shape (1, 3, 640, 448)\n",
            "\n"
          ]
        },
        {
          "output_type": "stream",
          "name": "stdout",
          "text": [
            "[0 0]\n"
          ]
        },
        {
          "output_type": "stream",
          "name": "stderr",
          "text": [
            "image 1/1 /content/drive/MyDrive/Trabajo_final_VIU/YOLOV8/Dataset/test/images/imagen545-4.jpg: 640x256 5 ['Osteophytos']s, 7.4ms\n",
            "Speed: 1.2ms preprocess, 7.4ms inference, 1.3ms postprocess per image at shape (1, 3, 640, 256)\n",
            "\n"
          ]
        },
        {
          "output_type": "stream",
          "name": "stdout",
          "text": [
            "[0 0 0 0 0]\n"
          ]
        },
        {
          "output_type": "stream",
          "name": "stderr",
          "text": [
            "image 1/1 /content/drive/MyDrive/Trabajo_final_VIU/YOLOV8/Dataset/test/images/imagen546-3.jpg: 640x640 5 ['Osteophytos']s, 8.1ms\n",
            "Speed: 2.0ms preprocess, 8.1ms inference, 1.6ms postprocess per image at shape (1, 3, 640, 640)\n",
            "\n"
          ]
        },
        {
          "output_type": "stream",
          "name": "stdout",
          "text": [
            "[0 0 0 0 0]\n"
          ]
        },
        {
          "output_type": "stream",
          "name": "stderr",
          "text": [
            "image 1/1 /content/drive/MyDrive/Trabajo_final_VIU/YOLOV8/Dataset/test/images/imagen547-4.jpg: 640x544 3 ['Osteophytos']s, 7.9ms\n",
            "Speed: 1.6ms preprocess, 7.9ms inference, 1.4ms postprocess per image at shape (1, 3, 640, 544)\n",
            "\n"
          ]
        },
        {
          "output_type": "stream",
          "name": "stdout",
          "text": [
            "[0 0 0]\n"
          ]
        },
        {
          "output_type": "stream",
          "name": "stderr",
          "text": [
            "image 1/1 /content/drive/MyDrive/Trabajo_final_VIU/YOLOV8/Dataset/test/images/imagen548-4.jpg: 640x544 2 ['Osteophytos']s, 7.2ms\n",
            "Speed: 1.7ms preprocess, 7.2ms inference, 1.3ms postprocess per image at shape (1, 3, 640, 544)\n",
            "\n"
          ]
        },
        {
          "output_type": "stream",
          "name": "stdout",
          "text": [
            "[0 0]\n"
          ]
        },
        {
          "output_type": "stream",
          "name": "stderr",
          "text": [
            "image 1/1 /content/drive/MyDrive/Trabajo_final_VIU/YOLOV8/Dataset/test/images/imagen549-4.jpg: 640x608 4 ['Osteophytos']s, 10.0ms\n",
            "Speed: 2.1ms preprocess, 10.0ms inference, 1.3ms postprocess per image at shape (1, 3, 640, 608)\n",
            "\n"
          ]
        },
        {
          "output_type": "stream",
          "name": "stdout",
          "text": [
            "[0 0 0 0]\n"
          ]
        },
        {
          "output_type": "stream",
          "name": "stderr",
          "text": [
            "image 1/1 /content/drive/MyDrive/Trabajo_final_VIU/YOLOV8/Dataset/test/images/imagen55-10.jpg: 640x640 2 ['Osteophytos']s, 8.0ms\n",
            "Speed: 1.7ms preprocess, 8.0ms inference, 1.3ms postprocess per image at shape (1, 3, 640, 640)\n",
            "\n"
          ]
        },
        {
          "output_type": "stream",
          "name": "stdout",
          "text": [
            "[0 0]\n"
          ]
        },
        {
          "output_type": "stream",
          "name": "stderr",
          "text": [
            "image 1/1 /content/drive/MyDrive/Trabajo_final_VIU/YOLOV8/Dataset/test/images/imagen55-6.jpg: 640x640 3 ['Osteophytos']s, 7.4ms\n",
            "Speed: 1.7ms preprocess, 7.4ms inference, 1.5ms postprocess per image at shape (1, 3, 640, 640)\n",
            "\n"
          ]
        },
        {
          "output_type": "stream",
          "name": "stdout",
          "text": [
            "[0 0 0]\n"
          ]
        },
        {
          "output_type": "stream",
          "name": "stderr",
          "text": [
            "image 1/1 /content/drive/MyDrive/Trabajo_final_VIU/YOLOV8/Dataset/test/images/imagen550-11.jpg: 640x640 2 ['Osteophytos']s, 11.6ms\n",
            "Speed: 2.0ms preprocess, 11.6ms inference, 2.1ms postprocess per image at shape (1, 3, 640, 640)\n",
            "\n"
          ]
        },
        {
          "output_type": "stream",
          "name": "stdout",
          "text": [
            "[0 0]\n"
          ]
        },
        {
          "output_type": "stream",
          "name": "stderr",
          "text": [
            "image 1/1 /content/drive/MyDrive/Trabajo_final_VIU/YOLOV8/Dataset/test/images/imagen551-14.jpg: 640x640 (no detections), 9.5ms\n",
            "Speed: 1.9ms preprocess, 9.5ms inference, 1.0ms postprocess per image at shape (1, 3, 640, 640)\n",
            "\n"
          ]
        },
        {
          "output_type": "stream",
          "name": "stdout",
          "text": [
            "[]\n"
          ]
        },
        {
          "output_type": "stream",
          "name": "stderr",
          "text": [
            "image 1/1 /content/drive/MyDrive/Trabajo_final_VIU/YOLOV8/Dataset/test/images/imagen551-2.jpg: 640x640 (no detections), 8.3ms\n",
            "Speed: 2.7ms preprocess, 8.3ms inference, 0.9ms postprocess per image at shape (1, 3, 640, 640)\n",
            "\n"
          ]
        },
        {
          "output_type": "stream",
          "name": "stdout",
          "text": [
            "[]\n"
          ]
        },
        {
          "output_type": "stream",
          "name": "stderr",
          "text": [
            "image 1/1 /content/drive/MyDrive/Trabajo_final_VIU/YOLOV8/Dataset/test/images/imagen551-6.jpg: 640x640 (no detections), 8.8ms\n",
            "Speed: 1.6ms preprocess, 8.8ms inference, 1.0ms postprocess per image at shape (1, 3, 640, 640)\n",
            "\n"
          ]
        },
        {
          "output_type": "stream",
          "name": "stdout",
          "text": [
            "[]\n"
          ]
        },
        {
          "output_type": "stream",
          "name": "stderr",
          "text": [
            "image 1/1 /content/drive/MyDrive/Trabajo_final_VIU/YOLOV8/Dataset/test/images/imagen552-4.jpg: 544x640 (no detections), 7.9ms\n",
            "Speed: 2.5ms preprocess, 7.9ms inference, 0.7ms postprocess per image at shape (1, 3, 544, 640)\n",
            "\n"
          ]
        },
        {
          "output_type": "stream",
          "name": "stdout",
          "text": [
            "[]\n"
          ]
        },
        {
          "output_type": "stream",
          "name": "stderr",
          "text": [
            "image 1/1 /content/drive/MyDrive/Trabajo_final_VIU/YOLOV8/Dataset/test/images/imagen552-5.jpg: 640x640 1 ['Osteophytos'], 8.5ms\n",
            "Speed: 1.7ms preprocess, 8.5ms inference, 1.7ms postprocess per image at shape (1, 3, 640, 640)\n",
            "\n"
          ]
        },
        {
          "output_type": "stream",
          "name": "stdout",
          "text": [
            "[0]\n"
          ]
        },
        {
          "output_type": "stream",
          "name": "stderr",
          "text": [
            "image 1/1 /content/drive/MyDrive/Trabajo_final_VIU/YOLOV8/Dataset/test/images/imagen552-6.jpg: 640x640 1 ['Osteophytos'], 7.4ms\n",
            "Speed: 2.0ms preprocess, 7.4ms inference, 1.6ms postprocess per image at shape (1, 3, 640, 640)\n",
            "\n"
          ]
        },
        {
          "output_type": "stream",
          "name": "stdout",
          "text": [
            "[0]\n"
          ]
        },
        {
          "output_type": "stream",
          "name": "stderr",
          "text": [
            "image 1/1 /content/drive/MyDrive/Trabajo_final_VIU/YOLOV8/Dataset/test/images/imagen553-4.jpg: 640x512 (no detections), 9.6ms\n",
            "Speed: 1.7ms preprocess, 9.6ms inference, 0.7ms postprocess per image at shape (1, 3, 640, 512)\n",
            "\n"
          ]
        },
        {
          "output_type": "stream",
          "name": "stdout",
          "text": [
            "[]\n"
          ]
        },
        {
          "output_type": "stream",
          "name": "stderr",
          "text": [
            "image 1/1 /content/drive/MyDrive/Trabajo_final_VIU/YOLOV8/Dataset/test/images/imagen554-5.jpg: 640x640 2 ['Osteophytos']s, 8.0ms\n",
            "Speed: 1.6ms preprocess, 8.0ms inference, 1.3ms postprocess per image at shape (1, 3, 640, 640)\n",
            "\n"
          ]
        },
        {
          "output_type": "stream",
          "name": "stdout",
          "text": [
            "[0 0]\n"
          ]
        },
        {
          "output_type": "stream",
          "name": "stderr",
          "text": [
            "image 1/1 /content/drive/MyDrive/Trabajo_final_VIU/YOLOV8/Dataset/test/images/imagen555-11.jpg: 640x640 (no detections), 7.4ms\n",
            "Speed: 1.7ms preprocess, 7.4ms inference, 0.8ms postprocess per image at shape (1, 3, 640, 640)\n",
            "\n"
          ]
        },
        {
          "output_type": "stream",
          "name": "stdout",
          "text": [
            "[]\n"
          ]
        },
        {
          "output_type": "stream",
          "name": "stderr",
          "text": [
            "image 1/1 /content/drive/MyDrive/Trabajo_final_VIU/YOLOV8/Dataset/test/images/imagen555-7.jpg: 640x640 (no detections), 7.4ms\n",
            "Speed: 1.7ms preprocess, 7.4ms inference, 0.9ms postprocess per image at shape (1, 3, 640, 640)\n",
            "\n"
          ]
        },
        {
          "output_type": "stream",
          "name": "stdout",
          "text": [
            "[]\n"
          ]
        },
        {
          "output_type": "stream",
          "name": "stderr",
          "text": [
            "image 1/1 /content/drive/MyDrive/Trabajo_final_VIU/YOLOV8/Dataset/test/images/imagen556-13.jpg: 640x640 1 ['Osteophytos'], 7.4ms\n",
            "Speed: 1.7ms preprocess, 7.4ms inference, 1.3ms postprocess per image at shape (1, 3, 640, 640)\n",
            "\n"
          ]
        },
        {
          "output_type": "stream",
          "name": "stdout",
          "text": [
            "[0]\n"
          ]
        },
        {
          "output_type": "stream",
          "name": "stderr",
          "text": [
            "image 1/1 /content/drive/MyDrive/Trabajo_final_VIU/YOLOV8/Dataset/test/images/imagen557-3.jpg: 608x640 1 ['Osteophytos'], 8.3ms\n",
            "Speed: 1.7ms preprocess, 8.3ms inference, 1.3ms postprocess per image at shape (1, 3, 608, 640)\n",
            "\n"
          ]
        },
        {
          "output_type": "stream",
          "name": "stdout",
          "text": [
            "[0]\n"
          ]
        },
        {
          "output_type": "stream",
          "name": "stderr",
          "text": [
            "image 1/1 /content/drive/MyDrive/Trabajo_final_VIU/YOLOV8/Dataset/test/images/imagen557-4.jpg: 640x544 1 ['Osteophytos'], 8.0ms\n",
            "Speed: 2.4ms preprocess, 8.0ms inference, 1.3ms postprocess per image at shape (1, 3, 640, 544)\n",
            "\n"
          ]
        },
        {
          "output_type": "stream",
          "name": "stdout",
          "text": [
            "[0]\n"
          ]
        },
        {
          "output_type": "stream",
          "name": "stderr",
          "text": [
            "image 1/1 /content/drive/MyDrive/Trabajo_final_VIU/YOLOV8/Dataset/test/images/imagen557-5.jpg: 640x640 2 ['Osteophytos']s, 10.7ms\n",
            "Speed: 1.9ms preprocess, 10.7ms inference, 1.9ms postprocess per image at shape (1, 3, 640, 640)\n",
            "\n"
          ]
        },
        {
          "output_type": "stream",
          "name": "stdout",
          "text": [
            "[0 0]\n"
          ]
        },
        {
          "output_type": "stream",
          "name": "stderr",
          "text": [
            "image 1/1 /content/drive/MyDrive/Trabajo_final_VIU/YOLOV8/Dataset/test/images/imagen557-6.jpg: 640x512 3 ['Osteophytos']s, 9.2ms\n",
            "Speed: 1.8ms preprocess, 9.2ms inference, 1.6ms postprocess per image at shape (1, 3, 640, 512)\n",
            "\n"
          ]
        },
        {
          "output_type": "stream",
          "name": "stdout",
          "text": [
            "[0 0 0]\n"
          ]
        },
        {
          "output_type": "stream",
          "name": "stderr",
          "text": [
            "image 1/1 /content/drive/MyDrive/Trabajo_final_VIU/YOLOV8/Dataset/test/images/imagen558-2.jpg: 512x640 1 ['Osteophytos'], 9.2ms\n",
            "Speed: 1.7ms preprocess, 9.2ms inference, 1.6ms postprocess per image at shape (1, 3, 512, 640)\n",
            "\n"
          ]
        },
        {
          "output_type": "stream",
          "name": "stdout",
          "text": [
            "[0]\n"
          ]
        },
        {
          "output_type": "stream",
          "name": "stderr",
          "text": [
            "image 1/1 /content/drive/MyDrive/Trabajo_final_VIU/YOLOV8/Dataset/test/images/imagen558-5.jpg: 640x640 (no detections), 8.0ms\n",
            "Speed: 1.7ms preprocess, 8.0ms inference, 0.7ms postprocess per image at shape (1, 3, 640, 640)\n",
            "\n"
          ]
        },
        {
          "output_type": "stream",
          "name": "stdout",
          "text": [
            "[]\n"
          ]
        },
        {
          "output_type": "stream",
          "name": "stderr",
          "text": [
            "image 1/1 /content/drive/MyDrive/Trabajo_final_VIU/YOLOV8/Dataset/test/images/imagen559-2.jpg: 640x640 (no detections), 7.4ms\n",
            "Speed: 1.6ms preprocess, 7.4ms inference, 0.8ms postprocess per image at shape (1, 3, 640, 640)\n",
            "\n"
          ]
        },
        {
          "output_type": "stream",
          "name": "stdout",
          "text": [
            "[]\n"
          ]
        },
        {
          "output_type": "stream",
          "name": "stderr",
          "text": [
            "image 1/1 /content/drive/MyDrive/Trabajo_final_VIU/YOLOV8/Dataset/test/images/imagen56-12.jpg: 640x640 4 ['Osteophytos']s, 7.4ms\n",
            "Speed: 1.6ms preprocess, 7.4ms inference, 1.4ms postprocess per image at shape (1, 3, 640, 640)\n",
            "\n"
          ]
        },
        {
          "output_type": "stream",
          "name": "stdout",
          "text": [
            "[0 0 0 0]\n"
          ]
        },
        {
          "output_type": "stream",
          "name": "stderr",
          "text": [
            "image 1/1 /content/drive/MyDrive/Trabajo_final_VIU/YOLOV8/Dataset/test/images/imagen560-3.jpg: 576x640 (no detections), 7.9ms\n",
            "Speed: 1.6ms preprocess, 7.9ms inference, 0.7ms postprocess per image at shape (1, 3, 576, 640)\n",
            "\n"
          ]
        },
        {
          "output_type": "stream",
          "name": "stdout",
          "text": [
            "[]\n"
          ]
        },
        {
          "output_type": "stream",
          "name": "stderr",
          "text": [
            "image 1/1 /content/drive/MyDrive/Trabajo_final_VIU/YOLOV8/Dataset/test/images/imagen560-4.jpg: 576x640 (no detections), 7.8ms\n",
            "Speed: 1.8ms preprocess, 7.8ms inference, 0.7ms postprocess per image at shape (1, 3, 576, 640)\n",
            "\n"
          ]
        },
        {
          "output_type": "stream",
          "name": "stdout",
          "text": [
            "[]\n"
          ]
        },
        {
          "output_type": "stream",
          "name": "stderr",
          "text": [
            "image 1/1 /content/drive/MyDrive/Trabajo_final_VIU/YOLOV8/Dataset/test/images/imagen560-5.jpg: 640x640 (no detections), 8.1ms\n",
            "Speed: 1.6ms preprocess, 8.1ms inference, 0.8ms postprocess per image at shape (1, 3, 640, 640)\n",
            "\n"
          ]
        },
        {
          "output_type": "stream",
          "name": "stdout",
          "text": [
            "[]\n"
          ]
        },
        {
          "output_type": "stream",
          "name": "stderr",
          "text": [
            "image 1/1 /content/drive/MyDrive/Trabajo_final_VIU/YOLOV8/Dataset/test/images/imagen561-3.jpg: 640x640 2 ['Osteophytos']s, 7.4ms\n",
            "Speed: 1.7ms preprocess, 7.4ms inference, 1.4ms postprocess per image at shape (1, 3, 640, 640)\n",
            "\n"
          ]
        },
        {
          "output_type": "stream",
          "name": "stdout",
          "text": [
            "[0 0]\n"
          ]
        },
        {
          "output_type": "stream",
          "name": "stderr",
          "text": [
            "image 1/1 /content/drive/MyDrive/Trabajo_final_VIU/YOLOV8/Dataset/test/images/imagen562-13.jpg: 640x640 1 ['Osteophytos'], 7.4ms\n",
            "Speed: 1.7ms preprocess, 7.4ms inference, 1.4ms postprocess per image at shape (1, 3, 640, 640)\n",
            "\n"
          ]
        },
        {
          "output_type": "stream",
          "name": "stdout",
          "text": [
            "[0]\n"
          ]
        },
        {
          "output_type": "stream",
          "name": "stderr",
          "text": [
            "image 1/1 /content/drive/MyDrive/Trabajo_final_VIU/YOLOV8/Dataset/test/images/imagen563-3.jpg: 640x640 1 ['Osteophytos'], 7.4ms\n",
            "Speed: 1.6ms preprocess, 7.4ms inference, 1.4ms postprocess per image at shape (1, 3, 640, 640)\n",
            "\n"
          ]
        },
        {
          "output_type": "stream",
          "name": "stdout",
          "text": [
            "[0]\n"
          ]
        },
        {
          "output_type": "stream",
          "name": "stderr",
          "text": [
            "image 1/1 /content/drive/MyDrive/Trabajo_final_VIU/YOLOV8/Dataset/test/images/imagen564-5.jpg: 608x640 (no detections), 9.8ms\n",
            "Speed: 2.2ms preprocess, 9.8ms inference, 0.8ms postprocess per image at shape (1, 3, 608, 640)\n",
            "\n"
          ]
        },
        {
          "output_type": "stream",
          "name": "stdout",
          "text": [
            "[]\n"
          ]
        },
        {
          "output_type": "stream",
          "name": "stderr",
          "text": [
            "image 1/1 /content/drive/MyDrive/Trabajo_final_VIU/YOLOV8/Dataset/test/images/imagen564-7.jpg: 640x640 (no detections), 8.1ms\n",
            "Speed: 1.7ms preprocess, 8.1ms inference, 0.7ms postprocess per image at shape (1, 3, 640, 640)\n",
            "\n"
          ]
        },
        {
          "output_type": "stream",
          "name": "stdout",
          "text": [
            "[]\n"
          ]
        },
        {
          "output_type": "stream",
          "name": "stderr",
          "text": [
            "image 1/1 /content/drive/MyDrive/Trabajo_final_VIU/YOLOV8/Dataset/test/images/imagen565-10.jpg: 544x640 (no detections), 8.0ms\n",
            "Speed: 1.5ms preprocess, 8.0ms inference, 0.7ms postprocess per image at shape (1, 3, 544, 640)\n",
            "\n"
          ]
        },
        {
          "output_type": "stream",
          "name": "stdout",
          "text": [
            "[]\n"
          ]
        },
        {
          "output_type": "stream",
          "name": "stderr",
          "text": [
            "image 1/1 /content/drive/MyDrive/Trabajo_final_VIU/YOLOV8/Dataset/test/images/imagen565-16.jpg: 640x640 (no detections), 9.1ms\n",
            "Speed: 2.0ms preprocess, 9.1ms inference, 0.9ms postprocess per image at shape (1, 3, 640, 640)\n",
            "\n"
          ]
        },
        {
          "output_type": "stream",
          "name": "stdout",
          "text": [
            "[]\n"
          ]
        },
        {
          "output_type": "stream",
          "name": "stderr",
          "text": [
            "image 1/1 /content/drive/MyDrive/Trabajo_final_VIU/YOLOV8/Dataset/test/images/imagen565-22.jpg: 640x640 (no detections), 8.3ms\n",
            "Speed: 1.9ms preprocess, 8.3ms inference, 0.9ms postprocess per image at shape (1, 3, 640, 640)\n",
            "\n"
          ]
        },
        {
          "output_type": "stream",
          "name": "stdout",
          "text": [
            "[]\n"
          ]
        },
        {
          "output_type": "stream",
          "name": "stderr",
          "text": [
            "image 1/1 /content/drive/MyDrive/Trabajo_final_VIU/YOLOV8/Dataset/test/images/imagen566-4.jpg: 640x512 (no detections), 7.1ms\n",
            "Speed: 1.5ms preprocess, 7.1ms inference, 0.7ms postprocess per image at shape (1, 3, 640, 512)\n",
            "\n"
          ]
        },
        {
          "output_type": "stream",
          "name": "stdout",
          "text": [
            "[]\n"
          ]
        },
        {
          "output_type": "stream",
          "name": "stderr",
          "text": [
            "image 1/1 /content/drive/MyDrive/Trabajo_final_VIU/YOLOV8/Dataset/test/images/imagen567-11.jpg: 640x640 1 ['Osteophytos'], 9.0ms\n",
            "Speed: 1.7ms preprocess, 9.0ms inference, 1.3ms postprocess per image at shape (1, 3, 640, 640)\n",
            "\n"
          ]
        },
        {
          "output_type": "stream",
          "name": "stdout",
          "text": [
            "[0]\n"
          ]
        },
        {
          "output_type": "stream",
          "name": "stderr",
          "text": [
            "image 1/1 /content/drive/MyDrive/Trabajo_final_VIU/YOLOV8/Dataset/test/images/imagen567-7.jpg: 640x640 1 ['Osteophytos'], 7.4ms\n",
            "Speed: 1.7ms preprocess, 7.4ms inference, 1.5ms postprocess per image at shape (1, 3, 640, 640)\n",
            "\n"
          ]
        },
        {
          "output_type": "stream",
          "name": "stdout",
          "text": [
            "[0]\n"
          ]
        },
        {
          "output_type": "stream",
          "name": "stderr",
          "text": [
            "image 1/1 /content/drive/MyDrive/Trabajo_final_VIU/YOLOV8/Dataset/test/images/imagen568-5.jpg: 640x640 (no detections), 8.5ms\n",
            "Speed: 1.6ms preprocess, 8.5ms inference, 1.0ms postprocess per image at shape (1, 3, 640, 640)\n",
            "\n"
          ]
        },
        {
          "output_type": "stream",
          "name": "stdout",
          "text": [
            "[]\n"
          ]
        },
        {
          "output_type": "stream",
          "name": "stderr",
          "text": [
            "image 1/1 /content/drive/MyDrive/Trabajo_final_VIU/YOLOV8/Dataset/test/images/imagen568-6.jpg: 640x640 (no detections), 7.4ms\n",
            "Speed: 1.8ms preprocess, 7.4ms inference, 0.8ms postprocess per image at shape (1, 3, 640, 640)\n",
            "\n"
          ]
        },
        {
          "output_type": "stream",
          "name": "stdout",
          "text": [
            "[]\n"
          ]
        },
        {
          "output_type": "stream",
          "name": "stderr",
          "text": [
            "image 1/1 /content/drive/MyDrive/Trabajo_final_VIU/YOLOV8/Dataset/test/images/imagen569-4.jpg: 640x640 (no detections), 18.9ms\n",
            "Speed: 2.1ms preprocess, 18.9ms inference, 0.7ms postprocess per image at shape (1, 3, 640, 640)\n",
            "\n"
          ]
        },
        {
          "output_type": "stream",
          "name": "stdout",
          "text": [
            "[]\n"
          ]
        },
        {
          "output_type": "stream",
          "name": "stderr",
          "text": [
            "image 1/1 /content/drive/MyDrive/Trabajo_final_VIU/YOLOV8/Dataset/test/images/imagen569-6.jpg: 640x640 (no detections), 7.4ms\n",
            "Speed: 1.9ms preprocess, 7.4ms inference, 0.8ms postprocess per image at shape (1, 3, 640, 640)\n",
            "\n"
          ]
        },
        {
          "output_type": "stream",
          "name": "stdout",
          "text": [
            "[]\n"
          ]
        },
        {
          "output_type": "stream",
          "name": "stderr",
          "text": [
            "image 1/1 /content/drive/MyDrive/Trabajo_final_VIU/YOLOV8/Dataset/test/images/imagen57-3.jpg: 640x640 2 ['Osteophytos']s, 10.9ms\n",
            "Speed: 3.6ms preprocess, 10.9ms inference, 2.3ms postprocess per image at shape (1, 3, 640, 640)\n",
            "\n"
          ]
        },
        {
          "output_type": "stream",
          "name": "stdout",
          "text": [
            "[0 0]\n"
          ]
        },
        {
          "output_type": "stream",
          "name": "stderr",
          "text": [
            "image 1/1 /content/drive/MyDrive/Trabajo_final_VIU/YOLOV8/Dataset/test/images/imagen570-4.jpg: 640x544 2 ['Osteophytos']s, 8.0ms\n",
            "Speed: 1.6ms preprocess, 8.0ms inference, 1.4ms postprocess per image at shape (1, 3, 640, 544)\n",
            "\n"
          ]
        },
        {
          "output_type": "stream",
          "name": "stdout",
          "text": [
            "[0 0]\n"
          ]
        },
        {
          "output_type": "stream",
          "name": "stderr",
          "text": [
            "image 1/1 /content/drive/MyDrive/Trabajo_final_VIU/YOLOV8/Dataset/test/images/imagen571-8.jpg: 640x640 2 ['Osteophytos']s, 8.1ms\n",
            "Speed: 1.6ms preprocess, 8.1ms inference, 1.4ms postprocess per image at shape (1, 3, 640, 640)\n",
            "\n"
          ]
        },
        {
          "output_type": "stream",
          "name": "stdout",
          "text": [
            "[0 0]\n"
          ]
        },
        {
          "output_type": "stream",
          "name": "stderr",
          "text": [
            "image 1/1 /content/drive/MyDrive/Trabajo_final_VIU/YOLOV8/Dataset/test/images/imagen572-10.jpg: 640x640 (no detections), 7.4ms\n",
            "Speed: 1.6ms preprocess, 7.4ms inference, 0.8ms postprocess per image at shape (1, 3, 640, 640)\n",
            "\n"
          ]
        },
        {
          "output_type": "stream",
          "name": "stdout",
          "text": [
            "[]\n"
          ]
        },
        {
          "output_type": "stream",
          "name": "stderr",
          "text": [
            "image 1/1 /content/drive/MyDrive/Trabajo_final_VIU/YOLOV8/Dataset/test/images/imagen573-11.jpg: 640x640 2 ['Osteophytos']s, 7.4ms\n",
            "Speed: 1.6ms preprocess, 7.4ms inference, 1.6ms postprocess per image at shape (1, 3, 640, 640)\n",
            "\n"
          ]
        },
        {
          "output_type": "stream",
          "name": "stdout",
          "text": [
            "[0 0]\n"
          ]
        },
        {
          "output_type": "stream",
          "name": "stderr",
          "text": [
            "image 1/1 /content/drive/MyDrive/Trabajo_final_VIU/YOLOV8/Dataset/test/images/imagen574-3.jpg: 640x640 3 ['Osteophytos']s, 8.5ms\n",
            "Speed: 1.8ms preprocess, 8.5ms inference, 1.8ms postprocess per image at shape (1, 3, 640, 640)\n",
            "\n"
          ]
        },
        {
          "output_type": "stream",
          "name": "stdout",
          "text": [
            "[0 0 0]\n"
          ]
        },
        {
          "output_type": "stream",
          "name": "stderr",
          "text": [
            "image 1/1 /content/drive/MyDrive/Trabajo_final_VIU/YOLOV8/Dataset/test/images/imagen575-13.jpg: 640x640 2 ['Osteophytos']s, 9.8ms\n",
            "Speed: 2.2ms preprocess, 9.8ms inference, 2.2ms postprocess per image at shape (1, 3, 640, 640)\n",
            "\n"
          ]
        },
        {
          "output_type": "stream",
          "name": "stdout",
          "text": [
            "[0 0]\n"
          ]
        },
        {
          "output_type": "stream",
          "name": "stderr",
          "text": [
            "image 1/1 /content/drive/MyDrive/Trabajo_final_VIU/YOLOV8/Dataset/test/images/imagen576-3.jpg: 640x640 (no detections), 10.9ms\n",
            "Speed: 2.0ms preprocess, 10.9ms inference, 1.1ms postprocess per image at shape (1, 3, 640, 640)\n",
            "\n"
          ]
        },
        {
          "output_type": "stream",
          "name": "stdout",
          "text": [
            "[]\n"
          ]
        },
        {
          "output_type": "stream",
          "name": "stderr",
          "text": [
            "image 1/1 /content/drive/MyDrive/Trabajo_final_VIU/YOLOV8/Dataset/test/images/imagen576-5.jpg: 640x640 (no detections), 7.6ms\n",
            "Speed: 1.6ms preprocess, 7.6ms inference, 0.8ms postprocess per image at shape (1, 3, 640, 640)\n",
            "\n"
          ]
        },
        {
          "output_type": "stream",
          "name": "stdout",
          "text": [
            "[]\n"
          ]
        },
        {
          "output_type": "stream",
          "name": "stderr",
          "text": [
            "image 1/1 /content/drive/MyDrive/Trabajo_final_VIU/YOLOV8/Dataset/test/images/imagen577-5.jpg: 640x640 (no detections), 7.4ms\n",
            "Speed: 1.6ms preprocess, 7.4ms inference, 0.8ms postprocess per image at shape (1, 3, 640, 640)\n",
            "\n"
          ]
        },
        {
          "output_type": "stream",
          "name": "stdout",
          "text": [
            "[]\n"
          ]
        },
        {
          "output_type": "stream",
          "name": "stderr",
          "text": [
            "image 1/1 /content/drive/MyDrive/Trabajo_final_VIU/YOLOV8/Dataset/test/images/imagen577-6.jpg: 640x576 (no detections), 7.9ms\n",
            "Speed: 1.6ms preprocess, 7.9ms inference, 0.7ms postprocess per image at shape (1, 3, 640, 576)\n",
            "\n"
          ]
        },
        {
          "output_type": "stream",
          "name": "stdout",
          "text": [
            "[]\n"
          ]
        },
        {
          "output_type": "stream",
          "name": "stderr",
          "text": [
            "image 1/1 /content/drive/MyDrive/Trabajo_final_VIU/YOLOV8/Dataset/test/images/imagen578-2.jpg: 640x352 (no detections), 8.5ms\n",
            "Speed: 1.2ms preprocess, 8.5ms inference, 0.7ms postprocess per image at shape (1, 3, 640, 352)\n",
            "\n"
          ]
        },
        {
          "output_type": "stream",
          "name": "stdout",
          "text": [
            "[]\n"
          ]
        },
        {
          "output_type": "stream",
          "name": "stderr",
          "text": [
            "image 1/1 /content/drive/MyDrive/Trabajo_final_VIU/YOLOV8/Dataset/test/images/imagen578-4.jpg: 640x352 (no detections), 6.8ms\n",
            "Speed: 1.3ms preprocess, 6.8ms inference, 0.7ms postprocess per image at shape (1, 3, 640, 352)\n",
            "\n"
          ]
        },
        {
          "output_type": "stream",
          "name": "stdout",
          "text": [
            "[]\n"
          ]
        },
        {
          "output_type": "stream",
          "name": "stderr",
          "text": [
            "image 1/1 /content/drive/MyDrive/Trabajo_final_VIU/YOLOV8/Dataset/test/images/imagen579-3.jpg: 576x640 (no detections), 8.0ms\n",
            "Speed: 1.6ms preprocess, 8.0ms inference, 0.8ms postprocess per image at shape (1, 3, 576, 640)\n",
            "\n"
          ]
        },
        {
          "output_type": "stream",
          "name": "stdout",
          "text": [
            "[]\n"
          ]
        },
        {
          "output_type": "stream",
          "name": "stderr",
          "text": [
            "image 1/1 /content/drive/MyDrive/Trabajo_final_VIU/YOLOV8/Dataset/test/images/imagen579-4.jpg: 576x640 (no detections), 7.3ms\n",
            "Speed: 2.5ms preprocess, 7.3ms inference, 0.8ms postprocess per image at shape (1, 3, 576, 640)\n",
            "\n"
          ]
        },
        {
          "output_type": "stream",
          "name": "stdout",
          "text": [
            "[]\n"
          ]
        },
        {
          "output_type": "stream",
          "name": "stderr",
          "text": [
            "image 1/1 /content/drive/MyDrive/Trabajo_final_VIU/YOLOV8/Dataset/test/images/imagen579-5.jpg: 640x640 (no detections), 8.7ms\n",
            "Speed: 1.6ms preprocess, 8.7ms inference, 1.0ms postprocess per image at shape (1, 3, 640, 640)\n",
            "\n"
          ]
        },
        {
          "output_type": "stream",
          "name": "stdout",
          "text": [
            "[]\n"
          ]
        },
        {
          "output_type": "stream",
          "name": "stderr",
          "text": [
            "image 1/1 /content/drive/MyDrive/Trabajo_final_VIU/YOLOV8/Dataset/test/images/imagen579-6.jpg: 640x640 (no detections), 7.4ms\n",
            "Speed: 1.7ms preprocess, 7.4ms inference, 0.8ms postprocess per image at shape (1, 3, 640, 640)\n",
            "\n"
          ]
        },
        {
          "output_type": "stream",
          "name": "stdout",
          "text": [
            "[]\n"
          ]
        },
        {
          "output_type": "stream",
          "name": "stderr",
          "text": [
            "image 1/1 /content/drive/MyDrive/Trabajo_final_VIU/YOLOV8/Dataset/test/images/imagen58-7.jpg: 640x640 2 ['Osteophytos']s, 8.6ms\n",
            "Speed: 1.6ms preprocess, 8.6ms inference, 1.8ms postprocess per image at shape (1, 3, 640, 640)\n",
            "\n"
          ]
        },
        {
          "output_type": "stream",
          "name": "stdout",
          "text": [
            "[0 0]\n"
          ]
        },
        {
          "output_type": "stream",
          "name": "stderr",
          "text": [
            "image 1/1 /content/drive/MyDrive/Trabajo_final_VIU/YOLOV8/Dataset/test/images/imagen580-11.jpg: 640x640 2 ['Osteophytos']s, 7.4ms\n",
            "Speed: 1.6ms preprocess, 7.4ms inference, 1.3ms postprocess per image at shape (1, 3, 640, 640)\n",
            "\n"
          ]
        },
        {
          "output_type": "stream",
          "name": "stdout",
          "text": [
            "[0 0]\n"
          ]
        },
        {
          "output_type": "stream",
          "name": "stderr",
          "text": [
            "image 1/1 /content/drive/MyDrive/Trabajo_final_VIU/YOLOV8/Dataset/test/images/imagen580-7.jpg: 576x640 (no detections), 7.9ms\n",
            "Speed: 1.6ms preprocess, 7.9ms inference, 0.7ms postprocess per image at shape (1, 3, 576, 640)\n",
            "\n"
          ]
        },
        {
          "output_type": "stream",
          "name": "stdout",
          "text": [
            "[]\n"
          ]
        },
        {
          "output_type": "stream",
          "name": "stderr",
          "text": [
            "image 1/1 /content/drive/MyDrive/Trabajo_final_VIU/YOLOV8/Dataset/test/images/imagen581-3.jpg: 640x640 2 ['Osteophytos']s, 10.6ms\n",
            "Speed: 2.3ms preprocess, 10.6ms inference, 1.7ms postprocess per image at shape (1, 3, 640, 640)\n",
            "\n"
          ]
        },
        {
          "output_type": "stream",
          "name": "stdout",
          "text": [
            "[0 0]\n"
          ]
        },
        {
          "output_type": "stream",
          "name": "stderr",
          "text": [
            "image 1/1 /content/drive/MyDrive/Trabajo_final_VIU/YOLOV8/Dataset/test/images/imagen582-5.jpg: 640x640 (no detections), 8.6ms\n",
            "Speed: 1.8ms preprocess, 8.6ms inference, 0.9ms postprocess per image at shape (1, 3, 640, 640)\n",
            "\n"
          ]
        },
        {
          "output_type": "stream",
          "name": "stdout",
          "text": [
            "[]\n"
          ]
        },
        {
          "output_type": "stream",
          "name": "stderr",
          "text": [
            "image 1/1 /content/drive/MyDrive/Trabajo_final_VIU/YOLOV8/Dataset/test/images/imagen583-11.jpg: 576x640 (no detections), 13.3ms\n",
            "Speed: 2.2ms preprocess, 13.3ms inference, 2.9ms postprocess per image at shape (1, 3, 576, 640)\n",
            "\n"
          ]
        },
        {
          "output_type": "stream",
          "name": "stdout",
          "text": [
            "[]\n"
          ]
        },
        {
          "output_type": "stream",
          "name": "stderr",
          "text": [
            "image 1/1 /content/drive/MyDrive/Trabajo_final_VIU/YOLOV8/Dataset/test/images/imagen583-15.jpg: 640x640 (no detections), 8.1ms\n",
            "Speed: 1.6ms preprocess, 8.1ms inference, 0.7ms postprocess per image at shape (1, 3, 640, 640)\n",
            "\n"
          ]
        },
        {
          "output_type": "stream",
          "name": "stdout",
          "text": [
            "[]\n"
          ]
        },
        {
          "output_type": "stream",
          "name": "stderr",
          "text": [
            "image 1/1 /content/drive/MyDrive/Trabajo_final_VIU/YOLOV8/Dataset/test/images/imagen584-13.jpg: 576x640 (no detections), 7.8ms\n",
            "Speed: 1.5ms preprocess, 7.8ms inference, 0.7ms postprocess per image at shape (1, 3, 576, 640)\n",
            "\n"
          ]
        },
        {
          "output_type": "stream",
          "name": "stdout",
          "text": [
            "[]\n"
          ]
        },
        {
          "output_type": "stream",
          "name": "stderr",
          "text": [
            "image 1/1 /content/drive/MyDrive/Trabajo_final_VIU/YOLOV8/Dataset/test/images/imagen584-18.jpg: 640x640 (no detections), 8.1ms\n",
            "Speed: 1.6ms preprocess, 8.1ms inference, 0.8ms postprocess per image at shape (1, 3, 640, 640)\n",
            "\n"
          ]
        },
        {
          "output_type": "stream",
          "name": "stdout",
          "text": [
            "[]\n"
          ]
        },
        {
          "output_type": "stream",
          "name": "stderr",
          "text": [
            "image 1/1 /content/drive/MyDrive/Trabajo_final_VIU/YOLOV8/Dataset/test/images/imagen585-11.jpg: 640x640 6 ['Osteophytos']s, 7.4ms\n",
            "Speed: 1.6ms preprocess, 7.4ms inference, 1.4ms postprocess per image at shape (1, 3, 640, 640)\n",
            "\n"
          ]
        },
        {
          "output_type": "stream",
          "name": "stdout",
          "text": [
            "[0 0 0 0 0 0]\n"
          ]
        },
        {
          "output_type": "stream",
          "name": "stderr",
          "text": [
            "image 1/1 /content/drive/MyDrive/Trabajo_final_VIU/YOLOV8/Dataset/test/images/imagen585-7.jpg: 576x640 3 ['Osteophytos']s, 7.9ms\n",
            "Speed: 1.6ms preprocess, 7.9ms inference, 1.4ms postprocess per image at shape (1, 3, 576, 640)\n",
            "\n"
          ]
        },
        {
          "output_type": "stream",
          "name": "stdout",
          "text": [
            "[0 0 0]\n"
          ]
        },
        {
          "output_type": "stream",
          "name": "stderr",
          "text": [
            "image 1/1 /content/drive/MyDrive/Trabajo_final_VIU/YOLOV8/Dataset/test/images/imagen586-10.jpg: 640x640 1 ['Osteophytos'], 8.3ms\n",
            "Speed: 1.8ms preprocess, 8.3ms inference, 1.6ms postprocess per image at shape (1, 3, 640, 640)\n",
            "\n"
          ]
        },
        {
          "output_type": "stream",
          "name": "stdout",
          "text": [
            "[0]\n"
          ]
        },
        {
          "output_type": "stream",
          "name": "stderr",
          "text": [
            "image 1/1 /content/drive/MyDrive/Trabajo_final_VIU/YOLOV8/Dataset/test/images/imagen586-6.jpg: 608x640 1 ['Osteophytos'], 9.0ms\n",
            "Speed: 1.8ms preprocess, 9.0ms inference, 1.4ms postprocess per image at shape (1, 3, 608, 640)\n",
            "\n"
          ]
        },
        {
          "output_type": "stream",
          "name": "stdout",
          "text": [
            "[0]\n"
          ]
        },
        {
          "output_type": "stream",
          "name": "stderr",
          "text": [
            "image 1/1 /content/drive/MyDrive/Trabajo_final_VIU/YOLOV8/Dataset/test/images/imagen587-5.jpg: 640x640 (no detections), 8.2ms\n",
            "Speed: 1.8ms preprocess, 8.2ms inference, 0.7ms postprocess per image at shape (1, 3, 640, 640)\n",
            "\n"
          ]
        },
        {
          "output_type": "stream",
          "name": "stdout",
          "text": [
            "[]\n"
          ]
        },
        {
          "output_type": "stream",
          "name": "stderr",
          "text": [
            "image 1/1 /content/drive/MyDrive/Trabajo_final_VIU/YOLOV8/Dataset/test/images/imagen588-11.jpg: 640x640 2 ['Osteophytos']s, 7.4ms\n",
            "Speed: 1.6ms preprocess, 7.4ms inference, 1.3ms postprocess per image at shape (1, 3, 640, 640)\n",
            "\n"
          ]
        },
        {
          "output_type": "stream",
          "name": "stdout",
          "text": [
            "[0 0]\n"
          ]
        },
        {
          "output_type": "stream",
          "name": "stderr",
          "text": [
            "image 1/1 /content/drive/MyDrive/Trabajo_final_VIU/YOLOV8/Dataset/test/images/imagen589-4.jpg: 640x544 5 ['Osteophytos']s, 7.8ms\n",
            "Speed: 1.6ms preprocess, 7.8ms inference, 1.3ms postprocess per image at shape (1, 3, 640, 544)\n",
            "\n"
          ]
        },
        {
          "output_type": "stream",
          "name": "stdout",
          "text": [
            "[0 0 0 0 0]\n"
          ]
        },
        {
          "output_type": "stream",
          "name": "stderr",
          "text": [
            "image 1/1 /content/drive/MyDrive/Trabajo_final_VIU/YOLOV8/Dataset/test/images/imagen59-10.jpg: 640x640 2 ['Osteophytos']s, 8.1ms\n",
            "Speed: 1.9ms preprocess, 8.1ms inference, 1.3ms postprocess per image at shape (1, 3, 640, 640)\n",
            "\n"
          ]
        },
        {
          "output_type": "stream",
          "name": "stdout",
          "text": [
            "[0 0]\n"
          ]
        },
        {
          "output_type": "stream",
          "name": "stderr",
          "text": [
            "image 1/1 /content/drive/MyDrive/Trabajo_final_VIU/YOLOV8/Dataset/test/images/imagen59-6.jpg: 608x640 (no detections), 8.0ms\n",
            "Speed: 1.7ms preprocess, 8.0ms inference, 0.7ms postprocess per image at shape (1, 3, 608, 640)\n",
            "\n"
          ]
        },
        {
          "output_type": "stream",
          "name": "stdout",
          "text": [
            "[]\n"
          ]
        },
        {
          "output_type": "stream",
          "name": "stderr",
          "text": [
            "image 1/1 /content/drive/MyDrive/Trabajo_final_VIU/YOLOV8/Dataset/test/images/imagen590-13.jpg: 640x640 4 ['Osteophytos']s, 9.8ms\n",
            "Speed: 2.2ms preprocess, 9.8ms inference, 1.8ms postprocess per image at shape (1, 3, 640, 640)\n",
            "\n"
          ]
        },
        {
          "output_type": "stream",
          "name": "stdout",
          "text": [
            "[0 0 0 0]\n"
          ]
        },
        {
          "output_type": "stream",
          "name": "stderr",
          "text": [
            "image 1/1 /content/drive/MyDrive/Trabajo_final_VIU/YOLOV8/Dataset/test/images/imagen590-18.jpg: 384x640 2 ['Osteophytos']s, 9.1ms\n",
            "Speed: 1.4ms preprocess, 9.1ms inference, 1.6ms postprocess per image at shape (1, 3, 384, 640)\n",
            "\n"
          ]
        },
        {
          "output_type": "stream",
          "name": "stdout",
          "text": [
            "[0 0]\n"
          ]
        },
        {
          "output_type": "stream",
          "name": "stderr",
          "text": [
            "image 1/1 /content/drive/MyDrive/Trabajo_final_VIU/YOLOV8/Dataset/test/images/imagen590-23.jpg: 640x640 1 ['Osteophytos'], 9.5ms\n",
            "Speed: 2.1ms preprocess, 9.5ms inference, 1.6ms postprocess per image at shape (1, 3, 640, 640)\n",
            "\n"
          ]
        },
        {
          "output_type": "stream",
          "name": "stdout",
          "text": [
            "[0]\n"
          ]
        },
        {
          "output_type": "stream",
          "name": "stderr",
          "text": [
            "image 1/1 /content/drive/MyDrive/Trabajo_final_VIU/YOLOV8/Dataset/test/images/imagen590-3.jpg: 608x640 1 ['Osteophytos'], 7.9ms\n",
            "Speed: 1.6ms preprocess, 7.9ms inference, 1.3ms postprocess per image at shape (1, 3, 608, 640)\n",
            "\n"
          ]
        },
        {
          "output_type": "stream",
          "name": "stdout",
          "text": [
            "[0]\n"
          ]
        },
        {
          "output_type": "stream",
          "name": "stderr",
          "text": [
            "image 1/1 /content/drive/MyDrive/Trabajo_final_VIU/YOLOV8/Dataset/test/images/imagen590-8.jpg: 576x640 3 ['Osteophytos']s, 7.9ms\n",
            "Speed: 1.5ms preprocess, 7.9ms inference, 1.4ms postprocess per image at shape (1, 3, 576, 640)\n",
            "\n"
          ]
        },
        {
          "output_type": "stream",
          "name": "stdout",
          "text": [
            "[0 0 0]\n"
          ]
        },
        {
          "output_type": "stream",
          "name": "stderr",
          "text": [
            "image 1/1 /content/drive/MyDrive/Trabajo_final_VIU/YOLOV8/Dataset/test/images/imagen591-3.jpg: 480x640 (no detections), 7.5ms\n",
            "Speed: 1.6ms preprocess, 7.5ms inference, 0.7ms postprocess per image at shape (1, 3, 480, 640)\n",
            "\n"
          ]
        },
        {
          "output_type": "stream",
          "name": "stdout",
          "text": [
            "[]\n"
          ]
        },
        {
          "output_type": "stream",
          "name": "stderr",
          "text": [
            "image 1/1 /content/drive/MyDrive/Trabajo_final_VIU/YOLOV8/Dataset/test/images/imagen591-5.jpg: 640x640 (no detections), 8.2ms\n",
            "Speed: 1.7ms preprocess, 8.2ms inference, 0.7ms postprocess per image at shape (1, 3, 640, 640)\n",
            "\n"
          ]
        },
        {
          "output_type": "stream",
          "name": "stdout",
          "text": [
            "[]\n"
          ]
        },
        {
          "output_type": "stream",
          "name": "stderr",
          "text": [
            "image 1/1 /content/drive/MyDrive/Trabajo_final_VIU/YOLOV8/Dataset/test/images/imagen591-7.jpg: 640x640 1 ['Osteophytos'], 7.4ms\n",
            "Speed: 1.7ms preprocess, 7.4ms inference, 1.5ms postprocess per image at shape (1, 3, 640, 640)\n",
            "\n"
          ]
        },
        {
          "output_type": "stream",
          "name": "stdout",
          "text": [
            "[0]\n"
          ]
        },
        {
          "output_type": "stream",
          "name": "stderr",
          "text": [
            "image 1/1 /content/drive/MyDrive/Trabajo_final_VIU/YOLOV8/Dataset/test/images/imagen592-3.jpg: 640x640 (no detections), 7.5ms\n",
            "Speed: 1.7ms preprocess, 7.5ms inference, 0.8ms postprocess per image at shape (1, 3, 640, 640)\n",
            "\n"
          ]
        },
        {
          "output_type": "stream",
          "name": "stdout",
          "text": [
            "[]\n"
          ]
        },
        {
          "output_type": "stream",
          "name": "stderr",
          "text": [
            "image 1/1 /content/drive/MyDrive/Trabajo_final_VIU/YOLOV8/Dataset/test/images/imagen593-4.jpg: 640x640 (no detections), 7.4ms\n",
            "Speed: 1.7ms preprocess, 7.4ms inference, 0.7ms postprocess per image at shape (1, 3, 640, 640)\n",
            "\n"
          ]
        },
        {
          "output_type": "stream",
          "name": "stdout",
          "text": [
            "[]\n"
          ]
        },
        {
          "output_type": "stream",
          "name": "stderr",
          "text": [
            "image 1/1 /content/drive/MyDrive/Trabajo_final_VIU/YOLOV8/Dataset/test/images/imagen593-5.jpg: 640x640 (no detections), 10.2ms\n",
            "Speed: 2.0ms preprocess, 10.2ms inference, 1.1ms postprocess per image at shape (1, 3, 640, 640)\n",
            "\n"
          ]
        },
        {
          "output_type": "stream",
          "name": "stdout",
          "text": [
            "[]\n"
          ]
        },
        {
          "output_type": "stream",
          "name": "stderr",
          "text": [
            "image 1/1 /content/drive/MyDrive/Trabajo_final_VIU/YOLOV8/Dataset/test/images/imagen594-5.jpg: 640x640 5 ['Osteophytos']s, 7.4ms\n",
            "Speed: 1.7ms preprocess, 7.4ms inference, 1.4ms postprocess per image at shape (1, 3, 640, 640)\n",
            "\n"
          ]
        },
        {
          "output_type": "stream",
          "name": "stdout",
          "text": [
            "[0 0 0 0 0]\n"
          ]
        },
        {
          "output_type": "stream",
          "name": "stderr",
          "text": [
            "image 1/1 /content/drive/MyDrive/Trabajo_final_VIU/YOLOV8/Dataset/test/images/imagen594-8.jpg: 640x640 (no detections), 7.4ms\n",
            "Speed: 1.6ms preprocess, 7.4ms inference, 0.7ms postprocess per image at shape (1, 3, 640, 640)\n",
            "\n"
          ]
        },
        {
          "output_type": "stream",
          "name": "stdout",
          "text": [
            "[]\n"
          ]
        },
        {
          "output_type": "stream",
          "name": "stderr",
          "text": [
            "image 1/1 /content/drive/MyDrive/Trabajo_final_VIU/YOLOV8/Dataset/test/images/imagen595-13.jpg: 576x640 (no detections), 8.1ms\n",
            "Speed: 1.9ms preprocess, 8.1ms inference, 0.7ms postprocess per image at shape (1, 3, 576, 640)\n",
            "\n"
          ]
        },
        {
          "output_type": "stream",
          "name": "stdout",
          "text": [
            "[]\n"
          ]
        },
        {
          "output_type": "stream",
          "name": "stderr",
          "text": [
            "image 1/1 /content/drive/MyDrive/Trabajo_final_VIU/YOLOV8/Dataset/test/images/imagen595-18.jpg: 640x640 (no detections), 12.6ms\n",
            "Speed: 2.0ms preprocess, 12.6ms inference, 1.0ms postprocess per image at shape (1, 3, 640, 640)\n",
            "\n"
          ]
        },
        {
          "output_type": "stream",
          "name": "stdout",
          "text": [
            "[]\n"
          ]
        },
        {
          "output_type": "stream",
          "name": "stderr",
          "text": [
            "image 1/1 /content/drive/MyDrive/Trabajo_final_VIU/YOLOV8/Dataset/test/images/imagen596-3.jpg: 640x640 (no detections), 8.2ms\n",
            "Speed: 2.0ms preprocess, 8.2ms inference, 0.9ms postprocess per image at shape (1, 3, 640, 640)\n",
            "\n"
          ]
        },
        {
          "output_type": "stream",
          "name": "stdout",
          "text": [
            "[]\n"
          ]
        },
        {
          "output_type": "stream",
          "name": "stderr",
          "text": [
            "image 1/1 /content/drive/MyDrive/Trabajo_final_VIU/YOLOV8/Dataset/test/images/imagen597-13.jpg: 640x640 3 ['Osteophytos']s, 12.8ms\n",
            "Speed: 2.1ms preprocess, 12.8ms inference, 2.0ms postprocess per image at shape (1, 3, 640, 640)\n",
            "\n"
          ]
        },
        {
          "output_type": "stream",
          "name": "stdout",
          "text": [
            "[0 0 0]\n"
          ]
        },
        {
          "output_type": "stream",
          "name": "stderr",
          "text": [
            "image 1/1 /content/drive/MyDrive/Trabajo_final_VIU/YOLOV8/Dataset/test/images/imagen597-8.jpg: 608x640 2 ['Osteophytos']s, 8.0ms\n",
            "Speed: 1.7ms preprocess, 8.0ms inference, 1.3ms postprocess per image at shape (1, 3, 608, 640)\n",
            "\n"
          ]
        },
        {
          "output_type": "stream",
          "name": "stdout",
          "text": [
            "[0 0]\n"
          ]
        },
        {
          "output_type": "stream",
          "name": "stderr",
          "text": [
            "image 1/1 /content/drive/MyDrive/Trabajo_final_VIU/YOLOV8/Dataset/test/images/imagen598-1.jpg: 640x640 3 ['Osteophytos']s, 9.3ms\n",
            "Speed: 1.9ms preprocess, 9.3ms inference, 1.4ms postprocess per image at shape (1, 3, 640, 640)\n",
            "\n"
          ]
        },
        {
          "output_type": "stream",
          "name": "stdout",
          "text": [
            "[0 0 0]\n"
          ]
        },
        {
          "output_type": "stream",
          "name": "stderr",
          "text": [
            "image 1/1 /content/drive/MyDrive/Trabajo_final_VIU/YOLOV8/Dataset/test/images/imagen598-2.jpg: 640x288 2 ['Osteophytos']s, 7.7ms\n",
            "Speed: 1.3ms preprocess, 7.7ms inference, 1.4ms postprocess per image at shape (1, 3, 640, 288)\n",
            "\n"
          ]
        },
        {
          "output_type": "stream",
          "name": "stdout",
          "text": [
            "[0 0]\n"
          ]
        },
        {
          "output_type": "stream",
          "name": "stderr",
          "text": [
            "image 1/1 /content/drive/MyDrive/Trabajo_final_VIU/YOLOV8/Dataset/test/images/imagen599-5.jpg: 640x640 1 ['Osteophytos'], 8.4ms\n",
            "Speed: 1.7ms preprocess, 8.4ms inference, 1.4ms postprocess per image at shape (1, 3, 640, 640)\n",
            "\n"
          ]
        },
        {
          "output_type": "stream",
          "name": "stdout",
          "text": [
            "[0]\n"
          ]
        },
        {
          "output_type": "stream",
          "name": "stderr",
          "text": [
            "image 1/1 /content/drive/MyDrive/Trabajo_final_VIU/YOLOV8/Dataset/test/images/imagen599-8.jpg: 640x640 (no detections), 7.4ms\n",
            "Speed: 1.7ms preprocess, 7.4ms inference, 0.8ms postprocess per image at shape (1, 3, 640, 640)\n",
            "\n"
          ]
        },
        {
          "output_type": "stream",
          "name": "stdout",
          "text": [
            "[]\n"
          ]
        },
        {
          "output_type": "stream",
          "name": "stderr",
          "text": [
            "image 1/1 /content/drive/MyDrive/Trabajo_final_VIU/YOLOV8/Dataset/test/images/imagen6-13.jpg: 608x640 4 ['Osteophytos']s, 8.2ms\n",
            "Speed: 1.8ms preprocess, 8.2ms inference, 1.3ms postprocess per image at shape (1, 3, 608, 640)\n",
            "\n"
          ]
        },
        {
          "output_type": "stream",
          "name": "stdout",
          "text": [
            "[0 0 0 0]\n"
          ]
        },
        {
          "output_type": "stream",
          "name": "stderr",
          "text": [
            "image 1/1 /content/drive/MyDrive/Trabajo_final_VIU/YOLOV8/Dataset/test/images/imagen6-18.jpg: 640x640 (no detections), 8.1ms\n",
            "Speed: 1.8ms preprocess, 8.1ms inference, 0.7ms postprocess per image at shape (1, 3, 640, 640)\n",
            "\n"
          ]
        },
        {
          "output_type": "stream",
          "name": "stdout",
          "text": [
            "[]\n"
          ]
        },
        {
          "output_type": "stream",
          "name": "stderr",
          "text": [
            "image 1/1 /content/drive/MyDrive/Trabajo_final_VIU/YOLOV8/Dataset/test/images/imagen6-3.jpg: 640x640 (no detections), 7.4ms\n",
            "Speed: 1.9ms preprocess, 7.4ms inference, 0.8ms postprocess per image at shape (1, 3, 640, 640)\n",
            "\n"
          ]
        },
        {
          "output_type": "stream",
          "name": "stdout",
          "text": [
            "[]\n"
          ]
        },
        {
          "output_type": "stream",
          "name": "stderr",
          "text": [
            "image 1/1 /content/drive/MyDrive/Trabajo_final_VIU/YOLOV8/Dataset/test/images/imagen6-8.jpg: 608x640 5 ['Osteophytos']s, 8.1ms\n",
            "Speed: 1.7ms preprocess, 8.1ms inference, 1.3ms postprocess per image at shape (1, 3, 608, 640)\n",
            "\n"
          ]
        },
        {
          "output_type": "stream",
          "name": "stdout",
          "text": [
            "[0 0 0 0 0]\n"
          ]
        },
        {
          "output_type": "stream",
          "name": "stderr",
          "text": [
            "image 1/1 /content/drive/MyDrive/Trabajo_final_VIU/YOLOV8/Dataset/test/images/imagen60-11.jpg: 640x640 3 ['Osteophytos']s, 8.1ms\n",
            "Speed: 1.7ms preprocess, 8.1ms inference, 1.3ms postprocess per image at shape (1, 3, 640, 640)\n",
            "\n"
          ]
        },
        {
          "output_type": "stream",
          "name": "stdout",
          "text": [
            "[0 0 0]\n"
          ]
        },
        {
          "output_type": "stream",
          "name": "stderr",
          "text": [
            "image 1/1 /content/drive/MyDrive/Trabajo_final_VIU/YOLOV8/Dataset/test/images/imagen60-7.jpg: 640x640 (no detections), 7.4ms\n",
            "Speed: 1.7ms preprocess, 7.4ms inference, 0.7ms postprocess per image at shape (1, 3, 640, 640)\n",
            "\n"
          ]
        },
        {
          "output_type": "stream",
          "name": "stdout",
          "text": [
            "[]\n"
          ]
        },
        {
          "output_type": "stream",
          "name": "stderr",
          "text": [
            "image 1/1 /content/drive/MyDrive/Trabajo_final_VIU/YOLOV8/Dataset/test/images/imagen600-13.jpg: 640x640 1 ['Osteophytos'], 7.4ms\n",
            "Speed: 1.7ms preprocess, 7.4ms inference, 1.4ms postprocess per image at shape (1, 3, 640, 640)\n",
            "\n"
          ]
        },
        {
          "output_type": "stream",
          "name": "stdout",
          "text": [
            "[0]\n"
          ]
        },
        {
          "output_type": "stream",
          "name": "stderr",
          "text": [
            "image 1/1 /content/drive/MyDrive/Trabajo_final_VIU/YOLOV8/Dataset/test/images/imagen601-6.jpg: 640x480 (no detections), 9.1ms\n",
            "Speed: 1.7ms preprocess, 9.1ms inference, 0.9ms postprocess per image at shape (1, 3, 640, 480)\n",
            "\n"
          ]
        },
        {
          "output_type": "stream",
          "name": "stdout",
          "text": [
            "[]\n"
          ]
        },
        {
          "output_type": "stream",
          "name": "stderr",
          "text": [
            "image 1/1 /content/drive/MyDrive/Trabajo_final_VIU/YOLOV8/Dataset/test/images/imagen602-5.jpg: 608x640 (no detections), 9.1ms\n",
            "Speed: 2.0ms preprocess, 9.1ms inference, 0.9ms postprocess per image at shape (1, 3, 608, 640)\n",
            "\n"
          ]
        },
        {
          "output_type": "stream",
          "name": "stdout",
          "text": [
            "[]\n"
          ]
        },
        {
          "output_type": "stream",
          "name": "stderr",
          "text": [
            "image 1/1 /content/drive/MyDrive/Trabajo_final_VIU/YOLOV8/Dataset/test/images/imagen602-8.jpg: 640x640 (no detections), 8.0ms\n",
            "Speed: 1.7ms preprocess, 8.0ms inference, 0.7ms postprocess per image at shape (1, 3, 640, 640)\n",
            "\n"
          ]
        },
        {
          "output_type": "stream",
          "name": "stdout",
          "text": [
            "[]\n"
          ]
        },
        {
          "output_type": "stream",
          "name": "stderr",
          "text": [
            "image 1/1 /content/drive/MyDrive/Trabajo_final_VIU/YOLOV8/Dataset/test/images/imagen603-13.jpg: 640x640 (no detections), 7.4ms\n",
            "Speed: 1.6ms preprocess, 7.4ms inference, 0.7ms postprocess per image at shape (1, 3, 640, 640)\n",
            "\n"
          ]
        },
        {
          "output_type": "stream",
          "name": "stdout",
          "text": [
            "[]\n"
          ]
        },
        {
          "output_type": "stream",
          "name": "stderr",
          "text": [
            "image 1/1 /content/drive/MyDrive/Trabajo_final_VIU/YOLOV8/Dataset/test/images/imagen603-8.jpg: 576x640 (no detections), 7.9ms\n",
            "Speed: 1.8ms preprocess, 7.9ms inference, 0.7ms postprocess per image at shape (1, 3, 576, 640)\n",
            "\n"
          ]
        },
        {
          "output_type": "stream",
          "name": "stdout",
          "text": [
            "[]\n"
          ]
        },
        {
          "output_type": "stream",
          "name": "stderr",
          "text": [
            "image 1/1 /content/drive/MyDrive/Trabajo_final_VIU/YOLOV8/Dataset/test/images/imagen604-4.jpg: 640x544 (no detections), 7.8ms\n",
            "Speed: 2.4ms preprocess, 7.8ms inference, 0.7ms postprocess per image at shape (1, 3, 640, 544)\n",
            "\n"
          ]
        },
        {
          "output_type": "stream",
          "name": "stdout",
          "text": [
            "[]\n"
          ]
        },
        {
          "output_type": "stream",
          "name": "stderr",
          "text": [
            "image 1/1 /content/drive/MyDrive/Trabajo_final_VIU/YOLOV8/Dataset/test/images/imagen604-5.jpg: 640x640 2 ['Osteophytos']s, 8.1ms\n",
            "Speed: 1.6ms preprocess, 8.1ms inference, 1.3ms postprocess per image at shape (1, 3, 640, 640)\n",
            "\n"
          ]
        },
        {
          "output_type": "stream",
          "name": "stdout",
          "text": [
            "[0 0]\n"
          ]
        },
        {
          "output_type": "stream",
          "name": "stderr",
          "text": [
            "image 1/1 /content/drive/MyDrive/Trabajo_final_VIU/YOLOV8/Dataset/test/images/imagen604-6.jpg: 640x480 3 ['Osteophytos']s, 7.2ms\n",
            "Speed: 2.3ms preprocess, 7.2ms inference, 1.3ms postprocess per image at shape (1, 3, 640, 480)\n",
            "\n"
          ]
        },
        {
          "output_type": "stream",
          "name": "stdout",
          "text": [
            "[0 0 0]\n"
          ]
        },
        {
          "output_type": "stream",
          "name": "stderr",
          "text": [
            "image 1/1 /content/drive/MyDrive/Trabajo_final_VIU/YOLOV8/Dataset/test/images/imagen604-8.jpg: 640x480 1 ['Osteophytos'], 6.7ms\n",
            "Speed: 1.5ms preprocess, 6.7ms inference, 1.4ms postprocess per image at shape (1, 3, 640, 480)\n",
            "\n"
          ]
        },
        {
          "output_type": "stream",
          "name": "stdout",
          "text": [
            "[0]\n"
          ]
        },
        {
          "output_type": "stream",
          "name": "stderr",
          "text": [
            "image 1/1 /content/drive/MyDrive/Trabajo_final_VIU/YOLOV8/Dataset/test/images/imagen605-4.jpg: 640x448 (no detections), 7.5ms\n",
            "Speed: 1.4ms preprocess, 7.5ms inference, 0.7ms postprocess per image at shape (1, 3, 640, 448)\n",
            "\n"
          ]
        },
        {
          "output_type": "stream",
          "name": "stdout",
          "text": [
            "[]\n"
          ]
        },
        {
          "output_type": "stream",
          "name": "stderr",
          "text": [
            "image 1/1 /content/drive/MyDrive/Trabajo_final_VIU/YOLOV8/Dataset/test/images/imagen605-6.jpg: 640x544 3 ['Osteophytos']s, 8.0ms\n",
            "Speed: 2.7ms preprocess, 8.0ms inference, 1.4ms postprocess per image at shape (1, 3, 640, 544)\n",
            "\n"
          ]
        },
        {
          "output_type": "stream",
          "name": "stdout",
          "text": [
            "[0 0 0]\n"
          ]
        },
        {
          "output_type": "stream",
          "name": "stderr",
          "text": [
            "image 1/1 /content/drive/MyDrive/Trabajo_final_VIU/YOLOV8/Dataset/test/images/imagen605-8.jpg: 640x448 2 ['Osteophytos']s, 6.9ms\n",
            "Speed: 1.3ms preprocess, 6.9ms inference, 1.4ms postprocess per image at shape (1, 3, 640, 448)\n",
            "\n"
          ]
        },
        {
          "output_type": "stream",
          "name": "stdout",
          "text": [
            "[0 0]\n"
          ]
        },
        {
          "output_type": "stream",
          "name": "stderr",
          "text": [
            "image 1/1 /content/drive/MyDrive/Trabajo_final_VIU/YOLOV8/Dataset/test/images/imagen606-5.jpg: 640x640 (no detections), 9.8ms\n",
            "Speed: 1.7ms preprocess, 9.8ms inference, 0.8ms postprocess per image at shape (1, 3, 640, 640)\n",
            "\n"
          ]
        },
        {
          "output_type": "stream",
          "name": "stdout",
          "text": [
            "[]\n"
          ]
        },
        {
          "output_type": "stream",
          "name": "stderr",
          "text": [
            "image 1/1 /content/drive/MyDrive/Trabajo_final_VIU/YOLOV8/Dataset/test/images/imagen607-7.jpg: 640x640 (no detections), 7.4ms\n",
            "Speed: 1.7ms preprocess, 7.4ms inference, 0.8ms postprocess per image at shape (1, 3, 640, 640)\n",
            "\n"
          ]
        },
        {
          "output_type": "stream",
          "name": "stdout",
          "text": [
            "[]\n"
          ]
        },
        {
          "output_type": "stream",
          "name": "stderr",
          "text": [
            "image 1/1 /content/drive/MyDrive/Trabajo_final_VIU/YOLOV8/Dataset/test/images/imagen608-5.jpg: 640x640 1 ['Osteophytos'], 8.3ms\n",
            "Speed: 2.0ms preprocess, 8.3ms inference, 1.7ms postprocess per image at shape (1, 3, 640, 640)\n",
            "\n"
          ]
        },
        {
          "output_type": "stream",
          "name": "stdout",
          "text": [
            "[0]\n"
          ]
        },
        {
          "output_type": "stream",
          "name": "stderr",
          "text": [
            "image 1/1 /content/drive/MyDrive/Trabajo_final_VIU/YOLOV8/Dataset/test/images/imagen608-8.jpg: 640x640 1 ['Osteophytos'], 14.8ms\n",
            "Speed: 1.9ms preprocess, 14.8ms inference, 1.7ms postprocess per image at shape (1, 3, 640, 640)\n",
            "\n"
          ]
        },
        {
          "output_type": "stream",
          "name": "stdout",
          "text": [
            "[0]\n"
          ]
        },
        {
          "output_type": "stream",
          "name": "stderr",
          "text": [
            "image 1/1 /content/drive/MyDrive/Trabajo_final_VIU/YOLOV8/Dataset/test/images/imagen609-6.jpg: 640x576 (no detections), 7.9ms\n",
            "Speed: 2.4ms preprocess, 7.9ms inference, 0.7ms postprocess per image at shape (1, 3, 640, 576)\n",
            "\n"
          ]
        },
        {
          "output_type": "stream",
          "name": "stdout",
          "text": [
            "[]\n"
          ]
        },
        {
          "output_type": "stream",
          "name": "stderr",
          "text": [
            "image 1/1 /content/drive/MyDrive/Trabajo_final_VIU/YOLOV8/Dataset/test/images/imagen609-8.jpg: 640x544 (no detections), 8.1ms\n",
            "Speed: 1.6ms preprocess, 8.1ms inference, 0.7ms postprocess per image at shape (1, 3, 640, 544)\n",
            "\n"
          ]
        },
        {
          "output_type": "stream",
          "name": "stdout",
          "text": [
            "[]\n"
          ]
        },
        {
          "output_type": "stream",
          "name": "stderr",
          "text": [
            "image 1/1 /content/drive/MyDrive/Trabajo_final_VIU/YOLOV8/Dataset/test/images/imagen61-4.jpg: 640x640 (no detections), 8.1ms\n",
            "Speed: 1.9ms preprocess, 8.1ms inference, 0.7ms postprocess per image at shape (1, 3, 640, 640)\n",
            "\n"
          ]
        },
        {
          "output_type": "stream",
          "name": "stdout",
          "text": [
            "[]\n"
          ]
        },
        {
          "output_type": "stream",
          "name": "stderr",
          "text": [
            "image 1/1 /content/drive/MyDrive/Trabajo_final_VIU/YOLOV8/Dataset/test/images/imagen61-6.jpg: 640x640 1 ['Osteophytos'], 7.4ms\n",
            "Speed: 1.7ms preprocess, 7.4ms inference, 1.4ms postprocess per image at shape (1, 3, 640, 640)\n",
            "\n"
          ]
        },
        {
          "output_type": "stream",
          "name": "stdout",
          "text": [
            "[0]\n"
          ]
        },
        {
          "output_type": "stream",
          "name": "stderr",
          "text": [
            "image 1/1 /content/drive/MyDrive/Trabajo_final_VIU/YOLOV8/Dataset/test/images/imagen610-4.jpg: 544x640 (no detections), 7.9ms\n",
            "Speed: 1.5ms preprocess, 7.9ms inference, 0.7ms postprocess per image at shape (1, 3, 544, 640)\n",
            "\n"
          ]
        },
        {
          "output_type": "stream",
          "name": "stdout",
          "text": [
            "[]\n"
          ]
        },
        {
          "output_type": "stream",
          "name": "stderr",
          "text": [
            "image 1/1 /content/drive/MyDrive/Trabajo_final_VIU/YOLOV8/Dataset/test/images/imagen610-7.jpg: 640x640 (no detections), 8.2ms\n",
            "Speed: 1.7ms preprocess, 8.2ms inference, 0.8ms postprocess per image at shape (1, 3, 640, 640)\n",
            "\n"
          ]
        },
        {
          "output_type": "stream",
          "name": "stdout",
          "text": [
            "[]\n"
          ]
        },
        {
          "output_type": "stream",
          "name": "stderr",
          "text": [
            "image 1/1 /content/drive/MyDrive/Trabajo_final_VIU/YOLOV8/Dataset/test/images/imagen611-10.jpg: 640x640 1 ['Osteophytos'], 7.4ms\n",
            "Speed: 2.0ms preprocess, 7.4ms inference, 1.3ms postprocess per image at shape (1, 3, 640, 640)\n",
            "\n"
          ]
        },
        {
          "output_type": "stream",
          "name": "stdout",
          "text": [
            "[0]\n"
          ]
        },
        {
          "output_type": "stream",
          "name": "stderr",
          "text": [
            "image 1/1 /content/drive/MyDrive/Trabajo_final_VIU/YOLOV8/Dataset/test/images/imagen612-3.jpg: 544x640 (no detections), 7.9ms\n",
            "Speed: 1.5ms preprocess, 7.9ms inference, 0.7ms postprocess per image at shape (1, 3, 544, 640)\n",
            "\n"
          ]
        },
        {
          "output_type": "stream",
          "name": "stdout",
          "text": [
            "[]\n"
          ]
        },
        {
          "output_type": "stream",
          "name": "stderr",
          "text": [
            "image 1/1 /content/drive/MyDrive/Trabajo_final_VIU/YOLOV8/Dataset/test/images/imagen612-4.jpg: 576x640 4 ['Osteophytos']s, 7.9ms\n",
            "Speed: 2.7ms preprocess, 7.9ms inference, 1.4ms postprocess per image at shape (1, 3, 576, 640)\n",
            "\n"
          ]
        },
        {
          "output_type": "stream",
          "name": "stdout",
          "text": [
            "[0 0 0 0]\n"
          ]
        },
        {
          "output_type": "stream",
          "name": "stderr",
          "text": [
            "image 1/1 /content/drive/MyDrive/Trabajo_final_VIU/YOLOV8/Dataset/test/images/imagen612-5.jpg: 640x640 2 ['Osteophytos']s, 8.1ms\n",
            "Speed: 1.7ms preprocess, 8.1ms inference, 1.3ms postprocess per image at shape (1, 3, 640, 640)\n",
            "\n"
          ]
        },
        {
          "output_type": "stream",
          "name": "stdout",
          "text": [
            "[0 0]\n"
          ]
        },
        {
          "output_type": "stream",
          "name": "stderr",
          "text": [
            "image 1/1 /content/drive/MyDrive/Trabajo_final_VIU/YOLOV8/Dataset/test/images/imagen612-6.jpg: 640x608 2 ['Osteophytos']s, 8.1ms\n",
            "Speed: 1.8ms preprocess, 8.1ms inference, 1.3ms postprocess per image at shape (1, 3, 640, 608)\n",
            "\n"
          ]
        },
        {
          "output_type": "stream",
          "name": "stdout",
          "text": [
            "[0 0]\n"
          ]
        },
        {
          "output_type": "stream",
          "name": "stderr",
          "text": [
            "image 1/1 /content/drive/MyDrive/Trabajo_final_VIU/YOLOV8/Dataset/test/images/imagen613-4.jpg: 544x640 1 ['Osteophytos'], 8.0ms\n",
            "Speed: 2.4ms preprocess, 8.0ms inference, 1.3ms postprocess per image at shape (1, 3, 544, 640)\n",
            "\n"
          ]
        },
        {
          "output_type": "stream",
          "name": "stdout",
          "text": [
            "[0]\n"
          ]
        },
        {
          "output_type": "stream",
          "name": "stderr",
          "text": [
            "image 1/1 /content/drive/MyDrive/Trabajo_final_VIU/YOLOV8/Dataset/test/images/imagen613-6.jpg: 640x640 3 ['Osteophytos']s, 11.2ms\n",
            "Speed: 5.8ms preprocess, 11.2ms inference, 2.9ms postprocess per image at shape (1, 3, 640, 640)\n",
            "\n"
          ]
        },
        {
          "output_type": "stream",
          "name": "stdout",
          "text": [
            "[0 0 0]\n"
          ]
        },
        {
          "output_type": "stream",
          "name": "stderr",
          "text": [
            "image 1/1 /content/drive/MyDrive/Trabajo_final_VIU/YOLOV8/Dataset/test/images/imagen613-8.jpg: 640x576 3 ['Osteophytos']s, 9.3ms\n",
            "Speed: 1.9ms preprocess, 9.3ms inference, 2.1ms postprocess per image at shape (1, 3, 640, 576)\n",
            "\n"
          ]
        },
        {
          "output_type": "stream",
          "name": "stdout",
          "text": [
            "[0 0 0]\n"
          ]
        },
        {
          "output_type": "stream",
          "name": "stderr",
          "text": [
            "image 1/1 /content/drive/MyDrive/Trabajo_final_VIU/YOLOV8/Dataset/test/images/imagen614-10.jpg: 640x640 3 ['Osteophytos']s, 9.4ms\n",
            "Speed: 4.2ms preprocess, 9.4ms inference, 1.7ms postprocess per image at shape (1, 3, 640, 640)\n",
            "\n"
          ]
        },
        {
          "output_type": "stream",
          "name": "stdout",
          "text": [
            "[0 0 0]\n"
          ]
        },
        {
          "output_type": "stream",
          "name": "stderr",
          "text": [
            "image 1/1 /content/drive/MyDrive/Trabajo_final_VIU/YOLOV8/Dataset/test/images/imagen614-11.jpg: 608x640 3 ['Osteophytos']s, 8.1ms\n",
            "Speed: 1.8ms preprocess, 8.1ms inference, 1.3ms postprocess per image at shape (1, 3, 608, 640)\n",
            "\n"
          ]
        },
        {
          "output_type": "stream",
          "name": "stdout",
          "text": [
            "[0 0 0]\n"
          ]
        },
        {
          "output_type": "stream",
          "name": "stderr",
          "text": [
            "image 1/1 /content/drive/MyDrive/Trabajo_final_VIU/YOLOV8/Dataset/test/images/imagen614-14.jpg: 640x608 2 ['Osteophytos']s, 8.1ms\n",
            "Speed: 1.7ms preprocess, 8.1ms inference, 1.4ms postprocess per image at shape (1, 3, 640, 608)\n",
            "\n"
          ]
        },
        {
          "output_type": "stream",
          "name": "stdout",
          "text": [
            "[0 0]\n"
          ]
        },
        {
          "output_type": "stream",
          "name": "stderr",
          "text": [
            "image 1/1 /content/drive/MyDrive/Trabajo_final_VIU/YOLOV8/Dataset/test/images/imagen614-15.jpg: 640x640 (no detections), 8.1ms\n",
            "Speed: 1.7ms preprocess, 8.1ms inference, 0.7ms postprocess per image at shape (1, 3, 640, 640)\n",
            "\n"
          ]
        },
        {
          "output_type": "stream",
          "name": "stdout",
          "text": [
            "[]\n"
          ]
        },
        {
          "output_type": "stream",
          "name": "stderr",
          "text": [
            "image 1/1 /content/drive/MyDrive/Trabajo_final_VIU/YOLOV8/Dataset/test/images/imagen614-20.jpg: 640x640 (no detections), 7.5ms\n",
            "Speed: 1.7ms preprocess, 7.5ms inference, 0.8ms postprocess per image at shape (1, 3, 640, 640)\n",
            "\n"
          ]
        },
        {
          "output_type": "stream",
          "name": "stdout",
          "text": [
            "[]\n"
          ]
        },
        {
          "output_type": "stream",
          "name": "stderr",
          "text": [
            "image 1/1 /content/drive/MyDrive/Trabajo_final_VIU/YOLOV8/Dataset/test/images/imagen614-6.jpg: 416x640 2 ['Osteophytos']s, 55.9ms\n",
            "Speed: 2.3ms preprocess, 55.9ms inference, 1.5ms postprocess per image at shape (1, 3, 416, 640)\n",
            "\n"
          ]
        },
        {
          "output_type": "stream",
          "name": "stdout",
          "text": [
            "[0 0]\n"
          ]
        },
        {
          "output_type": "stream",
          "name": "stderr",
          "text": [
            "image 1/1 /content/drive/MyDrive/Trabajo_final_VIU/YOLOV8/Dataset/test/images/imagen614-7.jpg: 384x640 1 ['Osteophytos'], 10.3ms\n",
            "Speed: 1.3ms preprocess, 10.3ms inference, 2.9ms postprocess per image at shape (1, 3, 384, 640)\n",
            "\n"
          ]
        },
        {
          "output_type": "stream",
          "name": "stdout",
          "text": [
            "[0]\n"
          ]
        },
        {
          "output_type": "stream",
          "name": "stderr",
          "text": [
            "image 1/1 /content/drive/MyDrive/Trabajo_final_VIU/YOLOV8/Dataset/test/images/imagen615-13.jpg: 608x640 3 ['Osteophytos']s, 9.6ms\n",
            "Speed: 1.7ms preprocess, 9.6ms inference, 1.6ms postprocess per image at shape (1, 3, 608, 640)\n",
            "\n"
          ]
        },
        {
          "output_type": "stream",
          "name": "stdout",
          "text": [
            "[0 0 0]\n"
          ]
        },
        {
          "output_type": "stream",
          "name": "stderr",
          "text": [
            "image 1/1 /content/drive/MyDrive/Trabajo_final_VIU/YOLOV8/Dataset/test/images/imagen615-18.jpg: 640x640 (no detections), 8.1ms\n",
            "Speed: 2.1ms preprocess, 8.1ms inference, 0.7ms postprocess per image at shape (1, 3, 640, 640)\n",
            "\n"
          ]
        },
        {
          "output_type": "stream",
          "name": "stdout",
          "text": [
            "[]\n"
          ]
        },
        {
          "output_type": "stream",
          "name": "stderr",
          "text": [
            "image 1/1 /content/drive/MyDrive/Trabajo_final_VIU/YOLOV8/Dataset/test/images/imagen615-8.jpg: 576x640 2 ['Osteophytos']s, 8.0ms\n",
            "Speed: 1.5ms preprocess, 8.0ms inference, 1.5ms postprocess per image at shape (1, 3, 576, 640)\n",
            "\n"
          ]
        },
        {
          "output_type": "stream",
          "name": "stdout",
          "text": [
            "[0 0]\n"
          ]
        },
        {
          "output_type": "stream",
          "name": "stderr",
          "text": [
            "image 1/1 /content/drive/MyDrive/Trabajo_final_VIU/YOLOV8/Dataset/test/images/imagen616-14.jpg: 640x640 (no detections), 8.0ms\n",
            "Speed: 1.7ms preprocess, 8.0ms inference, 0.7ms postprocess per image at shape (1, 3, 640, 640)\n",
            "\n"
          ]
        },
        {
          "output_type": "stream",
          "name": "stdout",
          "text": [
            "[]\n"
          ]
        },
        {
          "output_type": "stream",
          "name": "stderr",
          "text": [
            "image 1/1 /content/drive/MyDrive/Trabajo_final_VIU/YOLOV8/Dataset/test/images/imagen617-11.jpg: 640x640 2 ['Osteophytos']s, 8.4ms\n",
            "Speed: 1.9ms preprocess, 8.4ms inference, 1.6ms postprocess per image at shape (1, 3, 640, 640)\n",
            "\n"
          ]
        },
        {
          "output_type": "stream",
          "name": "stdout",
          "text": [
            "[0 0]\n"
          ]
        },
        {
          "output_type": "stream",
          "name": "stderr",
          "text": [
            "image 1/1 /content/drive/MyDrive/Trabajo_final_VIU/YOLOV8/Dataset/test/images/imagen617-7.jpg: 576x640 1 ['Osteophytos'], 8.8ms\n",
            "Speed: 2.0ms preprocess, 8.8ms inference, 1.6ms postprocess per image at shape (1, 3, 576, 640)\n",
            "\n"
          ]
        },
        {
          "output_type": "stream",
          "name": "stdout",
          "text": [
            "[0]\n"
          ]
        },
        {
          "output_type": "stream",
          "name": "stderr",
          "text": [
            "image 1/1 /content/drive/MyDrive/Trabajo_final_VIU/YOLOV8/Dataset/test/images/imagen618-3.jpg: 640x640 1 ['Osteophytos'], 13.4ms\n",
            "Speed: 2.1ms preprocess, 13.4ms inference, 1.9ms postprocess per image at shape (1, 3, 640, 640)\n",
            "\n"
          ]
        },
        {
          "output_type": "stream",
          "name": "stdout",
          "text": [
            "[0]\n"
          ]
        },
        {
          "output_type": "stream",
          "name": "stderr",
          "text": [
            "image 1/1 /content/drive/MyDrive/Trabajo_final_VIU/YOLOV8/Dataset/test/images/imagen619-5.jpg: 640x640 (no detections), 7.4ms\n",
            "Speed: 1.7ms preprocess, 7.4ms inference, 0.8ms postprocess per image at shape (1, 3, 640, 640)\n",
            "\n"
          ]
        },
        {
          "output_type": "stream",
          "name": "stdout",
          "text": [
            "[]\n"
          ]
        },
        {
          "output_type": "stream",
          "name": "stderr",
          "text": [
            "image 1/1 /content/drive/MyDrive/Trabajo_final_VIU/YOLOV8/Dataset/test/images/imagen62-4.jpg: 640x640 1 ['Osteophytos'], 7.4ms\n",
            "Speed: 1.7ms preprocess, 7.4ms inference, 1.4ms postprocess per image at shape (1, 3, 640, 640)\n",
            "\n"
          ]
        },
        {
          "output_type": "stream",
          "name": "stdout",
          "text": [
            "[0]\n"
          ]
        },
        {
          "output_type": "stream",
          "name": "stderr",
          "text": [
            "image 1/1 /content/drive/MyDrive/Trabajo_final_VIU/YOLOV8/Dataset/test/images/imagen62-6.jpg: 640x640 2 ['Osteophytos']s, 7.4ms\n",
            "Speed: 1.6ms preprocess, 7.4ms inference, 1.4ms postprocess per image at shape (1, 3, 640, 640)\n",
            "\n"
          ]
        },
        {
          "output_type": "stream",
          "name": "stdout",
          "text": [
            "[0 0]\n"
          ]
        },
        {
          "output_type": "stream",
          "name": "stderr",
          "text": [
            "image 1/1 /content/drive/MyDrive/Trabajo_final_VIU/YOLOV8/Dataset/test/images/imagen620-2.jpg: 640x640 (no detections), 12.6ms\n",
            "Speed: 1.7ms preprocess, 12.6ms inference, 0.9ms postprocess per image at shape (1, 3, 640, 640)\n",
            "\n"
          ]
        },
        {
          "output_type": "stream",
          "name": "stdout",
          "text": [
            "[]\n"
          ]
        },
        {
          "output_type": "stream",
          "name": "stderr",
          "text": [
            "image 1/1 /content/drive/MyDrive/Trabajo_final_VIU/YOLOV8/Dataset/test/images/imagen620-5.jpg: 640x640 1 ['Osteophytos'], 7.4ms\n",
            "Speed: 1.7ms preprocess, 7.4ms inference, 1.4ms postprocess per image at shape (1, 3, 640, 640)\n",
            "\n"
          ]
        },
        {
          "output_type": "stream",
          "name": "stdout",
          "text": [
            "[0]\n"
          ]
        },
        {
          "output_type": "stream",
          "name": "stderr",
          "text": [
            "image 1/1 /content/drive/MyDrive/Trabajo_final_VIU/YOLOV8/Dataset/test/images/imagen621-11.jpg: 384x640 1 ['Osteophytos'], 7.6ms\n",
            "Speed: 1.4ms preprocess, 7.6ms inference, 1.3ms postprocess per image at shape (1, 3, 384, 640)\n",
            "\n"
          ]
        },
        {
          "output_type": "stream",
          "name": "stdout",
          "text": [
            "[0]\n"
          ]
        },
        {
          "output_type": "stream",
          "name": "stderr",
          "text": [
            "image 1/1 /content/drive/MyDrive/Trabajo_final_VIU/YOLOV8/Dataset/test/images/imagen621-14.jpg: 640x640 (no detections), 8.1ms\n",
            "Speed: 1.7ms preprocess, 8.1ms inference, 0.7ms postprocess per image at shape (1, 3, 640, 640)\n",
            "\n"
          ]
        },
        {
          "output_type": "stream",
          "name": "stdout",
          "text": [
            "[]\n"
          ]
        },
        {
          "output_type": "stream",
          "name": "stderr",
          "text": [
            "image 1/1 /content/drive/MyDrive/Trabajo_final_VIU/YOLOV8/Dataset/test/images/imagen621-5.jpg: 608x640 (no detections), 8.0ms\n",
            "Speed: 1.5ms preprocess, 8.0ms inference, 0.9ms postprocess per image at shape (1, 3, 608, 640)\n",
            "\n"
          ]
        },
        {
          "output_type": "stream",
          "name": "stdout",
          "text": [
            "[]\n"
          ]
        },
        {
          "output_type": "stream",
          "name": "stderr",
          "text": [
            "image 1/1 /content/drive/MyDrive/Trabajo_final_VIU/YOLOV8/Dataset/test/images/imagen621-8.jpg: 352x640 2 ['Osteophytos']s, 57.8ms\n",
            "Speed: 1.2ms preprocess, 57.8ms inference, 1.6ms postprocess per image at shape (1, 3, 352, 640)\n",
            "\n"
          ]
        },
        {
          "output_type": "stream",
          "name": "stdout",
          "text": [
            "[0 0]\n"
          ]
        },
        {
          "output_type": "stream",
          "name": "stderr",
          "text": [
            "image 1/1 /content/drive/MyDrive/Trabajo_final_VIU/YOLOV8/Dataset/test/images/imagen622-10.jpg: 640x640 3 ['Osteophytos']s, 8.0ms\n",
            "Speed: 2.0ms preprocess, 8.0ms inference, 1.3ms postprocess per image at shape (1, 3, 640, 640)\n",
            "\n"
          ]
        },
        {
          "output_type": "stream",
          "name": "stdout",
          "text": [
            "[0 0 0]\n"
          ]
        },
        {
          "output_type": "stream",
          "name": "stderr",
          "text": [
            "image 1/1 /content/drive/MyDrive/Trabajo_final_VIU/YOLOV8/Dataset/test/images/imagen622-11.jpg: 640x640 2 ['Osteophytos']s, 7.4ms\n",
            "Speed: 2.1ms preprocess, 7.4ms inference, 1.3ms postprocess per image at shape (1, 3, 640, 640)\n",
            "\n"
          ]
        },
        {
          "output_type": "stream",
          "name": "stdout",
          "text": [
            "[0 0]\n"
          ]
        },
        {
          "output_type": "stream",
          "name": "stderr",
          "text": [
            "image 1/1 /content/drive/MyDrive/Trabajo_final_VIU/YOLOV8/Dataset/test/images/imagen622-6.jpg: 608x640 3 ['Osteophytos']s, 8.0ms\n",
            "Speed: 1.7ms preprocess, 8.0ms inference, 1.6ms postprocess per image at shape (1, 3, 608, 640)\n",
            "\n"
          ]
        },
        {
          "output_type": "stream",
          "name": "stdout",
          "text": [
            "[0 0 0]\n"
          ]
        },
        {
          "output_type": "stream",
          "name": "stderr",
          "text": [
            "image 1/1 /content/drive/MyDrive/Trabajo_final_VIU/YOLOV8/Dataset/test/images/imagen622-7.jpg: 608x640 1 ['Osteophytos'], 8.3ms\n",
            "Speed: 1.9ms preprocess, 8.3ms inference, 1.6ms postprocess per image at shape (1, 3, 608, 640)\n",
            "\n"
          ]
        },
        {
          "output_type": "stream",
          "name": "stdout",
          "text": [
            "[0]\n"
          ]
        },
        {
          "output_type": "stream",
          "name": "stderr",
          "text": [
            "image 1/1 /content/drive/MyDrive/Trabajo_final_VIU/YOLOV8/Dataset/test/images/imagen623-10.jpg: 640x640 3 ['Osteophytos']s, 9.2ms\n",
            "Speed: 2.3ms preprocess, 9.2ms inference, 1.6ms postprocess per image at shape (1, 3, 640, 640)\n",
            "\n"
          ]
        },
        {
          "output_type": "stream",
          "name": "stdout",
          "text": [
            "[0 0 0]\n"
          ]
        },
        {
          "output_type": "stream",
          "name": "stderr",
          "text": [
            "image 1/1 /content/drive/MyDrive/Trabajo_final_VIU/YOLOV8/Dataset/test/images/imagen624-4.jpg: 640x640 (no detections), 7.4ms\n",
            "Speed: 2.1ms preprocess, 7.4ms inference, 0.7ms postprocess per image at shape (1, 3, 640, 640)\n",
            "\n"
          ]
        },
        {
          "output_type": "stream",
          "name": "stdout",
          "text": [
            "[]\n"
          ]
        },
        {
          "output_type": "stream",
          "name": "stderr",
          "text": [
            "image 1/1 /content/drive/MyDrive/Trabajo_final_VIU/YOLOV8/Dataset/test/images/imagen624-6.jpg: 640x640 (no detections), 7.4ms\n",
            "Speed: 1.9ms preprocess, 7.4ms inference, 0.8ms postprocess per image at shape (1, 3, 640, 640)\n",
            "\n"
          ]
        },
        {
          "output_type": "stream",
          "name": "stdout",
          "text": [
            "[]\n"
          ]
        },
        {
          "output_type": "stream",
          "name": "stderr",
          "text": [
            "image 1/1 /content/drive/MyDrive/Trabajo_final_VIU/YOLOV8/Dataset/test/images/imagen625-8.jpg: 640x640 (no detections), 7.4ms\n",
            "Speed: 1.7ms preprocess, 7.4ms inference, 0.7ms postprocess per image at shape (1, 3, 640, 640)\n",
            "\n"
          ]
        },
        {
          "output_type": "stream",
          "name": "stdout",
          "text": [
            "[]\n"
          ]
        },
        {
          "output_type": "stream",
          "name": "stderr",
          "text": [
            "image 1/1 /content/drive/MyDrive/Trabajo_final_VIU/YOLOV8/Dataset/test/images/imagen626-11.jpg: 640x640 (no detections), 7.4ms\n",
            "Speed: 1.7ms preprocess, 7.4ms inference, 0.8ms postprocess per image at shape (1, 3, 640, 640)\n",
            "\n"
          ]
        },
        {
          "output_type": "stream",
          "name": "stdout",
          "text": [
            "[]\n"
          ]
        },
        {
          "output_type": "stream",
          "name": "stderr",
          "text": [
            "image 1/1 /content/drive/MyDrive/Trabajo_final_VIU/YOLOV8/Dataset/test/images/imagen626-7.jpg: 640x640 (no detections), 7.4ms\n",
            "Speed: 1.6ms preprocess, 7.4ms inference, 1.0ms postprocess per image at shape (1, 3, 640, 640)\n",
            "\n"
          ]
        },
        {
          "output_type": "stream",
          "name": "stdout",
          "text": [
            "[]\n"
          ]
        },
        {
          "output_type": "stream",
          "name": "stderr",
          "text": [
            "image 1/1 /content/drive/MyDrive/Trabajo_final_VIU/YOLOV8/Dataset/test/images/imagen627-3.jpg: 640x640 2 ['Osteophytos']s, 7.4ms\n",
            "Speed: 1.7ms preprocess, 7.4ms inference, 1.4ms postprocess per image at shape (1, 3, 640, 640)\n",
            "\n"
          ]
        },
        {
          "output_type": "stream",
          "name": "stdout",
          "text": [
            "[0 0]\n"
          ]
        },
        {
          "output_type": "stream",
          "name": "stderr",
          "text": [
            "image 1/1 /content/drive/MyDrive/Trabajo_final_VIU/YOLOV8/Dataset/test/images/imagen628-5.jpg: 576x640 1 ['Osteophytos'], 7.9ms\n",
            "Speed: 1.6ms preprocess, 7.9ms inference, 1.4ms postprocess per image at shape (1, 3, 576, 640)\n",
            "\n"
          ]
        },
        {
          "output_type": "stream",
          "name": "stdout",
          "text": [
            "[0]\n"
          ]
        },
        {
          "output_type": "stream",
          "name": "stderr",
          "text": [
            "image 1/1 /content/drive/MyDrive/Trabajo_final_VIU/YOLOV8/Dataset/test/images/imagen629-4.jpg: 640x576 (no detections), 8.4ms\n",
            "Speed: 1.6ms preprocess, 8.4ms inference, 1.0ms postprocess per image at shape (1, 3, 640, 576)\n",
            "\n"
          ]
        },
        {
          "output_type": "stream",
          "name": "stdout",
          "text": [
            "[]\n"
          ]
        },
        {
          "output_type": "stream",
          "name": "stderr",
          "text": [
            "image 1/1 /content/drive/MyDrive/Trabajo_final_VIU/YOLOV8/Dataset/test/images/imagen629-6.jpg: 640x576 (no detections), 7.3ms\n",
            "Speed: 1.5ms preprocess, 7.3ms inference, 0.7ms postprocess per image at shape (1, 3, 640, 576)\n",
            "\n"
          ]
        },
        {
          "output_type": "stream",
          "name": "stdout",
          "text": [
            "[]\n"
          ]
        },
        {
          "output_type": "stream",
          "name": "stderr",
          "text": [
            "image 1/1 /content/drive/MyDrive/Trabajo_final_VIU/YOLOV8/Dataset/test/images/imagen63-3.jpg: 640x640 4 ['Osteophytos']s, 8.1ms\n",
            "Speed: 1.8ms preprocess, 8.1ms inference, 1.3ms postprocess per image at shape (1, 3, 640, 640)\n",
            "\n"
          ]
        },
        {
          "output_type": "stream",
          "name": "stdout",
          "text": [
            "[0 0 0 0]\n"
          ]
        },
        {
          "output_type": "stream",
          "name": "stderr",
          "text": [
            "image 1/1 /content/drive/MyDrive/Trabajo_final_VIU/YOLOV8/Dataset/test/images/imagen630-10.jpg: 640x640 (no detections), 7.4ms\n",
            "Speed: 1.6ms preprocess, 7.4ms inference, 0.7ms postprocess per image at shape (1, 3, 640, 640)\n",
            "\n"
          ]
        },
        {
          "output_type": "stream",
          "name": "stdout",
          "text": [
            "[]\n"
          ]
        },
        {
          "output_type": "stream",
          "name": "stderr",
          "text": [
            "image 1/1 /content/drive/MyDrive/Trabajo_final_VIU/YOLOV8/Dataset/test/images/imagen630-7.jpg: 544x640 (no detections), 8.3ms\n",
            "Speed: 1.5ms preprocess, 8.3ms inference, 0.6ms postprocess per image at shape (1, 3, 544, 640)\n",
            "\n"
          ]
        },
        {
          "output_type": "stream",
          "name": "stdout",
          "text": [
            "[]\n"
          ]
        },
        {
          "output_type": "stream",
          "name": "stderr",
          "text": [
            "image 1/1 /content/drive/MyDrive/Trabajo_final_VIU/YOLOV8/Dataset/test/images/imagen631-8.jpg: 640x640 (no detections), 9.3ms\n",
            "Speed: 2.0ms preprocess, 9.3ms inference, 0.9ms postprocess per image at shape (1, 3, 640, 640)\n",
            "\n"
          ]
        },
        {
          "output_type": "stream",
          "name": "stdout",
          "text": [
            "[]\n"
          ]
        },
        {
          "output_type": "stream",
          "name": "stderr",
          "text": [
            "image 1/1 /content/drive/MyDrive/Trabajo_final_VIU/YOLOV8/Dataset/test/images/imagen632-4.jpg: 640x480 (no detections), 9.1ms\n",
            "Speed: 3.1ms preprocess, 9.1ms inference, 0.9ms postprocess per image at shape (1, 3, 640, 480)\n",
            "\n"
          ]
        },
        {
          "output_type": "stream",
          "name": "stdout",
          "text": [
            "[]\n"
          ]
        },
        {
          "output_type": "stream",
          "name": "stderr",
          "text": [
            "image 1/1 /content/drive/MyDrive/Trabajo_final_VIU/YOLOV8/Dataset/test/images/imagen632-6.jpg: 640x480 2 ['Osteophytos']s, 11.4ms\n",
            "Speed: 2.8ms preprocess, 11.4ms inference, 2.0ms postprocess per image at shape (1, 3, 640, 480)\n",
            "\n"
          ]
        },
        {
          "output_type": "stream",
          "name": "stdout",
          "text": [
            "[0 0]\n"
          ]
        },
        {
          "output_type": "stream",
          "name": "stderr",
          "text": [
            "image 1/1 /content/drive/MyDrive/Trabajo_final_VIU/YOLOV8/Dataset/test/images/imagen632-8.jpg: 640x416 (no detections), 7.1ms\n",
            "Speed: 1.3ms preprocess, 7.1ms inference, 0.7ms postprocess per image at shape (1, 3, 640, 416)\n",
            "\n"
          ]
        },
        {
          "output_type": "stream",
          "name": "stdout",
          "text": [
            "[]\n"
          ]
        },
        {
          "output_type": "stream",
          "name": "stderr",
          "text": [
            "image 1/1 /content/drive/MyDrive/Trabajo_final_VIU/YOLOV8/Dataset/test/images/imagen633-3.jpg: 640x640 2 ['Osteophytos']s, 8.1ms\n",
            "Speed: 1.6ms preprocess, 8.1ms inference, 1.3ms postprocess per image at shape (1, 3, 640, 640)\n",
            "\n"
          ]
        },
        {
          "output_type": "stream",
          "name": "stdout",
          "text": [
            "[0 0]\n"
          ]
        },
        {
          "output_type": "stream",
          "name": "stderr",
          "text": [
            "image 1/1 /content/drive/MyDrive/Trabajo_final_VIU/YOLOV8/Dataset/test/images/imagen633-4.jpg: 640x544 2 ['Osteophytos']s, 7.8ms\n",
            "Speed: 1.5ms preprocess, 7.8ms inference, 1.4ms postprocess per image at shape (1, 3, 640, 544)\n",
            "\n"
          ]
        },
        {
          "output_type": "stream",
          "name": "stdout",
          "text": [
            "[0 0]\n"
          ]
        },
        {
          "output_type": "stream",
          "name": "stderr",
          "text": [
            "image 1/1 /content/drive/MyDrive/Trabajo_final_VIU/YOLOV8/Dataset/test/images/imagen634-1.jpg: 640x640 (no detections), 8.3ms\n",
            "Speed: 1.6ms preprocess, 8.3ms inference, 0.8ms postprocess per image at shape (1, 3, 640, 640)\n",
            "\n"
          ]
        },
        {
          "output_type": "stream",
          "name": "stdout",
          "text": [
            "[]\n"
          ]
        },
        {
          "output_type": "stream",
          "name": "stderr",
          "text": [
            "image 1/1 /content/drive/MyDrive/Trabajo_final_VIU/YOLOV8/Dataset/test/images/imagen634-3.jpg: 480x640 (no detections), 7.3ms\n",
            "Speed: 1.5ms preprocess, 7.3ms inference, 0.8ms postprocess per image at shape (1, 3, 480, 640)\n",
            "\n"
          ]
        },
        {
          "output_type": "stream",
          "name": "stdout",
          "text": [
            "[]\n"
          ]
        },
        {
          "output_type": "stream",
          "name": "stderr",
          "text": [
            "image 1/1 /content/drive/MyDrive/Trabajo_final_VIU/YOLOV8/Dataset/test/images/imagen635-5.jpg: 640x640 3 ['Osteophytos']s, 8.1ms\n",
            "Speed: 1.6ms preprocess, 8.1ms inference, 1.2ms postprocess per image at shape (1, 3, 640, 640)\n",
            "\n"
          ]
        },
        {
          "output_type": "stream",
          "name": "stdout",
          "text": [
            "[0 0 0]\n"
          ]
        },
        {
          "output_type": "stream",
          "name": "stderr",
          "text": [
            "image 1/1 /content/drive/MyDrive/Trabajo_final_VIU/YOLOV8/Dataset/test/images/imagen635-6.jpg: 640x608 (no detections), 8.1ms\n",
            "Speed: 1.7ms preprocess, 8.1ms inference, 0.7ms postprocess per image at shape (1, 3, 640, 608)\n",
            "\n"
          ]
        },
        {
          "output_type": "stream",
          "name": "stdout",
          "text": [
            "[]\n"
          ]
        },
        {
          "output_type": "stream",
          "name": "stderr",
          "text": [
            "image 1/1 /content/drive/MyDrive/Trabajo_final_VIU/YOLOV8/Dataset/test/images/imagen636-4.jpg: 640x608 (no detections), 7.3ms\n",
            "Speed: 2.7ms preprocess, 7.3ms inference, 0.8ms postprocess per image at shape (1, 3, 640, 608)\n",
            "\n"
          ]
        },
        {
          "output_type": "stream",
          "name": "stdout",
          "text": [
            "[]\n"
          ]
        },
        {
          "output_type": "stream",
          "name": "stderr",
          "text": [
            "image 1/1 /content/drive/MyDrive/Trabajo_final_VIU/YOLOV8/Dataset/test/images/imagen636-6.jpg: 640x576 1 ['Osteophytos'], 7.9ms\n",
            "Speed: 1.6ms preprocess, 7.9ms inference, 1.3ms postprocess per image at shape (1, 3, 640, 576)\n",
            "\n"
          ]
        },
        {
          "output_type": "stream",
          "name": "stdout",
          "text": [
            "[0]\n"
          ]
        },
        {
          "output_type": "stream",
          "name": "stderr",
          "text": [
            "image 1/1 /content/drive/MyDrive/Trabajo_final_VIU/YOLOV8/Dataset/test/images/imagen637-4.jpg: 640x640 (no detections), 8.0ms\n",
            "Speed: 1.7ms preprocess, 8.0ms inference, 0.7ms postprocess per image at shape (1, 3, 640, 640)\n",
            "\n"
          ]
        },
        {
          "output_type": "stream",
          "name": "stdout",
          "text": [
            "[]\n"
          ]
        },
        {
          "output_type": "stream",
          "name": "stderr",
          "text": [
            "image 1/1 /content/drive/MyDrive/Trabajo_final_VIU/YOLOV8/Dataset/test/images/imagen637-5.jpg: 640x640 (no detections), 7.4ms\n",
            "Speed: 1.6ms preprocess, 7.4ms inference, 0.7ms postprocess per image at shape (1, 3, 640, 640)\n",
            "\n"
          ]
        },
        {
          "output_type": "stream",
          "name": "stdout",
          "text": [
            "[]\n"
          ]
        },
        {
          "output_type": "stream",
          "name": "stderr",
          "text": [
            "image 1/1 /content/drive/MyDrive/Trabajo_final_VIU/YOLOV8/Dataset/test/images/imagen638-5.jpg: 640x640 (no detections), 18.0ms\n",
            "Speed: 1.7ms preprocess, 18.0ms inference, 3.2ms postprocess per image at shape (1, 3, 640, 640)\n",
            "\n"
          ]
        },
        {
          "output_type": "stream",
          "name": "stdout",
          "text": [
            "[]\n"
          ]
        },
        {
          "output_type": "stream",
          "name": "stderr",
          "text": [
            "image 1/1 /content/drive/MyDrive/Trabajo_final_VIU/YOLOV8/Dataset/test/images/imagen639-13.jpg: 608x640 1 ['Osteophytos'], 10.6ms\n",
            "Speed: 2.0ms preprocess, 10.6ms inference, 1.6ms postprocess per image at shape (1, 3, 608, 640)\n",
            "\n"
          ]
        },
        {
          "output_type": "stream",
          "name": "stdout",
          "text": [
            "[0]\n"
          ]
        },
        {
          "output_type": "stream",
          "name": "stderr",
          "text": [
            "image 1/1 /content/drive/MyDrive/Trabajo_final_VIU/YOLOV8/Dataset/test/images/imagen639-18.jpg: 640x640 1 ['Osteophytos'], 8.9ms\n",
            "Speed: 1.9ms preprocess, 8.9ms inference, 1.6ms postprocess per image at shape (1, 3, 640, 640)\n",
            "\n"
          ]
        },
        {
          "output_type": "stream",
          "name": "stdout",
          "text": [
            "[0]\n"
          ]
        },
        {
          "output_type": "stream",
          "name": "stderr",
          "text": [
            "image 1/1 /content/drive/MyDrive/Trabajo_final_VIU/YOLOV8/Dataset/test/images/imagen64-13.jpg: 640x640 2 ['Osteophytos']s, 7.6ms\n",
            "Speed: 1.6ms preprocess, 7.6ms inference, 1.4ms postprocess per image at shape (1, 3, 640, 640)\n",
            "\n"
          ]
        },
        {
          "output_type": "stream",
          "name": "stdout",
          "text": [
            "[0 0]\n"
          ]
        },
        {
          "output_type": "stream",
          "name": "stderr",
          "text": [
            "image 1/1 /content/drive/MyDrive/Trabajo_final_VIU/YOLOV8/Dataset/test/images/imagen64-8.jpg: 640x640 3 ['Osteophytos']s, 7.4ms\n",
            "Speed: 1.7ms preprocess, 7.4ms inference, 1.4ms postprocess per image at shape (1, 3, 640, 640)\n",
            "\n"
          ]
        },
        {
          "output_type": "stream",
          "name": "stdout",
          "text": [
            "[0 0 0]\n"
          ]
        },
        {
          "output_type": "stream",
          "name": "stderr",
          "text": [
            "image 1/1 /content/drive/MyDrive/Trabajo_final_VIU/YOLOV8/Dataset/test/images/imagen640-3.jpg: 640x640 (no detections), 7.4ms\n",
            "Speed: 1.7ms preprocess, 7.4ms inference, 0.8ms postprocess per image at shape (1, 3, 640, 640)\n",
            "\n"
          ]
        },
        {
          "output_type": "stream",
          "name": "stdout",
          "text": [
            "[]\n"
          ]
        },
        {
          "output_type": "stream",
          "name": "stderr",
          "text": [
            "image 1/1 /content/drive/MyDrive/Trabajo_final_VIU/YOLOV8/Dataset/test/images/imagen640-4.jpg: 640x544 (no detections), 7.9ms\n",
            "Speed: 1.5ms preprocess, 7.9ms inference, 0.8ms postprocess per image at shape (1, 3, 640, 544)\n",
            "\n"
          ]
        },
        {
          "output_type": "stream",
          "name": "stdout",
          "text": [
            "[]\n"
          ]
        },
        {
          "output_type": "stream",
          "name": "stderr",
          "text": [
            "image 1/1 /content/drive/MyDrive/Trabajo_final_VIU/YOLOV8/Dataset/test/images/imagen641-3.jpg: 640x640 (no detections), 8.0ms\n",
            "Speed: 1.9ms preprocess, 8.0ms inference, 0.7ms postprocess per image at shape (1, 3, 640, 640)\n",
            "\n"
          ]
        },
        {
          "output_type": "stream",
          "name": "stdout",
          "text": [
            "[]\n"
          ]
        },
        {
          "output_type": "stream",
          "name": "stderr",
          "text": [
            "image 1/1 /content/drive/MyDrive/Trabajo_final_VIU/YOLOV8/Dataset/test/images/imagen641-4.jpg: 640x640 (no detections), 7.4ms\n",
            "Speed: 2.8ms preprocess, 7.4ms inference, 0.7ms postprocess per image at shape (1, 3, 640, 640)\n",
            "\n"
          ]
        },
        {
          "output_type": "stream",
          "name": "stdout",
          "text": [
            "[]\n"
          ]
        },
        {
          "output_type": "stream",
          "name": "stderr",
          "text": [
            "image 1/1 /content/drive/MyDrive/Trabajo_final_VIU/YOLOV8/Dataset/test/images/imagen641-5.jpg: 640x640 (no detections), 7.4ms\n",
            "Speed: 1.6ms preprocess, 7.4ms inference, 0.7ms postprocess per image at shape (1, 3, 640, 640)\n",
            "\n"
          ]
        },
        {
          "output_type": "stream",
          "name": "stdout",
          "text": [
            "[]\n"
          ]
        },
        {
          "output_type": "stream",
          "name": "stderr",
          "text": [
            "image 1/1 /content/drive/MyDrive/Trabajo_final_VIU/YOLOV8/Dataset/test/images/imagen641-6.jpg: 640x640 (no detections), 7.4ms\n",
            "Speed: 1.7ms preprocess, 7.4ms inference, 0.8ms postprocess per image at shape (1, 3, 640, 640)\n",
            "\n"
          ]
        },
        {
          "output_type": "stream",
          "name": "stdout",
          "text": [
            "[]\n"
          ]
        },
        {
          "output_type": "stream",
          "name": "stderr",
          "text": [
            "image 1/1 /content/drive/MyDrive/Trabajo_final_VIU/YOLOV8/Dataset/test/images/imagen642-4.jpg: 640x608 (no detections), 8.1ms\n",
            "Speed: 1.8ms preprocess, 8.1ms inference, 0.7ms postprocess per image at shape (1, 3, 640, 608)\n",
            "\n"
          ]
        },
        {
          "output_type": "stream",
          "name": "stdout",
          "text": [
            "[]\n"
          ]
        },
        {
          "output_type": "stream",
          "name": "stderr",
          "text": [
            "image 1/1 /content/drive/MyDrive/Trabajo_final_VIU/YOLOV8/Dataset/test/images/imagen643-5.jpg: 640x640 (no detections), 8.0ms\n",
            "Speed: 1.7ms preprocess, 8.0ms inference, 0.8ms postprocess per image at shape (1, 3, 640, 640)\n",
            "\n"
          ]
        },
        {
          "output_type": "stream",
          "name": "stdout",
          "text": [
            "[]\n"
          ]
        },
        {
          "output_type": "stream",
          "name": "stderr",
          "text": [
            "image 1/1 /content/drive/MyDrive/Trabajo_final_VIU/YOLOV8/Dataset/test/images/imagen644-4.jpg: 640x544 3 ['Osteophytos']s, 7.8ms\n",
            "Speed: 1.5ms preprocess, 7.8ms inference, 1.3ms postprocess per image at shape (1, 3, 640, 544)\n",
            "\n"
          ]
        },
        {
          "output_type": "stream",
          "name": "stdout",
          "text": [
            "[0 0 0]\n"
          ]
        },
        {
          "output_type": "stream",
          "name": "stderr",
          "text": [
            "image 1/1 /content/drive/MyDrive/Trabajo_final_VIU/YOLOV8/Dataset/test/images/imagen645-5.jpg: 640x640 2 ['Osteophytos']s, 8.1ms\n",
            "Speed: 1.6ms preprocess, 8.1ms inference, 1.3ms postprocess per image at shape (1, 3, 640, 640)\n",
            "\n"
          ]
        },
        {
          "output_type": "stream",
          "name": "stdout",
          "text": [
            "[0 0]\n"
          ]
        },
        {
          "output_type": "stream",
          "name": "stderr",
          "text": [
            "image 1/1 /content/drive/MyDrive/Trabajo_final_VIU/YOLOV8/Dataset/test/images/imagen645-6.jpg: 640x608 1 ['Osteophytos'], 8.0ms\n",
            "Speed: 1.7ms preprocess, 8.0ms inference, 1.3ms postprocess per image at shape (1, 3, 640, 608)\n",
            "\n"
          ]
        },
        {
          "output_type": "stream",
          "name": "stdout",
          "text": [
            "[0]\n"
          ]
        },
        {
          "output_type": "stream",
          "name": "stderr",
          "text": [
            "image 1/1 /content/drive/MyDrive/Trabajo_final_VIU/YOLOV8/Dataset/test/images/imagen646-4.jpg: 640x608 2 ['Osteophytos']s, 8.4ms\n",
            "Speed: 1.9ms preprocess, 8.4ms inference, 1.7ms postprocess per image at shape (1, 3, 640, 608)\n",
            "\n"
          ]
        },
        {
          "output_type": "stream",
          "name": "stdout",
          "text": [
            "[0 0]\n"
          ]
        },
        {
          "output_type": "stream",
          "name": "stderr",
          "text": [
            "image 1/1 /content/drive/MyDrive/Trabajo_final_VIU/YOLOV8/Dataset/test/images/imagen646-6.jpg: 640x608 (no detections), 13.0ms\n",
            "Speed: 1.9ms preprocess, 13.0ms inference, 0.9ms postprocess per image at shape (1, 3, 640, 608)\n",
            "\n"
          ]
        },
        {
          "output_type": "stream",
          "name": "stdout",
          "text": [
            "[]\n"
          ]
        },
        {
          "output_type": "stream",
          "name": "stderr",
          "text": [
            "image 1/1 /content/drive/MyDrive/Trabajo_final_VIU/YOLOV8/Dataset/test/images/imagen647-4.jpg: 640x512 2 ['Osteophytos']s, 7.8ms\n",
            "Speed: 2.3ms preprocess, 7.8ms inference, 2.5ms postprocess per image at shape (1, 3, 640, 512)\n",
            "\n"
          ]
        },
        {
          "output_type": "stream",
          "name": "stdout",
          "text": [
            "[0 0]\n"
          ]
        },
        {
          "output_type": "stream",
          "name": "stderr",
          "text": [
            "image 1/1 /content/drive/MyDrive/Trabajo_final_VIU/YOLOV8/Dataset/test/images/imagen647-5.jpg: 640x640 2 ['Osteophytos']s, 8.1ms\n",
            "Speed: 1.7ms preprocess, 8.1ms inference, 1.3ms postprocess per image at shape (1, 3, 640, 640)\n",
            "\n"
          ]
        },
        {
          "output_type": "stream",
          "name": "stdout",
          "text": [
            "[0 0]\n"
          ]
        },
        {
          "output_type": "stream",
          "name": "stderr",
          "text": [
            "image 1/1 /content/drive/MyDrive/Trabajo_final_VIU/YOLOV8/Dataset/test/images/imagen647-6.jpg: 640x480 2 ['Osteophytos']s, 8.7ms\n",
            "Speed: 1.7ms preprocess, 8.7ms inference, 1.9ms postprocess per image at shape (1, 3, 640, 480)\n",
            "\n"
          ]
        },
        {
          "output_type": "stream",
          "name": "stdout",
          "text": [
            "[0 0]\n"
          ]
        },
        {
          "output_type": "stream",
          "name": "stderr",
          "text": [
            "image 1/1 /content/drive/MyDrive/Trabajo_final_VIU/YOLOV8/Dataset/test/images/imagen648-10.jpg: 640x576 (no detections), 7.9ms\n",
            "Speed: 2.7ms preprocess, 7.9ms inference, 0.8ms postprocess per image at shape (1, 3, 640, 576)\n",
            "\n"
          ]
        },
        {
          "output_type": "stream",
          "name": "stdout",
          "text": [
            "[]\n"
          ]
        },
        {
          "output_type": "stream",
          "name": "stderr",
          "text": [
            "image 1/1 /content/drive/MyDrive/Trabajo_final_VIU/YOLOV8/Dataset/test/images/imagen648-8.jpg: 640x448 3 ['Osteophytos']s, 7.7ms\n",
            "Speed: 2.1ms preprocess, 7.7ms inference, 1.5ms postprocess per image at shape (1, 3, 640, 448)\n",
            "\n"
          ]
        },
        {
          "output_type": "stream",
          "name": "stdout",
          "text": [
            "[0 0 0]\n"
          ]
        },
        {
          "output_type": "stream",
          "name": "stderr",
          "text": [
            "image 1/1 /content/drive/MyDrive/Trabajo_final_VIU/YOLOV8/Dataset/test/images/imagen649-11.jpg: 608x640 (no detections), 8.1ms\n",
            "Speed: 1.7ms preprocess, 8.1ms inference, 0.7ms postprocess per image at shape (1, 3, 608, 640)\n",
            "\n"
          ]
        },
        {
          "output_type": "stream",
          "name": "stdout",
          "text": [
            "[]\n"
          ]
        },
        {
          "output_type": "stream",
          "name": "stderr",
          "text": [
            "image 1/1 /content/drive/MyDrive/Trabajo_final_VIU/YOLOV8/Dataset/test/images/imagen649-14.jpg: 640x640 1 ['Osteophytos'], 11.9ms\n",
            "Speed: 1.9ms preprocess, 11.9ms inference, 1.7ms postprocess per image at shape (1, 3, 640, 640)\n",
            "\n"
          ]
        },
        {
          "output_type": "stream",
          "name": "stdout",
          "text": [
            "[0]\n"
          ]
        },
        {
          "output_type": "stream",
          "name": "stderr",
          "text": [
            "image 1/1 /content/drive/MyDrive/Trabajo_final_VIU/YOLOV8/Dataset/test/images/imagen649-7.jpg: 640x640 (no detections), 7.4ms\n",
            "Speed: 1.7ms preprocess, 7.4ms inference, 0.8ms postprocess per image at shape (1, 3, 640, 640)\n",
            "\n"
          ]
        },
        {
          "output_type": "stream",
          "name": "stdout",
          "text": [
            "[]\n"
          ]
        },
        {
          "output_type": "stream",
          "name": "stderr",
          "text": [
            "image 1/1 /content/drive/MyDrive/Trabajo_final_VIU/YOLOV8/Dataset/test/images/imagen65-7.jpg: 640x640 1 ['Osteophytos'], 7.4ms\n",
            "Speed: 1.7ms preprocess, 7.4ms inference, 1.4ms postprocess per image at shape (1, 3, 640, 640)\n",
            "\n"
          ]
        },
        {
          "output_type": "stream",
          "name": "stdout",
          "text": [
            "[0]\n"
          ]
        },
        {
          "output_type": "stream",
          "name": "stderr",
          "text": [
            "image 1/1 /content/drive/MyDrive/Trabajo_final_VIU/YOLOV8/Dataset/test/images/imagen650-2.jpg: 640x480 2 ['Osteophytos']s, 7.2ms\n",
            "Speed: 2.2ms preprocess, 7.2ms inference, 3.2ms postprocess per image at shape (1, 3, 640, 480)\n",
            "\n"
          ]
        },
        {
          "output_type": "stream",
          "name": "stdout",
          "text": [
            "[0 0]\n"
          ]
        },
        {
          "output_type": "stream",
          "name": "stderr",
          "text": [
            "image 1/1 /content/drive/MyDrive/Trabajo_final_VIU/YOLOV8/Dataset/test/images/imagen650-4.jpg: 640x480 2 ['Osteophytos']s, 7.3ms\n",
            "Speed: 1.6ms preprocess, 7.3ms inference, 1.4ms postprocess per image at shape (1, 3, 640, 480)\n",
            "\n"
          ]
        },
        {
          "output_type": "stream",
          "name": "stdout",
          "text": [
            "[0 0]\n"
          ]
        },
        {
          "output_type": "stream",
          "name": "stderr",
          "text": [
            "image 1/1 /content/drive/MyDrive/Trabajo_final_VIU/YOLOV8/Dataset/test/images/imagen651-4.jpg: 640x480 2 ['Osteophytos']s, 6.7ms\n",
            "Speed: 1.5ms preprocess, 6.7ms inference, 1.4ms postprocess per image at shape (1, 3, 640, 480)\n",
            "\n"
          ]
        },
        {
          "output_type": "stream",
          "name": "stdout",
          "text": [
            "[0 0]\n"
          ]
        },
        {
          "output_type": "stream",
          "name": "stderr",
          "text": [
            "image 1/1 /content/drive/MyDrive/Trabajo_final_VIU/YOLOV8/Dataset/test/images/imagen652-10.jpg: 640x576 2 ['Osteophytos']s, 9.3ms\n",
            "Speed: 1.7ms preprocess, 9.3ms inference, 1.7ms postprocess per image at shape (1, 3, 640, 576)\n",
            "\n"
          ]
        },
        {
          "output_type": "stream",
          "name": "stdout",
          "text": [
            "[0 0]\n"
          ]
        },
        {
          "output_type": "stream",
          "name": "stderr",
          "text": [
            "image 1/1 /content/drive/MyDrive/Trabajo_final_VIU/YOLOV8/Dataset/test/images/imagen652-11.jpg: 640x640 3 ['Osteophytos']s, 9.2ms\n",
            "Speed: 1.9ms preprocess, 9.2ms inference, 1.6ms postprocess per image at shape (1, 3, 640, 640)\n",
            "\n"
          ]
        },
        {
          "output_type": "stream",
          "name": "stdout",
          "text": [
            "[0 0 0]\n"
          ]
        },
        {
          "output_type": "stream",
          "name": "stderr",
          "text": [
            "image 1/1 /content/drive/MyDrive/Trabajo_final_VIU/YOLOV8/Dataset/test/images/imagen652-15.jpg: 640x640 (no detections), 8.5ms\n",
            "Speed: 2.0ms preprocess, 8.5ms inference, 0.9ms postprocess per image at shape (1, 3, 640, 640)\n",
            "\n"
          ]
        },
        {
          "output_type": "stream",
          "name": "stdout",
          "text": [
            "[]\n"
          ]
        },
        {
          "output_type": "stream",
          "name": "stderr",
          "text": [
            "image 1/1 /content/drive/MyDrive/Trabajo_final_VIU/YOLOV8/Dataset/test/images/imagen652-6.jpg: 640x608 1 ['Osteophytos'], 8.0ms\n",
            "Speed: 2.5ms preprocess, 8.0ms inference, 1.2ms postprocess per image at shape (1, 3, 640, 608)\n",
            "\n"
          ]
        },
        {
          "output_type": "stream",
          "name": "stdout",
          "text": [
            "[0]\n"
          ]
        },
        {
          "output_type": "stream",
          "name": "stderr",
          "text": [
            "image 1/1 /content/drive/MyDrive/Trabajo_final_VIU/YOLOV8/Dataset/test/images/imagen653-13.jpg: 640x640 6 ['Osteophytos']s, 8.1ms\n",
            "Speed: 1.8ms preprocess, 8.1ms inference, 1.4ms postprocess per image at shape (1, 3, 640, 640)\n",
            "\n"
          ]
        },
        {
          "output_type": "stream",
          "name": "stdout",
          "text": [
            "[0 0 0 0 0 0]\n"
          ]
        },
        {
          "output_type": "stream",
          "name": "stderr",
          "text": [
            "image 1/1 /content/drive/MyDrive/Trabajo_final_VIU/YOLOV8/Dataset/test/images/imagen653-8.jpg: 544x640 2 ['Osteophytos']s, 7.8ms\n",
            "Speed: 1.5ms preprocess, 7.8ms inference, 1.3ms postprocess per image at shape (1, 3, 544, 640)\n",
            "\n"
          ]
        },
        {
          "output_type": "stream",
          "name": "stdout",
          "text": [
            "[0 0]\n"
          ]
        },
        {
          "output_type": "stream",
          "name": "stderr",
          "text": [
            "image 1/1 /content/drive/MyDrive/Trabajo_final_VIU/YOLOV8/Dataset/test/images/imagen654-6.jpg: 640x640 1 ['Osteophytos'], 8.0ms\n",
            "Speed: 1.7ms preprocess, 8.0ms inference, 1.3ms postprocess per image at shape (1, 3, 640, 640)\n",
            "\n"
          ]
        },
        {
          "output_type": "stream",
          "name": "stdout",
          "text": [
            "[0]\n"
          ]
        },
        {
          "output_type": "stream",
          "name": "stderr",
          "text": [
            "image 1/1 /content/drive/MyDrive/Trabajo_final_VIU/YOLOV8/Dataset/test/images/imagen655-5.jpg: 608x640 2 ['Osteophytos']s, 8.1ms\n",
            "Speed: 1.6ms preprocess, 8.1ms inference, 1.3ms postprocess per image at shape (1, 3, 608, 640)\n",
            "\n"
          ]
        },
        {
          "output_type": "stream",
          "name": "stdout",
          "text": [
            "[0 0]\n"
          ]
        },
        {
          "output_type": "stream",
          "name": "stderr",
          "text": [
            "image 1/1 /content/drive/MyDrive/Trabajo_final_VIU/YOLOV8/Dataset/test/images/imagen655-7.jpg: 640x640 (no detections), 8.1ms\n",
            "Speed: 1.6ms preprocess, 8.1ms inference, 0.7ms postprocess per image at shape (1, 3, 640, 640)\n",
            "\n"
          ]
        },
        {
          "output_type": "stream",
          "name": "stdout",
          "text": [
            "[]\n"
          ]
        },
        {
          "output_type": "stream",
          "name": "stderr",
          "text": [
            "image 1/1 /content/drive/MyDrive/Trabajo_final_VIU/YOLOV8/Dataset/test/images/imagen656-10.jpg: 576x640 1 ['Osteophytos'], 8.0ms\n",
            "Speed: 1.5ms preprocess, 8.0ms inference, 1.4ms postprocess per image at shape (1, 3, 576, 640)\n",
            "\n"
          ]
        },
        {
          "output_type": "stream",
          "name": "stdout",
          "text": [
            "[0]\n"
          ]
        },
        {
          "output_type": "stream",
          "name": "stderr",
          "text": [
            "image 1/1 /content/drive/MyDrive/Trabajo_final_VIU/YOLOV8/Dataset/test/images/imagen656-14.jpg: 640x640 (no detections), 8.1ms\n",
            "Speed: 1.7ms preprocess, 8.1ms inference, 0.7ms postprocess per image at shape (1, 3, 640, 640)\n",
            "\n"
          ]
        },
        {
          "output_type": "stream",
          "name": "stdout",
          "text": [
            "[]\n"
          ]
        },
        {
          "output_type": "stream",
          "name": "stderr",
          "text": [
            "image 1/1 /content/drive/MyDrive/Trabajo_final_VIU/YOLOV8/Dataset/test/images/imagen657-13.jpg: 640x640 (no detections), 7.4ms\n",
            "Speed: 1.8ms preprocess, 7.4ms inference, 0.8ms postprocess per image at shape (1, 3, 640, 640)\n",
            "\n"
          ]
        },
        {
          "output_type": "stream",
          "name": "stdout",
          "text": [
            "[]\n"
          ]
        },
        {
          "output_type": "stream",
          "name": "stderr",
          "text": [
            "image 1/1 /content/drive/MyDrive/Trabajo_final_VIU/YOLOV8/Dataset/test/images/imagen658-4.jpg: 640x544 2 ['Osteophytos']s, 7.8ms\n",
            "Speed: 1.5ms preprocess, 7.8ms inference, 1.3ms postprocess per image at shape (1, 3, 640, 544)\n",
            "\n"
          ]
        },
        {
          "output_type": "stream",
          "name": "stdout",
          "text": [
            "[0 0]\n"
          ]
        },
        {
          "output_type": "stream",
          "name": "stderr",
          "text": [
            "image 1/1 /content/drive/MyDrive/Trabajo_final_VIU/YOLOV8/Dataset/test/images/imagen659-11.jpg: 640x640 (no detections), 8.3ms\n",
            "Speed: 1.6ms preprocess, 8.3ms inference, 0.8ms postprocess per image at shape (1, 3, 640, 640)\n",
            "\n"
          ]
        },
        {
          "output_type": "stream",
          "name": "stdout",
          "text": [
            "[]\n"
          ]
        },
        {
          "output_type": "stream",
          "name": "stderr",
          "text": [
            "image 1/1 /content/drive/MyDrive/Trabajo_final_VIU/YOLOV8/Dataset/test/images/imagen659-5.jpg: 608x640 (no detections), 12.3ms\n",
            "Speed: 2.0ms preprocess, 12.3ms inference, 0.9ms postprocess per image at shape (1, 3, 608, 640)\n",
            "\n"
          ]
        },
        {
          "output_type": "stream",
          "name": "stdout",
          "text": [
            "[]\n"
          ]
        },
        {
          "output_type": "stream",
          "name": "stderr",
          "text": [
            "image 1/1 /content/drive/MyDrive/Trabajo_final_VIU/YOLOV8/Dataset/test/images/imagen659-7.jpg: 576x640 (no detections), 14.4ms\n",
            "Speed: 1.9ms preprocess, 14.4ms inference, 3.9ms postprocess per image at shape (1, 3, 576, 640)\n",
            "\n"
          ]
        },
        {
          "output_type": "stream",
          "name": "stdout",
          "text": [
            "[]\n"
          ]
        },
        {
          "output_type": "stream",
          "name": "stderr",
          "text": [
            "image 1/1 /content/drive/MyDrive/Trabajo_final_VIU/YOLOV8/Dataset/test/images/imagen66-6.jpg: 640x288 1 ['Osteophytos'], 9.7ms\n",
            "Speed: 1.1ms preprocess, 9.7ms inference, 1.7ms postprocess per image at shape (1, 3, 640, 288)\n",
            "\n"
          ]
        },
        {
          "output_type": "stream",
          "name": "stdout",
          "text": [
            "[0]\n"
          ]
        },
        {
          "output_type": "stream",
          "name": "stderr",
          "text": [
            "image 1/1 /content/drive/MyDrive/Trabajo_final_VIU/YOLOV8/Dataset/test/images/imagen660-5.jpg: 640x640 (no detections), 8.1ms\n",
            "Speed: 1.7ms preprocess, 8.1ms inference, 0.8ms postprocess per image at shape (1, 3, 640, 640)\n",
            "\n"
          ]
        },
        {
          "output_type": "stream",
          "name": "stdout",
          "text": [
            "[]\n"
          ]
        },
        {
          "output_type": "stream",
          "name": "stderr",
          "text": [
            "image 1/1 /content/drive/MyDrive/Trabajo_final_VIU/YOLOV8/Dataset/test/images/imagen661-5.jpg: 576x640 (no detections), 7.9ms\n",
            "Speed: 1.6ms preprocess, 7.9ms inference, 0.7ms postprocess per image at shape (1, 3, 576, 640)\n",
            "\n"
          ]
        },
        {
          "output_type": "stream",
          "name": "stdout",
          "text": [
            "[]\n"
          ]
        },
        {
          "output_type": "stream",
          "name": "stderr",
          "text": [
            "image 1/1 /content/drive/MyDrive/Trabajo_final_VIU/YOLOV8/Dataset/test/images/imagen661-8.jpg: 640x640 (no detections), 8.0ms\n",
            "Speed: 1.8ms preprocess, 8.0ms inference, 0.7ms postprocess per image at shape (1, 3, 640, 640)\n",
            "\n"
          ]
        },
        {
          "output_type": "stream",
          "name": "stdout",
          "text": [
            "[]\n"
          ]
        },
        {
          "output_type": "stream",
          "name": "stderr",
          "text": [
            "image 1/1 /content/drive/MyDrive/Trabajo_final_VIU/YOLOV8/Dataset/test/images/imagen662-4.jpg: 640x640 (no detections), 7.4ms\n",
            "Speed: 1.7ms preprocess, 7.4ms inference, 0.7ms postprocess per image at shape (1, 3, 640, 640)\n",
            "\n"
          ]
        },
        {
          "output_type": "stream",
          "name": "stdout",
          "text": [
            "[]\n"
          ]
        },
        {
          "output_type": "stream",
          "name": "stderr",
          "text": [
            "image 1/1 /content/drive/MyDrive/Trabajo_final_VIU/YOLOV8/Dataset/test/images/imagen662-5.jpg: 640x640 (no detections), 7.4ms\n",
            "Speed: 1.8ms preprocess, 7.4ms inference, 0.8ms postprocess per image at shape (1, 3, 640, 640)\n",
            "\n"
          ]
        },
        {
          "output_type": "stream",
          "name": "stdout",
          "text": [
            "[]\n"
          ]
        },
        {
          "output_type": "stream",
          "name": "stderr",
          "text": [
            "image 1/1 /content/drive/MyDrive/Trabajo_final_VIU/YOLOV8/Dataset/test/images/imagen662-8.jpg: 640x640 (no detections), 7.4ms\n",
            "Speed: 1.6ms preprocess, 7.4ms inference, 0.8ms postprocess per image at shape (1, 3, 640, 640)\n",
            "\n"
          ]
        },
        {
          "output_type": "stream",
          "name": "stdout",
          "text": [
            "[]\n"
          ]
        },
        {
          "output_type": "stream",
          "name": "stderr",
          "text": [
            "image 1/1 /content/drive/MyDrive/Trabajo_final_VIU/YOLOV8/Dataset/test/images/imagen663-11.jpg: 640x640 (no detections), 7.4ms\n",
            "Speed: 1.7ms preprocess, 7.4ms inference, 0.8ms postprocess per image at shape (1, 3, 640, 640)\n",
            "\n"
          ]
        },
        {
          "output_type": "stream",
          "name": "stdout",
          "text": [
            "[]\n"
          ]
        },
        {
          "output_type": "stream",
          "name": "stderr",
          "text": [
            "image 1/1 /content/drive/MyDrive/Trabajo_final_VIU/YOLOV8/Dataset/test/images/imagen663-8.jpg: 640x640 (no detections), 7.4ms\n",
            "Speed: 1.6ms preprocess, 7.4ms inference, 0.7ms postprocess per image at shape (1, 3, 640, 640)\n",
            "\n"
          ]
        },
        {
          "output_type": "stream",
          "name": "stdout",
          "text": [
            "[]\n"
          ]
        },
        {
          "output_type": "stream",
          "name": "stderr",
          "text": [
            "image 1/1 /content/drive/MyDrive/Trabajo_final_VIU/YOLOV8/Dataset/test/images/imagen664-5.jpg: 640x640 (no detections), 9.0ms\n",
            "Speed: 1.9ms preprocess, 9.0ms inference, 1.1ms postprocess per image at shape (1, 3, 640, 640)\n",
            "\n"
          ]
        },
        {
          "output_type": "stream",
          "name": "stdout",
          "text": [
            "[]\n"
          ]
        },
        {
          "output_type": "stream",
          "name": "stderr",
          "text": [
            "image 1/1 /content/drive/MyDrive/Trabajo_final_VIU/YOLOV8/Dataset/test/images/imagen665-4.jpg: 640x640 1 ['Osteophytos'], 8.5ms\n",
            "Speed: 3.9ms preprocess, 8.5ms inference, 1.7ms postprocess per image at shape (1, 3, 640, 640)\n",
            "\n"
          ]
        },
        {
          "output_type": "stream",
          "name": "stdout",
          "text": [
            "[0]\n"
          ]
        },
        {
          "output_type": "stream",
          "name": "stderr",
          "text": [
            "image 1/1 /content/drive/MyDrive/Trabajo_final_VIU/YOLOV8/Dataset/test/images/imagen665-6.jpg: 640x640 2 ['Osteophytos']s, 8.6ms\n",
            "Speed: 2.0ms preprocess, 8.6ms inference, 1.8ms postprocess per image at shape (1, 3, 640, 640)\n",
            "\n"
          ]
        },
        {
          "output_type": "stream",
          "name": "stdout",
          "text": [
            "[0 0]\n"
          ]
        },
        {
          "output_type": "stream",
          "name": "stderr",
          "text": [
            "image 1/1 /content/drive/MyDrive/Trabajo_final_VIU/YOLOV8/Dataset/test/images/imagen666-3.jpg: 640x640 (no detections), 7.4ms\n",
            "Speed: 1.6ms preprocess, 7.4ms inference, 0.7ms postprocess per image at shape (1, 3, 640, 640)\n",
            "\n"
          ]
        },
        {
          "output_type": "stream",
          "name": "stdout",
          "text": [
            "[]\n"
          ]
        },
        {
          "output_type": "stream",
          "name": "stderr",
          "text": [
            "image 1/1 /content/drive/MyDrive/Trabajo_final_VIU/YOLOV8/Dataset/test/images/imagen667-13.jpg: 640x640 2 ['Osteophytos']s, 7.4ms\n",
            "Speed: 1.8ms preprocess, 7.4ms inference, 1.4ms postprocess per image at shape (1, 3, 640, 640)\n",
            "\n"
          ]
        },
        {
          "output_type": "stream",
          "name": "stdout",
          "text": [
            "[0 0]\n"
          ]
        },
        {
          "output_type": "stream",
          "name": "stderr",
          "text": [
            "image 1/1 /content/drive/MyDrive/Trabajo_final_VIU/YOLOV8/Dataset/test/images/imagen668-6.jpg: 640x448 (no detections), 11.3ms\n",
            "Speed: 1.4ms preprocess, 11.3ms inference, 0.7ms postprocess per image at shape (1, 3, 640, 448)\n",
            "\n"
          ]
        },
        {
          "output_type": "stream",
          "name": "stdout",
          "text": [
            "[]\n"
          ]
        },
        {
          "output_type": "stream",
          "name": "stderr",
          "text": [
            "image 1/1 /content/drive/MyDrive/Trabajo_final_VIU/YOLOV8/Dataset/test/images/imagen668-9.jpg: 640x448 (no detections), 6.6ms\n",
            "Speed: 1.4ms preprocess, 6.6ms inference, 0.8ms postprocess per image at shape (1, 3, 640, 448)\n",
            "\n"
          ]
        },
        {
          "output_type": "stream",
          "name": "stdout",
          "text": [
            "[]\n"
          ]
        },
        {
          "output_type": "stream",
          "name": "stderr",
          "text": [
            "image 1/1 /content/drive/MyDrive/Trabajo_final_VIU/YOLOV8/Dataset/test/images/imagen669-8.jpg: 640x640 3 ['Osteophytos']s, 8.2ms\n",
            "Speed: 1.7ms preprocess, 8.2ms inference, 1.4ms postprocess per image at shape (1, 3, 640, 640)\n",
            "\n"
          ]
        },
        {
          "output_type": "stream",
          "name": "stdout",
          "text": [
            "[0 0 0]\n"
          ]
        },
        {
          "output_type": "stream",
          "name": "stderr",
          "text": [
            "image 1/1 /content/drive/MyDrive/Trabajo_final_VIU/YOLOV8/Dataset/test/images/imagen67-6.jpg: 640x352 2 ['Osteophytos']s, 7.3ms\n",
            "Speed: 1.4ms preprocess, 7.3ms inference, 1.4ms postprocess per image at shape (1, 3, 640, 352)\n",
            "\n"
          ]
        },
        {
          "output_type": "stream",
          "name": "stdout",
          "text": [
            "[0 0]\n"
          ]
        },
        {
          "output_type": "stream",
          "name": "stderr",
          "text": [
            "image 1/1 /content/drive/MyDrive/Trabajo_final_VIU/YOLOV8/Dataset/test/images/imagen670-6.jpg: 640x576 3 ['Osteophytos']s, 8.0ms\n",
            "Speed: 1.6ms preprocess, 8.0ms inference, 1.3ms postprocess per image at shape (1, 3, 640, 576)\n",
            "\n"
          ]
        },
        {
          "output_type": "stream",
          "name": "stdout",
          "text": [
            "[0 0 0]\n"
          ]
        },
        {
          "output_type": "stream",
          "name": "stderr",
          "text": [
            "image 1/1 /content/drive/MyDrive/Trabajo_final_VIU/YOLOV8/Dataset/test/images/imagen671-13.jpg: 640x640 (no detections), 8.0ms\n",
            "Speed: 1.8ms preprocess, 8.0ms inference, 0.7ms postprocess per image at shape (1, 3, 640, 640)\n",
            "\n"
          ]
        },
        {
          "output_type": "stream",
          "name": "stdout",
          "text": [
            "[]\n"
          ]
        },
        {
          "output_type": "stream",
          "name": "stderr",
          "text": [
            "image 1/1 /content/drive/MyDrive/Trabajo_final_VIU/YOLOV8/Dataset/test/images/imagen671-18.jpg: 640x640 (no detections), 7.4ms\n",
            "Speed: 1.6ms preprocess, 7.4ms inference, 0.8ms postprocess per image at shape (1, 3, 640, 640)\n",
            "\n"
          ]
        },
        {
          "output_type": "stream",
          "name": "stdout",
          "text": [
            "[]\n"
          ]
        },
        {
          "output_type": "stream",
          "name": "stderr",
          "text": [
            "image 1/1 /content/drive/MyDrive/Trabajo_final_VIU/YOLOV8/Dataset/test/images/imagen672-15.jpg: 640x640 1 ['Osteophytos'], 7.4ms\n",
            "Speed: 1.7ms preprocess, 7.4ms inference, 1.3ms postprocess per image at shape (1, 3, 640, 640)\n",
            "\n"
          ]
        },
        {
          "output_type": "stream",
          "name": "stdout",
          "text": [
            "[0]\n"
          ]
        },
        {
          "output_type": "stream",
          "name": "stderr",
          "text": [
            "image 1/1 /content/drive/MyDrive/Trabajo_final_VIU/YOLOV8/Dataset/test/images/imagen673-10.jpg: 608x640 (no detections), 8.1ms\n",
            "Speed: 1.7ms preprocess, 8.1ms inference, 0.7ms postprocess per image at shape (1, 3, 608, 640)\n",
            "\n"
          ]
        },
        {
          "output_type": "stream",
          "name": "stdout",
          "text": [
            "[]\n"
          ]
        },
        {
          "output_type": "stream",
          "name": "stderr",
          "text": [
            "image 1/1 /content/drive/MyDrive/Trabajo_final_VIU/YOLOV8/Dataset/test/images/imagen673-16.jpg: 480x640 1 ['Osteophytos'], 9.2ms\n",
            "Speed: 1.7ms preprocess, 9.2ms inference, 1.7ms postprocess per image at shape (1, 3, 480, 640)\n",
            "\n"
          ]
        },
        {
          "output_type": "stream",
          "name": "stdout",
          "text": [
            "[0]\n"
          ]
        },
        {
          "output_type": "stream",
          "name": "stderr",
          "text": [
            "image 1/1 /content/drive/MyDrive/Trabajo_final_VIU/YOLOV8/Dataset/test/images/imagen673-22.jpg: 640x640 (no detections), 12.9ms\n",
            "Speed: 2.0ms preprocess, 12.9ms inference, 0.9ms postprocess per image at shape (1, 3, 640, 640)\n",
            "\n"
          ]
        },
        {
          "output_type": "stream",
          "name": "stdout",
          "text": [
            "[]\n"
          ]
        },
        {
          "output_type": "stream",
          "name": "stderr",
          "text": [
            "image 1/1 /content/drive/MyDrive/Trabajo_final_VIU/YOLOV8/Dataset/test/images/imagen673-9.jpg: 640x384 (no detections), 9.2ms\n",
            "Speed: 2.5ms preprocess, 9.2ms inference, 0.8ms postprocess per image at shape (1, 3, 640, 384)\n",
            "\n"
          ]
        },
        {
          "output_type": "stream",
          "name": "stdout",
          "text": [
            "[]\n"
          ]
        },
        {
          "output_type": "stream",
          "name": "stderr",
          "text": [
            "image 1/1 /content/drive/MyDrive/Trabajo_final_VIU/YOLOV8/Dataset/test/images/imagen674-8.jpg: 640x640 1 ['Osteophytos'], 8.2ms\n",
            "Speed: 1.6ms preprocess, 8.2ms inference, 1.3ms postprocess per image at shape (1, 3, 640, 640)\n",
            "\n"
          ]
        },
        {
          "output_type": "stream",
          "name": "stdout",
          "text": [
            "[0]\n"
          ]
        },
        {
          "output_type": "stream",
          "name": "stderr",
          "text": [
            "image 1/1 /content/drive/MyDrive/Trabajo_final_VIU/YOLOV8/Dataset/test/images/imagen675-5.jpg: 640x640 1 ['Osteophytos'], 7.5ms\n",
            "Speed: 1.6ms preprocess, 7.5ms inference, 1.4ms postprocess per image at shape (1, 3, 640, 640)\n",
            "\n"
          ]
        },
        {
          "output_type": "stream",
          "name": "stdout",
          "text": [
            "[0]\n"
          ]
        },
        {
          "output_type": "stream",
          "name": "stderr",
          "text": [
            "image 1/1 /content/drive/MyDrive/Trabajo_final_VIU/YOLOV8/Dataset/test/images/imagen676-11.jpg: 640x640 3 ['Osteophytos']s, 7.4ms\n",
            "Speed: 1.6ms preprocess, 7.4ms inference, 1.4ms postprocess per image at shape (1, 3, 640, 640)\n",
            "\n"
          ]
        },
        {
          "output_type": "stream",
          "name": "stdout",
          "text": [
            "[0 0 0]\n"
          ]
        },
        {
          "output_type": "stream",
          "name": "stderr",
          "text": [
            "image 1/1 /content/drive/MyDrive/Trabajo_final_VIU/YOLOV8/Dataset/test/images/imagen677-6.jpg: 640x576 (no detections), 8.0ms\n",
            "Speed: 2.6ms preprocess, 8.0ms inference, 0.7ms postprocess per image at shape (1, 3, 640, 576)\n",
            "\n"
          ]
        },
        {
          "output_type": "stream",
          "name": "stdout",
          "text": [
            "[]\n"
          ]
        },
        {
          "output_type": "stream",
          "name": "stderr",
          "text": [
            "image 1/1 /content/drive/MyDrive/Trabajo_final_VIU/YOLOV8/Dataset/test/images/imagen677-8.jpg: 640x576 1 ['Osteophytos'], 7.3ms\n",
            "Speed: 1.6ms preprocess, 7.3ms inference, 1.4ms postprocess per image at shape (1, 3, 640, 576)\n",
            "\n"
          ]
        },
        {
          "output_type": "stream",
          "name": "stdout",
          "text": [
            "[0]\n"
          ]
        },
        {
          "output_type": "stream",
          "name": "stderr",
          "text": [
            "image 1/1 /content/drive/MyDrive/Trabajo_final_VIU/YOLOV8/Dataset/test/images/imagen678-15.jpg: 640x640 2 ['Osteophytos']s, 8.1ms\n",
            "Speed: 1.6ms preprocess, 8.1ms inference, 1.3ms postprocess per image at shape (1, 3, 640, 640)\n",
            "\n"
          ]
        },
        {
          "output_type": "stream",
          "name": "stdout",
          "text": [
            "[0 0]\n"
          ]
        },
        {
          "output_type": "stream",
          "name": "stderr",
          "text": [
            "image 1/1 /content/drive/MyDrive/Trabajo_final_VIU/YOLOV8/Dataset/test/images/imagen679-11.jpg: 640x640 2 ['Osteophytos']s, 7.4ms\n",
            "Speed: 1.6ms preprocess, 7.4ms inference, 1.4ms postprocess per image at shape (1, 3, 640, 640)\n",
            "\n"
          ]
        },
        {
          "output_type": "stream",
          "name": "stdout",
          "text": [
            "[0 0]\n"
          ]
        },
        {
          "output_type": "stream",
          "name": "stderr",
          "text": [
            "image 1/1 /content/drive/MyDrive/Trabajo_final_VIU/YOLOV8/Dataset/test/images/imagen68-22.jpg: 640x640 2 ['Osteophytos']s, 7.7ms\n",
            "Speed: 1.7ms preprocess, 7.7ms inference, 1.4ms postprocess per image at shape (1, 3, 640, 640)\n",
            "\n"
          ]
        },
        {
          "output_type": "stream",
          "name": "stdout",
          "text": [
            "[0 0]\n"
          ]
        },
        {
          "output_type": "stream",
          "name": "stderr",
          "text": [
            "image 1/1 /content/drive/MyDrive/Trabajo_final_VIU/YOLOV8/Dataset/test/images/imagen680-11.jpg: 640x640 1 ['Osteophytos'], 7.4ms\n",
            "Speed: 1.7ms preprocess, 7.4ms inference, 1.4ms postprocess per image at shape (1, 3, 640, 640)\n",
            "\n"
          ]
        },
        {
          "output_type": "stream",
          "name": "stdout",
          "text": [
            "[0]\n"
          ]
        },
        {
          "output_type": "stream",
          "name": "stderr",
          "text": [
            "image 1/1 /content/drive/MyDrive/Trabajo_final_VIU/YOLOV8/Dataset/test/images/imagen681-10.jpg: 640x640 2 ['Osteophytos']s, 7.5ms\n",
            "Speed: 1.7ms preprocess, 7.5ms inference, 1.7ms postprocess per image at shape (1, 3, 640, 640)\n",
            "\n"
          ]
        },
        {
          "output_type": "stream",
          "name": "stdout",
          "text": [
            "[0 0]\n"
          ]
        },
        {
          "output_type": "stream",
          "name": "stderr",
          "text": [
            "image 1/1 /content/drive/MyDrive/Trabajo_final_VIU/YOLOV8/Dataset/test/images/imagen682-3.jpg: 640x640 2 ['Osteophytos']s, 7.4ms\n",
            "Speed: 1.7ms preprocess, 7.4ms inference, 1.5ms postprocess per image at shape (1, 3, 640, 640)\n",
            "\n"
          ]
        },
        {
          "output_type": "stream",
          "name": "stdout",
          "text": [
            "[0 0]\n"
          ]
        },
        {
          "output_type": "stream",
          "name": "stderr",
          "text": [
            "image 1/1 /content/drive/MyDrive/Trabajo_final_VIU/YOLOV8/Dataset/test/images/imagen683-4.jpg: 640x384 (no detections), 9.2ms\n",
            "Speed: 1.6ms preprocess, 9.2ms inference, 0.9ms postprocess per image at shape (1, 3, 640, 384)\n",
            "\n"
          ]
        },
        {
          "output_type": "stream",
          "name": "stdout",
          "text": [
            "[]\n"
          ]
        },
        {
          "output_type": "stream",
          "name": "stderr",
          "text": [
            "image 1/1 /content/drive/MyDrive/Trabajo_final_VIU/YOLOV8/Dataset/test/images/imagen684-11.jpg: 640x640 (no detections), 9.2ms\n",
            "Speed: 1.7ms preprocess, 9.2ms inference, 0.9ms postprocess per image at shape (1, 3, 640, 640)\n",
            "\n"
          ]
        },
        {
          "output_type": "stream",
          "name": "stdout",
          "text": [
            "[]\n"
          ]
        },
        {
          "output_type": "stream",
          "name": "stderr",
          "text": [
            "image 1/1 /content/drive/MyDrive/Trabajo_final_VIU/YOLOV8/Dataset/test/images/imagen684-8.jpg: 640x640 (no detections), 9.0ms\n",
            "Speed: 1.9ms preprocess, 9.0ms inference, 1.0ms postprocess per image at shape (1, 3, 640, 640)\n",
            "\n"
          ]
        },
        {
          "output_type": "stream",
          "name": "stdout",
          "text": [
            "[]\n"
          ]
        },
        {
          "output_type": "stream",
          "name": "stderr",
          "text": [
            "image 1/1 /content/drive/MyDrive/Trabajo_final_VIU/YOLOV8/Dataset/test/images/imagen685-5.jpg: 640x640 2 ['Osteophytos']s, 8.8ms\n",
            "Speed: 1.6ms preprocess, 8.8ms inference, 1.4ms postprocess per image at shape (1, 3, 640, 640)\n",
            "\n"
          ]
        },
        {
          "output_type": "stream",
          "name": "stdout",
          "text": [
            "[0 0]\n"
          ]
        },
        {
          "output_type": "stream",
          "name": "stderr",
          "text": [
            "image 1/1 /content/drive/MyDrive/Trabajo_final_VIU/YOLOV8/Dataset/test/images/imagen685-6.jpg: 640x416 (no detections), 7.3ms\n",
            "Speed: 1.4ms preprocess, 7.3ms inference, 0.7ms postprocess per image at shape (1, 3, 640, 416)\n",
            "\n"
          ]
        },
        {
          "output_type": "stream",
          "name": "stdout",
          "text": [
            "[]\n"
          ]
        },
        {
          "output_type": "stream",
          "name": "stderr",
          "text": [
            "image 1/1 /content/drive/MyDrive/Trabajo_final_VIU/YOLOV8/Dataset/test/images/imagen686-3.jpg: 640x640 1 ['Osteophytos'], 8.2ms\n",
            "Speed: 1.7ms preprocess, 8.2ms inference, 1.3ms postprocess per image at shape (1, 3, 640, 640)\n",
            "\n"
          ]
        },
        {
          "output_type": "stream",
          "name": "stdout",
          "text": [
            "[0]\n"
          ]
        },
        {
          "output_type": "stream",
          "name": "stderr",
          "text": [
            "image 1/1 /content/drive/MyDrive/Trabajo_final_VIU/YOLOV8/Dataset/test/images/imagen686-5.jpg: 640x640 1 ['Osteophytos'], 7.4ms\n",
            "Speed: 1.6ms preprocess, 7.4ms inference, 1.4ms postprocess per image at shape (1, 3, 640, 640)\n",
            "\n"
          ]
        },
        {
          "output_type": "stream",
          "name": "stdout",
          "text": [
            "[0]\n"
          ]
        },
        {
          "output_type": "stream",
          "name": "stderr",
          "text": [
            "image 1/1 /content/drive/MyDrive/Trabajo_final_VIU/YOLOV8/Dataset/test/images/imagen687-4.jpg: 640x640 (no detections), 7.4ms\n",
            "Speed: 1.7ms preprocess, 7.4ms inference, 0.8ms postprocess per image at shape (1, 3, 640, 640)\n",
            "\n"
          ]
        },
        {
          "output_type": "stream",
          "name": "stdout",
          "text": [
            "[]\n"
          ]
        },
        {
          "output_type": "stream",
          "name": "stderr",
          "text": [
            "image 1/1 /content/drive/MyDrive/Trabajo_final_VIU/YOLOV8/Dataset/test/images/imagen687-8.jpg: 640x640 (no detections), 7.4ms\n",
            "Speed: 1.8ms preprocess, 7.4ms inference, 0.8ms postprocess per image at shape (1, 3, 640, 640)\n",
            "\n"
          ]
        },
        {
          "output_type": "stream",
          "name": "stdout",
          "text": [
            "[]\n"
          ]
        },
        {
          "output_type": "stream",
          "name": "stderr",
          "text": [
            "image 1/1 /content/drive/MyDrive/Trabajo_final_VIU/YOLOV8/Dataset/test/images/imagen688-2.jpg: 640x640 (no detections), 11.2ms\n",
            "Speed: 2.0ms preprocess, 11.2ms inference, 0.8ms postprocess per image at shape (1, 3, 640, 640)\n",
            "\n"
          ]
        },
        {
          "output_type": "stream",
          "name": "stdout",
          "text": [
            "[]\n"
          ]
        },
        {
          "output_type": "stream",
          "name": "stderr",
          "text": [
            "image 1/1 /content/drive/MyDrive/Trabajo_final_VIU/YOLOV8/Dataset/test/images/imagen688-4.jpg: 640x640 (no detections), 9.8ms\n",
            "Speed: 2.1ms preprocess, 9.8ms inference, 0.7ms postprocess per image at shape (1, 3, 640, 640)\n",
            "\n"
          ]
        },
        {
          "output_type": "stream",
          "name": "stdout",
          "text": [
            "[]\n"
          ]
        },
        {
          "output_type": "stream",
          "name": "stderr",
          "text": [
            "image 1/1 /content/drive/MyDrive/Trabajo_final_VIU/YOLOV8/Dataset/test/images/imagen688-6.jpg: 640x640 (no detections), 7.4ms\n",
            "Speed: 1.8ms preprocess, 7.4ms inference, 0.7ms postprocess per image at shape (1, 3, 640, 640)\n",
            "\n"
          ]
        },
        {
          "output_type": "stream",
          "name": "stdout",
          "text": [
            "[]\n"
          ]
        },
        {
          "output_type": "stream",
          "name": "stderr",
          "text": [
            "image 1/1 /content/drive/MyDrive/Trabajo_final_VIU/YOLOV8/Dataset/test/images/imagen689-10.jpg: 320x640 (no detections), 7.5ms\n",
            "Speed: 1.2ms preprocess, 7.5ms inference, 0.7ms postprocess per image at shape (1, 3, 320, 640)\n",
            "\n"
          ]
        },
        {
          "output_type": "stream",
          "name": "stdout",
          "text": [
            "[]\n"
          ]
        },
        {
          "output_type": "stream",
          "name": "stderr",
          "text": [
            "image 1/1 /content/drive/MyDrive/Trabajo_final_VIU/YOLOV8/Dataset/test/images/imagen689-14.jpg: 640x640 2 ['Osteophytos']s, 8.1ms\n",
            "Speed: 1.7ms preprocess, 8.1ms inference, 1.4ms postprocess per image at shape (1, 3, 640, 640)\n",
            "\n"
          ]
        },
        {
          "output_type": "stream",
          "name": "stdout",
          "text": [
            "[0 0]\n"
          ]
        },
        {
          "output_type": "stream",
          "name": "stderr",
          "text": [
            "image 1/1 /content/drive/MyDrive/Trabajo_final_VIU/YOLOV8/Dataset/test/images/imagen689-6.jpg: 640x640 1 ['Osteophytos'], 8.5ms\n",
            "Speed: 1.9ms preprocess, 8.5ms inference, 2.0ms postprocess per image at shape (1, 3, 640, 640)\n",
            "\n"
          ]
        },
        {
          "output_type": "stream",
          "name": "stdout",
          "text": [
            "[0]\n"
          ]
        },
        {
          "output_type": "stream",
          "name": "stderr",
          "text": [
            "image 1/1 /content/drive/MyDrive/Trabajo_final_VIU/YOLOV8/Dataset/test/images/imagen69-1.jpg: 640x640 1 ['Osteophytos'], 10.4ms\n",
            "Speed: 3.7ms preprocess, 10.4ms inference, 1.8ms postprocess per image at shape (1, 3, 640, 640)\n",
            "\n"
          ]
        },
        {
          "output_type": "stream",
          "name": "stdout",
          "text": [
            "[0]\n"
          ]
        },
        {
          "output_type": "stream",
          "name": "stderr",
          "text": [
            "image 1/1 /content/drive/MyDrive/Trabajo_final_VIU/YOLOV8/Dataset/test/images/imagen69-3.jpg: 640x640 5 ['Osteophytos']s, 8.9ms\n",
            "Speed: 1.9ms preprocess, 8.9ms inference, 1.8ms postprocess per image at shape (1, 3, 640, 640)\n",
            "\n"
          ]
        },
        {
          "output_type": "stream",
          "name": "stdout",
          "text": [
            "[0 0 0 0 0]\n"
          ]
        },
        {
          "output_type": "stream",
          "name": "stderr",
          "text": [
            "image 1/1 /content/drive/MyDrive/Trabajo_final_VIU/YOLOV8/Dataset/test/images/imagen690-11.jpg: 640x640 1 ['Osteophytos'], 7.4ms\n",
            "Speed: 1.6ms preprocess, 7.4ms inference, 1.3ms postprocess per image at shape (1, 3, 640, 640)\n",
            "\n"
          ]
        },
        {
          "output_type": "stream",
          "name": "stdout",
          "text": [
            "[0]\n"
          ]
        },
        {
          "output_type": "stream",
          "name": "stderr",
          "text": [
            "image 1/1 /content/drive/MyDrive/Trabajo_final_VIU/YOLOV8/Dataset/test/images/imagen691-11.jpg: 640x640 3 ['Osteophytos']s, 7.4ms\n",
            "Speed: 1.6ms preprocess, 7.4ms inference, 1.5ms postprocess per image at shape (1, 3, 640, 640)\n",
            "\n"
          ]
        },
        {
          "output_type": "stream",
          "name": "stdout",
          "text": [
            "[0 0 0]\n"
          ]
        },
        {
          "output_type": "stream",
          "name": "stderr",
          "text": [
            "image 1/1 /content/drive/MyDrive/Trabajo_final_VIU/YOLOV8/Dataset/test/images/imagen691-7.jpg: 608x640 3 ['Osteophytos']s, 8.1ms\n",
            "Speed: 1.7ms preprocess, 8.1ms inference, 1.4ms postprocess per image at shape (1, 3, 608, 640)\n",
            "\n"
          ]
        },
        {
          "output_type": "stream",
          "name": "stdout",
          "text": [
            "[0 0 0]\n"
          ]
        },
        {
          "output_type": "stream",
          "name": "stderr",
          "text": [
            "image 1/1 /content/drive/MyDrive/Trabajo_final_VIU/YOLOV8/Dataset/test/images/imagen692-3.jpg: 640x608 3 ['Osteophytos']s, 8.5ms\n",
            "Speed: 1.8ms preprocess, 8.5ms inference, 1.3ms postprocess per image at shape (1, 3, 640, 608)\n",
            "\n"
          ]
        },
        {
          "output_type": "stream",
          "name": "stdout",
          "text": [
            "[0 0 0]\n"
          ]
        },
        {
          "output_type": "stream",
          "name": "stderr",
          "text": [
            "image 1/1 /content/drive/MyDrive/Trabajo_final_VIU/YOLOV8/Dataset/test/images/imagen692-4.jpg: 640x576 3 ['Osteophytos']s, 7.9ms\n",
            "Speed: 1.6ms preprocess, 7.9ms inference, 1.4ms postprocess per image at shape (1, 3, 640, 576)\n",
            "\n"
          ]
        },
        {
          "output_type": "stream",
          "name": "stdout",
          "text": [
            "[0 0 0]\n"
          ]
        },
        {
          "output_type": "stream",
          "name": "stderr",
          "text": [
            "image 1/1 /content/drive/MyDrive/Trabajo_final_VIU/YOLOV8/Dataset/test/images/imagen692-5.jpg: 640x608 4 ['Osteophytos']s, 8.0ms\n",
            "Speed: 1.8ms preprocess, 8.0ms inference, 1.3ms postprocess per image at shape (1, 3, 640, 608)\n",
            "\n"
          ]
        },
        {
          "output_type": "stream",
          "name": "stdout",
          "text": [
            "[0 0 0 0]\n"
          ]
        },
        {
          "output_type": "stream",
          "name": "stderr",
          "text": [
            "image 1/1 /content/drive/MyDrive/Trabajo_final_VIU/YOLOV8/Dataset/test/images/imagen692-6.jpg: 640x576 5 ['Osteophytos']s, 7.9ms\n",
            "Speed: 1.5ms preprocess, 7.9ms inference, 1.4ms postprocess per image at shape (1, 3, 640, 576)\n",
            "\n"
          ]
        },
        {
          "output_type": "stream",
          "name": "stdout",
          "text": [
            "[0 0 0 0 0]\n"
          ]
        },
        {
          "output_type": "stream",
          "name": "stderr",
          "text": [
            "image 1/1 /content/drive/MyDrive/Trabajo_final_VIU/YOLOV8/Dataset/test/images/imagen693-10.jpg: 640x608 1 ['Osteophytos'], 10.3ms\n",
            "Speed: 2.2ms preprocess, 10.3ms inference, 1.5ms postprocess per image at shape (1, 3, 640, 608)\n",
            "\n"
          ]
        },
        {
          "output_type": "stream",
          "name": "stdout",
          "text": [
            "[0]\n"
          ]
        },
        {
          "output_type": "stream",
          "name": "stderr",
          "text": [
            "image 1/1 /content/drive/MyDrive/Trabajo_final_VIU/YOLOV8/Dataset/test/images/imagen693-4.jpg: 640x608 (no detections), 7.3ms\n",
            "Speed: 1.7ms preprocess, 7.3ms inference, 0.8ms postprocess per image at shape (1, 3, 640, 608)\n",
            "\n"
          ]
        },
        {
          "output_type": "stream",
          "name": "stdout",
          "text": [
            "[]\n"
          ]
        },
        {
          "output_type": "stream",
          "name": "stderr",
          "text": [
            "image 1/1 /content/drive/MyDrive/Trabajo_final_VIU/YOLOV8/Dataset/test/images/imagen693-6.jpg: 288x640 1 ['Osteophytos'], 54.9ms\n",
            "Speed: 1.9ms preprocess, 54.9ms inference, 1.3ms postprocess per image at shape (1, 3, 288, 640)\n",
            "\n"
          ]
        },
        {
          "output_type": "stream",
          "name": "stdout",
          "text": [
            "[0]\n"
          ]
        },
        {
          "output_type": "stream",
          "name": "stderr",
          "text": [
            "image 1/1 /content/drive/MyDrive/Trabajo_final_VIU/YOLOV8/Dataset/test/images/imagen693-7.jpg: 608x640 (no detections), 12.1ms\n",
            "Speed: 3.1ms preprocess, 12.1ms inference, 1.3ms postprocess per image at shape (1, 3, 608, 640)\n",
            "\n"
          ]
        },
        {
          "output_type": "stream",
          "name": "stdout",
          "text": [
            "[]\n"
          ]
        },
        {
          "output_type": "stream",
          "name": "stderr",
          "text": [
            "image 1/1 /content/drive/MyDrive/Trabajo_final_VIU/YOLOV8/Dataset/test/images/imagen693-8.jpg: 544x640 4 ['Osteophytos']s, 10.8ms\n",
            "Speed: 3.5ms preprocess, 10.8ms inference, 1.7ms postprocess per image at shape (1, 3, 544, 640)\n",
            "\n"
          ]
        },
        {
          "output_type": "stream",
          "name": "stdout",
          "text": [
            "[0 0 0 0]\n"
          ]
        },
        {
          "output_type": "stream",
          "name": "stderr",
          "text": [
            "image 1/1 /content/drive/MyDrive/Trabajo_final_VIU/YOLOV8/Dataset/test/images/imagen694-14.jpg: 640x640 2 ['Osteophytos']s, 8.2ms\n",
            "Speed: 2.5ms preprocess, 8.2ms inference, 1.4ms postprocess per image at shape (1, 3, 640, 640)\n",
            "\n"
          ]
        },
        {
          "output_type": "stream",
          "name": "stdout",
          "text": [
            "[0 0]\n"
          ]
        },
        {
          "output_type": "stream",
          "name": "stderr",
          "text": [
            "image 1/1 /content/drive/MyDrive/Trabajo_final_VIU/YOLOV8/Dataset/test/images/imagen694-19.jpg: 640x640 (no detections), 8.9ms\n",
            "Speed: 1.7ms preprocess, 8.9ms inference, 0.7ms postprocess per image at shape (1, 3, 640, 640)\n",
            "\n"
          ]
        },
        {
          "output_type": "stream",
          "name": "stdout",
          "text": [
            "[]\n"
          ]
        },
        {
          "output_type": "stream",
          "name": "stderr",
          "text": [
            "image 1/1 /content/drive/MyDrive/Trabajo_final_VIU/YOLOV8/Dataset/test/images/imagen695-12.jpg: 640x384 (no detections), 7.2ms\n",
            "Speed: 1.4ms preprocess, 7.2ms inference, 0.7ms postprocess per image at shape (1, 3, 640, 384)\n",
            "\n"
          ]
        },
        {
          "output_type": "stream",
          "name": "stdout",
          "text": [
            "[]\n"
          ]
        },
        {
          "output_type": "stream",
          "name": "stderr",
          "text": [
            "image 1/1 /content/drive/MyDrive/Trabajo_final_VIU/YOLOV8/Dataset/test/images/imagen695-6.jpg: 640x512 1 ['Osteophytos'], 7.1ms\n",
            "Speed: 2.7ms preprocess, 7.1ms inference, 1.4ms postprocess per image at shape (1, 3, 640, 512)\n",
            "\n"
          ]
        },
        {
          "output_type": "stream",
          "name": "stdout",
          "text": [
            "[0]\n"
          ]
        },
        {
          "output_type": "stream",
          "name": "stderr",
          "text": [
            "image 1/1 /content/drive/MyDrive/Trabajo_final_VIU/YOLOV8/Dataset/test/images/imagen695-9.jpg: 640x384 3 ['Osteophytos']s, 7.4ms\n",
            "Speed: 1.3ms preprocess, 7.4ms inference, 1.4ms postprocess per image at shape (1, 3, 640, 384)\n",
            "\n"
          ]
        },
        {
          "output_type": "stream",
          "name": "stdout",
          "text": [
            "[0 0 0]\n"
          ]
        },
        {
          "output_type": "stream",
          "name": "stderr",
          "text": [
            "image 1/1 /content/drive/MyDrive/Trabajo_final_VIU/YOLOV8/Dataset/test/images/imagen696-7.jpg: 640x640 2 ['Osteophytos']s, 8.1ms\n",
            "Speed: 1.7ms preprocess, 8.1ms inference, 1.3ms postprocess per image at shape (1, 3, 640, 640)\n",
            "\n"
          ]
        },
        {
          "output_type": "stream",
          "name": "stdout",
          "text": [
            "[0 0]\n"
          ]
        },
        {
          "output_type": "stream",
          "name": "stderr",
          "text": [
            "image 1/1 /content/drive/MyDrive/Trabajo_final_VIU/YOLOV8/Dataset/test/images/imagen696-8.jpg: 640x640 3 ['Osteophytos']s, 7.4ms\n",
            "Speed: 1.6ms preprocess, 7.4ms inference, 1.3ms postprocess per image at shape (1, 3, 640, 640)\n",
            "\n"
          ]
        },
        {
          "output_type": "stream",
          "name": "stdout",
          "text": [
            "[0 0 0]\n"
          ]
        },
        {
          "output_type": "stream",
          "name": "stderr",
          "text": [
            "image 1/1 /content/drive/MyDrive/Trabajo_final_VIU/YOLOV8/Dataset/test/images/imagen697-3.jpg: 640x640 7 ['Osteophytos']s, 7.4ms\n",
            "Speed: 1.8ms preprocess, 7.4ms inference, 1.4ms postprocess per image at shape (1, 3, 640, 640)\n",
            "\n"
          ]
        },
        {
          "output_type": "stream",
          "name": "stdout",
          "text": [
            "[0 0 0 0 0 0 0]\n"
          ]
        },
        {
          "output_type": "stream",
          "name": "stderr",
          "text": [
            "image 1/1 /content/drive/MyDrive/Trabajo_final_VIU/YOLOV8/Dataset/test/images/imagen698-5.jpg: 640x640 (no detections), 7.7ms\n",
            "Speed: 1.6ms preprocess, 7.7ms inference, 0.7ms postprocess per image at shape (1, 3, 640, 640)\n",
            "\n"
          ]
        },
        {
          "output_type": "stream",
          "name": "stdout",
          "text": [
            "[]\n"
          ]
        },
        {
          "output_type": "stream",
          "name": "stderr",
          "text": [
            "image 1/1 /content/drive/MyDrive/Trabajo_final_VIU/YOLOV8/Dataset/test/images/imagen699-4.jpg: 640x544 3 ['Osteophytos']s, 7.9ms\n",
            "Speed: 1.6ms preprocess, 7.9ms inference, 1.5ms postprocess per image at shape (1, 3, 640, 544)\n",
            "\n"
          ]
        },
        {
          "output_type": "stream",
          "name": "stdout",
          "text": [
            "[0 0 0]\n"
          ]
        },
        {
          "output_type": "stream",
          "name": "stderr",
          "text": [
            "image 1/1 /content/drive/MyDrive/Trabajo_final_VIU/YOLOV8/Dataset/test/images/imagen7-8.jpg: 640x640 (no detections), 8.1ms\n",
            "Speed: 1.7ms preprocess, 8.1ms inference, 0.7ms postprocess per image at shape (1, 3, 640, 640)\n",
            "\n"
          ]
        },
        {
          "output_type": "stream",
          "name": "stdout",
          "text": [
            "[]\n"
          ]
        },
        {
          "output_type": "stream",
          "name": "stderr",
          "text": [
            "image 1/1 /content/drive/MyDrive/Trabajo_final_VIU/YOLOV8/Dataset/test/images/imagen70-4.jpg: 640x640 2 ['Osteophytos']s, 8.6ms\n",
            "Speed: 1.9ms preprocess, 8.6ms inference, 1.7ms postprocess per image at shape (1, 3, 640, 640)\n",
            "\n"
          ]
        },
        {
          "output_type": "stream",
          "name": "stdout",
          "text": [
            "[0 0]\n"
          ]
        },
        {
          "output_type": "stream",
          "name": "stderr",
          "text": [
            "image 1/1 /content/drive/MyDrive/Trabajo_final_VIU/YOLOV8/Dataset/test/images/imagen70-6.jpg: 640x640 2 ['Osteophytos']s, 8.9ms\n",
            "Speed: 2.4ms preprocess, 8.9ms inference, 1.7ms postprocess per image at shape (1, 3, 640, 640)\n",
            "\n"
          ]
        },
        {
          "output_type": "stream",
          "name": "stdout",
          "text": [
            "[0 0]\n"
          ]
        },
        {
          "output_type": "stream",
          "name": "stderr",
          "text": [
            "image 1/1 /content/drive/MyDrive/Trabajo_final_VIU/YOLOV8/Dataset/test/images/imagen700-8.jpg: 640x640 (no detections), 13.2ms\n",
            "Speed: 2.0ms preprocess, 13.2ms inference, 1.0ms postprocess per image at shape (1, 3, 640, 640)\n",
            "\n"
          ]
        },
        {
          "output_type": "stream",
          "name": "stdout",
          "text": [
            "[]\n"
          ]
        },
        {
          "output_type": "stream",
          "name": "stderr",
          "text": [
            "image 1/1 /content/drive/MyDrive/Trabajo_final_VIU/YOLOV8/Dataset/test/images/imagen701-5.jpg: 576x640 1 ['Osteophytos'], 8.0ms\n",
            "Speed: 1.6ms preprocess, 8.0ms inference, 1.3ms postprocess per image at shape (1, 3, 576, 640)\n",
            "\n"
          ]
        },
        {
          "output_type": "stream",
          "name": "stdout",
          "text": [
            "[0]\n"
          ]
        },
        {
          "output_type": "stream",
          "name": "stderr",
          "text": [
            "image 1/1 /content/drive/MyDrive/Trabajo_final_VIU/YOLOV8/Dataset/test/images/imagen701-8.jpg: 640x640 (no detections), 8.1ms\n",
            "Speed: 1.6ms preprocess, 8.1ms inference, 0.7ms postprocess per image at shape (1, 3, 640, 640)\n",
            "\n"
          ]
        },
        {
          "output_type": "stream",
          "name": "stdout",
          "text": [
            "[]\n"
          ]
        },
        {
          "output_type": "stream",
          "name": "stderr",
          "text": [
            "image 1/1 /content/drive/MyDrive/Trabajo_final_VIU/YOLOV8/Dataset/test/images/imagen702-3.jpg: 640x640 1 ['Osteophytos'], 7.4ms\n",
            "Speed: 1.7ms preprocess, 7.4ms inference, 1.4ms postprocess per image at shape (1, 3, 640, 640)\n",
            "\n"
          ]
        },
        {
          "output_type": "stream",
          "name": "stdout",
          "text": [
            "[0]\n"
          ]
        },
        {
          "output_type": "stream",
          "name": "stderr",
          "text": [
            "image 1/1 /content/drive/MyDrive/Trabajo_final_VIU/YOLOV8/Dataset/test/images/imagen703-5.jpg: 640x640 2 ['Osteophytos']s, 7.4ms\n",
            "Speed: 1.6ms preprocess, 7.4ms inference, 1.4ms postprocess per image at shape (1, 3, 640, 640)\n",
            "\n"
          ]
        },
        {
          "output_type": "stream",
          "name": "stdout",
          "text": [
            "[0 0]\n"
          ]
        },
        {
          "output_type": "stream",
          "name": "stderr",
          "text": [
            "image 1/1 /content/drive/MyDrive/Trabajo_final_VIU/YOLOV8/Dataset/test/images/imagen704-5.jpg: 640x640 2 ['Osteophytos']s, 14.0ms\n",
            "Speed: 1.6ms preprocess, 14.0ms inference, 1.4ms postprocess per image at shape (1, 3, 640, 640)\n",
            "\n"
          ]
        },
        {
          "output_type": "stream",
          "name": "stdout",
          "text": [
            "[0 0]\n"
          ]
        },
        {
          "output_type": "stream",
          "name": "stderr",
          "text": [
            "image 1/1 /content/drive/MyDrive/Trabajo_final_VIU/YOLOV8/Dataset/test/images/imagen704-6.jpg: 640x640 2 ['Osteophytos']s, 7.4ms\n",
            "Speed: 1.8ms preprocess, 7.4ms inference, 1.4ms postprocess per image at shape (1, 3, 640, 640)\n",
            "\n"
          ]
        },
        {
          "output_type": "stream",
          "name": "stdout",
          "text": [
            "[0 0]\n"
          ]
        },
        {
          "output_type": "stream",
          "name": "stderr",
          "text": [
            "image 1/1 /content/drive/MyDrive/Trabajo_final_VIU/YOLOV8/Dataset/test/images/imagen705-6.jpg: 640x640 (no detections), 7.4ms\n",
            "Speed: 2.8ms preprocess, 7.4ms inference, 0.8ms postprocess per image at shape (1, 3, 640, 640)\n",
            "\n"
          ]
        },
        {
          "output_type": "stream",
          "name": "stdout",
          "text": [
            "[]\n"
          ]
        },
        {
          "output_type": "stream",
          "name": "stderr",
          "text": [
            "image 1/1 /content/drive/MyDrive/Trabajo_final_VIU/YOLOV8/Dataset/test/images/imagen705-8.jpg: 640x512 1 ['Osteophytos'], 6.9ms\n",
            "Speed: 1.4ms preprocess, 6.9ms inference, 1.2ms postprocess per image at shape (1, 3, 640, 512)\n",
            "\n"
          ]
        },
        {
          "output_type": "stream",
          "name": "stdout",
          "text": [
            "[0]\n"
          ]
        },
        {
          "output_type": "stream",
          "name": "stderr",
          "text": [
            "image 1/1 /content/drive/MyDrive/Trabajo_final_VIU/YOLOV8/Dataset/test/images/imagen706-5.jpg: 512x640 1 ['Osteophytos'], 7.2ms\n",
            "Speed: 1.4ms preprocess, 7.2ms inference, 1.3ms postprocess per image at shape (1, 3, 512, 640)\n",
            "\n"
          ]
        },
        {
          "output_type": "stream",
          "name": "stdout",
          "text": [
            "[0]\n"
          ]
        },
        {
          "output_type": "stream",
          "name": "stderr",
          "text": [
            "image 1/1 /content/drive/MyDrive/Trabajo_final_VIU/YOLOV8/Dataset/test/images/imagen707-1.jpg: 640x640 (no detections), 10.1ms\n",
            "Speed: 2.0ms preprocess, 10.1ms inference, 1.0ms postprocess per image at shape (1, 3, 640, 640)\n",
            "\n"
          ]
        },
        {
          "output_type": "stream",
          "name": "stdout",
          "text": [
            "[]\n"
          ]
        },
        {
          "output_type": "stream",
          "name": "stderr",
          "text": [
            "image 1/1 /content/drive/MyDrive/Trabajo_final_VIU/YOLOV8/Dataset/test/images/imagen707-2.jpg: 640x512 (no detections), 9.6ms\n",
            "Speed: 1.6ms preprocess, 9.6ms inference, 0.9ms postprocess per image at shape (1, 3, 640, 512)\n",
            "\n"
          ]
        },
        {
          "output_type": "stream",
          "name": "stdout",
          "text": [
            "[]\n"
          ]
        },
        {
          "output_type": "stream",
          "name": "stderr",
          "text": [
            "image 1/1 /content/drive/MyDrive/Trabajo_final_VIU/YOLOV8/Dataset/test/images/imagen707-4.jpg: 640x544 (no detections), 10.0ms\n",
            "Speed: 2.6ms preprocess, 10.0ms inference, 1.0ms postprocess per image at shape (1, 3, 640, 544)\n",
            "\n"
          ]
        },
        {
          "output_type": "stream",
          "name": "stdout",
          "text": [
            "[]\n"
          ]
        },
        {
          "output_type": "stream",
          "name": "stderr",
          "text": [
            "image 1/1 /content/drive/MyDrive/Trabajo_final_VIU/YOLOV8/Dataset/test/images/imagen707-6.jpg: 640x512 (no detections), 7.0ms\n",
            "Speed: 1.4ms preprocess, 7.0ms inference, 0.6ms postprocess per image at shape (1, 3, 640, 512)\n",
            "\n"
          ]
        },
        {
          "output_type": "stream",
          "name": "stdout",
          "text": [
            "[]\n"
          ]
        },
        {
          "output_type": "stream",
          "name": "stderr",
          "text": [
            "image 1/1 /content/drive/MyDrive/Trabajo_final_VIU/YOLOV8/Dataset/test/images/imagen708-3.jpg: 640x640 1 ['Osteophytos'], 9.4ms\n",
            "Speed: 1.7ms preprocess, 9.4ms inference, 1.8ms postprocess per image at shape (1, 3, 640, 640)\n",
            "\n"
          ]
        },
        {
          "output_type": "stream",
          "name": "stdout",
          "text": [
            "[0]\n"
          ]
        },
        {
          "output_type": "stream",
          "name": "stderr",
          "text": [
            "image 1/1 /content/drive/MyDrive/Trabajo_final_VIU/YOLOV8/Dataset/test/images/imagen708-4.jpg: 640x480 (no detections), 7.2ms\n",
            "Speed: 1.4ms preprocess, 7.2ms inference, 0.7ms postprocess per image at shape (1, 3, 640, 480)\n",
            "\n"
          ]
        },
        {
          "output_type": "stream",
          "name": "stdout",
          "text": [
            "[]\n"
          ]
        },
        {
          "output_type": "stream",
          "name": "stderr",
          "text": [
            "image 1/1 /content/drive/MyDrive/Trabajo_final_VIU/YOLOV8/Dataset/test/images/imagen709-10.jpg: 640x640 1 ['Osteophytos'], 8.0ms\n",
            "Speed: 1.6ms preprocess, 8.0ms inference, 1.3ms postprocess per image at shape (1, 3, 640, 640)\n",
            "\n"
          ]
        },
        {
          "output_type": "stream",
          "name": "stdout",
          "text": [
            "[0]\n"
          ]
        },
        {
          "output_type": "stream",
          "name": "stderr",
          "text": [
            "image 1/1 /content/drive/MyDrive/Trabajo_final_VIU/YOLOV8/Dataset/test/images/imagen709-11.jpg: 640x640 1 ['Osteophytos'], 9.0ms\n",
            "Speed: 1.8ms preprocess, 9.0ms inference, 1.4ms postprocess per image at shape (1, 3, 640, 640)\n",
            "\n"
          ]
        },
        {
          "output_type": "stream",
          "name": "stdout",
          "text": [
            "[0]\n"
          ]
        },
        {
          "output_type": "stream",
          "name": "stderr",
          "text": [
            "image 1/1 /content/drive/MyDrive/Trabajo_final_VIU/YOLOV8/Dataset/test/images/imagen71-6.jpg: 640x640 2 ['Osteophytos']s, 7.4ms\n",
            "Speed: 1.7ms preprocess, 7.4ms inference, 1.4ms postprocess per image at shape (1, 3, 640, 640)\n",
            "\n"
          ]
        },
        {
          "output_type": "stream",
          "name": "stdout",
          "text": [
            "[0 0]\n"
          ]
        },
        {
          "output_type": "stream",
          "name": "stderr",
          "text": [
            "image 1/1 /content/drive/MyDrive/Trabajo_final_VIU/YOLOV8/Dataset/test/images/imagen710-14.jpg: 608x640 2 ['Osteophytos']s, 8.4ms\n",
            "Speed: 1.6ms preprocess, 8.4ms inference, 1.7ms postprocess per image at shape (1, 3, 608, 640)\n",
            "\n"
          ]
        },
        {
          "output_type": "stream",
          "name": "stdout",
          "text": [
            "[0 0]\n"
          ]
        },
        {
          "output_type": "stream",
          "name": "stderr",
          "text": [
            "image 1/1 /content/drive/MyDrive/Trabajo_final_VIU/YOLOV8/Dataset/test/images/imagen710-19.jpg: 640x640 1 ['Osteophytos'], 8.0ms\n",
            "Speed: 1.6ms preprocess, 8.0ms inference, 1.3ms postprocess per image at shape (1, 3, 640, 640)\n",
            "\n"
          ]
        },
        {
          "output_type": "stream",
          "name": "stdout",
          "text": [
            "[0]\n"
          ]
        },
        {
          "output_type": "stream",
          "name": "stderr",
          "text": [
            "image 1/1 /content/drive/MyDrive/Trabajo_final_VIU/YOLOV8/Dataset/test/images/imagen710-9.jpg: 544x640 1 ['Osteophytos'], 9.5ms\n",
            "Speed: 1.5ms preprocess, 9.5ms inference, 1.4ms postprocess per image at shape (1, 3, 544, 640)\n",
            "\n"
          ]
        },
        {
          "output_type": "stream",
          "name": "stdout",
          "text": [
            "[0]\n"
          ]
        },
        {
          "output_type": "stream",
          "name": "stderr",
          "text": [
            "image 1/1 /content/drive/MyDrive/Trabajo_final_VIU/YOLOV8/Dataset/test/images/imagen711-5.jpg: 640x640 (no detections), 8.2ms\n",
            "Speed: 1.7ms preprocess, 8.2ms inference, 1.0ms postprocess per image at shape (1, 3, 640, 640)\n",
            "\n"
          ]
        },
        {
          "output_type": "stream",
          "name": "stdout",
          "text": [
            "[]\n"
          ]
        },
        {
          "output_type": "stream",
          "name": "stderr",
          "text": [
            "image 1/1 /content/drive/MyDrive/Trabajo_final_VIU/YOLOV8/Dataset/test/images/imagen711-6.jpg: 640x608 1 ['Osteophytos'], 8.0ms\n",
            "Speed: 1.9ms preprocess, 8.0ms inference, 1.4ms postprocess per image at shape (1, 3, 640, 608)\n",
            "\n"
          ]
        },
        {
          "output_type": "stream",
          "name": "stdout",
          "text": [
            "[0]\n"
          ]
        },
        {
          "output_type": "stream",
          "name": "stderr",
          "text": [
            "image 1/1 /content/drive/MyDrive/Trabajo_final_VIU/YOLOV8/Dataset/test/images/imagen712-5.jpg: 640x640 3 ['Osteophytos']s, 9.4ms\n",
            "Speed: 1.9ms preprocess, 9.4ms inference, 1.6ms postprocess per image at shape (1, 3, 640, 640)\n",
            "\n"
          ]
        },
        {
          "output_type": "stream",
          "name": "stdout",
          "text": [
            "[0 0 0]\n"
          ]
        },
        {
          "output_type": "stream",
          "name": "stderr",
          "text": [
            "image 1/1 /content/drive/MyDrive/Trabajo_final_VIU/YOLOV8/Dataset/test/images/imagen713-6.jpg: 640x640 1 ['Osteophytos'], 8.2ms\n",
            "Speed: 1.9ms preprocess, 8.2ms inference, 1.7ms postprocess per image at shape (1, 3, 640, 640)\n",
            "\n"
          ]
        },
        {
          "output_type": "stream",
          "name": "stdout",
          "text": [
            "[0]\n"
          ]
        },
        {
          "output_type": "stream",
          "name": "stderr",
          "text": [
            "image 1/1 /content/drive/MyDrive/Trabajo_final_VIU/YOLOV8/Dataset/test/images/imagen713-7.jpg: 640x640 2 ['Osteophytos']s, 14.6ms\n",
            "Speed: 1.9ms preprocess, 14.6ms inference, 1.8ms postprocess per image at shape (1, 3, 640, 640)\n",
            "\n"
          ]
        },
        {
          "output_type": "stream",
          "name": "stdout",
          "text": [
            "[0 0]\n"
          ]
        },
        {
          "output_type": "stream",
          "name": "stderr",
          "text": [
            "image 1/1 /content/drive/MyDrive/Trabajo_final_VIU/YOLOV8/Dataset/test/images/imagen714-5.jpg: 640x640 (no detections), 7.4ms\n",
            "Speed: 1.7ms preprocess, 7.4ms inference, 0.7ms postprocess per image at shape (1, 3, 640, 640)\n",
            "\n"
          ]
        },
        {
          "output_type": "stream",
          "name": "stdout",
          "text": [
            "[]\n"
          ]
        },
        {
          "output_type": "stream",
          "name": "stderr",
          "text": [
            "image 1/1 /content/drive/MyDrive/Trabajo_final_VIU/YOLOV8/Dataset/test/images/imagen715-2.jpg: 640x640 1 ['Osteophytos'], 7.4ms\n",
            "Speed: 1.6ms preprocess, 7.4ms inference, 1.4ms postprocess per image at shape (1, 3, 640, 640)\n",
            "\n"
          ]
        },
        {
          "output_type": "stream",
          "name": "stdout",
          "text": [
            "[0]\n"
          ]
        },
        {
          "output_type": "stream",
          "name": "stderr",
          "text": [
            "image 1/1 /content/drive/MyDrive/Trabajo_final_VIU/YOLOV8/Dataset/test/images/imagen716-4.jpg: 640x416 3 ['Osteophytos']s, 7.1ms\n",
            "Speed: 1.2ms preprocess, 7.1ms inference, 1.3ms postprocess per image at shape (1, 3, 640, 416)\n",
            "\n"
          ]
        },
        {
          "output_type": "stream",
          "name": "stdout",
          "text": [
            "[0 0 0]\n"
          ]
        },
        {
          "output_type": "stream",
          "name": "stderr",
          "text": [
            "image 1/1 /content/drive/MyDrive/Trabajo_final_VIU/YOLOV8/Dataset/test/images/imagen717-6.jpg: 640x448 (no detections), 11.8ms\n",
            "Speed: 1.7ms preprocess, 11.8ms inference, 0.9ms postprocess per image at shape (1, 3, 640, 448)\n",
            "\n"
          ]
        },
        {
          "output_type": "stream",
          "name": "stdout",
          "text": [
            "[]\n"
          ]
        },
        {
          "output_type": "stream",
          "name": "stderr",
          "text": [
            "image 1/1 /content/drive/MyDrive/Trabajo_final_VIU/YOLOV8/Dataset/test/images/imagen718-6.jpg: 640x320 3 ['Osteophytos']s, 7.7ms\n",
            "Speed: 1.5ms preprocess, 7.7ms inference, 1.4ms postprocess per image at shape (1, 3, 640, 320)\n",
            "\n"
          ]
        },
        {
          "output_type": "stream",
          "name": "stdout",
          "text": [
            "[0 0 0]\n"
          ]
        },
        {
          "output_type": "stream",
          "name": "stderr",
          "text": [
            "image 1/1 /content/drive/MyDrive/Trabajo_final_VIU/YOLOV8/Dataset/test/images/imagen719-4.jpg: 640x544 1 ['Osteophytos'], 7.9ms\n",
            "Speed: 1.6ms preprocess, 7.9ms inference, 1.4ms postprocess per image at shape (1, 3, 640, 544)\n",
            "\n"
          ]
        },
        {
          "output_type": "stream",
          "name": "stdout",
          "text": [
            "[0]\n"
          ]
        },
        {
          "output_type": "stream",
          "name": "stderr",
          "text": [
            "image 1/1 /content/drive/MyDrive/Trabajo_final_VIU/YOLOV8/Dataset/test/images/imagen72-10.jpg: 640x640 5 ['Osteophytos']s, 8.1ms\n",
            "Speed: 1.7ms preprocess, 8.1ms inference, 1.4ms postprocess per image at shape (1, 3, 640, 640)\n",
            "\n"
          ]
        },
        {
          "output_type": "stream",
          "name": "stdout",
          "text": [
            "[0 0 0 0 0]\n"
          ]
        },
        {
          "output_type": "stream",
          "name": "stderr",
          "text": [
            "image 1/1 /content/drive/MyDrive/Trabajo_final_VIU/YOLOV8/Dataset/test/images/imagen72-14.jpg: 640x640 (no detections), 7.4ms\n",
            "Speed: 1.5ms preprocess, 7.4ms inference, 0.7ms postprocess per image at shape (1, 3, 640, 640)\n",
            "\n"
          ]
        },
        {
          "output_type": "stream",
          "name": "stdout",
          "text": [
            "[]\n"
          ]
        },
        {
          "output_type": "stream",
          "name": "stderr",
          "text": [
            "image 1/1 /content/drive/MyDrive/Trabajo_final_VIU/YOLOV8/Dataset/test/images/imagen72-6.jpg: 640x640 7 ['Osteophytos']s, 7.4ms\n",
            "Speed: 1.7ms preprocess, 7.4ms inference, 1.5ms postprocess per image at shape (1, 3, 640, 640)\n",
            "\n"
          ]
        },
        {
          "output_type": "stream",
          "name": "stdout",
          "text": [
            "[0 0 0 0 0 0 0]\n"
          ]
        },
        {
          "output_type": "stream",
          "name": "stderr",
          "text": [
            "image 1/1 /content/drive/MyDrive/Trabajo_final_VIU/YOLOV8/Dataset/test/images/imagen720-3.jpg: 640x640 (no detections), 7.4ms\n",
            "Speed: 1.5ms preprocess, 7.4ms inference, 0.7ms postprocess per image at shape (1, 3, 640, 640)\n",
            "\n"
          ]
        },
        {
          "output_type": "stream",
          "name": "stdout",
          "text": [
            "[]\n"
          ]
        },
        {
          "output_type": "stream",
          "name": "stderr",
          "text": [
            "image 1/1 /content/drive/MyDrive/Trabajo_final_VIU/YOLOV8/Dataset/test/images/imagen721-6.jpg: 640x512 1 ['Osteophytos'], 9.2ms\n",
            "Speed: 1.6ms preprocess, 9.2ms inference, 1.6ms postprocess per image at shape (1, 3, 640, 512)\n",
            "\n"
          ]
        },
        {
          "output_type": "stream",
          "name": "stdout",
          "text": [
            "[0]\n"
          ]
        },
        {
          "output_type": "stream",
          "name": "stderr",
          "text": [
            "image 1/1 /content/drive/MyDrive/Trabajo_final_VIU/YOLOV8/Dataset/test/images/imagen722-7.jpg: 640x640 2 ['Osteophytos']s, 8.7ms\n",
            "Speed: 1.8ms preprocess, 8.7ms inference, 1.6ms postprocess per image at shape (1, 3, 640, 640)\n",
            "\n"
          ]
        },
        {
          "output_type": "stream",
          "name": "stdout",
          "text": [
            "[0 0]\n"
          ]
        },
        {
          "output_type": "stream",
          "name": "stderr",
          "text": [
            "image 1/1 /content/drive/MyDrive/Trabajo_final_VIU/YOLOV8/Dataset/test/images/imagen723-11.jpg: 640x640 1 ['Osteophytos'], 8.2ms\n",
            "Speed: 2.1ms preprocess, 8.2ms inference, 1.6ms postprocess per image at shape (1, 3, 640, 640)\n",
            "\n"
          ]
        },
        {
          "output_type": "stream",
          "name": "stdout",
          "text": [
            "[0]\n"
          ]
        },
        {
          "output_type": "stream",
          "name": "stderr",
          "text": [
            "image 1/1 /content/drive/MyDrive/Trabajo_final_VIU/YOLOV8/Dataset/test/images/imagen724-12.jpg: 640x416 1 ['Osteophytos'], 10.8ms\n",
            "Speed: 2.2ms preprocess, 10.8ms inference, 1.3ms postprocess per image at shape (1, 3, 640, 416)\n",
            "\n"
          ]
        },
        {
          "output_type": "stream",
          "name": "stdout",
          "text": [
            "[0]\n"
          ]
        },
        {
          "output_type": "stream",
          "name": "stderr",
          "text": [
            "image 1/1 /content/drive/MyDrive/Trabajo_final_VIU/YOLOV8/Dataset/test/images/imagen724-2.jpg: 640x384 4 ['Osteophytos']s, 7.2ms\n",
            "Speed: 1.3ms preprocess, 7.2ms inference, 1.3ms postprocess per image at shape (1, 3, 640, 384)\n",
            "\n"
          ]
        },
        {
          "output_type": "stream",
          "name": "stdout",
          "text": [
            "[0 0 0 0]\n"
          ]
        },
        {
          "output_type": "stream",
          "name": "stderr",
          "text": [
            "image 1/1 /content/drive/MyDrive/Trabajo_final_VIU/YOLOV8/Dataset/test/images/imagen724-6.jpg: 640x608 (no detections), 8.1ms\n",
            "Speed: 3.1ms preprocess, 8.1ms inference, 0.8ms postprocess per image at shape (1, 3, 640, 608)\n",
            "\n"
          ]
        },
        {
          "output_type": "stream",
          "name": "stdout",
          "text": [
            "[]\n"
          ]
        },
        {
          "output_type": "stream",
          "name": "stderr",
          "text": [
            "image 1/1 /content/drive/MyDrive/Trabajo_final_VIU/YOLOV8/Dataset/test/images/imagen724-9.jpg: 640x416 2 ['Osteophytos']s, 7.2ms\n",
            "Speed: 1.3ms preprocess, 7.2ms inference, 1.3ms postprocess per image at shape (1, 3, 640, 416)\n",
            "\n"
          ]
        },
        {
          "output_type": "stream",
          "name": "stdout",
          "text": [
            "[0 0]\n"
          ]
        },
        {
          "output_type": "stream",
          "name": "stderr",
          "text": [
            "image 1/1 /content/drive/MyDrive/Trabajo_final_VIU/YOLOV8/Dataset/test/images/imagen725-7.jpg: 640x640 3 ['Osteophytos']s, 8.1ms\n",
            "Speed: 1.6ms preprocess, 8.1ms inference, 1.3ms postprocess per image at shape (1, 3, 640, 640)\n",
            "\n"
          ]
        },
        {
          "output_type": "stream",
          "name": "stdout",
          "text": [
            "[0 0 0]\n"
          ]
        },
        {
          "output_type": "stream",
          "name": "stderr",
          "text": [
            "image 1/1 /content/drive/MyDrive/Trabajo_final_VIU/YOLOV8/Dataset/test/images/imagen725-8.jpg: 640x640 3 ['Osteophytos']s, 11.8ms\n",
            "Speed: 1.9ms preprocess, 11.8ms inference, 1.4ms postprocess per image at shape (1, 3, 640, 640)\n",
            "\n"
          ]
        },
        {
          "output_type": "stream",
          "name": "stdout",
          "text": [
            "[0 0 0]\n"
          ]
        },
        {
          "output_type": "stream",
          "name": "stderr",
          "text": [
            "image 1/1 /content/drive/MyDrive/Trabajo_final_VIU/YOLOV8/Dataset/test/images/imagen726-3.jpg: 640x640 2 ['Osteophytos']s, 7.4ms\n",
            "Speed: 1.6ms preprocess, 7.4ms inference, 1.3ms postprocess per image at shape (1, 3, 640, 640)\n",
            "\n"
          ]
        },
        {
          "output_type": "stream",
          "name": "stdout",
          "text": [
            "[0 0]\n"
          ]
        },
        {
          "output_type": "stream",
          "name": "stderr",
          "text": [
            "image 1/1 /content/drive/MyDrive/Trabajo_final_VIU/YOLOV8/Dataset/test/images/imagen727-3.jpg: 640x640 1 ['Osteophytos'], 7.4ms\n",
            "Speed: 1.6ms preprocess, 7.4ms inference, 1.4ms postprocess per image at shape (1, 3, 640, 640)\n",
            "\n"
          ]
        },
        {
          "output_type": "stream",
          "name": "stdout",
          "text": [
            "[0]\n"
          ]
        },
        {
          "output_type": "stream",
          "name": "stderr",
          "text": [
            "image 1/1 /content/drive/MyDrive/Trabajo_final_VIU/YOLOV8/Dataset/test/images/imagen727-4.jpg: 640x512 (no detections), 7.7ms\n",
            "Speed: 1.6ms preprocess, 7.7ms inference, 0.7ms postprocess per image at shape (1, 3, 640, 512)\n",
            "\n"
          ]
        },
        {
          "output_type": "stream",
          "name": "stdout",
          "text": [
            "[]\n"
          ]
        },
        {
          "output_type": "stream",
          "name": "stderr",
          "text": [
            "image 1/1 /content/drive/MyDrive/Trabajo_final_VIU/YOLOV8/Dataset/test/images/imagen728-2.jpg: 608x640 1 ['Osteophytos'], 8.1ms\n",
            "Speed: 2.7ms preprocess, 8.1ms inference, 1.3ms postprocess per image at shape (1, 3, 608, 640)\n",
            "\n"
          ]
        },
        {
          "output_type": "stream",
          "name": "stdout",
          "text": [
            "[0]\n"
          ]
        },
        {
          "output_type": "stream",
          "name": "stderr",
          "text": [
            "image 1/1 /content/drive/MyDrive/Trabajo_final_VIU/YOLOV8/Dataset/test/images/imagen728-4.jpg: 640x640 3 ['Osteophytos']s, 8.0ms\n",
            "Speed: 1.7ms preprocess, 8.0ms inference, 1.4ms postprocess per image at shape (1, 3, 640, 640)\n",
            "\n"
          ]
        },
        {
          "output_type": "stream",
          "name": "stdout",
          "text": [
            "[0 0 0]\n"
          ]
        },
        {
          "output_type": "stream",
          "name": "stderr",
          "text": [
            "image 1/1 /content/drive/MyDrive/Trabajo_final_VIU/YOLOV8/Dataset/test/images/imagen728-6.jpg: 640x640 2 ['Osteophytos']s, 8.3ms\n",
            "Speed: 2.0ms preprocess, 8.3ms inference, 1.7ms postprocess per image at shape (1, 3, 640, 640)\n",
            "\n"
          ]
        },
        {
          "output_type": "stream",
          "name": "stdout",
          "text": [
            "[0 0]\n"
          ]
        },
        {
          "output_type": "stream",
          "name": "stderr",
          "text": [
            "image 1/1 /content/drive/MyDrive/Trabajo_final_VIU/YOLOV8/Dataset/test/images/imagen729-3.jpg: 640x640 3 ['Osteophytos']s, 7.4ms\n",
            "Speed: 1.6ms preprocess, 7.4ms inference, 1.9ms postprocess per image at shape (1, 3, 640, 640)\n",
            "\n"
          ]
        },
        {
          "output_type": "stream",
          "name": "stdout",
          "text": [
            "[0 0 0]\n"
          ]
        },
        {
          "output_type": "stream",
          "name": "stderr",
          "text": [
            "image 1/1 /content/drive/MyDrive/Trabajo_final_VIU/YOLOV8/Dataset/test/images/imagen729-4.jpg: 640x608 2 ['Osteophytos']s, 8.0ms\n",
            "Speed: 1.7ms preprocess, 8.0ms inference, 1.3ms postprocess per image at shape (1, 3, 640, 608)\n",
            "\n"
          ]
        },
        {
          "output_type": "stream",
          "name": "stdout",
          "text": [
            "[0 0]\n"
          ]
        },
        {
          "output_type": "stream",
          "name": "stderr",
          "text": [
            "image 1/1 /content/drive/MyDrive/Trabajo_final_VIU/YOLOV8/Dataset/test/images/imagen729-5.jpg: 640x640 1 ['Osteophytos'], 8.3ms\n",
            "Speed: 1.6ms preprocess, 8.3ms inference, 1.4ms postprocess per image at shape (1, 3, 640, 640)\n",
            "\n"
          ]
        },
        {
          "output_type": "stream",
          "name": "stdout",
          "text": [
            "[0]\n"
          ]
        },
        {
          "output_type": "stream",
          "name": "stderr",
          "text": [
            "image 1/1 /content/drive/MyDrive/Trabajo_final_VIU/YOLOV8/Dataset/test/images/imagen729-6.jpg: 640x608 2 ['Osteophytos']s, 8.0ms\n",
            "Speed: 1.8ms preprocess, 8.0ms inference, 1.3ms postprocess per image at shape (1, 3, 640, 608)\n",
            "\n"
          ]
        },
        {
          "output_type": "stream",
          "name": "stdout",
          "text": [
            "[0 0]\n"
          ]
        },
        {
          "output_type": "stream",
          "name": "stderr",
          "text": [
            "image 1/1 /content/drive/MyDrive/Trabajo_final_VIU/YOLOV8/Dataset/test/images/imagen73-6.jpg: 640x640 (no detections), 8.1ms\n",
            "Speed: 2.8ms preprocess, 8.1ms inference, 0.7ms postprocess per image at shape (1, 3, 640, 640)\n",
            "\n"
          ]
        },
        {
          "output_type": "stream",
          "name": "stdout",
          "text": [
            "[]\n"
          ]
        },
        {
          "output_type": "stream",
          "name": "stderr",
          "text": [
            "image 1/1 /content/drive/MyDrive/Trabajo_final_VIU/YOLOV8/Dataset/test/images/imagen73-8.jpg: 640x640 (no detections), 7.4ms\n",
            "Speed: 1.7ms preprocess, 7.4ms inference, 0.8ms postprocess per image at shape (1, 3, 640, 640)\n",
            "\n"
          ]
        },
        {
          "output_type": "stream",
          "name": "stdout",
          "text": [
            "[]\n"
          ]
        },
        {
          "output_type": "stream",
          "name": "stderr",
          "text": [
            "image 1/1 /content/drive/MyDrive/Trabajo_final_VIU/YOLOV8/Dataset/test/images/imagen730-11.jpg: 640x640 2 ['Osteophytos']s, 9.8ms\n",
            "Speed: 1.7ms preprocess, 9.8ms inference, 1.4ms postprocess per image at shape (1, 3, 640, 640)\n",
            "\n"
          ]
        },
        {
          "output_type": "stream",
          "name": "stdout",
          "text": [
            "[0 0]\n"
          ]
        },
        {
          "output_type": "stream",
          "name": "stderr",
          "text": [
            "image 1/1 /content/drive/MyDrive/Trabajo_final_VIU/YOLOV8/Dataset/test/images/imagen731-12.jpg: 640x640 (no detections), 7.4ms\n",
            "Speed: 1.8ms preprocess, 7.4ms inference, 0.9ms postprocess per image at shape (1, 3, 640, 640)\n",
            "\n"
          ]
        },
        {
          "output_type": "stream",
          "name": "stdout",
          "text": [
            "[]\n"
          ]
        },
        {
          "output_type": "stream",
          "name": "stderr",
          "text": [
            "image 1/1 /content/drive/MyDrive/Trabajo_final_VIU/YOLOV8/Dataset/test/images/imagen731-7.jpg: 640x640 (no detections), 7.4ms\n",
            "Speed: 1.8ms preprocess, 7.4ms inference, 0.8ms postprocess per image at shape (1, 3, 640, 640)\n",
            "\n"
          ]
        },
        {
          "output_type": "stream",
          "name": "stdout",
          "text": [
            "[]\n"
          ]
        },
        {
          "output_type": "stream",
          "name": "stderr",
          "text": [
            "image 1/1 /content/drive/MyDrive/Trabajo_final_VIU/YOLOV8/Dataset/test/images/imagen731-8.jpg: 640x640 2 ['Osteophytos']s, 7.4ms\n",
            "Speed: 1.7ms preprocess, 7.4ms inference, 1.5ms postprocess per image at shape (1, 3, 640, 640)\n",
            "\n"
          ]
        },
        {
          "output_type": "stream",
          "name": "stdout",
          "text": [
            "[0 0]\n"
          ]
        },
        {
          "output_type": "stream",
          "name": "stderr",
          "text": [
            "image 1/1 /content/drive/MyDrive/Trabajo_final_VIU/YOLOV8/Dataset/test/images/imagen732-3.jpg: 640x640 5 ['Osteophytos']s, 7.4ms\n",
            "Speed: 1.6ms preprocess, 7.4ms inference, 1.4ms postprocess per image at shape (1, 3, 640, 640)\n",
            "\n"
          ]
        },
        {
          "output_type": "stream",
          "name": "stdout",
          "text": [
            "[0 0 0 0 0]\n"
          ]
        },
        {
          "output_type": "stream",
          "name": "stderr",
          "text": [
            "image 1/1 /content/drive/MyDrive/Trabajo_final_VIU/YOLOV8/Dataset/test/images/imagen733-6.jpg: 640x608 (no detections), 18.0ms\n",
            "Speed: 1.9ms preprocess, 18.0ms inference, 0.9ms postprocess per image at shape (1, 3, 640, 608)\n",
            "\n"
          ]
        },
        {
          "output_type": "stream",
          "name": "stdout",
          "text": [
            "[]\n"
          ]
        },
        {
          "output_type": "stream",
          "name": "stderr",
          "text": [
            "image 1/1 /content/drive/MyDrive/Trabajo_final_VIU/YOLOV8/Dataset/test/images/imagen734-5.jpg: 640x640 1 ['Osteophytos'], 9.4ms\n",
            "Speed: 1.9ms preprocess, 9.4ms inference, 1.6ms postprocess per image at shape (1, 3, 640, 640)\n",
            "\n"
          ]
        },
        {
          "output_type": "stream",
          "name": "stdout",
          "text": [
            "[0]\n"
          ]
        },
        {
          "output_type": "stream",
          "name": "stderr",
          "text": [
            "image 1/1 /content/drive/MyDrive/Trabajo_final_VIU/YOLOV8/Dataset/test/images/imagen735-8.jpg: 640x640 1 ['Osteophytos'], 8.3ms\n",
            "Speed: 1.7ms preprocess, 8.3ms inference, 1.6ms postprocess per image at shape (1, 3, 640, 640)\n",
            "\n"
          ]
        },
        {
          "output_type": "stream",
          "name": "stdout",
          "text": [
            "[0]\n"
          ]
        },
        {
          "output_type": "stream",
          "name": "stderr",
          "text": [
            "image 1/1 /content/drive/MyDrive/Trabajo_final_VIU/YOLOV8/Dataset/test/images/imagen736-11.jpg: 640x640 3 ['Osteophytos']s, 7.4ms\n",
            "Speed: 1.7ms preprocess, 7.4ms inference, 1.5ms postprocess per image at shape (1, 3, 640, 640)\n",
            "\n"
          ]
        },
        {
          "output_type": "stream",
          "name": "stdout",
          "text": [
            "[0 0 0]\n"
          ]
        },
        {
          "output_type": "stream",
          "name": "stderr",
          "text": [
            "image 1/1 /content/drive/MyDrive/Trabajo_final_VIU/YOLOV8/Dataset/test/images/imagen736-15.jpg: 640x640 (no detections), 7.5ms\n",
            "Speed: 2.4ms preprocess, 7.5ms inference, 0.8ms postprocess per image at shape (1, 3, 640, 640)\n",
            "\n"
          ]
        },
        {
          "output_type": "stream",
          "name": "stdout",
          "text": [
            "[]\n"
          ]
        },
        {
          "output_type": "stream",
          "name": "stderr",
          "text": [
            "image 1/1 /content/drive/MyDrive/Trabajo_final_VIU/YOLOV8/Dataset/test/images/imagen737-10.jpg: 640x608 (no detections), 7.9ms\n",
            "Speed: 1.6ms preprocess, 7.9ms inference, 0.8ms postprocess per image at shape (1, 3, 640, 608)\n",
            "\n"
          ]
        },
        {
          "output_type": "stream",
          "name": "stdout",
          "text": [
            "[]\n"
          ]
        },
        {
          "output_type": "stream",
          "name": "stderr",
          "text": [
            "image 1/1 /content/drive/MyDrive/Trabajo_final_VIU/YOLOV8/Dataset/test/images/imagen737-11.jpg: 640x640 4 ['Osteophytos']s, 8.0ms\n",
            "Speed: 1.7ms preprocess, 8.0ms inference, 1.4ms postprocess per image at shape (1, 3, 640, 640)\n",
            "\n"
          ]
        },
        {
          "output_type": "stream",
          "name": "stdout",
          "text": [
            "[0 0 0 0]\n"
          ]
        },
        {
          "output_type": "stream",
          "name": "stderr",
          "text": [
            "image 1/1 /content/drive/MyDrive/Trabajo_final_VIU/YOLOV8/Dataset/test/images/imagen738-3.jpg: 640x640 3 ['Osteophytos']s, 8.6ms\n",
            "Speed: 1.7ms preprocess, 8.6ms inference, 1.4ms postprocess per image at shape (1, 3, 640, 640)\n",
            "\n"
          ]
        },
        {
          "output_type": "stream",
          "name": "stdout",
          "text": [
            "[0 0 0]\n"
          ]
        },
        {
          "output_type": "stream",
          "name": "stderr",
          "text": [
            "image 1/1 /content/drive/MyDrive/Trabajo_final_VIU/YOLOV8/Dataset/test/images/imagen739-10.jpg: 544x640 (no detections), 7.8ms\n",
            "Speed: 2.3ms preprocess, 7.8ms inference, 0.6ms postprocess per image at shape (1, 3, 544, 640)\n",
            "\n"
          ]
        },
        {
          "output_type": "stream",
          "name": "stdout",
          "text": [
            "[]\n"
          ]
        },
        {
          "output_type": "stream",
          "name": "stderr",
          "text": [
            "image 1/1 /content/drive/MyDrive/Trabajo_final_VIU/YOLOV8/Dataset/test/images/imagen739-8.jpg: 640x640 (no detections), 8.0ms\n",
            "Speed: 2.8ms preprocess, 8.0ms inference, 0.7ms postprocess per image at shape (1, 3, 640, 640)\n",
            "\n"
          ]
        },
        {
          "output_type": "stream",
          "name": "stdout",
          "text": [
            "[]\n"
          ]
        },
        {
          "output_type": "stream",
          "name": "stderr",
          "text": [
            "image 1/1 /content/drive/MyDrive/Trabajo_final_VIU/YOLOV8/Dataset/test/images/imagen74-4.jpg: 608x640 3 ['Osteophytos']s, 8.0ms\n",
            "Speed: 1.7ms preprocess, 8.0ms inference, 1.3ms postprocess per image at shape (1, 3, 608, 640)\n",
            "\n"
          ]
        },
        {
          "output_type": "stream",
          "name": "stdout",
          "text": [
            "[0 0 0]\n"
          ]
        },
        {
          "output_type": "stream",
          "name": "stderr",
          "text": [
            "image 1/1 /content/drive/MyDrive/Trabajo_final_VIU/YOLOV8/Dataset/test/images/imagen74-7.jpg: 640x640 2 ['Osteophytos']s, 8.1ms\n",
            "Speed: 1.6ms preprocess, 8.1ms inference, 1.4ms postprocess per image at shape (1, 3, 640, 640)\n",
            "\n"
          ]
        },
        {
          "output_type": "stream",
          "name": "stdout",
          "text": [
            "[0 0]\n"
          ]
        },
        {
          "output_type": "stream",
          "name": "stderr",
          "text": [
            "image 1/1 /content/drive/MyDrive/Trabajo_final_VIU/YOLOV8/Dataset/test/images/imagen74-8.jpg: 640x640 2 ['Osteophytos']s, 7.4ms\n",
            "Speed: 1.6ms preprocess, 7.4ms inference, 1.4ms postprocess per image at shape (1, 3, 640, 640)\n",
            "\n"
          ]
        },
        {
          "output_type": "stream",
          "name": "stdout",
          "text": [
            "[0 0]\n"
          ]
        },
        {
          "output_type": "stream",
          "name": "stderr",
          "text": [
            "image 1/1 /content/drive/MyDrive/Trabajo_final_VIU/YOLOV8/Dataset/test/images/imagen740-2.jpg: 640x544 1 ['Osteophytos'], 9.6ms\n",
            "Speed: 1.8ms preprocess, 9.6ms inference, 1.7ms postprocess per image at shape (1, 3, 640, 544)\n",
            "\n"
          ]
        },
        {
          "output_type": "stream",
          "name": "stdout",
          "text": [
            "[0]\n"
          ]
        },
        {
          "output_type": "stream",
          "name": "stderr",
          "text": [
            "image 1/1 /content/drive/MyDrive/Trabajo_final_VIU/YOLOV8/Dataset/test/images/imagen740-4.jpg: 640x544 3 ['Osteophytos']s, 8.7ms\n",
            "Speed: 1.8ms preprocess, 8.7ms inference, 1.7ms postprocess per image at shape (1, 3, 640, 544)\n",
            "\n"
          ]
        },
        {
          "output_type": "stream",
          "name": "stdout",
          "text": [
            "[0 0 0]\n"
          ]
        },
        {
          "output_type": "stream",
          "name": "stderr",
          "text": [
            "image 1/1 /content/drive/MyDrive/Trabajo_final_VIU/YOLOV8/Dataset/test/images/imagen741-13.jpg: 640x640 6 ['Osteophytos']s, 10.2ms\n",
            "Speed: 1.8ms preprocess, 10.2ms inference, 1.7ms postprocess per image at shape (1, 3, 640, 640)\n",
            "\n"
          ]
        },
        {
          "output_type": "stream",
          "name": "stdout",
          "text": [
            "[0 0 0 0 0 0]\n"
          ]
        },
        {
          "output_type": "stream",
          "name": "stderr",
          "text": [
            "image 1/1 /content/drive/MyDrive/Trabajo_final_VIU/YOLOV8/Dataset/test/images/imagen741-8.jpg: 512x640 4 ['Osteophytos']s, 7.3ms\n",
            "Speed: 1.4ms preprocess, 7.3ms inference, 1.5ms postprocess per image at shape (1, 3, 512, 640)\n",
            "\n"
          ]
        },
        {
          "output_type": "stream",
          "name": "stdout",
          "text": [
            "[0 0 0 0]\n"
          ]
        },
        {
          "output_type": "stream",
          "name": "stderr",
          "text": [
            "image 1/1 /content/drive/MyDrive/Trabajo_final_VIU/YOLOV8/Dataset/test/images/imagen742-6.jpg: 640x640 (no detections), 8.1ms\n",
            "Speed: 1.8ms preprocess, 8.1ms inference, 0.7ms postprocess per image at shape (1, 3, 640, 640)\n",
            "\n"
          ]
        },
        {
          "output_type": "stream",
          "name": "stdout",
          "text": [
            "[]\n"
          ]
        },
        {
          "output_type": "stream",
          "name": "stderr",
          "text": [
            "image 1/1 /content/drive/MyDrive/Trabajo_final_VIU/YOLOV8/Dataset/test/images/imagen743-5.jpg: 640x640 1 ['Osteophytos'], 7.4ms\n",
            "Speed: 1.6ms preprocess, 7.4ms inference, 1.5ms postprocess per image at shape (1, 3, 640, 640)\n",
            "\n"
          ]
        },
        {
          "output_type": "stream",
          "name": "stdout",
          "text": [
            "[0]\n"
          ]
        },
        {
          "output_type": "stream",
          "name": "stderr",
          "text": [
            "image 1/1 /content/drive/MyDrive/Trabajo_final_VIU/YOLOV8/Dataset/test/images/imagen743-6.jpg: 640x640 (no detections), 7.4ms\n",
            "Speed: 1.7ms preprocess, 7.4ms inference, 0.7ms postprocess per image at shape (1, 3, 640, 640)\n",
            "\n"
          ]
        },
        {
          "output_type": "stream",
          "name": "stdout",
          "text": [
            "[]\n"
          ]
        },
        {
          "output_type": "stream",
          "name": "stderr",
          "text": [
            "image 1/1 /content/drive/MyDrive/Trabajo_final_VIU/YOLOV8/Dataset/test/images/imagen744-10.jpg: 640x640 1 ['Osteophytos'], 7.4ms\n",
            "Speed: 1.6ms preprocess, 7.4ms inference, 1.5ms postprocess per image at shape (1, 3, 640, 640)\n",
            "\n"
          ]
        },
        {
          "output_type": "stream",
          "name": "stdout",
          "text": [
            "[0]\n"
          ]
        },
        {
          "output_type": "stream",
          "name": "stderr",
          "text": [
            "image 1/1 /content/drive/MyDrive/Trabajo_final_VIU/YOLOV8/Dataset/test/images/imagen745-14.jpg: 640x640 1 ['Osteophytos'], 7.4ms\n",
            "Speed: 1.6ms preprocess, 7.4ms inference, 1.3ms postprocess per image at shape (1, 3, 640, 640)\n",
            "\n"
          ]
        },
        {
          "output_type": "stream",
          "name": "stdout",
          "text": [
            "[0]\n"
          ]
        },
        {
          "output_type": "stream",
          "name": "stderr",
          "text": [
            "image 1/1 /content/drive/MyDrive/Trabajo_final_VIU/YOLOV8/Dataset/test/images/imagen746-13.jpg: 640x640 3 ['Osteophytos']s, 7.4ms\n",
            "Speed: 1.6ms preprocess, 7.4ms inference, 1.5ms postprocess per image at shape (1, 3, 640, 640)\n",
            "\n"
          ]
        },
        {
          "output_type": "stream",
          "name": "stdout",
          "text": [
            "[0 0 0]\n"
          ]
        },
        {
          "output_type": "stream",
          "name": "stderr",
          "text": [
            "image 1/1 /content/drive/MyDrive/Trabajo_final_VIU/YOLOV8/Dataset/test/images/imagen746-8.jpg: 640x640 2 ['Osteophytos']s, 9.5ms\n",
            "Speed: 1.8ms preprocess, 9.5ms inference, 1.5ms postprocess per image at shape (1, 3, 640, 640)\n",
            "\n"
          ]
        },
        {
          "output_type": "stream",
          "name": "stdout",
          "text": [
            "[0 0]\n"
          ]
        },
        {
          "output_type": "stream",
          "name": "stderr",
          "text": [
            "image 1/1 /content/drive/MyDrive/Trabajo_final_VIU/YOLOV8/Dataset/test/images/imagen747-15.jpg: 576x640 2 ['Osteophytos']s, 7.9ms\n",
            "Speed: 1.5ms preprocess, 7.9ms inference, 1.4ms postprocess per image at shape (1, 3, 576, 640)\n",
            "\n"
          ]
        },
        {
          "output_type": "stream",
          "name": "stdout",
          "text": [
            "[0 0]\n"
          ]
        },
        {
          "output_type": "stream",
          "name": "stderr",
          "text": [
            "image 1/1 /content/drive/MyDrive/Trabajo_final_VIU/YOLOV8/Dataset/test/images/imagen747-21.jpg: 640x640 1 ['Osteophytos'], 8.1ms\n",
            "Speed: 1.7ms preprocess, 8.1ms inference, 1.3ms postprocess per image at shape (1, 3, 640, 640)\n",
            "\n"
          ]
        },
        {
          "output_type": "stream",
          "name": "stdout",
          "text": [
            "[0]\n"
          ]
        },
        {
          "output_type": "stream",
          "name": "stderr",
          "text": [
            "image 1/1 /content/drive/MyDrive/Trabajo_final_VIU/YOLOV8/Dataset/test/images/imagen748-6.jpg: 640x640 1 ['Osteophytos'], 7.4ms\n",
            "Speed: 1.8ms preprocess, 7.4ms inference, 1.5ms postprocess per image at shape (1, 3, 640, 640)\n",
            "\n"
          ]
        },
        {
          "output_type": "stream",
          "name": "stdout",
          "text": [
            "[0]\n"
          ]
        },
        {
          "output_type": "stream",
          "name": "stderr",
          "text": [
            "image 1/1 /content/drive/MyDrive/Trabajo_final_VIU/YOLOV8/Dataset/test/images/imagen748-8.jpg: 640x640 2 ['Osteophytos']s, 8.4ms\n",
            "Speed: 1.9ms preprocess, 8.4ms inference, 1.6ms postprocess per image at shape (1, 3, 640, 640)\n",
            "\n"
          ]
        },
        {
          "output_type": "stream",
          "name": "stdout",
          "text": [
            "[0 0]\n"
          ]
        },
        {
          "output_type": "stream",
          "name": "stderr",
          "text": [
            "image 1/1 /content/drive/MyDrive/Trabajo_final_VIU/YOLOV8/Dataset/test/images/imagen749-2.jpg: 640x288 1 ['Osteophytos'], 9.7ms\n",
            "Speed: 1.3ms preprocess, 9.7ms inference, 1.9ms postprocess per image at shape (1, 3, 640, 288)\n",
            "\n"
          ]
        },
        {
          "output_type": "stream",
          "name": "stdout",
          "text": [
            "[0]\n"
          ]
        },
        {
          "output_type": "stream",
          "name": "stderr",
          "text": [
            "image 1/1 /content/drive/MyDrive/Trabajo_final_VIU/YOLOV8/Dataset/test/images/imagen749-4.jpg: 640x288 4 ['Osteophytos']s, 10.9ms\n",
            "Speed: 1.4ms preprocess, 10.9ms inference, 2.0ms postprocess per image at shape (1, 3, 640, 288)\n",
            "\n"
          ]
        },
        {
          "output_type": "stream",
          "name": "stdout",
          "text": [
            "[0 0 0 0]\n"
          ]
        },
        {
          "output_type": "stream",
          "name": "stderr",
          "text": [
            "image 1/1 /content/drive/MyDrive/Trabajo_final_VIU/YOLOV8/Dataset/test/images/imagen75-10.jpg: 640x640 1 ['Osteophytos'], 8.1ms\n",
            "Speed: 1.6ms preprocess, 8.1ms inference, 1.3ms postprocess per image at shape (1, 3, 640, 640)\n",
            "\n"
          ]
        },
        {
          "output_type": "stream",
          "name": "stdout",
          "text": [
            "[0]\n"
          ]
        },
        {
          "output_type": "stream",
          "name": "stderr",
          "text": [
            "image 1/1 /content/drive/MyDrive/Trabajo_final_VIU/YOLOV8/Dataset/test/images/imagen75-11.jpg: 640x640 (no detections), 7.4ms\n",
            "Speed: 1.6ms preprocess, 7.4ms inference, 1.0ms postprocess per image at shape (1, 3, 640, 640)\n",
            "\n"
          ]
        },
        {
          "output_type": "stream",
          "name": "stdout",
          "text": [
            "[]\n"
          ]
        },
        {
          "output_type": "stream",
          "name": "stderr",
          "text": [
            "image 1/1 /content/drive/MyDrive/Trabajo_final_VIU/YOLOV8/Dataset/test/images/imagen75-6.jpg: 576x640 4 ['Osteophytos']s, 7.9ms\n",
            "Speed: 1.5ms preprocess, 7.9ms inference, 1.3ms postprocess per image at shape (1, 3, 576, 640)\n",
            "\n"
          ]
        },
        {
          "output_type": "stream",
          "name": "stdout",
          "text": [
            "[0 0 0 0]\n"
          ]
        },
        {
          "output_type": "stream",
          "name": "stderr",
          "text": [
            "image 1/1 /content/drive/MyDrive/Trabajo_final_VIU/YOLOV8/Dataset/test/images/imagen75-7.jpg: 576x640 2 ['Osteophytos']s, 7.3ms\n",
            "Speed: 1.5ms preprocess, 7.3ms inference, 1.4ms postprocess per image at shape (1, 3, 576, 640)\n",
            "\n"
          ]
        },
        {
          "output_type": "stream",
          "name": "stdout",
          "text": [
            "[0 0]\n"
          ]
        },
        {
          "output_type": "stream",
          "name": "stderr",
          "text": [
            "image 1/1 /content/drive/MyDrive/Trabajo_final_VIU/YOLOV8/Dataset/test/images/imagen750-4.jpg: 640x544 1 ['Osteophytos'], 8.4ms\n",
            "Speed: 1.5ms preprocess, 8.4ms inference, 1.8ms postprocess per image at shape (1, 3, 640, 544)\n",
            "\n"
          ]
        },
        {
          "output_type": "stream",
          "name": "stdout",
          "text": [
            "[0]\n"
          ]
        },
        {
          "output_type": "stream",
          "name": "stderr",
          "text": [
            "image 1/1 /content/drive/MyDrive/Trabajo_final_VIU/YOLOV8/Dataset/test/images/imagen750-6.jpg: 640x544 1 ['Osteophytos'], 7.2ms\n",
            "Speed: 2.6ms preprocess, 7.2ms inference, 1.4ms postprocess per image at shape (1, 3, 640, 544)\n",
            "\n"
          ]
        },
        {
          "output_type": "stream",
          "name": "stdout",
          "text": [
            "[0]\n"
          ]
        },
        {
          "output_type": "stream",
          "name": "stderr",
          "text": [
            "image 1/1 /content/drive/MyDrive/Trabajo_final_VIU/YOLOV8/Dataset/test/images/imagen750-8.jpg: 640x544 (no detections), 7.2ms\n",
            "Speed: 1.7ms preprocess, 7.2ms inference, 0.7ms postprocess per image at shape (1, 3, 640, 544)\n",
            "\n"
          ]
        },
        {
          "output_type": "stream",
          "name": "stdout",
          "text": [
            "[]\n"
          ]
        },
        {
          "output_type": "stream",
          "name": "stderr",
          "text": [
            "image 1/1 /content/drive/MyDrive/Trabajo_final_VIU/YOLOV8/Dataset/test/images/imagen751-3.jpg: 640x640 1 ['Osteophytos'], 8.1ms\n",
            "Speed: 1.6ms preprocess, 8.1ms inference, 1.3ms postprocess per image at shape (1, 3, 640, 640)\n",
            "\n"
          ]
        },
        {
          "output_type": "stream",
          "name": "stdout",
          "text": [
            "[0]\n"
          ]
        },
        {
          "output_type": "stream",
          "name": "stderr",
          "text": [
            "image 1/1 /content/drive/MyDrive/Trabajo_final_VIU/YOLOV8/Dataset/test/images/imagen751-4.jpg: 640x608 1 ['Osteophytos'], 8.0ms\n",
            "Speed: 1.9ms preprocess, 8.0ms inference, 1.3ms postprocess per image at shape (1, 3, 640, 608)\n",
            "\n"
          ]
        },
        {
          "output_type": "stream",
          "name": "stdout",
          "text": [
            "[0]\n"
          ]
        },
        {
          "output_type": "stream",
          "name": "stderr",
          "text": [
            "image 1/1 /content/drive/MyDrive/Trabajo_final_VIU/YOLOV8/Dataset/test/images/imagen752-7.jpg: 640x640 2 ['Osteophytos']s, 8.2ms\n",
            "Speed: 1.8ms preprocess, 8.2ms inference, 1.4ms postprocess per image at shape (1, 3, 640, 640)\n",
            "\n"
          ]
        },
        {
          "output_type": "stream",
          "name": "stdout",
          "text": [
            "[0 0]\n"
          ]
        },
        {
          "output_type": "stream",
          "name": "stderr",
          "text": [
            "image 1/1 /content/drive/MyDrive/Trabajo_final_VIU/YOLOV8/Dataset/test/images/imagen752-8.jpg: 640x640 1 ['Osteophytos'], 7.4ms\n",
            "Speed: 1.6ms preprocess, 7.4ms inference, 1.9ms postprocess per image at shape (1, 3, 640, 640)\n",
            "\n"
          ]
        },
        {
          "output_type": "stream",
          "name": "stdout",
          "text": [
            "[0]\n"
          ]
        },
        {
          "output_type": "stream",
          "name": "stderr",
          "text": [
            "image 1/1 /content/drive/MyDrive/Trabajo_final_VIU/YOLOV8/Dataset/test/images/imagen753-8.jpg: 640x640 2 ['Osteophytos']s, 8.4ms\n",
            "Speed: 2.0ms preprocess, 8.4ms inference, 1.6ms postprocess per image at shape (1, 3, 640, 640)\n",
            "\n"
          ]
        },
        {
          "output_type": "stream",
          "name": "stdout",
          "text": [
            "[0 0]\n"
          ]
        },
        {
          "output_type": "stream",
          "name": "stderr",
          "text": [
            "image 1/1 /content/drive/MyDrive/Trabajo_final_VIU/YOLOV8/Dataset/test/images/imagen754-4.jpg: 640x544 2 ['Osteophytos']s, 13.0ms\n",
            "Speed: 1.8ms preprocess, 13.0ms inference, 1.7ms postprocess per image at shape (1, 3, 640, 544)\n",
            "\n"
          ]
        },
        {
          "output_type": "stream",
          "name": "stdout",
          "text": [
            "[0 0]\n"
          ]
        },
        {
          "output_type": "stream",
          "name": "stderr",
          "text": [
            "image 1/1 /content/drive/MyDrive/Trabajo_final_VIU/YOLOV8/Dataset/test/images/imagen755-4.jpg: 640x544 7 ['Osteophytos']s, 8.7ms\n",
            "Speed: 1.7ms preprocess, 8.7ms inference, 1.7ms postprocess per image at shape (1, 3, 640, 544)\n",
            "\n"
          ]
        },
        {
          "output_type": "stream",
          "name": "stdout",
          "text": [
            "[0 0 0 0 0 0 0]\n"
          ]
        },
        {
          "output_type": "stream",
          "name": "stderr",
          "text": [
            "image 1/1 /content/drive/MyDrive/Trabajo_final_VIU/YOLOV8/Dataset/test/images/imagen756-7.jpg: 640x640 1 ['Osteophytos'], 10.0ms\n",
            "Speed: 1.7ms preprocess, 10.0ms inference, 1.3ms postprocess per image at shape (1, 3, 640, 640)\n",
            "\n"
          ]
        },
        {
          "output_type": "stream",
          "name": "stdout",
          "text": [
            "[0]\n"
          ]
        },
        {
          "output_type": "stream",
          "name": "stderr",
          "text": [
            "image 1/1 /content/drive/MyDrive/Trabajo_final_VIU/YOLOV8/Dataset/test/images/imagen757-6.jpg: 640x608 4 ['Osteophytos']s, 8.0ms\n",
            "Speed: 1.8ms preprocess, 8.0ms inference, 1.3ms postprocess per image at shape (1, 3, 640, 608)\n",
            "\n"
          ]
        },
        {
          "output_type": "stream",
          "name": "stdout",
          "text": [
            "[0 0 0 0]\n"
          ]
        },
        {
          "output_type": "stream",
          "name": "stderr",
          "text": [
            "image 1/1 /content/drive/MyDrive/Trabajo_final_VIU/YOLOV8/Dataset/test/images/imagen757-8.jpg: 640x608 1 ['Osteophytos'], 7.3ms\n",
            "Speed: 1.7ms preprocess, 7.3ms inference, 1.4ms postprocess per image at shape (1, 3, 640, 608)\n",
            "\n"
          ]
        },
        {
          "output_type": "stream",
          "name": "stdout",
          "text": [
            "[0]\n"
          ]
        },
        {
          "output_type": "stream",
          "name": "stderr",
          "text": [
            "image 1/1 /content/drive/MyDrive/Trabajo_final_VIU/YOLOV8/Dataset/test/images/imagen758-5.jpg: 480x640 4 ['Osteophytos']s, 7.3ms\n",
            "Speed: 1.4ms preprocess, 7.3ms inference, 1.2ms postprocess per image at shape (1, 3, 480, 640)\n",
            "\n"
          ]
        },
        {
          "output_type": "stream",
          "name": "stdout",
          "text": [
            "[0 0 0 0]\n"
          ]
        },
        {
          "output_type": "stream",
          "name": "stderr",
          "text": [
            "image 1/1 /content/drive/MyDrive/Trabajo_final_VIU/YOLOV8/Dataset/test/images/imagen758-6.jpg: 480x640 1 ['Osteophytos'], 6.8ms\n",
            "Speed: 2.4ms preprocess, 6.8ms inference, 1.6ms postprocess per image at shape (1, 3, 480, 640)\n",
            "\n"
          ]
        },
        {
          "output_type": "stream",
          "name": "stdout",
          "text": [
            "[0]\n"
          ]
        },
        {
          "output_type": "stream",
          "name": "stderr",
          "text": [
            "image 1/1 /content/drive/MyDrive/Trabajo_final_VIU/YOLOV8/Dataset/test/images/imagen758-7.jpg: 640x640 (no detections), 8.1ms\n",
            "Speed: 1.6ms preprocess, 8.1ms inference, 0.7ms postprocess per image at shape (1, 3, 640, 640)\n",
            "\n"
          ]
        },
        {
          "output_type": "stream",
          "name": "stdout",
          "text": [
            "[]\n"
          ]
        },
        {
          "output_type": "stream",
          "name": "stderr",
          "text": [
            "image 1/1 /content/drive/MyDrive/Trabajo_final_VIU/YOLOV8/Dataset/test/images/imagen758-8.jpg: 640x640 (no detections), 7.4ms\n",
            "Speed: 1.8ms preprocess, 7.4ms inference, 0.8ms postprocess per image at shape (1, 3, 640, 640)\n",
            "\n"
          ]
        },
        {
          "output_type": "stream",
          "name": "stdout",
          "text": [
            "[]\n"
          ]
        },
        {
          "output_type": "stream",
          "name": "stderr",
          "text": [
            "image 1/1 /content/drive/MyDrive/Trabajo_final_VIU/YOLOV8/Dataset/test/images/imagen759-10.jpg: 512x640 2 ['Osteophytos']s, 7.3ms\n",
            "Speed: 1.5ms preprocess, 7.3ms inference, 1.3ms postprocess per image at shape (1, 3, 512, 640)\n",
            "\n"
          ]
        },
        {
          "output_type": "stream",
          "name": "stdout",
          "text": [
            "[0 0]\n"
          ]
        },
        {
          "output_type": "stream",
          "name": "stderr",
          "text": [
            "image 1/1 /content/drive/MyDrive/Trabajo_final_VIU/YOLOV8/Dataset/test/images/imagen759-11.jpg: 512x640 3 ['Osteophytos']s, 6.5ms\n",
            "Speed: 1.5ms preprocess, 6.5ms inference, 1.3ms postprocess per image at shape (1, 3, 512, 640)\n",
            "\n"
          ]
        },
        {
          "output_type": "stream",
          "name": "stdout",
          "text": [
            "[0 0 0]\n"
          ]
        },
        {
          "output_type": "stream",
          "name": "stderr",
          "text": [
            "image 1/1 /content/drive/MyDrive/Trabajo_final_VIU/YOLOV8/Dataset/test/images/imagen759-14.jpg: 640x640 1 ['Osteophytos'], 8.1ms\n",
            "Speed: 1.8ms preprocess, 8.1ms inference, 1.3ms postprocess per image at shape (1, 3, 640, 640)\n",
            "\n"
          ]
        },
        {
          "output_type": "stream",
          "name": "stdout",
          "text": [
            "[0]\n"
          ]
        },
        {
          "output_type": "stream",
          "name": "stderr",
          "text": [
            "image 1/1 /content/drive/MyDrive/Trabajo_final_VIU/YOLOV8/Dataset/test/images/imagen759-15.jpg: 640x640 (no detections), 7.4ms\n",
            "Speed: 1.6ms preprocess, 7.4ms inference, 0.8ms postprocess per image at shape (1, 3, 640, 640)\n",
            "\n"
          ]
        },
        {
          "output_type": "stream",
          "name": "stdout",
          "text": [
            "[]\n"
          ]
        },
        {
          "output_type": "stream",
          "name": "stderr",
          "text": [
            "image 1/1 /content/drive/MyDrive/Trabajo_final_VIU/YOLOV8/Dataset/test/images/imagen76-15.jpg: 640x640 1 ['Osteophytos'], 7.4ms\n",
            "Speed: 1.7ms preprocess, 7.4ms inference, 1.9ms postprocess per image at shape (1, 3, 640, 640)\n",
            "\n"
          ]
        },
        {
          "output_type": "stream",
          "name": "stdout",
          "text": [
            "[0]\n"
          ]
        },
        {
          "output_type": "stream",
          "name": "stderr",
          "text": [
            "image 1/1 /content/drive/MyDrive/Trabajo_final_VIU/YOLOV8/Dataset/test/images/imagen76-21.jpg: 640x640 (no detections), 8.1ms\n",
            "Speed: 2.0ms preprocess, 8.1ms inference, 0.9ms postprocess per image at shape (1, 3, 640, 640)\n",
            "\n"
          ]
        },
        {
          "output_type": "stream",
          "name": "stdout",
          "text": [
            "[]\n"
          ]
        },
        {
          "output_type": "stream",
          "name": "stderr",
          "text": [
            "image 1/1 /content/drive/MyDrive/Trabajo_final_VIU/YOLOV8/Dataset/test/images/imagen760-11.jpg: 640x640 3 ['Osteophytos']s, 14.0ms\n",
            "Speed: 2.5ms preprocess, 14.0ms inference, 1.9ms postprocess per image at shape (1, 3, 640, 640)\n",
            "\n"
          ]
        },
        {
          "output_type": "stream",
          "name": "stdout",
          "text": [
            "[0 0 0]\n"
          ]
        },
        {
          "output_type": "stream",
          "name": "stderr",
          "text": [
            "image 1/1 /content/drive/MyDrive/Trabajo_final_VIU/YOLOV8/Dataset/test/images/imagen760-15.jpg: 640x640 (no detections), 8.7ms\n",
            "Speed: 2.6ms preprocess, 8.7ms inference, 0.9ms postprocess per image at shape (1, 3, 640, 640)\n",
            "\n"
          ]
        },
        {
          "output_type": "stream",
          "name": "stdout",
          "text": [
            "[]\n"
          ]
        },
        {
          "output_type": "stream",
          "name": "stderr",
          "text": [
            "image 1/1 /content/drive/MyDrive/Trabajo_final_VIU/YOLOV8/Dataset/test/images/imagen760-7.jpg: 640x640 3 ['Osteophytos']s, 7.4ms\n",
            "Speed: 1.6ms preprocess, 7.4ms inference, 1.4ms postprocess per image at shape (1, 3, 640, 640)\n",
            "\n"
          ]
        },
        {
          "output_type": "stream",
          "name": "stdout",
          "text": [
            "[0 0 0]\n"
          ]
        },
        {
          "output_type": "stream",
          "name": "stderr",
          "text": [
            "image 1/1 /content/drive/MyDrive/Trabajo_final_VIU/YOLOV8/Dataset/test/images/imagen761-3.jpg: 640x640 2 ['Osteophytos']s, 7.4ms\n",
            "Speed: 1.6ms preprocess, 7.4ms inference, 1.4ms postprocess per image at shape (1, 3, 640, 640)\n",
            "\n"
          ]
        },
        {
          "output_type": "stream",
          "name": "stdout",
          "text": [
            "[0 0]\n"
          ]
        },
        {
          "output_type": "stream",
          "name": "stderr",
          "text": [
            "image 1/1 /content/drive/MyDrive/Trabajo_final_VIU/YOLOV8/Dataset/test/images/imagen762-14.jpg: 640x640 (no detections), 7.4ms\n",
            "Speed: 1.6ms preprocess, 7.4ms inference, 0.8ms postprocess per image at shape (1, 3, 640, 640)\n",
            "\n"
          ]
        },
        {
          "output_type": "stream",
          "name": "stdout",
          "text": [
            "[]\n"
          ]
        },
        {
          "output_type": "stream",
          "name": "stderr",
          "text": [
            "image 1/1 /content/drive/MyDrive/Trabajo_final_VIU/YOLOV8/Dataset/test/images/imagen763-11.jpg: 640x640 1 ['Osteophytos'], 8.4ms\n",
            "Speed: 2.0ms preprocess, 8.4ms inference, 1.6ms postprocess per image at shape (1, 3, 640, 640)\n",
            "\n"
          ]
        },
        {
          "output_type": "stream",
          "name": "stdout",
          "text": [
            "[0]\n"
          ]
        },
        {
          "output_type": "stream",
          "name": "stderr",
          "text": [
            "image 1/1 /content/drive/MyDrive/Trabajo_final_VIU/YOLOV8/Dataset/test/images/imagen763-15.jpg: 640x640 (no detections), 7.4ms\n",
            "Speed: 1.7ms preprocess, 7.4ms inference, 0.7ms postprocess per image at shape (1, 3, 640, 640)\n",
            "\n"
          ]
        },
        {
          "output_type": "stream",
          "name": "stdout",
          "text": [
            "[]\n"
          ]
        },
        {
          "output_type": "stream",
          "name": "stderr",
          "text": [
            "image 1/1 /content/drive/MyDrive/Trabajo_final_VIU/YOLOV8/Dataset/test/images/imagen764-10.jpg: 640x640 1 ['Osteophytos'], 7.4ms\n",
            "Speed: 1.5ms preprocess, 7.4ms inference, 1.3ms postprocess per image at shape (1, 3, 640, 640)\n",
            "\n"
          ]
        },
        {
          "output_type": "stream",
          "name": "stdout",
          "text": [
            "[0]\n"
          ]
        },
        {
          "output_type": "stream",
          "name": "stderr",
          "text": [
            "image 1/1 /content/drive/MyDrive/Trabajo_final_VIU/YOLOV8/Dataset/test/images/imagen764-11.jpg: 640x640 2 ['Osteophytos']s, 7.4ms\n",
            "Speed: 1.7ms preprocess, 7.4ms inference, 1.4ms postprocess per image at shape (1, 3, 640, 640)\n",
            "\n"
          ]
        },
        {
          "output_type": "stream",
          "name": "stdout",
          "text": [
            "[0 0]\n"
          ]
        },
        {
          "output_type": "stream",
          "name": "stderr",
          "text": [
            "image 1/1 /content/drive/MyDrive/Trabajo_final_VIU/YOLOV8/Dataset/test/images/imagen765-14.jpg: 640x640 (no detections), 7.4ms\n",
            "Speed: 1.9ms preprocess, 7.4ms inference, 0.8ms postprocess per image at shape (1, 3, 640, 640)\n",
            "\n"
          ]
        },
        {
          "output_type": "stream",
          "name": "stdout",
          "text": [
            "[]\n"
          ]
        },
        {
          "output_type": "stream",
          "name": "stderr",
          "text": [
            "image 1/1 /content/drive/MyDrive/Trabajo_final_VIU/YOLOV8/Dataset/test/images/imagen765-15.jpg: 640x640 1 ['Osteophytos'], 7.4ms\n",
            "Speed: 1.6ms preprocess, 7.4ms inference, 1.4ms postprocess per image at shape (1, 3, 640, 640)\n",
            "\n"
          ]
        },
        {
          "output_type": "stream",
          "name": "stdout",
          "text": [
            "[0]\n"
          ]
        },
        {
          "output_type": "stream",
          "name": "stderr",
          "text": [
            "image 1/1 /content/drive/MyDrive/Trabajo_final_VIU/YOLOV8/Dataset/test/images/imagen766-10.jpg: 640x640 3 ['Osteophytos']s, 7.4ms\n",
            "Speed: 1.6ms preprocess, 7.4ms inference, 1.4ms postprocess per image at shape (1, 3, 640, 640)\n",
            "\n"
          ]
        },
        {
          "output_type": "stream",
          "name": "stdout",
          "text": [
            "[0 0 0]\n"
          ]
        },
        {
          "output_type": "stream",
          "name": "stderr",
          "text": [
            "image 1/1 /content/drive/MyDrive/Trabajo_final_VIU/YOLOV8/Dataset/test/images/imagen766-14.jpg: 640x640 (no detections), 7.4ms\n",
            "Speed: 1.7ms preprocess, 7.4ms inference, 0.8ms postprocess per image at shape (1, 3, 640, 640)\n",
            "\n"
          ]
        },
        {
          "output_type": "stream",
          "name": "stdout",
          "text": [
            "[]\n"
          ]
        },
        {
          "output_type": "stream",
          "name": "stderr",
          "text": [
            "image 1/1 /content/drive/MyDrive/Trabajo_final_VIU/YOLOV8/Dataset/test/images/imagen767-6.jpg: 640x576 (no detections), 9.1ms\n",
            "Speed: 1.9ms preprocess, 9.1ms inference, 0.9ms postprocess per image at shape (1, 3, 640, 576)\n",
            "\n"
          ]
        },
        {
          "output_type": "stream",
          "name": "stdout",
          "text": [
            "[]\n"
          ]
        },
        {
          "output_type": "stream",
          "name": "stderr",
          "text": [
            "image 1/1 /content/drive/MyDrive/Trabajo_final_VIU/YOLOV8/Dataset/test/images/imagen767-8.jpg: 640x576 (no detections), 8.3ms\n",
            "Speed: 1.8ms preprocess, 8.3ms inference, 0.9ms postprocess per image at shape (1, 3, 640, 576)\n",
            "\n"
          ]
        },
        {
          "output_type": "stream",
          "name": "stdout",
          "text": [
            "[]\n"
          ]
        },
        {
          "output_type": "stream",
          "name": "stderr",
          "text": [
            "image 1/1 /content/drive/MyDrive/Trabajo_final_VIU/YOLOV8/Dataset/test/images/imagen768-11.jpg: 640x640 1 ['Osteophytos'], 10.0ms\n",
            "Speed: 1.9ms preprocess, 10.0ms inference, 1.8ms postprocess per image at shape (1, 3, 640, 640)\n",
            "\n"
          ]
        },
        {
          "output_type": "stream",
          "name": "stdout",
          "text": [
            "[0]\n"
          ]
        },
        {
          "output_type": "stream",
          "name": "stderr",
          "text": [
            "image 1/1 /content/drive/MyDrive/Trabajo_final_VIU/YOLOV8/Dataset/test/images/imagen769-6.jpg: 640x576 (no detections), 7.9ms\n",
            "Speed: 1.5ms preprocess, 7.9ms inference, 0.8ms postprocess per image at shape (1, 3, 640, 576)\n",
            "\n"
          ]
        },
        {
          "output_type": "stream",
          "name": "stdout",
          "text": [
            "[]\n"
          ]
        },
        {
          "output_type": "stream",
          "name": "stderr",
          "text": [
            "image 1/1 /content/drive/MyDrive/Trabajo_final_VIU/YOLOV8/Dataset/test/images/imagen769-8.jpg: 640x576 (no detections), 7.2ms\n",
            "Speed: 1.5ms preprocess, 7.2ms inference, 0.7ms postprocess per image at shape (1, 3, 640, 576)\n",
            "\n"
          ]
        },
        {
          "output_type": "stream",
          "name": "stdout",
          "text": [
            "[]\n"
          ]
        },
        {
          "output_type": "stream",
          "name": "stderr",
          "text": [
            "image 1/1 /content/drive/MyDrive/Trabajo_final_VIU/YOLOV8/Dataset/test/images/imagen77-11.jpg: 640x640 1 ['Osteophytos'], 8.1ms\n",
            "Speed: 1.6ms preprocess, 8.1ms inference, 1.3ms postprocess per image at shape (1, 3, 640, 640)\n",
            "\n"
          ]
        },
        {
          "output_type": "stream",
          "name": "stdout",
          "text": [
            "[0]\n"
          ]
        },
        {
          "output_type": "stream",
          "name": "stderr",
          "text": [
            "image 1/1 /content/drive/MyDrive/Trabajo_final_VIU/YOLOV8/Dataset/test/images/imagen770-11.jpg: 640x640 (no detections), 7.4ms\n",
            "Speed: 1.6ms preprocess, 7.4ms inference, 0.7ms postprocess per image at shape (1, 3, 640, 640)\n",
            "\n"
          ]
        },
        {
          "output_type": "stream",
          "name": "stdout",
          "text": [
            "[]\n"
          ]
        },
        {
          "output_type": "stream",
          "name": "stderr",
          "text": [
            "image 1/1 /content/drive/MyDrive/Trabajo_final_VIU/YOLOV8/Dataset/test/images/imagen771-4.jpg: 640x544 1 ['Osteophytos'], 7.9ms\n",
            "Speed: 1.6ms preprocess, 7.9ms inference, 1.4ms postprocess per image at shape (1, 3, 640, 544)\n",
            "\n"
          ]
        },
        {
          "output_type": "stream",
          "name": "stdout",
          "text": [
            "[0]\n"
          ]
        },
        {
          "output_type": "stream",
          "name": "stderr",
          "text": [
            "image 1/1 /content/drive/MyDrive/Trabajo_final_VIU/YOLOV8/Dataset/test/images/imagen772-6.jpg: 640x544 3 ['Osteophytos']s, 7.2ms\n",
            "Speed: 1.5ms preprocess, 7.2ms inference, 1.4ms postprocess per image at shape (1, 3, 640, 544)\n",
            "\n"
          ]
        },
        {
          "output_type": "stream",
          "name": "stdout",
          "text": [
            "[0 0 0]\n"
          ]
        },
        {
          "output_type": "stream",
          "name": "stderr",
          "text": [
            "image 1/1 /content/drive/MyDrive/Trabajo_final_VIU/YOLOV8/Dataset/test/images/imagen772-8.jpg: 640x544 (no detections), 7.2ms\n",
            "Speed: 1.6ms preprocess, 7.2ms inference, 0.7ms postprocess per image at shape (1, 3, 640, 544)\n",
            "\n"
          ]
        },
        {
          "output_type": "stream",
          "name": "stdout",
          "text": [
            "[]\n"
          ]
        },
        {
          "output_type": "stream",
          "name": "stderr",
          "text": [
            "image 1/1 /content/drive/MyDrive/Trabajo_final_VIU/YOLOV8/Dataset/test/images/imagen773-18.jpg: 640x640 6 ['Osteophytos']s, 8.1ms\n",
            "Speed: 1.7ms preprocess, 8.1ms inference, 1.5ms postprocess per image at shape (1, 3, 640, 640)\n",
            "\n"
          ]
        },
        {
          "output_type": "stream",
          "name": "stdout",
          "text": [
            "[0 0 0 0 0 0]\n"
          ]
        },
        {
          "output_type": "stream",
          "name": "stderr",
          "text": [
            "image 1/1 /content/drive/MyDrive/Trabajo_final_VIU/YOLOV8/Dataset/test/images/imagen774-3.jpg: 640x640 2 ['Osteophytos']s, 7.7ms\n",
            "Speed: 1.6ms preprocess, 7.7ms inference, 1.4ms postprocess per image at shape (1, 3, 640, 640)\n",
            "\n"
          ]
        },
        {
          "output_type": "stream",
          "name": "stdout",
          "text": [
            "[0 0]\n"
          ]
        },
        {
          "output_type": "stream",
          "name": "stderr",
          "text": [
            "image 1/1 /content/drive/MyDrive/Trabajo_final_VIU/YOLOV8/Dataset/test/images/imagen774-4.jpg: 640x544 3 ['Osteophytos']s, 8.0ms\n",
            "Speed: 1.6ms preprocess, 8.0ms inference, 1.4ms postprocess per image at shape (1, 3, 640, 544)\n",
            "\n"
          ]
        },
        {
          "output_type": "stream",
          "name": "stdout",
          "text": [
            "[0 0 0]\n"
          ]
        },
        {
          "output_type": "stream",
          "name": "stderr",
          "text": [
            "image 1/1 /content/drive/MyDrive/Trabajo_final_VIU/YOLOV8/Dataset/test/images/imagen774-5.jpg: 640x640 (no detections), 8.1ms\n",
            "Speed: 1.6ms preprocess, 8.1ms inference, 0.7ms postprocess per image at shape (1, 3, 640, 640)\n",
            "\n"
          ]
        },
        {
          "output_type": "stream",
          "name": "stdout",
          "text": [
            "[]\n"
          ]
        },
        {
          "output_type": "stream",
          "name": "stderr",
          "text": [
            "image 1/1 /content/drive/MyDrive/Trabajo_final_VIU/YOLOV8/Dataset/test/images/imagen774-6.jpg: 640x544 1 ['Osteophytos'], 7.9ms\n",
            "Speed: 1.5ms preprocess, 7.9ms inference, 1.4ms postprocess per image at shape (1, 3, 640, 544)\n",
            "\n"
          ]
        },
        {
          "output_type": "stream",
          "name": "stdout",
          "text": [
            "[0]\n"
          ]
        },
        {
          "output_type": "stream",
          "name": "stderr",
          "text": [
            "image 1/1 /content/drive/MyDrive/Trabajo_final_VIU/YOLOV8/Dataset/test/images/imagen775-4.jpg: 640x544 1 ['Osteophytos'], 8.2ms\n",
            "Speed: 3.4ms preprocess, 8.2ms inference, 1.7ms postprocess per image at shape (1, 3, 640, 544)\n",
            "\n"
          ]
        },
        {
          "output_type": "stream",
          "name": "stdout",
          "text": [
            "[0]\n"
          ]
        },
        {
          "output_type": "stream",
          "name": "stderr",
          "text": [
            "image 1/1 /content/drive/MyDrive/Trabajo_final_VIU/YOLOV8/Dataset/test/images/imagen775-6.jpg: 640x544 3 ['Osteophytos']s, 10.6ms\n",
            "Speed: 3.3ms preprocess, 10.6ms inference, 1.8ms postprocess per image at shape (1, 3, 640, 544)\n",
            "\n"
          ]
        },
        {
          "output_type": "stream",
          "name": "stdout",
          "text": [
            "[0 0 0]\n"
          ]
        },
        {
          "output_type": "stream",
          "name": "stderr",
          "text": [
            "image 1/1 /content/drive/MyDrive/Trabajo_final_VIU/YOLOV8/Dataset/test/images/imagen775-8.jpg: 640x512 (no detections), 8.8ms\n",
            "Speed: 1.7ms preprocess, 8.8ms inference, 0.9ms postprocess per image at shape (1, 3, 640, 512)\n",
            "\n"
          ]
        },
        {
          "output_type": "stream",
          "name": "stdout",
          "text": [
            "[]\n"
          ]
        },
        {
          "output_type": "stream",
          "name": "stderr",
          "text": [
            "image 1/1 /content/drive/MyDrive/Trabajo_final_VIU/YOLOV8/Dataset/test/images/imagen776-3.jpg: 640x640 (no detections), 8.0ms\n",
            "Speed: 1.6ms preprocess, 8.0ms inference, 0.7ms postprocess per image at shape (1, 3, 640, 640)\n",
            "\n"
          ]
        },
        {
          "output_type": "stream",
          "name": "stdout",
          "text": [
            "[]\n"
          ]
        },
        {
          "output_type": "stream",
          "name": "stderr",
          "text": [
            "image 1/1 /content/drive/MyDrive/Trabajo_final_VIU/YOLOV8/Dataset/test/images/imagen777-4.jpg: 640x640 1 ['Osteophytos'], 7.4ms\n",
            "Speed: 2.6ms preprocess, 7.4ms inference, 1.4ms postprocess per image at shape (1, 3, 640, 640)\n",
            "\n"
          ]
        },
        {
          "output_type": "stream",
          "name": "stdout",
          "text": [
            "[0]\n"
          ]
        },
        {
          "output_type": "stream",
          "name": "stderr",
          "text": [
            "image 1/1 /content/drive/MyDrive/Trabajo_final_VIU/YOLOV8/Dataset/test/images/imagen777-6.jpg: 384x640 (no detections), 7.4ms\n",
            "Speed: 2.2ms preprocess, 7.4ms inference, 0.7ms postprocess per image at shape (1, 3, 384, 640)\n",
            "\n"
          ]
        },
        {
          "output_type": "stream",
          "name": "stdout",
          "text": [
            "[]\n"
          ]
        },
        {
          "output_type": "stream",
          "name": "stderr",
          "text": [
            "image 1/1 /content/drive/MyDrive/Trabajo_final_VIU/YOLOV8/Dataset/test/images/imagen778-10.jpg: 640x640 1 ['Osteophytos'], 8.1ms\n",
            "Speed: 1.7ms preprocess, 8.1ms inference, 1.3ms postprocess per image at shape (1, 3, 640, 640)\n",
            "\n"
          ]
        },
        {
          "output_type": "stream",
          "name": "stdout",
          "text": [
            "[0]\n"
          ]
        },
        {
          "output_type": "stream",
          "name": "stderr",
          "text": [
            "image 1/1 /content/drive/MyDrive/Trabajo_final_VIU/YOLOV8/Dataset/test/images/imagen779-10.jpg: 640x640 2 ['Osteophytos']s, 7.4ms\n",
            "Speed: 1.6ms preprocess, 7.4ms inference, 1.3ms postprocess per image at shape (1, 3, 640, 640)\n",
            "\n"
          ]
        },
        {
          "output_type": "stream",
          "name": "stdout",
          "text": [
            "[0 0]\n"
          ]
        },
        {
          "output_type": "stream",
          "name": "stderr",
          "text": [
            "image 1/1 /content/drive/MyDrive/Trabajo_final_VIU/YOLOV8/Dataset/test/images/imagen78-17.jpg: 512x640 (no detections), 7.4ms\n",
            "Speed: 2.4ms preprocess, 7.4ms inference, 0.7ms postprocess per image at shape (1, 3, 512, 640)\n",
            "\n"
          ]
        },
        {
          "output_type": "stream",
          "name": "stdout",
          "text": [
            "[]\n"
          ]
        },
        {
          "output_type": "stream",
          "name": "stderr",
          "text": [
            "image 1/1 /content/drive/MyDrive/Trabajo_final_VIU/YOLOV8/Dataset/test/images/imagen78-23.jpg: 640x640 (no detections), 8.5ms\n",
            "Speed: 1.7ms preprocess, 8.5ms inference, 1.1ms postprocess per image at shape (1, 3, 640, 640)\n",
            "\n"
          ]
        },
        {
          "output_type": "stream",
          "name": "stdout",
          "text": [
            "[]\n"
          ]
        },
        {
          "output_type": "stream",
          "name": "stderr",
          "text": [
            "image 1/1 /content/drive/MyDrive/Trabajo_final_VIU/YOLOV8/Dataset/test/images/imagen780-12.jpg: 640x640 4 ['Osteophytos']s, 7.4ms\n",
            "Speed: 1.6ms preprocess, 7.4ms inference, 1.3ms postprocess per image at shape (1, 3, 640, 640)\n",
            "\n"
          ]
        },
        {
          "output_type": "stream",
          "name": "stdout",
          "text": [
            "[0 0 0 0]\n"
          ]
        },
        {
          "output_type": "stream",
          "name": "stderr",
          "text": [
            "image 1/1 /content/drive/MyDrive/Trabajo_final_VIU/YOLOV8/Dataset/test/images/imagen781-6.jpg: 640x608 (no detections), 9.7ms\n",
            "Speed: 2.7ms preprocess, 9.7ms inference, 0.7ms postprocess per image at shape (1, 3, 640, 608)\n",
            "\n"
          ]
        },
        {
          "output_type": "stream",
          "name": "stdout",
          "text": [
            "[]\n"
          ]
        },
        {
          "output_type": "stream",
          "name": "stderr",
          "text": [
            "image 1/1 /content/drive/MyDrive/Trabajo_final_VIU/YOLOV8/Dataset/test/images/imagen781-8.jpg: 640x512 (no detections), 8.1ms\n",
            "Speed: 1.4ms preprocess, 8.1ms inference, 0.8ms postprocess per image at shape (1, 3, 640, 512)\n",
            "\n"
          ]
        },
        {
          "output_type": "stream",
          "name": "stdout",
          "text": [
            "[]\n"
          ]
        },
        {
          "output_type": "stream",
          "name": "stderr",
          "text": [
            "image 1/1 /content/drive/MyDrive/Trabajo_final_VIU/YOLOV8/Dataset/test/images/imagen782-5.jpg: 640x640 2 ['Osteophytos']s, 8.2ms\n",
            "Speed: 1.7ms preprocess, 8.2ms inference, 1.4ms postprocess per image at shape (1, 3, 640, 640)\n",
            "\n"
          ]
        },
        {
          "output_type": "stream",
          "name": "stdout",
          "text": [
            "[0 0]\n"
          ]
        },
        {
          "output_type": "stream",
          "name": "stderr",
          "text": [
            "image 1/1 /content/drive/MyDrive/Trabajo_final_VIU/YOLOV8/Dataset/test/images/imagen782-6.jpg: 640x640 2 ['Osteophytos']s, 7.4ms\n",
            "Speed: 1.7ms preprocess, 7.4ms inference, 1.4ms postprocess per image at shape (1, 3, 640, 640)\n",
            "\n"
          ]
        },
        {
          "output_type": "stream",
          "name": "stdout",
          "text": [
            "[0 0]\n"
          ]
        },
        {
          "output_type": "stream",
          "name": "stderr",
          "text": [
            "image 1/1 /content/drive/MyDrive/Trabajo_final_VIU/YOLOV8/Dataset/test/images/imagen783-10.jpg: 640x640 2 ['Osteophytos']s, 11.3ms\n",
            "Speed: 1.7ms preprocess, 11.3ms inference, 1.7ms postprocess per image at shape (1, 3, 640, 640)\n",
            "\n"
          ]
        },
        {
          "output_type": "stream",
          "name": "stdout",
          "text": [
            "[0 0]\n"
          ]
        },
        {
          "output_type": "stream",
          "name": "stderr",
          "text": [
            "image 1/1 /content/drive/MyDrive/Trabajo_final_VIU/YOLOV8/Dataset/test/images/imagen783-11.jpg: 640x640 1 ['Osteophytos'], 9.0ms\n",
            "Speed: 2.0ms preprocess, 9.0ms inference, 1.8ms postprocess per image at shape (1, 3, 640, 640)\n",
            "\n"
          ]
        },
        {
          "output_type": "stream",
          "name": "stdout",
          "text": [
            "[0]\n"
          ]
        },
        {
          "output_type": "stream",
          "name": "stderr",
          "text": [
            "image 1/1 /content/drive/MyDrive/Trabajo_final_VIU/YOLOV8/Dataset/test/images/imagen783-6.jpg: 640x640 2 ['Osteophytos']s, 8.2ms\n",
            "Speed: 1.9ms preprocess, 8.2ms inference, 1.7ms postprocess per image at shape (1, 3, 640, 640)\n",
            "\n"
          ]
        },
        {
          "output_type": "stream",
          "name": "stdout",
          "text": [
            "[0 0]\n"
          ]
        },
        {
          "output_type": "stream",
          "name": "stderr",
          "text": [
            "image 1/1 /content/drive/MyDrive/Trabajo_final_VIU/YOLOV8/Dataset/test/images/imagen783-7.jpg: 640x640 2 ['Osteophytos']s, 14.5ms\n",
            "Speed: 3.4ms preprocess, 14.5ms inference, 2.0ms postprocess per image at shape (1, 3, 640, 640)\n",
            "\n"
          ]
        },
        {
          "output_type": "stream",
          "name": "stdout",
          "text": [
            "[0 0]\n"
          ]
        },
        {
          "output_type": "stream",
          "name": "stderr",
          "text": [
            "image 1/1 /content/drive/MyDrive/Trabajo_final_VIU/YOLOV8/Dataset/test/images/imagen784-11.jpg: 640x640 3 ['Osteophytos']s, 7.4ms\n",
            "Speed: 1.6ms preprocess, 7.4ms inference, 1.4ms postprocess per image at shape (1, 3, 640, 640)\n",
            "\n"
          ]
        },
        {
          "output_type": "stream",
          "name": "stdout",
          "text": [
            "[0 0 0]\n"
          ]
        },
        {
          "output_type": "stream",
          "name": "stderr",
          "text": [
            "image 1/1 /content/drive/MyDrive/Trabajo_final_VIU/YOLOV8/Dataset/test/images/imagen784-7.jpg: 640x640 3 ['Osteophytos']s, 7.4ms\n",
            "Speed: 1.7ms preprocess, 7.4ms inference, 1.5ms postprocess per image at shape (1, 3, 640, 640)\n",
            "\n"
          ]
        },
        {
          "output_type": "stream",
          "name": "stdout",
          "text": [
            "[0 0 0]\n"
          ]
        },
        {
          "output_type": "stream",
          "name": "stderr",
          "text": [
            "image 1/1 /content/drive/MyDrive/Trabajo_final_VIU/YOLOV8/Dataset/test/images/imagen785-1.jpg: 640x640 (no detections), 8.5ms\n",
            "Speed: 1.6ms preprocess, 8.5ms inference, 0.7ms postprocess per image at shape (1, 3, 640, 640)\n",
            "\n"
          ]
        },
        {
          "output_type": "stream",
          "name": "stdout",
          "text": [
            "[]\n"
          ]
        },
        {
          "output_type": "stream",
          "name": "stderr",
          "text": [
            "image 1/1 /content/drive/MyDrive/Trabajo_final_VIU/YOLOV8/Dataset/test/images/imagen785-2.jpg: 640x544 1 ['Osteophytos'], 7.9ms\n",
            "Speed: 1.5ms preprocess, 7.9ms inference, 1.4ms postprocess per image at shape (1, 3, 640, 544)\n",
            "\n"
          ]
        },
        {
          "output_type": "stream",
          "name": "stdout",
          "text": [
            "[0]\n"
          ]
        },
        {
          "output_type": "stream",
          "name": "stderr",
          "text": [
            "image 1/1 /content/drive/MyDrive/Trabajo_final_VIU/YOLOV8/Dataset/test/images/imagen785-3.jpg: 640x640 2 ['Osteophytos']s, 8.1ms\n",
            "Speed: 1.7ms preprocess, 8.1ms inference, 1.3ms postprocess per image at shape (1, 3, 640, 640)\n",
            "\n"
          ]
        },
        {
          "output_type": "stream",
          "name": "stdout",
          "text": [
            "[0 0]\n"
          ]
        },
        {
          "output_type": "stream",
          "name": "stderr",
          "text": [
            "image 1/1 /content/drive/MyDrive/Trabajo_final_VIU/YOLOV8/Dataset/test/images/imagen786-3.jpg: 640x640 4 ['Osteophytos']s, 7.4ms\n",
            "Speed: 1.8ms preprocess, 7.4ms inference, 1.4ms postprocess per image at shape (1, 3, 640, 640)\n",
            "\n"
          ]
        },
        {
          "output_type": "stream",
          "name": "stdout",
          "text": [
            "[0 0 0 0]\n"
          ]
        },
        {
          "output_type": "stream",
          "name": "stderr",
          "text": [
            "image 1/1 /content/drive/MyDrive/Trabajo_final_VIU/YOLOV8/Dataset/test/images/imagen787-3.jpg: 640x640 (no detections), 7.4ms\n",
            "Speed: 1.6ms preprocess, 7.4ms inference, 0.7ms postprocess per image at shape (1, 3, 640, 640)\n",
            "\n"
          ]
        },
        {
          "output_type": "stream",
          "name": "stdout",
          "text": [
            "[]\n"
          ]
        },
        {
          "output_type": "stream",
          "name": "stderr",
          "text": [
            "image 1/1 /content/drive/MyDrive/Trabajo_final_VIU/YOLOV8/Dataset/test/images/imagen787-4.jpg: 640x544 (no detections), 7.8ms\n",
            "Speed: 1.6ms preprocess, 7.8ms inference, 0.7ms postprocess per image at shape (1, 3, 640, 544)\n",
            "\n"
          ]
        },
        {
          "output_type": "stream",
          "name": "stdout",
          "text": [
            "[]\n"
          ]
        },
        {
          "output_type": "stream",
          "name": "stderr",
          "text": [
            "image 1/1 /content/drive/MyDrive/Trabajo_final_VIU/YOLOV8/Dataset/test/images/imagen788-4.jpg: 640x544 6 ['Osteophytos']s, 9.4ms\n",
            "Speed: 1.8ms preprocess, 9.4ms inference, 1.4ms postprocess per image at shape (1, 3, 640, 544)\n",
            "\n"
          ]
        },
        {
          "output_type": "stream",
          "name": "stdout",
          "text": [
            "[0 0 0 0 0 0]\n"
          ]
        },
        {
          "output_type": "stream",
          "name": "stderr",
          "text": [
            "image 1/1 /content/drive/MyDrive/Trabajo_final_VIU/YOLOV8/Dataset/test/images/imagen789-5.jpg: 544x640 1 ['Osteophytos'], 7.9ms\n",
            "Speed: 1.5ms preprocess, 7.9ms inference, 1.3ms postprocess per image at shape (1, 3, 544, 640)\n",
            "\n"
          ]
        },
        {
          "output_type": "stream",
          "name": "stdout",
          "text": [
            "[0]\n"
          ]
        },
        {
          "output_type": "stream",
          "name": "stderr",
          "text": [
            "image 1/1 /content/drive/MyDrive/Trabajo_final_VIU/YOLOV8/Dataset/test/images/imagen789-7.jpg: 640x640 3 ['Osteophytos']s, 8.1ms\n",
            "Speed: 1.6ms preprocess, 8.1ms inference, 1.3ms postprocess per image at shape (1, 3, 640, 640)\n",
            "\n"
          ]
        },
        {
          "output_type": "stream",
          "name": "stdout",
          "text": [
            "[0 0 0]\n"
          ]
        },
        {
          "output_type": "stream",
          "name": "stderr",
          "text": [
            "image 1/1 /content/drive/MyDrive/Trabajo_final_VIU/YOLOV8/Dataset/test/images/imagen789-8.jpg: 640x640 3 ['Osteophytos']s, 7.4ms\n",
            "Speed: 1.6ms preprocess, 7.4ms inference, 1.3ms postprocess per image at shape (1, 3, 640, 640)\n",
            "\n"
          ]
        },
        {
          "output_type": "stream",
          "name": "stdout",
          "text": [
            "[0 0 0]\n"
          ]
        },
        {
          "output_type": "stream",
          "name": "stderr",
          "text": [
            "image 1/1 /content/drive/MyDrive/Trabajo_final_VIU/YOLOV8/Dataset/test/images/imagen79-10.jpg: 640x640 (no detections), 8.7ms\n",
            "Speed: 1.9ms preprocess, 8.7ms inference, 0.9ms postprocess per image at shape (1, 3, 640, 640)\n",
            "\n"
          ]
        },
        {
          "output_type": "stream",
          "name": "stdout",
          "text": [
            "[]\n"
          ]
        },
        {
          "output_type": "stream",
          "name": "stderr",
          "text": [
            "image 1/1 /content/drive/MyDrive/Trabajo_final_VIU/YOLOV8/Dataset/test/images/imagen790-8.jpg: 640x576 (no detections), 9.4ms\n",
            "Speed: 1.8ms preprocess, 9.4ms inference, 0.9ms postprocess per image at shape (1, 3, 640, 576)\n",
            "\n"
          ]
        },
        {
          "output_type": "stream",
          "name": "stdout",
          "text": [
            "[]\n"
          ]
        },
        {
          "output_type": "stream",
          "name": "stderr",
          "text": [
            "image 1/1 /content/drive/MyDrive/Trabajo_final_VIU/YOLOV8/Dataset/test/images/imagen791-6.jpg: 640x576 (no detections), 7.3ms\n",
            "Speed: 1.5ms preprocess, 7.3ms inference, 0.7ms postprocess per image at shape (1, 3, 640, 576)\n",
            "\n"
          ]
        },
        {
          "output_type": "stream",
          "name": "stdout",
          "text": [
            "[]\n"
          ]
        },
        {
          "output_type": "stream",
          "name": "stderr",
          "text": [
            "image 1/1 /content/drive/MyDrive/Trabajo_final_VIU/YOLOV8/Dataset/test/images/imagen792-4.jpg: 640x512 (no detections), 7.1ms\n",
            "Speed: 2.1ms preprocess, 7.1ms inference, 1.0ms postprocess per image at shape (1, 3, 640, 512)\n",
            "\n"
          ]
        },
        {
          "output_type": "stream",
          "name": "stdout",
          "text": [
            "[]\n"
          ]
        },
        {
          "output_type": "stream",
          "name": "stderr",
          "text": [
            "image 1/1 /content/drive/MyDrive/Trabajo_final_VIU/YOLOV8/Dataset/test/images/imagen792-6.jpg: 640x480 2 ['Osteophytos']s, 7.3ms\n",
            "Speed: 2.3ms preprocess, 7.3ms inference, 1.4ms postprocess per image at shape (1, 3, 640, 480)\n",
            "\n"
          ]
        },
        {
          "output_type": "stream",
          "name": "stdout",
          "text": [
            "[0 0]\n"
          ]
        },
        {
          "output_type": "stream",
          "name": "stderr",
          "text": [
            "image 1/1 /content/drive/MyDrive/Trabajo_final_VIU/YOLOV8/Dataset/test/images/imagen792-8.jpg: 640x448 (no detections), 7.1ms\n",
            "Speed: 1.4ms preprocess, 7.1ms inference, 0.7ms postprocess per image at shape (1, 3, 640, 448)\n",
            "\n"
          ]
        },
        {
          "output_type": "stream",
          "name": "stdout",
          "text": [
            "[]\n"
          ]
        },
        {
          "output_type": "stream",
          "name": "stderr",
          "text": [
            "image 1/1 /content/drive/MyDrive/Trabajo_final_VIU/YOLOV8/Dataset/test/images/imagen793-5.jpg: 640x640 2 ['Osteophytos']s, 8.1ms\n",
            "Speed: 1.6ms preprocess, 8.1ms inference, 1.3ms postprocess per image at shape (1, 3, 640, 640)\n",
            "\n"
          ]
        },
        {
          "output_type": "stream",
          "name": "stdout",
          "text": [
            "[0 0]\n"
          ]
        },
        {
          "output_type": "stream",
          "name": "stderr",
          "text": [
            "image 1/1 /content/drive/MyDrive/Trabajo_final_VIU/YOLOV8/Dataset/test/images/imagen794-4.jpg: 640x352 2 ['Osteophytos']s, 7.4ms\n",
            "Speed: 1.3ms preprocess, 7.4ms inference, 1.3ms postprocess per image at shape (1, 3, 640, 352)\n",
            "\n"
          ]
        },
        {
          "output_type": "stream",
          "name": "stdout",
          "text": [
            "[0 0]\n"
          ]
        },
        {
          "output_type": "stream",
          "name": "stderr",
          "text": [
            "image 1/1 /content/drive/MyDrive/Trabajo_final_VIU/YOLOV8/Dataset/test/images/imagen795-2.jpg: 640x448 (no detections), 7.1ms\n",
            "Speed: 1.4ms preprocess, 7.1ms inference, 0.6ms postprocess per image at shape (1, 3, 640, 448)\n",
            "\n"
          ]
        },
        {
          "output_type": "stream",
          "name": "stdout",
          "text": [
            "[]\n"
          ]
        },
        {
          "output_type": "stream",
          "name": "stderr",
          "text": [
            "image 1/1 /content/drive/MyDrive/Trabajo_final_VIU/YOLOV8/Dataset/test/images/imagen795-4.jpg: 640x448 4 ['Osteophytos']s, 8.1ms\n",
            "Speed: 1.5ms preprocess, 8.1ms inference, 1.4ms postprocess per image at shape (1, 3, 640, 448)\n",
            "\n"
          ]
        },
        {
          "output_type": "stream",
          "name": "stdout",
          "text": [
            "[0 0 0 0]\n"
          ]
        },
        {
          "output_type": "stream",
          "name": "stderr",
          "text": [
            "image 1/1 /content/drive/MyDrive/Trabajo_final_VIU/YOLOV8/Dataset/test/images/imagen796-1.jpg: 640x640 (no detections), 8.1ms\n",
            "Speed: 1.7ms preprocess, 8.1ms inference, 0.7ms postprocess per image at shape (1, 3, 640, 640)\n",
            "\n"
          ]
        },
        {
          "output_type": "stream",
          "name": "stdout",
          "text": [
            "[]\n"
          ]
        },
        {
          "output_type": "stream",
          "name": "stderr",
          "text": [
            "image 1/1 /content/drive/MyDrive/Trabajo_final_VIU/YOLOV8/Dataset/test/images/imagen796-3.jpg: 640x640 2 ['Osteophytos']s, 7.4ms\n",
            "Speed: 1.6ms preprocess, 7.4ms inference, 1.4ms postprocess per image at shape (1, 3, 640, 640)\n",
            "\n"
          ]
        },
        {
          "output_type": "stream",
          "name": "stdout",
          "text": [
            "[0 0]\n"
          ]
        },
        {
          "output_type": "stream",
          "name": "stderr",
          "text": [
            "image 1/1 /content/drive/MyDrive/Trabajo_final_VIU/YOLOV8/Dataset/test/images/imagen797-11.jpg: 640x640 (no detections), 7.4ms\n",
            "Speed: 1.6ms preprocess, 7.4ms inference, 0.8ms postprocess per image at shape (1, 3, 640, 640)\n",
            "\n"
          ]
        },
        {
          "output_type": "stream",
          "name": "stdout",
          "text": [
            "[]\n"
          ]
        },
        {
          "output_type": "stream",
          "name": "stderr",
          "text": [
            "image 1/1 /content/drive/MyDrive/Trabajo_final_VIU/YOLOV8/Dataset/test/images/imagen797-5.jpg: 640x640 (no detections), 12.9ms\n",
            "Speed: 2.0ms preprocess, 12.9ms inference, 4.0ms postprocess per image at shape (1, 3, 640, 640)\n",
            "\n"
          ]
        },
        {
          "output_type": "stream",
          "name": "stdout",
          "text": [
            "[]\n"
          ]
        },
        {
          "output_type": "stream",
          "name": "stderr",
          "text": [
            "image 1/1 /content/drive/MyDrive/Trabajo_final_VIU/YOLOV8/Dataset/test/images/imagen797-8.jpg: 640x640 2 ['Osteophytos']s, 8.6ms\n",
            "Speed: 1.8ms preprocess, 8.6ms inference, 1.9ms postprocess per image at shape (1, 3, 640, 640)\n",
            "\n"
          ]
        },
        {
          "output_type": "stream",
          "name": "stdout",
          "text": [
            "[0 0]\n"
          ]
        },
        {
          "output_type": "stream",
          "name": "stderr",
          "text": [
            "image 1/1 /content/drive/MyDrive/Trabajo_final_VIU/YOLOV8/Dataset/test/images/imagen798-4.jpg: 640x640 (no detections), 8.0ms\n",
            "Speed: 3.6ms preprocess, 8.0ms inference, 0.9ms postprocess per image at shape (1, 3, 640, 640)\n",
            "\n"
          ]
        },
        {
          "output_type": "stream",
          "name": "stdout",
          "text": [
            "[]\n"
          ]
        },
        {
          "output_type": "stream",
          "name": "stderr",
          "text": [
            "image 1/1 /content/drive/MyDrive/Trabajo_final_VIU/YOLOV8/Dataset/test/images/imagen798-6.jpg: 640x576 (no detections), 10.2ms\n",
            "Speed: 1.6ms preprocess, 10.2ms inference, 1.0ms postprocess per image at shape (1, 3, 640, 576)\n",
            "\n"
          ]
        },
        {
          "output_type": "stream",
          "name": "stdout",
          "text": [
            "[]\n"
          ]
        },
        {
          "output_type": "stream",
          "name": "stderr",
          "text": [
            "image 1/1 /content/drive/MyDrive/Trabajo_final_VIU/YOLOV8/Dataset/test/images/imagen798-8.jpg: 640x576 (no detections), 7.3ms\n",
            "Speed: 1.6ms preprocess, 7.3ms inference, 0.7ms postprocess per image at shape (1, 3, 640, 576)\n",
            "\n"
          ]
        },
        {
          "output_type": "stream",
          "name": "stdout",
          "text": [
            "[]\n"
          ]
        },
        {
          "output_type": "stream",
          "name": "stderr",
          "text": [
            "image 1/1 /content/drive/MyDrive/Trabajo_final_VIU/YOLOV8/Dataset/test/images/imagen799-4.jpg: 640x640 (no detections), 8.1ms\n",
            "Speed: 2.7ms preprocess, 8.1ms inference, 0.7ms postprocess per image at shape (1, 3, 640, 640)\n",
            "\n"
          ]
        },
        {
          "output_type": "stream",
          "name": "stdout",
          "text": [
            "[]\n"
          ]
        },
        {
          "output_type": "stream",
          "name": "stderr",
          "text": [
            "image 1/1 /content/drive/MyDrive/Trabajo_final_VIU/YOLOV8/Dataset/test/images/imagen799-6.jpg: 640x576 3 ['Osteophytos']s, 8.0ms\n",
            "Speed: 1.7ms preprocess, 8.0ms inference, 1.4ms postprocess per image at shape (1, 3, 640, 576)\n",
            "\n"
          ]
        },
        {
          "output_type": "stream",
          "name": "stdout",
          "text": [
            "[0 0 0]\n"
          ]
        },
        {
          "output_type": "stream",
          "name": "stderr",
          "text": [
            "image 1/1 /content/drive/MyDrive/Trabajo_final_VIU/YOLOV8/Dataset/test/images/imagen799-8.jpg: 640x576 (no detections), 7.3ms\n",
            "Speed: 1.6ms preprocess, 7.3ms inference, 0.7ms postprocess per image at shape (1, 3, 640, 576)\n",
            "\n"
          ]
        },
        {
          "output_type": "stream",
          "name": "stdout",
          "text": [
            "[]\n"
          ]
        },
        {
          "output_type": "stream",
          "name": "stderr",
          "text": [
            "image 1/1 /content/drive/MyDrive/Trabajo_final_VIU/YOLOV8/Dataset/test/images/imagen8-2.jpg: 640x608 (no detections), 8.0ms\n",
            "Speed: 1.6ms preprocess, 8.0ms inference, 0.7ms postprocess per image at shape (1, 3, 640, 608)\n",
            "\n"
          ]
        },
        {
          "output_type": "stream",
          "name": "stdout",
          "text": [
            "[]\n"
          ]
        },
        {
          "output_type": "stream",
          "name": "stderr",
          "text": [
            "image 1/1 /content/drive/MyDrive/Trabajo_final_VIU/YOLOV8/Dataset/test/images/imagen80-5.jpg: 640x640 (no detections), 8.1ms\n",
            "Speed: 1.6ms preprocess, 8.1ms inference, 0.7ms postprocess per image at shape (1, 3, 640, 640)\n",
            "\n"
          ]
        },
        {
          "output_type": "stream",
          "name": "stdout",
          "text": [
            "[]\n"
          ]
        },
        {
          "output_type": "stream",
          "name": "stderr",
          "text": [
            "image 1/1 /content/drive/MyDrive/Trabajo_final_VIU/YOLOV8/Dataset/test/images/imagen80-8.jpg: 640x640 1 ['Osteophytos'], 7.6ms\n",
            "Speed: 1.8ms preprocess, 7.6ms inference, 1.3ms postprocess per image at shape (1, 3, 640, 640)\n",
            "\n"
          ]
        },
        {
          "output_type": "stream",
          "name": "stdout",
          "text": [
            "[0]\n"
          ]
        },
        {
          "output_type": "stream",
          "name": "stderr",
          "text": [
            "image 1/1 /content/drive/MyDrive/Trabajo_final_VIU/YOLOV8/Dataset/test/images/imagen800-3.jpg: 512x640 4 ['Osteophytos']s, 7.1ms\n",
            "Speed: 1.4ms preprocess, 7.1ms inference, 1.3ms postprocess per image at shape (1, 3, 512, 640)\n",
            "\n"
          ]
        },
        {
          "output_type": "stream",
          "name": "stdout",
          "text": [
            "[0 0 0 0]\n"
          ]
        },
        {
          "output_type": "stream",
          "name": "stderr",
          "text": [
            "image 1/1 /content/drive/MyDrive/Trabajo_final_VIU/YOLOV8/Dataset/test/images/imagen800-4.jpg: 640x640 5 ['Osteophytos']s, 8.1ms\n",
            "Speed: 2.9ms preprocess, 8.1ms inference, 1.4ms postprocess per image at shape (1, 3, 640, 640)\n",
            "\n"
          ]
        },
        {
          "output_type": "stream",
          "name": "stdout",
          "text": [
            "[0 0 0 0 0]\n"
          ]
        },
        {
          "output_type": "stream",
          "name": "stderr",
          "text": [
            "image 1/1 /content/drive/MyDrive/Trabajo_final_VIU/YOLOV8/Dataset/test/images/imagen800-5.jpg: 640x640 3 ['Osteophytos']s, 7.4ms\n",
            "Speed: 1.6ms preprocess, 7.4ms inference, 1.5ms postprocess per image at shape (1, 3, 640, 640)\n",
            "\n"
          ]
        },
        {
          "output_type": "stream",
          "name": "stdout",
          "text": [
            "[0 0 0]\n"
          ]
        },
        {
          "output_type": "stream",
          "name": "stderr",
          "text": [
            "image 1/1 /content/drive/MyDrive/Trabajo_final_VIU/YOLOV8/Dataset/test/images/imagen800-6.jpg: 640x544 3 ['Osteophytos']s, 7.9ms\n",
            "Speed: 1.6ms preprocess, 7.9ms inference, 1.3ms postprocess per image at shape (1, 3, 640, 544)\n",
            "\n"
          ]
        },
        {
          "output_type": "stream",
          "name": "stdout",
          "text": [
            "[0 0 0]\n"
          ]
        },
        {
          "output_type": "stream",
          "name": "stderr",
          "text": [
            "image 1/1 /content/drive/MyDrive/Trabajo_final_VIU/YOLOV8/Dataset/test/images/imagen801-3.jpg: 640x640 1 ['Osteophytos'], 9.5ms\n",
            "Speed: 1.9ms preprocess, 9.5ms inference, 1.7ms postprocess per image at shape (1, 3, 640, 640)\n",
            "\n"
          ]
        },
        {
          "output_type": "stream",
          "name": "stdout",
          "text": [
            "[0]\n"
          ]
        },
        {
          "output_type": "stream",
          "name": "stderr",
          "text": [
            "image 1/1 /content/drive/MyDrive/Trabajo_final_VIU/YOLOV8/Dataset/test/images/imagen801-4.jpg: 640x576 (no detections), 8.9ms\n",
            "Speed: 1.8ms preprocess, 8.9ms inference, 0.9ms postprocess per image at shape (1, 3, 640, 576)\n",
            "\n"
          ]
        },
        {
          "output_type": "stream",
          "name": "stdout",
          "text": [
            "[]\n"
          ]
        },
        {
          "output_type": "stream",
          "name": "stderr",
          "text": [
            "image 1/1 /content/drive/MyDrive/Trabajo_final_VIU/YOLOV8/Dataset/test/images/imagen802-6.jpg: 640x480 1 ['Osteophytos'], 7.2ms\n",
            "Speed: 1.4ms preprocess, 7.2ms inference, 1.3ms postprocess per image at shape (1, 3, 640, 480)\n",
            "\n"
          ]
        },
        {
          "output_type": "stream",
          "name": "stdout",
          "text": [
            "[0]\n"
          ]
        },
        {
          "output_type": "stream",
          "name": "stderr",
          "text": [
            "image 1/1 /content/drive/MyDrive/Trabajo_final_VIU/YOLOV8/Dataset/test/images/imagen803-11.jpg: 640x640 (no detections), 8.0ms\n",
            "Speed: 1.6ms preprocess, 8.0ms inference, 0.7ms postprocess per image at shape (1, 3, 640, 640)\n",
            "\n"
          ]
        },
        {
          "output_type": "stream",
          "name": "stdout",
          "text": [
            "[]\n"
          ]
        },
        {
          "output_type": "stream",
          "name": "stderr",
          "text": [
            "image 1/1 /content/drive/MyDrive/Trabajo_final_VIU/YOLOV8/Dataset/test/images/imagen804-10.jpg: 640x640 1 ['Osteophytos'], 7.4ms\n",
            "Speed: 1.6ms preprocess, 7.4ms inference, 1.3ms postprocess per image at shape (1, 3, 640, 640)\n",
            "\n"
          ]
        },
        {
          "output_type": "stream",
          "name": "stdout",
          "text": [
            "[0]\n"
          ]
        },
        {
          "output_type": "stream",
          "name": "stderr",
          "text": [
            "image 1/1 /content/drive/MyDrive/Trabajo_final_VIU/YOLOV8/Dataset/test/images/imagen805-5.jpg: 640x640 (no detections), 7.4ms\n",
            "Speed: 1.7ms preprocess, 7.4ms inference, 0.7ms postprocess per image at shape (1, 3, 640, 640)\n",
            "\n"
          ]
        },
        {
          "output_type": "stream",
          "name": "stdout",
          "text": [
            "[]\n"
          ]
        },
        {
          "output_type": "stream",
          "name": "stderr",
          "text": [
            "image 1/1 /content/drive/MyDrive/Trabajo_final_VIU/YOLOV8/Dataset/test/images/imagen805-6.jpg: 640x576 2 ['Osteophytos']s, 8.0ms\n",
            "Speed: 1.6ms preprocess, 8.0ms inference, 2.0ms postprocess per image at shape (1, 3, 640, 576)\n",
            "\n"
          ]
        },
        {
          "output_type": "stream",
          "name": "stdout",
          "text": [
            "[0 0]\n"
          ]
        },
        {
          "output_type": "stream",
          "name": "stderr",
          "text": [
            "image 1/1 /content/drive/MyDrive/Trabajo_final_VIU/YOLOV8/Dataset/test/images/imagen806-12.jpg: 640x640 1 ['Osteophytos'], 8.1ms\n",
            "Speed: 1.6ms preprocess, 8.1ms inference, 1.3ms postprocess per image at shape (1, 3, 640, 640)\n",
            "\n"
          ]
        },
        {
          "output_type": "stream",
          "name": "stdout",
          "text": [
            "[0]\n"
          ]
        },
        {
          "output_type": "stream",
          "name": "stderr",
          "text": [
            "image 1/1 /content/drive/MyDrive/Trabajo_final_VIU/YOLOV8/Dataset/test/images/imagen807-10.jpg: 640x640 2 ['Osteophytos']s, 7.4ms\n",
            "Speed: 1.6ms preprocess, 7.4ms inference, 2.1ms postprocess per image at shape (1, 3, 640, 640)\n",
            "\n"
          ]
        },
        {
          "output_type": "stream",
          "name": "stdout",
          "text": [
            "[0 0]\n"
          ]
        },
        {
          "output_type": "stream",
          "name": "stderr",
          "text": [
            "image 1/1 /content/drive/MyDrive/Trabajo_final_VIU/YOLOV8/Dataset/test/images/imagen808-7.jpg: 640x640 (no detections), 7.4ms\n",
            "Speed: 1.6ms preprocess, 7.4ms inference, 0.7ms postprocess per image at shape (1, 3, 640, 640)\n",
            "\n"
          ]
        },
        {
          "output_type": "stream",
          "name": "stdout",
          "text": [
            "[]\n"
          ]
        },
        {
          "output_type": "stream",
          "name": "stderr",
          "text": [
            "image 1/1 /content/drive/MyDrive/Trabajo_final_VIU/YOLOV8/Dataset/test/images/imagen809-3.jpg: 640x640 1 ['Osteophytos'], 7.4ms\n",
            "Speed: 1.6ms preprocess, 7.4ms inference, 1.4ms postprocess per image at shape (1, 3, 640, 640)\n",
            "\n"
          ]
        },
        {
          "output_type": "stream",
          "name": "stdout",
          "text": [
            "[0]\n"
          ]
        },
        {
          "output_type": "stream",
          "name": "stderr",
          "text": [
            "image 1/1 /content/drive/MyDrive/Trabajo_final_VIU/YOLOV8/Dataset/test/images/imagen81-3.jpg: 640x640 3 ['Osteophytos']s, 7.4ms\n",
            "Speed: 1.7ms preprocess, 7.4ms inference, 1.6ms postprocess per image at shape (1, 3, 640, 640)\n",
            "\n"
          ]
        },
        {
          "output_type": "stream",
          "name": "stdout",
          "text": [
            "[0 0 0]\n"
          ]
        },
        {
          "output_type": "stream",
          "name": "stderr",
          "text": [
            "image 1/1 /content/drive/MyDrive/Trabajo_final_VIU/YOLOV8/Dataset/test/images/imagen81-4.jpg: 640x576 (no detections), 8.0ms\n",
            "Speed: 1.6ms preprocess, 8.0ms inference, 0.7ms postprocess per image at shape (1, 3, 640, 576)\n",
            "\n"
          ]
        },
        {
          "output_type": "stream",
          "name": "stdout",
          "text": [
            "[]\n"
          ]
        },
        {
          "output_type": "stream",
          "name": "stderr",
          "text": [
            "image 1/1 /content/drive/MyDrive/Trabajo_final_VIU/YOLOV8/Dataset/test/images/imagen81-6.jpg: 640x576 1 ['Osteophytos'], 7.3ms\n",
            "Speed: 1.7ms preprocess, 7.3ms inference, 1.4ms postprocess per image at shape (1, 3, 640, 576)\n",
            "\n"
          ]
        },
        {
          "output_type": "stream",
          "name": "stdout",
          "text": [
            "[0]\n"
          ]
        },
        {
          "output_type": "stream",
          "name": "stderr",
          "text": [
            "image 1/1 /content/drive/MyDrive/Trabajo_final_VIU/YOLOV8/Dataset/test/images/imagen810-5.jpg: 640x640 (no detections), 8.1ms\n",
            "Speed: 1.7ms preprocess, 8.1ms inference, 0.7ms postprocess per image at shape (1, 3, 640, 640)\n",
            "\n"
          ]
        },
        {
          "output_type": "stream",
          "name": "stdout",
          "text": [
            "[]\n"
          ]
        },
        {
          "output_type": "stream",
          "name": "stderr",
          "text": [
            "image 1/1 /content/drive/MyDrive/Trabajo_final_VIU/YOLOV8/Dataset/test/images/imagen810-7.jpg: 640x640 1 ['Osteophytos'], 8.2ms\n",
            "Speed: 1.8ms preprocess, 8.2ms inference, 1.6ms postprocess per image at shape (1, 3, 640, 640)\n",
            "\n"
          ]
        },
        {
          "output_type": "stream",
          "name": "stdout",
          "text": [
            "[0]\n"
          ]
        },
        {
          "output_type": "stream",
          "name": "stderr",
          "text": [
            "image 1/1 /content/drive/MyDrive/Trabajo_final_VIU/YOLOV8/Dataset/test/images/imagen810-8.jpg: 640x640 1 ['Osteophytos'], 9.1ms\n",
            "Speed: 2.0ms preprocess, 9.1ms inference, 1.7ms postprocess per image at shape (1, 3, 640, 640)\n",
            "\n"
          ]
        },
        {
          "output_type": "stream",
          "name": "stdout",
          "text": [
            "[0]\n"
          ]
        },
        {
          "output_type": "stream",
          "name": "stderr",
          "text": [
            "image 1/1 /content/drive/MyDrive/Trabajo_final_VIU/YOLOV8/Dataset/test/images/imagen811-3.jpg: 640x640 1 ['Osteophytos'], 11.9ms\n",
            "Speed: 1.9ms preprocess, 11.9ms inference, 1.9ms postprocess per image at shape (1, 3, 640, 640)\n",
            "\n"
          ]
        },
        {
          "output_type": "stream",
          "name": "stdout",
          "text": [
            "[0]\n"
          ]
        },
        {
          "output_type": "stream",
          "name": "stderr",
          "text": [
            "image 1/1 /content/drive/MyDrive/Trabajo_final_VIU/YOLOV8/Dataset/test/images/imagen812-2.jpg: 640x640 (no detections), 7.4ms\n",
            "Speed: 1.6ms preprocess, 7.4ms inference, 0.8ms postprocess per image at shape (1, 3, 640, 640)\n",
            "\n"
          ]
        },
        {
          "output_type": "stream",
          "name": "stdout",
          "text": [
            "[]\n"
          ]
        },
        {
          "output_type": "stream",
          "name": "stderr",
          "text": [
            "image 1/1 /content/drive/MyDrive/Trabajo_final_VIU/YOLOV8/Dataset/test/images/imagen812-4.jpg: 640x640 1 ['Osteophytos'], 13.9ms\n",
            "Speed: 1.9ms preprocess, 13.9ms inference, 1.6ms postprocess per image at shape (1, 3, 640, 640)\n",
            "\n"
          ]
        },
        {
          "output_type": "stream",
          "name": "stdout",
          "text": [
            "[0]\n"
          ]
        },
        {
          "output_type": "stream",
          "name": "stderr",
          "text": [
            "image 1/1 /content/drive/MyDrive/Trabajo_final_VIU/YOLOV8/Dataset/test/images/imagen812-6.jpg: 640x640 2 ['Osteophytos']s, 7.4ms\n",
            "Speed: 1.8ms preprocess, 7.4ms inference, 1.4ms postprocess per image at shape (1, 3, 640, 640)\n",
            "\n"
          ]
        },
        {
          "output_type": "stream",
          "name": "stdout",
          "text": [
            "[0 0]\n"
          ]
        },
        {
          "output_type": "stream",
          "name": "stderr",
          "text": [
            "image 1/1 /content/drive/MyDrive/Trabajo_final_VIU/YOLOV8/Dataset/test/images/imagen813-5.jpg: 640x640 2 ['Osteophytos']s, 7.4ms\n",
            "Speed: 1.6ms preprocess, 7.4ms inference, 1.4ms postprocess per image at shape (1, 3, 640, 640)\n",
            "\n"
          ]
        },
        {
          "output_type": "stream",
          "name": "stdout",
          "text": [
            "[0 0]\n"
          ]
        },
        {
          "output_type": "stream",
          "name": "stderr",
          "text": [
            "image 1/1 /content/drive/MyDrive/Trabajo_final_VIU/YOLOV8/Dataset/test/images/imagen813-7.jpg: 640x640 3 ['Osteophytos']s, 7.4ms\n",
            "Speed: 1.6ms preprocess, 7.4ms inference, 1.4ms postprocess per image at shape (1, 3, 640, 640)\n",
            "\n"
          ]
        },
        {
          "output_type": "stream",
          "name": "stdout",
          "text": [
            "[0 0 0]\n"
          ]
        },
        {
          "output_type": "stream",
          "name": "stderr",
          "text": [
            "image 1/1 /content/drive/MyDrive/Trabajo_final_VIU/YOLOV8/Dataset/test/images/imagen813-8.jpg: 640x640 4 ['Osteophytos']s, 7.5ms\n",
            "Speed: 1.8ms preprocess, 7.5ms inference, 1.4ms postprocess per image at shape (1, 3, 640, 640)\n",
            "\n"
          ]
        },
        {
          "output_type": "stream",
          "name": "stdout",
          "text": [
            "[0 0 0 0]\n"
          ]
        },
        {
          "output_type": "stream",
          "name": "stderr",
          "text": [
            "image 1/1 /content/drive/MyDrive/Trabajo_final_VIU/YOLOV8/Dataset/test/images/imagen814-11.jpg: 640x640 (no detections), 7.4ms\n",
            "Speed: 1.9ms preprocess, 7.4ms inference, 0.8ms postprocess per image at shape (1, 3, 640, 640)\n",
            "\n"
          ]
        },
        {
          "output_type": "stream",
          "name": "stdout",
          "text": [
            "[]\n"
          ]
        },
        {
          "output_type": "stream",
          "name": "stderr",
          "text": [
            "image 1/1 /content/drive/MyDrive/Trabajo_final_VIU/YOLOV8/Dataset/test/images/imagen814-15.jpg: 640x640 (no detections), 8.1ms\n",
            "Speed: 1.9ms preprocess, 8.1ms inference, 0.7ms postprocess per image at shape (1, 3, 640, 640)\n",
            "\n"
          ]
        },
        {
          "output_type": "stream",
          "name": "stdout",
          "text": [
            "[]\n"
          ]
        },
        {
          "output_type": "stream",
          "name": "stderr",
          "text": [
            "image 1/1 /content/drive/MyDrive/Trabajo_final_VIU/YOLOV8/Dataset/test/images/imagen815-15.jpg: 640x640 1 ['Osteophytos'], 7.4ms\n",
            "Speed: 1.7ms preprocess, 7.4ms inference, 1.4ms postprocess per image at shape (1, 3, 640, 640)\n",
            "\n"
          ]
        },
        {
          "output_type": "stream",
          "name": "stdout",
          "text": [
            "[0]\n"
          ]
        },
        {
          "output_type": "stream",
          "name": "stderr",
          "text": [
            "image 1/1 /content/drive/MyDrive/Trabajo_final_VIU/YOLOV8/Dataset/test/images/imagen816-11.jpg: 608x640 (no detections), 8.3ms\n",
            "Speed: 1.8ms preprocess, 8.3ms inference, 0.7ms postprocess per image at shape (1, 3, 608, 640)\n",
            "\n"
          ]
        },
        {
          "output_type": "stream",
          "name": "stdout",
          "text": [
            "[]\n"
          ]
        },
        {
          "output_type": "stream",
          "name": "stderr",
          "text": [
            "image 1/1 /content/drive/MyDrive/Trabajo_final_VIU/YOLOV8/Dataset/test/images/imagen816-15.jpg: 640x640 (no detections), 8.1ms\n",
            "Speed: 1.6ms preprocess, 8.1ms inference, 0.7ms postprocess per image at shape (1, 3, 640, 640)\n",
            "\n"
          ]
        },
        {
          "output_type": "stream",
          "name": "stdout",
          "text": [
            "[]\n"
          ]
        },
        {
          "output_type": "stream",
          "name": "stderr",
          "text": [
            "image 1/1 /content/drive/MyDrive/Trabajo_final_VIU/YOLOV8/Dataset/test/images/imagen817-3.jpg: 640x640 2 ['Osteophytos']s, 9.2ms\n",
            "Speed: 1.9ms preprocess, 9.2ms inference, 3.4ms postprocess per image at shape (1, 3, 640, 640)\n",
            "\n"
          ]
        },
        {
          "output_type": "stream",
          "name": "stdout",
          "text": [
            "[0 0]\n"
          ]
        },
        {
          "output_type": "stream",
          "name": "stderr",
          "text": [
            "image 1/1 /content/drive/MyDrive/Trabajo_final_VIU/YOLOV8/Dataset/test/images/imagen818-13.jpg: 640x640 1 ['Osteophytos'], 10.4ms\n",
            "Speed: 1.9ms preprocess, 10.4ms inference, 1.7ms postprocess per image at shape (1, 3, 640, 640)\n",
            "\n"
          ]
        },
        {
          "output_type": "stream",
          "name": "stdout",
          "text": [
            "[0]\n"
          ]
        },
        {
          "output_type": "stream",
          "name": "stderr",
          "text": [
            "image 1/1 /content/drive/MyDrive/Trabajo_final_VIU/YOLOV8/Dataset/test/images/imagen819-4.jpg: 640x544 1 ['Osteophytos'], 10.2ms\n",
            "Speed: 3.1ms preprocess, 10.2ms inference, 2.2ms postprocess per image at shape (1, 3, 640, 544)\n",
            "\n"
          ]
        },
        {
          "output_type": "stream",
          "name": "stdout",
          "text": [
            "[0]\n"
          ]
        },
        {
          "output_type": "stream",
          "name": "stderr",
          "text": [
            "image 1/1 /content/drive/MyDrive/Trabajo_final_VIU/YOLOV8/Dataset/test/images/imagen819-6.jpg: 640x512 4 ['Osteophytos']s, 7.0ms\n",
            "Speed: 2.2ms preprocess, 7.0ms inference, 1.3ms postprocess per image at shape (1, 3, 640, 512)\n",
            "\n"
          ]
        },
        {
          "output_type": "stream",
          "name": "stdout",
          "text": [
            "[0 0 0 0]\n"
          ]
        },
        {
          "output_type": "stream",
          "name": "stderr",
          "text": [
            "image 1/1 /content/drive/MyDrive/Trabajo_final_VIU/YOLOV8/Dataset/test/images/imagen819-8.jpg: 640x480 1 ['Osteophytos'], 7.1ms\n",
            "Speed: 1.4ms preprocess, 7.1ms inference, 1.3ms postprocess per image at shape (1, 3, 640, 480)\n",
            "\n"
          ]
        },
        {
          "output_type": "stream",
          "name": "stdout",
          "text": [
            "[0]\n"
          ]
        },
        {
          "output_type": "stream",
          "name": "stderr",
          "text": [
            "image 1/1 /content/drive/MyDrive/Trabajo_final_VIU/YOLOV8/Dataset/test/images/imagen82-5.jpg: 640x640 2 ['Osteophytos']s, 8.1ms\n",
            "Speed: 1.6ms preprocess, 8.1ms inference, 1.4ms postprocess per image at shape (1, 3, 640, 640)\n",
            "\n"
          ]
        },
        {
          "output_type": "stream",
          "name": "stdout",
          "text": [
            "[0 0]\n"
          ]
        },
        {
          "output_type": "stream",
          "name": "stderr",
          "text": [
            "image 1/1 /content/drive/MyDrive/Trabajo_final_VIU/YOLOV8/Dataset/test/images/imagen82-6.jpg: 640x544 3 ['Osteophytos']s, 8.0ms\n",
            "Speed: 1.5ms preprocess, 8.0ms inference, 1.4ms postprocess per image at shape (1, 3, 640, 544)\n",
            "\n"
          ]
        },
        {
          "output_type": "stream",
          "name": "stdout",
          "text": [
            "[0 0 0]\n"
          ]
        },
        {
          "output_type": "stream",
          "name": "stderr",
          "text": [
            "image 1/1 /content/drive/MyDrive/Trabajo_final_VIU/YOLOV8/Dataset/test/images/imagen820-3.jpg: 640x640 3 ['Osteophytos']s, 8.2ms\n",
            "Speed: 1.7ms preprocess, 8.2ms inference, 1.3ms postprocess per image at shape (1, 3, 640, 640)\n",
            "\n"
          ]
        },
        {
          "output_type": "stream",
          "name": "stdout",
          "text": [
            "[0 0 0]\n"
          ]
        },
        {
          "output_type": "stream",
          "name": "stderr",
          "text": [
            "image 1/1 /content/drive/MyDrive/Trabajo_final_VIU/YOLOV8/Dataset/test/images/imagen820-4.jpg: 640x640 (no detections), 7.4ms\n",
            "Speed: 1.7ms preprocess, 7.4ms inference, 0.8ms postprocess per image at shape (1, 3, 640, 640)\n",
            "\n"
          ]
        },
        {
          "output_type": "stream",
          "name": "stdout",
          "text": [
            "[]\n"
          ]
        },
        {
          "output_type": "stream",
          "name": "stderr",
          "text": [
            "image 1/1 /content/drive/MyDrive/Trabajo_final_VIU/YOLOV8/Dataset/test/images/imagen820-5.jpg: 640x640 1 ['Osteophytos'], 7.4ms\n",
            "Speed: 1.6ms preprocess, 7.4ms inference, 1.4ms postprocess per image at shape (1, 3, 640, 640)\n",
            "\n"
          ]
        },
        {
          "output_type": "stream",
          "name": "stdout",
          "text": [
            "[0]\n"
          ]
        },
        {
          "output_type": "stream",
          "name": "stderr",
          "text": [
            "image 1/1 /content/drive/MyDrive/Trabajo_final_VIU/YOLOV8/Dataset/test/images/imagen820-6.jpg: 640x640 2 ['Osteophytos']s, 7.4ms\n",
            "Speed: 1.6ms preprocess, 7.4ms inference, 1.4ms postprocess per image at shape (1, 3, 640, 640)\n",
            "\n"
          ]
        },
        {
          "output_type": "stream",
          "name": "stdout",
          "text": [
            "[0 0]\n"
          ]
        },
        {
          "output_type": "stream",
          "name": "stderr",
          "text": [
            "image 1/1 /content/drive/MyDrive/Trabajo_final_VIU/YOLOV8/Dataset/test/images/imagen821-4.jpg: 640x608 (no detections), 8.0ms\n",
            "Speed: 1.7ms preprocess, 8.0ms inference, 0.7ms postprocess per image at shape (1, 3, 640, 608)\n",
            "\n"
          ]
        },
        {
          "output_type": "stream",
          "name": "stdout",
          "text": [
            "[]\n"
          ]
        },
        {
          "output_type": "stream",
          "name": "stderr",
          "text": [
            "image 1/1 /content/drive/MyDrive/Trabajo_final_VIU/YOLOV8/Dataset/test/images/imagen821-5.jpg: 640x640 1 ['Osteophytos'], 8.0ms\n",
            "Speed: 1.8ms preprocess, 8.0ms inference, 1.3ms postprocess per image at shape (1, 3, 640, 640)\n",
            "\n"
          ]
        },
        {
          "output_type": "stream",
          "name": "stdout",
          "text": [
            "[0]\n"
          ]
        },
        {
          "output_type": "stream",
          "name": "stderr",
          "text": [
            "image 1/1 /content/drive/MyDrive/Trabajo_final_VIU/YOLOV8/Dataset/test/images/imagen821-6.jpg: 640x608 1 ['Osteophytos'], 8.1ms\n",
            "Speed: 1.7ms preprocess, 8.1ms inference, 1.3ms postprocess per image at shape (1, 3, 640, 608)\n",
            "\n"
          ]
        },
        {
          "output_type": "stream",
          "name": "stdout",
          "text": [
            "[0]\n"
          ]
        },
        {
          "output_type": "stream",
          "name": "stderr",
          "text": [
            "image 1/1 /content/drive/MyDrive/Trabajo_final_VIU/YOLOV8/Dataset/test/images/imagen822-1.jpg: 640x640 1 ['Osteophytos'], 8.2ms\n",
            "Speed: 1.7ms preprocess, 8.2ms inference, 1.4ms postprocess per image at shape (1, 3, 640, 640)\n",
            "\n"
          ]
        },
        {
          "output_type": "stream",
          "name": "stdout",
          "text": [
            "[0]\n"
          ]
        },
        {
          "output_type": "stream",
          "name": "stderr",
          "text": [
            "image 1/1 /content/drive/MyDrive/Trabajo_final_VIU/YOLOV8/Dataset/test/images/imagen822-4.jpg: 640x544 1 ['Osteophytos'], 9.6ms\n",
            "Speed: 1.7ms preprocess, 9.6ms inference, 1.7ms postprocess per image at shape (1, 3, 640, 544)\n",
            "\n"
          ]
        },
        {
          "output_type": "stream",
          "name": "stdout",
          "text": [
            "[0]\n"
          ]
        },
        {
          "output_type": "stream",
          "name": "stderr",
          "text": [
            "image 1/1 /content/drive/MyDrive/Trabajo_final_VIU/YOLOV8/Dataset/test/images/imagen822-6.jpg: 640x544 4 ['Osteophytos']s, 8.5ms\n",
            "Speed: 1.8ms preprocess, 8.5ms inference, 1.7ms postprocess per image at shape (1, 3, 640, 544)\n",
            "\n"
          ]
        },
        {
          "output_type": "stream",
          "name": "stdout",
          "text": [
            "[0 0 0 0]\n"
          ]
        },
        {
          "output_type": "stream",
          "name": "stderr",
          "text": [
            "image 1/1 /content/drive/MyDrive/Trabajo_final_VIU/YOLOV8/Dataset/test/images/imagen823-11.jpg: 640x640 3 ['Osteophytos']s, 8.2ms\n",
            "Speed: 1.7ms preprocess, 8.2ms inference, 1.4ms postprocess per image at shape (1, 3, 640, 640)\n",
            "\n"
          ]
        },
        {
          "output_type": "stream",
          "name": "stdout",
          "text": [
            "[0 0 0]\n"
          ]
        },
        {
          "output_type": "stream",
          "name": "stderr",
          "text": [
            "image 1/1 /content/drive/MyDrive/Trabajo_final_VIU/YOLOV8/Dataset/test/images/imagen823-15.jpg: 640x640 2 ['Osteophytos']s, 7.4ms\n",
            "Speed: 1.6ms preprocess, 7.4ms inference, 1.4ms postprocess per image at shape (1, 3, 640, 640)\n",
            "\n"
          ]
        },
        {
          "output_type": "stream",
          "name": "stdout",
          "text": [
            "[0 0]\n"
          ]
        },
        {
          "output_type": "stream",
          "name": "stderr",
          "text": [
            "image 1/1 /content/drive/MyDrive/Trabajo_final_VIU/YOLOV8/Dataset/test/images/imagen824-17.jpg: 640x576 (no detections), 8.1ms\n",
            "Speed: 1.6ms preprocess, 8.1ms inference, 0.8ms postprocess per image at shape (1, 3, 640, 576)\n",
            "\n"
          ]
        },
        {
          "output_type": "stream",
          "name": "stdout",
          "text": [
            "[]\n"
          ]
        },
        {
          "output_type": "stream",
          "name": "stderr",
          "text": [
            "image 1/1 /content/drive/MyDrive/Trabajo_final_VIU/YOLOV8/Dataset/test/images/imagen824-18.jpg: 640x640 (no detections), 8.1ms\n",
            "Speed: 1.7ms preprocess, 8.1ms inference, 0.7ms postprocess per image at shape (1, 3, 640, 640)\n",
            "\n"
          ]
        },
        {
          "output_type": "stream",
          "name": "stdout",
          "text": [
            "[]\n"
          ]
        },
        {
          "output_type": "stream",
          "name": "stderr",
          "text": [
            "image 1/1 /content/drive/MyDrive/Trabajo_final_VIU/YOLOV8/Dataset/test/images/imagen825-13.jpg: 640x640 4 ['Osteophytos']s, 7.4ms\n",
            "Speed: 1.7ms preprocess, 7.4ms inference, 1.4ms postprocess per image at shape (1, 3, 640, 640)\n",
            "\n"
          ]
        },
        {
          "output_type": "stream",
          "name": "stdout",
          "text": [
            "[0 0 0 0]\n"
          ]
        },
        {
          "output_type": "stream",
          "name": "stderr",
          "text": [
            "image 1/1 /content/drive/MyDrive/Trabajo_final_VIU/YOLOV8/Dataset/test/images/imagen826-12.jpg: 512x640 3 ['Osteophytos']s, 7.2ms\n",
            "Speed: 2.3ms preprocess, 7.2ms inference, 1.4ms postprocess per image at shape (1, 3, 512, 640)\n",
            "\n"
          ]
        },
        {
          "output_type": "stream",
          "name": "stdout",
          "text": [
            "[0 0 0]\n"
          ]
        },
        {
          "output_type": "stream",
          "name": "stderr",
          "text": [
            "image 1/1 /content/drive/MyDrive/Trabajo_final_VIU/YOLOV8/Dataset/test/images/imagen826-16.jpg: 640x608 2 ['Osteophytos']s, 8.0ms\n",
            "Speed: 1.7ms preprocess, 8.0ms inference, 1.3ms postprocess per image at shape (1, 3, 640, 608)\n",
            "\n"
          ]
        },
        {
          "output_type": "stream",
          "name": "stdout",
          "text": [
            "[0 0]\n"
          ]
        },
        {
          "output_type": "stream",
          "name": "stderr",
          "text": [
            "image 1/1 /content/drive/MyDrive/Trabajo_final_VIU/YOLOV8/Dataset/test/images/imagen827-10.jpg: 640x640 3 ['Osteophytos']s, 8.2ms\n",
            "Speed: 1.6ms preprocess, 8.2ms inference, 1.3ms postprocess per image at shape (1, 3, 640, 640)\n",
            "\n"
          ]
        },
        {
          "output_type": "stream",
          "name": "stdout",
          "text": [
            "[0 0 0]\n"
          ]
        },
        {
          "output_type": "stream",
          "name": "stderr",
          "text": [
            "image 1/1 /content/drive/MyDrive/Trabajo_final_VIU/YOLOV8/Dataset/test/images/imagen827-11.jpg: 640x640 1 ['Osteophytos'], 7.4ms\n",
            "Speed: 1.6ms preprocess, 7.4ms inference, 1.4ms postprocess per image at shape (1, 3, 640, 640)\n",
            "\n"
          ]
        },
        {
          "output_type": "stream",
          "name": "stdout",
          "text": [
            "[0]\n"
          ]
        },
        {
          "output_type": "stream",
          "name": "stderr",
          "text": [
            "image 1/1 /content/drive/MyDrive/Trabajo_final_VIU/YOLOV8/Dataset/test/images/imagen828-11.jpg: 640x640 3 ['Osteophytos']s, 8.7ms\n",
            "Speed: 1.9ms preprocess, 8.7ms inference, 1.7ms postprocess per image at shape (1, 3, 640, 640)\n",
            "\n"
          ]
        },
        {
          "output_type": "stream",
          "name": "stdout",
          "text": [
            "[0 0 0]\n"
          ]
        },
        {
          "output_type": "stream",
          "name": "stderr",
          "text": [
            "image 1/1 /content/drive/MyDrive/Trabajo_final_VIU/YOLOV8/Dataset/test/images/imagen829-10.jpg: 640x640 5 ['Osteophytos']s, 16.6ms\n",
            "Speed: 3.3ms preprocess, 16.6ms inference, 1.8ms postprocess per image at shape (1, 3, 640, 640)\n",
            "\n"
          ]
        },
        {
          "output_type": "stream",
          "name": "stdout",
          "text": [
            "[0 0 0 0 0]\n"
          ]
        },
        {
          "output_type": "stream",
          "name": "stderr",
          "text": [
            "image 1/1 /content/drive/MyDrive/Trabajo_final_VIU/YOLOV8/Dataset/test/images/imagen83-2.jpg: 640x608 2 ['Osteophytos']s, 9.4ms\n",
            "Speed: 1.9ms preprocess, 9.4ms inference, 1.7ms postprocess per image at shape (1, 3, 640, 608)\n",
            "\n"
          ]
        },
        {
          "output_type": "stream",
          "name": "stdout",
          "text": [
            "[0 0]\n"
          ]
        },
        {
          "output_type": "stream",
          "name": "stderr",
          "text": [
            "image 1/1 /content/drive/MyDrive/Trabajo_final_VIU/YOLOV8/Dataset/test/images/imagen83-4.jpg: 640x640 2 ['Osteophytos']s, 8.0ms\n",
            "Speed: 2.7ms preprocess, 8.0ms inference, 1.3ms postprocess per image at shape (1, 3, 640, 640)\n",
            "\n"
          ]
        },
        {
          "output_type": "stream",
          "name": "stdout",
          "text": [
            "[0 0]\n"
          ]
        },
        {
          "output_type": "stream",
          "name": "stderr",
          "text": [
            "image 1/1 /content/drive/MyDrive/Trabajo_final_VIU/YOLOV8/Dataset/test/images/imagen83-6.jpg: 640x608 3 ['Osteophytos']s, 9.2ms\n",
            "Speed: 1.7ms preprocess, 9.2ms inference, 1.4ms postprocess per image at shape (1, 3, 640, 608)\n",
            "\n"
          ]
        },
        {
          "output_type": "stream",
          "name": "stdout",
          "text": [
            "[0 0 0]\n"
          ]
        },
        {
          "output_type": "stream",
          "name": "stderr",
          "text": [
            "image 1/1 /content/drive/MyDrive/Trabajo_final_VIU/YOLOV8/Dataset/test/images/imagen83-8.jpg: 640x608 (no detections), 7.3ms\n",
            "Speed: 1.7ms preprocess, 7.3ms inference, 0.7ms postprocess per image at shape (1, 3, 640, 608)\n",
            "\n"
          ]
        },
        {
          "output_type": "stream",
          "name": "stdout",
          "text": [
            "[]\n"
          ]
        },
        {
          "output_type": "stream",
          "name": "stderr",
          "text": [
            "image 1/1 /content/drive/MyDrive/Trabajo_final_VIU/YOLOV8/Dataset/test/images/imagen830-11.jpg: 576x640 1 ['Osteophytos'], 8.2ms\n",
            "Speed: 1.5ms preprocess, 8.2ms inference, 1.3ms postprocess per image at shape (1, 3, 576, 640)\n",
            "\n"
          ]
        },
        {
          "output_type": "stream",
          "name": "stdout",
          "text": [
            "[0]\n"
          ]
        },
        {
          "output_type": "stream",
          "name": "stderr",
          "text": [
            "image 1/1 /content/drive/MyDrive/Trabajo_final_VIU/YOLOV8/Dataset/test/images/imagen830-14.jpg: 640x640 (no detections), 8.1ms\n",
            "Speed: 1.6ms preprocess, 8.1ms inference, 0.8ms postprocess per image at shape (1, 3, 640, 640)\n",
            "\n"
          ]
        },
        {
          "output_type": "stream",
          "name": "stdout",
          "text": [
            "[]\n"
          ]
        },
        {
          "output_type": "stream",
          "name": "stderr",
          "text": [
            "image 1/1 /content/drive/MyDrive/Trabajo_final_VIU/YOLOV8/Dataset/test/images/imagen831-6.jpg: 640x640 2 ['Osteophytos']s, 7.4ms\n",
            "Speed: 2.6ms preprocess, 7.4ms inference, 1.9ms postprocess per image at shape (1, 3, 640, 640)\n",
            "\n"
          ]
        },
        {
          "output_type": "stream",
          "name": "stdout",
          "text": [
            "[0 0]\n"
          ]
        },
        {
          "output_type": "stream",
          "name": "stderr",
          "text": [
            "image 1/1 /content/drive/MyDrive/Trabajo_final_VIU/YOLOV8/Dataset/test/images/imagen831-8.jpg: 640x576 1 ['Osteophytos'], 8.1ms\n",
            "Speed: 1.6ms preprocess, 8.1ms inference, 1.4ms postprocess per image at shape (1, 3, 640, 576)\n",
            "\n"
          ]
        },
        {
          "output_type": "stream",
          "name": "stdout",
          "text": [
            "[0]\n"
          ]
        },
        {
          "output_type": "stream",
          "name": "stderr",
          "text": [
            "image 1/1 /content/drive/MyDrive/Trabajo_final_VIU/YOLOV8/Dataset/test/images/imagen832-5.jpg: 640x640 2 ['Osteophytos']s, 8.0ms\n",
            "Speed: 1.6ms preprocess, 8.0ms inference, 1.4ms postprocess per image at shape (1, 3, 640, 640)\n",
            "\n"
          ]
        },
        {
          "output_type": "stream",
          "name": "stdout",
          "text": [
            "[0 0]\n"
          ]
        },
        {
          "output_type": "stream",
          "name": "stderr",
          "text": [
            "image 1/1 /content/drive/MyDrive/Trabajo_final_VIU/YOLOV8/Dataset/test/images/imagen832-6.jpg: 640x640 1 ['Osteophytos'], 7.4ms\n",
            "Speed: 1.7ms preprocess, 7.4ms inference, 1.4ms postprocess per image at shape (1, 3, 640, 640)\n",
            "\n"
          ]
        },
        {
          "output_type": "stream",
          "name": "stdout",
          "text": [
            "[0]\n"
          ]
        },
        {
          "output_type": "stream",
          "name": "stderr",
          "text": [
            "image 1/1 /content/drive/MyDrive/Trabajo_final_VIU/YOLOV8/Dataset/test/images/imagen832-8.jpg: 640x640 2 ['Osteophytos']s, 7.4ms\n",
            "Speed: 1.9ms preprocess, 7.4ms inference, 1.6ms postprocess per image at shape (1, 3, 640, 640)\n",
            "\n"
          ]
        },
        {
          "output_type": "stream",
          "name": "stdout",
          "text": [
            "[0 0]\n"
          ]
        },
        {
          "output_type": "stream",
          "name": "stderr",
          "text": [
            "image 1/1 /content/drive/MyDrive/Trabajo_final_VIU/YOLOV8/Dataset/test/images/imagen833-6.jpg: 640x640 2 ['Osteophytos']s, 8.0ms\n",
            "Speed: 4.0ms preprocess, 8.0ms inference, 1.7ms postprocess per image at shape (1, 3, 640, 640)\n",
            "\n"
          ]
        },
        {
          "output_type": "stream",
          "name": "stdout",
          "text": [
            "[0 0]\n"
          ]
        },
        {
          "output_type": "stream",
          "name": "stderr",
          "text": [
            "image 1/1 /content/drive/MyDrive/Trabajo_final_VIU/YOLOV8/Dataset/test/images/imagen833-8.jpg: 640x576 3 ['Osteophytos']s, 12.1ms\n",
            "Speed: 1.8ms preprocess, 12.1ms inference, 1.7ms postprocess per image at shape (1, 3, 640, 576)\n",
            "\n"
          ]
        },
        {
          "output_type": "stream",
          "name": "stdout",
          "text": [
            "[0 0 0]\n"
          ]
        },
        {
          "output_type": "stream",
          "name": "stderr",
          "text": [
            "image 1/1 /content/drive/MyDrive/Trabajo_final_VIU/YOLOV8/Dataset/test/images/imagen834-11.jpg: 352x640 2 ['Osteophytos']s, 11.7ms\n",
            "Speed: 1.3ms preprocess, 11.7ms inference, 1.7ms postprocess per image at shape (1, 3, 352, 640)\n",
            "\n"
          ]
        },
        {
          "output_type": "stream",
          "name": "stdout",
          "text": [
            "[0 0]\n"
          ]
        },
        {
          "output_type": "stream",
          "name": "stderr",
          "text": [
            "image 1/1 /content/drive/MyDrive/Trabajo_final_VIU/YOLOV8/Dataset/test/images/imagen834-14.jpg: 640x640 (no detections), 8.1ms\n",
            "Speed: 1.6ms preprocess, 8.1ms inference, 0.7ms postprocess per image at shape (1, 3, 640, 640)\n",
            "\n"
          ]
        },
        {
          "output_type": "stream",
          "name": "stdout",
          "text": [
            "[]\n"
          ]
        },
        {
          "output_type": "stream",
          "name": "stderr",
          "text": [
            "image 1/1 /content/drive/MyDrive/Trabajo_final_VIU/YOLOV8/Dataset/test/images/imagen834-8.jpg: 640x640 2 ['Osteophytos']s, 7.4ms\n",
            "Speed: 1.7ms preprocess, 7.4ms inference, 1.5ms postprocess per image at shape (1, 3, 640, 640)\n",
            "\n"
          ]
        },
        {
          "output_type": "stream",
          "name": "stdout",
          "text": [
            "[0 0]\n"
          ]
        },
        {
          "output_type": "stream",
          "name": "stderr",
          "text": [
            "image 1/1 /content/drive/MyDrive/Trabajo_final_VIU/YOLOV8/Dataset/test/images/imagen835-3.jpg: 640x640 1 ['Osteophytos'], 7.4ms\n",
            "Speed: 1.6ms preprocess, 7.4ms inference, 1.3ms postprocess per image at shape (1, 3, 640, 640)\n",
            "\n"
          ]
        },
        {
          "output_type": "stream",
          "name": "stdout",
          "text": [
            "[0]\n"
          ]
        },
        {
          "output_type": "stream",
          "name": "stderr",
          "text": [
            "image 1/1 /content/drive/MyDrive/Trabajo_final_VIU/YOLOV8/Dataset/test/images/imagen835-5.jpg: 640x640 2 ['Osteophytos']s, 7.4ms\n",
            "Speed: 1.8ms preprocess, 7.4ms inference, 1.3ms postprocess per image at shape (1, 3, 640, 640)\n",
            "\n"
          ]
        },
        {
          "output_type": "stream",
          "name": "stdout",
          "text": [
            "[0 0]\n"
          ]
        },
        {
          "output_type": "stream",
          "name": "stderr",
          "text": [
            "image 1/1 /content/drive/MyDrive/Trabajo_final_VIU/YOLOV8/Dataset/test/images/imagen835-6.jpg: 640x544 4 ['Osteophytos']s, 10.2ms\n",
            "Speed: 1.6ms preprocess, 10.2ms inference, 1.4ms postprocess per image at shape (1, 3, 640, 544)\n",
            "\n"
          ]
        },
        {
          "output_type": "stream",
          "name": "stdout",
          "text": [
            "[0 0 0 0]\n"
          ]
        },
        {
          "output_type": "stream",
          "name": "stderr",
          "text": [
            "image 1/1 /content/drive/MyDrive/Trabajo_final_VIU/YOLOV8/Dataset/test/images/imagen836-10.jpg: 608x640 (no detections), 8.1ms\n",
            "Speed: 1.7ms preprocess, 8.1ms inference, 0.6ms postprocess per image at shape (1, 3, 608, 640)\n",
            "\n"
          ]
        },
        {
          "output_type": "stream",
          "name": "stdout",
          "text": [
            "[]\n"
          ]
        },
        {
          "output_type": "stream",
          "name": "stderr",
          "text": [
            "image 1/1 /content/drive/MyDrive/Trabajo_final_VIU/YOLOV8/Dataset/test/images/imagen836-14.jpg: 640x640 (no detections), 8.1ms\n",
            "Speed: 1.6ms preprocess, 8.1ms inference, 0.7ms postprocess per image at shape (1, 3, 640, 640)\n",
            "\n"
          ]
        },
        {
          "output_type": "stream",
          "name": "stdout",
          "text": [
            "[]\n"
          ]
        },
        {
          "output_type": "stream",
          "name": "stderr",
          "text": [
            "image 1/1 /content/drive/MyDrive/Trabajo_final_VIU/YOLOV8/Dataset/test/images/imagen836-15.jpg: 640x640 1 ['Osteophytos'], 11.0ms\n",
            "Speed: 1.8ms preprocess, 11.0ms inference, 1.4ms postprocess per image at shape (1, 3, 640, 640)\n",
            "\n"
          ]
        },
        {
          "output_type": "stream",
          "name": "stdout",
          "text": [
            "[0]\n"
          ]
        },
        {
          "output_type": "stream",
          "name": "stderr",
          "text": [
            "image 1/1 /content/drive/MyDrive/Trabajo_final_VIU/YOLOV8/Dataset/test/images/imagen837-10.jpg: 640x640 1 ['Osteophytos'], 7.4ms\n",
            "Speed: 1.6ms preprocess, 7.4ms inference, 1.4ms postprocess per image at shape (1, 3, 640, 640)\n",
            "\n"
          ]
        },
        {
          "output_type": "stream",
          "name": "stdout",
          "text": [
            "[0]\n"
          ]
        },
        {
          "output_type": "stream",
          "name": "stderr",
          "text": [
            "image 1/1 /content/drive/MyDrive/Trabajo_final_VIU/YOLOV8/Dataset/test/images/imagen837-11.jpg: 640x640 1 ['Osteophytos'], 7.4ms\n",
            "Speed: 1.6ms preprocess, 7.4ms inference, 1.6ms postprocess per image at shape (1, 3, 640, 640)\n",
            "\n"
          ]
        },
        {
          "output_type": "stream",
          "name": "stdout",
          "text": [
            "[0]\n"
          ]
        },
        {
          "output_type": "stream",
          "name": "stderr",
          "text": [
            "image 1/1 /content/drive/MyDrive/Trabajo_final_VIU/YOLOV8/Dataset/test/images/imagen837-6.jpg: 640x640 2 ['Osteophytos']s, 7.4ms\n",
            "Speed: 1.6ms preprocess, 7.4ms inference, 1.4ms postprocess per image at shape (1, 3, 640, 640)\n",
            "\n"
          ]
        },
        {
          "output_type": "stream",
          "name": "stdout",
          "text": [
            "[0 0]\n"
          ]
        },
        {
          "output_type": "stream",
          "name": "stderr",
          "text": [
            "image 1/1 /content/drive/MyDrive/Trabajo_final_VIU/YOLOV8/Dataset/test/images/imagen837-7.jpg: 640x640 (no detections), 8.0ms\n",
            "Speed: 1.9ms preprocess, 8.0ms inference, 0.9ms postprocess per image at shape (1, 3, 640, 640)\n",
            "\n"
          ]
        },
        {
          "output_type": "stream",
          "name": "stdout",
          "text": [
            "[]\n"
          ]
        },
        {
          "output_type": "stream",
          "name": "stderr",
          "text": [
            "image 1/1 /content/drive/MyDrive/Trabajo_final_VIU/YOLOV8/Dataset/test/images/imagen838-4.jpg: 640x544 1 ['Osteophytos'], 10.7ms\n",
            "Speed: 5.5ms preprocess, 10.7ms inference, 1.7ms postprocess per image at shape (1, 3, 640, 544)\n",
            "\n"
          ]
        },
        {
          "output_type": "stream",
          "name": "stdout",
          "text": [
            "[0]\n"
          ]
        },
        {
          "output_type": "stream",
          "name": "stderr",
          "text": [
            "image 1/1 /content/drive/MyDrive/Trabajo_final_VIU/YOLOV8/Dataset/test/images/imagen838-6.jpg: 320x640 3 ['Osteophytos']s, 16.1ms\n",
            "Speed: 2.3ms preprocess, 16.1ms inference, 1.6ms postprocess per image at shape (1, 3, 320, 640)\n",
            "\n"
          ]
        },
        {
          "output_type": "stream",
          "name": "stdout",
          "text": [
            "[0 0 0]\n"
          ]
        },
        {
          "output_type": "stream",
          "name": "stderr",
          "text": [
            "image 1/1 /content/drive/MyDrive/Trabajo_final_VIU/YOLOV8/Dataset/test/images/imagen839-3.jpg: 640x640 1 ['Osteophytos'], 8.1ms\n",
            "Speed: 1.6ms preprocess, 8.1ms inference, 1.3ms postprocess per image at shape (1, 3, 640, 640)\n",
            "\n"
          ]
        },
        {
          "output_type": "stream",
          "name": "stdout",
          "text": [
            "[0]\n"
          ]
        },
        {
          "output_type": "stream",
          "name": "stderr",
          "text": [
            "image 1/1 /content/drive/MyDrive/Trabajo_final_VIU/YOLOV8/Dataset/test/images/imagen84-6.jpg: 640x640 (no detections), 7.4ms\n",
            "Speed: 1.7ms preprocess, 7.4ms inference, 0.7ms postprocess per image at shape (1, 3, 640, 640)\n",
            "\n"
          ]
        },
        {
          "output_type": "stream",
          "name": "stdout",
          "text": [
            "[]\n"
          ]
        },
        {
          "output_type": "stream",
          "name": "stderr",
          "text": [
            "image 1/1 /content/drive/MyDrive/Trabajo_final_VIU/YOLOV8/Dataset/test/images/imagen84-7.jpg: 640x640 4 ['Osteophytos']s, 8.1ms\n",
            "Speed: 1.9ms preprocess, 8.1ms inference, 1.3ms postprocess per image at shape (1, 3, 640, 640)\n",
            "\n"
          ]
        },
        {
          "output_type": "stream",
          "name": "stdout",
          "text": [
            "[0 0 0 0]\n"
          ]
        },
        {
          "output_type": "stream",
          "name": "stderr",
          "text": [
            "image 1/1 /content/drive/MyDrive/Trabajo_final_VIU/YOLOV8/Dataset/test/images/imagen840-13.jpg: 576x640 4 ['Osteophytos']s, 8.0ms\n",
            "Speed: 1.6ms preprocess, 8.0ms inference, 1.3ms postprocess per image at shape (1, 3, 576, 640)\n",
            "\n"
          ]
        },
        {
          "output_type": "stream",
          "name": "stdout",
          "text": [
            "[0 0 0 0]\n"
          ]
        },
        {
          "output_type": "stream",
          "name": "stderr",
          "text": [
            "image 1/1 /content/drive/MyDrive/Trabajo_final_VIU/YOLOV8/Dataset/test/images/imagen840-18.jpg: 640x640 1 ['Osteophytos'], 8.0ms\n",
            "Speed: 1.7ms preprocess, 8.0ms inference, 1.3ms postprocess per image at shape (1, 3, 640, 640)\n",
            "\n"
          ]
        },
        {
          "output_type": "stream",
          "name": "stdout",
          "text": [
            "[0]\n"
          ]
        },
        {
          "output_type": "stream",
          "name": "stderr",
          "text": [
            "image 1/1 /content/drive/MyDrive/Trabajo_final_VIU/YOLOV8/Dataset/test/images/imagen840-8.jpg: 512x640 (no detections), 7.4ms\n",
            "Speed: 1.5ms preprocess, 7.4ms inference, 0.7ms postprocess per image at shape (1, 3, 512, 640)\n",
            "\n"
          ]
        },
        {
          "output_type": "stream",
          "name": "stdout",
          "text": [
            "[]\n"
          ]
        },
        {
          "output_type": "stream",
          "name": "stderr",
          "text": [
            "image 1/1 /content/drive/MyDrive/Trabajo_final_VIU/YOLOV8/Dataset/test/images/imagen841-4.jpg: 640x352 3 ['Osteophytos']s, 6.9ms\n",
            "Speed: 1.1ms preprocess, 6.9ms inference, 1.3ms postprocess per image at shape (1, 3, 640, 352)\n",
            "\n"
          ]
        },
        {
          "output_type": "stream",
          "name": "stdout",
          "text": [
            "[0 0 0]\n"
          ]
        },
        {
          "output_type": "stream",
          "name": "stderr",
          "text": [
            "image 1/1 /content/drive/MyDrive/Trabajo_final_VIU/YOLOV8/Dataset/test/images/imagen842-5.jpg: 608x640 1 ['Osteophytos'], 12.5ms\n",
            "Speed: 2.4ms preprocess, 12.5ms inference, 1.3ms postprocess per image at shape (1, 3, 608, 640)\n",
            "\n"
          ]
        },
        {
          "output_type": "stream",
          "name": "stdout",
          "text": [
            "[0]\n"
          ]
        },
        {
          "output_type": "stream",
          "name": "stderr",
          "text": [
            "image 1/1 /content/drive/MyDrive/Trabajo_final_VIU/YOLOV8/Dataset/test/images/imagen842-8.jpg: 640x640 (no detections), 8.1ms\n",
            "Speed: 1.6ms preprocess, 8.1ms inference, 0.8ms postprocess per image at shape (1, 3, 640, 640)\n",
            "\n"
          ]
        },
        {
          "output_type": "stream",
          "name": "stdout",
          "text": [
            "[]\n"
          ]
        },
        {
          "output_type": "stream",
          "name": "stderr",
          "text": [
            "image 1/1 /content/drive/MyDrive/Trabajo_final_VIU/YOLOV8/Dataset/test/images/imagen843-3.jpg: 640x640 2 ['Osteophytos']s, 7.4ms\n",
            "Speed: 1.6ms preprocess, 7.4ms inference, 1.4ms postprocess per image at shape (1, 3, 640, 640)\n",
            "\n"
          ]
        },
        {
          "output_type": "stream",
          "name": "stdout",
          "text": [
            "[0 0]\n"
          ]
        },
        {
          "output_type": "stream",
          "name": "stderr",
          "text": [
            "image 1/1 /content/drive/MyDrive/Trabajo_final_VIU/YOLOV8/Dataset/test/images/imagen844-2.jpg: 640x512 2 ['Osteophytos']s, 8.0ms\n",
            "Speed: 1.5ms preprocess, 8.0ms inference, 1.3ms postprocess per image at shape (1, 3, 640, 512)\n",
            "\n"
          ]
        },
        {
          "output_type": "stream",
          "name": "stdout",
          "text": [
            "[0 0]\n"
          ]
        },
        {
          "output_type": "stream",
          "name": "stderr",
          "text": [
            "image 1/1 /content/drive/MyDrive/Trabajo_final_VIU/YOLOV8/Dataset/test/images/imagen844-4.jpg: 640x512 4 ['Osteophytos']s, 6.5ms\n",
            "Speed: 1.5ms preprocess, 6.5ms inference, 1.4ms postprocess per image at shape (1, 3, 640, 512)\n",
            "\n"
          ]
        },
        {
          "output_type": "stream",
          "name": "stdout",
          "text": [
            "[0 0 0 0]\n"
          ]
        },
        {
          "output_type": "stream",
          "name": "stderr",
          "text": [
            "image 1/1 /content/drive/MyDrive/Trabajo_final_VIU/YOLOV8/Dataset/test/images/imagen844-6.jpg: 640x576 4 ['Osteophytos']s, 14.0ms\n",
            "Speed: 3.4ms preprocess, 14.0ms inference, 1.6ms postprocess per image at shape (1, 3, 640, 576)\n",
            "\n"
          ]
        },
        {
          "output_type": "stream",
          "name": "stdout",
          "text": [
            "[0 0 0 0]\n"
          ]
        },
        {
          "output_type": "stream",
          "name": "stderr",
          "text": [
            "image 1/1 /content/drive/MyDrive/Trabajo_final_VIU/YOLOV8/Dataset/test/images/imagen844-8.jpg: 640x512 (no detections), 9.2ms\n",
            "Speed: 1.6ms preprocess, 9.2ms inference, 0.9ms postprocess per image at shape (1, 3, 640, 512)\n",
            "\n"
          ]
        },
        {
          "output_type": "stream",
          "name": "stdout",
          "text": [
            "[]\n"
          ]
        },
        {
          "output_type": "stream",
          "name": "stderr",
          "text": [
            "image 1/1 /content/drive/MyDrive/Trabajo_final_VIU/YOLOV8/Dataset/test/images/imagen845-5.jpg: 640x640 1 ['Osteophytos'], 8.1ms\n",
            "Speed: 1.7ms preprocess, 8.1ms inference, 1.3ms postprocess per image at shape (1, 3, 640, 640)\n",
            "\n"
          ]
        },
        {
          "output_type": "stream",
          "name": "stdout",
          "text": [
            "[0]\n"
          ]
        },
        {
          "output_type": "stream",
          "name": "stderr",
          "text": [
            "image 1/1 /content/drive/MyDrive/Trabajo_final_VIU/YOLOV8/Dataset/test/images/imagen845-6.jpg: 640x576 1 ['Osteophytos'], 7.9ms\n",
            "Speed: 1.6ms preprocess, 7.9ms inference, 1.4ms postprocess per image at shape (1, 3, 640, 576)\n",
            "\n"
          ]
        },
        {
          "output_type": "stream",
          "name": "stdout",
          "text": [
            "[0]\n"
          ]
        },
        {
          "output_type": "stream",
          "name": "stderr",
          "text": [
            "image 1/1 /content/drive/MyDrive/Trabajo_final_VIU/YOLOV8/Dataset/test/images/imagen846-2.jpg: 640x544 2 ['Osteophytos']s, 7.8ms\n",
            "Speed: 1.5ms preprocess, 7.8ms inference, 1.3ms postprocess per image at shape (1, 3, 640, 544)\n",
            "\n"
          ]
        },
        {
          "output_type": "stream",
          "name": "stdout",
          "text": [
            "[0 0]\n"
          ]
        },
        {
          "output_type": "stream",
          "name": "stderr",
          "text": [
            "image 1/1 /content/drive/MyDrive/Trabajo_final_VIU/YOLOV8/Dataset/test/images/imagen846-4.jpg: 640x544 3 ['Osteophytos']s, 7.2ms\n",
            "Speed: 1.6ms preprocess, 7.2ms inference, 1.4ms postprocess per image at shape (1, 3, 640, 544)\n",
            "\n"
          ]
        },
        {
          "output_type": "stream",
          "name": "stdout",
          "text": [
            "[0 0 0]\n"
          ]
        },
        {
          "output_type": "stream",
          "name": "stderr",
          "text": [
            "image 1/1 /content/drive/MyDrive/Trabajo_final_VIU/YOLOV8/Dataset/test/images/imagen847-4.jpg: 640x576 4 ['Osteophytos']s, 7.9ms\n",
            "Speed: 1.8ms preprocess, 7.9ms inference, 1.3ms postprocess per image at shape (1, 3, 640, 576)\n",
            "\n"
          ]
        },
        {
          "output_type": "stream",
          "name": "stdout",
          "text": [
            "[0 0 0 0]\n"
          ]
        },
        {
          "output_type": "stream",
          "name": "stderr",
          "text": [
            "image 1/1 /content/drive/MyDrive/Trabajo_final_VIU/YOLOV8/Dataset/test/images/imagen848-3.jpg: 640x640 3 ['Osteophytos']s, 8.0ms\n",
            "Speed: 1.7ms preprocess, 8.0ms inference, 1.3ms postprocess per image at shape (1, 3, 640, 640)\n",
            "\n"
          ]
        },
        {
          "output_type": "stream",
          "name": "stdout",
          "text": [
            "[0 0 0]\n"
          ]
        },
        {
          "output_type": "stream",
          "name": "stderr",
          "text": [
            "image 1/1 /content/drive/MyDrive/Trabajo_final_VIU/YOLOV8/Dataset/test/images/imagen848-5.jpg: 288x640 (no detections), 7.7ms\n",
            "Speed: 1.2ms preprocess, 7.7ms inference, 0.7ms postprocess per image at shape (1, 3, 288, 640)\n",
            "\n"
          ]
        },
        {
          "output_type": "stream",
          "name": "stdout",
          "text": [
            "[]\n"
          ]
        },
        {
          "output_type": "stream",
          "name": "stderr",
          "text": [
            "image 1/1 /content/drive/MyDrive/Trabajo_final_VIU/YOLOV8/Dataset/test/images/imagen849-10.jpg: 640x640 1 ['Osteophytos'], 10.3ms\n",
            "Speed: 1.7ms preprocess, 10.3ms inference, 1.9ms postprocess per image at shape (1, 3, 640, 640)\n",
            "\n"
          ]
        },
        {
          "output_type": "stream",
          "name": "stdout",
          "text": [
            "[0]\n"
          ]
        },
        {
          "output_type": "stream",
          "name": "stderr",
          "text": [
            "image 1/1 /content/drive/MyDrive/Trabajo_final_VIU/YOLOV8/Dataset/test/images/imagen849-6.jpg: 640x640 (no detections), 7.4ms\n",
            "Speed: 1.7ms preprocess, 7.4ms inference, 0.8ms postprocess per image at shape (1, 3, 640, 640)\n",
            "\n"
          ]
        },
        {
          "output_type": "stream",
          "name": "stdout",
          "text": [
            "[]\n"
          ]
        },
        {
          "output_type": "stream",
          "name": "stderr",
          "text": [
            "image 1/1 /content/drive/MyDrive/Trabajo_final_VIU/YOLOV8/Dataset/test/images/imagen85-3.jpg: 640x640 2 ['Osteophytos']s, 9.3ms\n",
            "Speed: 1.6ms preprocess, 9.3ms inference, 1.3ms postprocess per image at shape (1, 3, 640, 640)\n",
            "\n"
          ]
        },
        {
          "output_type": "stream",
          "name": "stdout",
          "text": [
            "[0 0]\n"
          ]
        },
        {
          "output_type": "stream",
          "name": "stderr",
          "text": [
            "image 1/1 /content/drive/MyDrive/Trabajo_final_VIU/YOLOV8/Dataset/test/images/imagen850-10.jpg: 640x640 2 ['Osteophytos']s, 7.4ms\n",
            "Speed: 1.7ms preprocess, 7.4ms inference, 1.4ms postprocess per image at shape (1, 3, 640, 640)\n",
            "\n"
          ]
        },
        {
          "output_type": "stream",
          "name": "stdout",
          "text": [
            "[0 0]\n"
          ]
        },
        {
          "output_type": "stream",
          "name": "stderr",
          "text": [
            "image 1/1 /content/drive/MyDrive/Trabajo_final_VIU/YOLOV8/Dataset/test/images/imagen850-11.jpg: 640x640 1 ['Osteophytos'], 7.4ms\n",
            "Speed: 1.6ms preprocess, 7.4ms inference, 1.4ms postprocess per image at shape (1, 3, 640, 640)\n",
            "\n"
          ]
        },
        {
          "output_type": "stream",
          "name": "stdout",
          "text": [
            "[0]\n"
          ]
        },
        {
          "output_type": "stream",
          "name": "stderr",
          "text": [
            "image 1/1 /content/drive/MyDrive/Trabajo_final_VIU/YOLOV8/Dataset/test/images/imagen850-6.jpg: 640x640 1 ['Osteophytos'], 8.5ms\n",
            "Speed: 1.9ms preprocess, 8.5ms inference, 1.7ms postprocess per image at shape (1, 3, 640, 640)\n",
            "\n"
          ]
        },
        {
          "output_type": "stream",
          "name": "stdout",
          "text": [
            "[0]\n"
          ]
        },
        {
          "output_type": "stream",
          "name": "stderr",
          "text": [
            "image 1/1 /content/drive/MyDrive/Trabajo_final_VIU/YOLOV8/Dataset/test/images/imagen851-6.jpg: 640x544 (no detections), 9.6ms\n",
            "Speed: 3.3ms preprocess, 9.6ms inference, 1.1ms postprocess per image at shape (1, 3, 640, 544)\n",
            "\n"
          ]
        },
        {
          "output_type": "stream",
          "name": "stdout",
          "text": [
            "[]\n"
          ]
        },
        {
          "output_type": "stream",
          "name": "stderr",
          "text": [
            "image 1/1 /content/drive/MyDrive/Trabajo_final_VIU/YOLOV8/Dataset/test/images/imagen851-9.jpg: 640x512 (no detections), 9.0ms\n",
            "Speed: 1.6ms preprocess, 9.0ms inference, 0.9ms postprocess per image at shape (1, 3, 640, 512)\n",
            "\n"
          ]
        },
        {
          "output_type": "stream",
          "name": "stdout",
          "text": [
            "[]\n"
          ]
        },
        {
          "output_type": "stream",
          "name": "stderr",
          "text": [
            "image 1/1 /content/drive/MyDrive/Trabajo_final_VIU/YOLOV8/Dataset/test/images/imagen852-4.jpg: 640x352 1 ['Osteophytos'], 7.6ms\n",
            "Speed: 1.3ms preprocess, 7.6ms inference, 1.3ms postprocess per image at shape (1, 3, 640, 352)\n",
            "\n"
          ]
        },
        {
          "output_type": "stream",
          "name": "stdout",
          "text": [
            "[0]\n"
          ]
        },
        {
          "output_type": "stream",
          "name": "stderr",
          "text": [
            "image 1/1 /content/drive/MyDrive/Trabajo_final_VIU/YOLOV8/Dataset/test/images/imagen852-6.jpg: 640x352 3 ['Osteophytos']s, 7.2ms\n",
            "Speed: 1.3ms preprocess, 7.2ms inference, 1.4ms postprocess per image at shape (1, 3, 640, 352)\n",
            "\n"
          ]
        },
        {
          "output_type": "stream",
          "name": "stdout",
          "text": [
            "[0 0 0]\n"
          ]
        },
        {
          "output_type": "stream",
          "name": "stderr",
          "text": [
            "image 1/1 /content/drive/MyDrive/Trabajo_final_VIU/YOLOV8/Dataset/test/images/imagen853-13.jpg: 608x640 2 ['Osteophytos']s, 8.0ms\n",
            "Speed: 1.8ms preprocess, 8.0ms inference, 1.4ms postprocess per image at shape (1, 3, 608, 640)\n",
            "\n"
          ]
        },
        {
          "output_type": "stream",
          "name": "stdout",
          "text": [
            "[0 0]\n"
          ]
        },
        {
          "output_type": "stream",
          "name": "stderr",
          "text": [
            "image 1/1 /content/drive/MyDrive/Trabajo_final_VIU/YOLOV8/Dataset/test/images/imagen853-18.jpg: 640x640 2 ['Osteophytos']s, 8.1ms\n",
            "Speed: 1.6ms preprocess, 8.1ms inference, 1.3ms postprocess per image at shape (1, 3, 640, 640)\n",
            "\n"
          ]
        },
        {
          "output_type": "stream",
          "name": "stdout",
          "text": [
            "[0 0]\n"
          ]
        },
        {
          "output_type": "stream",
          "name": "stderr",
          "text": [
            "image 1/1 /content/drive/MyDrive/Trabajo_final_VIU/YOLOV8/Dataset/test/images/imagen854-11.jpg: 640x640 3 ['Osteophytos']s, 8.0ms\n",
            "Speed: 1.9ms preprocess, 8.0ms inference, 1.3ms postprocess per image at shape (1, 3, 640, 640)\n",
            "\n"
          ]
        },
        {
          "output_type": "stream",
          "name": "stdout",
          "text": [
            "[0 0 0]\n"
          ]
        },
        {
          "output_type": "stream",
          "name": "stderr",
          "text": [
            "image 1/1 /content/drive/MyDrive/Trabajo_final_VIU/YOLOV8/Dataset/test/images/imagen854-6.jpg: 640x640 1 ['Osteophytos'], 7.4ms\n",
            "Speed: 1.7ms preprocess, 7.4ms inference, 1.4ms postprocess per image at shape (1, 3, 640, 640)\n",
            "\n"
          ]
        },
        {
          "output_type": "stream",
          "name": "stdout",
          "text": [
            "[0]\n"
          ]
        },
        {
          "output_type": "stream",
          "name": "stderr",
          "text": [
            "image 1/1 /content/drive/MyDrive/Trabajo_final_VIU/YOLOV8/Dataset/test/images/imagen855-13.jpg: 384x640 2 ['Osteophytos']s, 10.0ms\n",
            "Speed: 1.3ms preprocess, 10.0ms inference, 1.6ms postprocess per image at shape (1, 3, 384, 640)\n",
            "\n"
          ]
        },
        {
          "output_type": "stream",
          "name": "stdout",
          "text": [
            "[0 0]\n"
          ]
        },
        {
          "output_type": "stream",
          "name": "stderr",
          "text": [
            "image 1/1 /content/drive/MyDrive/Trabajo_final_VIU/YOLOV8/Dataset/test/images/imagen855-18.jpg: 640x640 3 ['Osteophytos']s, 8.1ms\n",
            "Speed: 1.7ms preprocess, 8.1ms inference, 1.3ms postprocess per image at shape (1, 3, 640, 640)\n",
            "\n"
          ]
        },
        {
          "output_type": "stream",
          "name": "stdout",
          "text": [
            "[0 0 0]\n"
          ]
        },
        {
          "output_type": "stream",
          "name": "stderr",
          "text": [
            "image 1/1 /content/drive/MyDrive/Trabajo_final_VIU/YOLOV8/Dataset/test/images/imagen855-7.jpg: 640x544 1 ['Osteophytos'], 8.4ms\n",
            "Speed: 1.8ms preprocess, 8.4ms inference, 1.3ms postprocess per image at shape (1, 3, 640, 544)\n",
            "\n"
          ]
        },
        {
          "output_type": "stream",
          "name": "stdout",
          "text": [
            "[0]\n"
          ]
        },
        {
          "output_type": "stream",
          "name": "stderr",
          "text": [
            "image 1/1 /content/drive/MyDrive/Trabajo_final_VIU/YOLOV8/Dataset/test/images/imagen856-11.jpg: 640x640 4 ['Osteophytos']s, 8.1ms\n",
            "Speed: 1.6ms preprocess, 8.1ms inference, 1.3ms postprocess per image at shape (1, 3, 640, 640)\n",
            "\n"
          ]
        },
        {
          "output_type": "stream",
          "name": "stdout",
          "text": [
            "[0 0 0 0]\n"
          ]
        },
        {
          "output_type": "stream",
          "name": "stderr",
          "text": [
            "image 1/1 /content/drive/MyDrive/Trabajo_final_VIU/YOLOV8/Dataset/test/images/imagen856-15.jpg: 640x640 2 ['Osteophytos']s, 7.4ms\n",
            "Speed: 1.7ms preprocess, 7.4ms inference, 1.8ms postprocess per image at shape (1, 3, 640, 640)\n",
            "\n"
          ]
        },
        {
          "output_type": "stream",
          "name": "stdout",
          "text": [
            "[0 0]\n"
          ]
        },
        {
          "output_type": "stream",
          "name": "stderr",
          "text": [
            "image 1/1 /content/drive/MyDrive/Trabajo_final_VIU/YOLOV8/Dataset/test/images/imagen857-6.jpg: 640x640 1 ['Osteophytos'], 7.4ms\n",
            "Speed: 1.8ms preprocess, 7.4ms inference, 1.4ms postprocess per image at shape (1, 3, 640, 640)\n",
            "\n"
          ]
        },
        {
          "output_type": "stream",
          "name": "stdout",
          "text": [
            "[0]\n"
          ]
        },
        {
          "output_type": "stream",
          "name": "stderr",
          "text": [
            "image 1/1 /content/drive/MyDrive/Trabajo_final_VIU/YOLOV8/Dataset/test/images/imagen857-7.jpg: 640x640 2 ['Osteophytos']s, 8.6ms\n",
            "Speed: 1.9ms preprocess, 8.6ms inference, 2.1ms postprocess per image at shape (1, 3, 640, 640)\n",
            "\n"
          ]
        },
        {
          "output_type": "stream",
          "name": "stdout",
          "text": [
            "[0 0]\n"
          ]
        },
        {
          "output_type": "stream",
          "name": "stderr",
          "text": [
            "image 1/1 /content/drive/MyDrive/Trabajo_final_VIU/YOLOV8/Dataset/test/images/imagen858-7.jpg: 640x640 1 ['Osteophytos'], 8.4ms\n",
            "Speed: 1.9ms preprocess, 8.4ms inference, 1.7ms postprocess per image at shape (1, 3, 640, 640)\n",
            "\n"
          ]
        },
        {
          "output_type": "stream",
          "name": "stdout",
          "text": [
            "[0]\n"
          ]
        },
        {
          "output_type": "stream",
          "name": "stderr",
          "text": [
            "image 1/1 /content/drive/MyDrive/Trabajo_final_VIU/YOLOV8/Dataset/test/images/imagen859-10.jpg: 640x640 1 ['Osteophytos'], 8.6ms\n",
            "Speed: 2.0ms preprocess, 8.6ms inference, 2.0ms postprocess per image at shape (1, 3, 640, 640)\n",
            "\n"
          ]
        },
        {
          "output_type": "stream",
          "name": "stdout",
          "text": [
            "[0]\n"
          ]
        },
        {
          "output_type": "stream",
          "name": "stderr",
          "text": [
            "image 1/1 /content/drive/MyDrive/Trabajo_final_VIU/YOLOV8/Dataset/test/images/imagen859-11.jpg: 640x640 3 ['Osteophytos']s, 9.2ms\n",
            "Speed: 1.6ms preprocess, 9.2ms inference, 1.9ms postprocess per image at shape (1, 3, 640, 640)\n",
            "\n"
          ]
        },
        {
          "output_type": "stream",
          "name": "stdout",
          "text": [
            "[0 0 0]\n"
          ]
        },
        {
          "output_type": "stream",
          "name": "stderr",
          "text": [
            "image 1/1 /content/drive/MyDrive/Trabajo_final_VIU/YOLOV8/Dataset/test/images/imagen86-6.jpg: 640x544 (no detections), 7.8ms\n",
            "Speed: 1.5ms preprocess, 7.8ms inference, 1.0ms postprocess per image at shape (1, 3, 640, 544)\n",
            "\n"
          ]
        },
        {
          "output_type": "stream",
          "name": "stdout",
          "text": [
            "[]\n"
          ]
        },
        {
          "output_type": "stream",
          "name": "stderr",
          "text": [
            "image 1/1 /content/drive/MyDrive/Trabajo_final_VIU/YOLOV8/Dataset/test/images/imagen86-8.jpg: 640x544 (no detections), 7.2ms\n",
            "Speed: 1.6ms preprocess, 7.2ms inference, 0.8ms postprocess per image at shape (1, 3, 640, 544)\n",
            "\n"
          ]
        },
        {
          "output_type": "stream",
          "name": "stdout",
          "text": [
            "[]\n"
          ]
        },
        {
          "output_type": "stream",
          "name": "stderr",
          "text": [
            "image 1/1 /content/drive/MyDrive/Trabajo_final_VIU/YOLOV8/Dataset/test/images/imagen860-11.jpg: 640x640 (no detections), 8.1ms\n",
            "Speed: 1.7ms preprocess, 8.1ms inference, 0.7ms postprocess per image at shape (1, 3, 640, 640)\n",
            "\n"
          ]
        },
        {
          "output_type": "stream",
          "name": "stdout",
          "text": [
            "[]\n"
          ]
        },
        {
          "output_type": "stream",
          "name": "stderr",
          "text": [
            "image 1/1 /content/drive/MyDrive/Trabajo_final_VIU/YOLOV8/Dataset/test/images/imagen861-13.jpg: 608x640 2 ['Osteophytos']s, 8.1ms\n",
            "Speed: 1.7ms preprocess, 8.1ms inference, 1.4ms postprocess per image at shape (1, 3, 608, 640)\n",
            "\n"
          ]
        },
        {
          "output_type": "stream",
          "name": "stdout",
          "text": [
            "[0 0]\n"
          ]
        },
        {
          "output_type": "stream",
          "name": "stderr",
          "text": [
            "image 1/1 /content/drive/MyDrive/Trabajo_final_VIU/YOLOV8/Dataset/test/images/imagen861-18.jpg: 640x640 (no detections), 8.1ms\n",
            "Speed: 1.8ms preprocess, 8.1ms inference, 0.7ms postprocess per image at shape (1, 3, 640, 640)\n",
            "\n"
          ]
        },
        {
          "output_type": "stream",
          "name": "stdout",
          "text": [
            "[]\n"
          ]
        },
        {
          "output_type": "stream",
          "name": "stderr",
          "text": [
            "image 1/1 /content/drive/MyDrive/Trabajo_final_VIU/YOLOV8/Dataset/test/images/imagen862-8.jpg: 640x544 (no detections), 7.9ms\n",
            "Speed: 1.6ms preprocess, 7.9ms inference, 0.7ms postprocess per image at shape (1, 3, 640, 544)\n",
            "\n"
          ]
        },
        {
          "output_type": "stream",
          "name": "stdout",
          "text": [
            "[]\n"
          ]
        },
        {
          "output_type": "stream",
          "name": "stderr",
          "text": [
            "image 1/1 /content/drive/MyDrive/Trabajo_final_VIU/YOLOV8/Dataset/test/images/imagen863-3.jpg: 640x640 1 ['Osteophytos'], 9.2ms\n",
            "Speed: 2.0ms preprocess, 9.2ms inference, 1.5ms postprocess per image at shape (1, 3, 640, 640)\n",
            "\n"
          ]
        },
        {
          "output_type": "stream",
          "name": "stdout",
          "text": [
            "[0]\n"
          ]
        },
        {
          "output_type": "stream",
          "name": "stderr",
          "text": [
            "image 1/1 /content/drive/MyDrive/Trabajo_final_VIU/YOLOV8/Dataset/test/images/imagen864-1.jpg: 640x640 1 ['Osteophytos'], 7.4ms\n",
            "Speed: 1.6ms preprocess, 7.4ms inference, 1.4ms postprocess per image at shape (1, 3, 640, 640)\n",
            "\n"
          ]
        },
        {
          "output_type": "stream",
          "name": "stdout",
          "text": [
            "[0]\n"
          ]
        },
        {
          "output_type": "stream",
          "name": "stderr",
          "text": [
            "image 1/1 /content/drive/MyDrive/Trabajo_final_VIU/YOLOV8/Dataset/test/images/imagen864-2.jpg: 640x416 2 ['Osteophytos']s, 7.4ms\n",
            "Speed: 1.4ms preprocess, 7.4ms inference, 1.3ms postprocess per image at shape (1, 3, 640, 416)\n",
            "\n"
          ]
        },
        {
          "output_type": "stream",
          "name": "stdout",
          "text": [
            "[0 0]\n"
          ]
        },
        {
          "output_type": "stream",
          "name": "stderr",
          "text": [
            "image 1/1 /content/drive/MyDrive/Trabajo_final_VIU/YOLOV8/Dataset/test/images/imagen865-10.jpg: 640x640 1 ['Osteophytos'], 10.1ms\n",
            "Speed: 2.0ms preprocess, 10.1ms inference, 1.7ms postprocess per image at shape (1, 3, 640, 640)\n",
            "\n"
          ]
        },
        {
          "output_type": "stream",
          "name": "stdout",
          "text": [
            "[0]\n"
          ]
        },
        {
          "output_type": "stream",
          "name": "stderr",
          "text": [
            "image 1/1 /content/drive/MyDrive/Trabajo_final_VIU/YOLOV8/Dataset/test/images/imagen865-11.jpg: 640x640 1 ['Osteophytos'], 8.3ms\n",
            "Speed: 1.9ms preprocess, 8.3ms inference, 1.7ms postprocess per image at shape (1, 3, 640, 640)\n",
            "\n"
          ]
        },
        {
          "output_type": "stream",
          "name": "stdout",
          "text": [
            "[0]\n"
          ]
        },
        {
          "output_type": "stream",
          "name": "stderr",
          "text": [
            "image 1/1 /content/drive/MyDrive/Trabajo_final_VIU/YOLOV8/Dataset/test/images/imagen866-3.jpg: 640x640 2 ['Osteophytos']s, 8.4ms\n",
            "Speed: 1.8ms preprocess, 8.4ms inference, 1.7ms postprocess per image at shape (1, 3, 640, 640)\n",
            "\n"
          ]
        },
        {
          "output_type": "stream",
          "name": "stdout",
          "text": [
            "[0 0]\n"
          ]
        },
        {
          "output_type": "stream",
          "name": "stderr",
          "text": [
            "image 1/1 /content/drive/MyDrive/Trabajo_final_VIU/YOLOV8/Dataset/test/images/imagen867-2.jpg: 576x640 1 ['Osteophytos'], 7.9ms\n",
            "Speed: 2.4ms preprocess, 7.9ms inference, 1.4ms postprocess per image at shape (1, 3, 576, 640)\n",
            "\n"
          ]
        },
        {
          "output_type": "stream",
          "name": "stdout",
          "text": [
            "[0]\n"
          ]
        },
        {
          "output_type": "stream",
          "name": "stderr",
          "text": [
            "image 1/1 /content/drive/MyDrive/Trabajo_final_VIU/YOLOV8/Dataset/test/images/imagen867-4.jpg: 640x608 1 ['Osteophytos'], 8.1ms\n",
            "Speed: 1.7ms preprocess, 8.1ms inference, 1.4ms postprocess per image at shape (1, 3, 640, 608)\n",
            "\n"
          ]
        },
        {
          "output_type": "stream",
          "name": "stdout",
          "text": [
            "[0]\n"
          ]
        },
        {
          "output_type": "stream",
          "name": "stderr",
          "text": [
            "image 1/1 /content/drive/MyDrive/Trabajo_final_VIU/YOLOV8/Dataset/test/images/imagen867-6.jpg: 640x608 1 ['Osteophytos'], 7.3ms\n",
            "Speed: 1.6ms preprocess, 7.3ms inference, 1.5ms postprocess per image at shape (1, 3, 640, 608)\n",
            "\n"
          ]
        },
        {
          "output_type": "stream",
          "name": "stdout",
          "text": [
            "[0]\n"
          ]
        },
        {
          "output_type": "stream",
          "name": "stderr",
          "text": [
            "image 1/1 /content/drive/MyDrive/Trabajo_final_VIU/YOLOV8/Dataset/test/images/imagen868-3.jpg: 640x640 2 ['Osteophytos']s, 8.1ms\n",
            "Speed: 1.6ms preprocess, 8.1ms inference, 1.3ms postprocess per image at shape (1, 3, 640, 640)\n",
            "\n"
          ]
        },
        {
          "output_type": "stream",
          "name": "stdout",
          "text": [
            "[0 0]\n"
          ]
        },
        {
          "output_type": "stream",
          "name": "stderr",
          "text": [
            "image 1/1 /content/drive/MyDrive/Trabajo_final_VIU/YOLOV8/Dataset/test/images/imagen868-4.jpg: 640x608 1 ['Osteophytos'], 8.0ms\n",
            "Speed: 1.6ms preprocess, 8.0ms inference, 1.4ms postprocess per image at shape (1, 3, 640, 608)\n",
            "\n"
          ]
        },
        {
          "output_type": "stream",
          "name": "stdout",
          "text": [
            "[0]\n"
          ]
        },
        {
          "output_type": "stream",
          "name": "stderr",
          "text": [
            "image 1/1 /content/drive/MyDrive/Trabajo_final_VIU/YOLOV8/Dataset/test/images/imagen868-5.jpg: 640x640 1 ['Osteophytos'], 8.2ms\n",
            "Speed: 1.6ms preprocess, 8.2ms inference, 1.4ms postprocess per image at shape (1, 3, 640, 640)\n",
            "\n"
          ]
        },
        {
          "output_type": "stream",
          "name": "stdout",
          "text": [
            "[0]\n"
          ]
        },
        {
          "output_type": "stream",
          "name": "stderr",
          "text": [
            "image 1/1 /content/drive/MyDrive/Trabajo_final_VIU/YOLOV8/Dataset/test/images/imagen868-6.jpg: 640x608 1 ['Osteophytos'], 8.0ms\n",
            "Speed: 2.0ms preprocess, 8.0ms inference, 1.4ms postprocess per image at shape (1, 3, 640, 608)\n",
            "\n"
          ]
        },
        {
          "output_type": "stream",
          "name": "stdout",
          "text": [
            "[0]\n"
          ]
        },
        {
          "output_type": "stream",
          "name": "stderr",
          "text": [
            "image 1/1 /content/drive/MyDrive/Trabajo_final_VIU/YOLOV8/Dataset/test/images/imagen869-2.jpg: 640x608 (no detections), 7.4ms\n",
            "Speed: 1.7ms preprocess, 7.4ms inference, 0.8ms postprocess per image at shape (1, 3, 640, 608)\n",
            "\n"
          ]
        },
        {
          "output_type": "stream",
          "name": "stdout",
          "text": [
            "[]\n"
          ]
        },
        {
          "output_type": "stream",
          "name": "stderr",
          "text": [
            "image 1/1 /content/drive/MyDrive/Trabajo_final_VIU/YOLOV8/Dataset/test/images/imagen869-4.jpg: 640x608 2 ['Osteophytos']s, 8.0ms\n",
            "Speed: 1.7ms preprocess, 8.0ms inference, 1.8ms postprocess per image at shape (1, 3, 640, 608)\n",
            "\n"
          ]
        },
        {
          "output_type": "stream",
          "name": "stdout",
          "text": [
            "[0 0]\n"
          ]
        },
        {
          "output_type": "stream",
          "name": "stderr",
          "text": [
            "image 1/1 /content/drive/MyDrive/Trabajo_final_VIU/YOLOV8/Dataset/test/images/imagen869-6.jpg: 640x608 2 ['Osteophytos']s, 7.3ms\n",
            "Speed: 1.8ms preprocess, 7.3ms inference, 1.5ms postprocess per image at shape (1, 3, 640, 608)\n",
            "\n"
          ]
        },
        {
          "output_type": "stream",
          "name": "stdout",
          "text": [
            "[0 0]\n"
          ]
        },
        {
          "output_type": "stream",
          "name": "stderr",
          "text": [
            "image 1/1 /content/drive/MyDrive/Trabajo_final_VIU/YOLOV8/Dataset/test/images/imagen87-4.jpg: 640x576 3 ['Osteophytos']s, 9.8ms\n",
            "Speed: 1.8ms preprocess, 9.8ms inference, 1.6ms postprocess per image at shape (1, 3, 640, 576)\n",
            "\n"
          ]
        },
        {
          "output_type": "stream",
          "name": "stdout",
          "text": [
            "[0 0 0]\n"
          ]
        },
        {
          "output_type": "stream",
          "name": "stderr",
          "text": [
            "image 1/1 /content/drive/MyDrive/Trabajo_final_VIU/YOLOV8/Dataset/test/images/imagen87-5.jpg: 640x640 (no detections), 14.8ms\n",
            "Speed: 1.8ms preprocess, 14.8ms inference, 0.9ms postprocess per image at shape (1, 3, 640, 640)\n",
            "\n"
          ]
        },
        {
          "output_type": "stream",
          "name": "stdout",
          "text": [
            "[]\n"
          ]
        },
        {
          "output_type": "stream",
          "name": "stderr",
          "text": [
            "image 1/1 /content/drive/MyDrive/Trabajo_final_VIU/YOLOV8/Dataset/test/images/imagen87-6.jpg: 640x576 1 ['Osteophytos'], 8.1ms\n",
            "Speed: 1.6ms preprocess, 8.1ms inference, 1.3ms postprocess per image at shape (1, 3, 640, 576)\n",
            "\n"
          ]
        },
        {
          "output_type": "stream",
          "name": "stdout",
          "text": [
            "[0]\n"
          ]
        },
        {
          "output_type": "stream",
          "name": "stderr",
          "text": [
            "image 1/1 /content/drive/MyDrive/Trabajo_final_VIU/YOLOV8/Dataset/test/images/imagen870-11.jpg: 640x640 2 ['Osteophytos']s, 8.1ms\n",
            "Speed: 1.6ms preprocess, 8.1ms inference, 1.2ms postprocess per image at shape (1, 3, 640, 640)\n",
            "\n"
          ]
        },
        {
          "output_type": "stream",
          "name": "stdout",
          "text": [
            "[0 0]\n"
          ]
        },
        {
          "output_type": "stream",
          "name": "stderr",
          "text": [
            "image 1/1 /content/drive/MyDrive/Trabajo_final_VIU/YOLOV8/Dataset/test/images/imagen870-8.jpg: 640x640 (no detections), 7.4ms\n",
            "Speed: 1.7ms preprocess, 7.4ms inference, 0.8ms postprocess per image at shape (1, 3, 640, 640)\n",
            "\n"
          ]
        },
        {
          "output_type": "stream",
          "name": "stdout",
          "text": [
            "[]\n"
          ]
        },
        {
          "output_type": "stream",
          "name": "stderr",
          "text": [
            "image 1/1 /content/drive/MyDrive/Trabajo_final_VIU/YOLOV8/Dataset/test/images/imagen871-3.jpg: 640x640 4 ['Osteophytos']s, 7.4ms\n",
            "Speed: 1.6ms preprocess, 7.4ms inference, 1.4ms postprocess per image at shape (1, 3, 640, 640)\n",
            "\n"
          ]
        },
        {
          "output_type": "stream",
          "name": "stdout",
          "text": [
            "[0 0 0 0]\n"
          ]
        },
        {
          "output_type": "stream",
          "name": "stderr",
          "text": [
            "image 1/1 /content/drive/MyDrive/Trabajo_final_VIU/YOLOV8/Dataset/test/images/imagen872-1.jpg: 608x640 1 ['Osteophytos'], 8.3ms\n",
            "Speed: 1.6ms preprocess, 8.3ms inference, 1.3ms postprocess per image at shape (1, 3, 608, 640)\n",
            "\n"
          ]
        },
        {
          "output_type": "stream",
          "name": "stdout",
          "text": [
            "[0]\n"
          ]
        },
        {
          "output_type": "stream",
          "name": "stderr",
          "text": [
            "image 1/1 /content/drive/MyDrive/Trabajo_final_VIU/YOLOV8/Dataset/test/images/imagen872-3.jpg: 640x640 (no detections), 8.1ms\n",
            "Speed: 1.7ms preprocess, 8.1ms inference, 0.7ms postprocess per image at shape (1, 3, 640, 640)\n",
            "\n"
          ]
        },
        {
          "output_type": "stream",
          "name": "stdout",
          "text": [
            "[]\n"
          ]
        },
        {
          "output_type": "stream",
          "name": "stderr",
          "text": [
            "image 1/1 /content/drive/MyDrive/Trabajo_final_VIU/YOLOV8/Dataset/test/images/imagen874-4.jpg: 640x512 1 ['Osteophytos'], 7.1ms\n",
            "Speed: 1.4ms preprocess, 7.1ms inference, 1.2ms postprocess per image at shape (1, 3, 640, 512)\n",
            "\n"
          ]
        },
        {
          "output_type": "stream",
          "name": "stdout",
          "text": [
            "[0]\n"
          ]
        },
        {
          "output_type": "stream",
          "name": "stderr",
          "text": [
            "image 1/1 /content/drive/MyDrive/Trabajo_final_VIU/YOLOV8/Dataset/test/images/imagen874-6.jpg: 640x576 3 ['Osteophytos']s, 7.9ms\n",
            "Speed: 2.4ms preprocess, 7.9ms inference, 1.4ms postprocess per image at shape (1, 3, 640, 576)\n",
            "\n"
          ]
        },
        {
          "output_type": "stream",
          "name": "stdout",
          "text": [
            "[0 0 0]\n"
          ]
        },
        {
          "output_type": "stream",
          "name": "stderr",
          "text": [
            "image 1/1 /content/drive/MyDrive/Trabajo_final_VIU/YOLOV8/Dataset/test/images/imagen874-8.jpg: 640x512 (no detections), 7.1ms\n",
            "Speed: 1.5ms preprocess, 7.1ms inference, 0.7ms postprocess per image at shape (1, 3, 640, 512)\n",
            "\n"
          ]
        },
        {
          "output_type": "stream",
          "name": "stdout",
          "text": [
            "[]\n"
          ]
        },
        {
          "output_type": "stream",
          "name": "stderr",
          "text": [
            "image 1/1 /content/drive/MyDrive/Trabajo_final_VIU/YOLOV8/Dataset/test/images/imagen876-4.jpg: 640x512 1 ['Osteophytos'], 6.6ms\n",
            "Speed: 1.6ms preprocess, 6.6ms inference, 1.3ms postprocess per image at shape (1, 3, 640, 512)\n",
            "\n"
          ]
        },
        {
          "output_type": "stream",
          "name": "stdout",
          "text": [
            "[0]\n"
          ]
        },
        {
          "output_type": "stream",
          "name": "stderr",
          "text": [
            "image 1/1 /content/drive/MyDrive/Trabajo_final_VIU/YOLOV8/Dataset/test/images/imagen876-6.jpg: 640x544 3 ['Osteophytos']s, 7.8ms\n",
            "Speed: 2.5ms preprocess, 7.8ms inference, 1.3ms postprocess per image at shape (1, 3, 640, 544)\n",
            "\n"
          ]
        },
        {
          "output_type": "stream",
          "name": "stdout",
          "text": [
            "[0 0 0]\n"
          ]
        },
        {
          "output_type": "stream",
          "name": "stderr",
          "text": [
            "image 1/1 /content/drive/MyDrive/Trabajo_final_VIU/YOLOV8/Dataset/test/images/imagen876-8.jpg: 640x512 (no detections), 8.7ms\n",
            "Speed: 1.7ms preprocess, 8.7ms inference, 0.9ms postprocess per image at shape (1, 3, 640, 512)\n",
            "\n"
          ]
        },
        {
          "output_type": "stream",
          "name": "stdout",
          "text": [
            "[]\n"
          ]
        },
        {
          "output_type": "stream",
          "name": "stderr",
          "text": [
            "image 1/1 /content/drive/MyDrive/Trabajo_final_VIU/YOLOV8/Dataset/test/images/imagen877-4.jpg: 640x544 1 ['Osteophytos'], 9.5ms\n",
            "Speed: 1.9ms preprocess, 9.5ms inference, 1.6ms postprocess per image at shape (1, 3, 640, 544)\n",
            "\n"
          ]
        },
        {
          "output_type": "stream",
          "name": "stdout",
          "text": [
            "[0]\n"
          ]
        },
        {
          "output_type": "stream",
          "name": "stderr",
          "text": [
            "image 1/1 /content/drive/MyDrive/Trabajo_final_VIU/YOLOV8/Dataset/test/images/imagen88-4.jpg: 640x640 3 ['Osteophytos']s, 15.0ms\n",
            "Speed: 4.0ms preprocess, 15.0ms inference, 1.6ms postprocess per image at shape (1, 3, 640, 640)\n",
            "\n"
          ]
        },
        {
          "output_type": "stream",
          "name": "stdout",
          "text": [
            "[0 0 0]\n"
          ]
        },
        {
          "output_type": "stream",
          "name": "stderr",
          "text": [
            "image 1/1 /content/drive/MyDrive/Trabajo_final_VIU/YOLOV8/Dataset/test/images/imagen89-6.jpg: 640x544 3 ['Osteophytos']s, 7.9ms\n",
            "Speed: 2.4ms preprocess, 7.9ms inference, 1.3ms postprocess per image at shape (1, 3, 640, 544)\n",
            "\n"
          ]
        },
        {
          "output_type": "stream",
          "name": "stdout",
          "text": [
            "[0 0 0]\n"
          ]
        },
        {
          "output_type": "stream",
          "name": "stderr",
          "text": [
            "image 1/1 /content/drive/MyDrive/Trabajo_final_VIU/YOLOV8/Dataset/test/images/imagen89-8.jpg: 640x544 (no detections), 7.2ms\n",
            "Speed: 1.5ms preprocess, 7.2ms inference, 0.7ms postprocess per image at shape (1, 3, 640, 544)\n",
            "\n"
          ]
        },
        {
          "output_type": "stream",
          "name": "stdout",
          "text": [
            "[]\n"
          ]
        },
        {
          "output_type": "stream",
          "name": "stderr",
          "text": [
            "image 1/1 /content/drive/MyDrive/Trabajo_final_VIU/YOLOV8/Dataset/test/images/imagen9-3.jpg: 640x640 1 ['Osteophytos'], 8.1ms\n",
            "Speed: 1.6ms preprocess, 8.1ms inference, 1.4ms postprocess per image at shape (1, 3, 640, 640)\n",
            "\n"
          ]
        },
        {
          "output_type": "stream",
          "name": "stdout",
          "text": [
            "[0]\n"
          ]
        },
        {
          "output_type": "stream",
          "name": "stderr",
          "text": [
            "image 1/1 /content/drive/MyDrive/Trabajo_final_VIU/YOLOV8/Dataset/test/images/imagen90-10.jpg: 640x640 2 ['Osteophytos']s, 8.3ms\n",
            "Speed: 1.9ms preprocess, 8.3ms inference, 1.5ms postprocess per image at shape (1, 3, 640, 640)\n",
            "\n"
          ]
        },
        {
          "output_type": "stream",
          "name": "stdout",
          "text": [
            "[0 0]\n"
          ]
        },
        {
          "output_type": "stream",
          "name": "stderr",
          "text": [
            "image 1/1 /content/drive/MyDrive/Trabajo_final_VIU/YOLOV8/Dataset/test/images/imagen91-5.jpg: 640x640 (no detections), 7.8ms\n",
            "Speed: 1.7ms preprocess, 7.8ms inference, 0.9ms postprocess per image at shape (1, 3, 640, 640)\n",
            "\n"
          ]
        },
        {
          "output_type": "stream",
          "name": "stdout",
          "text": [
            "[]\n"
          ]
        },
        {
          "output_type": "stream",
          "name": "stderr",
          "text": [
            "image 1/1 /content/drive/MyDrive/Trabajo_final_VIU/YOLOV8/Dataset/test/images/imagen92-4.jpg: 640x544 1 ['Osteophytos'], 8.4ms\n",
            "Speed: 1.4ms preprocess, 8.4ms inference, 1.8ms postprocess per image at shape (1, 3, 640, 544)\n",
            "\n"
          ]
        },
        {
          "output_type": "stream",
          "name": "stdout",
          "text": [
            "[0]\n"
          ]
        },
        {
          "output_type": "stream",
          "name": "stderr",
          "text": [
            "image 1/1 /content/drive/MyDrive/Trabajo_final_VIU/YOLOV8/Dataset/test/images/imagen93-4.jpg: 640x288 4 ['Osteophytos']s, 7.1ms\n",
            "Speed: 1.0ms preprocess, 7.1ms inference, 1.4ms postprocess per image at shape (1, 3, 640, 288)\n",
            "\n"
          ]
        },
        {
          "output_type": "stream",
          "name": "stdout",
          "text": [
            "[0 0 0 0]\n"
          ]
        },
        {
          "output_type": "stream",
          "name": "stderr",
          "text": [
            "image 1/1 /content/drive/MyDrive/Trabajo_final_VIU/YOLOV8/Dataset/test/images/imagen93-6.jpg: 640x288 1 ['Osteophytos'], 7.0ms\n",
            "Speed: 1.2ms preprocess, 7.0ms inference, 1.3ms postprocess per image at shape (1, 3, 640, 288)\n",
            "\n"
          ]
        },
        {
          "output_type": "stream",
          "name": "stdout",
          "text": [
            "[0]\n"
          ]
        },
        {
          "output_type": "stream",
          "name": "stderr",
          "text": [
            "image 1/1 /content/drive/MyDrive/Trabajo_final_VIU/YOLOV8/Dataset/test/images/imagen94-3.jpg: 640x640 3 ['Osteophytos']s, 8.2ms\n",
            "Speed: 1.9ms preprocess, 8.2ms inference, 1.4ms postprocess per image at shape (1, 3, 640, 640)\n",
            "\n"
          ]
        },
        {
          "output_type": "stream",
          "name": "stdout",
          "text": [
            "[0 0 0]\n"
          ]
        },
        {
          "output_type": "stream",
          "name": "stderr",
          "text": [
            "image 1/1 /content/drive/MyDrive/Trabajo_final_VIU/YOLOV8/Dataset/test/images/imagen94-4.jpg: 640x544 3 ['Osteophytos']s, 7.9ms\n",
            "Speed: 1.5ms preprocess, 7.9ms inference, 1.4ms postprocess per image at shape (1, 3, 640, 544)\n",
            "\n"
          ]
        },
        {
          "output_type": "stream",
          "name": "stdout",
          "text": [
            "[0 0 0]\n"
          ]
        },
        {
          "output_type": "stream",
          "name": "stderr",
          "text": [
            "image 1/1 /content/drive/MyDrive/Trabajo_final_VIU/YOLOV8/Dataset/test/images/imagen94-5.jpg: 640x640 2 ['Osteophytos']s, 8.4ms\n",
            "Speed: 1.6ms preprocess, 8.4ms inference, 1.3ms postprocess per image at shape (1, 3, 640, 640)\n",
            "\n"
          ]
        },
        {
          "output_type": "stream",
          "name": "stdout",
          "text": [
            "[0 0]\n"
          ]
        },
        {
          "output_type": "stream",
          "name": "stderr",
          "text": [
            "image 1/1 /content/drive/MyDrive/Trabajo_final_VIU/YOLOV8/Dataset/test/images/imagen94-6.jpg: 640x544 2 ['Osteophytos']s, 9.5ms\n",
            "Speed: 1.8ms preprocess, 9.5ms inference, 1.3ms postprocess per image at shape (1, 3, 640, 544)\n",
            "\n"
          ]
        },
        {
          "output_type": "stream",
          "name": "stdout",
          "text": [
            "[0 0]\n"
          ]
        },
        {
          "output_type": "stream",
          "name": "stderr",
          "text": [
            "image 1/1 /content/drive/MyDrive/Trabajo_final_VIU/YOLOV8/Dataset/test/images/imagen95-10.jpg: 640x640 1 ['Osteophytos'], 9.1ms\n",
            "Speed: 1.8ms preprocess, 9.1ms inference, 6.7ms postprocess per image at shape (1, 3, 640, 640)\n",
            "\n"
          ]
        },
        {
          "output_type": "stream",
          "name": "stdout",
          "text": [
            "[0]\n"
          ]
        },
        {
          "output_type": "stream",
          "name": "stderr",
          "text": [
            "image 1/1 /content/drive/MyDrive/Trabajo_final_VIU/YOLOV8/Dataset/test/images/imagen96-10.jpg: 640x640 1 ['Osteophytos'], 12.1ms\n",
            "Speed: 4.9ms preprocess, 12.1ms inference, 4.8ms postprocess per image at shape (1, 3, 640, 640)\n",
            "\n"
          ]
        },
        {
          "output_type": "stream",
          "name": "stdout",
          "text": [
            "[0]\n"
          ]
        },
        {
          "output_type": "stream",
          "name": "stderr",
          "text": [
            "image 1/1 /content/drive/MyDrive/Trabajo_final_VIU/YOLOV8/Dataset/test/images/imagen97-6.jpg: 640x640 (no detections), 7.4ms\n",
            "Speed: 1.8ms preprocess, 7.4ms inference, 0.8ms postprocess per image at shape (1, 3, 640, 640)\n",
            "\n"
          ]
        },
        {
          "output_type": "stream",
          "name": "stdout",
          "text": [
            "[]\n"
          ]
        },
        {
          "output_type": "stream",
          "name": "stderr",
          "text": [
            "image 1/1 /content/drive/MyDrive/Trabajo_final_VIU/YOLOV8/Dataset/test/images/imagen98-10.jpg: 640x640 3 ['Osteophytos']s, 7.4ms\n",
            "Speed: 1.6ms preprocess, 7.4ms inference, 1.5ms postprocess per image at shape (1, 3, 640, 640)\n",
            "\n"
          ]
        },
        {
          "output_type": "stream",
          "name": "stdout",
          "text": [
            "[0 0 0]\n"
          ]
        },
        {
          "output_type": "stream",
          "name": "stderr",
          "text": [
            "image 1/1 /content/drive/MyDrive/Trabajo_final_VIU/YOLOV8/Dataset/test/images/imagen98-11.jpg: 640x640 2 ['Osteophytos']s, 7.4ms\n",
            "Speed: 1.6ms preprocess, 7.4ms inference, 1.5ms postprocess per image at shape (1, 3, 640, 640)\n",
            "\n"
          ]
        },
        {
          "output_type": "stream",
          "name": "stdout",
          "text": [
            "[0 0]\n"
          ]
        },
        {
          "output_type": "stream",
          "name": "stderr",
          "text": [
            "image 1/1 /content/drive/MyDrive/Trabajo_final_VIU/YOLOV8/Dataset/test/images/imagen98-14.jpg: 640x640 2 ['Osteophytos']s, 7.5ms\n",
            "Speed: 1.5ms preprocess, 7.5ms inference, 1.6ms postprocess per image at shape (1, 3, 640, 640)\n",
            "\n"
          ]
        },
        {
          "output_type": "stream",
          "name": "stdout",
          "text": [
            "[0 0]\n"
          ]
        },
        {
          "output_type": "stream",
          "name": "stderr",
          "text": [
            "image 1/1 /content/drive/MyDrive/Trabajo_final_VIU/YOLOV8/Dataset/test/images/imagen98-15.jpg: 640x640 1 ['Osteophytos'], 7.6ms\n",
            "Speed: 1.7ms preprocess, 7.6ms inference, 1.5ms postprocess per image at shape (1, 3, 640, 640)\n",
            "\n"
          ]
        },
        {
          "output_type": "stream",
          "name": "stdout",
          "text": [
            "[0]\n"
          ]
        },
        {
          "output_type": "stream",
          "name": "stderr",
          "text": [
            "image 1/1 /content/drive/MyDrive/Trabajo_final_VIU/YOLOV8/Dataset/test/images/imagen99-6.jpg: 640x416 2 ['Osteophytos']s, 7.1ms\n",
            "Speed: 1.3ms preprocess, 7.1ms inference, 1.3ms postprocess per image at shape (1, 3, 640, 416)\n",
            "\n"
          ]
        },
        {
          "output_type": "stream",
          "name": "stdout",
          "text": [
            "[0 0]\n"
          ]
        },
        {
          "output_type": "stream",
          "name": "stderr",
          "text": [
            "image 1/1 /content/drive/MyDrive/Trabajo_final_VIU/YOLOV8/Dataset/test/images/imagen99-8.jpg: 640x416 1 ['Osteophytos'], 6.5ms\n",
            "Speed: 1.3ms preprocess, 6.5ms inference, 1.3ms postprocess per image at shape (1, 3, 640, 416)\n"
          ]
        },
        {
          "output_type": "stream",
          "name": "stdout",
          "text": [
            "[0]\n"
          ]
        }
      ]
    }
  ],
  "metadata": {
    "accelerator": "GPU",
    "colab": {
      "machine_shape": "hm",
      "provenance": [],
      "gpuType": "T4",
      "gpuClass": "premium"
    },
    "gpuClass": "premium",
    "kernelspec": {
      "display_name": "Python 3",
      "name": "python3"
    }
  },
  "nbformat": 4,
  "nbformat_minor": 0
}